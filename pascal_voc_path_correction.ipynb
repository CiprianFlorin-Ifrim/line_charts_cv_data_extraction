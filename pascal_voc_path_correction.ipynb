{
 "cells": [
  {
   "cell_type": "code",
   "execution_count": 6,
   "id": "6388cc21",
   "metadata": {},
   "outputs": [],
   "source": [
    "import os\n",
    "import xml.etree.ElementTree as ET\n",
    "\n",
    "def process_xml(file_path):\n",
    "    # Parse the XML file\n",
    "    tree = ET.parse(file_path)\n",
    "    root = tree.getroot()\n",
    "\n",
    "    # Find the filename and path elements\n",
    "    filename_element = root.find('filename')\n",
    "    path_element = root.find('path')\n",
    "\n",
    "    # Check if the extension is png and replace with jpg\n",
    "    if filename_element is not None and filename_element.text.endswith('.png'):\n",
    "        filename_element.text = filename_element.text.replace('.png', '.jpg')\n",
    "\n",
    "    if path_element is not None and path_element.text.endswith('.png'):\n",
    "        path_element.text = path_element.text.replace('.png', '.jpg')\n",
    "\n",
    "    # Save the changes back to the XML file\n",
    "    tree.write(file_path)\n",
    "\n",
    "# Path to the directory containing the XML files\n",
    "dir_path = 'pascal_voc_datasets/VOCdevkit/PlotsEnchanced_NoAugmentation/backup'\n",
    "\n",
    "# Process all XML files in the directory\n",
    "for file in os.listdir(dir_path):\n",
    "    if file.endswith('.xml'):\n",
    "        full_path = os.path.join(dir_path, file)\n",
    "        process_xml(full_path)"
   ]
  }
 ],
 "metadata": {
  "kernelspec": {
   "display_name": "Python 3 (ipykernel)",
   "language": "python",
   "name": "python3"
  },
  "language_info": {
   "codemirror_mode": {
    "name": "ipython",
    "version": 3
   },
   "file_extension": ".py",
   "mimetype": "text/x-python",
   "name": "python",
   "nbconvert_exporter": "python",
   "pygments_lexer": "ipython3",
   "version": "3.10.9"
  }
 },
 "nbformat": 4,
 "nbformat_minor": 5
}
