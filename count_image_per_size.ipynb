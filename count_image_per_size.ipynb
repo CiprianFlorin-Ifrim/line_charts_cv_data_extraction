{
 "cells": [
  {
   "cell_type": "code",
   "execution_count": 2,
   "id": "dc34e819",
   "metadata": {},
   "outputs": [
    {
     "name": "stderr",
     "output_type": "stream",
     "text": [
      "C:\\Users\\Ciprian-Florin Ifrim\\AppData\\Local\\Temp\\ipykernel_32428\\1981071087.py:9: DeprecationWarning: Importing display from IPython.core.display is deprecated since IPython 7.14, please import from IPython display\n",
      "  from IPython.core.display import display, HTML\n"
     ]
    },
    {
     "data": {
      "text/html": [
       "<style>.container { width:100% !important; }</style>"
      ],
      "text/plain": [
       "<IPython.core.display.HTML object>"
      ]
     },
     "metadata": {},
     "output_type": "display_data"
    }
   ],
   "source": [
    "import os\n",
    "from PIL import Image\n",
    "from collections import defaultdict\n",
    "from tqdm import tqdm\n",
    "from joblib import Parallel, delayed\n",
    "from collections import Counter\n",
    "\n",
    "#-------------------------------------------------------------------------------------JUPYTER NOTEBOOK SETTINGS-------------------------------------------------------------------------------------\n",
    "from IPython.core.display import display, HTML                                    \n",
    "display(HTML(\"<style>.container { width:100% !important; }</style>\"))     "
   ]
  },
  {
   "cell_type": "code",
   "execution_count": 7,
   "id": "a7a78b62",
   "metadata": {},
   "outputs": [
    {
     "name": "stderr",
     "output_type": "stream",
     "text": [
      "Processing images: 100%|██████████████████████████████████████████████████████| 1344/1344 [00:01<00:00, 1108.20image/s]\n"
     ]
    },
    {
     "name": "stdout",
     "output_type": "stream",
     "text": [
      "Size: (832, 807), Count: 786\n",
      "Size: (832, 798), Count: 480\n",
      "Size: (832, 806), Count: 18\n",
      "Size: (832, 805), Count: 18\n",
      "Size: (832, 797), Count: 6\n",
      "Size: (832, 614), Count: 6\n",
      "Size: (832, 747), Count: 18\n",
      "Size: (832, 800), Count: 6\n",
      "Size: (832, 802), Count: 6\n"
     ]
    }
   ],
   "source": [
    "# Path to your image directory\n",
    "#image_dir = '/absolute/path/to/your/images'  # Unix-based systems\n",
    "image_dir = 'picture_backups/sample_plots_original/coindesk.com' \n",
    "\n",
    "def process_image(image_file):\n",
    "    size_count = Counter()\n",
    "    # Open the image file\n",
    "    with Image.open(image_file) as img:\n",
    "        # Increase the count for this size\n",
    "        size_count[img.size] += 1\n",
    "    return size_count\n",
    "\n",
    "# Get a list of all image file paths\n",
    "image_files = [os.path.join(image_dir, file) for file in os.listdir(image_dir) if file.endswith(('.png', '.jpg', '.jpeg'))]\n",
    "\n",
    "# Process all images in parallel\n",
    "results = Parallel(n_jobs=-1)(delayed(process_image)(image_file) for image_file in tqdm(image_files, desc=\"Processing images\", unit=\"image\"))\n",
    "\n",
    "# Combine all dictionaries into one\n",
    "size_counts = sum(results, Counter())\n",
    "\n",
    "# Print the results\n",
    "for size, count in size_counts.items():\n",
    "    print(f'Size: {size}, Count: {count}')"
   ]
  }
 ],
 "metadata": {
  "kernelspec": {
   "display_name": "pytorch-cude-env",
   "language": "python",
   "name": "pytorch-cude-env"
  },
  "language_info": {
   "codemirror_mode": {
    "name": "ipython",
    "version": 3
   },
   "file_extension": ".py",
   "mimetype": "text/x-python",
   "name": "python",
   "nbconvert_exporter": "python",
   "pygments_lexer": "ipython3",
   "version": "3.11.4"
  }
 },
 "nbformat": 4,
 "nbformat_minor": 5
}
