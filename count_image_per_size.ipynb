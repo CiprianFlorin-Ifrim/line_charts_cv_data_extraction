{
 "cells": [
  {
   "cell_type": "code",
   "execution_count": 9,
   "id": "dc34e819",
   "metadata": {},
   "outputs": [
    {
     "name": "stderr",
     "output_type": "stream",
     "text": [
      "C:\\Users\\Ciprian-Florin Ifrim\\AppData\\Local\\Temp\\ipykernel_18968\\1981071087.py:9: DeprecationWarning: Importing display from IPython.core.display is deprecated since IPython 7.14, please import from IPython display\n",
      "  from IPython.core.display import display, HTML\n"
     ]
    },
    {
     "data": {
      "text/html": [
       "<style>.container { width:100% !important; }</style>"
      ],
      "text/plain": [
       "<IPython.core.display.HTML object>"
      ]
     },
     "metadata": {},
     "output_type": "display_data"
    }
   ],
   "source": [
    "import os\n",
    "from PIL import Image\n",
    "from collections import defaultdict\n",
    "from tqdm import tqdm\n",
    "from joblib import Parallel, delayed\n",
    "from collections import Counter\n",
    "\n",
    "#-------------------------------------------------------------------------------------JUPYTER NOTEBOOK SETTINGS-------------------------------------------------------------------------------------\n",
    "from IPython.core.display import display, HTML                                    \n",
    "display(HTML(\"<style>.container { width:100% !important; }</style>\"))     "
   ]
  },
  {
   "cell_type": "code",
   "execution_count": 10,
   "id": "a7a78b62",
   "metadata": {},
   "outputs": [
    {
     "name": "stderr",
     "output_type": "stream",
     "text": [
      "\n",
      "Processing images:   0%|                                                                            | 0/144888 [00:00<?, ?image/s]\u001b[A\n",
      "Processing images:   0%|                                                                  | 32/144888 [00:00<07:38, 316.09image/s]\u001b[A\n",
      "Processing images:   0%|                                                                   | 64/144888 [00:00<41:54, 57.60image/s]\u001b[A\n",
      "Processing images:   0%|▏                                                                | 544/144888 [00:01<03:32, 679.58image/s]\u001b[A\n",
      "Processing images:   6%|███▌                                                          | 8224/144888 [00:01<00:10, 12452.37image/s]\u001b[A\n",
      "Processing images:  11%|██████▉                                                      | 16416/144888 [00:01<00:05, 24410.60image/s]\u001b[A\n",
      "Processing images:  29%|█████████████████▉                                           | 42478/144888 [00:01<00:01, 71929.21image/s]\u001b[A\n",
      "Processing images:  45%|███████████████████████████▏                                | 65568/144888 [00:01<00:00, 103249.34image/s]\u001b[A\n",
      "Processing images:  55%|█████████████████████████████████                           | 79850/144888 [00:01<00:00, 109946.52image/s]\u001b[A\n",
      "Processing images:  74%|███████████████████████████████████████████▋               | 107316/144888 [00:01<00:00, 150251.39image/s]\u001b[A\n",
      "Processing images: 100%|████████████████████████████████████████████████████████████| 144888/144888 [00:01<00:00, 73737.94image/s]\u001b[A\n"
     ]
    },
    {
     "name": "stdout",
     "output_type": "stream",
     "text": [
      "Size: (783, 575), Count: 7300\n",
      "Size: (783, 599), Count: 1465\n",
      "Size: (964, 737), Count: 113574\n",
      "Size: (964, 794), Count: 8298\n",
      "Size: (964, 767), Count: 1241\n",
      "Size: (783, 527), Count: 393\n",
      "Size: (964, 797), Count: 8\n",
      "Size: (783, 651), Count: 35\n",
      "Size: (783, 555), Count: 50\n",
      "Size: (783, 675), Count: 60\n",
      "Size: (783, 603), Count: 115\n",
      "Size: (783, 635), Count: 44\n",
      "Size: (1429, 909), Count: 10839\n",
      "Size: (1622, 909), Count: 5\n",
      "Size: (783, 663), Count: 32\n",
      "Size: (783, 711), Count: 54\n",
      "Size: (832, 807), Count: 786\n",
      "Size: (832, 798), Count: 480\n",
      "Size: (832, 806), Count: 18\n",
      "Size: (832, 805), Count: 18\n",
      "Size: (832, 797), Count: 6\n",
      "Size: (832, 800), Count: 6\n",
      "Size: (832, 802), Count: 6\n",
      "Size: (783, 627), Count: 35\n",
      "Size: (783, 715), Count: 10\n",
      "Size: (783, 791), Count: 5\n",
      "Size: (783, 731), Count: 5\n"
     ]
    }
   ],
   "source": [
    "# Path to your image directory\n",
    "#image_dir = '/absolute/path/to/your/images'  # Unix-based systems\n",
    "image_dir = 'pascal_voc_datasets\\VOCdevkit\\PlotsEnchanced_NoAugmentation\\JPEGImages' \n",
    "\n",
    "def process_image(image_file):\n",
    "    size_count = Counter()\n",
    "    # Open the image file\n",
    "    with Image.open(image_file) as img:\n",
    "        # Increase the count for this size\n",
    "        size_count[img.size] += 1\n",
    "    return size_count\n",
    "\n",
    "# Get a list of all image file paths\n",
    "image_files = [os.path.join(image_dir, file) for file in os.listdir(image_dir) if file.endswith(('.png', '.jpg', '.jpeg'))]\n",
    "\n",
    "# Process all images in parallel\n",
    "results = Parallel(n_jobs=-1)(delayed(process_image)(image_file) for image_file in tqdm(image_files, desc=\"Processing images\", unit=\"image\"))\n",
    "\n",
    "# Combine all dictionaries into one\n",
    "size_counts = sum(results, Counter())\n",
    "\n",
    "# Print the results\n",
    "for size, count in size_counts.items():\n",
    "    print(f'Size: {size}, Count: {count}')"
   ]
  }
 ],
 "metadata": {
  "kernelspec": {
   "display_name": "pytorch-cude-env",
   "language": "python",
   "name": "pytorch-cude-env"
  },
  "language_info": {
   "codemirror_mode": {
    "name": "ipython",
    "version": 3
   },
   "file_extension": ".py",
   "mimetype": "text/x-python",
   "name": "python",
   "nbconvert_exporter": "python",
   "pygments_lexer": "ipython3",
   "version": "3.11.4"
  }
 },
 "nbformat": 4,
 "nbformat_minor": 5
}
