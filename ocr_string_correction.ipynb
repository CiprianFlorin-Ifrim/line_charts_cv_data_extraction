{
 "cells": [
  {
   "cell_type": "code",
   "execution_count": 26,
   "id": "be9a6ba7",
   "metadata": {},
   "outputs": [
    {
     "name": "stdout",
     "output_type": "stream",
     "text": [
      "([0.025, 0.02, 0.0151, 0.01, 0.005], set())\n"
     ]
    }
   ],
   "source": [
    "import re\n",
    "\n",
    "def correct_misidentifications(text):\n",
    "    corrections = {\n",
    "        'O': '0',\n",
    "        'G': '6',\n",
    "        'B': '8',\n",
    "        'I': '1',\n",
    "        'S': '5',\n",
    "        'Z': '2',\n",
    "        'Q': '0',\n",
    "        'T': '7',\n",
    "        'L': '1',\n",
    "        'A': '4'\n",
    "    }\n",
    "\n",
    "    corrected_text = text\n",
    "    for char, replacement in corrections.items():\n",
    "        corrected_text = corrected_text.replace(char, replacement)\n",
    "\n",
    "    corrected_text = re.sub(r'[^\\d.e-]+', '', corrected_text)  # Keep only numeric characters, decimal points, 'e', and '-'\n",
    "    return corrected_text\n",
    "\n",
    "def process_ocr_string(y_axis):\n",
    "    values = y_axis.split(',')\n",
    "    corrected_values = []\n",
    "    removed_indices = []\n",
    "\n",
    "    for index, value in enumerate(values):\n",
    "        # If the value contains a space not at the beginning or end, replace with a decimal point\n",
    "        value = re.sub(r'(?<=\\S) (?=\\S)', '.', value)\n",
    "\n",
    "        # If the value contains both digits and characters\n",
    "        if re.search(r'\\d', value) and re.search(r'[a-zA-Z]', value):\n",
    "            corrected_value = correct_misidentifications(value)\n",
    "        else:\n",
    "            corrected_value = value\n",
    "\n",
    "        # If the corrected value is still a valid float, add it to the results\n",
    "        try:\n",
    "            corrected_values.append(float(correct_decimal_point(corrected_value)))\n",
    "        except ValueError:\n",
    "            removed_indices.append(index)  # Save the index of the value that was removed\n",
    "\n",
    "    return corrected_values, set(removed_indices)\n",
    "\n",
    "def correct_decimal_point(value):\n",
    "    value_str = str(value)\n",
    "\n",
    "    # Check if the value is in scientific notation\n",
    "    if 'e' in value_str or 'E' in value_str:\n",
    "        return float(value_str)\n",
    "\n",
    "    # Check if the first digit is '0' and the second character is not '.'\n",
    "    if value_str[0] == '0' and (len(value_str) == 1 or value_str[1] != '.'):\n",
    "        value_str = '0.' + value_str[1:]\n",
    "\n",
    "    # If the original value was a number, return as a float; otherwise, return as a string\n",
    "    if isinstance(value, (int, float)):\n",
    "        return float(value_str)\n",
    "    return value_str\n",
    "\n",
    "    \n",
    "string = \"0.025,0.02,0.0151,0.01,0.005\"\n",
    "string = process_ocr_string(string)\n",
    "print(string)\n"
   ]
  }
 ],
 "metadata": {
  "kernelspec": {
   "display_name": "pytorch-cude-env",
   "language": "python",
   "name": "pytorch-cude-env"
  },
  "language_info": {
   "codemirror_mode": {
    "name": "ipython",
    "version": 3
   },
   "file_extension": ".py",
   "mimetype": "text/x-python",
   "name": "python",
   "nbconvert_exporter": "python",
   "pygments_lexer": "ipython3",
   "version": "3.11.4"
  }
 },
 "nbformat": 4,
 "nbformat_minor": 5
}
