{
 "cells": [
  {
   "cell_type": "code",
   "execution_count": 1,
   "id": "bee76e2b",
   "metadata": {},
   "outputs": [],
   "source": [
    "# https://discuss.pytorch.org/t/how-can-a-rcnn-manage-inputs-of-different-sizes/109262"
   ]
  },
  {
   "cell_type": "code",
   "execution_count": 7,
   "id": "0bd054be",
   "metadata": {},
   "outputs": [
    {
     "name": "stderr",
     "output_type": "stream",
     "text": [
      "C:\\Users\\Ciprian-Florin Ifrim\\AppData\\Local\\Temp\\ipykernel_21536\\4275028936.py:6: DeprecationWarning: Importing display from IPython.core.display is deprecated since IPython 7.14, please import from IPython display\n",
      "  from IPython.core.display import display, HTML\n"
     ]
    },
    {
     "data": {
      "text/html": [
       "<style>.container { width:100% !important; }</style>"
      ],
      "text/plain": [
       "<IPython.core.display.HTML object>"
      ]
     },
     "metadata": {},
     "output_type": "display_data"
    }
   ],
   "source": [
    "import os\n",
    "import xml.etree.cElementTree as ET\n",
    "from tqdm import tqdm\n",
    "\n",
    "#-------------------------------------------------------------------------------------JUPYTER NOTEBOOK SETTINGS-------------------------------------------------------------------------------------\n",
    "from IPython.core.display import display, HTML                                    \n",
    "display(HTML(\"<style>.container { width:100% !important; }</style>\"))     "
   ]
  },
  {
   "cell_type": "code",
   "execution_count": 38,
   "id": "6f2fabfe",
   "metadata": {},
   "outputs": [
    {
     "name": "stderr",
     "output_type": "stream",
     "text": [
      "Creating XML files: 100%|█████████████████████████████████████████████████████████████| 60/60 [00:00<00:00, 4607.78it/s]\n"
     ]
    }
   ],
   "source": [
    "# Function to create an XML file\n",
    "def create_xml(image_path, dataset_save_path, boxes, labels):\n",
    "    annotation = ET.Element(\"annotation\")\n",
    "    ET.SubElement(annotation, \"folder\").text = os.path.dirname(image_path)\n",
    "    ET.SubElement(annotation, \"filename\").text = os.path.basename(image_path)\n",
    "    ET.SubElement(annotation, \"path\").text = image_path\n",
    "\n",
    "    size = ET.SubElement(annotation, \"size\")\n",
    "    ET.SubElement(size, \"width\").text = str(IMAGE_WIDTH)\n",
    "    ET.SubElement(size, \"height\").text = str(IMAGE_HEIGHT)\n",
    "    ET.SubElement(size, \"depth\").text = str(IMAGE_DEPTH)\n",
    "\n",
    "    for i in range(len(boxes)):\n",
    "        object = ET.SubElement(annotation, \"object\")\n",
    "        ET.SubElement(object, \"name\").text = labels[i]\n",
    "        ET.SubElement(object, \"truncated\").text = str(0)\n",
    "        ET.SubElement(object, \"difficult\").text = str(0)\n",
    "\n",
    "        bndbox = ET.SubElement(object, \"bndbox\")\n",
    "        ET.SubElement(bndbox, \"xmin\").text = str(boxes[i][0])\n",
    "        ET.SubElement(bndbox, \"ymin\").text = str(boxes[i][1])\n",
    "        ET.SubElement(bndbox, \"xmax\").text = str(boxes[i][2])\n",
    "        ET.SubElement(bndbox, \"ymax\").text = str(boxes[i][3])\n",
    "\n",
    "    tree = ET.ElementTree(annotation)\n",
    "    tree.write(dataset_save_path + os.path.splitext(os.path.basename(image_path))[0] + \".xml\")\n",
    "\n",
    "# Variables\n",
    "#boxes = [(19,131,568,156), (19,23,879,66), (80,582,931,609), (3,208,79,577), (80,208,931,577)]  # crypto.com 964x797\n",
    "#boxes = [(18,213,634,238), (15,22,762,68), (65,638,933,670), (6,263,66,639), (65,263,933,639)] # crypto.com 964x794\n",
    "#boxes = [(20,131,624,158), (20,16,827,68), (78,582,930,614), (1,209,78,580), (78,209,930,580)] # crypto.com 964x767\n",
    "#boxes = [(15,130,631,162), (20,23,859,74), (95,582,933,608), (2,211,95,579), (95,211,933,579)] # crypto.com 964x737\n",
    "#boxes = [(38,1,323,50), (1,49,416,114), (475,870,1357,902), (1366,109,1429,870), (475,109,1366,870)] # coinmarketcap.com 1429x909\n",
    "#boxes = [(34,1,689,54), (1,94,791,164), (57,788,823,807), (1,419,57,788), (57,419,824,788)] # coindesk.com 832x807\n",
    "#boxes = [(32,1,703,52), (1,94,721,164), (70,788,824,807), (1,419,57,788), (70,419,824,788)] # coindesk.com 832x806\n",
    "#boxes = [(32,1,703,52), (1,94,721,164), (70,788,824,807), (1,419,57,788), (70,419,824,788)] # coindesk.com 832x805\n",
    "#boxes = [(34,1,699,51), (1,86,691,161), (97,784,824,802), (1,410,97,784), (97,410,824,784)] # coindesk.com 832x802\n",
    "#boxes = [(34,1,705,56), (1,90,696,157), (70,778,823,798), (1,412,69,778), (69,412,824,779)] # coindesk.com 832x798\n",
    "#boxes = [(36,1,696,54), (1,87,753,156), (45,778,822,797), (1,412,44,778), (45,412,822,778)] # coindesk.com 832x797\n",
    "#boxes = [(50,15,494,99), (1,174,665,249), (1,610,725,635), (724,275,783,610), (1,275,725,610)] # binance.com volatility with warnings 783x635\n",
    "#boxes = [(51,28,499,129), (1,202,609,278), (1,638,720,663), (720,309,783,638), (1,309,720,638)] # binance.com volatility with warnings 783x663\n",
    "#boxes = [(59,6,474,90), (1,254,596,327), (1,688,712,715), (712,372,783,688), (1,372,712,688)] # binance.com with volatility warnings 783x711\n",
    "#boxes = [(62,2,619,89), (1,268,541,343), (1,705,724,731), (724,380,782,705), (1,380,724,705)] # binance.com with volatility warnings 783x731\n",
    "#boxes = [(53,80,499,212), (1,327,613,403), (1,766,729,791), (729,438,783,766), (1,438,729,766)] # binance.com with volatility warnings 783x791\n",
    "#boxes = [(54,8,499,143), (1,150,611,205), (1,578,724,603), (724,251,783,575), (1,251,724,578)] # binance.com no warnings 783x603\n",
    "#boxes = [(55,3,439,134), (1,143,247,199), (1,574,730,599), (730,253,783,574), (1,253,730,574)] # binance.com no warnings 783x599\n",
    "#boxes = [(59,1,439,107), (1,106,532,158), (1,529,720,555), (720,197,783,529), (1,197,720,529)] # binance.com no warnings 783x555\n",
    "#boxes = [(54,1,497,79), (1,79,500,126), (1,501,726,527), (726,175,783,501), (1,175,726,501)] # binance.com no warnings 783x527\n",
    "#boxes = [(52,1,652,62), (1,115,537,187), (1,551,707,575), (707,217,783,551), (1,217,707,551)] # binance.com with listing warning 783x575\n",
    "#boxes = [(171,2,753,57), (1,137,522,209), (1,570,713,596), (713,237,783,570), (1,237,713,570)] # binance.com with listing warning 783x596\n",
    "#boxes = [(54,1,728,61), (1,137,580,212), (1,573,702,599), (701,239,783,573), (1,239,701,573)] # binance.com with listing warning 783x599\n",
    "#boxes = [(58,1,769,88), (1,139,612,219), (1,579,730,603), (730,243,783,580), (1,243,730,579)] # binance.com with listing warning 783x603\n",
    "#boxes = [(56,1,728,90), (1,165,710,238), (1,603,720,627), (720,268,783,603), (1,268,720,603)] # binance.com with listing warning 783x627\n",
    "#boxes = [(55,3,727,137), (1,190,553,259), (1,625,730,651), (729,293,783,627), (1,293,729,626)] # binance.com with listing warning 783x651\n",
    "#boxes = [(55,3,727,137), (1,190,553,259), (1,625,730,651), (729,293,783,627), (1,293,729,626)] # binance.com with listing warning 783x651\n",
    "#boxes = [(50,1,761,136), (1,213,655,290), (1,650,723,675), (723,313,783,650), (1,313,723,650)] # binance.com with listing warning 783x675\n",
    "labels = [\"name\", \"value\",\"x-axis\", \"y-axis\", \"plot\"]  # Corresponding labels\n",
    "IMAGE_WIDTH  = 783 # width of your images\n",
    "IMAGE_HEIGHT = 675  # height of your images\n",
    "IMAGE_DEPTH  = 3            # for color images, depth is 3. for grayscale, depth is 1\n",
    "\n",
    "# Get a list of all your images\n",
    "image_folder = 'pascal_voc_datasets\\VOCdevkit\\PlotsEnchanced_NoAugmentation\\JPEGImages'  \n",
    "image_paths = [os.path.join(image_folder, img) for img in os.listdir(image_folder)]\n",
    "dataset_save_path = 'pascal_voc_datasets/VOCdevkit/PlotsEnchanced_NoAugmentation/Annotations/'\n",
    "\n",
    "# Create an XML file for each image\n",
    "for image_path in tqdm(image_paths, desc=\"Creating XML files\"):\n",
    "    create_xml(image_path, dataset_save_path, boxes, labels)"
   ]
  }
 ],
 "metadata": {
  "kernelspec": {
   "display_name": "Python 3 (ipykernel)",
   "language": "python",
   "name": "python3"
  },
  "language_info": {
   "codemirror_mode": {
    "name": "ipython",
    "version": 3
   },
   "file_extension": ".py",
   "mimetype": "text/x-python",
   "name": "python",
   "nbconvert_exporter": "python",
   "pygments_lexer": "ipython3",
   "version": "3.10.9"
  }
 },
 "nbformat": 4,
 "nbformat_minor": 5
}
