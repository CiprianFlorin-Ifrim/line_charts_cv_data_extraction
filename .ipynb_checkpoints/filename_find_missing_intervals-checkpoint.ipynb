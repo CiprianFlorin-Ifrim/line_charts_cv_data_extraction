{
 "cells": [
  {
   "cell_type": "code",
   "execution_count": 2,
   "id": "91e2d86b",
   "metadata": {},
   "outputs": [
    {
     "ename": "FileNotFoundError",
     "evalue": "[WinError 3] The system cannot find the path specified: 'financial_charts_cv_extraction/pascal_voc_datasets/VOCdevkit/PlotsEnchanced_NoAugmentation/Annotations'",
     "output_type": "error",
     "traceback": [
      "\u001b[1;31m---------------------------------------------------------------------------\u001b[0m",
      "\u001b[1;31mFileNotFoundError\u001b[0m                         Traceback (most recent call last)",
      "Cell \u001b[1;32mIn[2], line 25\u001b[0m\n\u001b[0;32m     23\u001b[0m \u001b[38;5;28;01mif\u001b[39;00m \u001b[38;5;18m__name__\u001b[39m \u001b[38;5;241m==\u001b[39m \u001b[38;5;124m\"\u001b[39m\u001b[38;5;124m__main__\u001b[39m\u001b[38;5;124m\"\u001b[39m:\n\u001b[0;32m     24\u001b[0m     folder_path \u001b[38;5;241m=\u001b[39m \u001b[38;5;124m\"\u001b[39m\u001b[38;5;124mfinancial_charts_cv_extraction/pascal_voc_datasets/VOCdevkit/PlotsEnchanced_NoAugmentation/Annotations\u001b[39m\u001b[38;5;124m\"\u001b[39m  \u001b[38;5;66;03m# Replace this with the actual path to your folder\u001b[39;00m\n\u001b[1;32m---> 25\u001b[0m     missing_intervals \u001b[38;5;241m=\u001b[39m \u001b[43mfind_missing_intervals\u001b[49m\u001b[43m(\u001b[49m\u001b[43mfolder_path\u001b[49m\u001b[43m)\u001b[49m\n\u001b[0;32m     27\u001b[0m     \u001b[38;5;28;01mif\u001b[39;00m missing_intervals:\n\u001b[0;32m     28\u001b[0m         \u001b[38;5;28mprint\u001b[39m(\u001b[38;5;124m\"\u001b[39m\u001b[38;5;124mMissing intervals:\u001b[39m\u001b[38;5;124m\"\u001b[39m)\n",
      "Cell \u001b[1;32mIn[2], line 9\u001b[0m, in \u001b[0;36mfind_missing_intervals\u001b[1;34m(folder_path)\u001b[0m\n\u001b[0;32m      8\u001b[0m \u001b[38;5;28;01mdef\u001b[39;00m \u001b[38;5;21mfind_missing_intervals\u001b[39m(folder_path):\n\u001b[1;32m----> 9\u001b[0m     filenames \u001b[38;5;241m=\u001b[39m \u001b[43mos\u001b[49m\u001b[38;5;241;43m.\u001b[39;49m\u001b[43mlistdir\u001b[49m\u001b[43m(\u001b[49m\u001b[43mfolder_path\u001b[49m\u001b[43m)\u001b[49m\n\u001b[0;32m     10\u001b[0m     numbers \u001b[38;5;241m=\u001b[39m [extract_number_from_filename(filename) \u001b[38;5;28;01mfor\u001b[39;00m filename \u001b[38;5;129;01min\u001b[39;00m filenames]\n\u001b[0;32m     11\u001b[0m     numbers\u001b[38;5;241m.\u001b[39msort()\n",
      "\u001b[1;31mFileNotFoundError\u001b[0m: [WinError 3] The system cannot find the path specified: 'financial_charts_cv_extraction/pascal_voc_datasets/VOCdevkit/PlotsEnchanced_NoAugmentation/Annotations'"
     ]
    }
   ],
   "source": [
    "import os\n",
    "import re\n",
    "\n",
    "def extract_number_from_filename(filename):\n",
    "    match = re.search(r'\\d+', filename)\n",
    "    return int(match.group()) if match else None\n",
    "\n",
    "def find_missing_intervals(folder_path):\n",
    "    filenames = os.listdir(folder_path)\n",
    "    numbers = [extract_number_from_filename(filename) for filename in filenames]\n",
    "    numbers.sort()\n",
    "\n",
    "    missing_intervals = []\n",
    "    last_number = numbers[0] - 1\n",
    "\n",
    "    for number in numbers:\n",
    "        if number != last_number + 1:\n",
    "            missing_intervals.append((last_number + 1, number - 1))\n",
    "        last_number = number\n",
    "\n",
    "    return missing_intervals\n",
    "\n",
    "if __name__ == \"__main__\":\n",
    "    folder_path = \"financial_charts_cv_extraction/pascal_voc_datasets/VOCdevkit/PlotsEnchanced_NoAugmentation/Annotations\"  # Replace this with the actual path to your folder\n",
    "    missing_intervals = find_missing_intervals(folder_path)\n",
    "\n",
    "    if missing_intervals:\n",
    "        print(\"Missing intervals:\")\n",
    "        for interval in missing_intervals:\n",
    "            print(f\"From image{interval[0]}.xml to image{interval[1]}.xml\")\n",
    "    else:\n",
    "        print(\"No missing intervals found.\")"
   ]
  }
 ],
 "metadata": {
  "kernelspec": {
   "display_name": "Python 3 (ipykernel)",
   "language": "python",
   "name": "python3"
  },
  "language_info": {
   "codemirror_mode": {
    "name": "ipython",
    "version": 3
   },
   "file_extension": ".py",
   "mimetype": "text/x-python",
   "name": "python",
   "nbconvert_exporter": "python",
   "pygments_lexer": "ipython3",
   "version": "3.10.9"
  }
 },
 "nbformat": 4,
 "nbformat_minor": 5
}
