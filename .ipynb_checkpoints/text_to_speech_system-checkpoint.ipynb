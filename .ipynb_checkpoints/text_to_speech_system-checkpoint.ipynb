{
 "cells": [
  {
   "cell_type": "code",
   "execution_count": null,
   "id": "ef1f78c2",
   "metadata": {},
   "outputs": [],
   "source": [
    "# THIS IS AN IMPLEMENTATION THAT WILL SAVE THE TEXT TO MP3 THEN PLAY IT\n",
    "from gtts import gTTS\n",
    "import os\n",
    "import time\n",
    "\n",
    "def speak_text(text):\n",
    "    tts = gTTS(text=text, lang='en')            # create gTTS object\n",
    "    tts.save(\"temp.mp3\")                        # save as mp3 file\n",
    "    os.system(\"mpg321 temp.mp3\")                # play the mp3 file\n",
    "    time.sleep(1)                               # ensure there's a pause between each piece of text\n",
    "\n",
    "# list of texts to read\n",
    "texts = ['Hello world', 'I am a text-to-speech system', 'Nice to meet you']\n",
    "\n",
    "for text in texts:\n",
    "    speak_text(text)"
   ]
  },
  {
   "cell_type": "code",
   "execution_count": 8,
   "id": "68987db5",
   "metadata": {},
   "outputs": [],
   "source": [
    "# THIS IMPLEMENTATION DOES NOT REQUIRE THE TEXT TO BE SAVED TO MP3\n",
    "import pyttsx3\n",
    "import time\n",
    "\n",
    "def speak_text(text):\n",
    "    engine = pyttsx3.init()\n",
    "    \n",
    "    \n",
    "    rate = engine.getProperty('rate')\n",
    "    engine.setProperty('rate', rate + 10)        # increase the speech rate (words per minute)\n",
    "    \n",
    "    engine.say(text)\n",
    "    engine.runAndWait()                          # blocks while processing all the currently queued commands\n",
    "\n",
    "    #time.sleep(1)                               # ensure there's a pause between each piece of text\n",
    "\n",
    "# list of texts to read\n",
    "texts = ['Hello world', 'I am a text-to-speech system', 'Nice to meet you']\n",
    "\n",
    "for text in texts:\n",
    "    speak_text(text)"
   ]
  }
 ],
 "metadata": {
  "kernelspec": {
   "display_name": "pytorch-cude-env",
   "language": "python",
   "name": "pytorch-cude-env"
  },
  "language_info": {
   "codemirror_mode": {
    "name": "ipython",
    "version": 3
   },
   "file_extension": ".py",
   "mimetype": "text/x-python",
   "name": "python",
   "nbconvert_exporter": "python",
   "pygments_lexer": "ipython3",
   "version": "3.11.4"
  }
 },
 "nbformat": 4,
 "nbformat_minor": 5
}
