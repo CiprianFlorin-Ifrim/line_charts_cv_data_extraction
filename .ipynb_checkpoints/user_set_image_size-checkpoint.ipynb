{
 "cells": [
  {
   "cell_type": "code",
   "execution_count": null,
   "id": "ad082505",
   "metadata": {},
   "outputs": [],
   "source": [
    "import os\n",
    "from PIL import Image\n",
    "from collections import defaultdict\n",
    "\n",
    "#-------------------------------------------------------------------------------------JUPYTER NOTEBOOK SETTINGS-------------------------------------------------------------------------------------\n",
    "from IPython.core.display import display, HTML                                    \n",
    "display(HTML(\"<style>.container { width:100% !important; }</style>\"))     "
   ]
  },
  {
   "cell_type": "code",
   "execution_count": null,
   "id": "d2e530ec",
   "metadata": {},
   "outputs": [],
   "source": [
    "# Absolute path to your image directory\n",
    "#image_dir = '/absolute/path/to/your/images'  # Unix-based systems\n",
    "image_dir = 'D:\\\\Academia\\\\webpage_plot_scraping_backup\\\\sample_plots\\\\coinmarketcap.com'  # Windows\n",
    "\n",
    "# Get a list of all image file paths\n",
    "image_files = [os.path.join(image_dir, file) for file in os.listdir(image_dir) if file.endswith(('.png', '.jpg', '.jpeg'))]\n",
    "\n",
    "# Initialize a dictionary to hold counts\n",
    "size_counts = defaultdict(int)\n",
    "\n",
    "# Get total number of images\n",
    "total_images = len(image_files)\n",
    "\n",
    "# Go through all image files to get size counts\n",
    "for i, image_file in enumerate(image_files, 1):  # starts counter at 1\n",
    "    print(f'Processing image {i} of {total_images} ({100 * i / total_images:.2f}%)')\n",
    "    # Open the image file\n",
    "    with Image.open(image_file) as img:\n",
    "        # Increase the count for this size\n",
    "        size_counts[img.size] += 1\n",
    "\n",
    "# User given size\n",
    "user_given_width = int(input(\"Enter desired width of images: \"))\n",
    "user_given_height = int(input(\"Enter desired height of images: \"))\n",
    "user_given_size = (user_given_width, user_given_height)\n",
    "\n",
    "# Go through all image files again to resize\n",
    "for i, image_file in enumerate(image_files, 1):  # starts counter at 1\n",
    "    print(f'Resizing image {i} of {total_images} ({100 * i / total_images:.2f}%)')\n",
    "    # Open the image file\n",
    "    with Image.open(image_file) as img:\n",
    "        # If the image is not the desired size, resize it\n",
    "        if img.size != user_given_size:\n",
    "            img = img.resize(user_given_size)\n",
    "            img.save(image_file)\n",
    "\n",
    "print(f'All images resized to {user_given_size}.')"
   ]
  }
 ],
 "metadata": {
  "kernelspec": {
   "display_name": "cuda-env",
   "language": "python",
   "name": "cuda-env"
  },
  "language_info": {
   "codemirror_mode": {
    "name": "ipython",
    "version": 3
   },
   "file_extension": ".py",
   "mimetype": "text/x-python",
   "name": "python",
   "nbconvert_exporter": "python",
   "pygments_lexer": "ipython3",
   "version": "3.9.17"
  }
 },
 "nbformat": 4,
 "nbformat_minor": 5
}
