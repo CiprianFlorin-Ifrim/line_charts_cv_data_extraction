{
 "cells": [
  {
   "cell_type": "code",
   "execution_count": null,
   "id": "ea5f4184",
   "metadata": {},
   "outputs": [],
   "source": [
    "import torch\n",
    "\n",
    "VOC_CLASSES = VOC_CLASSES = ['background', 'aeroplane', 'bicycle', 'bird', 'boat', 'bottle', 'bus', 'car', 'cat', 'chair', 'cow', 'diningtable', 'dog', 'horse', 'motorbike', 'person', 'pottedplant', 'sheep', 'sofa', 'train', 'tvmonitor']   \n",
    "\n",
    "def transform_voc_target(target, width, height):\n",
    "    labels = []\n",
    "    boxes = []\n",
    "    for obj in target['annotation']['object']:\n",
    "        label = obj['name']\n",
    "        labels.append(VOC_CLASSES.index(label))\n",
    "\n",
    "        bbox_original = obj['bndbox']\n",
    "        bbox_transformed = [\n",
    "            float(bbox_original['xmin']) / width,\n",
    "            float(bbox_original['ymin']) / height,\n",
    "            float(bbox_original['xmax']) / width,\n",
    "            float(bbox_original['ymax']) / height,\n",
    "        ]\n",
    "        boxes.append(bbox_transformed)\n",
    "\n",
    "    return {'boxes': torch.tensor(boxes, dtype=torch.float32), 'labels': torch.tensor(labels, dtype=torch.int64)}"
   ]
  }
 ],
 "metadata": {
  "kernelspec": {
   "display_name": "pytorch-cude-env",
   "language": "python",
   "name": "pytorch-cude-env"
  },
  "language_info": {
   "codemirror_mode": {
    "name": "ipython",
    "version": 3
   },
   "file_extension": ".py",
   "mimetype": "text/x-python",
   "name": "python",
   "nbconvert_exporter": "python",
   "pygments_lexer": "ipython3",
   "version": "3.11.4"
  }
 },
 "nbformat": 4,
 "nbformat_minor": 5
}
