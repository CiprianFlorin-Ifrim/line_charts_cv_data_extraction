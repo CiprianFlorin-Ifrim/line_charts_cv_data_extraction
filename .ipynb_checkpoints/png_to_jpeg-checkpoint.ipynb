{
 "cells": [
  {
   "cell_type": "code",
   "execution_count": 2,
   "id": "8a473443",
   "metadata": {},
   "outputs": [],
   "source": [
    "from PIL import Image\n",
    "from tqdm import tqdm\n",
    "import os\n",
    "import concurrent.futures"
   ]
  },
  {
   "cell_type": "code",
   "execution_count": 6,
   "id": "d1f0e6eb",
   "metadata": {},
   "outputs": [
    {
     "name": "stderr",
     "output_type": "stream",
     "text": [
      "Converting images: 100%|████████████████████████████████████████████████████████████████████| 8905/8905 [00:08<00:00, 1108.53it/s]\n"
     ]
    }
   ],
   "source": [
    "png_dir = 'sample_plots_png/binance.com/listing_warning'\n",
    "jpeg_dir = 'sample_plots_jpeg/binance.com/listing_warning'\n",
    "\n",
    "if not os.path.exists(jpeg_dir):\n",
    "    os.makedirs(jpeg_dir)\n",
    "\n",
    "file_list = os.listdir(png_dir)\n",
    "\n",
    "# Create a progress bar\n",
    "pbar = tqdm(total=len(file_list), desc=\"Converting images\", dynamic_ncols=True)\n",
    "\n",
    "def process_image(file):\n",
    "    if file.endswith(\".png\"):\n",
    "        img = Image.open(os.path.join(png_dir, file))\n",
    "        rgb_img = img.convert('RGB')  # Convert RGBA images to RGB if any\n",
    "        base_filename = os.path.splitext(file)[0]\n",
    "        rgb_img.save(os.path.join(jpeg_dir, base_filename + '.jpg'), 'JPEG')\n",
    "        pbar.update(1)  # Update the progress bar\n",
    "\n",
    "# Create a pool of workers and perform conversion across all CPU cores\n",
    "with concurrent.futures.ThreadPoolExecutor() as executor:\n",
    "    executor.map(process_image, file_list)\n",
    "\n",
    "pbar.close()"
   ]
  }
 ],
 "metadata": {
  "kernelspec": {
   "display_name": "Python 3 (ipykernel)",
   "language": "python",
   "name": "python3"
  },
  "language_info": {
   "codemirror_mode": {
    "name": "ipython",
    "version": 3
   },
   "file_extension": ".py",
   "mimetype": "text/x-python",
   "name": "python",
   "nbconvert_exporter": "python",
   "pygments_lexer": "ipython3",
   "version": "3.10.9"
  }
 },
 "nbformat": 4,
 "nbformat_minor": 5
}
