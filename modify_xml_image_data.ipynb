{
 "cells": [
  {
   "cell_type": "code",
   "execution_count": null,
   "id": "0e0e191c",
   "metadata": {},
   "outputs": [
    {
     "name": "stderr",
     "output_type": "stream",
     "text": [
      "Processing images:  42%|███████████████████████████▎                                     | 60928/144888 [00:30<00:35, 2393.26it/s]"
     ]
    }
   ],
   "source": [
    "import os\n",
    "from PIL import Image\n",
    "import xml.etree.ElementTree as ET\n",
    "from tqdm import tqdm\n",
    "from joblib import Parallel, delayed\n",
    "\n",
    "def process_image_xml(image_file, image_dir, xml_dir):\n",
    "    # Open image and get dimensions\n",
    "    img = Image.open(os.path.join(image_dir, image_file))\n",
    "    width, height = img.size\n",
    "    depth = len(img.getbands())  # depth is the number of color channels\n",
    "\n",
    "    # Parse the corresponding XML file\n",
    "    xml_file = os.path.splitext(image_file)[0] + '.xml'\n",
    "    tree = ET.parse(os.path.join(xml_dir, xml_file))\n",
    "    root = tree.getroot()\n",
    "\n",
    "    # Change width, height and depth values\n",
    "    size_elem = root.find('size')\n",
    "    size_elem.find('width').text = str(width)\n",
    "    size_elem.find('height').text = str(height)\n",
    "    size_elem.find('depth').text = str(depth)\n",
    "\n",
    "    # Write back the changes to XML file\n",
    "    tree.write(os.path.join(xml_dir, xml_file))\n",
    "\n",
    "image_dir = 'pascal_voc_datasets/VOCdevkit/PlotsEnchanced_Downsampled_NoAugmentation/JPEGImages'\n",
    "xml_dir = 'pascal_voc_datasets/VOCdevkit/PlotsEnchanced_Downsampled_NoAugmentation/Annotations/'\n",
    "\n",
    "# get the list of all image file names\n",
    "image_files = [f for f in os.listdir(image_dir) if f.endswith('.jpg')]\n",
    "\n",
    "# Use Joblib to parallelize the process\n",
    "Parallel(n_jobs=-1)(delayed(process_image_xml)(image_file, image_dir, xml_dir) for image_file in tqdm(image_files, desc=\"Processing images\"))"
   ]
  }
 ],
 "metadata": {
  "kernelspec": {
   "display_name": "pytorch-cude-env",
   "language": "python",
   "name": "pytorch-cude-env"
  },
  "language_info": {
   "codemirror_mode": {
    "name": "ipython",
    "version": 3
   },
   "file_extension": ".py",
   "mimetype": "text/x-python",
   "name": "python",
   "nbconvert_exporter": "python",
   "pygments_lexer": "ipython3",
   "version": "3.11.4"
  }
 },
 "nbformat": 4,
 "nbformat_minor": 5
}
