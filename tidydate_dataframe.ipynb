{
 "cells": [
  {
   "cell_type": "code",
   "execution_count": 1,
   "id": "52ca7267",
   "metadata": {},
   "outputs": [
    {
     "name": "stdout",
     "output_type": "stream",
     "text": [
      "Untidy Data:\n",
      "          city  day1_temp  day2_temp  day1_humidity  day2_humidity\n",
      "0     New York         75         78             60             55\n",
      "1  Los Angeles         80         82             10              5\n",
      "Tidy Data:\n",
      "type         city   day  humidity  temp\n",
      "0     Los Angeles  day1        10    80\n",
      "1     Los Angeles  day2         5    82\n",
      "2        New York  day1        60    75\n",
      "3        New York  day2        55    78\n"
     ]
    }
   ],
   "source": [
    "import pandas as pd\n",
    "\n",
    "# Untidy data\n",
    "df = pd.DataFrame({\n",
    "    'city': ['New York', 'Los Angeles'],\n",
    "    'day1_temp': [75, 80],\n",
    "    'day2_temp': [78, 82],\n",
    "    'day1_humidity': [60, 10],\n",
    "    'day2_humidity': [55, 5]\n",
    "})\n",
    "\n",
    "print(\"Untidy Data:\")\n",
    "print(df)\n",
    "\n",
    "# Melting the data into a tidy format\n",
    "df_tidy = df.melt(id_vars='city', var_name='measurement', value_name='value')\n",
    "\n",
    "# Splitting the measurement into day and type (temp or humidity)\n",
    "df_tidy['day'] = df_tidy['measurement'].apply(lambda x: x.split('_')[0])\n",
    "df_tidy['type'] = df_tidy['measurement'].apply(lambda x: x.split('_')[1])\n",
    "\n",
    "# Pivotting to create separate columns for temperature and humidity\n",
    "df_tidy = df_tidy.pivot_table(index=['city', 'day'], columns='type', values='value', aggfunc='first').reset_index()\n",
    "\n",
    "print(\"Tidy Data:\")\n",
    "print(df_tidy)"
   ]
  }
 ],
 "metadata": {
  "kernelspec": {
   "display_name": "pytorch-cude-env",
   "language": "python",
   "name": "pytorch-cude-env"
  },
  "language_info": {
   "codemirror_mode": {
    "name": "ipython",
    "version": 3
   },
   "file_extension": ".py",
   "mimetype": "text/x-python",
   "name": "python",
   "nbconvert_exporter": "python",
   "pygments_lexer": "ipython3",
   "version": "3.11.4"
  }
 },
 "nbformat": 4,
 "nbformat_minor": 5
}
