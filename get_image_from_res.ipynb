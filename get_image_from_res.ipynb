{
 "cells": [
  {
   "cell_type": "code",
   "execution_count": null,
   "id": "c50d02ff",
   "metadata": {},
   "outputs": [
    {
     "name": "stdout",
     "output_type": "stream",
     "text": [
      "Please enter the directory containing the images: pascal_voc_datasets\\VOCdevkit\\PlotsEnchanced_NoAugmentation\\JPEGImages\n",
      "Please enter the desired resolution in format 'width,height': 783, 575\n"
     ]
    },
    {
     "name": "stderr",
     "output_type": "stream",
     "text": [
      "Checking images:   0%|                                                                    | 54/144888 [00:00<04:31, 532.86image/s]"
     ]
    },
    {
     "name": "stdout",
     "output_type": "stream",
     "text": [
      "File: image1.jpg, Size: (783, 575)\n",
      "File: image100003.jpg, Size: (783, 575)\n",
      "File: image100004.jpg, Size: (783, 575)\n",
      "File: image100015.jpg, Size: (783, 575)\n",
      "File: image10002.jpg, Size: (783, 575)\n",
      "File: image100026.jpg, Size: (783, 575)\n",
      "File: image10003.jpg, Size: (783, 575)\n",
      "File: image100037.jpg, Size: (783, 575)\n",
      "File: image100048.jpg, Size: (783, 575)\n",
      "File: image100059.jpg, Size: (783, 575)\n",
      "File: image100070.jpg, Size: (783, 575)\n",
      "File: image100081.jpg, Size: (783, 575)\n"
     ]
    },
    {
     "name": "stderr",
     "output_type": "stream",
     "text": [
      "Checking images:   0%|                                                                   | 216/144888 [00:00<04:29, 536.63image/s]"
     ]
    },
    {
     "name": "stdout",
     "output_type": "stream",
     "text": [
      "File: image100103.jpg, Size: (783, 575)\n",
      "File: image100114.jpg, Size: (783, 575)\n",
      "File: image100115.jpg, Size: (783, 575)\n",
      "File: image100126.jpg, Size: (783, 575)\n",
      "File: image100137.jpg, Size: (783, 575)\n",
      "File: image100159.jpg, Size: (783, 575)\n",
      "File: image100181.jpg, Size: (783, 575)\n",
      "File: image100192.jpg, Size: (783, 575)\n"
     ]
    },
    {
     "name": "stderr",
     "output_type": "stream",
     "text": [
      "Checking images:   0%|▏                                                                  | 325/144888 [00:00<04:28, 538.54image/s]"
     ]
    },
    {
     "name": "stdout",
     "output_type": "stream",
     "text": [
      "File: image100214.jpg, Size: (783, 575)\n",
      "File: image100226.jpg, Size: (783, 575)\n",
      "File: image100248.jpg, Size: (783, 575)\n",
      "File: image100259.jpg, Size: (783, 575)\n",
      "File: image100270.jpg, Size: (783, 575)\n",
      "File: image100281.jpg, Size: (783, 575)\n",
      "File: image100292.jpg, Size: (783, 575)\n",
      "File: image100303.jpg, Size: (783, 575)\n",
      "File: image100314.jpg, Size: (783, 575)\n"
     ]
    },
    {
     "name": "stderr",
     "output_type": "stream",
     "text": [
      "Checking images:   0%|▏                                                                  | 433/144888 [00:00<04:29, 536.15image/s]"
     ]
    },
    {
     "name": "stdout",
     "output_type": "stream",
     "text": [
      "File: image100325.jpg, Size: (783, 575)\n",
      "File: image100337.jpg, Size: (783, 575)\n",
      "File: image100348.jpg, Size: (783, 575)\n",
      "File: image100370.jpg, Size: (783, 575)\n",
      "File: image100381.jpg, Size: (783, 575)\n",
      "File: image100392.jpg, Size: (783, 575)\n",
      "File: image100403.jpg, Size: (783, 575)\n",
      "File: image100414.jpg, Size: (783, 575)\n"
     ]
    },
    {
     "name": "stderr",
     "output_type": "stream",
     "text": [
      "Checking images:   0%|▎                                                                  | 541/144888 [00:01<04:30, 534.61image/s]"
     ]
    },
    {
     "name": "stdout",
     "output_type": "stream",
     "text": [
      "File: image100425.jpg, Size: (783, 575)\n",
      "File: image100448.jpg, Size: (783, 575)\n",
      "File: image100449.jpg, Size: (783, 575)\n",
      "File: image100450.jpg, Size: (783, 575)\n",
      "File: image100461.jpg, Size: (783, 575)\n",
      "File: image100472.jpg, Size: (783, 575)\n",
      "File: image100483.jpg, Size: (783, 575)\n",
      "File: image100494.jpg, Size: (783, 575)\n",
      "File: image100505.jpg, Size: (783, 575)\n",
      "File: image100516.jpg, Size: (783, 575)\n"
     ]
    },
    {
     "name": "stderr",
     "output_type": "stream",
     "text": [
      "Checking images:   0%|▎                                                                  | 650/144888 [00:01<04:28, 536.22image/s]"
     ]
    },
    {
     "name": "stdout",
     "output_type": "stream",
     "text": [
      "File: image100527.jpg, Size: (783, 575)\n",
      "File: image100538.jpg, Size: (783, 575)\n",
      "File: image100549.jpg, Size: (783, 575)\n",
      "File: image100560.jpg, Size: (783, 575)\n",
      "File: image100561.jpg, Size: (783, 575)\n",
      "File: image100572.jpg, Size: (783, 575)\n",
      "File: image100583.jpg, Size: (783, 575)\n",
      "File: image100594.jpg, Size: (783, 575)\n",
      "File: image100605.jpg, Size: (783, 575)\n",
      "File: image100616.jpg, Size: (783, 575)\n",
      "File: image100627.jpg, Size: (783, 575)\n"
     ]
    },
    {
     "name": "stderr",
     "output_type": "stream",
     "text": [
      "Checking images:   1%|▍                                                                  | 813/144888 [00:01<04:28, 536.25image/s]"
     ]
    },
    {
     "name": "stdout",
     "output_type": "stream",
     "text": [
      "File: image100638.jpg, Size: (783, 575)\n",
      "File: image100660.jpg, Size: (783, 575)\n",
      "File: image100672.jpg, Size: (783, 575)\n",
      "File: image100683.jpg, Size: (783, 575)\n",
      "File: image100694.jpg, Size: (783, 575)\n",
      "File: image100727.jpg, Size: (783, 575)\n"
     ]
    },
    {
     "name": "stderr",
     "output_type": "stream",
     "text": [
      "Checking images:   1%|▍                                                                  | 922/144888 [00:01<04:28, 536.89image/s]"
     ]
    },
    {
     "name": "stdout",
     "output_type": "stream",
     "text": [
      "File: image100738.jpg, Size: (783, 575)\n",
      "File: image100749.jpg, Size: (783, 575)\n",
      "File: image100760.jpg, Size: (783, 575)\n",
      "File: image100782.jpg, Size: (783, 575)\n",
      "File: image100783.jpg, Size: (783, 575)\n",
      "File: image100794.jpg, Size: (783, 575)\n",
      "File: image100805.jpg, Size: (783, 575)\n",
      "File: image100816.jpg, Size: (783, 575)\n"
     ]
    },
    {
     "name": "stderr",
     "output_type": "stream",
     "text": [
      "Checking images:   1%|▍                                                                 | 1031/144888 [00:01<04:27, 538.03image/s]"
     ]
    },
    {
     "name": "stdout",
     "output_type": "stream",
     "text": [
      "File: image100849.jpg, Size: (783, 575)\n",
      "File: image100860.jpg, Size: (783, 575)\n",
      "File: image100871.jpg, Size: (783, 575)\n",
      "File: image100882.jpg, Size: (783, 575)\n",
      "File: image100893.jpg, Size: (783, 575)\n",
      "File: image100894.jpg, Size: (783, 575)\n",
      "File: image100905.jpg, Size: (783, 575)\n",
      "File: image100916.jpg, Size: (783, 575)\n",
      "File: image100938.jpg, Size: (783, 575)\n",
      "File: image100949.jpg, Size: (783, 575)\n"
     ]
    },
    {
     "name": "stderr",
     "output_type": "stream",
     "text": [
      "Checking images:   1%|▌                                                                 | 1139/144888 [00:02<04:28, 536.05image/s]"
     ]
    },
    {
     "name": "stdout",
     "output_type": "stream",
     "text": [
      "File: image100971.jpg, Size: (783, 575)\n",
      "File: image100982.jpg, Size: (783, 575)\n",
      "File: image100993.jpg, Size: (783, 575)\n",
      "File: image101004.jpg, Size: (783, 575)\n",
      "File: image101005.jpg, Size: (783, 575)\n",
      "File: image101016.jpg, Size: (783, 575)\n",
      "File: image101027.jpg, Size: (783, 575)\n",
      "File: image101038.jpg, Size: (783, 575)\n",
      "File: image101049.jpg, Size: (783, 575)\n",
      "File: image101060.jpg, Size: (783, 575)\n"
     ]
    },
    {
     "name": "stderr",
     "output_type": "stream",
     "text": [
      "Checking images:   1%|▌                                                                 | 1302/144888 [00:02<04:25, 540.58image/s]"
     ]
    },
    {
     "name": "stdout",
     "output_type": "stream",
     "text": [
      "File: image101082.jpg, Size: (783, 575)\n",
      "File: image101093.jpg, Size: (783, 575)\n",
      "File: image101104.jpg, Size: (783, 575)\n",
      "File: image101115.jpg, Size: (783, 575)\n",
      "File: image101116.jpg, Size: (783, 575)\n",
      "File: image10114.jpg, Size: (783, 575)\n",
      "File: image101149.jpg, Size: (783, 575)\n",
      "File: image101171.jpg, Size: (783, 575)\n"
     ]
    },
    {
     "name": "stderr",
     "output_type": "stream",
     "text": [
      "Checking images:   1%|▋                                                                 | 1412/144888 [00:02<04:24, 542.81image/s]"
     ]
    },
    {
     "name": "stdout",
     "output_type": "stream",
     "text": [
      "File: image101204.jpg, Size: (783, 575)\n",
      "File: image101215.jpg, Size: (783, 575)\n",
      "File: image101226.jpg, Size: (783, 575)\n",
      "File: image101249.jpg, Size: (783, 575)\n",
      "File: image101271.jpg, Size: (783, 575)\n",
      "File: image101282.jpg, Size: (783, 575)\n",
      "File: image101293.jpg, Size: (783, 575)\n",
      "File: image101304.jpg, Size: (783, 575)\n"
     ]
    },
    {
     "name": "stderr",
     "output_type": "stream",
     "text": [
      "Checking images:   1%|▋                                                                 | 1577/144888 [00:02<04:23, 542.86image/s]"
     ]
    },
    {
     "name": "stdout",
     "output_type": "stream",
     "text": [
      "File: image101337.jpg, Size: (783, 575)\n",
      "File: image101338.jpg, Size: (783, 575)\n",
      "File: image101349.jpg, Size: (783, 575)\n",
      "File: image101360.jpg, Size: (783, 575)\n",
      "File: image101371.jpg, Size: (783, 575)\n",
      "File: image101382.jpg, Size: (783, 575)\n",
      "File: image101393.jpg, Size: (783, 575)\n",
      "File: image101426.jpg, Size: (783, 575)\n"
     ]
    },
    {
     "name": "stderr",
     "output_type": "stream",
     "text": [
      "Checking images:   1%|▊                                                                 | 1687/144888 [00:03<04:24, 542.32image/s]"
     ]
    },
    {
     "name": "stdout",
     "output_type": "stream",
     "text": [
      "File: image101437.jpg, Size: (783, 575)\n",
      "File: image101448.jpg, Size: (783, 575)\n",
      "File: image101449.jpg, Size: (783, 575)\n",
      "File: image101460.jpg, Size: (783, 575)\n",
      "File: image101493.jpg, Size: (783, 575)\n",
      "File: image101504.jpg, Size: (783, 575)\n",
      "File: image101515.jpg, Size: (783, 575)\n",
      "File: image101526.jpg, Size: (783, 575)\n",
      "File: image101537.jpg, Size: (783, 575)\n"
     ]
    },
    {
     "name": "stderr",
     "output_type": "stream",
     "text": [
      "Checking images:   1%|▊                                                                 | 1797/144888 [00:03<04:23, 542.10image/s]"
     ]
    },
    {
     "name": "stdout",
     "output_type": "stream",
     "text": [
      "File: image101559.jpg, Size: (783, 575)\n",
      "File: image101560.jpg, Size: (783, 575)\n",
      "File: image101561.jpg, Size: (783, 575)\n",
      "File: image101572.jpg, Size: (783, 575)\n",
      "File: image101583.jpg, Size: (783, 575)\n",
      "File: image101594.jpg, Size: (783, 575)\n",
      "File: image101627.jpg, Size: (783, 575)\n",
      "File: image101638.jpg, Size: (783, 575)\n",
      "File: image101649.jpg, Size: (783, 575)\n"
     ]
    },
    {
     "name": "stderr",
     "output_type": "stream",
     "text": [
      "Checking images:   1%|▉                                                                 | 1962/144888 [00:03<04:23, 543.03image/s]"
     ]
    },
    {
     "name": "stdout",
     "output_type": "stream",
     "text": [
      "File: image101671.jpg, Size: (783, 575)\n",
      "File: image101672.jpg, Size: (783, 575)\n",
      "File: image101683.jpg, Size: (783, 575)\n",
      "File: image101694.jpg, Size: (783, 575)\n",
      "File: image101738.jpg, Size: (783, 575)\n",
      "File: image101749.jpg, Size: (783, 575)\n"
     ]
    },
    {
     "name": "stderr",
     "output_type": "stream",
     "text": [
      "Checking images:   1%|▉                                                                 | 2072/144888 [00:03<04:23, 542.90image/s]"
     ]
    },
    {
     "name": "stdout",
     "output_type": "stream",
     "text": [
      "File: image101782.jpg, Size: (783, 575)\n",
      "File: image101783.jpg, Size: (783, 575)\n",
      "File: image101794.jpg, Size: (783, 575)\n",
      "File: image101805.jpg, Size: (783, 575)\n",
      "File: image101827.jpg, Size: (783, 575)\n",
      "File: image101838.jpg, Size: (783, 575)\n",
      "File: image101849.jpg, Size: (783, 575)\n",
      "File: image101871.jpg, Size: (783, 575)\n"
     ]
    },
    {
     "name": "stderr",
     "output_type": "stream",
     "text": [
      "Checking images:   2%|▉                                                                 | 2182/144888 [00:04<04:24, 540.52image/s]"
     ]
    },
    {
     "name": "stdout",
     "output_type": "stream",
     "text": [
      "File: image101893.jpg, Size: (783, 575)\n",
      "File: image101894.jpg, Size: (783, 575)\n",
      "File: image101905.jpg, Size: (783, 575)\n",
      "File: image101916.jpg, Size: (783, 575)\n",
      "File: image101927.jpg, Size: (783, 575)\n",
      "File: image101949.jpg, Size: (783, 575)\n",
      "File: image101960.jpg, Size: (783, 575)\n",
      "File: image101971.jpg, Size: (783, 575)\n",
      "File: image101982.jpg, Size: (783, 575)\n",
      "File: image101993.jpg, Size: (783, 575)\n"
     ]
    },
    {
     "name": "stderr",
     "output_type": "stream",
     "text": [
      "Checking images:   2%|█                                                                 | 2292/144888 [00:04<04:22, 543.89image/s]"
     ]
    },
    {
     "name": "stdout",
     "output_type": "stream",
     "text": [
      "File: image102004.jpg, Size: (783, 575)\n",
      "File: image102005.jpg, Size: (783, 575)\n",
      "File: image102027.jpg, Size: (783, 575)\n",
      "File: image102038.jpg, Size: (783, 575)\n",
      "File: image102049.jpg, Size: (783, 575)\n",
      "File: image102060.jpg, Size: (783, 575)\n",
      "File: image102071.jpg, Size: (783, 575)\n",
      "File: image102082.jpg, Size: (783, 575)\n",
      "File: image102093.jpg, Size: (783, 575)\n",
      "File: image102104.jpg, Size: (783, 575)\n"
     ]
    },
    {
     "name": "stderr",
     "output_type": "stream",
     "text": [
      "Checking images:   2%|█                                                                 | 2459/144888 [00:04<04:20, 546.16image/s]"
     ]
    },
    {
     "name": "stdout",
     "output_type": "stream",
     "text": [
      "File: image102115.jpg, Size: (783, 575)\n",
      "File: image102116.jpg, Size: (783, 575)\n",
      "File: image102127.jpg, Size: (783, 575)\n",
      "File: image102149.jpg, Size: (783, 575)\n",
      "File: image102182.jpg, Size: (783, 575)\n",
      "File: image102193.jpg, Size: (783, 575)\n",
      "File: image102204.jpg, Size: (783, 575)\n"
     ]
    },
    {
     "name": "stderr",
     "output_type": "stream",
     "text": [
      "Checking images:   2%|█▏                                                                | 2570/144888 [00:04<04:20, 546.86image/s]"
     ]
    },
    {
     "name": "stdout",
     "output_type": "stream",
     "text": [
      "File: image102227.jpg, Size: (783, 575)\n",
      "File: image102238.jpg, Size: (783, 575)\n",
      "File: image10225.jpg, Size: (783, 575)\n",
      "File: image102260.jpg, Size: (783, 575)\n",
      "File: image102271.jpg, Size: (783, 575)\n",
      "File: image102293.jpg, Size: (783, 575)\n",
      "File: image102315.jpg, Size: (783, 575)\n",
      "File: image102326.jpg, Size: (783, 575)\n"
     ]
    },
    {
     "name": "stderr",
     "output_type": "stream",
     "text": [
      "Checking images:   2%|█▏                                                                | 2680/144888 [00:04<04:20, 545.42image/s]"
     ]
    },
    {
     "name": "stdout",
     "output_type": "stream",
     "text": [
      "File: image102337.jpg, Size: (783, 575)\n",
      "File: image102338.jpg, Size: (783, 575)\n",
      "File: image102360.jpg, Size: (783, 575)\n",
      "File: image102371.jpg, Size: (783, 575)\n",
      "File: image102382.jpg, Size: (783, 575)\n",
      "File: image102393.jpg, Size: (783, 575)\n",
      "File: image102404.jpg, Size: (783, 575)\n",
      "File: image102415.jpg, Size: (783, 575)\n"
     ]
    },
    {
     "name": "stderr",
     "output_type": "stream",
     "text": [
      "Checking images:   2%|█▎                                                                | 2790/144888 [00:05<04:20, 546.31image/s]"
     ]
    },
    {
     "name": "stdout",
     "output_type": "stream",
     "text": [
      "File: image102437.jpg, Size: (783, 575)\n",
      "File: image102448.jpg, Size: (783, 575)\n",
      "File: image102449.jpg, Size: (783, 575)\n",
      "File: image102471.jpg, Size: (783, 575)\n",
      "File: image102493.jpg, Size: (783, 575)\n",
      "File: image102504.jpg, Size: (783, 575)\n",
      "File: image102526.jpg, Size: (783, 575)\n",
      "File: image102537.jpg, Size: (783, 575)\n"
     ]
    },
    {
     "name": "stderr",
     "output_type": "stream",
     "text": [
      "Checking images:   2%|█▎                                                                | 2955/144888 [00:05<04:20, 544.12image/s]"
     ]
    },
    {
     "name": "stdout",
     "output_type": "stream",
     "text": [
      "File: image102548.jpg, Size: (783, 575)\n",
      "File: image102571.jpg, Size: (783, 575)\n",
      "File: image102582.jpg, Size: (783, 575)\n",
      "File: image102593.jpg, Size: (783, 575)\n",
      "File: image102604.jpg, Size: (783, 575)\n",
      "File: image102615.jpg, Size: (783, 575)\n",
      "File: image102626.jpg, Size: (783, 575)\n",
      "File: image102637.jpg, Size: (783, 575)\n",
      "File: image102648.jpg, Size: (783, 575)\n"
     ]
    },
    {
     "name": "stderr",
     "output_type": "stream",
     "text": [
      "Checking images:   2%|█▍                                                                | 3066/144888 [00:05<04:19, 547.00image/s]"
     ]
    },
    {
     "name": "stdout",
     "output_type": "stream",
     "text": [
      "File: image102659.jpg, Size: (783, 575)\n",
      "File: image102670.jpg, Size: (783, 575)\n",
      "File: image102671.jpg, Size: (783, 575)\n",
      "File: image102672.jpg, Size: (783, 575)\n",
      "File: image102683.jpg, Size: (783, 575)\n",
      "File: image102705.jpg, Size: (783, 575)\n",
      "File: image102716.jpg, Size: (783, 575)\n",
      "File: image102727.jpg, Size: (783, 575)\n",
      "File: image102738.jpg, Size: (783, 575)\n",
      "File: image102749.jpg, Size: (783, 575)\n"
     ]
    },
    {
     "name": "stderr",
     "output_type": "stream",
     "text": [
      "Checking images:   2%|█▍                                                                | 3176/144888 [00:05<04:19, 547.08image/s]"
     ]
    },
    {
     "name": "stdout",
     "output_type": "stream",
     "text": [
      "File: image102760.jpg, Size: (783, 575)\n",
      "File: image102771.jpg, Size: (783, 575)\n",
      "File: image102782.jpg, Size: (783, 575)\n",
      "File: image102783.jpg, Size: (783, 575)\n",
      "File: image102794.jpg, Size: (783, 575)\n",
      "File: image102816.jpg, Size: (783, 575)\n",
      "File: image102838.jpg, Size: (783, 575)\n",
      "File: image102849.jpg, Size: (783, 575)\n"
     ]
    },
    {
     "name": "stderr",
     "output_type": "stream",
     "text": [
      "Checking images:   2%|█▍                                                                | 3286/144888 [00:06<04:19, 545.48image/s]"
     ]
    },
    {
     "name": "stdout",
     "output_type": "stream",
     "text": [
      "File: image102860.jpg, Size: (783, 575)\n",
      "File: image102871.jpg, Size: (783, 575)\n",
      "File: image102882.jpg, Size: (783, 575)\n",
      "File: image102893.jpg, Size: (783, 575)\n",
      "File: image102894.jpg, Size: (783, 575)\n",
      "File: image102905.jpg, Size: (783, 575)\n",
      "File: image102916.jpg, Size: (783, 575)\n",
      "File: image102927.jpg, Size: (783, 575)\n",
      "File: image102938.jpg, Size: (783, 575)\n",
      "File: image102949.jpg, Size: (783, 575)\n"
     ]
    },
    {
     "name": "stderr",
     "output_type": "stream",
     "text": [
      "Checking images:   2%|█▌                                                                | 3397/144888 [00:06<04:18, 547.29image/s]"
     ]
    },
    {
     "name": "stdout",
     "output_type": "stream",
     "text": [
      "File: image102960.jpg, Size: (783, 575)\n",
      "File: image102982.jpg, Size: (783, 575)\n",
      "File: image103004.jpg, Size: (783, 575)\n",
      "File: image103005.jpg, Size: (783, 575)\n",
      "File: image103016.jpg, Size: (783, 575)\n",
      "File: image103038.jpg, Size: (783, 575)\n"
     ]
    },
    {
     "name": "stderr",
     "output_type": "stream",
     "text": [
      "Checking images:   2%|█▌                                                                | 3508/144888 [00:06<04:17, 548.57image/s]"
     ]
    },
    {
     "name": "stdout",
     "output_type": "stream",
     "text": [
      "File: image103060.jpg, Size: (783, 575)\n",
      "File: image103071.jpg, Size: (783, 575)\n",
      "File: image103082.jpg, Size: (783, 575)\n",
      "File: image103093.jpg, Size: (783, 575)\n",
      "File: image103104.jpg, Size: (783, 575)\n",
      "File: image103116.jpg, Size: (783, 575)\n",
      "File: image103149.jpg, Size: (783, 575)\n"
     ]
    },
    {
     "name": "stderr",
     "output_type": "stream",
     "text": [
      "Checking images:   2%|█▋                                                                | 3619/144888 [00:06<04:16, 550.82image/s]"
     ]
    },
    {
     "name": "stdout",
     "output_type": "stream",
     "text": [
      "File: image103160.jpg, Size: (783, 575)\n",
      "File: image103171.jpg, Size: (783, 575)\n",
      "File: image103182.jpg, Size: (783, 575)\n",
      "File: image103193.jpg, Size: (783, 575)\n",
      "File: image103204.jpg, Size: (783, 575)\n",
      "File: image103215.jpg, Size: (783, 575)\n",
      "File: image103226.jpg, Size: (783, 575)\n",
      "File: image103227.jpg, Size: (783, 575)\n",
      "File: image103238.jpg, Size: (783, 575)\n",
      "File: image103249.jpg, Size: (783, 575)\n",
      "File: image103260.jpg, Size: (783, 575)\n"
     ]
    },
    {
     "name": "stderr",
     "output_type": "stream",
     "text": [
      "Checking images:   3%|█▋                                                                | 3730/144888 [00:06<04:16, 549.77image/s]"
     ]
    },
    {
     "name": "stdout",
     "output_type": "stream",
     "text": [
      "File: image103271.jpg, Size: (783, 575)\n",
      "File: image103282.jpg, Size: (783, 575)\n",
      "File: image103304.jpg, Size: (783, 575)\n",
      "File: image103315.jpg, Size: (783, 575)\n",
      "File: image103326.jpg, Size: (783, 575)\n",
      "File: image103337.jpg, Size: (783, 575)\n",
      "File: image103349.jpg, Size: (783, 575)\n",
      "File: image10336.jpg, Size: (783, 575)\n"
     ]
    },
    {
     "name": "stderr",
     "output_type": "stream",
     "text": [
      "Checking images:   3%|█▋                                                                | 3840/144888 [00:07<04:18, 545.67image/s]"
     ]
    },
    {
     "name": "stdout",
     "output_type": "stream",
     "text": [
      "File: image103382.jpg, Size: (783, 575)\n",
      "File: image103393.jpg, Size: (783, 575)\n",
      "File: image103404.jpg, Size: (783, 575)\n",
      "File: image103415.jpg, Size: (783, 575)\n",
      "File: image103426.jpg, Size: (783, 575)\n",
      "File: image103448.jpg, Size: (783, 575)\n",
      "File: image103449.jpg, Size: (783, 575)\n",
      "File: image103460.jpg, Size: (783, 575)\n",
      "File: image103471.jpg, Size: (783, 575)\n",
      "File: image103482.jpg, Size: (783, 575)\n"
     ]
    },
    {
     "name": "stderr",
     "output_type": "stream",
     "text": [
      "Checking images:   3%|█▊                                                                | 3950/144888 [00:07<04:18, 544.79image/s]"
     ]
    },
    {
     "name": "stdout",
     "output_type": "stream",
     "text": [
      "File: image103493.jpg, Size: (783, 575)\n",
      "File: image103504.jpg, Size: (783, 575)\n",
      "File: image103515.jpg, Size: (783, 575)\n",
      "File: image103548.jpg, Size: (783, 575)\n",
      "File: image103559.jpg, Size: (783, 575)\n",
      "File: image103560.jpg, Size: (783, 575)\n",
      "File: image103571.jpg, Size: (783, 575)\n",
      "File: image103593.jpg, Size: (783, 575)\n"
     ]
    },
    {
     "name": "stderr",
     "output_type": "stream",
     "text": [
      "Checking images:   3%|█▊                                                                | 4116/144888 [00:07<04:17, 547.70image/s]"
     ]
    },
    {
     "name": "stdout",
     "output_type": "stream",
     "text": [
      "File: image103615.jpg, Size: (783, 575)\n",
      "File: image103626.jpg, Size: (783, 575)\n",
      "File: image103637.jpg, Size: (783, 575)\n",
      "File: image103659.jpg, Size: (783, 575)\n",
      "File: image103670.jpg, Size: (783, 575)\n",
      "File: image103671.jpg, Size: (783, 575)\n",
      "File: image103682.jpg, Size: (783, 575)\n",
      "File: image103715.jpg, Size: (783, 575)\n"
     ]
    },
    {
     "name": "stderr",
     "output_type": "stream",
     "text": [
      "Checking images:   3%|█▉                                                                | 4226/144888 [00:07<04:17, 545.82image/s]"
     ]
    },
    {
     "name": "stdout",
     "output_type": "stream",
     "text": [
      "File: image103726.jpg, Size: (783, 575)\n",
      "File: image103748.jpg, Size: (783, 575)\n",
      "File: image103759.jpg, Size: (783, 575)\n",
      "File: image103770.jpg, Size: (783, 575)\n",
      "File: image103781.jpg, Size: (783, 575)\n",
      "File: image103782.jpg, Size: (783, 575)\n",
      "File: image103783.jpg, Size: (783, 575)\n",
      "File: image103794.jpg, Size: (783, 575)\n",
      "File: image103805.jpg, Size: (783, 575)\n",
      "File: image103816.jpg, Size: (783, 575)\n"
     ]
    },
    {
     "name": "stderr",
     "output_type": "stream",
     "text": [
      "Checking images:   3%|█▉                                                                | 4336/144888 [00:07<04:17, 545.44image/s]"
     ]
    },
    {
     "name": "stdout",
     "output_type": "stream",
     "text": [
      "File: image103827.jpg, Size: (783, 575)\n",
      "File: image103838.jpg, Size: (783, 575)\n",
      "File: image103849.jpg, Size: (783, 575)\n",
      "File: image103860.jpg, Size: (783, 575)\n",
      "File: image103871.jpg, Size: (783, 575)\n",
      "File: image103882.jpg, Size: (783, 575)\n",
      "File: image103893.jpg, Size: (783, 575)\n",
      "File: image103905.jpg, Size: (783, 575)\n",
      "File: image103916.jpg, Size: (783, 575)\n"
     ]
    },
    {
     "name": "stderr",
     "output_type": "stream",
     "text": [
      "Checking images:   3%|██                                                                | 4447/144888 [00:08<04:17, 545.40image/s]"
     ]
    },
    {
     "name": "stdout",
     "output_type": "stream",
     "text": [
      "File: image103938.jpg, Size: (783, 575)\n",
      "File: image103949.jpg, Size: (783, 575)\n",
      "File: image103960.jpg, Size: (783, 575)\n",
      "File: image103971.jpg, Size: (783, 575)\n",
      "File: image103993.jpg, Size: (783, 575)\n",
      "File: image104004.jpg, Size: (783, 575)\n",
      "File: image104005.jpg, Size: (783, 575)\n",
      "File: image104016.jpg, Size: (783, 575)\n",
      "File: image104027.jpg, Size: (783, 575)\n",
      "File: image104038.jpg, Size: (783, 575)\n"
     ]
    },
    {
     "name": "stderr",
     "output_type": "stream",
     "text": [
      "Checking images:   3%|██                                                                | 4613/144888 [00:08<04:16, 547.92image/s]"
     ]
    },
    {
     "name": "stdout",
     "output_type": "stream",
     "text": [
      "File: image104049.jpg, Size: (783, 575)\n",
      "File: image104060.jpg, Size: (783, 575)\n",
      "File: image104071.jpg, Size: (783, 575)\n",
      "File: image104093.jpg, Size: (783, 575)\n",
      "File: image104104.jpg, Size: (783, 575)\n",
      "File: image104116.jpg, Size: (783, 575)\n"
     ]
    },
    {
     "name": "stderr",
     "output_type": "stream",
     "text": [
      "Checking images:   3%|██▏                                                               | 4723/144888 [00:08<04:15, 547.55image/s]"
     ]
    },
    {
     "name": "stdout",
     "output_type": "stream",
     "text": [
      "File: image104149.jpg, Size: (783, 575)\n",
      "File: image104171.jpg, Size: (783, 575)\n",
      "File: image104182.jpg, Size: (783, 575)\n",
      "File: image104215.jpg, Size: (783, 575)\n",
      "File: image104226.jpg, Size: (783, 575)\n",
      "File: image104227.jpg, Size: (783, 575)\n",
      "File: image104238.jpg, Size: (783, 575)\n"
     ]
    },
    {
     "name": "stderr",
     "output_type": "stream",
     "text": [
      "Checking images:   3%|██▏                                                               | 4833/144888 [00:08<04:17, 544.12image/s]"
     ]
    },
    {
     "name": "stdout",
     "output_type": "stream",
     "text": [
      "File: image104249.jpg, Size: (783, 575)\n",
      "File: image104260.jpg, Size: (783, 575)\n",
      "File: image104271.jpg, Size: (783, 575)\n",
      "File: image104304.jpg, Size: (783, 575)\n",
      "File: image104326.jpg, Size: (783, 575)\n",
      "File: image104337.jpg, Size: (783, 575)\n",
      "File: image104338.jpg, Size: (783, 575)\n"
     ]
    },
    {
     "name": "stderr",
     "output_type": "stream",
     "text": [
      "Checking images:   3%|██▎                                                               | 4943/144888 [00:09<04:16, 545.31image/s]"
     ]
    },
    {
     "name": "stdout",
     "output_type": "stream",
     "text": [
      "File: image104349.jpg, Size: (783, 575)\n",
      "File: image104371.jpg, Size: (783, 575)\n",
      "File: image104382.jpg, Size: (783, 575)\n",
      "File: image104404.jpg, Size: (783, 575)\n",
      "File: image104415.jpg, Size: (783, 575)\n",
      "File: image104426.jpg, Size: (783, 575)\n",
      "File: image104437.jpg, Size: (783, 575)\n"
     ]
    },
    {
     "name": "stderr",
     "output_type": "stream",
     "text": [
      "Checking images:   3%|██▎                                                               | 5053/144888 [00:09<04:17, 543.51image/s]"
     ]
    },
    {
     "name": "stdout",
     "output_type": "stream",
     "text": [
      "File: image104448.jpg, Size: (783, 575)\n",
      "File: image104449.jpg, Size: (783, 575)\n",
      "File: image104460.jpg, Size: (783, 575)\n",
      "File: image104471.jpg, Size: (783, 575)\n",
      "File: image104493.jpg, Size: (783, 575)\n",
      "File: image104504.jpg, Size: (783, 575)\n",
      "File: image104515.jpg, Size: (783, 575)\n",
      "File: image104526.jpg, Size: (783, 575)\n",
      "File: image104537.jpg, Size: (783, 575)\n"
     ]
    },
    {
     "name": "stderr",
     "output_type": "stream",
     "text": [
      "Checking images:   4%|██▎                                                               | 5164/144888 [00:09<04:15, 546.91image/s]"
     ]
    },
    {
     "name": "stdout",
     "output_type": "stream",
     "text": [
      "File: image104548.jpg, Size: (783, 575)\n",
      "File: image104560.jpg, Size: (783, 575)\n",
      "File: image104571.jpg, Size: (783, 575)\n",
      "File: image104582.jpg, Size: (783, 575)\n",
      "File: image104593.jpg, Size: (783, 575)\n",
      "File: image104604.jpg, Size: (783, 575)\n",
      "File: image104615.jpg, Size: (783, 575)\n",
      "File: image104626.jpg, Size: (783, 575)\n",
      "File: image104637.jpg, Size: (783, 575)\n"
     ]
    },
    {
     "name": "stderr",
     "output_type": "stream",
     "text": [
      "Checking images:   4%|██▍                                                               | 5275/144888 [00:09<04:14, 548.39image/s]"
     ]
    },
    {
     "name": "stdout",
     "output_type": "stream",
     "text": [
      "File: image104659.jpg, Size: (783, 575)\n",
      "File: image104671.jpg, Size: (783, 575)\n",
      "File: image104682.jpg, Size: (783, 575)\n",
      "File: image104704.jpg, Size: (783, 575)\n",
      "File: image104726.jpg, Size: (783, 575)\n",
      "File: image104737.jpg, Size: (783, 575)\n",
      "File: image104748.jpg, Size: (783, 575)\n"
     ]
    },
    {
     "name": "stderr",
     "output_type": "stream",
     "text": [
      "Checking images:   4%|██▍                                                               | 5385/144888 [00:09<04:15, 545.02image/s]"
     ]
    },
    {
     "name": "stdout",
     "output_type": "stream",
     "text": [
      "File: image104770.jpg, Size: (783, 575)\n",
      "File: image104781.jpg, Size: (783, 575)\n",
      "File: image104793.jpg, Size: (783, 575)\n",
      "File: image104804.jpg, Size: (783, 575)\n",
      "File: image104815.jpg, Size: (783, 575)\n",
      "File: image104848.jpg, Size: (783, 575)\n",
      "File: image104859.jpg, Size: (783, 575)\n"
     ]
    },
    {
     "name": "stderr",
     "output_type": "stream",
     "text": [
      "Checking images:   4%|██▌                                                               | 5552/144888 [00:10<04:14, 547.93image/s]"
     ]
    },
    {
     "name": "stdout",
     "output_type": "stream",
     "text": [
      "File: image104892.jpg, Size: (783, 575)\n",
      "File: image104894.jpg, Size: (783, 575)\n",
      "File: image104905.jpg, Size: (783, 575)\n",
      "File: image104916.jpg, Size: (783, 575)\n",
      "File: image104927.jpg, Size: (783, 575)\n",
      "File: image104982.jpg, Size: (783, 575)\n"
     ]
    },
    {
     "name": "stderr",
     "output_type": "stream",
     "text": [
      "Checking images:   4%|██▌                                                               | 5662/144888 [00:10<04:14, 547.06image/s]"
     ]
    },
    {
     "name": "stdout",
     "output_type": "stream",
     "text": [
      "File: image105004.jpg, Size: (783, 575)\n",
      "File: image105016.jpg, Size: (783, 575)\n",
      "File: image105027.jpg, Size: (783, 575)\n",
      "File: image105038.jpg, Size: (783, 575)\n",
      "File: image105049.jpg, Size: (783, 575)\n",
      "File: image105060.jpg, Size: (783, 575)\n",
      "File: image105071.jpg, Size: (783, 575)\n",
      "File: image105082.jpg, Size: (783, 575)\n",
      "File: image105093.jpg, Size: (783, 575)\n",
      "File: image105104.jpg, Size: (783, 575)\n"
     ]
    },
    {
     "name": "stderr",
     "output_type": "stream",
     "text": [
      "Checking images:   4%|██▋                                                               | 5772/144888 [00:10<04:14, 546.45image/s]"
     ]
    },
    {
     "name": "stdout",
     "output_type": "stream",
     "text": [
      "File: image105115.jpg, Size: (783, 575)\n",
      "File: image105127.jpg, Size: (783, 575)\n",
      "File: image105138.jpg, Size: (783, 575)\n",
      "File: image105149.jpg, Size: (783, 575)\n",
      "File: image105160.jpg, Size: (783, 575)\n"
     ]
    },
    {
     "name": "stderr",
     "output_type": "stream",
     "text": [
      "Checking images:   4%|██▋                                                               | 5882/144888 [00:10<04:14, 545.69image/s]"
     ]
    },
    {
     "name": "stdout",
     "output_type": "stream",
     "text": [
      "File: image105227.jpg, Size: (783, 575)\n",
      "File: image105238.jpg, Size: (783, 575)\n",
      "File: image105260.jpg, Size: (783, 575)\n",
      "File: image105271.jpg, Size: (783, 575)\n",
      "File: image105282.jpg, Size: (783, 575)\n",
      "File: image105293.jpg, Size: (783, 575)\n",
      "File: image105304.jpg, Size: (783, 575)\n",
      "File: image105315.jpg, Size: (783, 575)\n",
      "File: image105326.jpg, Size: (783, 575)\n"
     ]
    },
    {
     "name": "stderr",
     "output_type": "stream",
     "text": [
      "Checking images:   4%|██▊                                                               | 6047/144888 [00:11<04:17, 539.27image/s]"
     ]
    },
    {
     "name": "stdout",
     "output_type": "stream",
     "text": [
      "File: image105338.jpg, Size: (783, 575)\n",
      "File: image105349.jpg, Size: (783, 575)\n",
      "File: image105382.jpg, Size: (783, 575)\n",
      "File: image105404.jpg, Size: (783, 575)\n",
      "File: image105415.jpg, Size: (783, 575)\n",
      "File: image105426.jpg, Size: (783, 575)\n",
      "File: image105437.jpg, Size: (783, 575)\n"
     ]
    },
    {
     "name": "stderr",
     "output_type": "stream",
     "text": [
      "Checking images:   4%|██▊                                                               | 6155/144888 [00:11<04:17, 538.91image/s]"
     ]
    },
    {
     "name": "stdout",
     "output_type": "stream",
     "text": [
      "File: image105448.jpg, Size: (783, 575)\n",
      "File: image105449.jpg, Size: (783, 575)\n",
      "File: image105482.jpg, Size: (783, 575)\n",
      "File: image105493.jpg, Size: (783, 575)\n",
      "File: image105504.jpg, Size: (783, 575)\n",
      "File: image105548.jpg, Size: (783, 575)\n"
     ]
    },
    {
     "name": "stderr",
     "output_type": "stream",
     "text": [
      "Checking images:   4%|██▊                                                               | 6263/144888 [00:11<04:17, 538.81image/s]"
     ]
    },
    {
     "name": "stdout",
     "output_type": "stream",
     "text": [
      "File: image105559.jpg, Size: (783, 575)\n",
      "File: image105560.jpg, Size: (783, 575)\n",
      "File: image105571.jpg, Size: (783, 575)\n",
      "File: image10558.jpg, Size: (783, 575)\n",
      "File: image105593.jpg, Size: (783, 575)\n",
      "File: image105604.jpg, Size: (783, 575)\n",
      "File: image105615.jpg, Size: (783, 575)\n",
      "File: image105626.jpg, Size: (783, 575)\n"
     ]
    },
    {
     "name": "stderr",
     "output_type": "stream",
     "text": [
      "Checking images:   4%|██▉                                                               | 6372/144888 [00:11<04:16, 540.98image/s]"
     ]
    },
    {
     "name": "stdout",
     "output_type": "stream",
     "text": [
      "File: image105659.jpg, Size: (783, 575)\n",
      "File: image105670.jpg, Size: (783, 575)\n",
      "File: image105671.jpg, Size: (783, 575)\n",
      "File: image105682.jpg, Size: (783, 575)\n",
      "File: image105693.jpg, Size: (783, 575)\n",
      "File: image105704.jpg, Size: (783, 575)\n",
      "File: image105715.jpg, Size: (783, 575)\n",
      "File: image105726.jpg, Size: (783, 575)\n",
      "File: image105748.jpg, Size: (783, 575)\n"
     ]
    },
    {
     "name": "stderr",
     "output_type": "stream",
     "text": [
      "Checking images:   4%|██▉                                                               | 6482/144888 [00:11<04:16, 539.78image/s]"
     ]
    },
    {
     "name": "stdout",
     "output_type": "stream",
     "text": [
      "File: image105770.jpg, Size: (783, 575)\n",
      "File: image105781.jpg, Size: (783, 575)\n",
      "File: image105782.jpg, Size: (783, 575)\n",
      "File: image105804.jpg, Size: (783, 575)\n",
      "File: image105815.jpg, Size: (783, 575)\n",
      "File: image105837.jpg, Size: (783, 575)\n",
      "File: image105848.jpg, Size: (783, 575)\n",
      "File: image105859.jpg, Size: (783, 575)\n"
     ]
    },
    {
     "name": "stderr",
     "output_type": "stream",
     "text": [
      "Checking images:   5%|███                                                               | 6593/144888 [00:12<04:14, 543.75image/s]"
     ]
    },
    {
     "name": "stdout",
     "output_type": "stream",
     "text": [
      "File: image105881.jpg, Size: (783, 575)\n",
      "File: image105892.jpg, Size: (783, 575)\n",
      "File: image105893.jpg, Size: (783, 575)\n",
      "File: image105904.jpg, Size: (783, 575)\n",
      "File: image105915.jpg, Size: (783, 575)\n",
      "File: image105926.jpg, Size: (783, 575)\n",
      "File: image105948.jpg, Size: (783, 575)\n",
      "File: image105959.jpg, Size: (783, 575)\n"
     ]
    },
    {
     "name": "stderr",
     "output_type": "stream",
     "text": [
      "Checking images:   5%|███                                                               | 6759/144888 [00:12<04:14, 542.74image/s]"
     ]
    },
    {
     "name": "stdout",
     "output_type": "stream",
     "text": [
      "File: image106004.jpg, Size: (783, 575)\n",
      "File: image106005.jpg, Size: (783, 575)\n",
      "File: image106027.jpg, Size: (783, 575)\n",
      "File: image106038.jpg, Size: (783, 575)\n",
      "File: image106060.jpg, Size: (783, 575)\n",
      "File: image106071.jpg, Size: (783, 575)\n",
      "File: image106082.jpg, Size: (783, 575)\n",
      "File: image106093.jpg, Size: (783, 575)\n"
     ]
    },
    {
     "name": "stderr",
     "output_type": "stream",
     "text": [
      "Checking images:   5%|███▏                                                              | 6924/144888 [00:12<04:14, 541.72image/s]"
     ]
    },
    {
     "name": "stdout",
     "output_type": "stream",
     "text": [
      "File: image106127.jpg, Size: (783, 575)\n",
      "File: image106149.jpg, Size: (783, 575)\n",
      "File: image106160.jpg, Size: (783, 575)\n",
      "File: image106171.jpg, Size: (783, 575)\n",
      "File: image106182.jpg, Size: (783, 575)\n",
      "File: image106193.jpg, Size: (783, 575)\n",
      "File: image106215.jpg, Size: (783, 575)\n",
      "File: image106227.jpg, Size: (783, 575)\n"
     ]
    },
    {
     "name": "stderr",
     "output_type": "stream",
     "text": [
      "Checking images:   5%|███▏                                                              | 7034/144888 [00:12<04:14, 541.77image/s]"
     ]
    },
    {
     "name": "stdout",
     "output_type": "stream",
     "text": [
      "File: image106238.jpg, Size: (783, 575)\n",
      "File: image106249.jpg, Size: (783, 575)\n",
      "File: image106260.jpg, Size: (783, 575)\n",
      "File: image106271.jpg, Size: (783, 575)\n",
      "File: image106282.jpg, Size: (783, 575)\n",
      "File: image106293.jpg, Size: (783, 575)\n",
      "File: image106304.jpg, Size: (783, 575)\n",
      "File: image106326.jpg, Size: (783, 575)\n"
     ]
    },
    {
     "name": "stderr",
     "output_type": "stream",
     "text": [
      "Checking images:   5%|███▎                                                              | 7143/144888 [00:13<04:15, 538.18image/s]"
     ]
    },
    {
     "name": "stdout",
     "output_type": "stream",
     "text": [
      "File: image106337.jpg, Size: (783, 575)\n",
      "File: image106338.jpg, Size: (783, 575)\n",
      "File: image106349.jpg, Size: (783, 575)\n",
      "File: image106360.jpg, Size: (783, 575)\n",
      "File: image106371.jpg, Size: (783, 575)\n",
      "File: image106393.jpg, Size: (783, 575)\n",
      "File: image106404.jpg, Size: (783, 575)\n",
      "File: image106415.jpg, Size: (783, 575)\n",
      "File: image106426.jpg, Size: (783, 575)\n",
      "File: image106437.jpg, Size: (783, 575)\n"
     ]
    },
    {
     "name": "stderr",
     "output_type": "stream",
     "text": [
      "Checking images:   5%|███▎                                                              | 7253/144888 [00:13<04:14, 540.02image/s]"
     ]
    },
    {
     "name": "stdout",
     "output_type": "stream",
     "text": [
      "File: image106449.jpg, Size: (783, 575)\n",
      "File: image106460.jpg, Size: (783, 575)\n",
      "File: image106471.jpg, Size: (783, 575)\n",
      "File: image106482.jpg, Size: (783, 575)\n",
      "File: image106493.jpg, Size: (783, 575)\n",
      "File: image106504.jpg, Size: (783, 575)\n",
      "File: image106515.jpg, Size: (783, 575)\n",
      "File: image106526.jpg, Size: (783, 575)\n"
     ]
    },
    {
     "name": "stderr",
     "output_type": "stream",
     "text": [
      "Checking images:   5%|███▎                                                              | 7363/144888 [00:13<04:12, 544.36image/s]"
     ]
    },
    {
     "name": "stdout",
     "output_type": "stream",
     "text": [
      "File: image106559.jpg, Size: (783, 575)\n",
      "File: image106571.jpg, Size: (783, 575)\n",
      "File: image106582.jpg, Size: (783, 575)\n",
      "File: image106593.jpg, Size: (783, 575)\n",
      "File: image106604.jpg, Size: (783, 575)\n",
      "File: image106615.jpg, Size: (783, 575)\n",
      "File: image106626.jpg, Size: (783, 575)\n",
      "File: image106637.jpg, Size: (783, 575)\n",
      "File: image106648.jpg, Size: (783, 575)\n",
      "File: image106659.jpg, Size: (783, 575)\n"
     ]
    },
    {
     "name": "stderr",
     "output_type": "stream",
     "text": [
      "Checking images:   5%|███▍                                                              | 7473/144888 [00:13<04:11, 545.88image/s]"
     ]
    },
    {
     "name": "stdout",
     "output_type": "stream",
     "text": [
      "File: image106670.jpg, Size: (783, 575)\n",
      "File: image106671.jpg, Size: (783, 575)\n",
      "File: image106693.jpg, Size: (783, 575)\n",
      "File: image106704.jpg, Size: (783, 575)\n",
      "File: image106715.jpg, Size: (783, 575)\n",
      "File: image106726.jpg, Size: (783, 575)\n",
      "File: image106737.jpg, Size: (783, 575)\n",
      "File: image106759.jpg, Size: (783, 575)\n",
      "File: image106770.jpg, Size: (783, 575)\n"
     ]
    },
    {
     "name": "stderr",
     "output_type": "stream",
     "text": [
      "Checking images:   5%|███▍                                                              | 7638/144888 [00:14<04:11, 545.66image/s]"
     ]
    },
    {
     "name": "stdout",
     "output_type": "stream",
     "text": [
      "File: image106781.jpg, Size: (783, 575)\n",
      "File: image106782.jpg, Size: (783, 575)\n",
      "File: image106804.jpg, Size: (783, 575)\n",
      "File: image106815.jpg, Size: (783, 575)\n",
      "File: image106837.jpg, Size: (783, 575)\n",
      "File: image106859.jpg, Size: (783, 575)\n",
      "File: image106870.jpg, Size: (783, 575)\n",
      "File: image106881.jpg, Size: (783, 575)\n"
     ]
    },
    {
     "name": "stderr",
     "output_type": "stream",
     "text": [
      "Checking images:   5%|███▌                                                              | 7749/144888 [00:14<04:10, 546.66image/s]"
     ]
    },
    {
     "name": "stdout",
     "output_type": "stream",
     "text": [
      "File: image106893.jpg, Size: (783, 575)\n",
      "File: image106904.jpg, Size: (783, 575)\n",
      "File: image106915.jpg, Size: (783, 575)\n",
      "File: image106926.jpg, Size: (783, 575)\n",
      "File: image106937.jpg, Size: (783, 575)\n",
      "File: image106959.jpg, Size: (783, 575)\n",
      "File: image106981.jpg, Size: (783, 575)\n",
      "File: image106992.jpg, Size: (783, 575)\n"
     ]
    },
    {
     "name": "stderr",
     "output_type": "stream",
     "text": [
      "Checking images:   5%|███▌                                                              | 7859/144888 [00:14<04:11, 544.63image/s]"
     ]
    },
    {
     "name": "stdout",
     "output_type": "stream",
     "text": [
      "File: image107003.jpg, Size: (783, 575)\n",
      "File: image107015.jpg, Size: (783, 575)\n",
      "File: image107026.jpg, Size: (783, 575)\n",
      "File: image107037.jpg, Size: (783, 575)\n",
      "File: image107059.jpg, Size: (783, 575)\n",
      "File: image107070.jpg, Size: (783, 575)\n",
      "File: image107081.jpg, Size: (783, 575)\n",
      "File: image107103.jpg, Size: (783, 575)\n"
     ]
    },
    {
     "name": "stderr",
     "output_type": "stream",
     "text": [
      "Checking images:   6%|███▋                                                              | 7969/144888 [00:14<04:11, 545.28image/s]"
     ]
    },
    {
     "name": "stdout",
     "output_type": "stream",
     "text": [
      "File: image107115.jpg, Size: (783, 575)\n",
      "File: image107116.jpg, Size: (783, 575)\n",
      "File: image107127.jpg, Size: (783, 575)\n",
      "File: image107138.jpg, Size: (783, 575)\n",
      "File: image107149.jpg, Size: (783, 575)\n",
      "File: image107160.jpg, Size: (783, 575)\n",
      "File: image107171.jpg, Size: (783, 575)\n",
      "File: image107193.jpg, Size: (783, 575)\n"
     ]
    },
    {
     "name": "stderr",
     "output_type": "stream",
     "text": [
      "Checking images:   6%|███▋                                                              | 8079/144888 [00:14<04:11, 544.62image/s]"
     ]
    },
    {
     "name": "stdout",
     "output_type": "stream",
     "text": [
      "File: image107215.jpg, Size: (783, 575)\n",
      "File: image107238.jpg, Size: (783, 575)\n",
      "File: image107260.jpg, Size: (783, 575)\n",
      "File: image107271.jpg, Size: (783, 575)\n",
      "File: image107282.jpg, Size: (783, 575)\n",
      "File: image107304.jpg, Size: (783, 575)\n"
     ]
    },
    {
     "name": "stderr",
     "output_type": "stream",
     "text": [
      "Checking images:   6%|███▋                                                              | 8188/144888 [00:15<04:17, 530.18image/s]"
     ]
    },
    {
     "name": "stdout",
     "output_type": "stream",
     "text": [
      "File: image107315.jpg, Size: (783, 575)\n",
      "File: image107326.jpg, Size: (783, 575)\n",
      "File: image107337.jpg, Size: (783, 575)\n",
      "File: image107338.jpg, Size: (783, 575)\n",
      "File: image107349.jpg, Size: (783, 575)\n",
      "File: image107360.jpg, Size: (783, 575)\n",
      "File: image107371.jpg, Size: (783, 575)\n",
      "File: image107382.jpg, Size: (783, 575)\n",
      "File: image107393.jpg, Size: (783, 575)\n",
      "File: image107404.jpg, Size: (783, 575)\n"
     ]
    },
    {
     "name": "stderr",
     "output_type": "stream",
     "text": [
      "Checking images:   6%|███▊                                                              | 8351/144888 [00:15<04:13, 537.70image/s]"
     ]
    },
    {
     "name": "stdout",
     "output_type": "stream",
     "text": [
      "File: image107415.jpg, Size: (783, 575)\n",
      "File: image107437.jpg, Size: (783, 575)\n",
      "File: image107448.jpg, Size: (783, 575)\n",
      "File: image107449.jpg, Size: (783, 575)\n",
      "File: image107460.jpg, Size: (783, 575)\n",
      "File: image107471.jpg, Size: (783, 575)\n",
      "File: image107482.jpg, Size: (783, 575)\n",
      "File: image107504.jpg, Size: (783, 575)\n"
     ]
    },
    {
     "name": "stderr",
     "output_type": "stream",
     "text": [
      "Checking images:   6%|███▊                                                              | 8461/144888 [00:15<04:11, 542.53image/s]"
     ]
    },
    {
     "name": "stdout",
     "output_type": "stream",
     "text": [
      "File: image107515.jpg, Size: (783, 575)\n",
      "File: image107548.jpg, Size: (783, 575)\n",
      "File: image107559.jpg, Size: (783, 575)\n",
      "File: image107571.jpg, Size: (783, 575)\n",
      "File: image107593.jpg, Size: (783, 575)\n",
      "File: image107604.jpg, Size: (783, 575)\n"
     ]
    },
    {
     "name": "stderr",
     "output_type": "stream",
     "text": [
      "Checking images:   6%|███▉                                                              | 8571/144888 [00:15<04:10, 543.34image/s]"
     ]
    },
    {
     "name": "stdout",
     "output_type": "stream",
     "text": [
      "File: image107615.jpg, Size: (783, 575)\n",
      "File: image107626.jpg, Size: (783, 575)\n",
      "File: image107637.jpg, Size: (783, 575)\n",
      "File: image107648.jpg, Size: (783, 575)\n",
      "File: image107659.jpg, Size: (783, 575)\n",
      "File: image107670.jpg, Size: (783, 575)\n",
      "File: image107671.jpg, Size: (783, 575)\n",
      "File: image107693.jpg, Size: (783, 575)\n",
      "File: image107704.jpg, Size: (783, 575)\n"
     ]
    },
    {
     "name": "stderr",
     "output_type": "stream",
     "text": [
      "Checking images:   6%|███▉                                                              | 8681/144888 [00:15<04:12, 540.26image/s]"
     ]
    },
    {
     "name": "stdout",
     "output_type": "stream",
     "text": [
      "File: image107715.jpg, Size: (783, 575)\n",
      "File: image107748.jpg, Size: (783, 575)\n",
      "File: image107759.jpg, Size: (783, 575)\n",
      "File: image107781.jpg, Size: (783, 575)\n",
      "File: image107782.jpg, Size: (783, 575)\n",
      "File: image107804.jpg, Size: (783, 575)\n"
     ]
    },
    {
     "name": "stderr",
     "output_type": "stream",
     "text": [
      "Checking images:   6%|████                                                              | 8791/144888 [00:16<04:10, 542.64image/s]"
     ]
    },
    {
     "name": "stdout",
     "output_type": "stream",
     "text": [
      "File: image107815.jpg, Size: (783, 575)\n",
      "File: image107826.jpg, Size: (783, 575)\n",
      "File: image107837.jpg, Size: (783, 575)\n",
      "File: image107870.jpg, Size: (783, 575)\n",
      "File: image107892.jpg, Size: (783, 575)\n",
      "File: image107893.jpg, Size: (783, 575)\n",
      "File: image107904.jpg, Size: (783, 575)\n"
     ]
    },
    {
     "name": "stderr",
     "output_type": "stream",
     "text": [
      "Checking images:   6%|████                                                              | 8901/144888 [00:16<04:10, 543.11image/s]"
     ]
    },
    {
     "name": "stdout",
     "output_type": "stream",
     "text": [
      "File: image107915.jpg, Size: (783, 575)\n",
      "File: image107937.jpg, Size: (783, 575)\n",
      "File: image107959.jpg, Size: (783, 575)\n",
      "File: image107970.jpg, Size: (783, 575)\n",
      "File: image107981.jpg, Size: (783, 575)\n",
      "File: image108003.jpg, Size: (783, 575)\n",
      "File: image108004.jpg, Size: (783, 575)\n"
     ]
    },
    {
     "name": "stderr",
     "output_type": "stream",
     "text": [
      "Checking images:   6%|████                                                              | 9010/144888 [00:16<04:12, 538.84image/s]"
     ]
    },
    {
     "name": "stdout",
     "output_type": "stream",
     "text": [
      "File: image108015.jpg, Size: (783, 575)\n",
      "File: image108026.jpg, Size: (783, 575)\n",
      "File: image108037.jpg, Size: (783, 575)\n",
      "File: image108048.jpg, Size: (783, 575)\n",
      "File: image108059.jpg, Size: (783, 575)\n",
      "File: image108070.jpg, Size: (783, 575)\n",
      "File: image108092.jpg, Size: (783, 575)\n",
      "File: image108103.jpg, Size: (783, 575)\n"
     ]
    },
    {
     "name": "stderr",
     "output_type": "stream",
     "text": [
      "Checking images:   6%|████▏                                                             | 9120/144888 [00:16<04:11, 540.34image/s]"
     ]
    },
    {
     "name": "stdout",
     "output_type": "stream",
     "text": [
      "File: image108115.jpg, Size: (783, 575)\n",
      "File: image108137.jpg, Size: (783, 575)\n",
      "File: image108192.jpg, Size: (783, 575)\n",
      "File: image108203.jpg, Size: (783, 575)\n"
     ]
    },
    {
     "name": "stderr",
     "output_type": "stream",
     "text": [
      "Checking images:   6%|████▏                                                             | 9229/144888 [00:17<04:12, 537.25image/s]"
     ]
    },
    {
     "name": "stdout",
     "output_type": "stream",
     "text": [
      "File: image108214.jpg, Size: (783, 575)\n",
      "File: image108225.jpg, Size: (783, 575)\n",
      "File: image108226.jpg, Size: (783, 575)\n",
      "File: image108227.jpg, Size: (783, 575)\n",
      "File: image108238.jpg, Size: (783, 575)\n",
      "File: image108260.jpg, Size: (783, 575)\n",
      "File: image108271.jpg, Size: (783, 575)\n",
      "File: image108282.jpg, Size: (783, 575)\n",
      "File: image108293.jpg, Size: (783, 575)\n"
     ]
    },
    {
     "name": "stderr",
     "output_type": "stream",
     "text": [
      "Checking images:   6%|████▎                                                             | 9337/144888 [00:17<04:13, 535.65image/s]"
     ]
    },
    {
     "name": "stdout",
     "output_type": "stream",
     "text": [
      "File: image108337.jpg, Size: (783, 575)\n",
      "File: image108349.jpg, Size: (783, 575)\n",
      "File: image108360.jpg, Size: (783, 575)\n",
      "File: image108404.jpg, Size: (783, 575)\n",
      "File: image108415.jpg, Size: (783, 575)\n"
     ]
    },
    {
     "name": "stderr",
     "output_type": "stream",
     "text": [
      "Checking images:   7%|████▎                                                             | 9446/144888 [00:17<04:11, 537.83image/s]"
     ]
    },
    {
     "name": "stdout",
     "output_type": "stream",
     "text": [
      "File: image108437.jpg, Size: (783, 575)\n",
      "File: image108448.jpg, Size: (783, 575)\n",
      "File: image108460.jpg, Size: (783, 575)\n",
      "File: image108471.jpg, Size: (783, 575)\n",
      "File: image108515.jpg, Size: (783, 575)\n",
      "File: image108526.jpg, Size: (783, 575)\n"
     ]
    },
    {
     "name": "stderr",
     "output_type": "stream",
     "text": [
      "Checking images:   7%|████▎                                                             | 9555/144888 [00:17<04:11, 538.91image/s]"
     ]
    },
    {
     "name": "stdout",
     "output_type": "stream",
     "text": [
      "File: image108537.jpg, Size: (783, 575)\n",
      "File: image108559.jpg, Size: (783, 575)\n",
      "File: image108560.jpg, Size: (783, 575)\n",
      "File: image108571.jpg, Size: (783, 575)\n",
      "File: image108582.jpg, Size: (783, 575)\n",
      "File: image108593.jpg, Size: (783, 575)\n",
      "File: image108604.jpg, Size: (783, 575)\n",
      "File: image108615.jpg, Size: (783, 575)\n"
     ]
    },
    {
     "name": "stderr",
     "output_type": "stream",
     "text": [
      "Checking images:   7%|████▍                                                             | 9664/144888 [00:17<04:10, 539.02image/s]"
     ]
    },
    {
     "name": "stdout",
     "output_type": "stream",
     "text": [
      "File: image108637.jpg, Size: (783, 575)\n",
      "File: image108648.jpg, Size: (783, 575)\n",
      "File: image108659.jpg, Size: (783, 575)\n",
      "File: image108670.jpg, Size: (783, 575)\n",
      "File: image108682.jpg, Size: (783, 575)\n",
      "File: image108693.jpg, Size: (783, 575)\n",
      "File: image108704.jpg, Size: (783, 575)\n",
      "File: image108715.jpg, Size: (783, 575)\n",
      "File: image108726.jpg, Size: (783, 575)\n"
     ]
    },
    {
     "name": "stderr",
     "output_type": "stream",
     "text": [
      "Checking images:   7%|████▍                                                             | 9827/144888 [00:18<04:10, 539.22image/s]"
     ]
    },
    {
     "name": "stdout",
     "output_type": "stream",
     "text": [
      "File: image108737.jpg, Size: (783, 575)\n",
      "File: image108748.jpg, Size: (783, 575)\n",
      "File: image108759.jpg, Size: (783, 575)\n",
      "File: image108770.jpg, Size: (783, 575)\n",
      "File: image108781.jpg, Size: (783, 575)\n",
      "File: image108782.jpg, Size: (783, 575)\n",
      "File: image108826.jpg, Size: (783, 575)\n"
     ]
    },
    {
     "name": "stderr",
     "output_type": "stream",
     "text": [
      "Checking images:   7%|████▌                                                             | 9937/144888 [00:18<04:09, 541.65image/s]"
     ]
    },
    {
     "name": "stdout",
     "output_type": "stream",
     "text": [
      "File: image108848.jpg, Size: (783, 575)\n",
      "File: image108859.jpg, Size: (783, 575)\n",
      "File: image108870.jpg, Size: (783, 575)\n",
      "File: image108881.jpg, Size: (783, 575)\n",
      "File: image108892.jpg, Size: (783, 575)\n",
      "File: image108893.jpg, Size: (783, 575)\n",
      "File: image10891.jpg, Size: (783, 575)\n",
      "File: image108915.jpg, Size: (783, 575)\n",
      "File: image108926.jpg, Size: (783, 575)\n",
      "File: image108937.jpg, Size: (783, 575)\n"
     ]
    },
    {
     "name": "stderr",
     "output_type": "stream",
     "text": [
      "Checking images:   7%|████▌                                                            | 10048/144888 [00:18<04:06, 547.44image/s]"
     ]
    },
    {
     "name": "stdout",
     "output_type": "stream",
     "text": [
      "File: image108948.jpg, Size: (783, 575)\n",
      "File: image108959.jpg, Size: (783, 575)\n",
      "File: image108992.jpg, Size: (783, 575)\n",
      "File: image109003.jpg, Size: (783, 575)\n",
      "File: image109004.jpg, Size: (783, 575)\n",
      "File: image109037.jpg, Size: (783, 575)\n"
     ]
    },
    {
     "name": "stderr",
     "output_type": "stream",
     "text": [
      "Checking images:   7%|████▌                                                            | 10159/144888 [00:18<04:05, 549.37image/s]"
     ]
    },
    {
     "name": "stdout",
     "output_type": "stream",
     "text": [
      "File: image109048.jpg, Size: (783, 575)\n",
      "File: image109059.jpg, Size: (783, 575)\n",
      "File: image109070.jpg, Size: (783, 575)\n",
      "File: image109092.jpg, Size: (783, 575)\n",
      "File: image109103.jpg, Size: (783, 575)\n",
      "File: image109114.jpg, Size: (783, 575)\n",
      "File: image109115.jpg, Size: (783, 575)\n",
      "File: image109126.jpg, Size: (783, 575)\n",
      "File: image109137.jpg, Size: (783, 575)\n"
     ]
    },
    {
     "name": "stderr",
     "output_type": "stream",
     "text": [
      "Checking images:   7%|████▌                                                            | 10270/144888 [00:18<04:04, 549.59image/s]"
     ]
    },
    {
     "name": "stdout",
     "output_type": "stream",
     "text": [
      "File: image109148.jpg, Size: (783, 575)\n",
      "File: image109159.jpg, Size: (783, 575)\n",
      "File: image109170.jpg, Size: (783, 575)\n",
      "File: image109181.jpg, Size: (783, 575)\n",
      "File: image109203.jpg, Size: (783, 575)\n",
      "File: image109225.jpg, Size: (783, 575)\n",
      "File: image109237.jpg, Size: (783, 575)\n"
     ]
    },
    {
     "name": "stderr",
     "output_type": "stream",
     "text": [
      "Checking images:   7%|████▋                                                            | 10380/144888 [00:19<04:07, 543.98image/s]"
     ]
    },
    {
     "name": "stdout",
     "output_type": "stream",
     "text": [
      "File: image109270.jpg, Size: (783, 575)\n",
      "File: image109281.jpg, Size: (783, 575)\n",
      "File: image109292.jpg, Size: (783, 575)\n",
      "File: image109303.jpg, Size: (783, 575)\n",
      "File: image109314.jpg, Size: (783, 575)\n",
      "File: image109337.jpg, Size: (783, 575)\n",
      "File: image109338.jpg, Size: (783, 575)\n",
      "File: image109349.jpg, Size: (783, 575)\n",
      "File: image109360.jpg, Size: (783, 575)\n",
      "File: image109371.jpg, Size: (783, 575)\n"
     ]
    },
    {
     "name": "stderr",
     "output_type": "stream",
     "text": [
      "Checking images:   7%|████▋                                                            | 10546/144888 [00:19<04:05, 547.73image/s]"
     ]
    },
    {
     "name": "stdout",
     "output_type": "stream",
     "text": [
      "File: image109393.jpg, Size: (783, 575)\n",
      "File: image109415.jpg, Size: (783, 575)\n",
      "File: image109437.jpg, Size: (783, 575)\n",
      "File: image109448.jpg, Size: (783, 575)\n",
      "File: image109449.jpg, Size: (783, 575)\n",
      "File: image109471.jpg, Size: (783, 575)\n"
     ]
    },
    {
     "name": "stderr",
     "output_type": "stream",
     "text": [
      "\r",
      "Checking images:   7%|████▊                                                            | 10601/144888 [00:19<04:05, 547.55image/s]"
     ]
    },
    {
     "name": "stdout",
     "output_type": "stream",
     "text": [
      "File: image109493.jpg, Size: (783, 575)\n",
      "File: image109515.jpg, Size: (783, 575)\n",
      "File: image109526.jpg, Size: (783, 575)\n",
      "File: image109537.jpg, Size: (783, 575)\n",
      "File: image109548.jpg, Size: (783, 575)\n",
      "File: image109559.jpg, Size: (783, 575)\n",
      "File: image109560.jpg, Size: (783, 575)\n",
      "File: image109571.jpg, Size: (783, 575)\n"
     ]
    },
    {
     "name": "stderr",
     "output_type": "stream",
     "text": [
      "Checking images:   7%|████▊                                                            | 10766/144888 [00:19<04:06, 543.79image/s]"
     ]
    },
    {
     "name": "stdout",
     "output_type": "stream",
     "text": [
      "File: image109593.jpg, Size: (783, 575)\n",
      "File: image109604.jpg, Size: (783, 575)\n",
      "File: image109615.jpg, Size: (783, 575)\n",
      "File: image109626.jpg, Size: (783, 575)\n",
      "File: image109637.jpg, Size: (783, 575)\n",
      "File: image109648.jpg, Size: (783, 575)\n",
      "File: image109659.jpg, Size: (783, 575)\n",
      "File: image109670.jpg, Size: (783, 575)\n",
      "File: image109671.jpg, Size: (783, 575)\n",
      "File: image109682.jpg, Size: (783, 575)\n"
     ]
    },
    {
     "name": "stderr",
     "output_type": "stream",
     "text": [
      "Checking images:   8%|████▉                                                            | 10876/144888 [00:20<04:07, 541.87image/s]"
     ]
    },
    {
     "name": "stdout",
     "output_type": "stream",
     "text": [
      "File: image109693.jpg, Size: (783, 575)\n",
      "File: image109715.jpg, Size: (783, 575)\n",
      "File: image109726.jpg, Size: (783, 575)\n",
      "File: image109748.jpg, Size: (783, 575)\n",
      "File: image109759.jpg, Size: (783, 575)\n",
      "File: image109770.jpg, Size: (783, 575)\n",
      "File: image109782.jpg, Size: (783, 575)\n"
     ]
    },
    {
     "name": "stderr",
     "output_type": "stream",
     "text": [
      "Checking images:   8%|████▉                                                            | 10987/144888 [00:20<04:05, 544.80image/s]"
     ]
    },
    {
     "name": "stdout",
     "output_type": "stream",
     "text": [
      "File: image109793.jpg, Size: (783, 575)\n",
      "File: image109804.jpg, Size: (783, 575)\n",
      "File: image109815.jpg, Size: (783, 575)\n",
      "File: image109837.jpg, Size: (783, 575)\n",
      "File: image109848.jpg, Size: (783, 575)\n",
      "File: image109859.jpg, Size: (783, 575)\n",
      "File: image109870.jpg, Size: (783, 575)\n",
      "File: image109881.jpg, Size: (783, 575)\n"
     ]
    },
    {
     "name": "stderr",
     "output_type": "stream",
     "text": [
      "Checking images:   8%|████▉                                                            | 11098/144888 [00:20<04:04, 547.68image/s]"
     ]
    },
    {
     "name": "stdout",
     "output_type": "stream",
     "text": [
      "File: image109892.jpg, Size: (783, 575)\n",
      "File: image109893.jpg, Size: (783, 575)\n",
      "File: image109915.jpg, Size: (783, 575)\n",
      "File: image109937.jpg, Size: (783, 575)\n",
      "File: image109948.jpg, Size: (783, 575)\n",
      "File: image109959.jpg, Size: (783, 575)\n",
      "File: image109981.jpg, Size: (783, 575)\n"
     ]
    },
    {
     "name": "stderr",
     "output_type": "stream",
     "text": [
      "Checking images:   8%|█████                                                            | 11208/144888 [00:20<04:04, 547.43image/s]"
     ]
    },
    {
     "name": "stdout",
     "output_type": "stream",
     "text": [
      "File: image110003.jpg, Size: (783, 575)\n",
      "File: image110004.jpg, Size: (783, 575)\n",
      "File: image110026.jpg, Size: (783, 575)\n",
      "File: image110037.jpg, Size: (783, 575)\n",
      "File: image110059.jpg, Size: (783, 575)\n",
      "File: image110070.jpg, Size: (783, 575)\n",
      "File: image110081.jpg, Size: (783, 575)\n",
      "File: image110092.jpg, Size: (783, 575)\n",
      "File: image110103.jpg, Size: (783, 575)\n"
     ]
    },
    {
     "name": "stderr",
     "output_type": "stream",
     "text": [
      "Checking images:   8%|█████                                                            | 11318/144888 [00:20<04:04, 546.63image/s]"
     ]
    },
    {
     "name": "stdout",
     "output_type": "stream",
     "text": [
      "File: image110114.jpg, Size: (783, 575)\n",
      "File: image110115.jpg, Size: (783, 575)\n",
      "File: image110137.jpg, Size: (783, 575)\n",
      "File: image110148.jpg, Size: (783, 575)\n",
      "File: image110159.jpg, Size: (783, 575)\n",
      "File: image110181.jpg, Size: (783, 575)\n",
      "File: image110203.jpg, Size: (783, 575)\n"
     ]
    },
    {
     "name": "stderr",
     "output_type": "stream",
     "text": [
      "Checking images:   8%|█████▏                                                           | 11428/144888 [00:21<04:05, 543.67image/s]"
     ]
    },
    {
     "name": "stdout",
     "output_type": "stream",
     "text": [
      "File: image110237.jpg, Size: (783, 575)\n",
      "File: image110248.jpg, Size: (783, 575)\n",
      "File: image110259.jpg, Size: (783, 575)\n",
      "File: image110270.jpg, Size: (783, 575)\n",
      "File: image110281.jpg, Size: (783, 575)\n",
      "File: image110292.jpg, Size: (783, 575)\n",
      "File: image110314.jpg, Size: (783, 575)\n"
     ]
    },
    {
     "name": "stderr",
     "output_type": "stream",
     "text": [
      "Checking images:   8%|█████▏                                                           | 11594/144888 [00:21<04:04, 544.38image/s]"
     ]
    },
    {
     "name": "stdout",
     "output_type": "stream",
     "text": [
      "File: image110336.jpg, Size: (783, 575)\n",
      "File: image110337.jpg, Size: (783, 575)\n",
      "File: image110359.jpg, Size: (783, 575)\n",
      "File: image110370.jpg, Size: (783, 575)\n",
      "File: image110381.jpg, Size: (783, 575)\n",
      "File: image110392.jpg, Size: (783, 575)\n",
      "File: image110425.jpg, Size: (783, 575)\n"
     ]
    },
    {
     "name": "stderr",
     "output_type": "stream",
     "text": [
      "Checking images:   8%|█████▎                                                           | 11705/144888 [00:21<04:03, 546.03image/s]"
     ]
    },
    {
     "name": "stdout",
     "output_type": "stream",
     "text": [
      "File: image110436.jpg, Size: (783, 575)\n",
      "File: image110449.jpg, Size: (783, 575)\n",
      "File: image110482.jpg, Size: (783, 575)\n",
      "File: image110493.jpg, Size: (783, 575)\n",
      "File: image110504.jpg, Size: (783, 575)\n",
      "File: image110515.jpg, Size: (783, 575)\n",
      "File: image110526.jpg, Size: (783, 575)\n"
     ]
    },
    {
     "name": "stderr",
     "output_type": "stream",
     "text": [
      "Checking images:   8%|█████▎                                                           | 11814/144888 [00:21<04:07, 537.44image/s]"
     ]
    },
    {
     "name": "stdout",
     "output_type": "stream",
     "text": [
      "File: image110548.jpg, Size: (783, 575)\n",
      "File: image110559.jpg, Size: (783, 575)\n",
      "File: image110560.jpg, Size: (783, 575)\n",
      "File: image110571.jpg, Size: (783, 575)\n",
      "File: image110582.jpg, Size: (783, 575)\n",
      "File: image110593.jpg, Size: (783, 575)\n",
      "File: image110604.jpg, Size: (783, 575)\n",
      "File: image110626.jpg, Size: (783, 575)\n",
      "File: image110637.jpg, Size: (783, 575)\n"
     ]
    },
    {
     "name": "stderr",
     "output_type": "stream",
     "text": [
      "Checking images:   8%|█████▎                                                           | 11922/144888 [00:21<04:11, 529.34image/s]"
     ]
    },
    {
     "name": "stdout",
     "output_type": "stream",
     "text": [
      "File: image110648.jpg, Size: (783, 575)\n",
      "File: image110659.jpg, Size: (783, 575)\n",
      "File: image110670.jpg, Size: (783, 575)\n",
      "File: image110671.jpg, Size: (783, 575)\n",
      "File: image110693.jpg, Size: (783, 575)\n",
      "File: image110704.jpg, Size: (783, 575)\n",
      "File: image110715.jpg, Size: (783, 575)\n",
      "File: image110726.jpg, Size: (783, 575)\n"
     ]
    },
    {
     "name": "stderr",
     "output_type": "stream",
     "text": [
      "Checking images:   8%|█████▍                                                           | 12030/144888 [00:22<04:10, 530.19image/s]"
     ]
    },
    {
     "name": "stdout",
     "output_type": "stream",
     "text": [
      "File: image110748.jpg, Size: (783, 575)\n",
      "File: image110770.jpg, Size: (783, 575)\n",
      "File: image110781.jpg, Size: (783, 575)\n",
      "File: image110782.jpg, Size: (783, 575)\n",
      "File: image110793.jpg, Size: (783, 575)\n",
      "File: image110804.jpg, Size: (783, 575)\n",
      "File: image110815.jpg, Size: (783, 575)\n",
      "File: image110826.jpg, Size: (783, 575)\n",
      "File: image110837.jpg, Size: (783, 575)\n"
     ]
    },
    {
     "name": "stderr",
     "output_type": "stream",
     "text": [
      "Checking images:   8%|█████▍                                                           | 12137/144888 [00:22<04:12, 525.97image/s]"
     ]
    },
    {
     "name": "stdout",
     "output_type": "stream",
     "text": [
      "File: image110848.jpg, Size: (783, 575)\n",
      "File: image110859.jpg, Size: (783, 575)\n",
      "File: image110870.jpg, Size: (783, 575)\n",
      "File: image110881.jpg, Size: (783, 575)\n",
      "File: image110893.jpg, Size: (783, 575)\n",
      "File: image110904.jpg, Size: (783, 575)\n",
      "File: image110926.jpg, Size: (783, 575)\n",
      "File: image110937.jpg, Size: (783, 575)\n"
     ]
    },
    {
     "name": "stderr",
     "output_type": "stream",
     "text": [
      "Checking images:   8%|█████▍                                                           | 12245/144888 [00:22<04:10, 529.50image/s]"
     ]
    },
    {
     "name": "stdout",
     "output_type": "stream",
     "text": [
      "File: image110948.jpg, Size: (783, 575)\n",
      "File: image110959.jpg, Size: (783, 575)\n",
      "File: image110981.jpg, Size: (783, 575)\n",
      "File: image110992.jpg, Size: (783, 575)\n",
      "File: image111003.jpg, Size: (783, 575)\n",
      "File: image111004.jpg, Size: (783, 575)\n",
      "File: image111015.jpg, Size: (783, 575)\n",
      "File: image111026.jpg, Size: (783, 575)\n",
      "File: image111037.jpg, Size: (783, 575)\n",
      "File: image111048.jpg, Size: (783, 575)\n"
     ]
    },
    {
     "name": "stderr",
     "output_type": "stream",
     "text": [
      "Checking images:   9%|█████▌                                                           | 12353/144888 [00:22<04:08, 533.42image/s]"
     ]
    },
    {
     "name": "stdout",
     "output_type": "stream",
     "text": [
      "File: image111070.jpg, Size: (783, 575)\n",
      "File: image111081.jpg, Size: (783, 575)\n",
      "File: image111092.jpg, Size: (783, 575)\n",
      "File: image111103.jpg, Size: (783, 575)\n",
      "File: image11113.jpg, Size: (783, 575)\n",
      "File: image111137.jpg, Size: (783, 575)\n",
      "File: image11114.jpg, Size: (783, 575)\n",
      "File: image111159.jpg, Size: (783, 575)\n"
     ]
    },
    {
     "name": "stderr",
     "output_type": "stream",
     "text": [
      "Checking images:   9%|█████▌                                                           | 12461/144888 [00:22<04:09, 530.62image/s]"
     ]
    },
    {
     "name": "stdout",
     "output_type": "stream",
     "text": [
      "File: image111170.jpg, Size: (783, 575)\n",
      "File: image111181.jpg, Size: (783, 575)\n",
      "File: image111192.jpg, Size: (783, 575)\n",
      "File: image111203.jpg, Size: (783, 575)\n",
      "File: image111214.jpg, Size: (783, 575)\n",
      "File: image111225.jpg, Size: (783, 575)\n",
      "File: image111226.jpg, Size: (783, 575)\n",
      "File: image111237.jpg, Size: (783, 575)\n",
      "File: image111248.jpg, Size: (783, 575)\n"
     ]
    },
    {
     "name": "stderr",
     "output_type": "stream",
     "text": [
      "Checking images:   9%|█████▋                                                           | 12623/144888 [00:23<04:08, 532.20image/s]"
     ]
    },
    {
     "name": "stdout",
     "output_type": "stream",
     "text": [
      "File: image111259.jpg, Size: (783, 575)\n",
      "File: image111270.jpg, Size: (783, 575)\n",
      "File: image111281.jpg, Size: (783, 575)\n",
      "File: image111303.jpg, Size: (783, 575)\n",
      "File: image111314.jpg, Size: (783, 575)\n",
      "File: image111325.jpg, Size: (783, 575)\n",
      "File: image111336.jpg, Size: (783, 575)\n",
      "File: image111337.jpg, Size: (783, 575)\n"
     ]
    },
    {
     "name": "stderr",
     "output_type": "stream",
     "text": [
      "Checking images:   9%|█████▋                                                           | 12732/144888 [00:23<04:07, 534.13image/s]"
     ]
    },
    {
     "name": "stdout",
     "output_type": "stream",
     "text": [
      "File: image111359.jpg, Size: (783, 575)\n",
      "File: image111381.jpg, Size: (783, 575)\n",
      "File: image111392.jpg, Size: (783, 575)\n",
      "File: image111403.jpg, Size: (783, 575)\n",
      "File: image111414.jpg, Size: (783, 575)\n",
      "File: image111425.jpg, Size: (783, 575)\n",
      "File: image111436.jpg, Size: (783, 575)\n",
      "File: image111447.jpg, Size: (783, 575)\n",
      "File: image111448.jpg, Size: (783, 575)\n"
     ]
    },
    {
     "name": "stderr",
     "output_type": "stream",
     "text": [
      "Checking images:   9%|█████▊                                                           | 12842/144888 [00:23<04:04, 539.78image/s]"
     ]
    },
    {
     "name": "stdout",
     "output_type": "stream",
     "text": [
      "File: image111459.jpg, Size: (783, 575)\n",
      "File: image111470.jpg, Size: (783, 575)\n",
      "File: image111481.jpg, Size: (783, 575)\n",
      "File: image111492.jpg, Size: (783, 575)\n",
      "File: image1115.jpg, Size: (783, 575)\n",
      "File: image111503.jpg, Size: (783, 575)\n",
      "File: image111514.jpg, Size: (783, 575)\n",
      "File: image111525.jpg, Size: (783, 575)\n",
      "File: image111536.jpg, Size: (783, 575)\n",
      "File: image111547.jpg, Size: (783, 575)\n"
     ]
    },
    {
     "name": "stderr",
     "output_type": "stream",
     "text": [
      "\r",
      "Checking images:   9%|█████▊                                                           | 12896/144888 [00:23<04:05, 537.43image/s]"
     ]
    },
    {
     "name": "stdout",
     "output_type": "stream",
     "text": [
      "File: image111558.jpg, Size: (783, 575)\n",
      "File: image111559.jpg, Size: (783, 575)\n",
      "File: image111561.jpg, Size: (783, 575)\n",
      "File: image111572.jpg, Size: (783, 575)\n",
      "File: image111594.jpg, Size: (783, 575)\n",
      "File: image111605.jpg, Size: (783, 575)\n",
      "File: image111616.jpg, Size: (783, 575)\n",
      "File: image111627.jpg, Size: (783, 575)\n",
      "File: image111638.jpg, Size: (783, 575)\n"
     ]
    },
    {
     "name": "stderr",
     "output_type": "stream",
     "text": [
      "Checking images:   9%|█████▊                                                           | 13058/144888 [00:24<04:09, 527.86image/s]"
     ]
    },
    {
     "name": "stdout",
     "output_type": "stream",
     "text": [
      "File: image111683.jpg, Size: (783, 575)\n",
      "File: image111694.jpg, Size: (783, 575)\n",
      "File: image111705.jpg, Size: (783, 575)\n",
      "File: image111716.jpg, Size: (783, 575)\n",
      "File: image111727.jpg, Size: (783, 575)\n",
      "File: image111738.jpg, Size: (783, 575)\n",
      "File: image111749.jpg, Size: (783, 575)\n",
      "File: image111760.jpg, Size: (783, 575)\n",
      "File: image111771.jpg, Size: (783, 575)\n"
     ]
    },
    {
     "name": "stderr",
     "output_type": "stream",
     "text": [
      "Checking images:   9%|█████▉                                                           | 13167/144888 [00:24<04:06, 533.55image/s]"
     ]
    },
    {
     "name": "stdout",
     "output_type": "stream",
     "text": [
      "File: image111782.jpg, Size: (783, 575)\n",
      "File: image111783.jpg, Size: (783, 575)\n",
      "File: image111794.jpg, Size: (783, 575)\n",
      "File: image111805.jpg, Size: (783, 575)\n",
      "File: image111816.jpg, Size: (783, 575)\n",
      "File: image111827.jpg, Size: (783, 575)\n",
      "File: image111838.jpg, Size: (783, 575)\n",
      "File: image111860.jpg, Size: (783, 575)\n",
      "File: image111871.jpg, Size: (783, 575)\n"
     ]
    },
    {
     "name": "stderr",
     "output_type": "stream",
     "text": [
      "Checking images:   9%|█████▉                                                           | 13331/144888 [00:24<04:03, 540.53image/s]"
     ]
    },
    {
     "name": "stdout",
     "output_type": "stream",
     "text": [
      "File: image111893.jpg, Size: (783, 575)\n",
      "File: image111894.jpg, Size: (783, 575)\n",
      "File: image111905.jpg, Size: (783, 575)\n",
      "File: image111916.jpg, Size: (783, 575)\n",
      "File: image111927.jpg, Size: (783, 575)\n",
      "File: image111949.jpg, Size: (783, 575)\n",
      "File: image111971.jpg, Size: (783, 575)\n",
      "File: image111982.jpg, Size: (783, 575)\n",
      "File: image111993.jpg, Size: (783, 575)\n"
     ]
    },
    {
     "name": "stderr",
     "output_type": "stream",
     "text": [
      "Checking images:   9%|██████                                                           | 13441/144888 [00:24<04:02, 542.78image/s]"
     ]
    },
    {
     "name": "stdout",
     "output_type": "stream",
     "text": [
      "File: image112005.jpg, Size: (783, 575)\n",
      "File: image112016.jpg, Size: (783, 575)\n",
      "File: image112027.jpg, Size: (783, 575)\n",
      "File: image112038.jpg, Size: (783, 575)\n",
      "File: image112049.jpg, Size: (783, 575)\n",
      "File: image112060.jpg, Size: (783, 575)\n",
      "File: image112071.jpg, Size: (783, 575)\n",
      "File: image112082.jpg, Size: (783, 575)\n",
      "File: image112093.jpg, Size: (783, 575)\n",
      "File: image112104.jpg, Size: (783, 575)\n"
     ]
    },
    {
     "name": "stderr",
     "output_type": "stream",
     "text": [
      "Checking images:   9%|██████                                                           | 13551/144888 [00:25<04:05, 535.93image/s]"
     ]
    },
    {
     "name": "stdout",
     "output_type": "stream",
     "text": [
      "File: image112116.jpg, Size: (783, 575)\n",
      "File: image112127.jpg, Size: (783, 575)\n",
      "File: image112138.jpg, Size: (783, 575)\n",
      "File: image112149.jpg, Size: (783, 575)\n",
      "File: image112204.jpg, Size: (783, 575)\n",
      "File: image112215.jpg, Size: (783, 575)\n"
     ]
    },
    {
     "name": "stderr",
     "output_type": "stream",
     "text": [
      "Checking images:   9%|██████▏                                                          | 13659/144888 [00:25<04:05, 533.91image/s]"
     ]
    },
    {
     "name": "stdout",
     "output_type": "stream",
     "text": [
      "File: image112226.jpg, Size: (783, 575)\n",
      "File: image112238.jpg, Size: (783, 575)\n",
      "File: image112249.jpg, Size: (783, 575)\n",
      "File: image11226.jpg, Size: (783, 575)\n",
      "File: image112260.jpg, Size: (783, 575)\n",
      "File: image112282.jpg, Size: (783, 575)\n",
      "File: image112293.jpg, Size: (783, 575)\n",
      "File: image112304.jpg, Size: (783, 575)\n"
     ]
    },
    {
     "name": "stderr",
     "output_type": "stream",
     "text": [
      "Checking images:  10%|██████▏                                                          | 13767/144888 [00:25<04:05, 534.00image/s]"
     ]
    },
    {
     "name": "stdout",
     "output_type": "stream",
     "text": [
      "File: image112337.jpg, Size: (783, 575)\n",
      "File: image112338.jpg, Size: (783, 575)\n",
      "File: image112349.jpg, Size: (783, 575)\n",
      "File: image112360.jpg, Size: (783, 575)\n",
      "File: image112371.jpg, Size: (783, 575)\n",
      "File: image112382.jpg, Size: (783, 575)\n",
      "File: image112393.jpg, Size: (783, 575)\n",
      "File: image112404.jpg, Size: (783, 575)\n",
      "File: image112426.jpg, Size: (783, 575)\n"
     ]
    },
    {
     "name": "stderr",
     "output_type": "stream",
     "text": [
      "Checking images:  10%|██████▎                                                          | 13933/144888 [00:25<04:05, 532.61image/s]"
     ]
    },
    {
     "name": "stdout",
     "output_type": "stream",
     "text": [
      "File: image112448.jpg, Size: (783, 575)\n",
      "File: image112449.jpg, Size: (783, 575)\n",
      "File: image112471.jpg, Size: (783, 575)\n",
      "File: image112493.jpg, Size: (783, 575)\n",
      "File: image112515.jpg, Size: (783, 575)\n",
      "File: image112526.jpg, Size: (783, 575)\n"
     ]
    },
    {
     "name": "stderr",
     "output_type": "stream",
     "text": [
      "Checking images:  10%|██████▎                                                          | 14041/144888 [00:25<04:06, 531.18image/s]"
     ]
    },
    {
     "name": "stdout",
     "output_type": "stream",
     "text": [
      "File: image112548.jpg, Size: (783, 575)\n",
      "File: image112559.jpg, Size: (783, 575)\n",
      "File: image112560.jpg, Size: (783, 575)\n",
      "File: image112593.jpg, Size: (783, 575)\n",
      "File: image112604.jpg, Size: (783, 575)\n",
      "File: image112615.jpg, Size: (783, 575)\n",
      "File: image112626.jpg, Size: (783, 575)\n",
      "File: image112637.jpg, Size: (783, 575)\n"
     ]
    },
    {
     "name": "stderr",
     "output_type": "stream",
     "text": [
      "Checking images:  10%|██████▎                                                          | 14150/144888 [00:26<04:03, 537.19image/s]"
     ]
    },
    {
     "name": "stdout",
     "output_type": "stream",
     "text": [
      "File: image112659.jpg, Size: (783, 575)\n",
      "File: image112670.jpg, Size: (783, 575)\n",
      "File: image112672.jpg, Size: (783, 575)\n",
      "File: image112694.jpg, Size: (783, 575)\n",
      "File: image112727.jpg, Size: (783, 575)\n",
      "File: image112738.jpg, Size: (783, 575)\n",
      "File: image112749.jpg, Size: (783, 575)\n"
     ]
    },
    {
     "name": "stderr",
     "output_type": "stream",
     "text": [
      "Checking images:  10%|██████▍                                                          | 14259/144888 [00:26<04:01, 540.18image/s]"
     ]
    },
    {
     "name": "stdout",
     "output_type": "stream",
     "text": [
      "File: image112760.jpg, Size: (783, 575)\n",
      "File: image112771.jpg, Size: (783, 575)\n",
      "File: image112783.jpg, Size: (783, 575)\n",
      "File: image112794.jpg, Size: (783, 575)\n",
      "File: image112805.jpg, Size: (783, 575)\n",
      "File: image112816.jpg, Size: (783, 575)\n",
      "File: image112838.jpg, Size: (783, 575)\n",
      "File: image112849.jpg, Size: (783, 575)\n"
     ]
    },
    {
     "name": "stderr",
     "output_type": "stream",
     "text": [
      "Checking images:  10%|██████▍                                                          | 14369/144888 [00:26<04:00, 542.60image/s]"
     ]
    },
    {
     "name": "stdout",
     "output_type": "stream",
     "text": [
      "File: image112871.jpg, Size: (783, 575)\n",
      "File: image112882.jpg, Size: (783, 575)\n",
      "File: image112894.jpg, Size: (783, 575)\n",
      "File: image112916.jpg, Size: (783, 575)\n",
      "File: image112927.jpg, Size: (783, 575)\n",
      "File: image112938.jpg, Size: (783, 575)\n",
      "File: image112960.jpg, Size: (783, 575)\n",
      "File: image112971.jpg, Size: (783, 575)\n"
     ]
    },
    {
     "name": "stderr",
     "output_type": "stream",
     "text": [
      "Checking images:  10%|██████▌                                                          | 14534/144888 [00:26<03:59, 543.65image/s]"
     ]
    },
    {
     "name": "stdout",
     "output_type": "stream",
     "text": [
      "File: image112993.jpg, Size: (783, 575)\n",
      "File: image113005.jpg, Size: (783, 575)\n",
      "File: image113027.jpg, Size: (783, 575)\n",
      "File: image113038.jpg, Size: (783, 575)\n",
      "File: image113049.jpg, Size: (783, 575)\n",
      "File: image113060.jpg, Size: (783, 575)\n",
      "File: image113071.jpg, Size: (783, 575)\n",
      "File: image113082.jpg, Size: (783, 575)\n",
      "File: image113093.jpg, Size: (783, 575)\n"
     ]
    },
    {
     "name": "stderr",
     "output_type": "stream",
     "text": [
      "Checking images:  10%|██████▌                                                          | 14644/144888 [00:27<03:59, 543.18image/s]"
     ]
    },
    {
     "name": "stdout",
     "output_type": "stream",
     "text": [
      "File: image113104.jpg, Size: (783, 575)\n",
      "File: image113115.jpg, Size: (783, 575)\n",
      "File: image113116.jpg, Size: (783, 575)\n",
      "File: image113138.jpg, Size: (783, 575)\n",
      "File: image113149.jpg, Size: (783, 575)\n",
      "File: image113160.jpg, Size: (783, 575)\n",
      "File: image113171.jpg, Size: (783, 575)\n",
      "File: image113182.jpg, Size: (783, 575)\n",
      "File: image113193.jpg, Size: (783, 575)\n",
      "File: image113204.jpg, Size: (783, 575)\n"
     ]
    },
    {
     "name": "stderr",
     "output_type": "stream",
     "text": [
      "Checking images:  10%|██████▌                                                          | 14754/144888 [00:27<04:00, 541.35image/s]"
     ]
    },
    {
     "name": "stdout",
     "output_type": "stream",
     "text": [
      "File: image113215.jpg, Size: (783, 575)\n",
      "File: image113227.jpg, Size: (783, 575)\n",
      "File: image113238.jpg, Size: (783, 575)\n",
      "File: image113249.jpg, Size: (783, 575)\n",
      "File: image113271.jpg, Size: (783, 575)\n",
      "File: image113282.jpg, Size: (783, 575)\n",
      "File: image113293.jpg, Size: (783, 575)\n",
      "File: image113304.jpg, Size: (783, 575)\n"
     ]
    },
    {
     "name": "stderr",
     "output_type": "stream",
     "text": [
      "Checking images:  10%|██████▋                                                          | 14864/144888 [00:27<03:59, 542.68image/s]"
     ]
    },
    {
     "name": "stdout",
     "output_type": "stream",
     "text": [
      "File: image113315.jpg, Size: (783, 575)\n",
      "File: image113360.jpg, Size: (783, 575)\n",
      "File: image11337.jpg, Size: (783, 575)\n",
      "File: image113371.jpg, Size: (783, 575)\n",
      "File: image113382.jpg, Size: (783, 575)\n",
      "File: image113393.jpg, Size: (783, 575)\n",
      "File: image113404.jpg, Size: (783, 575)\n"
     ]
    },
    {
     "name": "stderr",
     "output_type": "stream",
     "text": [
      "Checking images:  10%|██████▋                                                          | 14974/144888 [00:27<04:00, 539.98image/s]"
     ]
    },
    {
     "name": "stdout",
     "output_type": "stream",
     "text": [
      "File: image113415.jpg, Size: (783, 575)\n",
      "File: image113426.jpg, Size: (783, 575)\n",
      "File: image113437.jpg, Size: (783, 575)\n",
      "File: image113448.jpg, Size: (783, 575)\n",
      "File: image113449.jpg, Size: (783, 575)\n",
      "File: image113460.jpg, Size: (783, 575)\n",
      "File: image113471.jpg, Size: (783, 575)\n",
      "File: image113482.jpg, Size: (783, 575)\n",
      "File: image113515.jpg, Size: (783, 575)\n"
     ]
    },
    {
     "name": "stderr",
     "output_type": "stream",
     "text": [
      "Checking images:  10%|██████▊                                                          | 15138/144888 [00:27<04:01, 537.44image/s]"
     ]
    },
    {
     "name": "stdout",
     "output_type": "stream",
     "text": [
      "File: image113526.jpg, Size: (783, 575)\n",
      "File: image113537.jpg, Size: (783, 575)\n",
      "File: image113548.jpg, Size: (783, 575)\n",
      "File: image113559.jpg, Size: (783, 575)\n",
      "File: image113560.jpg, Size: (783, 575)\n",
      "File: image113571.jpg, Size: (783, 575)\n",
      "File: image113582.jpg, Size: (783, 575)\n",
      "File: image113593.jpg, Size: (783, 575)\n"
     ]
    },
    {
     "name": "stderr",
     "output_type": "stream",
     "text": [
      "Checking images:  11%|██████▊                                                          | 15248/144888 [00:28<04:00, 539.66image/s]"
     ]
    },
    {
     "name": "stdout",
     "output_type": "stream",
     "text": [
      "File: image113626.jpg, Size: (783, 575)\n",
      "File: image113637.jpg, Size: (783, 575)\n",
      "File: image113648.jpg, Size: (783, 575)\n",
      "File: image113659.jpg, Size: (783, 575)\n",
      "File: image113670.jpg, Size: (783, 575)\n",
      "File: image113682.jpg, Size: (783, 575)\n",
      "File: image113693.jpg, Size: (783, 575)\n",
      "File: image113704.jpg, Size: (783, 575)\n",
      "File: image113715.jpg, Size: (783, 575)\n"
     ]
    },
    {
     "name": "stderr",
     "output_type": "stream",
     "text": [
      "Checking images:  11%|██████▉                                                          | 15413/144888 [00:28<03:58, 542.32image/s]"
     ]
    },
    {
     "name": "stdout",
     "output_type": "stream",
     "text": [
      "File: image113770.jpg, Size: (783, 575)\n",
      "File: image113781.jpg, Size: (783, 575)\n",
      "File: image113782.jpg, Size: (783, 575)\n",
      "File: image113783.jpg, Size: (783, 575)\n",
      "File: image113805.jpg, Size: (783, 575)\n",
      "File: image113816.jpg, Size: (783, 575)\n",
      "File: image113827.jpg, Size: (783, 575)\n",
      "File: image113838.jpg, Size: (783, 575)\n",
      "File: image113849.jpg, Size: (783, 575)\n",
      "File: image113860.jpg, Size: (783, 575)\n"
     ]
    },
    {
     "name": "stderr",
     "output_type": "stream",
     "text": [
      "Checking images:  11%|██████▉                                                          | 15523/144888 [00:28<03:59, 540.47image/s]"
     ]
    },
    {
     "name": "stdout",
     "output_type": "stream",
     "text": [
      "File: image113882.jpg, Size: (783, 575)\n",
      "File: image113893.jpg, Size: (783, 575)\n",
      "File: image113894.jpg, Size: (783, 575)\n",
      "File: image113905.jpg, Size: (783, 575)\n",
      "File: image113916.jpg, Size: (783, 575)\n",
      "File: image113927.jpg, Size: (783, 575)\n",
      "File: image113938.jpg, Size: (783, 575)\n",
      "File: image113949.jpg, Size: (783, 575)\n",
      "File: image113971.jpg, Size: (783, 575)\n",
      "File: image113982.jpg, Size: (783, 575)\n"
     ]
    },
    {
     "name": "stderr",
     "output_type": "stream",
     "text": [
      "Checking images:  11%|███████                                                          | 15632/144888 [00:28<04:02, 534.05image/s]"
     ]
    },
    {
     "name": "stdout",
     "output_type": "stream",
     "text": [
      "File: image113993.jpg, Size: (783, 575)\n",
      "File: image114004.jpg, Size: (783, 575)\n",
      "File: image114005.jpg, Size: (783, 575)\n",
      "File: image114016.jpg, Size: (783, 575)\n",
      "File: image114038.jpg, Size: (783, 575)\n",
      "File: image114049.jpg, Size: (783, 575)\n",
      "File: image114060.jpg, Size: (783, 575)\n",
      "File: image114071.jpg, Size: (783, 575)\n",
      "File: image114082.jpg, Size: (783, 575)\n",
      "File: image114093.jpg, Size: (783, 575)\n"
     ]
    },
    {
     "name": "stderr",
     "output_type": "stream",
     "text": [
      "Checking images:  11%|███████                                                          | 15794/144888 [00:29<04:03, 531.11image/s]"
     ]
    },
    {
     "name": "stdout",
     "output_type": "stream",
     "text": [
      "File: image114104.jpg, Size: (783, 575)\n",
      "File: image114115.jpg, Size: (783, 575)\n",
      "File: image114116.jpg, Size: (783, 575)\n",
      "File: image114127.jpg, Size: (783, 575)\n",
      "File: image114138.jpg, Size: (783, 575)\n",
      "File: image114160.jpg, Size: (783, 575)\n",
      "File: image114171.jpg, Size: (783, 575)\n",
      "File: image114182.jpg, Size: (783, 575)\n",
      "File: image114193.jpg, Size: (783, 575)\n",
      "File: image114204.jpg, Size: (783, 575)\n"
     ]
    },
    {
     "name": "stderr",
     "output_type": "stream",
     "text": [
      "\r",
      "Checking images:  11%|███████                                                          | 15848/144888 [00:29<04:12, 511.78image/s]"
     ]
    },
    {
     "name": "stdout",
     "output_type": "stream",
     "text": [
      "File: image114215.jpg, Size: (783, 575)\n",
      "File: image114226.jpg, Size: (783, 575)\n",
      "File: image114249.jpg, Size: (783, 575)\n",
      "File: image114271.jpg, Size: (783, 575)\n",
      "File: image114282.jpg, Size: (783, 575)\n"
     ]
    },
    {
     "name": "stderr",
     "output_type": "stream",
     "text": [
      "Checking images:  11%|███████▏                                                         | 16008/144888 [00:29<04:06, 523.52image/s]"
     ]
    },
    {
     "name": "stdout",
     "output_type": "stream",
     "text": [
      "File: image114304.jpg, Size: (783, 575)\n",
      "File: image114315.jpg, Size: (783, 575)\n",
      "File: image114326.jpg, Size: (783, 575)\n",
      "File: image114337.jpg, Size: (783, 575)\n",
      "File: image114338.jpg, Size: (783, 575)\n",
      "File: image114360.jpg, Size: (783, 575)\n",
      "File: image114382.jpg, Size: (783, 575)\n",
      "File: image114393.jpg, Size: (783, 575)\n"
     ]
    },
    {
     "name": "stderr",
     "output_type": "stream",
     "text": [
      "Checking images:  11%|███████▏                                                         | 16118/144888 [00:29<04:01, 532.78image/s]"
     ]
    },
    {
     "name": "stdout",
     "output_type": "stream",
     "text": [
      "File: image114404.jpg, Size: (783, 575)\n",
      "File: image114415.jpg, Size: (783, 575)\n",
      "File: image114426.jpg, Size: (783, 575)\n",
      "File: image114437.jpg, Size: (783, 575)\n",
      "File: image114449.jpg, Size: (783, 575)\n",
      "File: image114471.jpg, Size: (783, 575)\n",
      "File: image11448.jpg, Size: (783, 575)\n",
      "File: image114482.jpg, Size: (783, 575)\n"
     ]
    },
    {
     "name": "stderr",
     "output_type": "stream",
     "text": [
      "Checking images:  11%|███████▎                                                         | 16226/144888 [00:30<04:01, 532.44image/s]"
     ]
    },
    {
     "name": "stdout",
     "output_type": "stream",
     "text": [
      "File: image114504.jpg, Size: (783, 575)\n",
      "File: image114526.jpg, Size: (783, 575)\n",
      "File: image114537.jpg, Size: (783, 575)\n",
      "File: image114548.jpg, Size: (783, 575)\n",
      "File: image114559.jpg, Size: (783, 575)\n",
      "File: image114560.jpg, Size: (783, 575)\n",
      "File: image114571.jpg, Size: (783, 575)\n",
      "File: image114582.jpg, Size: (783, 575)\n",
      "File: image114593.jpg, Size: (783, 575)\n"
     ]
    },
    {
     "name": "stderr",
     "output_type": "stream",
     "text": [
      "Checking images:  11%|███████▎                                                         | 16336/144888 [00:30<03:59, 537.21image/s]"
     ]
    },
    {
     "name": "stdout",
     "output_type": "stream",
     "text": [
      "File: image114604.jpg, Size: (783, 575)\n",
      "File: image114615.jpg, Size: (783, 575)\n",
      "File: image114626.jpg, Size: (783, 575)\n",
      "File: image114637.jpg, Size: (783, 575)\n",
      "File: image114648.jpg, Size: (783, 575)\n",
      "File: image114670.jpg, Size: (783, 575)\n",
      "File: image114671.jpg, Size: (783, 575)\n",
      "File: image114682.jpg, Size: (783, 575)\n",
      "File: image114693.jpg, Size: (783, 575)\n"
     ]
    },
    {
     "name": "stderr",
     "output_type": "stream",
     "text": [
      "Checking images:  11%|███████▍                                                         | 16445/144888 [00:30<03:58, 537.46image/s]"
     ]
    },
    {
     "name": "stdout",
     "output_type": "stream",
     "text": [
      "File: image114726.jpg, Size: (783, 575)\n",
      "File: image114737.jpg, Size: (783, 575)\n",
      "File: image114758.jpg, Size: (783, 575)\n",
      "File: image114769.jpg, Size: (783, 575)\n",
      "File: image114780.jpg, Size: (783, 575)\n",
      "File: image114781.jpg, Size: (783, 575)\n",
      "File: image114792.jpg, Size: (783, 575)\n",
      "File: image114803.jpg, Size: (783, 575)\n",
      "File: image114814.jpg, Size: (783, 575)\n"
     ]
    },
    {
     "name": "stderr",
     "output_type": "stream",
     "text": [
      "Checking images:  11%|███████▍                                                         | 16554/144888 [00:30<03:58, 538.71image/s]"
     ]
    },
    {
     "name": "stdout",
     "output_type": "stream",
     "text": [
      "File: image114825.jpg, Size: (783, 575)\n",
      "File: image114836.jpg, Size: (783, 575)\n",
      "File: image114847.jpg, Size: (783, 575)\n",
      "File: image114858.jpg, Size: (783, 575)\n",
      "File: image114869.jpg, Size: (783, 575)\n",
      "File: image114880.jpg, Size: (783, 575)\n",
      "File: image114892.jpg, Size: (783, 575)\n",
      "File: image114904.jpg, Size: (783, 575)\n",
      "File: image114915.jpg, Size: (783, 575)\n"
     ]
    },
    {
     "name": "stderr",
     "output_type": "stream",
     "text": [
      "Checking images:  11%|███████▍                                                         | 16662/144888 [00:30<04:00, 534.16image/s]"
     ]
    },
    {
     "name": "stdout",
     "output_type": "stream",
     "text": [
      "File: image114926.jpg, Size: (783, 575)\n",
      "File: image114937.jpg, Size: (783, 575)\n",
      "File: image114948.jpg, Size: (783, 575)\n",
      "File: image114959.jpg, Size: (783, 575)\n",
      "File: image114970.jpg, Size: (783, 575)\n",
      "File: image115004.jpg, Size: (783, 575)\n",
      "File: image115015.jpg, Size: (783, 575)\n",
      "File: image115026.jpg, Size: (783, 575)\n"
     ]
    },
    {
     "name": "stderr",
     "output_type": "stream",
     "text": [
      "Checking images:  12%|███████▌                                                         | 16824/144888 [00:31<04:01, 530.31image/s]"
     ]
    },
    {
     "name": "stdout",
     "output_type": "stream",
     "text": [
      "File: image115037.jpg, Size: (783, 575)\n",
      "File: image115048.jpg, Size: (783, 575)\n",
      "File: image115059.jpg, Size: (783, 575)\n",
      "File: image115070.jpg, Size: (783, 575)\n",
      "File: image115081.jpg, Size: (783, 575)\n",
      "File: image115092.jpg, Size: (783, 575)\n",
      "File: image115103.jpg, Size: (783, 575)\n",
      "File: image115115.jpg, Size: (783, 575)\n",
      "File: image115126.jpg, Size: (783, 575)\n",
      "File: image115137.jpg, Size: (783, 575)\n"
     ]
    },
    {
     "name": "stderr",
     "output_type": "stream",
     "text": [
      "Checking images:  12%|███████▌                                                         | 16932/144888 [00:31<03:59, 533.75image/s]"
     ]
    },
    {
     "name": "stdout",
     "output_type": "stream",
     "text": [
      "File: image115148.jpg, Size: (783, 575)\n",
      "File: image115159.jpg, Size: (783, 575)\n",
      "File: image115170.jpg, Size: (783, 575)\n",
      "File: image115192.jpg, Size: (783, 575)\n",
      "File: image115203.jpg, Size: (783, 575)\n",
      "File: image115226.jpg, Size: (783, 575)\n"
     ]
    },
    {
     "name": "stderr",
     "output_type": "stream",
     "text": [
      "Checking images:  12%|███████▋                                                         | 17040/144888 [00:31<03:58, 535.52image/s]"
     ]
    },
    {
     "name": "stdout",
     "output_type": "stream",
     "text": [
      "File: image115259.jpg, Size: (783, 575)\n",
      "File: image115292.jpg, Size: (783, 575)\n",
      "File: image115303.jpg, Size: (783, 575)\n",
      "File: image115314.jpg, Size: (783, 575)\n",
      "File: image115325.jpg, Size: (783, 575)\n",
      "File: image115337.jpg, Size: (783, 575)\n"
     ]
    },
    {
     "name": "stderr",
     "output_type": "stream",
     "text": [
      "Checking images:  12%|███████▋                                                         | 17149/144888 [00:31<03:56, 539.37image/s]"
     ]
    },
    {
     "name": "stdout",
     "output_type": "stream",
     "text": [
      "File: image115370.jpg, Size: (783, 575)\n",
      "File: image115381.jpg, Size: (783, 575)\n",
      "File: image115403.jpg, Size: (783, 575)\n",
      "File: image115459.jpg, Size: (783, 575)\n"
     ]
    },
    {
     "name": "stderr",
     "output_type": "stream",
     "text": [
      "Checking images:  12%|███████▊                                                         | 17310/144888 [00:32<04:04, 522.27image/s]"
     ]
    },
    {
     "name": "stdout",
     "output_type": "stream",
     "text": [
      "File: image115492.jpg, Size: (783, 575)\n",
      "File: image115503.jpg, Size: (783, 575)\n",
      "File: image115514.jpg, Size: (783, 575)\n",
      "File: image115525.jpg, Size: (783, 575)\n",
      "File: image115536.jpg, Size: (783, 575)\n",
      "File: image115547.jpg, Size: (783, 575)\n",
      "File: image115558.jpg, Size: (783, 575)\n",
      "File: image115559.jpg, Size: (783, 575)\n",
      "File: image115570.jpg, Size: (783, 575)\n",
      "File: image115581.jpg, Size: (783, 575)\n",
      "File: image11559.jpg, Size: (783, 575)\n",
      "File: image115592.jpg, Size: (783, 575)\n"
     ]
    },
    {
     "name": "stderr",
     "output_type": "stream",
     "text": [
      "Checking images:  12%|███████▊                                                         | 17420/144888 [00:32<03:59, 532.16image/s]"
     ]
    },
    {
     "name": "stdout",
     "output_type": "stream",
     "text": [
      "File: image115603.jpg, Size: (783, 575)\n",
      "File: image115614.jpg, Size: (783, 575)\n",
      "File: image115636.jpg, Size: (783, 575)\n",
      "File: image115647.jpg, Size: (783, 575)\n",
      "File: image115658.jpg, Size: (783, 575)\n",
      "File: image115669.jpg, Size: (783, 575)\n",
      "File: image115681.jpg, Size: (783, 575)\n"
     ]
    },
    {
     "name": "stderr",
     "output_type": "stream",
     "text": [
      "Checking images:  12%|███████▊                                                         | 17527/144888 [00:32<04:15, 497.66image/s]"
     ]
    },
    {
     "name": "stdout",
     "output_type": "stream",
     "text": [
      "File: image115714.jpg, Size: (783, 575)\n",
      "File: image115725.jpg, Size: (783, 575)\n",
      "File: image115736.jpg, Size: (783, 575)\n",
      "File: image115747.jpg, Size: (783, 575)\n",
      "File: image115758.jpg, Size: (783, 575)\n",
      "File: image115769.jpg, Size: (783, 575)\n",
      "File: image115781.jpg, Size: (783, 575)\n"
     ]
    },
    {
     "name": "stderr",
     "output_type": "stream",
     "text": [
      "Checking images:  12%|███████▉                                                         | 17631/144888 [00:32<04:11, 506.73image/s]"
     ]
    },
    {
     "name": "stdout",
     "output_type": "stream",
     "text": [
      "File: image115803.jpg, Size: (783, 575)\n",
      "File: image115814.jpg, Size: (783, 575)\n",
      "File: image115825.jpg, Size: (783, 575)\n",
      "File: image115836.jpg, Size: (783, 575)\n",
      "File: image115847.jpg, Size: (783, 575)\n",
      "File: image115858.jpg, Size: (783, 575)\n",
      "File: image115869.jpg, Size: (783, 575)\n",
      "File: image115880.jpg, Size: (783, 575)\n",
      "File: image115891.jpg, Size: (783, 575)\n",
      "File: image115903.jpg, Size: (783, 575)\n"
     ]
    },
    {
     "name": "stderr",
     "output_type": "stream",
     "text": [
      "Checking images:  12%|███████▉                                                         | 17737/144888 [00:32<04:06, 515.50image/s]"
     ]
    },
    {
     "name": "stdout",
     "output_type": "stream",
     "text": [
      "File: image115914.jpg, Size: (783, 575)\n",
      "File: image115925.jpg, Size: (783, 575)\n",
      "File: image115936.jpg, Size: (783, 575)\n",
      "File: image115947.jpg, Size: (783, 575)\n",
      "File: image115958.jpg, Size: (783, 575)\n",
      "File: image115969.jpg, Size: (783, 575)\n",
      "File: image115980.jpg, Size: (783, 575)\n",
      "File: image115991.jpg, Size: (783, 575)\n"
     ]
    },
    {
     "name": "stderr",
     "output_type": "stream",
     "text": [
      "Checking images:  12%|████████                                                         | 17843/144888 [00:33<04:18, 491.86image/s]"
     ]
    },
    {
     "name": "stdout",
     "output_type": "stream",
     "text": [
      "File: image116002.jpg, Size: (783, 575)\n",
      "File: image116003.jpg, Size: (783, 575)\n",
      "File: image116004.jpg, Size: (783, 575)\n",
      "File: image116015.jpg, Size: (783, 575)\n",
      "File: image116048.jpg, Size: (783, 575)\n",
      "File: image116081.jpg, Size: (783, 575)\n",
      "File: image116092.jpg, Size: (783, 575)\n"
     ]
    },
    {
     "name": "stderr",
     "output_type": "stream",
     "text": [
      "Checking images:  12%|████████                                                         | 18009/144888 [00:33<04:00, 526.84image/s]"
     ]
    },
    {
     "name": "stdout",
     "output_type": "stream",
     "text": [
      "File: image116103.jpg, Size: (783, 575)\n",
      "File: image116114.jpg, Size: (783, 575)\n",
      "File: image116115.jpg, Size: (783, 575)\n",
      "File: image116137.jpg, Size: (783, 575)\n",
      "File: image116148.jpg, Size: (783, 575)\n",
      "File: image116170.jpg, Size: (783, 575)\n",
      "File: image116181.jpg, Size: (783, 575)\n",
      "File: image116203.jpg, Size: (783, 575)\n"
     ]
    },
    {
     "name": "stderr",
     "output_type": "stream",
     "text": [
      "Checking images:  13%|████████▏                                                        | 18119/144888 [00:33<03:55, 537.33image/s]"
     ]
    },
    {
     "name": "stdout",
     "output_type": "stream",
     "text": [
      "File: image116214.jpg, Size: (783, 575)\n",
      "File: image116225.jpg, Size: (783, 575)\n",
      "File: image116226.jpg, Size: (783, 575)\n",
      "File: image116237.jpg, Size: (783, 575)\n",
      "File: image116248.jpg, Size: (783, 575)\n",
      "File: image116270.jpg, Size: (783, 575)\n",
      "File: image116281.jpg, Size: (783, 575)\n",
      "File: image116303.jpg, Size: (783, 575)\n"
     ]
    },
    {
     "name": "stderr",
     "output_type": "stream",
     "text": [
      "Checking images:  13%|████████▏                                                        | 18231/144888 [00:33<03:51, 546.20image/s]"
     ]
    },
    {
     "name": "stdout",
     "output_type": "stream",
     "text": [
      "File: image116314.jpg, Size: (783, 575)\n",
      "File: image116325.jpg, Size: (783, 575)\n",
      "File: image116336.jpg, Size: (783, 575)\n",
      "File: image116337.jpg, Size: (783, 575)\n",
      "File: image116348.jpg, Size: (783, 575)\n",
      "File: image116359.jpg, Size: (783, 575)\n",
      "File: image116370.jpg, Size: (783, 575)\n",
      "File: image116381.jpg, Size: (783, 575)\n",
      "File: image116392.jpg, Size: (783, 575)\n",
      "File: image116403.jpg, Size: (783, 575)\n"
     ]
    },
    {
     "name": "stderr",
     "output_type": "stream",
     "text": [
      "Checking images:  13%|████████▏                                                        | 18343/144888 [00:34<03:50, 548.98image/s]"
     ]
    },
    {
     "name": "stdout",
     "output_type": "stream",
     "text": [
      "File: image116425.jpg, Size: (783, 575)\n",
      "File: image116447.jpg, Size: (783, 575)\n",
      "File: image116448.jpg, Size: (783, 575)\n",
      "File: image116459.jpg, Size: (783, 575)\n",
      "File: image116470.jpg, Size: (783, 575)\n",
      "File: image116492.jpg, Size: (783, 575)\n",
      "File: image116514.jpg, Size: (783, 575)\n"
     ]
    },
    {
     "name": "stderr",
     "output_type": "stream",
     "text": [
      "Checking images:  13%|████████▎                                                        | 18454/144888 [00:34<03:50, 549.41image/s]"
     ]
    },
    {
     "name": "stdout",
     "output_type": "stream",
     "text": [
      "File: image116525.jpg, Size: (783, 575)\n",
      "File: image116536.jpg, Size: (783, 575)\n",
      "File: image116547.jpg, Size: (783, 575)\n",
      "File: image116558.jpg, Size: (783, 575)\n",
      "File: image116570.jpg, Size: (783, 575)\n",
      "File: image116581.jpg, Size: (783, 575)\n",
      "File: image116603.jpg, Size: (783, 575)\n",
      "File: image116614.jpg, Size: (783, 575)\n"
     ]
    },
    {
     "name": "stderr",
     "output_type": "stream",
     "text": [
      "Checking images:  13%|████████▎                                                        | 18564/144888 [00:34<03:52, 544.30image/s]"
     ]
    },
    {
     "name": "stdout",
     "output_type": "stream",
     "text": [
      "File: image116636.jpg, Size: (783, 575)\n",
      "File: image116647.jpg, Size: (783, 575)\n",
      "File: image116658.jpg, Size: (783, 575)\n",
      "File: image116669.jpg, Size: (783, 575)\n",
      "File: image116670.jpg, Size: (783, 575)\n",
      "File: image116681.jpg, Size: (783, 575)\n",
      "File: image116692.jpg, Size: (783, 575)\n",
      "File: image11670.jpg, Size: (783, 575)\n",
      "File: image116714.jpg, Size: (783, 575)\n",
      "File: image116725.jpg, Size: (783, 575)\n",
      "File: image116736.jpg, Size: (783, 575)\n"
     ]
    },
    {
     "name": "stderr",
     "output_type": "stream",
     "text": [
      "Checking images:  13%|████████▍                                                        | 18731/144888 [00:34<03:49, 548.81image/s]"
     ]
    },
    {
     "name": "stdout",
     "output_type": "stream",
     "text": [
      "File: image116758.jpg, Size: (783, 575)\n",
      "File: image116769.jpg, Size: (783, 575)\n",
      "File: image116780.jpg, Size: (783, 575)\n",
      "File: image116781.jpg, Size: (783, 575)\n",
      "File: image116792.jpg, Size: (783, 575)\n",
      "File: image116803.jpg, Size: (783, 575)\n",
      "File: image116825.jpg, Size: (783, 575)\n",
      "File: image116836.jpg, Size: (783, 575)\n",
      "File: image116847.jpg, Size: (783, 575)\n"
     ]
    },
    {
     "name": "stderr",
     "output_type": "stream",
     "text": [
      "Checking images:  13%|████████▍                                                        | 18841/144888 [00:34<03:50, 546.34image/s]"
     ]
    },
    {
     "name": "stdout",
     "output_type": "stream",
     "text": [
      "File: image116858.jpg, Size: (783, 575)\n",
      "File: image116892.jpg, Size: (783, 575)\n",
      "File: image116903.jpg, Size: (783, 575)\n",
      "File: image116914.jpg, Size: (783, 575)\n",
      "File: image116936.jpg, Size: (783, 575)\n",
      "File: image116947.jpg, Size: (783, 575)\n"
     ]
    },
    {
     "name": "stderr",
     "output_type": "stream",
     "text": [
      "\r",
      "Checking images:  13%|████████▍                                                        | 18896/144888 [00:35<03:53, 538.60image/s]"
     ]
    },
    {
     "name": "stdout",
     "output_type": "stream",
     "text": [
      "File: image116958.jpg, Size: (783, 575)\n",
      "File: image116980.jpg, Size: (783, 575)\n",
      "File: image116991.jpg, Size: (783, 575)\n",
      "File: image117003.jpg, Size: (783, 575)\n",
      "File: image117014.jpg, Size: (783, 575)\n",
      "File: image117025.jpg, Size: (783, 575)\n"
     ]
    },
    {
     "name": "stderr",
     "output_type": "stream",
     "text": [
      "Checking images:  13%|████████▌                                                        | 19004/144888 [00:35<03:55, 535.45image/s]"
     ]
    },
    {
     "name": "stdout",
     "output_type": "stream",
     "text": [
      "File: image117047.jpg, Size: (783, 575)\n",
      "File: image117058.jpg, Size: (783, 575)\n",
      "File: image117080.jpg, Size: (783, 575)\n",
      "File: image117091.jpg, Size: (783, 575)\n",
      "File: image117102.jpg, Size: (783, 575)\n",
      "File: image117113.jpg, Size: (783, 575)\n",
      "File: image117114.jpg, Size: (783, 575)\n",
      "File: image117115.jpg, Size: (783, 575)\n",
      "File: image117126.jpg, Size: (783, 575)\n",
      "File: image117137.jpg, Size: (783, 575)\n"
     ]
    },
    {
     "name": "stderr",
     "output_type": "stream",
     "text": [
      "Checking images:  13%|████████▌                                                        | 19166/144888 [00:35<03:58, 526.64image/s]"
     ]
    },
    {
     "name": "stdout",
     "output_type": "stream",
     "text": [
      "File: image117148.jpg, Size: (783, 575)\n",
      "File: image117159.jpg, Size: (783, 575)\n",
      "File: image117170.jpg, Size: (783, 575)\n",
      "File: image117181.jpg, Size: (783, 575)\n",
      "File: image117203.jpg, Size: (783, 575)\n",
      "File: image117214.jpg, Size: (783, 575)\n"
     ]
    },
    {
     "name": "stderr",
     "output_type": "stream",
     "text": [
      "Checking images:  13%|████████▋                                                        | 19272/144888 [00:35<03:58, 527.38image/s]"
     ]
    },
    {
     "name": "stdout",
     "output_type": "stream",
     "text": [
      "File: image117270.jpg, Size: (783, 575)\n",
      "File: image117303.jpg, Size: (783, 575)\n",
      "File: image117314.jpg, Size: (783, 575)\n",
      "File: image117325.jpg, Size: (783, 575)\n",
      "File: image117336.jpg, Size: (783, 575)\n",
      "File: image117359.jpg, Size: (783, 575)\n",
      "File: image117370.jpg, Size: (783, 575)\n"
     ]
    },
    {
     "name": "stderr",
     "output_type": "stream",
     "text": [
      "Checking images:  13%|████████▋                                                        | 19378/144888 [00:35<04:03, 514.95image/s]"
     ]
    },
    {
     "name": "stdout",
     "output_type": "stream",
     "text": [
      "File: image117392.jpg, Size: (783, 575)\n",
      "File: image117414.jpg, Size: (783, 575)\n",
      "File: image117425.jpg, Size: (783, 575)\n",
      "File: image117436.jpg, Size: (783, 575)\n",
      "File: image117447.jpg, Size: (783, 575)\n",
      "File: image117459.jpg, Size: (783, 575)\n"
     ]
    },
    {
     "name": "stderr",
     "output_type": "stream",
     "text": [
      "Checking images:  13%|████████▊                                                        | 19533/144888 [00:36<04:19, 483.14image/s]"
     ]
    },
    {
     "name": "stdout",
     "output_type": "stream",
     "text": [
      "File: image117492.jpg, Size: (783, 575)\n",
      "File: image117503.jpg, Size: (783, 575)\n",
      "File: image117514.jpg, Size: (783, 575)\n",
      "File: image117525.jpg, Size: (783, 575)\n",
      "File: image117536.jpg, Size: (783, 575)\n",
      "File: image117547.jpg, Size: (783, 575)\n",
      "File: image117558.jpg, Size: (783, 575)\n",
      "File: image117559.jpg, Size: (783, 575)\n"
     ]
    },
    {
     "name": "stderr",
     "output_type": "stream",
     "text": [
      "\r",
      "Checking images:  14%|████████▊                                                        | 19582/144888 [00:36<04:21, 480.02image/s]"
     ]
    },
    {
     "name": "stdout",
     "output_type": "stream",
     "text": [
      "File: image117581.jpg, Size: (783, 575)\n",
      "File: image117592.jpg, Size: (783, 575)\n",
      "File: image117603.jpg, Size: (783, 575)\n",
      "File: image117614.jpg, Size: (783, 575)\n",
      "File: image117636.jpg, Size: (783, 575)\n",
      "File: image117647.jpg, Size: (783, 575)\n",
      "File: image117658.jpg, Size: (783, 575)\n"
     ]
    },
    {
     "name": "stderr",
     "output_type": "stream",
     "text": [
      "Checking images:  14%|████████▊                                                        | 19739/144888 [00:36<04:10, 498.70image/s]"
     ]
    },
    {
     "name": "stdout",
     "output_type": "stream",
     "text": [
      "File: image117669.jpg, Size: (783, 575)\n",
      "File: image117670.jpg, Size: (783, 575)\n",
      "File: image117681.jpg, Size: (783, 575)\n",
      "File: image117703.jpg, Size: (783, 575)\n",
      "File: image117714.jpg, Size: (783, 575)\n",
      "File: image117736.jpg, Size: (783, 575)\n",
      "File: image117758.jpg, Size: (783, 575)\n"
     ]
    },
    {
     "name": "stderr",
     "output_type": "stream",
     "text": [
      "\r",
      "Checking images:  14%|████████▉                                                        | 19793/144888 [00:36<04:05, 509.20image/s]"
     ]
    },
    {
     "name": "stdout",
     "output_type": "stream",
     "text": [
      "File: image117769.jpg, Size: (783, 575)\n",
      "File: image117780.jpg, Size: (783, 575)\n",
      "File: image117781.jpg, Size: (783, 575)\n",
      "File: image117792.jpg, Size: (783, 575)\n",
      "File: image117803.jpg, Size: (783, 575)\n",
      "File: image117814.jpg, Size: (783, 575)\n",
      "File: image117825.jpg, Size: (783, 575)\n",
      "File: image117836.jpg, Size: (783, 575)\n",
      "File: image117847.jpg, Size: (783, 575)\n"
     ]
    },
    {
     "name": "stderr",
     "output_type": "stream",
     "text": [
      "Checking images:  14%|████████▉                                                        | 19951/144888 [00:37<04:01, 516.27image/s]"
     ]
    },
    {
     "name": "stdout",
     "output_type": "stream",
     "text": [
      "File: image117869.jpg, Size: (783, 575)\n",
      "File: image117880.jpg, Size: (783, 575)\n",
      "File: image117892.jpg, Size: (783, 575)\n",
      "File: image117903.jpg, Size: (783, 575)\n",
      "File: image117914.jpg, Size: (783, 575)\n",
      "File: image117925.jpg, Size: (783, 575)\n",
      "File: image117947.jpg, Size: (783, 575)\n",
      "File: image117958.jpg, Size: (783, 575)\n",
      "File: image117969.jpg, Size: (783, 575)\n"
     ]
    },
    {
     "name": "stderr",
     "output_type": "stream",
     "text": [
      "Checking images:  14%|████████▉                                                        | 20061/144888 [00:37<03:55, 529.40image/s]"
     ]
    },
    {
     "name": "stdout",
     "output_type": "stream",
     "text": [
      "File: image117980.jpg, Size: (783, 575)\n",
      "File: image117991.jpg, Size: (783, 575)\n",
      "File: image118003.jpg, Size: (783, 575)\n",
      "File: image118014.jpg, Size: (783, 575)\n",
      "File: image118025.jpg, Size: (783, 575)\n",
      "File: image118036.jpg, Size: (783, 575)\n",
      "File: image118047.jpg, Size: (783, 575)\n",
      "File: image118069.jpg, Size: (783, 575)\n",
      "File: image118080.jpg, Size: (783, 575)\n"
     ]
    },
    {
     "name": "stderr",
     "output_type": "stream",
     "text": [
      "Checking images:  14%|█████████                                                        | 20226/144888 [00:37<03:50, 540.53image/s]"
     ]
    },
    {
     "name": "stdout",
     "output_type": "stream",
     "text": [
      "File: image118091.jpg, Size: (783, 575)\n",
      "File: image118102.jpg, Size: (783, 575)\n",
      "File: image118113.jpg, Size: (783, 575)\n",
      "File: image118114.jpg, Size: (783, 575)\n",
      "File: image118125.jpg, Size: (783, 575)\n",
      "File: image118136.jpg, Size: (783, 575)\n",
      "File: image118147.jpg, Size: (783, 575)\n",
      "File: image118158.jpg, Size: (783, 575)\n",
      "File: image118169.jpg, Size: (783, 575)\n",
      "File: image118180.jpg, Size: (783, 575)\n",
      "File: image118191.jpg, Size: (783, 575)\n"
     ]
    },
    {
     "name": "stderr",
     "output_type": "stream",
     "text": [
      "Checking images:  14%|█████████                                                        | 20336/144888 [00:37<03:48, 544.25image/s]"
     ]
    },
    {
     "name": "stdout",
     "output_type": "stream",
     "text": [
      "File: image118213.jpg, Size: (783, 575)\n",
      "File: image118224.jpg, Size: (783, 575)\n",
      "File: image118225.jpg, Size: (783, 575)\n",
      "File: image118237.jpg, Size: (783, 575)\n",
      "File: image118248.jpg, Size: (783, 575)\n",
      "File: image118259.jpg, Size: (783, 575)\n",
      "File: image118281.jpg, Size: (783, 575)\n",
      "File: image118292.jpg, Size: (783, 575)\n",
      "File: image118303.jpg, Size: (783, 575)\n"
     ]
    },
    {
     "name": "stderr",
     "output_type": "stream",
     "text": [
      "Checking images:  14%|█████████▏                                                       | 20446/144888 [00:38<03:49, 542.76image/s]"
     ]
    },
    {
     "name": "stdout",
     "output_type": "stream",
     "text": [
      "File: image118325.jpg, Size: (783, 575)\n",
      "File: image118336.jpg, Size: (783, 575)\n",
      "File: image118337.jpg, Size: (783, 575)\n",
      "File: image118359.jpg, Size: (783, 575)\n",
      "File: image118370.jpg, Size: (783, 575)\n",
      "File: image118381.jpg, Size: (783, 575)\n",
      "File: image118392.jpg, Size: (783, 575)\n",
      "File: image118403.jpg, Size: (783, 575)\n",
      "File: image118414.jpg, Size: (783, 575)\n"
     ]
    },
    {
     "name": "stderr",
     "output_type": "stream",
     "text": [
      "Checking images:  14%|█████████▏                                                       | 20556/144888 [00:38<03:49, 541.30image/s]"
     ]
    },
    {
     "name": "stdout",
     "output_type": "stream",
     "text": [
      "File: image118425.jpg, Size: (783, 575)\n",
      "File: image118436.jpg, Size: (783, 575)\n",
      "File: image118448.jpg, Size: (783, 575)\n",
      "File: image118470.jpg, Size: (783, 575)\n",
      "File: image118492.jpg, Size: (783, 575)\n",
      "File: image118503.jpg, Size: (783, 575)\n",
      "File: image118514.jpg, Size: (783, 575)\n"
     ]
    },
    {
     "name": "stderr",
     "output_type": "stream",
     "text": [
      "Checking images:  14%|█████████▎                                                       | 20666/144888 [00:38<03:48, 543.79image/s]"
     ]
    },
    {
     "name": "stdout",
     "output_type": "stream",
     "text": [
      "File: image118536.jpg, Size: (783, 575)\n",
      "File: image118547.jpg, Size: (783, 575)\n",
      "File: image118559.jpg, Size: (783, 575)\n",
      "File: image118581.jpg, Size: (783, 575)\n",
      "File: image118592.jpg, Size: (783, 575)\n",
      "File: image118614.jpg, Size: (783, 575)\n",
      "File: image118625.jpg, Size: (783, 575)\n",
      "File: image118636.jpg, Size: (783, 575)\n"
     ]
    },
    {
     "name": "stderr",
     "output_type": "stream",
     "text": [
      "Checking images:  14%|█████████▎                                                       | 20834/144888 [00:38<03:45, 549.42image/s]"
     ]
    },
    {
     "name": "stdout",
     "output_type": "stream",
     "text": [
      "File: image118647.jpg, Size: (783, 575)\n",
      "File: image118658.jpg, Size: (783, 575)\n",
      "File: image118670.jpg, Size: (783, 575)\n",
      "File: image118681.jpg, Size: (783, 575)\n",
      "File: image118692.jpg, Size: (783, 575)\n",
      "File: image118703.jpg, Size: (783, 575)\n",
      "File: image118725.jpg, Size: (783, 575)\n",
      "File: image118747.jpg, Size: (783, 575)\n"
     ]
    },
    {
     "name": "stderr",
     "output_type": "stream",
     "text": [
      "\r",
      "Checking images:  14%|█████████▎                                                       | 20889/144888 [00:38<03:51, 536.58image/s]"
     ]
    },
    {
     "name": "stdout",
     "output_type": "stream",
     "text": [
      "File: image118758.jpg, Size: (783, 575)\n",
      "File: image118769.jpg, Size: (783, 575)\n",
      "File: image118792.jpg, Size: (783, 575)\n",
      "File: image118803.jpg, Size: (783, 575)\n",
      "File: image118814.jpg, Size: (783, 575)\n",
      "File: image118836.jpg, Size: (783, 575)\n"
     ]
    },
    {
     "name": "stderr",
     "output_type": "stream",
     "text": [
      "Checking images:  14%|█████████▍                                                       | 20995/144888 [00:39<04:10, 494.12image/s]"
     ]
    },
    {
     "name": "stdout",
     "output_type": "stream",
     "text": [
      "File: image118847.jpg, Size: (783, 575)\n",
      "File: image118869.jpg, Size: (783, 575)\n",
      "File: image118880.jpg, Size: (783, 575)\n",
      "File: image118891.jpg, Size: (783, 575)\n",
      "File: image118892.jpg, Size: (783, 575)\n",
      "File: image118903.jpg, Size: (783, 575)\n",
      "File: image118914.jpg, Size: (783, 575)\n",
      "File: image11892.jpg, Size: (783, 575)\n",
      "File: image118925.jpg, Size: (783, 575)\n",
      "File: image118936.jpg, Size: (783, 575)\n"
     ]
    },
    {
     "name": "stderr",
     "output_type": "stream",
     "text": [
      "Checking images:  15%|█████████▍                                                       | 21153/144888 [00:39<04:02, 509.55image/s]"
     ]
    },
    {
     "name": "stdout",
     "output_type": "stream",
     "text": [
      "File: image118947.jpg, Size: (783, 575)\n",
      "File: image118958.jpg, Size: (783, 575)\n",
      "File: image118980.jpg, Size: (783, 575)\n",
      "File: image119002.jpg, Size: (783, 575)\n",
      "File: image119003.jpg, Size: (783, 575)\n",
      "File: image119014.jpg, Size: (783, 575)\n",
      "File: image119025.jpg, Size: (783, 575)\n"
     ]
    },
    {
     "name": "stderr",
     "output_type": "stream",
     "text": [
      "Checking images:  15%|█████████▌                                                       | 21263/144888 [00:39<03:54, 527.41image/s]"
     ]
    },
    {
     "name": "stdout",
     "output_type": "stream",
     "text": [
      "File: image119047.jpg, Size: (783, 575)\n",
      "File: image119058.jpg, Size: (783, 575)\n",
      "File: image119069.jpg, Size: (783, 575)\n",
      "File: image119091.jpg, Size: (783, 575)\n",
      "File: image119102.jpg, Size: (783, 575)\n",
      "File: image119113.jpg, Size: (783, 575)\n",
      "File: image119125.jpg, Size: (783, 575)\n"
     ]
    },
    {
     "name": "stderr",
     "output_type": "stream",
     "text": [
      "Checking images:  15%|█████████▌                                                       | 21372/144888 [00:39<03:51, 534.23image/s]"
     ]
    },
    {
     "name": "stdout",
     "output_type": "stream",
     "text": [
      "File: image119136.jpg, Size: (783, 575)\n",
      "File: image119147.jpg, Size: (783, 575)\n",
      "File: image119158.jpg, Size: (783, 575)\n",
      "File: image119169.jpg, Size: (783, 575)\n",
      "File: image119180.jpg, Size: (783, 575)\n",
      "File: image119191.jpg, Size: (783, 575)\n",
      "File: image119202.jpg, Size: (783, 575)\n",
      "File: image119213.jpg, Size: (783, 575)\n"
     ]
    },
    {
     "name": "stderr",
     "output_type": "stream",
     "text": [
      "\r",
      "Checking images:  15%|█████████▌                                                       | 21427/144888 [00:39<03:49, 536.84image/s]"
     ]
    },
    {
     "name": "stdout",
     "output_type": "stream",
     "text": [
      "File: image119236.jpg, Size: (783, 575)\n",
      "File: image119258.jpg, Size: (783, 575)\n",
      "File: image119269.jpg, Size: (783, 575)\n",
      "File: image119280.jpg, Size: (783, 575)\n",
      "File: image119302.jpg, Size: (783, 575)\n",
      "File: image119313.jpg, Size: (783, 575)\n",
      "File: image119324.jpg, Size: (783, 575)\n"
     ]
    },
    {
     "name": "stderr",
     "output_type": "stream",
     "text": [
      "Checking images:  15%|█████████▋                                                       | 21537/144888 [00:40<03:47, 541.69image/s]"
     ]
    },
    {
     "name": "stdout",
     "output_type": "stream",
     "text": [
      "File: image119335.jpg, Size: (783, 575)\n",
      "File: image119336.jpg, Size: (783, 575)\n",
      "File: image119348.jpg, Size: (783, 575)\n",
      "File: image119359.jpg, Size: (783, 575)\n",
      "File: image119381.jpg, Size: (783, 575)\n",
      "File: image119392.jpg, Size: (783, 575)\n",
      "File: image119403.jpg, Size: (783, 575)\n",
      "File: image119414.jpg, Size: (783, 575)\n",
      "File: image119425.jpg, Size: (783, 575)\n"
     ]
    },
    {
     "name": "stderr",
     "output_type": "stream",
     "text": [
      "Checking images:  15%|█████████▋                                                       | 21647/144888 [00:40<03:55, 522.59image/s]"
     ]
    },
    {
     "name": "stdout",
     "output_type": "stream",
     "text": [
      "File: image119436.jpg, Size: (783, 575)\n",
      "File: image119447.jpg, Size: (783, 575)\n",
      "File: image119448.jpg, Size: (783, 575)\n",
      "File: image119459.jpg, Size: (783, 575)\n",
      "File: image119470.jpg, Size: (783, 575)\n",
      "File: image119481.jpg, Size: (783, 575)\n",
      "File: image119492.jpg, Size: (783, 575)\n",
      "File: image119503.jpg, Size: (783, 575)\n",
      "File: image119514.jpg, Size: (783, 575)\n"
     ]
    },
    {
     "name": "stderr",
     "output_type": "stream",
     "text": [
      "Checking images:  15%|█████████▊                                                       | 21751/144888 [00:40<04:08, 496.22image/s]"
     ]
    },
    {
     "name": "stdout",
     "output_type": "stream",
     "text": [
      "File: image119536.jpg, Size: (783, 575)\n",
      "File: image119558.jpg, Size: (783, 575)\n",
      "File: image119559.jpg, Size: (783, 575)\n",
      "File: image119570.jpg, Size: (783, 575)\n",
      "File: image119581.jpg, Size: (783, 575)\n",
      "File: image119592.jpg, Size: (783, 575)\n",
      "File: image119603.jpg, Size: (783, 575)\n",
      "File: image119614.jpg, Size: (783, 575)\n"
     ]
    },
    {
     "name": "stderr",
     "output_type": "stream",
     "text": [
      "Checking images:  15%|█████████▊                                                       | 21902/144888 [00:40<04:09, 492.39image/s]"
     ]
    },
    {
     "name": "stdout",
     "output_type": "stream",
     "text": [
      "File: image119647.jpg, Size: (783, 575)\n",
      "File: image119658.jpg, Size: (783, 575)\n",
      "File: image119669.jpg, Size: (783, 575)\n",
      "File: image119670.jpg, Size: (783, 575)\n",
      "File: image119681.jpg, Size: (783, 575)\n",
      "File: image119692.jpg, Size: (783, 575)\n",
      "File: image119703.jpg, Size: (783, 575)\n",
      "File: image119714.jpg, Size: (783, 575)\n",
      "File: image119747.jpg, Size: (783, 575)\n"
     ]
    },
    {
     "name": "stderr",
     "output_type": "stream",
     "text": [
      "Checking images:  15%|█████████▉                                                       | 22053/144888 [00:41<04:07, 497.09image/s]"
     ]
    },
    {
     "name": "stdout",
     "output_type": "stream",
     "text": [
      "File: image119781.jpg, Size: (783, 575)\n",
      "File: image119792.jpg, Size: (783, 575)\n",
      "File: image119803.jpg, Size: (783, 575)\n",
      "File: image119814.jpg, Size: (783, 575)\n",
      "File: image119825.jpg, Size: (783, 575)\n",
      "File: image119836.jpg, Size: (783, 575)\n",
      "File: image119847.jpg, Size: (783, 575)\n",
      "File: image119858.jpg, Size: (783, 575)\n",
      "File: image119869.jpg, Size: (783, 575)\n"
     ]
    },
    {
     "name": "stderr",
     "output_type": "stream",
     "text": [
      "Checking images:  15%|█████████▉                                                       | 22158/144888 [00:41<04:00, 510.73image/s]"
     ]
    },
    {
     "name": "stdout",
     "output_type": "stream",
     "text": [
      "File: image119880.jpg, Size: (783, 575)\n",
      "File: image119892.jpg, Size: (783, 575)\n",
      "File: image119914.jpg, Size: (783, 575)\n",
      "File: image119925.jpg, Size: (783, 575)\n",
      "File: image119936.jpg, Size: (783, 575)\n",
      "File: image119947.jpg, Size: (783, 575)\n",
      "File: image119969.jpg, Size: (783, 575)\n",
      "File: image119980.jpg, Size: (783, 575)\n"
     ]
    },
    {
     "name": "stderr",
     "output_type": "stream",
     "text": [
      "Checking images:  15%|██████████                                                       | 22325/144888 [00:41<03:48, 536.07image/s]"
     ]
    },
    {
     "name": "stdout",
     "output_type": "stream",
     "text": [
      "File: image119991.jpg, Size: (783, 575)\n",
      "File: image120002.jpg, Size: (783, 575)\n",
      "File: image120003.jpg, Size: (783, 575)\n",
      "File: image120014.jpg, Size: (783, 575)\n",
      "File: image12003.jpg, Size: (783, 575)\n",
      "File: image120047.jpg, Size: (783, 575)\n",
      "File: image120058.jpg, Size: (783, 575)\n",
      "File: image120080.jpg, Size: (783, 575)\n"
     ]
    },
    {
     "name": "stderr",
     "output_type": "stream",
     "text": [
      "Checking images:  15%|██████████                                                       | 22436/144888 [00:41<03:45, 542.81image/s]"
     ]
    },
    {
     "name": "stdout",
     "output_type": "stream",
     "text": [
      "File: image120091.jpg, Size: (783, 575)\n",
      "File: image120102.jpg, Size: (783, 575)\n",
      "File: image120113.jpg, Size: (783, 575)\n",
      "File: image120114.jpg, Size: (783, 575)\n",
      "File: image120125.jpg, Size: (783, 575)\n",
      "File: image120136.jpg, Size: (783, 575)\n",
      "File: image120147.jpg, Size: (783, 575)\n",
      "File: image120158.jpg, Size: (783, 575)\n",
      "File: image120169.jpg, Size: (783, 575)\n"
     ]
    },
    {
     "name": "stderr",
     "output_type": "stream",
     "text": [
      "Checking images:  16%|██████████                                                       | 22547/144888 [00:42<03:44, 545.93image/s]"
     ]
    },
    {
     "name": "stdout",
     "output_type": "stream",
     "text": [
      "File: image120202.jpg, Size: (783, 575)\n",
      "File: image120224.jpg, Size: (783, 575)\n",
      "File: image120236.jpg, Size: (783, 575)\n",
      "File: image120247.jpg, Size: (783, 575)\n",
      "File: image120258.jpg, Size: (783, 575)\n",
      "File: image120280.jpg, Size: (783, 575)\n",
      "File: image120291.jpg, Size: (783, 575)\n",
      "File: image120302.jpg, Size: (783, 575)\n"
     ]
    },
    {
     "name": "stderr",
     "output_type": "stream",
     "text": [
      "Checking images:  16%|██████████▏                                                      | 22658/144888 [00:42<03:43, 545.84image/s]"
     ]
    },
    {
     "name": "stdout",
     "output_type": "stream",
     "text": [
      "File: image120313.jpg, Size: (783, 575)\n",
      "File: image120335.jpg, Size: (783, 575)\n",
      "File: image120336.jpg, Size: (783, 575)\n",
      "File: image120358.jpg, Size: (783, 575)\n",
      "File: image120369.jpg, Size: (783, 575)\n",
      "File: image120380.jpg, Size: (783, 575)\n",
      "File: image120391.jpg, Size: (783, 575)\n",
      "File: image120402.jpg, Size: (783, 575)\n"
     ]
    },
    {
     "name": "stderr",
     "output_type": "stream",
     "text": [
      "Checking images:  16%|██████████▏                                                      | 22770/144888 [00:42<03:42, 549.58image/s]"
     ]
    },
    {
     "name": "stdout",
     "output_type": "stream",
     "text": [
      "File: image120424.jpg, Size: (783, 575)\n",
      "File: image120447.jpg, Size: (783, 575)\n",
      "File: image120470.jpg, Size: (783, 575)\n",
      "File: image120481.jpg, Size: (783, 575)\n",
      "File: image120492.jpg, Size: (783, 575)\n",
      "File: image120514.jpg, Size: (783, 575)\n",
      "File: image120525.jpg, Size: (783, 575)\n"
     ]
    },
    {
     "name": "stderr",
     "output_type": "stream",
     "text": [
      "Checking images:  16%|██████████▎                                                      | 22938/144888 [00:42<03:40, 552.04image/s]"
     ]
    },
    {
     "name": "stdout",
     "output_type": "stream",
     "text": [
      "File: image120536.jpg, Size: (783, 575)\n",
      "File: image120547.jpg, Size: (783, 575)\n",
      "File: image120558.jpg, Size: (783, 575)\n",
      "File: image120559.jpg, Size: (783, 575)\n",
      "File: image120570.jpg, Size: (783, 575)\n",
      "File: image120603.jpg, Size: (783, 575)\n",
      "File: image120614.jpg, Size: (783, 575)\n",
      "File: image120636.jpg, Size: (783, 575)\n"
     ]
    },
    {
     "name": "stderr",
     "output_type": "stream",
     "text": [
      "Checking images:  16%|██████████▎                                                      | 23050/144888 [00:42<03:41, 551.28image/s]"
     ]
    },
    {
     "name": "stdout",
     "output_type": "stream",
     "text": [
      "File: image120647.jpg, Size: (783, 575)\n",
      "File: image120669.jpg, Size: (783, 575)\n",
      "File: image120670.jpg, Size: (783, 575)\n",
      "File: image120681.jpg, Size: (783, 575)\n",
      "File: image120692.jpg, Size: (783, 575)\n",
      "File: image120703.jpg, Size: (783, 575)\n",
      "File: image120714.jpg, Size: (783, 575)\n",
      "File: image120736.jpg, Size: (783, 575)\n"
     ]
    },
    {
     "name": "stderr",
     "output_type": "stream",
     "text": [
      "Checking images:  16%|██████████▍                                                      | 23161/144888 [00:43<03:42, 548.10image/s]"
     ]
    },
    {
     "name": "stdout",
     "output_type": "stream",
     "text": [
      "File: image120747.jpg, Size: (783, 575)\n",
      "File: image120758.jpg, Size: (783, 575)\n",
      "File: image120769.jpg, Size: (783, 575)\n",
      "File: image120781.jpg, Size: (783, 575)\n",
      "File: image120803.jpg, Size: (783, 575)\n",
      "File: image120825.jpg, Size: (783, 575)\n",
      "File: image120836.jpg, Size: (783, 575)\n"
     ]
    },
    {
     "name": "stderr",
     "output_type": "stream",
     "text": [
      "Checking images:  16%|██████████▍                                                      | 23272/144888 [00:43<03:41, 548.87image/s]"
     ]
    },
    {
     "name": "stdout",
     "output_type": "stream",
     "text": [
      "File: image120858.jpg, Size: (783, 575)\n",
      "File: image120869.jpg, Size: (783, 575)\n",
      "File: image120880.jpg, Size: (783, 575)\n",
      "File: image120891.jpg, Size: (783, 575)\n",
      "File: image120892.jpg, Size: (783, 575)\n",
      "File: image120903.jpg, Size: (783, 575)\n",
      "File: image120925.jpg, Size: (783, 575)\n",
      "File: image120936.jpg, Size: (783, 575)\n",
      "File: image120947.jpg, Size: (783, 575)\n",
      "File: image120958.jpg, Size: (783, 575)\n"
     ]
    },
    {
     "name": "stderr",
     "output_type": "stream",
     "text": [
      "Checking images:  16%|██████████▍                                                      | 23384/144888 [00:43<03:39, 553.13image/s]"
     ]
    },
    {
     "name": "stdout",
     "output_type": "stream",
     "text": [
      "File: image120969.jpg, Size: (783, 575)\n",
      "File: image120980.jpg, Size: (783, 575)\n",
      "File: image120991.jpg, Size: (783, 575)\n",
      "File: image121036.jpg, Size: (783, 575)\n",
      "File: image121047.jpg, Size: (783, 575)\n",
      "File: image121069.jpg, Size: (783, 575)\n"
     ]
    },
    {
     "name": "stderr",
     "output_type": "stream",
     "text": [
      "Checking images:  16%|██████████▌                                                      | 23496/144888 [00:43<03:39, 553.59image/s]"
     ]
    },
    {
     "name": "stdout",
     "output_type": "stream",
     "text": [
      "File: image121080.jpg, Size: (783, 575)\n",
      "File: image121091.jpg, Size: (783, 575)\n",
      "File: image121102.jpg, Size: (783, 575)\n",
      "File: image121113.jpg, Size: (783, 575)\n",
      "File: image121114.jpg, Size: (783, 575)\n",
      "File: image121125.jpg, Size: (783, 575)\n",
      "File: image121136.jpg, Size: (783, 575)\n",
      "File: image12114.jpg, Size: (783, 575)\n",
      "File: image121147.jpg, Size: (783, 575)\n",
      "File: image121158.jpg, Size: (783, 575)\n"
     ]
    },
    {
     "name": "stderr",
     "output_type": "stream",
     "text": [
      "Checking images:  16%|██████████▌                                                      | 23608/144888 [00:43<03:42, 545.07image/s]"
     ]
    },
    {
     "name": "stdout",
     "output_type": "stream",
     "text": [
      "File: image121180.jpg, Size: (783, 575)\n",
      "File: image121191.jpg, Size: (783, 575)\n",
      "File: image121213.jpg, Size: (783, 575)\n",
      "File: image121224.jpg, Size: (783, 575)\n",
      "File: image121225.jpg, Size: (783, 575)\n",
      "File: image121236.jpg, Size: (783, 575)\n",
      "File: image121247.jpg, Size: (783, 575)\n",
      "File: image121269.jpg, Size: (783, 575)\n"
     ]
    },
    {
     "name": "stderr",
     "output_type": "stream",
     "text": [
      "Checking images:  16%|██████████▋                                                      | 23718/144888 [00:44<03:42, 545.60image/s]"
     ]
    },
    {
     "name": "stdout",
     "output_type": "stream",
     "text": [
      "File: image121280.jpg, Size: (783, 575)\n",
      "File: image121313.jpg, Size: (783, 575)\n",
      "File: image121324.jpg, Size: (783, 575)\n",
      "File: image121358.jpg, Size: (783, 575)\n",
      "File: image121369.jpg, Size: (783, 575)\n",
      "File: image121380.jpg, Size: (783, 575)\n"
     ]
    },
    {
     "name": "stderr",
     "output_type": "stream",
     "text": [
      "Checking images:  16%|██████████▋                                                      | 23886/144888 [00:44<03:39, 551.77image/s]"
     ]
    },
    {
     "name": "stdout",
     "output_type": "stream",
     "text": [
      "File: image121391.jpg, Size: (783, 575)\n",
      "File: image121402.jpg, Size: (783, 575)\n",
      "File: image121413.jpg, Size: (783, 575)\n",
      "File: image121424.jpg, Size: (783, 575)\n",
      "File: image121435.jpg, Size: (783, 575)\n",
      "File: image121446.jpg, Size: (783, 575)\n",
      "File: image121447.jpg, Size: (783, 575)\n",
      "File: image121458.jpg, Size: (783, 575)\n",
      "File: image121469.jpg, Size: (783, 575)\n",
      "File: image121480.jpg, Size: (783, 575)\n",
      "File: image121491.jpg, Size: (783, 575)\n"
     ]
    },
    {
     "name": "stderr",
     "output_type": "stream",
     "text": [
      "Checking images:  17%|██████████▊                                                      | 23999/144888 [00:44<03:38, 552.36image/s]"
     ]
    },
    {
     "name": "stdout",
     "output_type": "stream",
     "text": [
      "File: image121502.jpg, Size: (783, 575)\n",
      "File: image121513.jpg, Size: (783, 575)\n",
      "File: image121524.jpg, Size: (783, 575)\n",
      "File: image121557.jpg, Size: (783, 575)\n",
      "File: image121558.jpg, Size: (783, 575)\n",
      "File: image121559.jpg, Size: (783, 575)\n",
      "File: image121570.jpg, Size: (783, 575)\n",
      "File: image121581.jpg, Size: (783, 575)\n"
     ]
    },
    {
     "name": "stderr",
     "output_type": "stream",
     "text": [
      "Checking images:  17%|██████████▊                                                      | 24111/144888 [00:44<03:38, 553.15image/s]"
     ]
    },
    {
     "name": "stdout",
     "output_type": "stream",
     "text": [
      "File: image121603.jpg, Size: (783, 575)\n",
      "File: image121614.jpg, Size: (783, 575)\n",
      "File: image121625.jpg, Size: (783, 575)\n",
      "File: image121670.jpg, Size: (783, 575)\n",
      "File: image121692.jpg, Size: (783, 575)\n"
     ]
    },
    {
     "name": "stderr",
     "output_type": "stream",
     "text": [
      "\r",
      "Checking images:  17%|██████████▊                                                      | 24167/144888 [00:45<03:39, 550.94image/s]"
     ]
    },
    {
     "name": "stdout",
     "output_type": "stream",
     "text": [
      "File: image121703.jpg, Size: (783, 575)\n",
      "File: image121725.jpg, Size: (783, 575)\n",
      "File: image121747.jpg, Size: (783, 575)\n",
      "File: image121758.jpg, Size: (783, 575)\n",
      "File: image121769.jpg, Size: (783, 575)\n",
      "File: image121780.jpg, Size: (783, 575)\n"
     ]
    },
    {
     "name": "stderr",
     "output_type": "stream",
     "text": [
      "Checking images:  17%|██████████▉                                                      | 24333/144888 [00:45<03:41, 543.29image/s]"
     ]
    },
    {
     "name": "stdout",
     "output_type": "stream",
     "text": [
      "File: image121792.jpg, Size: (783, 575)\n",
      "File: image121803.jpg, Size: (783, 575)\n",
      "File: image121825.jpg, Size: (783, 575)\n",
      "File: image121836.jpg, Size: (783, 575)\n",
      "File: image121847.jpg, Size: (783, 575)\n",
      "File: image121858.jpg, Size: (783, 575)\n",
      "File: image121869.jpg, Size: (783, 575)\n",
      "File: image121880.jpg, Size: (783, 575)\n",
      "File: image121891.jpg, Size: (783, 575)\n",
      "File: image121892.jpg, Size: (783, 575)\n"
     ]
    },
    {
     "name": "stderr",
     "output_type": "stream",
     "text": [
      "Checking images:  17%|██████████▉                                                      | 24442/144888 [00:45<03:43, 539.70image/s]"
     ]
    },
    {
     "name": "stdout",
     "output_type": "stream",
     "text": [
      "File: image121903.jpg, Size: (783, 575)\n",
      "File: image121914.jpg, Size: (783, 575)\n",
      "File: image121925.jpg, Size: (783, 575)\n",
      "File: image121936.jpg, Size: (783, 575)\n",
      "File: image121947.jpg, Size: (783, 575)\n",
      "File: image121958.jpg, Size: (783, 575)\n",
      "File: image121969.jpg, Size: (783, 575)\n",
      "File: image121980.jpg, Size: (783, 575)\n",
      "File: image121991.jpg, Size: (783, 575)\n"
     ]
    },
    {
     "name": "stderr",
     "output_type": "stream",
     "text": [
      "Checking images:  17%|███████████                                                      | 24553/144888 [00:45<03:40, 545.60image/s]"
     ]
    },
    {
     "name": "stdout",
     "output_type": "stream",
     "text": [
      "File: image122002.jpg, Size: (783, 575)\n",
      "File: image122003.jpg, Size: (783, 575)\n",
      "File: image122014.jpg, Size: (783, 575)\n",
      "File: image122036.jpg, Size: (783, 575)\n",
      "File: image122047.jpg, Size: (783, 575)\n",
      "File: image122058.jpg, Size: (783, 575)\n",
      "File: image122069.jpg, Size: (783, 575)\n",
      "File: image122080.jpg, Size: (783, 575)\n",
      "File: image122091.jpg, Size: (783, 575)\n",
      "File: image122102.jpg, Size: (783, 575)\n"
     ]
    },
    {
     "name": "stderr",
     "output_type": "stream",
     "text": [
      "Checking images:  17%|███████████                                                      | 24664/144888 [00:45<03:40, 544.38image/s]"
     ]
    },
    {
     "name": "stdout",
     "output_type": "stream",
     "text": [
      "File: image122125.jpg, Size: (783, 575)\n",
      "File: image122136.jpg, Size: (783, 575)\n",
      "File: image122147.jpg, Size: (783, 575)\n",
      "File: image122158.jpg, Size: (783, 575)\n",
      "File: image122169.jpg, Size: (783, 575)\n",
      "File: image122180.jpg, Size: (783, 575)\n",
      "File: image122191.jpg, Size: (783, 575)\n",
      "File: image122202.jpg, Size: (783, 575)\n",
      "File: image122213.jpg, Size: (783, 575)\n",
      "File: image122224.jpg, Size: (783, 575)\n"
     ]
    },
    {
     "name": "stderr",
     "output_type": "stream",
     "text": [
      "Checking images:  17%|███████████                                                      | 24774/144888 [00:46<03:40, 544.20image/s]"
     ]
    },
    {
     "name": "stdout",
     "output_type": "stream",
     "text": [
      "File: image122236.jpg, Size: (783, 575)\n",
      "File: image122247.jpg, Size: (783, 575)\n",
      "File: image12225.jpg, Size: (783, 575)\n",
      "File: image122258.jpg, Size: (783, 575)\n",
      "File: image12226.jpg, Size: (783, 575)\n",
      "File: image122269.jpg, Size: (783, 575)\n",
      "File: image122280.jpg, Size: (783, 575)\n",
      "File: image122291.jpg, Size: (783, 575)\n",
      "File: image122302.jpg, Size: (783, 575)\n",
      "File: image122313.jpg, Size: (783, 575)\n",
      "File: image122324.jpg, Size: (783, 575)\n"
     ]
    },
    {
     "name": "stderr",
     "output_type": "stream",
     "text": [
      "Checking images:  17%|███████████▏                                                     | 24884/144888 [00:46<03:48, 525.47image/s]"
     ]
    },
    {
     "name": "stdout",
     "output_type": "stream",
     "text": [
      "File: image122335.jpg, Size: (783, 575)\n",
      "File: image122336.jpg, Size: (783, 575)\n",
      "File: image122358.jpg, Size: (783, 575)\n",
      "File: image122369.jpg, Size: (783, 575)\n",
      "File: image122380.jpg, Size: (783, 575)\n",
      "File: image122391.jpg, Size: (783, 575)\n",
      "File: image122402.jpg, Size: (783, 575)\n",
      "File: image122413.jpg, Size: (783, 575)\n",
      "File: image122424.jpg, Size: (783, 575)\n"
     ]
    },
    {
     "name": "stderr",
     "output_type": "stream",
     "text": [
      "Checking images:  17%|███████████▏                                                     | 24989/144888 [00:46<03:56, 507.73image/s]"
     ]
    },
    {
     "name": "stdout",
     "output_type": "stream",
     "text": [
      "File: image122435.jpg, Size: (783, 575)\n",
      "File: image122446.jpg, Size: (783, 575)\n",
      "File: image122447.jpg, Size: (783, 575)\n",
      "File: image122458.jpg, Size: (783, 575)\n",
      "File: image122469.jpg, Size: (783, 575)\n",
      "File: image122480.jpg, Size: (783, 575)\n",
      "File: image122502.jpg, Size: (783, 575)\n",
      "File: image122513.jpg, Size: (783, 575)\n"
     ]
    },
    {
     "name": "stderr",
     "output_type": "stream",
     "text": [
      "Checking images:  17%|███████████▎                                                     | 25101/144888 [00:46<03:45, 530.69image/s]"
     ]
    },
    {
     "name": "stdout",
     "output_type": "stream",
     "text": [
      "File: image122524.jpg, Size: (783, 575)\n",
      "File: image122535.jpg, Size: (783, 575)\n",
      "File: image122557.jpg, Size: (783, 575)\n",
      "File: image122558.jpg, Size: (783, 575)\n",
      "File: image122580.jpg, Size: (783, 575)\n",
      "File: image122591.jpg, Size: (783, 575)\n",
      "File: image1226.jpg, Size: (783, 575)\n",
      "File: image122613.jpg, Size: (783, 575)\n",
      "File: image122624.jpg, Size: (783, 575)\n"
     ]
    },
    {
     "name": "stderr",
     "output_type": "stream",
     "text": [
      "Checking images:  17%|███████████▎                                                     | 25211/144888 [00:46<03:42, 538.81image/s]"
     ]
    },
    {
     "name": "stdout",
     "output_type": "stream",
     "text": [
      "File: image122646.jpg, Size: (783, 575)\n",
      "File: image122657.jpg, Size: (783, 575)\n",
      "File: image122670.jpg, Size: (783, 575)\n",
      "File: image122671.jpg, Size: (783, 575)\n",
      "File: image122682.jpg, Size: (783, 575)\n",
      "File: image122693.jpg, Size: (783, 575)\n",
      "File: image122704.jpg, Size: (783, 575)\n",
      "File: image122715.jpg, Size: (783, 575)\n",
      "File: image122726.jpg, Size: (783, 575)\n"
     ]
    },
    {
     "name": "stderr",
     "output_type": "stream",
     "text": [
      "Checking images:  17%|███████████▎                                                     | 25321/144888 [00:47<03:41, 540.93image/s]"
     ]
    },
    {
     "name": "stdout",
     "output_type": "stream",
     "text": [
      "File: image122737.jpg, Size: (783, 575)\n",
      "File: image122748.jpg, Size: (783, 575)\n",
      "File: image122770.jpg, Size: (783, 575)\n",
      "File: image122782.jpg, Size: (783, 575)\n",
      "File: image122793.jpg, Size: (783, 575)\n",
      "File: image122804.jpg, Size: (783, 575)\n",
      "File: image122815.jpg, Size: (783, 575)\n",
      "File: image122826.jpg, Size: (783, 575)\n"
     ]
    },
    {
     "name": "stderr",
     "output_type": "stream",
     "text": [
      "Checking images:  18%|███████████▍                                                     | 25488/144888 [00:47<03:38, 546.96image/s]"
     ]
    },
    {
     "name": "stdout",
     "output_type": "stream",
     "text": [
      "File: image122848.jpg, Size: (783, 575)\n",
      "File: image122859.jpg, Size: (783, 575)\n",
      "File: image122870.jpg, Size: (783, 575)\n",
      "File: image122881.jpg, Size: (783, 575)\n",
      "File: image122892.jpg, Size: (783, 575)\n",
      "File: image122893.jpg, Size: (783, 575)\n",
      "File: image122904.jpg, Size: (783, 575)\n",
      "File: image122915.jpg, Size: (783, 575)\n",
      "File: image122926.jpg, Size: (783, 575)\n",
      "File: image122937.jpg, Size: (783, 575)\n",
      "File: image122948.jpg, Size: (783, 575)\n"
     ]
    },
    {
     "name": "stderr",
     "output_type": "stream",
     "text": [
      "Checking images:  18%|███████████▍                                                     | 25602/144888 [00:47<03:35, 554.74image/s]"
     ]
    },
    {
     "name": "stdout",
     "output_type": "stream",
     "text": [
      "File: image122959.jpg, Size: (783, 575)\n",
      "File: image122970.jpg, Size: (783, 575)\n",
      "File: image122981.jpg, Size: (783, 575)\n",
      "File: image122992.jpg, Size: (783, 575)\n",
      "File: image123003.jpg, Size: (783, 575)\n",
      "File: image123004.jpg, Size: (783, 575)\n",
      "File: image123015.jpg, Size: (783, 575)\n",
      "File: image123026.jpg, Size: (783, 575)\n",
      "File: image123037.jpg, Size: (783, 575)\n",
      "File: image123059.jpg, Size: (783, 575)\n"
     ]
    },
    {
     "name": "stderr",
     "output_type": "stream",
     "text": [
      "Checking images:  18%|███████████▌                                                     | 25714/144888 [00:47<03:34, 554.47image/s]"
     ]
    },
    {
     "name": "stdout",
     "output_type": "stream",
     "text": [
      "File: image123070.jpg, Size: (783, 575)\n",
      "File: image123081.jpg, Size: (783, 575)\n",
      "File: image123092.jpg, Size: (783, 575)\n",
      "File: image123126.jpg, Size: (783, 575)\n",
      "File: image123137.jpg, Size: (783, 575)\n",
      "File: image123148.jpg, Size: (783, 575)\n",
      "File: image123159.jpg, Size: (783, 575)\n"
     ]
    },
    {
     "name": "stderr",
     "output_type": "stream",
     "text": [
      "Checking images:  18%|███████████▌                                                     | 25824/144888 [00:48<03:53, 510.75image/s]"
     ]
    },
    {
     "name": "stdout",
     "output_type": "stream",
     "text": [
      "File: image123181.jpg, Size: (783, 575)\n",
      "File: image123192.jpg, Size: (783, 575)\n",
      "File: image123203.jpg, Size: (783, 575)\n",
      "File: image123214.jpg, Size: (783, 575)\n",
      "File: image123248.jpg, Size: (783, 575)\n",
      "File: image123259.jpg, Size: (783, 575)\n"
     ]
    },
    {
     "name": "stderr",
     "output_type": "stream",
     "text": [
      "Checking images:  18%|███████████▋                                                     | 25927/144888 [00:48<04:01, 493.14image/s]"
     ]
    },
    {
     "name": "stdout",
     "output_type": "stream",
     "text": [
      "File: image123270.jpg, Size: (783, 575)\n",
      "File: image123281.jpg, Size: (783, 575)\n",
      "File: image123292.jpg, Size: (783, 575)\n",
      "File: image123303.jpg, Size: (783, 575)\n",
      "File: image123314.jpg, Size: (783, 575)\n",
      "File: image123337.jpg, Size: (783, 575)\n",
      "File: image123348.jpg, Size: (783, 575)\n"
     ]
    },
    {
     "name": "stderr",
     "output_type": "stream",
     "text": [
      "Checking images:  18%|███████████▋                                                     | 26027/144888 [00:48<04:01, 493.05image/s]"
     ]
    },
    {
     "name": "stdout",
     "output_type": "stream",
     "text": [
      "File: image123370.jpg, Size: (783, 575)\n",
      "File: image123381.jpg, Size: (783, 575)\n",
      "File: image123392.jpg, Size: (783, 575)\n",
      "File: image123403.jpg, Size: (783, 575)\n",
      "File: image123414.jpg, Size: (783, 575)\n",
      "File: image123425.jpg, Size: (783, 575)\n",
      "File: image123436.jpg, Size: (783, 575)\n",
      "File: image123447.jpg, Size: (783, 575)\n",
      "File: image123448.jpg, Size: (783, 575)\n",
      "File: image123459.jpg, Size: (783, 575)\n"
     ]
    },
    {
     "name": "stderr",
     "output_type": "stream",
     "text": [
      "Checking images:  18%|███████████▋                                                     | 26182/144888 [00:48<03:53, 507.45image/s]"
     ]
    },
    {
     "name": "stdout",
     "output_type": "stream",
     "text": [
      "File: image123481.jpg, Size: (783, 575)\n",
      "File: image123492.jpg, Size: (783, 575)\n",
      "File: image123503.jpg, Size: (783, 575)\n",
      "File: image123514.jpg, Size: (783, 575)\n",
      "File: image123547.jpg, Size: (783, 575)\n",
      "File: image123570.jpg, Size: (783, 575)\n"
     ]
    },
    {
     "name": "stderr",
     "output_type": "stream",
     "text": [
      "Checking images:  18%|███████████▊                                                     | 26345/144888 [00:49<03:44, 527.28image/s]"
     ]
    },
    {
     "name": "stdout",
     "output_type": "stream",
     "text": [
      "File: image123603.jpg, Size: (783, 575)\n",
      "File: image123614.jpg, Size: (783, 575)\n",
      "File: image123647.jpg, Size: (783, 575)\n",
      "File: image123669.jpg, Size: (783, 575)\n",
      "File: image123670.jpg, Size: (783, 575)\n",
      "File: image123681.jpg, Size: (783, 575)\n",
      "File: image123692.jpg, Size: (783, 575)\n",
      "File: image123703.jpg, Size: (783, 575)\n"
     ]
    },
    {
     "name": "stderr",
     "output_type": "stream",
     "text": [
      "Checking images:  18%|███████████▊                                                     | 26456/144888 [00:49<03:38, 540.94image/s]"
     ]
    },
    {
     "name": "stdout",
     "output_type": "stream",
     "text": [
      "File: image123736.jpg, Size: (783, 575)\n",
      "File: image123747.jpg, Size: (783, 575)\n",
      "File: image123758.jpg, Size: (783, 575)\n",
      "File: image123769.jpg, Size: (783, 575)\n",
      "File: image123780.jpg, Size: (783, 575)\n",
      "File: image123781.jpg, Size: (783, 575)\n",
      "File: image123782.jpg, Size: (783, 575)\n",
      "File: image123793.jpg, Size: (783, 575)\n",
      "File: image123826.jpg, Size: (783, 575)\n",
      "File: image123837.jpg, Size: (783, 575)\n"
     ]
    },
    {
     "name": "stderr",
     "output_type": "stream",
     "text": [
      "Checking images:  18%|███████████▉                                                     | 26568/144888 [00:49<03:35, 547.99image/s]"
     ]
    },
    {
     "name": "stdout",
     "output_type": "stream",
     "text": [
      "File: image123848.jpg, Size: (783, 575)\n",
      "File: image123859.jpg, Size: (783, 575)\n",
      "File: image123893.jpg, Size: (783, 575)\n",
      "File: image123904.jpg, Size: (783, 575)\n",
      "File: image123915.jpg, Size: (783, 575)\n",
      "File: image123926.jpg, Size: (783, 575)\n",
      "File: image123937.jpg, Size: (783, 575)\n"
     ]
    },
    {
     "name": "stderr",
     "output_type": "stream",
     "text": [
      "Checking images:  18%|███████████▉                                                     | 26735/144888 [00:49<03:35, 549.27image/s]"
     ]
    },
    {
     "name": "stdout",
     "output_type": "stream",
     "text": [
      "File: image123959.jpg, Size: (783, 575)\n",
      "File: image123970.jpg, Size: (783, 575)\n",
      "File: image123981.jpg, Size: (783, 575)\n",
      "File: image123992.jpg, Size: (783, 575)\n",
      "File: image124003.jpg, Size: (783, 575)\n",
      "File: image124026.jpg, Size: (783, 575)\n",
      "File: image124037.jpg, Size: (783, 575)\n",
      "File: image124048.jpg, Size: (783, 575)\n"
     ]
    },
    {
     "name": "stderr",
     "output_type": "stream",
     "text": [
      "Checking images:  19%|████████████                                                     | 26845/144888 [00:50<03:37, 543.00image/s]"
     ]
    },
    {
     "name": "stdout",
     "output_type": "stream",
     "text": [
      "File: image124070.jpg, Size: (783, 575)\n",
      "File: image124081.jpg, Size: (783, 575)\n",
      "File: image124092.jpg, Size: (783, 575)\n",
      "File: image124114.jpg, Size: (783, 575)\n",
      "File: image124137.jpg, Size: (783, 575)\n",
      "File: image124148.jpg, Size: (783, 575)\n"
     ]
    },
    {
     "name": "stderr",
     "output_type": "stream",
     "text": [
      "Checking images:  19%|████████████                                                     | 26955/144888 [00:50<03:36, 545.13image/s]"
     ]
    },
    {
     "name": "stdout",
     "output_type": "stream",
     "text": [
      "File: image124181.jpg, Size: (783, 575)\n",
      "File: image124192.jpg, Size: (783, 575)\n",
      "File: image124203.jpg, Size: (783, 575)\n",
      "File: image124225.jpg, Size: (783, 575)\n",
      "File: image124226.jpg, Size: (783, 575)\n",
      "File: image124237.jpg, Size: (783, 575)\n",
      "File: image124248.jpg, Size: (783, 575)\n",
      "File: image124270.jpg, Size: (783, 575)\n"
     ]
    },
    {
     "name": "stderr",
     "output_type": "stream",
     "text": [
      "Checking images:  19%|████████████▏                                                    | 27066/144888 [00:50<03:35, 546.34image/s]"
     ]
    },
    {
     "name": "stdout",
     "output_type": "stream",
     "text": [
      "File: image124292.jpg, Size: (783, 575)\n",
      "File: image124303.jpg, Size: (783, 575)\n",
      "File: image124314.jpg, Size: (783, 575)\n",
      "File: image124325.jpg, Size: (783, 575)\n",
      "File: image124336.jpg, Size: (783, 575)\n",
      "File: image124348.jpg, Size: (783, 575)\n",
      "File: image124359.jpg, Size: (783, 575)\n",
      "File: image124370.jpg, Size: (783, 575)\n",
      "File: image124381.jpg, Size: (783, 575)\n",
      "File: image124392.jpg, Size: (783, 575)\n"
     ]
    },
    {
     "name": "stderr",
     "output_type": "stream",
     "text": [
      "Checking images:  19%|████████████▏                                                    | 27235/144888 [00:50<03:32, 553.99image/s]"
     ]
    },
    {
     "name": "stdout",
     "output_type": "stream",
     "text": [
      "File: image124403.jpg, Size: (783, 575)\n",
      "File: image124425.jpg, Size: (783, 575)\n",
      "File: image124436.jpg, Size: (783, 575)\n",
      "File: image124448.jpg, Size: (783, 575)\n",
      "File: image124459.jpg, Size: (783, 575)\n",
      "File: image124470.jpg, Size: (783, 575)\n",
      "File: image12448.jpg, Size: (783, 575)\n",
      "File: image124481.jpg, Size: (783, 575)\n",
      "File: image124492.jpg, Size: (783, 575)\n",
      "File: image124503.jpg, Size: (783, 575)\n"
     ]
    },
    {
     "name": "stderr",
     "output_type": "stream",
     "text": [
      "Checking images:  19%|████████████▎                                                    | 27348/144888 [00:50<03:31, 556.89image/s]"
     ]
    },
    {
     "name": "stdout",
     "output_type": "stream",
     "text": [
      "File: image124514.jpg, Size: (783, 575)\n",
      "File: image124525.jpg, Size: (783, 575)\n",
      "File: image124547.jpg, Size: (783, 575)\n",
      "File: image124581.jpg, Size: (783, 575)\n",
      "File: image124592.jpg, Size: (783, 575)\n",
      "File: image124603.jpg, Size: (783, 575)\n"
     ]
    },
    {
     "name": "stderr",
     "output_type": "stream",
     "text": [
      "Checking images:  19%|████████████▎                                                    | 27460/144888 [00:51<03:32, 552.20image/s]"
     ]
    },
    {
     "name": "stdout",
     "output_type": "stream",
     "text": [
      "File: image124625.jpg, Size: (783, 575)\n",
      "File: image124636.jpg, Size: (783, 575)\n",
      "File: image124658.jpg, Size: (783, 575)\n",
      "File: image124669.jpg, Size: (783, 575)\n",
      "File: image124670.jpg, Size: (783, 575)\n",
      "File: image124692.jpg, Size: (783, 575)\n",
      "File: image124714.jpg, Size: (783, 575)\n",
      "File: image124725.jpg, Size: (783, 575)\n"
     ]
    },
    {
     "name": "stderr",
     "output_type": "stream",
     "text": [
      "Checking images:  19%|████████████▎                                                    | 27573/144888 [00:51<03:31, 553.78image/s]"
     ]
    },
    {
     "name": "stdout",
     "output_type": "stream",
     "text": [
      "File: image124736.jpg, Size: (783, 575)\n",
      "File: image124758.jpg, Size: (783, 575)\n",
      "File: image124769.jpg, Size: (783, 575)\n",
      "File: image124781.jpg, Size: (783, 575)\n",
      "File: image124792.jpg, Size: (783, 575)\n",
      "File: image124803.jpg, Size: (783, 575)\n",
      "File: image124814.jpg, Size: (783, 575)\n",
      "File: image124836.jpg, Size: (783, 575)\n"
     ]
    },
    {
     "name": "stderr",
     "output_type": "stream",
     "text": [
      "Checking images:  19%|████████████▍                                                    | 27685/144888 [00:51<03:31, 555.19image/s]"
     ]
    },
    {
     "name": "stdout",
     "output_type": "stream",
     "text": [
      "File: image124847.jpg, Size: (783, 575)\n",
      "File: image124869.jpg, Size: (783, 575)\n",
      "File: image124891.jpg, Size: (783, 575)\n",
      "File: image124892.jpg, Size: (783, 575)\n",
      "File: image124893.jpg, Size: (783, 575)\n",
      "File: image124904.jpg, Size: (783, 575)\n",
      "File: image124926.jpg, Size: (783, 575)\n",
      "File: image124937.jpg, Size: (783, 575)\n"
     ]
    },
    {
     "name": "stderr",
     "output_type": "stream",
     "text": [
      "Checking images:  19%|████████████▍                                                    | 27797/144888 [00:51<03:30, 555.00image/s]"
     ]
    },
    {
     "name": "stdout",
     "output_type": "stream",
     "text": [
      "File: image124948.jpg, Size: (783, 575)\n",
      "File: image124970.jpg, Size: (783, 575)\n",
      "File: image124981.jpg, Size: (783, 575)\n",
      "File: image125003.jpg, Size: (783, 575)\n",
      "File: image125004.jpg, Size: (783, 575)\n",
      "File: image125015.jpg, Size: (783, 575)\n",
      "File: image125026.jpg, Size: (783, 575)\n",
      "File: image125037.jpg, Size: (783, 575)\n"
     ]
    },
    {
     "name": "stderr",
     "output_type": "stream",
     "text": [
      "Checking images:  19%|████████████▌                                                    | 27909/144888 [00:51<03:32, 550.49image/s]"
     ]
    },
    {
     "name": "stdout",
     "output_type": "stream",
     "text": [
      "File: image125048.jpg, Size: (783, 575)\n",
      "File: image125059.jpg, Size: (783, 575)\n",
      "File: image125070.jpg, Size: (783, 575)\n",
      "File: image125081.jpg, Size: (783, 575)\n",
      "File: image125092.jpg, Size: (783, 575)\n",
      "File: image125114.jpg, Size: (783, 575)\n",
      "File: image125115.jpg, Size: (783, 575)\n",
      "File: image125126.jpg, Size: (783, 575)\n",
      "File: image125137.jpg, Size: (783, 575)\n"
     ]
    },
    {
     "name": "stderr",
     "output_type": "stream",
     "text": [
      "Checking images:  19%|████████████▌                                                    | 28020/144888 [00:52<03:38, 535.94image/s]"
     ]
    },
    {
     "name": "stdout",
     "output_type": "stream",
     "text": [
      "File: image125148.jpg, Size: (783, 575)\n",
      "File: image125159.jpg, Size: (783, 575)\n",
      "File: image125170.jpg, Size: (783, 575)\n",
      "File: image125181.jpg, Size: (783, 575)\n",
      "File: image125192.jpg, Size: (783, 575)\n",
      "File: image125203.jpg, Size: (783, 575)\n",
      "File: image125225.jpg, Size: (783, 575)\n",
      "File: image125226.jpg, Size: (783, 575)\n"
     ]
    },
    {
     "name": "stderr",
     "output_type": "stream",
     "text": [
      "Checking images:  19%|████████████▌                                                    | 28129/144888 [00:52<03:36, 538.28image/s]"
     ]
    },
    {
     "name": "stdout",
     "output_type": "stream",
     "text": [
      "File: image125248.jpg, Size: (783, 575)\n",
      "File: image125259.jpg, Size: (783, 575)\n",
      "File: image125270.jpg, Size: (783, 575)\n",
      "File: image125281.jpg, Size: (783, 575)\n",
      "File: image125292.jpg, Size: (783, 575)\n",
      "File: image125303.jpg, Size: (783, 575)\n",
      "File: image125314.jpg, Size: (783, 575)\n",
      "File: image125325.jpg, Size: (783, 575)\n",
      "File: image125336.jpg, Size: (783, 575)\n",
      "File: image125337.jpg, Size: (783, 575)\n",
      "File: image125348.jpg, Size: (783, 575)\n"
     ]
    },
    {
     "name": "stderr",
     "output_type": "stream",
     "text": [
      "Checking images:  20%|████████████▋                                                    | 28294/144888 [00:52<03:34, 544.04image/s]"
     ]
    },
    {
     "name": "stdout",
     "output_type": "stream",
     "text": [
      "File: image125359.jpg, Size: (783, 575)\n",
      "File: image125370.jpg, Size: (783, 575)\n",
      "File: image125392.jpg, Size: (783, 575)\n",
      "File: image125414.jpg, Size: (783, 575)\n",
      "File: image125425.jpg, Size: (783, 575)\n",
      "File: image125448.jpg, Size: (783, 575)\n"
     ]
    },
    {
     "name": "stderr",
     "output_type": "stream",
     "text": [
      "Checking images:  20%|████████████▋                                                    | 28405/144888 [00:52<03:32, 547.55image/s]"
     ]
    },
    {
     "name": "stdout",
     "output_type": "stream",
     "text": [
      "File: image125470.jpg, Size: (783, 575)\n",
      "File: image125481.jpg, Size: (783, 575)\n",
      "File: image125492.jpg, Size: (783, 575)\n",
      "File: image125503.jpg, Size: (783, 575)\n",
      "File: image125514.jpg, Size: (783, 575)\n",
      "File: image125547.jpg, Size: (783, 575)\n",
      "File: image125558.jpg, Size: (783, 575)\n",
      "File: image125559.jpg, Size: (783, 575)\n"
     ]
    },
    {
     "name": "stderr",
     "output_type": "stream",
     "text": [
      "\r",
      "Checking images:  20%|████████████▊                                                    | 28460/144888 [00:52<03:42, 524.43image/s]"
     ]
    },
    {
     "name": "stdout",
     "output_type": "stream",
     "text": [
      "File: image125570.jpg, Size: (783, 575)\n",
      "File: image125581.jpg, Size: (783, 575)\n",
      "File: image125592.jpg, Size: (783, 575)\n",
      "File: image125603.jpg, Size: (783, 575)\n",
      "File: image125614.jpg, Size: (783, 575)\n",
      "File: image125625.jpg, Size: (783, 575)\n",
      "File: image125636.jpg, Size: (783, 575)\n",
      "File: image125647.jpg, Size: (783, 575)\n"
     ]
    },
    {
     "name": "stderr",
     "output_type": "stream",
     "text": [
      "Checking images:  20%|████████████▊                                                    | 28564/144888 [00:53<03:51, 502.89image/s]"
     ]
    },
    {
     "name": "stdout",
     "output_type": "stream",
     "text": [
      "File: image125658.jpg, Size: (783, 575)\n",
      "File: image125669.jpg, Size: (783, 575)\n",
      "File: image125670.jpg, Size: (783, 575)\n",
      "File: image125681.jpg, Size: (783, 575)\n",
      "File: image125703.jpg, Size: (783, 575)\n",
      "File: image125714.jpg, Size: (783, 575)\n",
      "File: image125725.jpg, Size: (783, 575)\n",
      "File: image125747.jpg, Size: (783, 575)\n"
     ]
    },
    {
     "name": "stderr",
     "output_type": "stream",
     "text": [
      "Checking images:  20%|████████████▉                                                    | 28721/144888 [00:53<03:46, 512.11image/s]"
     ]
    },
    {
     "name": "stdout",
     "output_type": "stream",
     "text": [
      "File: image125780.jpg, Size: (783, 575)\n",
      "File: image125781.jpg, Size: (783, 575)\n",
      "File: image125792.jpg, Size: (783, 575)\n",
      "File: image125803.jpg, Size: (783, 575)\n",
      "File: image125814.jpg, Size: (783, 575)\n",
      "File: image125836.jpg, Size: (783, 575)\n",
      "File: image125847.jpg, Size: (783, 575)\n",
      "File: image125858.jpg, Size: (783, 575)\n",
      "File: image125869.jpg, Size: (783, 575)\n"
     ]
    },
    {
     "name": "stderr",
     "output_type": "stream",
     "text": [
      "Checking images:  20%|████████████▉                                                    | 28826/144888 [00:53<03:45, 514.12image/s]"
     ]
    },
    {
     "name": "stdout",
     "output_type": "stream",
     "text": [
      "File: image125880.jpg, Size: (783, 575)\n",
      "File: image125891.jpg, Size: (783, 575)\n",
      "File: image125892.jpg, Size: (783, 575)\n",
      "File: image125903.jpg, Size: (783, 575)\n",
      "File: image125936.jpg, Size: (783, 575)\n",
      "File: image125947.jpg, Size: (783, 575)\n",
      "File: image125958.jpg, Size: (783, 575)\n"
     ]
    },
    {
     "name": "stderr",
     "output_type": "stream",
     "text": [
      "Checking images:  20%|████████████▉                                                    | 28936/144888 [00:53<03:38, 530.31image/s]"
     ]
    },
    {
     "name": "stdout",
     "output_type": "stream",
     "text": [
      "File: image125980.jpg, Size: (783, 575)\n",
      "File: image126002.jpg, Size: (783, 575)\n",
      "File: image126003.jpg, Size: (783, 575)\n",
      "File: image126004.jpg, Size: (783, 575)\n",
      "File: image126015.jpg, Size: (783, 575)\n",
      "File: image126026.jpg, Size: (783, 575)\n",
      "File: image126048.jpg, Size: (783, 575)\n",
      "File: image126059.jpg, Size: (783, 575)\n",
      "File: image126070.jpg, Size: (783, 575)\n"
     ]
    },
    {
     "name": "stderr",
     "output_type": "stream",
     "text": [
      "Checking images:  20%|█████████████                                                    | 29101/144888 [00:54<03:34, 540.77image/s]"
     ]
    },
    {
     "name": "stdout",
     "output_type": "stream",
     "text": [
      "File: image126103.jpg, Size: (783, 575)\n",
      "File: image126114.jpg, Size: (783, 575)\n",
      "File: image126115.jpg, Size: (783, 575)\n",
      "File: image126137.jpg, Size: (783, 575)\n",
      "File: image126148.jpg, Size: (783, 575)\n",
      "File: image126159.jpg, Size: (783, 575)\n",
      "File: image126170.jpg, Size: (783, 575)\n",
      "File: image126181.jpg, Size: (783, 575)\n",
      "File: image126192.jpg, Size: (783, 575)\n",
      "File: image126203.jpg, Size: (783, 575)\n"
     ]
    },
    {
     "name": "stderr",
     "output_type": "stream",
     "text": [
      "Checking images:  20%|█████████████                                                    | 29214/144888 [00:54<03:31, 547.77image/s]"
     ]
    },
    {
     "name": "stdout",
     "output_type": "stream",
     "text": [
      "File: image126214.jpg, Size: (783, 575)\n",
      "File: image126225.jpg, Size: (783, 575)\n",
      "File: image126226.jpg, Size: (783, 575)\n",
      "File: image126237.jpg, Size: (783, 575)\n",
      "File: image126248.jpg, Size: (783, 575)\n",
      "File: image126259.jpg, Size: (783, 575)\n",
      "File: image126270.jpg, Size: (783, 575)\n",
      "File: image126292.jpg, Size: (783, 575)\n",
      "File: image126303.jpg, Size: (783, 575)\n"
     ]
    },
    {
     "name": "stderr",
     "output_type": "stream",
     "text": [
      "Checking images:  20%|█████████████▏                                                   | 29324/144888 [00:54<03:31, 545.12image/s]"
     ]
    },
    {
     "name": "stdout",
     "output_type": "stream",
     "text": [
      "File: image126325.jpg, Size: (783, 575)\n",
      "File: image126336.jpg, Size: (783, 575)\n",
      "File: image126337.jpg, Size: (783, 575)\n",
      "File: image126348.jpg, Size: (783, 575)\n",
      "File: image126359.jpg, Size: (783, 575)\n",
      "File: image126381.jpg, Size: (783, 575)\n",
      "File: image126392.jpg, Size: (783, 575)\n",
      "File: image126403.jpg, Size: (783, 575)\n",
      "File: image126414.jpg, Size: (783, 575)\n",
      "File: image126425.jpg, Size: (783, 575)\n"
     ]
    },
    {
     "name": "stderr",
     "output_type": "stream",
     "text": [
      "Checking images:  20%|█████████████▏                                                   | 29436/144888 [00:54<03:29, 550.80image/s]"
     ]
    },
    {
     "name": "stdout",
     "output_type": "stream",
     "text": [
      "File: image126436.jpg, Size: (783, 575)\n",
      "File: image126447.jpg, Size: (783, 575)\n",
      "File: image126448.jpg, Size: (783, 575)\n",
      "File: image126459.jpg, Size: (783, 575)\n",
      "File: image126481.jpg, Size: (783, 575)\n",
      "File: image126492.jpg, Size: (783, 575)\n",
      "File: image126503.jpg, Size: (783, 575)\n",
      "File: image126536.jpg, Size: (783, 575)\n"
     ]
    },
    {
     "name": "stderr",
     "output_type": "stream",
     "text": [
      "Checking images:  20%|█████████████▎                                                   | 29604/144888 [00:55<03:31, 546.07image/s]"
     ]
    },
    {
     "name": "stdout",
     "output_type": "stream",
     "text": [
      "File: image126559.jpg, Size: (783, 575)\n",
      "File: image126570.jpg, Size: (783, 575)\n",
      "File: image126603.jpg, Size: (783, 575)\n",
      "File: image126614.jpg, Size: (783, 575)\n",
      "File: image126625.jpg, Size: (783, 575)\n",
      "File: image126636.jpg, Size: (783, 575)\n",
      "File: image126647.jpg, Size: (783, 575)\n",
      "File: image126658.jpg, Size: (783, 575)\n"
     ]
    },
    {
     "name": "stderr",
     "output_type": "stream",
     "text": [
      "Checking images:  21%|█████████████▎                                                   | 29715/144888 [00:55<03:29, 548.83image/s]"
     ]
    },
    {
     "name": "stdout",
     "output_type": "stream",
     "text": [
      "File: image126669.jpg, Size: (783, 575)\n",
      "File: image126692.jpg, Size: (783, 575)\n",
      "File: image12670.jpg, Size: (783, 575)\n",
      "File: image126714.jpg, Size: (783, 575)\n",
      "File: image126725.jpg, Size: (783, 575)\n",
      "File: image126736.jpg, Size: (783, 575)\n",
      "File: image126758.jpg, Size: (783, 575)\n",
      "File: image126769.jpg, Size: (783, 575)\n"
     ]
    },
    {
     "name": "stderr",
     "output_type": "stream",
     "text": [
      "Checking images:  21%|█████████████▍                                                   | 29825/144888 [00:55<03:37, 528.04image/s]"
     ]
    },
    {
     "name": "stdout",
     "output_type": "stream",
     "text": [
      "File: image126780.jpg, Size: (783, 575)\n",
      "File: image126792.jpg, Size: (783, 575)\n",
      "File: image126803.jpg, Size: (783, 575)\n",
      "File: image126814.jpg, Size: (783, 575)\n",
      "File: image126825.jpg, Size: (783, 575)\n",
      "File: image126836.jpg, Size: (783, 575)\n",
      "File: image126847.jpg, Size: (783, 575)\n",
      "File: image126858.jpg, Size: (783, 575)\n"
     ]
    },
    {
     "name": "stderr",
     "output_type": "stream",
     "text": [
      "Checking images:  21%|█████████████▍                                                   | 29930/144888 [00:55<03:47, 506.25image/s]"
     ]
    },
    {
     "name": "stdout",
     "output_type": "stream",
     "text": [
      "File: image126880.jpg, Size: (783, 575)\n",
      "File: image126891.jpg, Size: (783, 575)\n",
      "File: image126892.jpg, Size: (783, 575)\n",
      "File: image126903.jpg, Size: (783, 575)\n",
      "File: image126914.jpg, Size: (783, 575)\n",
      "File: image126925.jpg, Size: (783, 575)\n",
      "File: image126936.jpg, Size: (783, 575)\n",
      "File: image126947.jpg, Size: (783, 575)\n",
      "File: image126958.jpg, Size: (783, 575)\n",
      "File: image126969.jpg, Size: (783, 575)\n"
     ]
    },
    {
     "name": "stderr",
     "output_type": "stream",
     "text": [
      "Checking images:  21%|█████████████▍                                                   | 30031/144888 [00:55<03:52, 492.96image/s]"
     ]
    },
    {
     "name": "stdout",
     "output_type": "stream",
     "text": [
      "File: image126980.jpg, Size: (783, 575)\n",
      "File: image126991.jpg, Size: (783, 575)\n",
      "File: image127002.jpg, Size: (783, 575)\n",
      "File: image127003.jpg, Size: (783, 575)\n",
      "File: image127014.jpg, Size: (783, 575)\n",
      "File: image127025.jpg, Size: (783, 575)\n",
      "File: image127047.jpg, Size: (783, 575)\n",
      "File: image127058.jpg, Size: (783, 575)\n"
     ]
    },
    {
     "name": "stderr",
     "output_type": "stream",
     "text": [
      "Checking images:  21%|█████████████▌                                                   | 30186/144888 [00:56<03:46, 506.84image/s]"
     ]
    },
    {
     "name": "stdout",
     "output_type": "stream",
     "text": [
      "File: image127080.jpg, Size: (783, 575)\n",
      "File: image127102.jpg, Size: (783, 575)\n",
      "File: image127113.jpg, Size: (783, 575)\n",
      "File: image127114.jpg, Size: (783, 575)\n",
      "File: image127115.jpg, Size: (783, 575)\n",
      "File: image127126.jpg, Size: (783, 575)\n",
      "File: image127148.jpg, Size: (783, 575)\n",
      "File: image127170.jpg, Size: (783, 575)\n",
      "File: image127181.jpg, Size: (783, 575)\n"
     ]
    },
    {
     "name": "stderr",
     "output_type": "stream",
     "text": [
      "Checking images:  21%|█████████████▌                                                   | 30294/144888 [00:56<03:39, 522.98image/s]"
     ]
    },
    {
     "name": "stdout",
     "output_type": "stream",
     "text": [
      "File: image127192.jpg, Size: (783, 575)\n",
      "File: image127226.jpg, Size: (783, 575)\n",
      "File: image127237.jpg, Size: (783, 575)\n",
      "File: image127270.jpg, Size: (783, 575)\n",
      "File: image127281.jpg, Size: (783, 575)\n",
      "File: image127292.jpg, Size: (783, 575)\n"
     ]
    },
    {
     "name": "stderr",
     "output_type": "stream",
     "text": [
      "Checking images:  21%|█████████████▋                                                   | 30405/144888 [00:56<03:33, 535.75image/s]"
     ]
    },
    {
     "name": "stdout",
     "output_type": "stream",
     "text": [
      "File: image127303.jpg, Size: (783, 575)\n",
      "File: image127336.jpg, Size: (783, 575)\n",
      "File: image127359.jpg, Size: (783, 575)\n",
      "File: image127392.jpg, Size: (783, 575)\n",
      "File: image127403.jpg, Size: (783, 575)\n"
     ]
    },
    {
     "name": "stderr",
     "output_type": "stream",
     "text": [
      "Checking images:  21%|█████████████▋                                                   | 30515/144888 [00:56<03:31, 541.96image/s]"
     ]
    },
    {
     "name": "stdout",
     "output_type": "stream",
     "text": [
      "File: image127414.jpg, Size: (783, 575)\n",
      "File: image127425.jpg, Size: (783, 575)\n",
      "File: image127436.jpg, Size: (783, 575)\n",
      "File: image127447.jpg, Size: (783, 575)\n",
      "File: image127448.jpg, Size: (783, 575)\n",
      "File: image127459.jpg, Size: (783, 575)\n",
      "File: image127470.jpg, Size: (783, 575)\n",
      "File: image127481.jpg, Size: (783, 575)\n",
      "File: image127503.jpg, Size: (783, 575)\n"
     ]
    },
    {
     "name": "stderr",
     "output_type": "stream",
     "text": [
      "Checking images:  21%|█████████████▋                                                   | 30625/144888 [00:57<03:30, 543.84image/s]"
     ]
    },
    {
     "name": "stdout",
     "output_type": "stream",
     "text": [
      "File: image127514.jpg, Size: (783, 575)\n",
      "File: image127525.jpg, Size: (783, 575)\n",
      "File: image127536.jpg, Size: (783, 575)\n",
      "File: image127558.jpg, Size: (783, 575)\n",
      "File: image127603.jpg, Size: (783, 575)\n"
     ]
    },
    {
     "name": "stderr",
     "output_type": "stream",
     "text": [
      "Checking images:  21%|█████████████▊                                                   | 30736/144888 [00:57<03:28, 546.43image/s]"
     ]
    },
    {
     "name": "stdout",
     "output_type": "stream",
     "text": [
      "File: image127614.jpg, Size: (783, 575)\n",
      "File: image127636.jpg, Size: (783, 575)\n",
      "File: image127647.jpg, Size: (783, 575)\n",
      "File: image127658.jpg, Size: (783, 575)\n",
      "File: image127669.jpg, Size: (783, 575)\n",
      "File: image127670.jpg, Size: (783, 575)\n",
      "File: image127681.jpg, Size: (783, 575)\n",
      "File: image127692.jpg, Size: (783, 575)\n",
      "File: image127703.jpg, Size: (783, 575)\n"
     ]
    },
    {
     "name": "stderr",
     "output_type": "stream",
     "text": [
      "Checking images:  21%|█████████████▊                                                   | 30905/144888 [00:57<03:25, 554.99image/s]"
     ]
    },
    {
     "name": "stdout",
     "output_type": "stream",
     "text": [
      "File: image127714.jpg, Size: (783, 575)\n",
      "File: image127725.jpg, Size: (783, 575)\n",
      "File: image127758.jpg, Size: (783, 575)\n",
      "File: image127780.jpg, Size: (783, 575)\n",
      "File: image127781.jpg, Size: (783, 575)\n",
      "File: image127792.jpg, Size: (783, 575)\n",
      "File: image127803.jpg, Size: (783, 575)\n"
     ]
    },
    {
     "name": "stderr",
     "output_type": "stream",
     "text": [
      "Checking images:  21%|█████████████▉                                                   | 31018/144888 [00:57<03:25, 555.46image/s]"
     ]
    },
    {
     "name": "stdout",
     "output_type": "stream",
     "text": [
      "File: image127814.jpg, Size: (783, 575)\n",
      "File: image127825.jpg, Size: (783, 575)\n",
      "File: image127858.jpg, Size: (783, 575)\n",
      "File: image127869.jpg, Size: (783, 575)\n",
      "File: image127880.jpg, Size: (783, 575)\n",
      "File: image127891.jpg, Size: (783, 575)\n"
     ]
    },
    {
     "name": "stderr",
     "output_type": "stream",
     "text": [
      "Checking images:  21%|█████████████▉                                                   | 31130/144888 [00:58<03:27, 547.28image/s]"
     ]
    },
    {
     "name": "stdout",
     "output_type": "stream",
     "text": [
      "File: image127936.jpg, Size: (783, 575)\n",
      "File: image127947.jpg, Size: (783, 575)\n",
      "File: image127958.jpg, Size: (783, 575)\n",
      "File: image127980.jpg, Size: (783, 575)\n",
      "File: image127991.jpg, Size: (783, 575)\n",
      "File: image128002.jpg, Size: (783, 575)\n",
      "File: image128003.jpg, Size: (783, 575)\n",
      "File: image128014.jpg, Size: (783, 575)\n"
     ]
    },
    {
     "name": "stderr",
     "output_type": "stream",
     "text": [
      "Checking images:  22%|██████████████                                                   | 31241/144888 [00:58<03:27, 547.62image/s]"
     ]
    },
    {
     "name": "stdout",
     "output_type": "stream",
     "text": [
      "File: image128047.jpg, Size: (783, 575)\n",
      "File: image128058.jpg, Size: (783, 575)\n",
      "File: image128069.jpg, Size: (783, 575)\n",
      "File: image128080.jpg, Size: (783, 575)\n",
      "File: image128091.jpg, Size: (783, 575)\n",
      "File: image128102.jpg, Size: (783, 575)\n",
      "File: image128113.jpg, Size: (783, 575)\n",
      "File: image128114.jpg, Size: (783, 575)\n",
      "File: image128136.jpg, Size: (783, 575)\n"
     ]
    },
    {
     "name": "stderr",
     "output_type": "stream",
     "text": [
      "Checking images:  22%|██████████████                                                   | 31351/144888 [00:58<03:29, 542.50image/s]"
     ]
    },
    {
     "name": "stdout",
     "output_type": "stream",
     "text": [
      "File: image128158.jpg, Size: (783, 575)\n",
      "File: image128169.jpg, Size: (783, 575)\n",
      "File: image128191.jpg, Size: (783, 575)\n",
      "File: image128202.jpg, Size: (783, 575)\n",
      "File: image128224.jpg, Size: (783, 575)\n",
      "File: image128225.jpg, Size: (783, 575)\n",
      "File: image128226.jpg, Size: (783, 575)\n",
      "File: image128237.jpg, Size: (783, 575)\n",
      "File: image128248.jpg, Size: (783, 575)\n"
     ]
    },
    {
     "name": "stderr",
     "output_type": "stream",
     "text": [
      "Checking images:  22%|██████████████                                                   | 31459/144888 [00:58<03:34, 528.17image/s]"
     ]
    },
    {
     "name": "stdout",
     "output_type": "stream",
     "text": [
      "File: image128270.jpg, Size: (783, 575)\n",
      "File: image128281.jpg, Size: (783, 575)\n",
      "File: image128292.jpg, Size: (783, 575)\n",
      "File: image128303.jpg, Size: (783, 575)\n",
      "File: image128314.jpg, Size: (783, 575)\n",
      "File: image128336.jpg, Size: (783, 575)\n",
      "File: image128337.jpg, Size: (783, 575)\n",
      "File: image128348.jpg, Size: (783, 575)\n"
     ]
    },
    {
     "name": "stderr",
     "output_type": "stream",
     "text": [
      "Checking images:  22%|██████████████▏                                                  | 31622/144888 [00:58<03:35, 525.21image/s]"
     ]
    },
    {
     "name": "stdout",
     "output_type": "stream",
     "text": [
      "File: image128392.jpg, Size: (783, 575)\n",
      "File: image128414.jpg, Size: (783, 575)\n",
      "File: image128425.jpg, Size: (783, 575)\n",
      "File: image128447.jpg, Size: (783, 575)\n",
      "File: image128448.jpg, Size: (783, 575)\n",
      "File: image128459.jpg, Size: (783, 575)\n",
      "File: image128470.jpg, Size: (783, 575)\n",
      "File: image128481.jpg, Size: (783, 575)\n"
     ]
    },
    {
     "name": "stderr",
     "output_type": "stream",
     "text": [
      "Checking images:  22%|██████████████▏                                                  | 31730/144888 [00:59<03:33, 530.82image/s]"
     ]
    },
    {
     "name": "stdout",
     "output_type": "stream",
     "text": [
      "File: image128514.jpg, Size: (783, 575)\n",
      "File: image128536.jpg, Size: (783, 575)\n",
      "File: image128547.jpg, Size: (783, 575)\n",
      "File: image128558.jpg, Size: (783, 575)\n",
      "File: image128559.jpg, Size: (783, 575)\n",
      "File: image128570.jpg, Size: (783, 575)\n",
      "File: image128581.jpg, Size: (783, 575)\n"
     ]
    },
    {
     "name": "stderr",
     "output_type": "stream",
     "text": [
      "Checking images:  22%|██████████████▎                                                  | 31893/144888 [00:59<03:37, 518.73image/s]"
     ]
    },
    {
     "name": "stdout",
     "output_type": "stream",
     "text": [
      "File: image128603.jpg, Size: (783, 575)\n",
      "File: image128614.jpg, Size: (783, 575)\n",
      "File: image128625.jpg, Size: (783, 575)\n",
      "File: image128636.jpg, Size: (783, 575)\n",
      "File: image128647.jpg, Size: (783, 575)\n",
      "File: image128658.jpg, Size: (783, 575)\n",
      "File: image128669.jpg, Size: (783, 575)\n",
      "File: image128670.jpg, Size: (783, 575)\n",
      "File: image128681.jpg, Size: (783, 575)\n",
      "File: image128692.jpg, Size: (783, 575)\n"
     ]
    },
    {
     "name": "stderr",
     "output_type": "stream",
     "text": [
      "Checking images:  22%|██████████████▎                                                  | 31997/144888 [00:59<03:44, 502.60image/s]"
     ]
    },
    {
     "name": "stdout",
     "output_type": "stream",
     "text": [
      "File: image128714.jpg, Size: (783, 575)\n",
      "File: image128725.jpg, Size: (783, 575)\n",
      "File: image128736.jpg, Size: (783, 575)\n",
      "File: image128747.jpg, Size: (783, 575)\n",
      "File: image128758.jpg, Size: (783, 575)\n",
      "File: image128781.jpg, Size: (783, 575)\n",
      "File: image128792.jpg, Size: (783, 575)\n",
      "File: image128803.jpg, Size: (783, 575)\n"
     ]
    },
    {
     "name": "stderr",
     "output_type": "stream",
     "text": [
      "Checking images:  22%|██████████████▍                                                  | 32098/144888 [00:59<03:50, 489.56image/s]"
     ]
    },
    {
     "name": "stdout",
     "output_type": "stream",
     "text": [
      "File: image128814.jpg, Size: (783, 575)\n",
      "File: image128825.jpg, Size: (783, 575)\n",
      "File: image128836.jpg, Size: (783, 575)\n",
      "File: image128847.jpg, Size: (783, 575)\n",
      "File: image128858.jpg, Size: (783, 575)\n",
      "File: image128869.jpg, Size: (783, 575)\n",
      "File: image128880.jpg, Size: (783, 575)\n",
      "File: image128892.jpg, Size: (783, 575)\n"
     ]
    },
    {
     "name": "stderr",
     "output_type": "stream",
     "text": [
      "Checking images:  22%|██████████████▍                                                  | 32198/144888 [01:00<03:51, 487.56image/s]"
     ]
    },
    {
     "name": "stdout",
     "output_type": "stream",
     "text": [
      "File: image128903.jpg, Size: (783, 575)\n",
      "File: image128914.jpg, Size: (783, 575)\n",
      "File: image12892.jpg, Size: (783, 575)\n",
      "File: image128958.jpg, Size: (783, 575)\n",
      "File: image128969.jpg, Size: (783, 575)\n",
      "File: image128980.jpg, Size: (783, 575)\n",
      "File: image128991.jpg, Size: (783, 575)\n"
     ]
    },
    {
     "name": "stderr",
     "output_type": "stream",
     "text": [
      "Checking images:  22%|██████████████▍                                                  | 32300/144888 [01:00<03:46, 497.85image/s]"
     ]
    },
    {
     "name": "stdout",
     "output_type": "stream",
     "text": [
      "File: image129003.jpg, Size: (783, 575)\n",
      "File: image129014.jpg, Size: (783, 575)\n",
      "File: image129025.jpg, Size: (783, 575)\n",
      "File: image129036.jpg, Size: (783, 575)\n",
      "File: image129047.jpg, Size: (783, 575)\n",
      "File: image129058.jpg, Size: (783, 575)\n",
      "File: image129080.jpg, Size: (783, 575)\n",
      "File: image129091.jpg, Size: (783, 575)\n"
     ]
    },
    {
     "name": "stderr",
     "output_type": "stream",
     "text": [
      "Checking images:  22%|██████████████▌                                                  | 32407/144888 [01:00<03:37, 517.98image/s]"
     ]
    },
    {
     "name": "stdout",
     "output_type": "stream",
     "text": [
      "File: image129102.jpg, Size: (783, 575)\n",
      "File: image129113.jpg, Size: (783, 575)\n",
      "File: image129114.jpg, Size: (783, 575)\n",
      "File: image129125.jpg, Size: (783, 575)\n",
      "File: image129147.jpg, Size: (783, 575)\n",
      "File: image129158.jpg, Size: (783, 575)\n",
      "File: image129169.jpg, Size: (783, 575)\n",
      "File: image129191.jpg, Size: (783, 575)\n",
      "File: image129202.jpg, Size: (783, 575)\n"
     ]
    },
    {
     "name": "stderr",
     "output_type": "stream",
     "text": [
      "Checking images:  22%|██████████████▌                                                  | 32575/144888 [01:00<03:26, 544.53image/s]"
     ]
    },
    {
     "name": "stdout",
     "output_type": "stream",
     "text": [
      "File: image129224.jpg, Size: (783, 575)\n",
      "File: image129225.jpg, Size: (783, 575)\n",
      "File: image129247.jpg, Size: (783, 575)\n",
      "File: image129258.jpg, Size: (783, 575)\n",
      "File: image129269.jpg, Size: (783, 575)\n",
      "File: image129280.jpg, Size: (783, 575)\n",
      "File: image129291.jpg, Size: (783, 575)\n",
      "File: image129302.jpg, Size: (783, 575)\n",
      "File: image129313.jpg, Size: (783, 575)\n",
      "File: image129324.jpg, Size: (783, 575)\n"
     ]
    },
    {
     "name": "stderr",
     "output_type": "stream",
     "text": [
      "Checking images:  23%|██████████████▋                                                  | 32686/144888 [01:00<03:25, 546.43image/s]"
     ]
    },
    {
     "name": "stdout",
     "output_type": "stream",
     "text": [
      "File: image129336.jpg, Size: (783, 575)\n",
      "File: image129348.jpg, Size: (783, 575)\n",
      "File: image129370.jpg, Size: (783, 575)\n",
      "File: image129381.jpg, Size: (783, 575)\n",
      "File: image129403.jpg, Size: (783, 575)\n",
      "File: image129414.jpg, Size: (783, 575)\n",
      "File: image129425.jpg, Size: (783, 575)\n"
     ]
    },
    {
     "name": "stderr",
     "output_type": "stream",
     "text": [
      "Checking images:  23%|██████████████▋                                                  | 32794/144888 [01:01<03:42, 503.01image/s]"
     ]
    },
    {
     "name": "stdout",
     "output_type": "stream",
     "text": [
      "File: image129447.jpg, Size: (783, 575)\n",
      "File: image129448.jpg, Size: (783, 575)\n",
      "File: image129459.jpg, Size: (783, 575)\n",
      "File: image129470.jpg, Size: (783, 575)\n",
      "File: image129492.jpg, Size: (783, 575)\n",
      "File: image129503.jpg, Size: (783, 575)\n",
      "File: image129514.jpg, Size: (783, 575)\n",
      "File: image129525.jpg, Size: (783, 575)\n"
     ]
    },
    {
     "name": "stderr",
     "output_type": "stream",
     "text": [
      "Checking images:  23%|██████████████▊                                                  | 32895/144888 [01:01<03:46, 494.65image/s]"
     ]
    },
    {
     "name": "stdout",
     "output_type": "stream",
     "text": [
      "File: image129536.jpg, Size: (783, 575)\n",
      "File: image129547.jpg, Size: (783, 575)\n",
      "File: image129558.jpg, Size: (783, 575)\n",
      "File: image129559.jpg, Size: (783, 575)\n",
      "File: image129581.jpg, Size: (783, 575)\n",
      "File: image129603.jpg, Size: (783, 575)\n",
      "File: image129625.jpg, Size: (783, 575)\n"
     ]
    },
    {
     "name": "stderr",
     "output_type": "stream",
     "text": [
      "Checking images:  23%|██████████████▊                                                  | 33049/144888 [01:01<03:41, 503.92image/s]"
     ]
    },
    {
     "name": "stdout",
     "output_type": "stream",
     "text": [
      "File: image129647.jpg, Size: (783, 575)\n",
      "File: image129658.jpg, Size: (783, 575)\n",
      "File: image129669.jpg, Size: (783, 575)\n",
      "File: image129670.jpg, Size: (783, 575)\n",
      "File: image129692.jpg, Size: (783, 575)\n",
      "File: image129703.jpg, Size: (783, 575)\n",
      "File: image129714.jpg, Size: (783, 575)\n",
      "File: image129725.jpg, Size: (783, 575)\n",
      "File: image129736.jpg, Size: (783, 575)\n"
     ]
    },
    {
     "name": "stderr",
     "output_type": "stream",
     "text": [
      "Checking images:  23%|██████████████▊                                                  | 33157/144888 [01:01<03:34, 520.71image/s]"
     ]
    },
    {
     "name": "stdout",
     "output_type": "stream",
     "text": [
      "File: image129747.jpg, Size: (783, 575)\n",
      "File: image129758.jpg, Size: (783, 575)\n",
      "File: image129769.jpg, Size: (783, 575)\n",
      "File: image129780.jpg, Size: (783, 575)\n",
      "File: image129781.jpg, Size: (783, 575)\n",
      "File: image129792.jpg, Size: (783, 575)\n",
      "File: image129803.jpg, Size: (783, 575)\n",
      "File: image129825.jpg, Size: (783, 575)\n",
      "File: image129836.jpg, Size: (783, 575)\n"
     ]
    },
    {
     "name": "stderr",
     "output_type": "stream",
     "text": [
      "Checking images:  23%|██████████████▉                                                  | 33267/144888 [01:02<03:28, 534.10image/s]"
     ]
    },
    {
     "name": "stdout",
     "output_type": "stream",
     "text": [
      "File: image129847.jpg, Size: (783, 575)\n",
      "File: image129858.jpg, Size: (783, 575)\n",
      "File: image129869.jpg, Size: (783, 575)\n",
      "File: image129891.jpg, Size: (783, 575)\n",
      "File: image129892.jpg, Size: (783, 575)\n",
      "File: image129903.jpg, Size: (783, 575)\n",
      "File: image129936.jpg, Size: (783, 575)\n"
     ]
    },
    {
     "name": "stderr",
     "output_type": "stream",
     "text": [
      "Checking images:  23%|██████████████▉                                                  | 33378/144888 [01:02<03:25, 542.95image/s]"
     ]
    },
    {
     "name": "stdout",
     "output_type": "stream",
     "text": [
      "File: image129958.jpg, Size: (783, 575)\n",
      "File: image129980.jpg, Size: (783, 575)\n",
      "File: image129991.jpg, Size: (783, 575)\n",
      "File: image130002.jpg, Size: (783, 575)\n",
      "File: image130003.jpg, Size: (783, 575)\n",
      "File: image130014.jpg, Size: (783, 575)\n",
      "File: image130025.jpg, Size: (783, 575)\n",
      "File: image13003.jpg, Size: (783, 575)\n",
      "File: image130036.jpg, Size: (783, 575)\n",
      "File: image130047.jpg, Size: (783, 575)\n"
     ]
    },
    {
     "name": "stderr",
     "output_type": "stream",
     "text": [
      "Checking images:  23%|███████████████                                                  | 33490/144888 [01:02<03:22, 549.70image/s]"
     ]
    },
    {
     "name": "stdout",
     "output_type": "stream",
     "text": [
      "File: image130058.jpg, Size: (783, 575)\n",
      "File: image130080.jpg, Size: (783, 575)\n",
      "File: image130091.jpg, Size: (783, 575)\n",
      "File: image130102.jpg, Size: (783, 575)\n",
      "File: image130113.jpg, Size: (783, 575)\n",
      "File: image130136.jpg, Size: (783, 575)\n",
      "File: image130147.jpg, Size: (783, 575)\n"
     ]
    },
    {
     "name": "stderr",
     "output_type": "stream",
     "text": [
      "Checking images:  23%|███████████████                                                  | 33601/144888 [01:02<03:22, 549.85image/s]"
     ]
    },
    {
     "name": "stdout",
     "output_type": "stream",
     "text": [
      "File: image130169.jpg, Size: (783, 575)\n",
      "File: image130191.jpg, Size: (783, 575)\n",
      "File: image130202.jpg, Size: (783, 575)\n",
      "File: image130213.jpg, Size: (783, 575)\n",
      "File: image130225.jpg, Size: (783, 575)\n",
      "File: image130258.jpg, Size: (783, 575)\n"
     ]
    },
    {
     "name": "stderr",
     "output_type": "stream",
     "text": [
      "Checking images:  23%|███████████████                                                  | 33713/144888 [01:02<03:21, 552.27image/s]"
     ]
    },
    {
     "name": "stdout",
     "output_type": "stream",
     "text": [
      "File: image130280.jpg, Size: (783, 575)\n",
      "File: image130291.jpg, Size: (783, 575)\n",
      "File: image130302.jpg, Size: (783, 575)\n",
      "File: image130324.jpg, Size: (783, 575)\n",
      "File: image130335.jpg, Size: (783, 575)\n",
      "File: image130347.jpg, Size: (783, 575)\n",
      "File: image130358.jpg, Size: (783, 575)\n",
      "File: image130369.jpg, Size: (783, 575)\n"
     ]
    },
    {
     "name": "stderr",
     "output_type": "stream",
     "text": [
      "Checking images:  23%|███████████████▏                                                 | 33824/144888 [01:03<03:23, 546.68image/s]"
     ]
    },
    {
     "name": "stdout",
     "output_type": "stream",
     "text": [
      "File: image130391.jpg, Size: (783, 575)\n",
      "File: image130402.jpg, Size: (783, 575)\n",
      "File: image130413.jpg, Size: (783, 575)\n",
      "File: image130424.jpg, Size: (783, 575)\n",
      "File: image130435.jpg, Size: (783, 575)\n",
      "File: image130446.jpg, Size: (783, 575)\n",
      "File: image130447.jpg, Size: (783, 575)\n",
      "File: image130448.jpg, Size: (783, 575)\n",
      "File: image130459.jpg, Size: (783, 575)\n",
      "File: image130481.jpg, Size: (783, 575)\n"
     ]
    },
    {
     "name": "stderr",
     "output_type": "stream",
     "text": [
      "Checking images:  23%|███████████████▏                                                 | 33935/144888 [01:03<03:22, 546.90image/s]"
     ]
    },
    {
     "name": "stdout",
     "output_type": "stream",
     "text": [
      "File: image130492.jpg, Size: (783, 575)\n",
      "File: image130503.jpg, Size: (783, 575)\n",
      "File: image130525.jpg, Size: (783, 575)\n",
      "File: image130558.jpg, Size: (783, 575)\n",
      "File: image130581.jpg, Size: (783, 575)\n"
     ]
    },
    {
     "name": "stderr",
     "output_type": "stream",
     "text": [
      "Checking images:  24%|███████████████▎                                                 | 34104/144888 [01:03<03:20, 553.53image/s]"
     ]
    },
    {
     "name": "stdout",
     "output_type": "stream",
     "text": [
      "File: image130592.jpg, Size: (783, 575)\n",
      "File: image130603.jpg, Size: (783, 575)\n",
      "File: image130614.jpg, Size: (783, 575)\n",
      "File: image130625.jpg, Size: (783, 575)\n",
      "File: image130647.jpg, Size: (783, 575)\n",
      "File: image130658.jpg, Size: (783, 575)\n",
      "File: image130669.jpg, Size: (783, 575)\n",
      "File: image130670.jpg, Size: (783, 575)\n",
      "File: image130681.jpg, Size: (783, 575)\n"
     ]
    },
    {
     "name": "stderr",
     "output_type": "stream",
     "text": [
      "Checking images:  24%|███████████████▎                                                 | 34218/144888 [01:03<03:18, 558.23image/s]"
     ]
    },
    {
     "name": "stdout",
     "output_type": "stream",
     "text": [
      "File: image130736.jpg, Size: (783, 575)\n",
      "File: image130747.jpg, Size: (783, 575)\n",
      "File: image130780.jpg, Size: (783, 575)\n",
      "File: image130792.jpg, Size: (783, 575)\n",
      "File: image130803.jpg, Size: (783, 575)\n",
      "File: image130825.jpg, Size: (783, 575)\n"
     ]
    },
    {
     "name": "stderr",
     "output_type": "stream",
     "text": [
      "Checking images:  24%|███████████████▍                                                 | 34330/144888 [01:04<03:19, 555.28image/s]"
     ]
    },
    {
     "name": "stdout",
     "output_type": "stream",
     "text": [
      "File: image130847.jpg, Size: (783, 575)\n",
      "File: image130858.jpg, Size: (783, 575)\n",
      "File: image130903.jpg, Size: (783, 575)\n",
      "File: image130914.jpg, Size: (783, 575)\n",
      "File: image130925.jpg, Size: (783, 575)\n"
     ]
    },
    {
     "name": "stderr",
     "output_type": "stream",
     "text": [
      "Checking images:  24%|███████████████▍                                                 | 34498/144888 [01:04<03:18, 557.02image/s]"
     ]
    },
    {
     "name": "stdout",
     "output_type": "stream",
     "text": [
      "File: image130947.jpg, Size: (783, 575)\n",
      "File: image130958.jpg, Size: (783, 575)\n",
      "File: image130969.jpg, Size: (783, 575)\n",
      "File: image130980.jpg, Size: (783, 575)\n",
      "File: image130991.jpg, Size: (783, 575)\n",
      "File: image131002.jpg, Size: (783, 575)\n",
      "File: image131003.jpg, Size: (783, 575)\n",
      "File: image131025.jpg, Size: (783, 575)\n",
      "File: image131036.jpg, Size: (783, 575)\n"
     ]
    },
    {
     "name": "stderr",
     "output_type": "stream",
     "text": [
      "Checking images:  24%|███████████████▌                                                 | 34610/144888 [01:04<03:17, 557.12image/s]"
     ]
    },
    {
     "name": "stdout",
     "output_type": "stream",
     "text": [
      "File: image131047.jpg, Size: (783, 575)\n",
      "File: image131069.jpg, Size: (783, 575)\n",
      "File: image131080.jpg, Size: (783, 575)\n",
      "File: image131091.jpg, Size: (783, 575)\n",
      "File: image131102.jpg, Size: (783, 575)\n",
      "File: image131113.jpg, Size: (783, 575)\n",
      "File: image131114.jpg, Size: (783, 575)\n",
      "File: image131125.jpg, Size: (783, 575)\n",
      "File: image131136.jpg, Size: (783, 575)\n"
     ]
    },
    {
     "name": "stderr",
     "output_type": "stream",
     "text": [
      "Checking images:  24%|███████████████▌                                                 | 34722/144888 [01:04<03:17, 558.12image/s]"
     ]
    },
    {
     "name": "stdout",
     "output_type": "stream",
     "text": [
      "File: image131147.jpg, Size: (783, 575)\n",
      "File: image131158.jpg, Size: (783, 575)\n",
      "File: image131169.jpg, Size: (783, 575)\n",
      "File: image131213.jpg, Size: (783, 575)\n",
      "File: image131224.jpg, Size: (783, 575)\n",
      "File: image131236.jpg, Size: (783, 575)\n"
     ]
    },
    {
     "name": "stderr",
     "output_type": "stream",
     "text": [
      "Checking images:  24%|███████████████▋                                                 | 34834/144888 [01:04<03:18, 553.77image/s]"
     ]
    },
    {
     "name": "stdout",
     "output_type": "stream",
     "text": [
      "File: image131247.jpg, Size: (783, 575)\n",
      "File: image131258.jpg, Size: (783, 575)\n",
      "File: image131269.jpg, Size: (783, 575)\n",
      "File: image131280.jpg, Size: (783, 575)\n",
      "File: image131302.jpg, Size: (783, 575)\n",
      "File: image131313.jpg, Size: (783, 575)\n",
      "File: image131324.jpg, Size: (783, 575)\n",
      "File: image131336.jpg, Size: (783, 575)\n",
      "File: image131347.jpg, Size: (783, 575)\n"
     ]
    },
    {
     "name": "stderr",
     "output_type": "stream",
     "text": [
      "Checking images:  24%|███████████████▋                                                 | 34945/144888 [01:05<03:20, 547.61image/s]"
     ]
    },
    {
     "name": "stdout",
     "output_type": "stream",
     "text": [
      "File: image131380.jpg, Size: (783, 575)\n",
      "File: image131391.jpg, Size: (783, 575)\n",
      "File: image131424.jpg, Size: (783, 575)\n",
      "File: image131435.jpg, Size: (783, 575)\n",
      "File: image131446.jpg, Size: (783, 575)\n",
      "File: image131447.jpg, Size: (783, 575)\n",
      "File: image131458.jpg, Size: (783, 575)\n",
      "File: image131480.jpg, Size: (783, 575)\n"
     ]
    },
    {
     "name": "stderr",
     "output_type": "stream",
     "text": [
      "Checking images:  24%|███████████████▊                                                 | 35112/144888 [01:05<03:19, 549.63image/s]"
     ]
    },
    {
     "name": "stdout",
     "output_type": "stream",
     "text": [
      "File: image131491.jpg, Size: (783, 575)\n",
      "File: image131502.jpg, Size: (783, 575)\n",
      "File: image131513.jpg, Size: (783, 575)\n",
      "File: image131524.jpg, Size: (783, 575)\n",
      "File: image131535.jpg, Size: (783, 575)\n",
      "File: image131546.jpg, Size: (783, 575)\n",
      "File: image131558.jpg, Size: (783, 575)\n",
      "File: image131559.jpg, Size: (783, 575)\n",
      "File: image131570.jpg, Size: (783, 575)\n",
      "File: image131592.jpg, Size: (783, 575)\n"
     ]
    },
    {
     "name": "stderr",
     "output_type": "stream",
     "text": [
      "Checking images:  24%|███████████████▊                                                 | 35224/144888 [01:05<03:18, 552.19image/s]"
     ]
    },
    {
     "name": "stdout",
     "output_type": "stream",
     "text": [
      "File: image131625.jpg, Size: (783, 575)\n",
      "File: image131658.jpg, Size: (783, 575)\n",
      "File: image131670.jpg, Size: (783, 575)\n",
      "File: image131681.jpg, Size: (783, 575)\n",
      "File: image131692.jpg, Size: (783, 575)\n",
      "File: image131703.jpg, Size: (783, 575)\n",
      "File: image131725.jpg, Size: (783, 575)\n"
     ]
    },
    {
     "name": "stderr",
     "output_type": "stream",
     "text": [
      "Checking images:  24%|███████████████▊                                                 | 35336/144888 [01:05<03:17, 554.80image/s]"
     ]
    },
    {
     "name": "stdout",
     "output_type": "stream",
     "text": [
      "File: image131736.jpg, Size: (783, 575)\n",
      "File: image131747.jpg, Size: (783, 575)\n",
      "File: image131758.jpg, Size: (783, 575)\n",
      "File: image131780.jpg, Size: (783, 575)\n",
      "File: image131781.jpg, Size: (783, 575)\n",
      "File: image131803.jpg, Size: (783, 575)\n",
      "File: image131825.jpg, Size: (783, 575)\n",
      "File: image131836.jpg, Size: (783, 575)\n"
     ]
    },
    {
     "name": "stderr",
     "output_type": "stream",
     "text": [
      "Checking images:  25%|███████████████▉                                                 | 35504/144888 [01:06<03:17, 554.55image/s]"
     ]
    },
    {
     "name": "stdout",
     "output_type": "stream",
     "text": [
      "File: image131858.jpg, Size: (783, 575)\n",
      "File: image131880.jpg, Size: (783, 575)\n",
      "File: image131903.jpg, Size: (783, 575)\n",
      "File: image131914.jpg, Size: (783, 575)\n",
      "File: image131925.jpg, Size: (783, 575)\n",
      "File: image131936.jpg, Size: (783, 575)\n",
      "File: image131947.jpg, Size: (783, 575)\n"
     ]
    },
    {
     "name": "stderr",
     "output_type": "stream",
     "text": [
      "Checking images:  25%|███████████████▉                                                 | 35617/144888 [01:06<03:17, 553.59image/s]"
     ]
    },
    {
     "name": "stdout",
     "output_type": "stream",
     "text": [
      "File: image131958.jpg, Size: (783, 575)\n",
      "File: image131980.jpg, Size: (783, 575)\n",
      "File: image131991.jpg, Size: (783, 575)\n",
      "File: image132002.jpg, Size: (783, 575)\n",
      "File: image132003.jpg, Size: (783, 575)\n",
      "File: image132014.jpg, Size: (783, 575)\n",
      "File: image132025.jpg, Size: (783, 575)\n",
      "File: image132036.jpg, Size: (783, 575)\n",
      "File: image132047.jpg, Size: (783, 575)\n"
     ]
    },
    {
     "name": "stderr",
     "output_type": "stream",
     "text": [
      "Checking images:  25%|████████████████                                                 | 35731/144888 [01:06<03:15, 558.19image/s]"
     ]
    },
    {
     "name": "stdout",
     "output_type": "stream",
     "text": [
      "File: image132058.jpg, Size: (783, 575)\n",
      "File: image132069.jpg, Size: (783, 575)\n",
      "File: image132080.jpg, Size: (783, 575)\n",
      "File: image132102.jpg, Size: (783, 575)\n",
      "File: image132113.jpg, Size: (783, 575)\n",
      "File: image132114.jpg, Size: (783, 575)\n",
      "File: image132136.jpg, Size: (783, 575)\n",
      "File: image132147.jpg, Size: (783, 575)\n"
     ]
    },
    {
     "name": "stderr",
     "output_type": "stream",
     "text": [
      "Checking images:  25%|████████████████                                                 | 35843/144888 [01:06<03:19, 546.13image/s]"
     ]
    },
    {
     "name": "stdout",
     "output_type": "stream",
     "text": [
      "File: image132158.jpg, Size: (783, 575)\n",
      "File: image132169.jpg, Size: (783, 575)\n",
      "File: image132180.jpg, Size: (783, 575)\n",
      "File: image132191.jpg, Size: (783, 575)\n",
      "File: image132202.jpg, Size: (783, 575)\n",
      "File: image132224.jpg, Size: (783, 575)\n",
      "File: image132225.jpg, Size: (783, 575)\n",
      "File: image132236.jpg, Size: (783, 575)\n",
      "File: image132247.jpg, Size: (783, 575)\n",
      "File: image13225.jpg, Size: (783, 575)\n"
     ]
    },
    {
     "name": "stderr",
     "output_type": "stream",
     "text": [
      "\r",
      "Checking images:  25%|████████████████                                                 | 35898/144888 [01:06<03:23, 536.77image/s]"
     ]
    },
    {
     "name": "stdout",
     "output_type": "stream",
     "text": [
      "File: image132258.jpg, Size: (783, 575)\n",
      "File: image132269.jpg, Size: (783, 575)\n",
      "File: image132280.jpg, Size: (783, 575)\n",
      "File: image132302.jpg, Size: (783, 575)\n",
      "File: image132324.jpg, Size: (783, 575)\n",
      "File: image132335.jpg, Size: (783, 575)\n",
      "File: image132336.jpg, Size: (783, 575)\n",
      "File: image132347.jpg, Size: (783, 575)\n"
     ]
    },
    {
     "name": "stderr",
     "output_type": "stream",
     "text": [
      "Checking images:  25%|████████████████▏                                                | 36062/144888 [01:07<03:21, 539.14image/s]"
     ]
    },
    {
     "name": "stdout",
     "output_type": "stream",
     "text": [
      "File: image132380.jpg, Size: (783, 575)\n",
      "File: image132402.jpg, Size: (783, 575)\n",
      "File: image132413.jpg, Size: (783, 575)\n",
      "File: image132435.jpg, Size: (783, 575)\n",
      "File: image132446.jpg, Size: (783, 575)\n",
      "File: image132447.jpg, Size: (783, 575)\n",
      "File: image132458.jpg, Size: (783, 575)\n",
      "File: image132469.jpg, Size: (783, 575)\n",
      "File: image132480.jpg, Size: (783, 575)\n"
     ]
    },
    {
     "name": "stderr",
     "output_type": "stream",
     "text": [
      "Checking images:  25%|████████████████▏                                                | 36171/144888 [01:07<03:21, 540.83image/s]"
     ]
    },
    {
     "name": "stdout",
     "output_type": "stream",
     "text": [
      "File: image132491.jpg, Size: (783, 575)\n",
      "File: image132524.jpg, Size: (783, 575)\n",
      "File: image132535.jpg, Size: (783, 575)\n",
      "File: image132546.jpg, Size: (783, 575)\n",
      "File: image132557.jpg, Size: (783, 575)\n",
      "File: image132569.jpg, Size: (783, 575)\n"
     ]
    },
    {
     "name": "stderr",
     "output_type": "stream",
     "text": [
      "Checking images:  25%|████████████████▎                                                | 36282/144888 [01:07<03:18, 545.87image/s]"
     ]
    },
    {
     "name": "stdout",
     "output_type": "stream",
     "text": [
      "File: image132591.jpg, Size: (783, 575)\n",
      "File: image132624.jpg, Size: (783, 575)\n",
      "File: image132635.jpg, Size: (783, 575)\n",
      "File: image132646.jpg, Size: (783, 575)\n",
      "File: image132657.jpg, Size: (783, 575)\n",
      "File: image132669.jpg, Size: (783, 575)\n",
      "File: image132670.jpg, Size: (783, 575)\n",
      "File: image132681.jpg, Size: (783, 575)\n"
     ]
    },
    {
     "name": "stderr",
     "output_type": "stream",
     "text": [
      "Checking images:  25%|████████████████▎                                                | 36450/144888 [01:07<03:16, 551.39image/s]"
     ]
    },
    {
     "name": "stdout",
     "output_type": "stream",
     "text": [
      "File: image132703.jpg, Size: (783, 575)\n",
      "File: image132725.jpg, Size: (783, 575)\n",
      "File: image132747.jpg, Size: (783, 575)\n",
      "File: image132758.jpg, Size: (783, 575)\n",
      "File: image132769.jpg, Size: (783, 575)\n",
      "File: image132780.jpg, Size: (783, 575)\n",
      "File: image132781.jpg, Size: (783, 575)\n"
     ]
    },
    {
     "name": "stderr",
     "output_type": "stream",
     "text": [
      "Checking images:  25%|████████████████▍                                                | 36560/144888 [01:08<03:24, 530.26image/s]"
     ]
    },
    {
     "name": "stdout",
     "output_type": "stream",
     "text": [
      "File: image132814.jpg, Size: (783, 575)\n",
      "File: image132825.jpg, Size: (783, 575)\n",
      "File: image132836.jpg, Size: (783, 575)\n",
      "File: image132869.jpg, Size: (783, 575)\n",
      "File: image132880.jpg, Size: (783, 575)\n",
      "File: image132892.jpg, Size: (783, 575)\n"
     ]
    },
    {
     "name": "stderr",
     "output_type": "stream",
     "text": [
      "\r",
      "Checking images:  25%|████████████████▍                                                | 36614/144888 [01:08<03:23, 532.33image/s]"
     ]
    },
    {
     "name": "stdout",
     "output_type": "stream",
     "text": [
      "File: image132903.jpg, Size: (783, 575)\n",
      "File: image132914.jpg, Size: (783, 575)\n",
      "File: image132936.jpg, Size: (783, 575)\n",
      "File: image132947.jpg, Size: (783, 575)\n",
      "File: image132958.jpg, Size: (783, 575)\n",
      "File: image132969.jpg, Size: (783, 575)\n",
      "File: image132980.jpg, Size: (783, 575)\n",
      "File: image132991.jpg, Size: (783, 575)\n"
     ]
    },
    {
     "name": "stderr",
     "output_type": "stream",
     "text": [
      "Checking images:  25%|████████████████▍                                                | 36720/144888 [01:08<03:32, 509.48image/s]"
     ]
    },
    {
     "name": "stdout",
     "output_type": "stream",
     "text": [
      "File: image133002.jpg, Size: (783, 575)\n",
      "File: image133014.jpg, Size: (783, 575)\n",
      "File: image133025.jpg, Size: (783, 575)\n",
      "File: image133036.jpg, Size: (783, 575)\n",
      "File: image133047.jpg, Size: (783, 575)\n",
      "File: image133058.jpg, Size: (783, 575)\n",
      "File: image133080.jpg, Size: (783, 575)\n"
     ]
    },
    {
     "name": "stderr",
     "output_type": "stream",
     "text": [
      "Checking images:  25%|████████████████▌                                                | 36827/144888 [01:08<03:29, 516.82image/s]"
     ]
    },
    {
     "name": "stdout",
     "output_type": "stream",
     "text": [
      "File: image133091.jpg, Size: (783, 575)\n",
      "File: image133102.jpg, Size: (783, 575)\n",
      "File: image133114.jpg, Size: (783, 575)\n",
      "File: image133125.jpg, Size: (783, 575)\n",
      "File: image133147.jpg, Size: (783, 575)\n",
      "File: image133158.jpg, Size: (783, 575)\n",
      "File: image133169.jpg, Size: (783, 575)\n",
      "File: image133180.jpg, Size: (783, 575)\n"
     ]
    },
    {
     "name": "stderr",
     "output_type": "stream",
     "text": [
      "Checking images:  25%|████████████████▌                                                | 36937/144888 [01:08<03:23, 530.93image/s]"
     ]
    },
    {
     "name": "stdout",
     "output_type": "stream",
     "text": [
      "File: image133191.jpg, Size: (783, 575)\n",
      "File: image133202.jpg, Size: (783, 575)\n",
      "File: image133213.jpg, Size: (783, 575)\n",
      "File: image133224.jpg, Size: (783, 575)\n",
      "File: image133225.jpg, Size: (783, 575)\n",
      "File: image133236.jpg, Size: (783, 575)\n",
      "File: image133247.jpg, Size: (783, 575)\n",
      "File: image133258.jpg, Size: (783, 575)\n",
      "File: image133269.jpg, Size: (783, 575)\n",
      "File: image133280.jpg, Size: (783, 575)\n"
     ]
    },
    {
     "name": "stderr",
     "output_type": "stream",
     "text": [
      "Checking images:  26%|████████████████▋                                                | 37102/144888 [01:09<03:19, 540.30image/s]"
     ]
    },
    {
     "name": "stdout",
     "output_type": "stream",
     "text": [
      "File: image133302.jpg, Size: (783, 575)\n",
      "File: image133313.jpg, Size: (783, 575)\n",
      "File: image133324.jpg, Size: (783, 575)\n",
      "File: image133335.jpg, Size: (783, 575)\n",
      "File: image133336.jpg, Size: (783, 575)\n",
      "File: image133358.jpg, Size: (783, 575)\n",
      "File: image13336.jpg, Size: (783, 575)\n",
      "File: image133369.jpg, Size: (783, 575)\n",
      "File: image133380.jpg, Size: (783, 575)\n",
      "File: image133391.jpg, Size: (783, 575)\n",
      "File: image133402.jpg, Size: (783, 575)\n"
     ]
    },
    {
     "name": "stderr",
     "output_type": "stream",
     "text": [
      "Checking images:  26%|████████████████▋                                                | 37213/144888 [01:09<03:17, 544.20image/s]"
     ]
    },
    {
     "name": "stdout",
     "output_type": "stream",
     "text": [
      "File: image133413.jpg, Size: (783, 575)\n",
      "File: image133424.jpg, Size: (783, 575)\n",
      "File: image133447.jpg, Size: (783, 575)\n",
      "File: image133458.jpg, Size: (783, 575)\n",
      "File: image133469.jpg, Size: (783, 575)\n",
      "File: image133480.jpg, Size: (783, 575)\n"
     ]
    },
    {
     "name": "stderr",
     "output_type": "stream",
     "text": [
      "Checking images:  26%|████████████████▋                                                | 37324/144888 [01:09<03:16, 547.19image/s]"
     ]
    },
    {
     "name": "stdout",
     "output_type": "stream",
     "text": [
      "File: image133513.jpg, Size: (783, 575)\n",
      "File: image133535.jpg, Size: (783, 575)\n",
      "File: image133546.jpg, Size: (783, 575)\n",
      "File: image133557.jpg, Size: (783, 575)\n",
      "File: image133558.jpg, Size: (783, 575)\n",
      "File: image133569.jpg, Size: (783, 575)\n",
      "File: image133580.jpg, Size: (783, 575)\n",
      "File: image133591.jpg, Size: (783, 575)\n",
      "File: image133602.jpg, Size: (783, 575)\n"
     ]
    },
    {
     "name": "stderr",
     "output_type": "stream",
     "text": [
      "Checking images:  26%|████████████████▊                                                | 37437/144888 [01:09<03:14, 553.52image/s]"
     ]
    },
    {
     "name": "stdout",
     "output_type": "stream",
     "text": [
      "File: image133613.jpg, Size: (783, 575)\n",
      "File: image133624.jpg, Size: (783, 575)\n",
      "File: image133635.jpg, Size: (783, 575)\n",
      "File: image133646.jpg, Size: (783, 575)\n",
      "File: image133657.jpg, Size: (783, 575)\n",
      "File: image133668.jpg, Size: (783, 575)\n",
      "File: image133669.jpg, Size: (783, 575)\n",
      "File: image133680.jpg, Size: (783, 575)\n",
      "File: image133691.jpg, Size: (783, 575)\n",
      "File: image1337.jpg, Size: (783, 575)\n",
      "File: image133702.jpg, Size: (783, 575)\n"
     ]
    },
    {
     "name": "stderr",
     "output_type": "stream",
     "text": [
      "Checking images:  26%|████████████████▊                                                | 37549/144888 [01:09<03:14, 551.69image/s]"
     ]
    },
    {
     "name": "stdout",
     "output_type": "stream",
     "text": [
      "File: image133724.jpg, Size: (783, 575)\n",
      "File: image133746.jpg, Size: (783, 575)\n",
      "File: image133757.jpg, Size: (783, 575)\n",
      "File: image133768.jpg, Size: (783, 575)\n",
      "File: image133779.jpg, Size: (783, 575)\n",
      "File: image133781.jpg, Size: (783, 575)\n",
      "File: image133782.jpg, Size: (783, 575)\n",
      "File: image133793.jpg, Size: (783, 575)\n",
      "File: image133804.jpg, Size: (783, 575)\n",
      "File: image133815.jpg, Size: (783, 575)\n"
     ]
    },
    {
     "name": "stderr",
     "output_type": "stream",
     "text": [
      "Checking images:  26%|████████████████▉                                                | 37661/144888 [01:10<03:14, 550.87image/s]"
     ]
    },
    {
     "name": "stdout",
     "output_type": "stream",
     "text": [
      "File: image133826.jpg, Size: (783, 575)\n",
      "File: image133837.jpg, Size: (783, 575)\n",
      "File: image133848.jpg, Size: (783, 575)\n",
      "File: image133859.jpg, Size: (783, 575)\n",
      "File: image133870.jpg, Size: (783, 575)\n",
      "File: image133881.jpg, Size: (783, 575)\n",
      "File: image133893.jpg, Size: (783, 575)\n",
      "File: image133904.jpg, Size: (783, 575)\n",
      "File: image133915.jpg, Size: (783, 575)\n",
      "File: image133926.jpg, Size: (783, 575)\n"
     ]
    },
    {
     "name": "stderr",
     "output_type": "stream",
     "text": [
      "Checking images:  26%|████████████████▉                                                | 37829/144888 [01:10<03:14, 551.75image/s]"
     ]
    },
    {
     "name": "stdout",
     "output_type": "stream",
     "text": [
      "File: image133937.jpg, Size: (783, 575)\n",
      "File: image133959.jpg, Size: (783, 575)\n",
      "File: image133970.jpg, Size: (783, 575)\n",
      "File: image133981.jpg, Size: (783, 575)\n",
      "File: image133992.jpg, Size: (783, 575)\n",
      "File: image134003.jpg, Size: (783, 575)\n",
      "File: image134004.jpg, Size: (783, 575)\n"
     ]
    },
    {
     "name": "stderr",
     "output_type": "stream",
     "text": [
      "\r",
      "Checking images:  26%|████████████████▉                                                | 37885/144888 [01:10<03:13, 553.25image/s]"
     ]
    },
    {
     "name": "stdout",
     "output_type": "stream",
     "text": [
      "File: image134048.jpg, Size: (783, 575)\n",
      "File: image134059.jpg, Size: (783, 575)\n",
      "File: image134070.jpg, Size: (783, 575)\n",
      "File: image134081.jpg, Size: (783, 575)\n",
      "File: image134092.jpg, Size: (783, 575)\n",
      "File: image134103.jpg, Size: (783, 575)\n",
      "File: image134114.jpg, Size: (783, 575)\n",
      "File: image134115.jpg, Size: (783, 575)\n",
      "File: image134126.jpg, Size: (783, 575)\n"
     ]
    },
    {
     "name": "stderr",
     "output_type": "stream",
     "text": [
      "Checking images:  26%|█████████████████                                                | 37994/144888 [01:10<03:26, 516.68image/s]"
     ]
    },
    {
     "name": "stdout",
     "output_type": "stream",
     "text": [
      "File: image134137.jpg, Size: (783, 575)\n",
      "File: image134148.jpg, Size: (783, 575)\n",
      "File: image134159.jpg, Size: (783, 575)\n",
      "File: image134170.jpg, Size: (783, 575)\n",
      "File: image134181.jpg, Size: (783, 575)\n",
      "File: image134192.jpg, Size: (783, 575)\n",
      "File: image134203.jpg, Size: (783, 575)\n",
      "File: image134225.jpg, Size: (783, 575)\n",
      "File: image134226.jpg, Size: (783, 575)\n"
     ]
    },
    {
     "name": "stderr",
     "output_type": "stream",
     "text": [
      "Checking images:  26%|█████████████████                                                | 38097/144888 [01:11<03:32, 503.09image/s]"
     ]
    },
    {
     "name": "stdout",
     "output_type": "stream",
     "text": [
      "File: image134237.jpg, Size: (783, 575)\n",
      "File: image134259.jpg, Size: (783, 575)\n",
      "File: image134270.jpg, Size: (783, 575)\n",
      "File: image134281.jpg, Size: (783, 575)\n",
      "File: image134292.jpg, Size: (783, 575)\n",
      "File: image134314.jpg, Size: (783, 575)\n"
     ]
    },
    {
     "name": "stderr",
     "output_type": "stream",
     "text": [
      "Checking images:  26%|█████████████████▏                                               | 38250/144888 [01:11<03:33, 498.99image/s]"
     ]
    },
    {
     "name": "stdout",
     "output_type": "stream",
     "text": [
      "File: image134337.jpg, Size: (783, 575)\n",
      "File: image134348.jpg, Size: (783, 575)\n",
      "File: image134359.jpg, Size: (783, 575)\n",
      "File: image134370.jpg, Size: (783, 575)\n",
      "File: image134381.jpg, Size: (783, 575)\n",
      "File: image134392.jpg, Size: (783, 575)\n",
      "File: image134403.jpg, Size: (783, 575)\n",
      "File: image134414.jpg, Size: (783, 575)\n"
     ]
    },
    {
     "name": "stderr",
     "output_type": "stream",
     "text": [
      "Checking images:  26%|█████████████████▏                                               | 38354/144888 [01:11<03:29, 507.44image/s]"
     ]
    },
    {
     "name": "stdout",
     "output_type": "stream",
     "text": [
      "File: image134425.jpg, Size: (783, 575)\n",
      "File: image134436.jpg, Size: (783, 575)\n",
      "File: image134447.jpg, Size: (783, 575)\n",
      "File: image134448.jpg, Size: (783, 575)\n",
      "File: image134459.jpg, Size: (783, 575)\n",
      "File: image134470.jpg, Size: (783, 575)\n",
      "File: image13448.jpg, Size: (783, 575)\n",
      "File: image134481.jpg, Size: (783, 575)\n",
      "File: image134492.jpg, Size: (783, 575)\n",
      "File: image134503.jpg, Size: (783, 575)\n",
      "File: image134514.jpg, Size: (783, 575)\n"
     ]
    },
    {
     "name": "stderr",
     "output_type": "stream",
     "text": [
      "Checking images:  27%|█████████████████▎                                               | 38462/144888 [01:11<03:24, 521.31image/s]"
     ]
    },
    {
     "name": "stdout",
     "output_type": "stream",
     "text": [
      "File: image134558.jpg, Size: (783, 575)\n",
      "File: image134570.jpg, Size: (783, 575)\n",
      "File: image134581.jpg, Size: (783, 575)\n",
      "File: image134603.jpg, Size: (783, 575)\n",
      "File: image134614.jpg, Size: (783, 575)\n",
      "File: image134625.jpg, Size: (783, 575)\n",
      "File: image134647.jpg, Size: (783, 575)\n",
      "File: image134658.jpg, Size: (783, 575)\n"
     ]
    },
    {
     "name": "stderr",
     "output_type": "stream",
     "text": [
      "Checking images:  27%|█████████████████▎                                               | 38628/144888 [01:12<03:17, 537.42image/s]"
     ]
    },
    {
     "name": "stdout",
     "output_type": "stream",
     "text": [
      "File: image134669.jpg, Size: (783, 575)\n",
      "File: image134670.jpg, Size: (783, 575)\n",
      "File: image134703.jpg, Size: (783, 575)\n",
      "File: image134714.jpg, Size: (783, 575)\n",
      "File: image134725.jpg, Size: (783, 575)\n",
      "File: image134736.jpg, Size: (783, 575)\n",
      "File: image134747.jpg, Size: (783, 575)\n",
      "File: image134758.jpg, Size: (783, 575)\n"
     ]
    },
    {
     "name": "stderr",
     "output_type": "stream",
     "text": [
      "Checking images:  27%|█████████████████▍                                               | 38738/144888 [01:12<03:15, 541.75image/s]"
     ]
    },
    {
     "name": "stdout",
     "output_type": "stream",
     "text": [
      "File: image134769.jpg, Size: (783, 575)\n",
      "File: image134780.jpg, Size: (783, 575)\n",
      "File: image134792.jpg, Size: (783, 575)\n",
      "File: image134814.jpg, Size: (783, 575)\n",
      "File: image134836.jpg, Size: (783, 575)\n",
      "File: image134858.jpg, Size: (783, 575)\n"
     ]
    },
    {
     "name": "stderr",
     "output_type": "stream",
     "text": [
      "Checking images:  27%|█████████████████▍                                               | 38850/144888 [01:12<03:13, 547.92image/s]"
     ]
    },
    {
     "name": "stdout",
     "output_type": "stream",
     "text": [
      "File: image134880.jpg, Size: (783, 575)\n",
      "File: image134891.jpg, Size: (783, 575)\n",
      "File: image134892.jpg, Size: (783, 575)\n",
      "File: image134893.jpg, Size: (783, 575)\n",
      "File: image134915.jpg, Size: (783, 575)\n",
      "File: image134926.jpg, Size: (783, 575)\n",
      "File: image134959.jpg, Size: (783, 575)\n",
      "File: image134970.jpg, Size: (783, 575)\n"
     ]
    },
    {
     "name": "stderr",
     "output_type": "stream",
     "text": [
      "Checking images:  27%|█████████████████▍                                               | 38961/144888 [01:12<03:14, 545.43image/s]"
     ]
    },
    {
     "name": "stdout",
     "output_type": "stream",
     "text": [
      "File: image134981.jpg, Size: (783, 575)\n",
      "File: image134992.jpg, Size: (783, 575)\n",
      "File: image135003.jpg, Size: (783, 575)\n",
      "File: image135004.jpg, Size: (783, 575)\n",
      "File: image135026.jpg, Size: (783, 575)\n",
      "File: image135037.jpg, Size: (783, 575)\n",
      "File: image135059.jpg, Size: (783, 575)\n"
     ]
    },
    {
     "name": "stderr",
     "output_type": "stream",
     "text": [
      "Checking images:  27%|█████████████████▌                                               | 39073/144888 [01:12<03:12, 550.39image/s]"
     ]
    },
    {
     "name": "stdout",
     "output_type": "stream",
     "text": [
      "File: image135092.jpg, Size: (783, 575)\n",
      "File: image135103.jpg, Size: (783, 575)\n",
      "File: image135114.jpg, Size: (783, 575)\n",
      "File: image135115.jpg, Size: (783, 575)\n",
      "File: image135126.jpg, Size: (783, 575)\n",
      "File: image135137.jpg, Size: (783, 575)\n",
      "File: image135148.jpg, Size: (783, 575)\n",
      "File: image135159.jpg, Size: (783, 575)\n",
      "File: image135170.jpg, Size: (783, 575)\n",
      "File: image135181.jpg, Size: (783, 575)\n"
     ]
    },
    {
     "name": "stderr",
     "output_type": "stream",
     "text": [
      "Checking images:  27%|█████████████████▌                                               | 39185/144888 [01:13<03:11, 551.19image/s]"
     ]
    },
    {
     "name": "stdout",
     "output_type": "stream",
     "text": [
      "File: image135203.jpg, Size: (783, 575)\n",
      "File: image135214.jpg, Size: (783, 575)\n",
      "File: image135237.jpg, Size: (783, 575)\n",
      "File: image135248.jpg, Size: (783, 575)\n",
      "File: image135259.jpg, Size: (783, 575)\n",
      "File: image135281.jpg, Size: (783, 575)\n",
      "File: image135292.jpg, Size: (783, 575)\n",
      "File: image135303.jpg, Size: (783, 575)\n"
     ]
    },
    {
     "name": "stderr",
     "output_type": "stream",
     "text": [
      "Checking images:  27%|█████████████████▋                                               | 39353/144888 [01:13<03:11, 551.38image/s]"
     ]
    },
    {
     "name": "stdout",
     "output_type": "stream",
     "text": [
      "File: image135325.jpg, Size: (783, 575)\n",
      "File: image135336.jpg, Size: (783, 575)\n",
      "File: image135337.jpg, Size: (783, 575)\n",
      "File: image135359.jpg, Size: (783, 575)\n",
      "File: image135370.jpg, Size: (783, 575)\n",
      "File: image135392.jpg, Size: (783, 575)\n",
      "File: image135403.jpg, Size: (783, 575)\n",
      "File: image135414.jpg, Size: (783, 575)\n",
      "File: image135425.jpg, Size: (783, 575)\n"
     ]
    },
    {
     "name": "stderr",
     "output_type": "stream",
     "text": [
      "Checking images:  27%|█████████████████▋                                               | 39465/144888 [01:13<03:10, 552.31image/s]"
     ]
    },
    {
     "name": "stdout",
     "output_type": "stream",
     "text": [
      "File: image135436.jpg, Size: (783, 575)\n",
      "File: image135448.jpg, Size: (783, 575)\n",
      "File: image135459.jpg, Size: (783, 575)\n",
      "File: image135470.jpg, Size: (783, 575)\n",
      "File: image135481.jpg, Size: (783, 575)\n",
      "File: image135503.jpg, Size: (783, 575)\n",
      "File: image135514.jpg, Size: (783, 575)\n",
      "File: image135525.jpg, Size: (783, 575)\n",
      "File: image135536.jpg, Size: (783, 575)\n"
     ]
    },
    {
     "name": "stderr",
     "output_type": "stream",
     "text": [
      "Checking images:  27%|█████████████████▊                                               | 39577/144888 [01:13<03:09, 555.28image/s]"
     ]
    },
    {
     "name": "stdout",
     "output_type": "stream",
     "text": [
      "File: image135547.jpg, Size: (783, 575)\n",
      "File: image135558.jpg, Size: (783, 575)\n",
      "File: image135559.jpg, Size: (783, 575)\n",
      "File: image135570.jpg, Size: (783, 575)\n",
      "File: image135581.jpg, Size: (783, 575)\n",
      "File: image135592.jpg, Size: (783, 575)\n",
      "File: image135603.jpg, Size: (783, 575)\n",
      "File: image135614.jpg, Size: (783, 575)\n",
      "File: image135636.jpg, Size: (783, 575)\n",
      "File: image135647.jpg, Size: (783, 575)\n"
     ]
    },
    {
     "name": "stderr",
     "output_type": "stream",
     "text": [
      "Checking images:  27%|█████████████████▊                                               | 39689/144888 [01:13<03:10, 552.13image/s]"
     ]
    },
    {
     "name": "stdout",
     "output_type": "stream",
     "text": [
      "File: image135658.jpg, Size: (783, 575)\n",
      "File: image135670.jpg, Size: (783, 575)\n",
      "File: image135681.jpg, Size: (783, 575)\n",
      "File: image135725.jpg, Size: (783, 575)\n",
      "File: image135736.jpg, Size: (783, 575)\n",
      "File: image135747.jpg, Size: (783, 575)\n"
     ]
    },
    {
     "name": "stderr",
     "output_type": "stream",
     "text": [
      "Checking images:  27%|█████████████████▊                                               | 39801/144888 [01:14<03:10, 551.55image/s]"
     ]
    },
    {
     "name": "stdout",
     "output_type": "stream",
     "text": [
      "File: image135758.jpg, Size: (783, 575)\n",
      "File: image135769.jpg, Size: (783, 575)\n",
      "File: image135780.jpg, Size: (783, 575)\n",
      "File: image135781.jpg, Size: (783, 575)\n",
      "File: image135792.jpg, Size: (783, 575)\n",
      "File: image135803.jpg, Size: (783, 575)\n",
      "File: image135814.jpg, Size: (783, 575)\n",
      "File: image135825.jpg, Size: (783, 575)\n",
      "File: image135836.jpg, Size: (783, 575)\n"
     ]
    },
    {
     "name": "stderr",
     "output_type": "stream",
     "text": [
      "Checking images:  28%|█████████████████▉                                               | 39969/144888 [01:14<03:09, 554.94image/s]"
     ]
    },
    {
     "name": "stdout",
     "output_type": "stream",
     "text": [
      "File: image135869.jpg, Size: (783, 575)\n",
      "File: image135880.jpg, Size: (783, 575)\n",
      "File: image135892.jpg, Size: (783, 575)\n",
      "File: image135903.jpg, Size: (783, 575)\n",
      "File: image135914.jpg, Size: (783, 575)\n",
      "File: image135925.jpg, Size: (783, 575)\n",
      "File: image135936.jpg, Size: (783, 575)\n",
      "File: image135947.jpg, Size: (783, 575)\n"
     ]
    },
    {
     "name": "stderr",
     "output_type": "stream",
     "text": [
      "Checking images:  28%|█████████████████▉                                               | 40081/144888 [01:14<03:08, 554.86image/s]"
     ]
    },
    {
     "name": "stdout",
     "output_type": "stream",
     "text": [
      "File: image135980.jpg, Size: (783, 575)\n",
      "File: image135991.jpg, Size: (783, 575)\n",
      "File: image136002.jpg, Size: (783, 575)\n",
      "File: image136003.jpg, Size: (783, 575)\n",
      "File: image136004.jpg, Size: (783, 575)\n",
      "File: image136015.jpg, Size: (783, 575)\n",
      "File: image136037.jpg, Size: (783, 575)\n",
      "File: image136048.jpg, Size: (783, 575)\n",
      "File: image136059.jpg, Size: (783, 575)\n",
      "File: image136070.jpg, Size: (783, 575)\n"
     ]
    },
    {
     "name": "stderr",
     "output_type": "stream",
     "text": [
      "Checking images:  28%|██████████████████                                               | 40193/144888 [01:14<03:09, 552.46image/s]"
     ]
    },
    {
     "name": "stdout",
     "output_type": "stream",
     "text": [
      "File: image136114.jpg, Size: (783, 575)\n",
      "File: image136126.jpg, Size: (783, 575)\n",
      "File: image136137.jpg, Size: (783, 575)\n",
      "File: image136159.jpg, Size: (783, 575)\n",
      "File: image136170.jpg, Size: (783, 575)\n",
      "File: image136181.jpg, Size: (783, 575)\n",
      "File: image136192.jpg, Size: (783, 575)\n",
      "File: image136203.jpg, Size: (783, 575)\n",
      "File: image136214.jpg, Size: (783, 575)\n"
     ]
    },
    {
     "name": "stderr",
     "output_type": "stream",
     "text": [
      "Checking images:  28%|██████████████████                                               | 40361/144888 [01:15<03:10, 549.72image/s]"
     ]
    },
    {
     "name": "stdout",
     "output_type": "stream",
     "text": [
      "File: image136225.jpg, Size: (783, 575)\n",
      "File: image136237.jpg, Size: (783, 575)\n",
      "File: image136248.jpg, Size: (783, 575)\n",
      "File: image136259.jpg, Size: (783, 575)\n",
      "File: image136270.jpg, Size: (783, 575)\n",
      "File: image136281.jpg, Size: (783, 575)\n",
      "File: image136292.jpg, Size: (783, 575)\n",
      "File: image136303.jpg, Size: (783, 575)\n"
     ]
    },
    {
     "name": "stderr",
     "output_type": "stream",
     "text": [
      "Checking images:  28%|██████████████████▏                                              | 40472/144888 [01:15<03:09, 549.77image/s]"
     ]
    },
    {
     "name": "stdout",
     "output_type": "stream",
     "text": [
      "File: image136325.jpg, Size: (783, 575)\n",
      "File: image136337.jpg, Size: (783, 575)\n",
      "File: image136348.jpg, Size: (783, 575)\n",
      "File: image136359.jpg, Size: (783, 575)\n",
      "File: image136370.jpg, Size: (783, 575)\n",
      "File: image136392.jpg, Size: (783, 575)\n",
      "File: image136403.jpg, Size: (783, 575)\n",
      "File: image136414.jpg, Size: (783, 575)\n"
     ]
    },
    {
     "name": "stderr",
     "output_type": "stream",
     "text": [
      "Checking images:  28%|██████████████████▏                                              | 40582/144888 [01:15<03:10, 548.52image/s]"
     ]
    },
    {
     "name": "stdout",
     "output_type": "stream",
     "text": [
      "File: image136425.jpg, Size: (783, 575)\n",
      "File: image136436.jpg, Size: (783, 575)\n",
      "File: image136447.jpg, Size: (783, 575)\n",
      "File: image136448.jpg, Size: (783, 575)\n",
      "File: image136459.jpg, Size: (783, 575)\n",
      "File: image136470.jpg, Size: (783, 575)\n",
      "File: image136481.jpg, Size: (783, 575)\n",
      "File: image136492.jpg, Size: (783, 575)\n",
      "File: image136514.jpg, Size: (783, 575)\n"
     ]
    },
    {
     "name": "stderr",
     "output_type": "stream",
     "text": [
      "Checking images:  28%|██████████████████▎                                              | 40696/144888 [01:15<03:07, 556.14image/s]"
     ]
    },
    {
     "name": "stdout",
     "output_type": "stream",
     "text": [
      "File: image136525.jpg, Size: (783, 575)\n",
      "File: image136536.jpg, Size: (783, 575)\n",
      "File: image136547.jpg, Size: (783, 575)\n",
      "File: image136558.jpg, Size: (783, 575)\n",
      "File: image136559.jpg, Size: (783, 575)\n",
      "File: image136570.jpg, Size: (783, 575)\n",
      "File: image136603.jpg, Size: (783, 575)\n"
     ]
    },
    {
     "name": "stderr",
     "output_type": "stream",
     "text": [
      "Checking images:  28%|██████████████████▎                                              | 40808/144888 [01:15<03:08, 552.65image/s]"
     ]
    },
    {
     "name": "stdout",
     "output_type": "stream",
     "text": [
      "File: image136625.jpg, Size: (783, 575)\n",
      "File: image136636.jpg, Size: (783, 575)\n",
      "File: image136658.jpg, Size: (783, 575)\n",
      "File: image136669.jpg, Size: (783, 575)\n",
      "File: image136670.jpg, Size: (783, 575)\n",
      "File: image136681.jpg, Size: (783, 575)\n",
      "File: image136692.jpg, Size: (783, 575)\n",
      "File: image13670.jpg, Size: (783, 575)\n",
      "File: image136714.jpg, Size: (783, 575)\n"
     ]
    },
    {
     "name": "stderr",
     "output_type": "stream",
     "text": [
      "Checking images:  28%|██████████████████▎                                              | 40920/144888 [01:16<03:09, 549.40image/s]"
     ]
    },
    {
     "name": "stdout",
     "output_type": "stream",
     "text": [
      "File: image136736.jpg, Size: (783, 575)\n",
      "File: image136747.jpg, Size: (783, 575)\n",
      "File: image136758.jpg, Size: (783, 575)\n",
      "File: image136769.jpg, Size: (783, 575)\n",
      "File: image136780.jpg, Size: (783, 575)\n",
      "File: image136781.jpg, Size: (783, 575)\n",
      "File: image136792.jpg, Size: (783, 575)\n",
      "File: image136803.jpg, Size: (783, 575)\n",
      "File: image136825.jpg, Size: (783, 575)\n"
     ]
    },
    {
     "name": "stderr",
     "output_type": "stream",
     "text": [
      "Checking images:  28%|██████████████████▍                                              | 41031/144888 [01:16<03:08, 551.37image/s]"
     ]
    },
    {
     "name": "stdout",
     "output_type": "stream",
     "text": [
      "File: image136836.jpg, Size: (783, 575)\n",
      "File: image136858.jpg, Size: (783, 575)\n",
      "File: image136880.jpg, Size: (783, 575)\n",
      "File: image136891.jpg, Size: (783, 575)\n",
      "File: image136892.jpg, Size: (783, 575)\n",
      "File: image136903.jpg, Size: (783, 575)\n",
      "File: image136914.jpg, Size: (783, 575)\n",
      "File: image136925.jpg, Size: (783, 575)\n"
     ]
    },
    {
     "name": "stderr",
     "output_type": "stream",
     "text": [
      "Checking images:  28%|██████████████████▍                                              | 41143/144888 [01:16<03:07, 553.00image/s]"
     ]
    },
    {
     "name": "stdout",
     "output_type": "stream",
     "text": [
      "File: image136936.jpg, Size: (783, 575)\n",
      "File: image136947.jpg, Size: (783, 575)\n",
      "File: image136958.jpg, Size: (783, 575)\n",
      "File: image136969.jpg, Size: (783, 575)\n",
      "File: image136980.jpg, Size: (783, 575)\n",
      "File: image136991.jpg, Size: (783, 575)\n",
      "File: image137002.jpg, Size: (783, 575)\n",
      "File: image137003.jpg, Size: (783, 575)\n",
      "File: image137025.jpg, Size: (783, 575)\n"
     ]
    },
    {
     "name": "stderr",
     "output_type": "stream",
     "text": [
      "Checking images:  28%|██████████████████▌                                              | 41256/144888 [01:16<03:06, 555.78image/s]"
     ]
    },
    {
     "name": "stdout",
     "output_type": "stream",
     "text": [
      "File: image137036.jpg, Size: (783, 575)\n",
      "File: image137047.jpg, Size: (783, 575)\n",
      "File: image137080.jpg, Size: (783, 575)\n",
      "File: image137091.jpg, Size: (783, 575)\n",
      "File: image137112.jpg, Size: (783, 575)\n",
      "File: image137113.jpg, Size: (783, 575)\n",
      "File: image137114.jpg, Size: (783, 575)\n",
      "File: image137125.jpg, Size: (783, 575)\n"
     ]
    },
    {
     "name": "stderr",
     "output_type": "stream",
     "text": [
      "Checking images:  29%|██████████████████▌                                              | 41368/144888 [01:17<03:07, 552.83image/s]"
     ]
    },
    {
     "name": "stdout",
     "output_type": "stream",
     "text": [
      "File: image137136.jpg, Size: (783, 575)\n",
      "File: image137147.jpg, Size: (783, 575)\n",
      "File: image137158.jpg, Size: (783, 575)\n",
      "File: image137169.jpg, Size: (783, 575)\n",
      "File: image137180.jpg, Size: (783, 575)\n",
      "File: image137191.jpg, Size: (783, 575)\n",
      "File: image137202.jpg, Size: (783, 575)\n",
      "File: image137213.jpg, Size: (783, 575)\n",
      "File: image137224.jpg, Size: (783, 575)\n",
      "File: image137225.jpg, Size: (783, 575)\n"
     ]
    },
    {
     "name": "stderr",
     "output_type": "stream",
     "text": [
      "Checking images:  29%|██████████████████▌                                              | 41480/144888 [01:17<03:07, 551.64image/s]"
     ]
    },
    {
     "name": "stdout",
     "output_type": "stream",
     "text": [
      "File: image137236.jpg, Size: (783, 575)\n",
      "File: image137258.jpg, Size: (783, 575)\n",
      "File: image137269.jpg, Size: (783, 575)\n",
      "File: image137280.jpg, Size: (783, 575)\n",
      "File: image137291.jpg, Size: (783, 575)\n",
      "File: image137302.jpg, Size: (783, 575)\n",
      "File: image137313.jpg, Size: (783, 575)\n",
      "File: image137324.jpg, Size: (783, 575)\n"
     ]
    },
    {
     "name": "stderr",
     "output_type": "stream",
     "text": [
      "Checking images:  29%|██████████████████▋                                              | 41591/144888 [01:17<03:09, 544.28image/s]"
     ]
    },
    {
     "name": "stdout",
     "output_type": "stream",
     "text": [
      "File: image137335.jpg, Size: (783, 575)\n",
      "File: image137358.jpg, Size: (783, 575)\n",
      "File: image137369.jpg, Size: (783, 575)\n",
      "File: image137380.jpg, Size: (783, 575)\n",
      "File: image137391.jpg, Size: (783, 575)\n",
      "File: image137402.jpg, Size: (783, 575)\n",
      "File: image137413.jpg, Size: (783, 575)\n",
      "File: image137424.jpg, Size: (783, 575)\n"
     ]
    },
    {
     "name": "stderr",
     "output_type": "stream",
     "text": [
      "Checking images:  29%|██████████████████▋                                              | 41700/144888 [01:17<03:13, 533.69image/s]"
     ]
    },
    {
     "name": "stdout",
     "output_type": "stream",
     "text": [
      "File: image137435.jpg, Size: (783, 575)\n",
      "File: image137446.jpg, Size: (783, 575)\n",
      "File: image137447.jpg, Size: (783, 575)\n",
      "File: image137458.jpg, Size: (783, 575)\n",
      "File: image137469.jpg, Size: (783, 575)\n",
      "File: image137480.jpg, Size: (783, 575)\n",
      "File: image137491.jpg, Size: (783, 575)\n",
      "File: image137502.jpg, Size: (783, 575)\n",
      "File: image137513.jpg, Size: (783, 575)\n",
      "File: image137524.jpg, Size: (783, 575)\n"
     ]
    },
    {
     "name": "stderr",
     "output_type": "stream",
     "text": [
      "Checking images:  29%|██████████████████▊                                              | 41813/144888 [01:17<03:07, 548.30image/s]"
     ]
    },
    {
     "name": "stdout",
     "output_type": "stream",
     "text": [
      "File: image137546.jpg, Size: (783, 575)\n",
      "File: image137557.jpg, Size: (783, 575)\n",
      "File: image137558.jpg, Size: (783, 575)\n",
      "File: image137580.jpg, Size: (783, 575)\n",
      "File: image137613.jpg, Size: (783, 575)\n",
      "File: image137646.jpg, Size: (783, 575)\n"
     ]
    },
    {
     "name": "stderr",
     "output_type": "stream",
     "text": [
      "Checking images:  29%|██████████████████▊                                              | 41923/144888 [01:18<03:16, 523.95image/s]"
     ]
    },
    {
     "name": "stdout",
     "output_type": "stream",
     "text": [
      "File: image137657.jpg, Size: (783, 575)\n",
      "File: image137669.jpg, Size: (783, 575)\n",
      "File: image137680.jpg, Size: (783, 575)\n",
      "File: image137691.jpg, Size: (783, 575)\n",
      "File: image137724.jpg, Size: (783, 575)\n",
      "File: image137735.jpg, Size: (783, 575)\n"
     ]
    },
    {
     "name": "stderr",
     "output_type": "stream",
     "text": [
      "Checking images:  29%|██████████████████▊                                              | 42029/144888 [01:18<03:18, 518.06image/s]"
     ]
    },
    {
     "name": "stdout",
     "output_type": "stream",
     "text": [
      "File: image137757.jpg, Size: (783, 575)\n",
      "File: image137779.jpg, Size: (783, 575)\n",
      "File: image13781.jpg, Size: (783, 575)\n",
      "File: image137813.jpg, Size: (783, 575)\n",
      "File: image137846.jpg, Size: (783, 575)\n",
      "File: image137857.jpg, Size: (783, 575)\n"
     ]
    },
    {
     "name": "stderr",
     "output_type": "stream",
     "text": [
      "Checking images:  29%|██████████████████▉                                              | 42194/144888 [01:18<03:11, 535.94image/s]"
     ]
    },
    {
     "name": "stdout",
     "output_type": "stream",
     "text": [
      "File: image137868.jpg, Size: (783, 575)\n",
      "File: image137879.jpg, Size: (783, 575)\n",
      "File: image137890.jpg, Size: (783, 575)\n",
      "File: image137891.jpg, Size: (783, 575)\n",
      "File: image137902.jpg, Size: (783, 575)\n",
      "File: image137913.jpg, Size: (783, 575)\n",
      "File: image137924.jpg, Size: (783, 575)\n",
      "File: image137935.jpg, Size: (783, 575)\n",
      "File: image137946.jpg, Size: (783, 575)\n",
      "File: image137957.jpg, Size: (783, 575)\n",
      "File: image137968.jpg, Size: (783, 575)\n"
     ]
    },
    {
     "name": "stderr",
     "output_type": "stream",
     "text": [
      "Checking images:  29%|██████████████████▉                                              | 42304/144888 [01:18<03:09, 540.58image/s]"
     ]
    },
    {
     "name": "stdout",
     "output_type": "stream",
     "text": [
      "File: image137990.jpg, Size: (783, 575)\n",
      "File: image138001.jpg, Size: (783, 575)\n",
      "File: image138002.jpg, Size: (783, 575)\n",
      "File: image138024.jpg, Size: (783, 575)\n",
      "File: image138046.jpg, Size: (783, 575)\n",
      "File: image138079.jpg, Size: (783, 575)\n"
     ]
    },
    {
     "name": "stderr",
     "output_type": "stream",
     "text": [
      "Checking images:  29%|███████████████████                                              | 42414/144888 [01:18<03:08, 542.83image/s]"
     ]
    },
    {
     "name": "stdout",
     "output_type": "stream",
     "text": [
      "File: image138090.jpg, Size: (783, 575)\n",
      "File: image138101.jpg, Size: (783, 575)\n",
      "File: image138112.jpg, Size: (783, 575)\n",
      "File: image138113.jpg, Size: (783, 575)\n",
      "File: image138124.jpg, Size: (783, 575)\n",
      "File: image138135.jpg, Size: (783, 575)\n",
      "File: image138146.jpg, Size: (783, 575)\n",
      "File: image138168.jpg, Size: (783, 575)\n",
      "File: image138179.jpg, Size: (783, 575)\n"
     ]
    },
    {
     "name": "stderr",
     "output_type": "stream",
     "text": [
      "Checking images:  29%|███████████████████                                              | 42524/144888 [01:19<03:12, 532.11image/s]"
     ]
    },
    {
     "name": "stdout",
     "output_type": "stream",
     "text": [
      "File: image138190.jpg, Size: (783, 575)\n",
      "File: image138201.jpg, Size: (783, 575)\n",
      "File: image138212.jpg, Size: (783, 575)\n",
      "File: image138224.jpg, Size: (783, 575)\n",
      "File: image138225.jpg, Size: (783, 575)\n",
      "File: image138236.jpg, Size: (783, 575)\n",
      "File: image138247.jpg, Size: (783, 575)\n",
      "File: image138269.jpg, Size: (783, 575)\n",
      "File: image138280.jpg, Size: (783, 575)\n"
     ]
    },
    {
     "name": "stderr",
     "output_type": "stream",
     "text": [
      "Checking images:  29%|███████████████████▏                                             | 42635/144888 [01:19<03:09, 540.50image/s]"
     ]
    },
    {
     "name": "stdout",
     "output_type": "stream",
     "text": [
      "File: image138291.jpg, Size: (783, 575)\n",
      "File: image138302.jpg, Size: (783, 575)\n",
      "File: image138313.jpg, Size: (783, 575)\n",
      "File: image138324.jpg, Size: (783, 575)\n",
      "File: image138336.jpg, Size: (783, 575)\n",
      "File: image138347.jpg, Size: (783, 575)\n",
      "File: image138358.jpg, Size: (783, 575)\n",
      "File: image138369.jpg, Size: (783, 575)\n",
      "File: image138380.jpg, Size: (783, 575)\n"
     ]
    },
    {
     "name": "stderr",
     "output_type": "stream",
     "text": [
      "Checking images:  30%|███████████████████▏                                             | 42802/144888 [01:19<03:05, 549.21image/s]"
     ]
    },
    {
     "name": "stdout",
     "output_type": "stream",
     "text": [
      "File: image138413.jpg, Size: (783, 575)\n",
      "File: image138446.jpg, Size: (783, 575)\n",
      "File: image138447.jpg, Size: (783, 575)\n",
      "File: image138458.jpg, Size: (783, 575)\n",
      "File: image138469.jpg, Size: (783, 575)\n",
      "File: image138480.jpg, Size: (783, 575)\n",
      "File: image138502.jpg, Size: (783, 575)\n",
      "File: image138513.jpg, Size: (783, 575)\n"
     ]
    },
    {
     "name": "stderr",
     "output_type": "stream",
     "text": [
      "Checking images:  30%|███████████████████▎                                             | 42914/144888 [01:19<03:04, 553.69image/s]"
     ]
    },
    {
     "name": "stdout",
     "output_type": "stream",
     "text": [
      "File: image138535.jpg, Size: (783, 575)\n",
      "File: image138546.jpg, Size: (783, 575)\n",
      "File: image138557.jpg, Size: (783, 575)\n",
      "File: image138569.jpg, Size: (783, 575)\n",
      "File: image138580.jpg, Size: (783, 575)\n",
      "File: image138591.jpg, Size: (783, 575)\n",
      "File: image138602.jpg, Size: (783, 575)\n",
      "File: image138613.jpg, Size: (783, 575)\n",
      "File: image138635.jpg, Size: (783, 575)\n"
     ]
    },
    {
     "name": "stderr",
     "output_type": "stream",
     "text": [
      "Checking images:  30%|███████████████████▎                                             | 43026/144888 [01:20<03:05, 550.49image/s]"
     ]
    },
    {
     "name": "stdout",
     "output_type": "stream",
     "text": [
      "File: image138646.jpg, Size: (783, 575)\n",
      "File: image138669.jpg, Size: (783, 575)\n",
      "File: image138680.jpg, Size: (783, 575)\n",
      "File: image138691.jpg, Size: (783, 575)\n",
      "File: image138702.jpg, Size: (783, 575)\n",
      "File: image138713.jpg, Size: (783, 575)\n",
      "File: image138724.jpg, Size: (783, 575)\n",
      "File: image138735.jpg, Size: (783, 575)\n",
      "File: image138746.jpg, Size: (783, 575)\n"
     ]
    },
    {
     "name": "stderr",
     "output_type": "stream",
     "text": [
      "Checking images:  30%|███████████████████▎                                             | 43137/144888 [01:20<03:05, 547.66image/s]"
     ]
    },
    {
     "name": "stdout",
     "output_type": "stream",
     "text": [
      "File: image138757.jpg, Size: (783, 575)\n",
      "File: image138768.jpg, Size: (783, 575)\n",
      "File: image138791.jpg, Size: (783, 575)\n",
      "File: image138813.jpg, Size: (783, 575)\n",
      "File: image138824.jpg, Size: (783, 575)\n",
      "File: image138835.jpg, Size: (783, 575)\n",
      "File: image138857.jpg, Size: (783, 575)\n"
     ]
    },
    {
     "name": "stderr",
     "output_type": "stream",
     "text": [
      "Checking images:  30%|███████████████████▍                                             | 43303/144888 [01:20<03:04, 549.55image/s]"
     ]
    },
    {
     "name": "stdout",
     "output_type": "stream",
     "text": [
      "File: image138879.jpg, Size: (783, 575)\n",
      "File: image138890.jpg, Size: (783, 575)\n",
      "File: image138891.jpg, Size: (783, 575)\n",
      "File: image138902.jpg, Size: (783, 575)\n",
      "File: image138913.jpg, Size: (783, 575)\n",
      "File: image13892.jpg, Size: (783, 575)\n",
      "File: image138935.jpg, Size: (783, 575)\n",
      "File: image138946.jpg, Size: (783, 575)\n",
      "File: image138968.jpg, Size: (783, 575)\n"
     ]
    },
    {
     "name": "stderr",
     "output_type": "stream",
     "text": [
      "Checking images:  30%|███████████████████▍                                             | 43416/144888 [01:20<03:02, 555.48image/s]"
     ]
    },
    {
     "name": "stdout",
     "output_type": "stream",
     "text": [
      "File: image138979.jpg, Size: (783, 575)\n",
      "File: image139002.jpg, Size: (783, 575)\n",
      "File: image139013.jpg, Size: (783, 575)\n",
      "File: image139024.jpg, Size: (783, 575)\n",
      "File: image139035.jpg, Size: (783, 575)\n",
      "File: image139046.jpg, Size: (783, 575)\n",
      "File: image139057.jpg, Size: (783, 575)\n"
     ]
    },
    {
     "name": "stderr",
     "output_type": "stream",
     "text": [
      "Checking images:  30%|███████████████████▌                                             | 43528/144888 [01:20<03:03, 551.66image/s]"
     ]
    },
    {
     "name": "stdout",
     "output_type": "stream",
     "text": [
      "File: image139079.jpg, Size: (783, 575)\n",
      "File: image139090.jpg, Size: (783, 575)\n",
      "File: image139101.jpg, Size: (783, 575)\n",
      "File: image139112.jpg, Size: (783, 575)\n",
      "File: image139124.jpg, Size: (783, 575)\n",
      "File: image139135.jpg, Size: (783, 575)\n",
      "File: image139146.jpg, Size: (783, 575)\n",
      "File: image139157.jpg, Size: (783, 575)\n"
     ]
    },
    {
     "name": "stderr",
     "output_type": "stream",
     "text": [
      "Checking images:  30%|███████████████████▌                                             | 43640/144888 [01:21<03:03, 552.52image/s]"
     ]
    },
    {
     "name": "stdout",
     "output_type": "stream",
     "text": [
      "File: image139179.jpg, Size: (783, 575)\n",
      "File: image139190.jpg, Size: (783, 575)\n",
      "File: image139201.jpg, Size: (783, 575)\n",
      "File: image139212.jpg, Size: (783, 575)\n",
      "File: image139246.jpg, Size: (783, 575)\n",
      "File: image139257.jpg, Size: (783, 575)\n",
      "File: image139268.jpg, Size: (783, 575)\n"
     ]
    },
    {
     "name": "stderr",
     "output_type": "stream",
     "text": [
      "Checking images:  30%|███████████████████▋                                             | 43752/144888 [01:21<03:03, 551.67image/s]"
     ]
    },
    {
     "name": "stdout",
     "output_type": "stream",
     "text": [
      "File: image139290.jpg, Size: (783, 575)\n",
      "File: image139301.jpg, Size: (783, 575)\n",
      "File: image139312.jpg, Size: (783, 575)\n",
      "File: image139334.jpg, Size: (783, 575)\n",
      "File: image139335.jpg, Size: (783, 575)\n",
      "File: image139336.jpg, Size: (783, 575)\n",
      "File: image139347.jpg, Size: (783, 575)\n",
      "File: image139358.jpg, Size: (783, 575)\n",
      "File: image139369.jpg, Size: (783, 575)\n",
      "File: image139380.jpg, Size: (783, 575)\n"
     ]
    },
    {
     "name": "stderr",
     "output_type": "stream",
     "text": [
      "Checking images:  30%|███████████████████▋                                             | 43863/144888 [01:21<03:04, 548.62image/s]"
     ]
    },
    {
     "name": "stdout",
     "output_type": "stream",
     "text": [
      "File: image139402.jpg, Size: (783, 575)\n",
      "File: image139413.jpg, Size: (783, 575)\n",
      "File: image139435.jpg, Size: (783, 575)\n",
      "File: image139446.jpg, Size: (783, 575)\n",
      "File: image139447.jpg, Size: (783, 575)\n",
      "File: image139458.jpg, Size: (783, 575)\n",
      "File: image139469.jpg, Size: (783, 575)\n",
      "File: image139480.jpg, Size: (783, 575)\n",
      "File: image139491.jpg, Size: (783, 575)\n"
     ]
    },
    {
     "name": "stderr",
     "output_type": "stream",
     "text": [
      "Checking images:  30%|███████████████████▋                                             | 43976/144888 [01:21<03:01, 555.87image/s]"
     ]
    },
    {
     "name": "stdout",
     "output_type": "stream",
     "text": [
      "File: image139502.jpg, Size: (783, 575)\n",
      "File: image139513.jpg, Size: (783, 575)\n",
      "File: image139524.jpg, Size: (783, 575)\n",
      "File: image139535.jpg, Size: (783, 575)\n",
      "File: image139557.jpg, Size: (783, 575)\n",
      "File: image139558.jpg, Size: (783, 575)\n",
      "File: image139569.jpg, Size: (783, 575)\n"
     ]
    },
    {
     "name": "stderr",
     "output_type": "stream",
     "text": [
      "Checking images:  30%|███████████████████▊                                             | 44088/144888 [01:22<03:03, 550.54image/s]"
     ]
    },
    {
     "name": "stdout",
     "output_type": "stream",
     "text": [
      "File: image139624.jpg, Size: (783, 575)\n",
      "File: image139657.jpg, Size: (783, 575)\n",
      "File: image139668.jpg, Size: (783, 575)\n",
      "File: image139669.jpg, Size: (783, 575)\n",
      "File: image139680.jpg, Size: (783, 575)\n",
      "File: image139713.jpg, Size: (783, 575)\n"
     ]
    },
    {
     "name": "stderr",
     "output_type": "stream",
     "text": [
      "Checking images:  31%|███████████████████▊                                             | 44197/144888 [01:22<03:15, 514.75image/s]"
     ]
    },
    {
     "name": "stdout",
     "output_type": "stream",
     "text": [
      "File: image139724.jpg, Size: (783, 575)\n",
      "File: image139746.jpg, Size: (783, 575)\n",
      "File: image139768.jpg, Size: (783, 575)\n",
      "File: image139779.jpg, Size: (783, 575)\n",
      "File: image139780.jpg, Size: (783, 575)\n",
      "File: image139791.jpg, Size: (783, 575)\n",
      "File: image139813.jpg, Size: (783, 575)\n"
     ]
    },
    {
     "name": "stderr",
     "output_type": "stream",
     "text": [
      "Checking images:  31%|███████████████████▉                                             | 44356/144888 [01:22<03:17, 508.74image/s]"
     ]
    },
    {
     "name": "stdout",
     "output_type": "stream",
     "text": [
      "File: image139846.jpg, Size: (783, 575)\n",
      "File: image139857.jpg, Size: (783, 575)\n",
      "File: image139868.jpg, Size: (783, 575)\n",
      "File: image139879.jpg, Size: (783, 575)\n",
      "File: image139890.jpg, Size: (783, 575)\n",
      "File: image139891.jpg, Size: (783, 575)\n",
      "File: image139902.jpg, Size: (783, 575)\n",
      "File: image139913.jpg, Size: (783, 575)\n",
      "File: image139935.jpg, Size: (783, 575)\n"
     ]
    },
    {
     "name": "stderr",
     "output_type": "stream",
     "text": [
      "Checking images:  31%|███████████████████▉                                             | 44459/144888 [01:22<03:18, 506.07image/s]"
     ]
    },
    {
     "name": "stdout",
     "output_type": "stream",
     "text": [
      "File: image139946.jpg, Size: (783, 575)\n",
      "File: image139957.jpg, Size: (783, 575)\n",
      "File: image139968.jpg, Size: (783, 575)\n",
      "File: image139990.jpg, Size: (783, 575)\n",
      "File: image140001.jpg, Size: (783, 575)\n",
      "File: image140002.jpg, Size: (783, 575)\n",
      "File: image140013.jpg, Size: (783, 575)\n",
      "File: image140024.jpg, Size: (783, 575)\n",
      "File: image14003.jpg, Size: (783, 575)\n",
      "File: image140035.jpg, Size: (783, 575)\n"
     ]
    },
    {
     "name": "stderr",
     "output_type": "stream",
     "text": [
      "Checking images:  31%|███████████████████▉                                             | 44569/144888 [01:22<03:11, 525.09image/s]"
     ]
    },
    {
     "name": "stdout",
     "output_type": "stream",
     "text": [
      "File: image140057.jpg, Size: (783, 575)\n",
      "File: image140068.jpg, Size: (783, 575)\n",
      "File: image140090.jpg, Size: (783, 575)\n",
      "File: image140112.jpg, Size: (783, 575)\n",
      "File: image140113.jpg, Size: (783, 575)\n",
      "File: image140124.jpg, Size: (783, 575)\n",
      "File: image140135.jpg, Size: (783, 575)\n",
      "File: image140146.jpg, Size: (783, 575)\n"
     ]
    },
    {
     "name": "stderr",
     "output_type": "stream",
     "text": [
      "Checking images:  31%|████████████████████                                             | 44726/144888 [01:23<03:17, 507.76image/s]"
     ]
    },
    {
     "name": "stdout",
     "output_type": "stream",
     "text": [
      "File: image140157.jpg, Size: (783, 575)\n",
      "File: image140168.jpg, Size: (783, 575)\n",
      "File: image140179.jpg, Size: (783, 575)\n",
      "File: image140190.jpg, Size: (783, 575)\n",
      "File: image140201.jpg, Size: (783, 575)\n",
      "File: image140224.jpg, Size: (783, 575)\n",
      "File: image140235.jpg, Size: (783, 575)\n",
      "File: image140246.jpg, Size: (783, 575)\n"
     ]
    },
    {
     "name": "stderr",
     "output_type": "stream",
     "text": [
      "\r",
      "Checking images:  31%|████████████████████                                             | 44777/144888 [01:23<03:36, 462.72image/s]"
     ]
    },
    {
     "name": "stdout",
     "output_type": "stream",
     "text": [
      "File: image140257.jpg, Size: (783, 575)\n",
      "File: image140268.jpg, Size: (783, 575)\n",
      "File: image140279.jpg, Size: (783, 575)\n",
      "File: image140301.jpg, Size: (783, 575)\n",
      "File: image140312.jpg, Size: (783, 575)\n",
      "File: image140323.jpg, Size: (783, 575)\n"
     ]
    },
    {
     "name": "stderr",
     "output_type": "stream",
     "text": [
      "Checking images:  31%|████████████████████▏                                            | 44884/144888 [01:23<03:21, 497.51image/s]"
     ]
    },
    {
     "name": "stdout",
     "output_type": "stream",
     "text": [
      "File: image140334.jpg, Size: (783, 575)\n",
      "File: image140335.jpg, Size: (783, 575)\n",
      "File: image140346.jpg, Size: (783, 575)\n",
      "File: image140357.jpg, Size: (783, 575)\n",
      "File: image140368.jpg, Size: (783, 575)\n",
      "File: image140379.jpg, Size: (783, 575)\n",
      "File: image140390.jpg, Size: (783, 575)\n",
      "File: image140401.jpg, Size: (783, 575)\n",
      "File: image140423.jpg, Size: (783, 575)\n"
     ]
    },
    {
     "name": "stderr",
     "output_type": "stream",
     "text": [
      "Checking images:  31%|████████████████████▏                                            | 44995/144888 [01:23<03:11, 522.97image/s]"
     ]
    },
    {
     "name": "stdout",
     "output_type": "stream",
     "text": [
      "File: image140434.jpg, Size: (783, 575)\n",
      "File: image140445.jpg, Size: (783, 575)\n",
      "File: image140446.jpg, Size: (783, 575)\n",
      "File: image140447.jpg, Size: (783, 575)\n",
      "File: image140458.jpg, Size: (783, 575)\n",
      "File: image140469.jpg, Size: (783, 575)\n",
      "File: image140480.jpg, Size: (783, 575)\n",
      "File: image140491.jpg, Size: (783, 575)\n",
      "File: image140502.jpg, Size: (783, 575)\n",
      "File: image140513.jpg, Size: (783, 575)\n",
      "File: image140524.jpg, Size: (783, 575)\n"
     ]
    },
    {
     "name": "stderr",
     "output_type": "stream",
     "text": [
      "Checking images:  31%|████████████████████▏                                            | 45105/144888 [01:24<03:06, 534.43image/s]"
     ]
    },
    {
     "name": "stdout",
     "output_type": "stream",
     "text": [
      "File: image140535.jpg, Size: (783, 575)\n",
      "File: image140557.jpg, Size: (783, 575)\n"
     ]
    },
    {
     "name": "stderr",
     "output_type": "stream",
     "text": [
      "Checking images:  31%|████████████████████▍                                            | 45493/144888 [01:24<03:01, 547.61image/s]"
     ]
    },
    {
     "name": "stdout",
     "output_type": "stream",
     "text": [
      "File: image140890.jpg, Size: (783, 575)\n"
     ]
    },
    {
     "name": "stderr",
     "output_type": "stream",
     "text": [
      "Checking images:  32%|████████████████████▍                                            | 45660/144888 [01:25<03:02, 544.70image/s]"
     ]
    },
    {
     "name": "stdout",
     "output_type": "stream",
     "text": [
      "File: image141001.jpg, Size: (783, 575)\n"
     ]
    },
    {
     "name": "stderr",
     "output_type": "stream",
     "text": [
      "Checking images:  32%|████████████████████▌                                            | 45826/144888 [01:25<03:01, 546.32image/s]"
     ]
    },
    {
     "name": "stdout",
     "output_type": "stream",
     "text": [
      "File: image14114.jpg, Size: (783, 575)\n",
      "File: image141223.jpg, Size: (783, 575)\n"
     ]
    },
    {
     "name": "stderr",
     "output_type": "stream",
     "text": [
      "Checking images:  32%|████████████████████▋                                            | 46105/144888 [01:25<02:59, 551.43image/s]"
     ]
    },
    {
     "name": "stdout",
     "output_type": "stream",
     "text": [
      "File: image141445.jpg, Size: (783, 575)\n"
     ]
    },
    {
     "name": "stderr",
     "output_type": "stream",
     "text": [
      "Checking images:  32%|████████████████████▊                                            | 46272/144888 [01:26<02:59, 549.57image/s]"
     ]
    },
    {
     "name": "stdout",
     "output_type": "stream",
     "text": [
      "File: image141556.jpg, Size: (783, 575)\n",
      "File: image141557.jpg, Size: (783, 575)\n"
     ]
    },
    {
     "name": "stderr",
     "output_type": "stream",
     "text": [
      "Checking images:  32%|████████████████████▊                                            | 46382/144888 [01:26<03:00, 547.09image/s]"
     ]
    },
    {
     "name": "stdout",
     "output_type": "stream",
     "text": [
      "File: image141668.jpg, Size: (783, 575)\n"
     ]
    },
    {
     "name": "stderr",
     "output_type": "stream",
     "text": [
      "Checking images:  32%|████████████████████▊                                            | 46490/144888 [01:26<03:09, 518.37image/s]"
     ]
    },
    {
     "name": "stdout",
     "output_type": "stream",
     "text": [
      "File: image141779.jpg, Size: (783, 575)\n"
     ]
    },
    {
     "name": "stderr",
     "output_type": "stream",
     "text": [
      "Checking images:  32%|█████████████████████                                            | 46860/144888 [01:27<03:11, 511.03image/s]"
     ]
    },
    {
     "name": "stdout",
     "output_type": "stream",
     "text": [
      "File: image142112.jpg, Size: (783, 575)\n"
     ]
    },
    {
     "name": "stderr",
     "output_type": "stream",
     "text": [
      "Checking images:  32%|█████████████████████                                            | 47022/144888 [01:27<03:05, 528.14image/s]"
     ]
    },
    {
     "name": "stdout",
     "output_type": "stream",
     "text": [
      "File: image14225.jpg, Size: (783, 575)\n",
      "File: image142334.jpg, Size: (783, 575)\n"
     ]
    },
    {
     "name": "stderr",
     "output_type": "stream",
     "text": [
      "Checking images:  33%|█████████████████████▏                                           | 47239/144888 [01:27<03:03, 531.28image/s]"
     ]
    },
    {
     "name": "stdout",
     "output_type": "stream",
     "text": [
      "File: image142445.jpg, Size: (783, 575)\n"
     ]
    },
    {
     "name": "stderr",
     "output_type": "stream",
     "text": [
      "Checking images:  33%|█████████████████████▏                                           | 47347/144888 [01:28<03:03, 532.78image/s]"
     ]
    },
    {
     "name": "stdout",
     "output_type": "stream",
     "text": [
      "File: image142556.jpg, Size: (783, 575)\n"
     ]
    },
    {
     "name": "stderr",
     "output_type": "stream",
     "text": [
      "Checking images:  33%|█████████████████████▎                                           | 47455/144888 [01:28<03:02, 532.48image/s]"
     ]
    },
    {
     "name": "stdout",
     "output_type": "stream",
     "text": [
      "File: image142667.jpg, Size: (783, 575)\n"
     ]
    },
    {
     "name": "stderr",
     "output_type": "stream",
     "text": [
      "Checking images:  33%|█████████████████████▎                                           | 47620/144888 [01:28<03:00, 537.57image/s]"
     ]
    },
    {
     "name": "stdout",
     "output_type": "stream",
     "text": [
      "File: image142779.jpg, Size: (783, 575)\n"
     ]
    },
    {
     "name": "stderr",
     "output_type": "stream",
     "text": [
      "Checking images:  33%|█████████████████████▍                                           | 47891/144888 [01:29<03:00, 536.50image/s]"
     ]
    },
    {
     "name": "stdout",
     "output_type": "stream",
     "text": [
      "File: image143001.jpg, Size: (783, 575)\n"
     ]
    },
    {
     "name": "stderr",
     "output_type": "stream",
     "text": [
      "Checking images:  33%|█████████████████████▌                                           | 48000/144888 [01:29<02:59, 539.05image/s]"
     ]
    },
    {
     "name": "stdout",
     "output_type": "stream",
     "text": [
      "File: image143112.jpg, Size: (783, 575)\n",
      "File: image143223.jpg, Size: (783, 575)\n"
     ]
    },
    {
     "name": "stderr",
     "output_type": "stream",
     "text": [
      "Checking images:  33%|█████████████████████▋                                           | 48384/144888 [01:30<02:58, 541.01image/s]"
     ]
    },
    {
     "name": "stdout",
     "output_type": "stream",
     "text": [
      "File: image143445.jpg, Size: (783, 575)\n"
     ]
    },
    {
     "name": "stderr",
     "output_type": "stream",
     "text": [
      "Checking images:  33%|█████████████████████▊                                           | 48494/144888 [01:30<02:58, 541.15image/s]"
     ]
    },
    {
     "name": "stdout",
     "output_type": "stream",
     "text": [
      "File: image143556.jpg, Size: (783, 575)\n"
     ]
    },
    {
     "name": "stderr",
     "output_type": "stream",
     "text": [
      "Checking images:  34%|█████████████████████▊                                           | 48606/144888 [01:30<02:55, 548.23image/s]"
     ]
    },
    {
     "name": "stdout",
     "output_type": "stream",
     "text": [
      "File: image143667.jpg, Size: (783, 575)\n"
     ]
    },
    {
     "name": "stderr",
     "output_type": "stream",
     "text": [
      "Checking images:  34%|█████████████████████▊                                           | 48716/144888 [01:30<02:55, 546.89image/s]"
     ]
    },
    {
     "name": "stdout",
     "output_type": "stream",
     "text": [
      "File: image143778.jpg, Size: (783, 575)\n",
      "File: image143779.jpg, Size: (783, 575)\n"
     ]
    },
    {
     "name": "stderr",
     "output_type": "stream",
     "text": [
      "Checking images:  34%|█████████████████████▉                                           | 48881/144888 [01:31<03:01, 528.98image/s]"
     ]
    },
    {
     "name": "stdout",
     "output_type": "stream",
     "text": [
      "File: image143890.jpg, Size: (783, 575)\n"
     ]
    },
    {
     "name": "stderr",
     "output_type": "stream",
     "text": [
      "Checking images:  34%|█████████████████████▉                                           | 48991/144888 [01:31<02:58, 535.81image/s]"
     ]
    },
    {
     "name": "stdout",
     "output_type": "stream",
     "text": [
      "File: image144001.jpg, Size: (783, 575)\n"
     ]
    },
    {
     "name": "stderr",
     "output_type": "stream",
     "text": [
      "Checking images:  34%|██████████████████████                                           | 49101/144888 [01:31<02:57, 540.14image/s]"
     ]
    },
    {
     "name": "stdout",
     "output_type": "stream",
     "text": [
      "File: image144112.jpg, Size: (783, 575)\n"
     ]
    },
    {
     "name": "stderr",
     "output_type": "stream",
     "text": [
      "Checking images:  34%|██████████████████████▏                                          | 49376/144888 [01:31<02:55, 544.75image/s]"
     ]
    },
    {
     "name": "stdout",
     "output_type": "stream",
     "text": [
      "File: image144334.jpg, Size: (783, 575)\n"
     ]
    },
    {
     "name": "stderr",
     "output_type": "stream",
     "text": [
      "Checking images:  34%|██████████████████████▏                                          | 49486/144888 [01:32<02:55, 542.94image/s]"
     ]
    },
    {
     "name": "stdout",
     "output_type": "stream",
     "text": [
      "File: image144445.jpg, Size: (783, 575)\n",
      "File: image14447.jpg, Size: (783, 575)\n",
      "File: image14448.jpg, Size: (783, 575)\n"
     ]
    },
    {
     "name": "stderr",
     "output_type": "stream",
     "text": [
      "Checking images:  34%|██████████████████████▏                                          | 49596/144888 [01:32<02:55, 543.10image/s]"
     ]
    },
    {
     "name": "stdout",
     "output_type": "stream",
     "text": [
      "File: image144556.jpg, Size: (783, 575)\n"
     ]
    },
    {
     "name": "stderr",
     "output_type": "stream",
     "text": [
      "Checking images:  34%|██████████████████████▎                                          | 49816/144888 [01:32<02:55, 543.02image/s]"
     ]
    },
    {
     "name": "stdout",
     "output_type": "stream",
     "text": [
      "File: image144778.jpg, Size: (783, 575)\n",
      "File: image1448.jpg, Size: (783, 575)\n"
     ]
    },
    {
     "name": "stderr",
     "output_type": "stream",
     "text": [
      "Checking images:  35%|██████████████████████▍                                          | 50034/144888 [01:33<03:00, 524.56image/s]"
     ]
    },
    {
     "name": "stdout",
     "output_type": "stream",
     "text": [
      "File: image14559.jpg, Size: (783, 575)\n"
     ]
    },
    {
     "name": "stderr",
     "output_type": "stream",
     "text": [
      "Checking images:  35%|██████████████████████▍                                          | 50144/144888 [01:33<02:57, 535.07image/s]"
     ]
    },
    {
     "name": "stdout",
     "output_type": "stream",
     "text": [
      "File: image14670.jpg, Size: (783, 575)\n"
     ]
    },
    {
     "name": "stderr",
     "output_type": "stream",
     "text": [
      "Checking images:  35%|██████████████████████▌                                          | 50310/144888 [01:33<02:55, 538.13image/s]"
     ]
    },
    {
     "name": "stdout",
     "output_type": "stream",
     "text": [
      "File: image14781.jpg, Size: (783, 575)\n"
     ]
    },
    {
     "name": "stderr",
     "output_type": "stream",
     "text": [
      "Checking images:  35%|██████████████████████▌                                          | 50419/144888 [01:33<02:55, 537.74image/s]"
     ]
    },
    {
     "name": "stdout",
     "output_type": "stream",
     "text": [
      "File: image14892.jpg, Size: (783, 575)\n"
     ]
    },
    {
     "name": "stderr",
     "output_type": "stream",
     "text": [
      "\r",
      "Checking images:  35%|██████████████████████▋                                          | 50473/144888 [01:33<02:55, 536.70image/s]"
     ]
    }
   ],
   "source": [
    "import os\n",
    "from PIL import Image\n",
    "from tqdm import tqdm\n",
    "\n",
    "def check_resolution(image_dir, chosen_resolution):\n",
    "    # Get a list of all image file paths\n",
    "    image_files = [os.path.join(image_dir, file) for file in os.listdir(image_dir) if file.endswith(('.png', '.jpg', '.jpeg'))]\n",
    "\n",
    "    # Go through all image files\n",
    "    for image_file in tqdm(image_files, desc=\"Checking images\", unit=\"image\"):\n",
    "        # Open the image file\n",
    "        with Image.open(image_file) as img:\n",
    "            # Check if the image's resolution matches the chosen resolution\n",
    "            if img.size == chosen_resolution:\n",
    "                print(f\"File: {os.path.basename(image_file)}, Size: {img.size}\")\n",
    "\n",
    "if __name__ == \"__main__\":\n",
    "    image_dir = input(\"Please enter the directory containing the images: \")\n",
    "    resolution_input = input(\"Please enter the desired resolution in format 'width,height': \")\n",
    "    chosen_resolution = tuple(map(int, resolution_input.split(',')))\n",
    "    check_resolution(image_dir, chosen_resolution)"
   ]
  }
 ],
 "metadata": {
  "kernelspec": {
   "display_name": "Python 3 (ipykernel)",
   "language": "python",
   "name": "python3"
  },
  "language_info": {
   "codemirror_mode": {
    "name": "ipython",
    "version": 3
   },
   "file_extension": ".py",
   "mimetype": "text/x-python",
   "name": "python",
   "nbconvert_exporter": "python",
   "pygments_lexer": "ipython3",
   "version": "3.10.9"
  }
 },
 "nbformat": 4,
 "nbformat_minor": 5
}
