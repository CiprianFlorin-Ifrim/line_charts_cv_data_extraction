{
 "cells": [
  {
   "cell_type": "code",
   "execution_count": 2,
   "id": "b25a02a6",
   "metadata": {},
   "outputs": [
    {
     "name": "stderr",
     "output_type": "stream",
     "text": [
      "C:\\Users\\Ciprian-Florin Ifrim\\AppData\\Local\\Temp\\ipykernel_12416\\4011215336.py:6: DeprecationWarning: Importing display from IPython.core.display is deprecated since IPython 7.14, please import from IPython display\n",
      "  from IPython.core.display import display, HTML\n"
     ]
    },
    {
     "data": {
      "text/html": [
       "<style>.container { width:100% !important; }</style>"
      ],
      "text/plain": [
       "<IPython.core.display.HTML object>"
      ]
     },
     "metadata": {},
     "output_type": "display_data"
    }
   ],
   "source": [
    "import os\n",
    "import gc\n",
    "from PIL import Image\n",
    "\n",
    "#-------------------------------------------------------------------------------------JUPYTER NOTEBOOK SETTINGS-------------------------------------------------------------------------------------\n",
    "from IPython.core.display import display, HTML                                    \n",
    "display(HTML(\"<style>.container { width:100% !important; }</style>\"))     "
   ]
  },
  {
   "cell_type": "code",
   "execution_count": 3,
   "id": "cceeac2a",
   "metadata": {},
   "outputs": [
    {
     "name": "stdout",
     "output_type": "stream",
     "text": [
      "Enter width of images to be deleted: 783\n",
      "Enter height of images to be deleted: 596\n"
     ]
    },
    {
     "ename": "PermissionError",
     "evalue": "[WinError 32] The process cannot access the file because it is being used by another process: 'pascal_voc_datasets/VOCdevkit/PlotsEnchanced_NoAugmentation/JPEGImages\\\\image1593.jpg'",
     "output_type": "error",
     "traceback": [
      "\u001b[1;31m---------------------------------------------------------------------------\u001b[0m",
      "\u001b[1;31mPermissionError\u001b[0m                           Traceback (most recent call last)",
      "Cell \u001b[1;32mIn[3], line 22\u001b[0m\n\u001b[0;32m     20\u001b[0m             \u001b[38;5;28;01mdel\u001b[39;00m img\n\u001b[0;32m     21\u001b[0m             gc\u001b[38;5;241m.\u001b[39mcollect()  \u001b[38;5;66;03m# Force garbage collector to release unreferenced memory\u001b[39;00m\n\u001b[1;32m---> 22\u001b[0m             \u001b[43mos\u001b[49m\u001b[38;5;241;43m.\u001b[39;49m\u001b[43mremove\u001b[49m\u001b[43m(\u001b[49m\u001b[43mimage_file\u001b[49m\u001b[43m)\u001b[49m\n\u001b[0;32m     23\u001b[0m             \u001b[38;5;28mprint\u001b[39m(\u001b[38;5;124mf\u001b[39m\u001b[38;5;124m'\u001b[39m\u001b[38;5;124mDeleted \u001b[39m\u001b[38;5;132;01m{\u001b[39;00mimage_file\u001b[38;5;132;01m}\u001b[39;00m\u001b[38;5;124m'\u001b[39m)\n\u001b[0;32m     26\u001b[0m \u001b[38;5;28mprint\u001b[39m(\u001b[38;5;124m'\u001b[39m\u001b[38;5;124mFinished checking all images.\u001b[39m\u001b[38;5;124m'\u001b[39m)\n",
      "\u001b[1;31mPermissionError\u001b[0m: [WinError 32] The process cannot access the file because it is being used by another process: 'pascal_voc_datasets/VOCdevkit/PlotsEnchanced_NoAugmentation/JPEGImages\\\\image1593.jpg'"
     ]
    }
   ],
   "source": [
    "# Absolute path to your image directory\n",
    "#image_dir = '/absolute/path/to/your/images'  # Unix-based systems\n",
    "image_dir = 'pascal_voc_datasets/VOCdevkit/PlotsEnchanced_NoAugmentation/JPEGImages'  # Windows\n",
    "\n",
    "# Get a list of all image file paths\n",
    "image_files = [os.path.join(image_dir, file) for file in os.listdir(image_dir) if file.endswith(('.png', '.jpg', '.jpeg'))]\n",
    "\n",
    "# User given size\n",
    "user_given_width = int(input(\"Enter width of images to be deleted: \"))\n",
    "user_given_height = int(input(\"Enter height of images to be deleted: \"))\n",
    "\n",
    "user_given_size = (user_given_width, user_given_height)\n",
    "\n",
    "# Go through all image files\n",
    "for image_file in image_files:\n",
    "    # Open the image file\n",
    "    with Image.open(image_file) as img:\n",
    "        # If the image is the user given size, delete it\n",
    "        if img.size == user_given_size:\n",
    "            del img\n",
    "            gc.collect()  # Force garbage collector to release unreferenced memory\n",
    "            os.remove(image_file)\n",
    "            print(f'Deleted {image_file}')\n",
    "            \n",
    "\n",
    "print('Finished checking all images.')"
   ]
  }
 ],
 "metadata": {
  "kernelspec": {
   "display_name": "cuda-env",
   "language": "python",
   "name": "cuda-env"
  },
  "language_info": {
   "codemirror_mode": {
    "name": "ipython",
    "version": 3
   },
   "file_extension": ".py",
   "mimetype": "text/x-python",
   "name": "python",
   "nbconvert_exporter": "python",
   "pygments_lexer": "ipython3",
   "version": "3.9.17"
  }
 },
 "nbformat": 4,
 "nbformat_minor": 5
}
