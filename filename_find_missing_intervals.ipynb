{
 "cells": [
  {
   "cell_type": "code",
   "execution_count": 1,
   "id": "0ead61ee",
   "metadata": {},
   "outputs": [
    {
     "name": "stdout",
     "output_type": "stream",
     "text": [
      "Missing intervals:\n",
      "From image136357.xml to image136374.xml\n"
     ]
    }
   ],
   "source": [
    "import os\n",
    "import re\n",
    "\n",
    "def extract_number_from_filename(filename):\n",
    "    match = re.search(r'\\d+', filename)\n",
    "    return int(match.group()) if match else None\n",
    "\n",
    "def find_missing_intervals(folder_path):\n",
    "    filenames = os.listdir(folder_path)\n",
    "    numbers = [extract_number_from_filename(filename) for filename in filenames]\n",
    "    numbers.sort()\n",
    "\n",
    "    missing_intervals = []\n",
    "    last_number = numbers[0] - 1\n",
    "\n",
    "    for number in numbers:\n",
    "        if number != last_number + 1:\n",
    "            missing_intervals.append((last_number + 1, number - 1))\n",
    "        last_number = number\n",
    "\n",
    "    return missing_intervals\n",
    "\n",
    "if __name__ == \"__main__\":\n",
    "    folder_path = \"pascal_voc_datasets/VOCdevkit/PlotsEnchanced_NoAugmentation/Annotations\"  # Replace this with the actual path to your folder\n",
    "    missing_intervals = find_missing_intervals(folder_path)\n",
    "\n",
    "    if missing_intervals:\n",
    "        print(\"Missing intervals:\")\n",
    "        for interval in missing_intervals:\n",
    "            print(f\"From image{interval[0]}.xml to image{interval[1]}.xml\")\n",
    "    else:\n",
    "        print(\"No missing intervals found.\")"
   ]
  }
 ],
 "metadata": {
  "kernelspec": {
   "display_name": "Python 3 (ipykernel)",
   "language": "python",
   "name": "python3"
  },
  "language_info": {
   "codemirror_mode": {
    "name": "ipython",
    "version": 3
   },
   "file_extension": ".py",
   "mimetype": "text/x-python",
   "name": "python",
   "nbconvert_exporter": "python",
   "pygments_lexer": "ipython3",
   "version": "3.10.9"
  }
 },
 "nbformat": 4,
 "nbformat_minor": 5
}
