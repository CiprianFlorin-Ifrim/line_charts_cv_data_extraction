{
 "cells": [
  {
   "cell_type": "code",
   "execution_count": null,
   "id": "bee76e2b",
   "metadata": {},
   "outputs": [],
   "source": [
    "# https://discuss.pytorch.org/t/how-can-a-rcnn-manage-inputs-of-different-sizes/109262"
   ]
  },
  {
   "cell_type": "code",
   "execution_count": 2,
   "id": "0bd054be",
   "metadata": {},
   "outputs": [],
   "source": [
    "import os\n",
    "import xml.etree.cElementTree as ET\n"
   ]
  },
  {
   "cell_type": "code",
   "execution_count": 3,
   "id": "6f2fabfe",
   "metadata": {},
   "outputs": [],
   "source": [
    "# Function to create an XML file\n",
    "def create_xml(image_path, dataset_save_path, boxes, labels):\n",
    "    annotation = ET.Element(\"annotation\")\n",
    "    ET.SubElement(annotation, \"filename\").text = os.path.basename(image_path)\n",
    "\n",
    "    size = ET.SubElement(annotation, \"size\")\n",
    "    ET.SubElement(size, \"width\").text = str(IMAGE_WIDTH)\n",
    "    ET.SubElement(size, \"height\").text = str(IMAGE_HEIGHT)\n",
    "    ET.SubElement(size, \"depth\").text = str(IMAGE_DEPTH)\n",
    "\n",
    "    for i in range(len(boxes)):\n",
    "        object = ET.SubElement(annotation, \"object\")\n",
    "        ET.SubElement(object, \"name\").text = labels[i]\n",
    "        ET.SubElement(object, \"truncated\").text = str(0)\n",
    "        ET.SubElement(object, \"difficult\").text = str(0)\n",
    "\n",
    "        bndbox = ET.SubElement(object, \"bndbox\")\n",
    "        ET.SubElement(bndbox, \"xmin\").text = str(boxes[i][0])\n",
    "        ET.SubElement(bndbox, \"ymin\").text = str(boxes[i][1])\n",
    "        ET.SubElement(bndbox, \"xmax\").text = str(boxes[i][2])\n",
    "        ET.SubElement(bndbox, \"ymax\").text = str(boxes[i][3])\n",
    "\n",
    "    tree = ET.ElementTree(annotation)\n",
    "    tree.write(dataset_save_path + os.path.splitext(image_path)[0] + \".xml\")\n",
    "\n",
    "# Variables\n",
    "boxes = [(36,1,700,57), (2,100,777,164), (64,780,819,807), (1,414,60,789), (62,414,825,779)]  # List of bounding boxes\n",
    "labels = [\"name\", \"value\",\"x-axis\", \"y-axis\", \"plot\"]  # Corresponding labels\n",
    "IMAGE_WIDTH  = 832 # width of your images\n",
    "IMAGE_HEIGHT = 807  # height of your images\n",
    "IMAGE_DEPTH  = 3            # for color images, depth is 3. for grayscale, depth is 1\n",
    "\n",
    "# Get a list of all your images\n",
    "image_paths = os.listdir('sample_plots/coindesk.com')  # Windows\n",
    "dataset_save_path = 'pascal_voc_datasets/coindesk_'\n",
    "\n",
    "# Create an XML file for each image\n",
    "for image_path in image_paths:\n",
    "    create_xml(image_path, dataset_save_path, boxes, labels)"
   ]
  }
 ],
 "metadata": {
  "kernelspec": {
   "display_name": "cuda-env",
   "language": "python",
   "name": "cuda-env"
  },
  "language_info": {
   "codemirror_mode": {
    "name": "ipython",
    "version": 3
   },
   "file_extension": ".py",
   "mimetype": "text/x-python",
   "name": "python",
   "nbconvert_exporter": "python",
   "pygments_lexer": "ipython3",
   "version": "3.9.17"
  }
 },
 "nbformat": 4,
 "nbformat_minor": 5
}
