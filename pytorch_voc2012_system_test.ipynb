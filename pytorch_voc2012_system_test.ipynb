{
 "cells": [
  {
   "cell_type": "code",
   "execution_count": 1,
   "id": "906caec2",
   "metadata": {},
   "outputs": [],
   "source": [
    "import torch\n",
    "import torchvision\n",
    "from torchvision.models.detection.faster_rcnn import FastRCNNPredictor\n",
    "from torchvision.datasets import VOCDetection\n",
    "from torchvision.transforms import ToTensor\n",
    "from torch.utils.data import DataLoader\n",
    "from tqdm import tqdm\n",
    "import matplotlib.pyplot as plt\n",
    "from torchvision.transforms import Compose, Resize, ToTensor\n",
    "from torch.utils.data import DataLoader\n",
    "from torch.nn.utils.rnn import pad_sequence\n",
    "import torch.multiprocessing as mp\n",
    "from torchvision.transforms import functional as F\n",
    "from torchvision.models.detection.faster_rcnn import FasterRCNN_ResNet50_FPN_Weights\n",
    "from torch.cuda.amp import autocast, GradScaler\n",
    "from sklearn.metrics import average_precision_score\n",
    "from sklearn.metrics import precision_recall_fscore_support\n",
    "from pycocotools.coco import COCO\n",
    "from pycocotools.cocoeval import COCOeval\n",
    "from typing import Dict\n",
    "import numpy as np"
   ]
  },
  {
   "cell_type": "code",
   "execution_count": 4,
   "id": "17aeacde",
   "metadata": {},
   "outputs": [
    {
     "name": "stderr",
     "output_type": "stream",
     "text": [
      "Training epoch 1/50: 100%|████████████████████████████████████████████████████| 25/25 [00:03<00:00,  7.88batch/s, batch_loss=17.3]\n"
     ]
    },
    {
     "name": "stdout",
     "output_type": "stream",
     "text": [
      "Epoch loss: 12.701381297111512\n"
     ]
    },
    {
     "name": "stderr",
     "output_type": "stream",
     "text": [
      "Training epoch 2/50: 100%|████████████████████████████████████████████████████| 25/25 [00:03<00:00,  8.00batch/s, batch_loss=4.98]\n"
     ]
    },
    {
     "name": "stdout",
     "output_type": "stream",
     "text": [
      "Epoch loss: 8.514544758796692\n"
     ]
    },
    {
     "name": "stderr",
     "output_type": "stream",
     "text": [
      "Training epoch 3/50: 100%|████████████████████████████████████████████████████| 25/25 [00:03<00:00,  8.24batch/s, batch_loss=10.1]\n"
     ]
    },
    {
     "name": "stdout",
     "output_type": "stream",
     "text": [
      "Epoch loss: 8.026162662506103\n"
     ]
    },
    {
     "name": "stderr",
     "output_type": "stream",
     "text": [
      "Training epoch 4/50: 100%|████████████████████████████████████████████████████| 25/25 [00:02<00:00,  8.43batch/s, batch_loss=17.7]\n"
     ]
    },
    {
     "name": "stdout",
     "output_type": "stream",
     "text": [
      "Epoch loss: 8.614783515930176\n"
     ]
    },
    {
     "name": "stderr",
     "output_type": "stream",
     "text": [
      "Training epoch 5/50: 100%|████████████████████████████████████████████████████| 25/25 [00:02<00:00,  8.57batch/s, batch_loss=3.07]\n"
     ]
    },
    {
     "name": "stdout",
     "output_type": "stream",
     "text": [
      "Epoch loss: 7.791642388105393\n"
     ]
    },
    {
     "name": "stderr",
     "output_type": "stream",
     "text": [
      "Training epoch 6/50: 100%|████████████████████████████████████████████████████| 25/25 [00:02<00:00,  8.67batch/s, batch_loss=9.65]\n"
     ]
    },
    {
     "name": "stdout",
     "output_type": "stream",
     "text": [
      "Epoch loss: 7.918152475357056\n"
     ]
    },
    {
     "name": "stderr",
     "output_type": "stream",
     "text": [
      "Training epoch 7/50: 100%|████████████████████████████████████████████████████| 25/25 [00:02<00:00,  8.64batch/s, batch_loss=5.44]\n"
     ]
    },
    {
     "name": "stdout",
     "output_type": "stream",
     "text": [
      "Epoch loss: 8.066927729845046\n"
     ]
    },
    {
     "name": "stderr",
     "output_type": "stream",
     "text": [
      "Training epoch 8/50: 100%|████████████████████████████████████████████████████| 25/25 [00:02<00:00,  8.58batch/s, batch_loss=9.81]\n"
     ]
    },
    {
     "name": "stdout",
     "output_type": "stream",
     "text": [
      "Epoch loss: 7.823746742010116\n"
     ]
    },
    {
     "name": "stderr",
     "output_type": "stream",
     "text": [
      "Training epoch 9/50: 100%|████████████████████████████████████████████████████| 25/25 [00:02<00:00,  8.69batch/s, batch_loss=8.09]\n"
     ]
    },
    {
     "name": "stdout",
     "output_type": "stream",
     "text": [
      "Epoch loss: 6.958009896278381\n"
     ]
    },
    {
     "name": "stderr",
     "output_type": "stream",
     "text": [
      "Training epoch 10/50: 100%|███████████████████████████████████████████████████| 25/25 [00:02<00:00,  8.68batch/s, batch_loss=6.59]\n"
     ]
    },
    {
     "name": "stdout",
     "output_type": "stream",
     "text": [
      "Epoch loss: 6.974721426963806\n"
     ]
    },
    {
     "name": "stderr",
     "output_type": "stream",
     "text": [
      "Training epoch 11/50: 100%|███████████████████████████████████████████████████| 25/25 [00:02<00:00,  8.73batch/s, batch_loss=3.64]\n"
     ]
    },
    {
     "name": "stdout",
     "output_type": "stream",
     "text": [
      "Epoch loss: 6.702231886386872\n"
     ]
    },
    {
     "name": "stderr",
     "output_type": "stream",
     "text": [
      "Training epoch 12/50: 100%|████████████████████████████████████████████████████| 25/25 [00:02<00:00,  8.82batch/s, batch_loss=4.2]\n"
     ]
    },
    {
     "name": "stdout",
     "output_type": "stream",
     "text": [
      "Epoch loss: 6.893529434204101\n"
     ]
    },
    {
     "name": "stderr",
     "output_type": "stream",
     "text": [
      "Training epoch 13/50: 100%|███████████████████████████████████████████████████| 25/25 [00:02<00:00,  8.81batch/s, batch_loss=4.44]\n"
     ]
    },
    {
     "name": "stdout",
     "output_type": "stream",
     "text": [
      "Epoch loss: 5.772946012020111\n"
     ]
    },
    {
     "name": "stderr",
     "output_type": "stream",
     "text": [
      "Training epoch 14/50: 100%|███████████████████████████████████████████████████| 25/25 [00:02<00:00,  8.74batch/s, batch_loss=20.1]\n"
     ]
    },
    {
     "name": "stdout",
     "output_type": "stream",
     "text": [
      "Epoch loss: 6.307399970293045\n"
     ]
    },
    {
     "name": "stderr",
     "output_type": "stream",
     "text": [
      "Training epoch 15/50: 100%|███████████████████████████████████████████████████| 25/25 [00:02<00:00,  8.85batch/s, batch_loss=3.19]\n"
     ]
    },
    {
     "name": "stdout",
     "output_type": "stream",
     "text": [
      "Epoch loss: 5.15841546535492\n"
     ]
    },
    {
     "name": "stderr",
     "output_type": "stream",
     "text": [
      "Training epoch 16/50: 100%|███████████████████████████████████████████████████| 25/25 [00:02<00:00,  8.83batch/s, batch_loss=2.35]\n"
     ]
    },
    {
     "name": "stdout",
     "output_type": "stream",
     "text": [
      "Epoch loss: 5.426572276949883\n"
     ]
    },
    {
     "name": "stderr",
     "output_type": "stream",
     "text": [
      "Training epoch 17/50: 100%|██████████████████████████████████████████████████| 25/25 [00:02<00:00,  8.80batch/s, batch_loss=0.416]\n"
     ]
    },
    {
     "name": "stdout",
     "output_type": "stream",
     "text": [
      "Epoch loss: 5.382456928491592\n"
     ]
    },
    {
     "name": "stderr",
     "output_type": "stream",
     "text": [
      "Training epoch 18/50: 100%|███████████████████████████████████████████████████| 25/25 [00:02<00:00,  8.67batch/s, batch_loss=3.91]\n"
     ]
    },
    {
     "name": "stdout",
     "output_type": "stream",
     "text": [
      "Epoch loss: 5.162588011622429\n"
     ]
    },
    {
     "name": "stderr",
     "output_type": "stream",
     "text": [
      "Training epoch 19/50: 100%|███████████████████████████████████████████████████| 25/25 [00:02<00:00,  8.60batch/s, batch_loss=2.47]\n"
     ]
    },
    {
     "name": "stdout",
     "output_type": "stream",
     "text": [
      "Epoch loss: 5.131842370033264\n"
     ]
    },
    {
     "name": "stderr",
     "output_type": "stream",
     "text": [
      "Training epoch 20/50: 100%|██████████████████████████████████████████████████| 25/25 [00:02<00:00,  8.65batch/s, batch_loss=0.556]\n"
     ]
    },
    {
     "name": "stdout",
     "output_type": "stream",
     "text": [
      "Epoch loss: 4.935380120277404\n"
     ]
    },
    {
     "name": "stderr",
     "output_type": "stream",
     "text": [
      "Training epoch 21/50: 100%|███████████████████████████████████████████████████| 25/25 [00:02<00:00,  8.45batch/s, batch_loss=9.09]\n"
     ]
    },
    {
     "name": "stdout",
     "output_type": "stream",
     "text": [
      "Epoch loss: 4.785396492481231\n"
     ]
    },
    {
     "name": "stderr",
     "output_type": "stream",
     "text": [
      "Training epoch 22/50: 100%|███████████████████████████████████████████████████| 25/25 [00:02<00:00,  8.43batch/s, batch_loss=2.73]\n"
     ]
    },
    {
     "name": "stdout",
     "output_type": "stream",
     "text": [
      "Epoch loss: 5.003632234334946\n"
     ]
    },
    {
     "name": "stderr",
     "output_type": "stream",
     "text": [
      "Training epoch 23/50: 100%|██████████████████████████████████████████████████| 25/25 [00:02<00:00,  8.37batch/s, batch_loss=0.327]\n"
     ]
    },
    {
     "name": "stdout",
     "output_type": "stream",
     "text": [
      "Epoch loss: 4.620845142602921\n"
     ]
    },
    {
     "name": "stderr",
     "output_type": "stream",
     "text": [
      "Training epoch 24/50: 100%|██████████████████████████████████████████████████| 25/25 [00:02<00:00,  8.59batch/s, batch_loss=0.677]\n"
     ]
    },
    {
     "name": "stdout",
     "output_type": "stream",
     "text": [
      "Epoch loss: 4.795751867294311\n"
     ]
    },
    {
     "name": "stderr",
     "output_type": "stream",
     "text": [
      "Training epoch 25/50: 100%|███████████████████████████████████████████████████| 25/25 [00:02<00:00,  8.37batch/s, batch_loss=6.17]\n"
     ]
    },
    {
     "name": "stdout",
     "output_type": "stream",
     "text": [
      "Epoch loss: 4.4138877546787265\n"
     ]
    },
    {
     "name": "stderr",
     "output_type": "stream",
     "text": [
      "Training epoch 26/50: 100%|███████████████████████████████████████████████████| 25/25 [00:02<00:00,  8.56batch/s, batch_loss=2.02]\n"
     ]
    },
    {
     "name": "stdout",
     "output_type": "stream",
     "text": [
      "Epoch loss: 4.337985904216766\n"
     ]
    },
    {
     "name": "stderr",
     "output_type": "stream",
     "text": [
      "Training epoch 27/50: 100%|███████████████████████████████████████████████████| 25/25 [00:03<00:00,  8.06batch/s, batch_loss=6.09]\n"
     ]
    },
    {
     "name": "stdout",
     "output_type": "stream",
     "text": [
      "Epoch loss: 4.16355395078659\n"
     ]
    },
    {
     "name": "stderr",
     "output_type": "stream",
     "text": [
      "Training epoch 28/50: 100%|███████████████████████████████████████████████████| 25/25 [00:02<00:00,  8.48batch/s, batch_loss=5.06]\n"
     ]
    },
    {
     "name": "stdout",
     "output_type": "stream",
     "text": [
      "Epoch loss: 4.146647585630417\n"
     ]
    },
    {
     "name": "stderr",
     "output_type": "stream",
     "text": [
      "Training epoch 29/50: 100%|██████████████████████████████████████████████████████| 25/25 [00:02<00:00,  8.64batch/s, batch_loss=6]\n"
     ]
    },
    {
     "name": "stdout",
     "output_type": "stream",
     "text": [
      "Epoch loss: 4.3887416362762455\n"
     ]
    },
    {
     "name": "stderr",
     "output_type": "stream",
     "text": [
      "Training epoch 30/50: 100%|███████████████████████████████████████████████████| 25/25 [00:02<00:00,  8.74batch/s, batch_loss=2.98]\n"
     ]
    },
    {
     "name": "stdout",
     "output_type": "stream",
     "text": [
      "Epoch loss: 4.212267911434173\n"
     ]
    },
    {
     "name": "stderr",
     "output_type": "stream",
     "text": [
      "Training epoch 31/50: 100%|███████████████████████████████████████████████████| 25/25 [00:02<00:00,  8.45batch/s, batch_loss=6.08]\n"
     ]
    },
    {
     "name": "stdout",
     "output_type": "stream",
     "text": [
      "Epoch loss: 4.029478077888489\n"
     ]
    },
    {
     "name": "stderr",
     "output_type": "stream",
     "text": [
      "Training epoch 32/50: 100%|███████████████████████████████████████████████████| 25/25 [00:02<00:00,  8.64batch/s, batch_loss=3.69]\n"
     ]
    },
    {
     "name": "stdout",
     "output_type": "stream",
     "text": [
      "Epoch loss: 4.1033996641635895\n"
     ]
    },
    {
     "name": "stderr",
     "output_type": "stream",
     "text": [
      "Training epoch 33/50: 100%|███████████████████████████████████████████████████| 25/25 [00:02<00:00,  8.53batch/s, batch_loss=8.18]\n"
     ]
    },
    {
     "name": "stdout",
     "output_type": "stream",
     "text": [
      "Epoch loss: 4.164313632249832\n"
     ]
    },
    {
     "name": "stderr",
     "output_type": "stream",
     "text": [
      "Training epoch 34/50: 100%|████████████████████████████████████████████████████| 25/25 [00:02<00:00,  8.52batch/s, batch_loss=8.8]\n"
     ]
    },
    {
     "name": "stdout",
     "output_type": "stream",
     "text": [
      "Epoch loss: 3.928464973568916\n"
     ]
    },
    {
     "name": "stderr",
     "output_type": "stream",
     "text": [
      "Training epoch 35/50: 100%|███████████████████████████████████████████████████| 25/25 [00:02<00:00,  8.48batch/s, batch_loss=2.78]\n"
     ]
    },
    {
     "name": "stdout",
     "output_type": "stream",
     "text": [
      "Epoch loss: 3.950286673307419\n"
     ]
    },
    {
     "name": "stderr",
     "output_type": "stream",
     "text": [
      "Training epoch 36/50: 100%|██████████████████████████████████████████████████| 25/25 [00:02<00:00,  8.45batch/s, batch_loss=0.225]\n"
     ]
    },
    {
     "name": "stdout",
     "output_type": "stream",
     "text": [
      "Epoch loss: 4.135526704788208\n"
     ]
    },
    {
     "name": "stderr",
     "output_type": "stream",
     "text": [
      "Training epoch 37/50: 100%|███████████████████████████████████████████████████| 25/25 [00:02<00:00,  8.70batch/s, batch_loss=6.01]\n"
     ]
    },
    {
     "name": "stdout",
     "output_type": "stream",
     "text": [
      "Epoch loss: 3.890770793557167\n"
     ]
    },
    {
     "name": "stderr",
     "output_type": "stream",
     "text": [
      "Training epoch 38/50: 100%|███████████████████████████████████████████████████| 25/25 [00:02<00:00,  8.43batch/s, batch_loss=2.36]\n"
     ]
    },
    {
     "name": "stdout",
     "output_type": "stream",
     "text": [
      "Epoch loss: 3.883085891008377\n"
     ]
    },
    {
     "name": "stderr",
     "output_type": "stream",
     "text": [
      "Training epoch 39/50: 100%|███████████████████████████████████████████████████| 25/25 [00:02<00:00,  8.82batch/s, batch_loss=3.03]\n"
     ]
    },
    {
     "name": "stdout",
     "output_type": "stream",
     "text": [
      "Epoch loss: 3.9605888295173646\n"
     ]
    },
    {
     "name": "stderr",
     "output_type": "stream",
     "text": [
      "Training epoch 40/50: 100%|███████████████████████████████████████████████████| 25/25 [00:02<00:00,  8.71batch/s, batch_loss=5.17]\n"
     ]
    },
    {
     "name": "stdout",
     "output_type": "stream",
     "text": [
      "Epoch loss: 3.946639590263367\n"
     ]
    },
    {
     "name": "stderr",
     "output_type": "stream",
     "text": [
      "Training epoch 41/50: 100%|███████████████████████████████████████████████████| 25/25 [00:02<00:00,  8.92batch/s, batch_loss=7.05]\n"
     ]
    },
    {
     "name": "stdout",
     "output_type": "stream",
     "text": [
      "Epoch loss: 3.7753015780448913\n"
     ]
    },
    {
     "name": "stderr",
     "output_type": "stream",
     "text": [
      "Training epoch 42/50: 100%|████████████████████████████████████████████████████| 25/25 [00:02<00:00,  8.42batch/s, batch_loss=3.4]\n"
     ]
    },
    {
     "name": "stdout",
     "output_type": "stream",
     "text": [
      "Epoch loss: 3.6058947944641115\n"
     ]
    },
    {
     "name": "stderr",
     "output_type": "stream",
     "text": [
      "Training epoch 43/50: 100%|██████████████████████████████████████████████████| 25/25 [00:02<00:00,  8.62batch/s, batch_loss=0.366]\n"
     ]
    },
    {
     "name": "stdout",
     "output_type": "stream",
     "text": [
      "Epoch loss: 3.5861255645751955\n"
     ]
    },
    {
     "name": "stderr",
     "output_type": "stream",
     "text": [
      "Training epoch 44/50: 100%|███████████████████████████████████████████████████| 25/25 [00:02<00:00,  8.74batch/s, batch_loss=1.64]\n"
     ]
    },
    {
     "name": "stdout",
     "output_type": "stream",
     "text": [
      "Epoch loss: 3.6738657081127166\n"
     ]
    },
    {
     "name": "stderr",
     "output_type": "stream",
     "text": [
      "Training epoch 45/50: 100%|██████████████████████████████████████████████████| 25/25 [00:02<00:00,  8.80batch/s, batch_loss=0.132]\n"
     ]
    },
    {
     "name": "stdout",
     "output_type": "stream",
     "text": [
      "Epoch loss: 3.7022332710027697\n"
     ]
    },
    {
     "name": "stderr",
     "output_type": "stream",
     "text": [
      "Training epoch 46/50: 100%|███████████████████████████████████████████████████| 25/25 [00:02<00:00,  8.77batch/s, batch_loss=8.79]\n"
     ]
    },
    {
     "name": "stdout",
     "output_type": "stream",
     "text": [
      "Epoch loss: 3.719724427461624\n"
     ]
    },
    {
     "name": "stderr",
     "output_type": "stream",
     "text": [
      "Training epoch 47/50: 100%|███████████████████████████████████████████████████| 25/25 [00:02<00:00,  8.79batch/s, batch_loss=4.07]\n"
     ]
    },
    {
     "name": "stdout",
     "output_type": "stream",
     "text": [
      "Epoch loss: 3.7194916665554048\n"
     ]
    },
    {
     "name": "stderr",
     "output_type": "stream",
     "text": [
      "Training epoch 48/50: 100%|███████████████████████████████████████████████████| 25/25 [00:02<00:00,  8.87batch/s, batch_loss=6.45]\n"
     ]
    },
    {
     "name": "stdout",
     "output_type": "stream",
     "text": [
      "Epoch loss: 3.496501250863075\n"
     ]
    },
    {
     "name": "stderr",
     "output_type": "stream",
     "text": [
      "Training epoch 49/50: 100%|███████████████████████████████████████████████████| 25/25 [00:02<00:00,  8.78batch/s, batch_loss=3.89]\n"
     ]
    },
    {
     "name": "stdout",
     "output_type": "stream",
     "text": [
      "Epoch loss: 3.416080895066261\n"
     ]
    },
    {
     "name": "stderr",
     "output_type": "stream",
     "text": [
      "Training epoch 50/50: 100%|███████████████████████████████████████████████████| 25/25 [00:02<00:00,  8.84batch/s, batch_loss=1.85]"
     ]
    },
    {
     "name": "stdout",
     "output_type": "stream",
     "text": [
      "Epoch loss: 3.705528416633606\n"
     ]
    },
    {
     "name": "stderr",
     "output_type": "stream",
     "text": [
      "\n"
     ]
    },
    {
     "data": {
      "image/png": "[encoded data removed]",
      "text/plain": [
       "<Figure size 432x288 with 1 Axes>"
      ]
     },
     "metadata": {
      "needs_background": "light"
     },
     "output_type": "display_data"
    }
   ],
   "source": [
    "# Multiprocessing\n",
    "if mp.get_start_method(allow_none=True) != 'spawn':\n",
    "    mp.set_start_method('spawn', force=True)\n",
    "    \n",
    "VOC_CLASSES = ['background', 'aeroplane', 'bicycle', 'bird', 'boat', 'bottle', 'bus', 'car', 'cat', 'chair', 'cow', 'diningtable', 'dog', 'horse', 'motorbike', 'person', 'pottedplant', 'sheep', 'sofa', 'train', 'tvmonitor']\n",
    "\n",
    "# Check device\n",
    "device = torch.device('cuda') if torch.cuda.is_available() else torch.device('cpu')\n",
    "\n",
    "# Load the pretrained model\n",
    "model = torchvision.models.detection.fasterrcnn_resnet50_fpn(weights=FasterRCNN_ResNet50_FPN_Weights.DEFAULT)\n",
    "\n",
    "# Replace the classifier with a new one\n",
    "num_classes = 21 # 20 classes + background\n",
    "in_features = model.roi_heads.box_predictor.cls_score.in_features\n",
    "\n",
    "model.roi_heads.box_predictor = FastRCNNPredictor(in_features, num_classes)\n",
    "\n",
    "# Put model to device\n",
    "model.to(device)\n",
    "\n",
    "def collate_fn(batch):\n",
    "    return tuple(zip(*batch))\n",
    "\n",
    "# Define transformations\n",
    "def transform_voc_target(image, target):\n",
    "    boxes = []\n",
    "    labels = []\n",
    "    for ann in target[\"annotation\"][\"object\"]:\n",
    "        bbox = ann[\"bndbox\"]\n",
    "        boxes.append([float(bbox[\"xmin\"]), float(bbox[\"ymin\"]), float(bbox[\"xmax\"]), float(bbox[\"ymax\"])])\n",
    "        labels.append(VOC_CLASSES.index(ann[\"name\"]))\n",
    "\n",
    "    target = {}\n",
    "    target[\"boxes\"] = torch.tensor(boxes, dtype=torch.float32)\n",
    "    target[\"labels\"] = torch.tensor(labels, dtype=torch.int64)\n",
    "    \n",
    "    # Convert the image to a tensor\n",
    "    image = F.to_tensor(image)\n",
    "    # Resize the image\n",
    "    image = F.resize(image, [224, 224])\n",
    "\n",
    "    return image, target\n",
    "\n",
    "# Apply this function to your dataset using the transforms parameter\n",
    "train_data = VOCDetection(\n",
    "    root=\"pascal_voc_datasets\",\n",
    "    year=\"2012\",\n",
    "    image_set=\"val\",\n",
    "    download=False,\n",
    "    transforms=transform_voc_target\n",
    ")\n",
    "\n",
    "# Use collate_fn in DataLoader\n",
    "data_loader = DataLoader(train_data, batch_size=4, shuffle=True, num_workers=0, collate_fn=collate_fn)\n",
    "\n",
    "# Define optimizer\n",
    "params = [p for p in model.parameters() if p.requires_grad]\n",
    "optimizer = torch.optim.SGD(params, lr=0.0001, momentum=0.9, weight_decay=0.0005)\n",
    "\n",
    "# Initialize the gradient scaler\n",
    "scaler = GradScaler()\n",
    "\n",
    "# Define loss history for plotting\n",
    "loss_hist = []\n",
    "\n",
    "# Training loop\n",
    "num_epochs = 50\n",
    "for epoch in range(num_epochs):\n",
    "    loss_epoch = []\n",
    "    progress_bar = tqdm(data_loader, desc=f\"Training epoch {epoch+1}/{num_epochs}\", unit=\"batch\")\n",
    "    \n",
    "    for images, targets in progress_bar:\n",
    "        images = list(image.to(device) for image in images)\n",
    "        targets = [{k: v.to(device) for k, v in t.items()} for t in targets]\n",
    "\n",
    "        # Autocasting and scaling the loss\n",
    "        with autocast():\n",
    "            loss_dict = model(images, targets)\n",
    "            losses = sum(loss for loss in loss_dict.values())\n",
    "\n",
    "        optimizer.zero_grad()\n",
    "\n",
    "        # Scales the loss, and calls backward() \n",
    "        scaler.scale(losses).backward()\n",
    "\n",
    "        # Unscales gradients and calls or skips optimizer.step()\n",
    "        scaler.step(optimizer)\n",
    "\n",
    "        # Updates the scale for next iteration\n",
    "        scaler.update()\n",
    "\n",
    "        loss_value = losses.item()\n",
    "        loss_epoch.append(loss_value)\n",
    "        \n",
    "        progress_bar.set_postfix({\"batch_loss\": loss_value})\n",
    "\n",
    "    epoch_loss = sum(loss_epoch)/len(loss_epoch)\n",
    "    loss_hist.append(epoch_loss)\n",
    "    print(f\"Epoch loss: {epoch_loss}\")\n",
    "\n",
    "# Plotting the loss\n",
    "plt.figure()\n",
    "plt.plot(loss_hist, label='Training loss')\n",
    "plt.title('Loss over epochs')\n",
    "plt.xlabel('Epochs')\n",
    "plt.ylabel('Loss')\n",
    "plt.legend()\n",
    "plt.show()"
   ]
  }
 ],
 "metadata": {
  "kernelspec": {
   "display_name": "pytorch-cude-env",
   "language": "python",
   "name": "pytorch-cude-env"
  },
  "language_info": {
   "codemirror_mode": {
    "name": "ipython",
    "version": 3
   },
   "file_extension": ".py",
   "mimetype": "text/x-python",
   "name": "python",
   "nbconvert_exporter": "python",
   "pygments_lexer": "ipython3",
   "version": "3.11.4"
  }
 },
 "nbformat": 4,
 "nbformat_minor": 5
}
