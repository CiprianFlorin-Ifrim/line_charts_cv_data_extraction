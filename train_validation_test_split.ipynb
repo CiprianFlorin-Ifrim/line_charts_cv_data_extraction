{
 "cells": [
  {
   "cell_type": "code",
   "execution_count": 1,
   "id": "446e68af",
   "metadata": {},
   "outputs": [],
   "source": [
    "import os\n",
    "import random"
   ]
  },
  {
   "cell_type": "code",
   "execution_count": 2,
   "id": "840a7aa6",
   "metadata": {},
   "outputs": [
    {
     "name": "stdout",
     "output_type": "stream",
     "text": [
      "Finished writing train.txt\n",
      "Finished writing val.txt\n",
      "Finished writing test.txt\n",
      "Finished writing trainval.txt\n"
     ]
    }
   ],
   "source": [
    "# List of all images\n",
    "all_images = os.listdir('pascal_voc_datasets/VOCdevkit/Plots_Crypto.com_Original_NoAugmentation/JPEGImages')\n",
    "all_images = [os.path.splitext(im)[0] for im in all_images if im.endswith('.jpg')]\n",
    "\n",
    "# Shuffle the data\n",
    "random.shuffle(all_images)\n",
    "\n",
    "# Split into train, val, test\n",
    "num_images = len(all_images)\n",
    "train_images = all_images[:int(0.7 * num_images)]\n",
    "val_images = all_images[int(0.7 * num_images):int(0.85 * num_images)]\n",
    "test_images = all_images[int(0.85 * num_images):]\n",
    "\n",
    "# Write to text files\n",
    "savepath = 'pascal_voc_datasets/VOCdevkit/Plots_Crypto.com_Original_NoAugmentation/ImageSets/Main/'\n",
    "with open(savepath + 'train.txt', 'w') as f:\n",
    "    f.write('\\n'.join(train_images))\n",
    "    print(\"Finished writing train.txt\")\n",
    "\n",
    "with open(savepath + 'val.txt', 'w') as f:\n",
    "    f.write('\\n'.join(val_images))\n",
    "    print(\"Finished writing val.txt\")\n",
    "\n",
    "with open(savepath + 'test.txt', 'w') as f:\n",
    "    f.write('\\n'.join(test_images))\n",
    "    print(\"Finished writing test.txt\")\n",
    "\n",
    "with open(savepath + 'trainval.txt', 'w') as f:\n",
    "    f.write('\\n'.join(train_images + val_images))\n",
    "    print(\"Finished writing trainval.txt\")"
   ]
  }
 ],
 "metadata": {
  "kernelspec": {
   "display_name": "Python 3 (ipykernel)",
   "language": "python",
   "name": "python3"
  },
  "language_info": {
   "codemirror_mode": {
    "name": "ipython",
    "version": 3
   },
   "file_extension": ".py",
   "mimetype": "text/x-python",
   "name": "python",
   "nbconvert_exporter": "python",
   "pygments_lexer": "ipython3",
   "version": "3.10.9"
  }
 },
 "nbformat": 4,
 "nbformat_minor": 5
}
