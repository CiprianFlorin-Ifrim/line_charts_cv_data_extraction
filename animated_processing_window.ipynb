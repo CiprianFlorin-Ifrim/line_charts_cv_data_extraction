{
 "cells": [
  {
   "cell_type": "code",
   "execution_count": 4,
   "id": "7dd6cfbc",
   "metadata": {},
   "outputs": [],
   "source": [
    "import tkinter as tk\n",
    "from PIL import Image, ImageTk, ImageSequence\n",
    "\n",
    "def animate():\n",
    "    global gif_index\n",
    "    if dialog.winfo_exists(): # Check if the dialog still exists\n",
    "        gif_index = (gif_index + 1) % len(frames)\n",
    "        label_image.config(image=frames[gif_index])\n",
    "        dialog.after(10, animate)\n",
    "\n",
    "def show_processing_dialog():\n",
    "    global dialog, label_image, frames, gif_index\n",
    "    gif_index = 0\n",
    "    dialog = tk.Toplevel(root)\n",
    "    dialog.geometry(\"500x500\")\n",
    "    dialog.title(\"Processing\")\n",
    "\n",
    "    # Open the GIF and extract the frames\n",
    "    image = Image.open('ui/processing/dynamic_processing.gif') # Correct the path if necessary\n",
    "    frames = [ImageTk.PhotoImage(frame.copy().convert('RGBA')) for frame in ImageSequence.Iterator(image)]\n",
    "    image.close()\n",
    "\n",
    "    label_image = tk.Label(dialog, image=frames[0])\n",
    "    label_image.pack(expand=True)\n",
    "\n",
    "    # Start the animation\n",
    "    animate()\n",
    "\n",
    "def close_processing_dialog():\n",
    "    dialog.destroy()\n",
    "\n",
    "root = tk.Tk()\n",
    "root.title('Test Animation')\n",
    "root.geometry(\"500x500\")\n",
    "\n",
    "button = tk.Button(root, text=\"Show Animation\", command=show_processing_dialog)\n",
    "button.pack()\n",
    "\n",
    "root.mainloop()\n"
   ]
  }
 ],
 "metadata": {
  "kernelspec": {
   "display_name": "pytorch-cude-env",
   "language": "python",
   "name": "pytorch-cude-env"
  },
  "language_info": {
   "codemirror_mode": {
    "name": "ipython",
    "version": 3
   },
   "file_extension": ".py",
   "mimetype": "text/x-python",
   "name": "python",
   "nbconvert_exporter": "python",
   "pygments_lexer": "ipython3",
   "version": "3.11.4"
  }
 },
 "nbformat": 4,
 "nbformat_minor": 5
}
