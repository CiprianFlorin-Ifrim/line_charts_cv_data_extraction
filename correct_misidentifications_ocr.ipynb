{
 "cells": [
  {
   "cell_type": "code",
   "execution_count": 4,
   "id": "7a94c67d",
   "metadata": {},
   "outputs": [
    {
     "name": "stdout",
     "output_type": "stream",
     "text": [
      "0.6812341\n"
     ]
    }
   ],
   "source": [
    "import re\n",
    "\n",
    "def correct_misidentifications(text):\n",
    "    corrections = {\n",
    "        'O': '0',\n",
    "        'G': '6',\n",
    "        'B': '8',\n",
    "        'I': '1',\n",
    "        'S': '5',\n",
    "        'Z': '2',\n",
    "        'Q': '0',\n",
    "        'T': '7',\n",
    "        'L': '1',\n",
    "        'A': '4'\n",
    "    }\n",
    "    \n",
    "    corrected_text = text\n",
    "    for char, replacement in corrections.items():\n",
    "        corrected_text = corrected_text.replace(char, replacement)\n",
    "    \n",
    "    corrected_text = re.sub(r'[^\\d.]+', '', corrected_text)  # Keep only numeric characters and decimal points\n",
    "    return corrected_text\n",
    "\n",
    "string = \"O.GB123AL\"\n",
    "print(correct_misidentifications(string))  "
   ]
  },
  {
   "cell_type": "code",
   "execution_count": 8,
   "id": "4ebccfe4",
   "metadata": {},
   "outputs": [
    {
     "name": "stdout",
     "output_type": "stream",
     "text": [
      "[0.36, 0.34, 0.32, 0.3, 0.28, 0.26, 0.24, 0.22, 0.2, 0.19, 0.18, 0.16, 0.14, 0.12, 0.1, 0.08, 0.06, 0.04]\n",
      "[18]\n"
     ]
    }
   ],
   "source": [
    "def process_y_axis(y_axis):\n",
    "    values = y_axis.split(',')\n",
    "    corrected_values = []\n",
    "    removed_indices = []\n",
    "    \n",
    "    for index, value in enumerate(values):\n",
    "        # If the value contains a space not at the beginning or end, replace with a decimal point\n",
    "        value = re.sub(r'(?<=\\S) (?=\\S)', '.', value)\n",
    "        \n",
    "        # If the value contains both digits and characters\n",
    "        if re.search(r'\\d', value) and re.search(r'[a-zA-Z]', value):\n",
    "            corrected_value = correct_misidentifications(value)\n",
    "        else:\n",
    "            corrected_value = value\n",
    "\n",
    "        # If the corrected value is still a valid float, add it to the results\n",
    "        try:\n",
    "            corrected_values.append(float(corrected_value))\n",
    "        except ValueError:\n",
    "            removed_indices.append(index)  # Save the index of the value that was removed\n",
    "\n",
    "    return corrected_values, removed_indices\n",
    "\n",
    "y_axis = '0.36,0.34,0.32,0.30,0.28,0.26,0.24,0.22,0.20,0 19,0.18,0.16,0.14,0.12,O.100,0.080,0.060,0.040,Cap'\n",
    "corrected_values, removed_indices = process_y_axis(y_axis)\n",
    "print(corrected_values)\n",
    "print(removed_indices)  # Indices of elements that were removed"
   ]
  },
  {
   "cell_type": "code",
   "execution_count": 9,
   "id": "8d6f8af4",
   "metadata": {},
   "outputs": [
    {
     "name": "stdout",
     "output_type": "stream",
     "text": [
      "usd\n",
      "usd\n",
      "None\n",
      "eur\n",
      "gbp\n",
      "gbp\n",
      "None\n",
      "jpy\n"
     ]
    }
   ],
   "source": [
    "import re\n",
    "\n",
    "def extract_currency(string):\n",
    "    # Dictionary to map symbols and misidentified symbols to currency names\n",
    "    currency_map = {\n",
    "        '$': 'USD',\n",
    "        '€': 'EUR',\n",
    "        '£': 'GBP',\n",
    "        '¥': 'JPY',\n",
    "        'A$': 'AUD',\n",
    "        'C$': 'CAD',\n",
    "        'S': 'USD',   # Misidentification for $\n",
    "        'E': 'EUR',   # Misidentification for €\n",
    "        'L': 'GBP',   # Misidentification for £\n",
    "        'Y': 'JPY',   # Potential misidentification for ¥\n",
    "    }\n",
    "    \n",
    "    # Regular expression to find any of the currency symbols, abbreviations or misidentified symbols\n",
    "    pattern = re.compile(r'\\$|€|£|¥|A\\$|C\\$|USD|EUR|GBP|JPY|AUD|CAD|S(?!\\w)|E(?!\\w)|L(?!\\w)|Y(?!\\w)')\n",
    "    # The (?!\\w) ensures we're not matching these in the middle of words\n",
    "    match = pattern.search(string)\n",
    "    \n",
    "    if match:\n",
    "        symbol = match.group()\n",
    "        # Map the symbol or misidentified symbol to the currency code if it exists in the dictionary\n",
    "        return currency_map.get(symbol, symbol).lower()\n",
    "    else:\n",
    "        return None\n",
    "\n",
    "# Test the function\n",
    "print(extract_currency(\"Price is 100S\"))\n",
    "print(extract_currency(\"Price is 100$\"))\n",
    "print(extract_currency(\"Price is 100Euros\"))\n",
    "print(extract_currency(\"Price is 100€\"))\n",
    "print(extract_currency(\"Price is 100L\"))\n",
    "print(extract_currency(\"Price is 100£\"))\n",
    "print(extract_currency(\"Price is 100Yen\"))\n",
    "print(extract_currency(\"Price is 100¥\"))"
   ]
  },
  {
   "cell_type": "code",
   "execution_count": 21,
   "id": "1fdab6b9",
   "metadata": {},
   "outputs": [
    {
     "name": "stdout",
     "output_type": "stream",
     "text": [
      "293.0\n",
      "-43.45\n"
     ]
    }
   ],
   "source": [
    "import re\n",
    "\n",
    "def extract_percentage(string):\n",
    "    match = re.search(r'([-+]?\\d+(?:\\.\\d+)?)\\s*%', string)\n",
    "    if match:\n",
    "        percentage = float(match.group(1))\n",
    "        return percentage\n",
    "    return None\n",
    "\n",
    "string1 = \"S78.47,293%\"\n",
    "string2 = \"S0.04254 USD -43.45%,(6M)\"\n",
    "\n",
    "print(extract_percentage(string1)) # Output: 293.0\n",
    "print(extract_percentage(string2)) # Output: -43.45"
   ]
  },
  {
   "cell_type": "code",
   "execution_count": 25,
   "id": "5b265954",
   "metadata": {},
   "outputs": [
    {
     "name": "stdout",
     "output_type": "stream",
     "text": [
      "Result from string: 0.5\n",
      "Result from number: 5.0\n"
     ]
    }
   ],
   "source": [
    "def add_dot_if_needed(value):\n",
    "    value_str = str(value)\n",
    "\n",
    "    # Check if the first digit is '0' and the second character is not '.'\n",
    "    if value_str[0] == '0' and (len(value_str) == 1 or value_str[1] != '.'):\n",
    "        value_str = '0.' + value_str[1:]\n",
    "\n",
    "    # If the original value was a number, return as a float; otherwise, return as a string\n",
    "    if isinstance(value, (int, float)):\n",
    "        return float(value_str)\n",
    "    return value_str\n",
    "\n",
    "string_value = \"05\"\n",
    "number_value = 5\n",
    "\n",
    "result_string = add_dot_if_needed(string_value)\n",
    "result_number = add_dot_if_needed(number_value)\n",
    "\n",
    "print(\"Result from string:\", result_string)  # Output: \"0.5\"\n",
    "print(\"Result from number:\", result_number)  # Output: 0.5\n"
   ]
  }
 ],
 "metadata": {
  "kernelspec": {
   "display_name": "pytorch-cude-env",
   "language": "python",
   "name": "pytorch-cude-env"
  },
  "language_info": {
   "codemirror_mode": {
    "name": "ipython",
    "version": 3
   },
   "file_extension": ".py",
   "mimetype": "text/x-python",
   "name": "python",
   "nbconvert_exporter": "python",
   "pygments_lexer": "ipython3",
   "version": "3.11.4"
  }
 },
 "nbformat": 4,
 "nbformat_minor": 5
}
