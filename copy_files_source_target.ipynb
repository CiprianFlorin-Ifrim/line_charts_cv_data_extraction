{
 "cells": [
  {
   "cell_type": "code",
   "execution_count": 6,
   "id": "40e1b536",
   "metadata": {},
   "outputs": [
    {
     "name": "stderr",
     "output_type": "stream",
     "text": [
      "Copying files: 100%|████████████████████| 144888/144888 [00:39<00:00, 3634.49file/s]\n"
     ]
    }
   ],
   "source": [
    "import shutil\n",
    "import os\n",
    "from tqdm import tqdm\n",
    "from joblib import Parallel, delayed\n",
    "\n",
    "def copy_file(src_filepath, dest_folder):\n",
    "    # Copy a single file to the destination folder\n",
    "    shutil.copy2(src_filepath, dest_folder)\n",
    "    return 1\n",
    "\n",
    "def copy_files(src_folder, dest_folder):\n",
    "    # Checking if the source folder exists\n",
    "    if not os.path.exists(src_folder):\n",
    "        print(f\"The source folder {src_folder} does not exist.\")\n",
    "        return\n",
    "\n",
    "    # If destination folder does not exist, create it\n",
    "    if not os.path.exists(dest_folder):\n",
    "        os.makedirs(dest_folder)\n",
    "\n",
    "    # Get a list of all file paths in the source folder\n",
    "    files = [os.path.join(src_folder, f) for f in os.listdir(src_folder) if os.path.isfile(os.path.join(src_folder, f))]\n",
    "\n",
    "    # Create the tqdm progress bar\n",
    "    with tqdm(total=len(files), desc=\"Copying files\", unit=\"file\") as pbar:\n",
    "        # Parallelize the copy operation using joblib, then update the tqdm progress bar based on the results\n",
    "        for _ in Parallel(n_jobs=-1)(delayed(copy_file)(file, dest_folder) for file in files):\n",
    "            pbar.update()\n",
    "\n",
    "\n",
    "# main\n",
    "src_folder = 'pascal_voc_datasets/VOCdevkit/PlotsEnchanced_Original_NoAugmentation/Annotations'\n",
    "dest_folder = 'pascal_voc_datasets/VOCdevkit/PlotsEnchanced_Original_With-1X-Augmentation_no-rotation/Annotations'\n",
    "copy_files(src_folder, dest_folder)"
   ]
  }
 ],
 "metadata": {
  "kernelspec": {
   "display_name": "pytorch-cude-env",
   "language": "python",
   "name": "pytorch-cude-env"
  },
  "language_info": {
   "codemirror_mode": {
    "name": "ipython",
    "version": 3
   },
   "file_extension": ".py",
   "mimetype": "text/x-python",
   "name": "python",
   "nbconvert_exporter": "python",
   "pygments_lexer": "ipython3",
   "version": "3.11.4"
  }
 },
 "nbformat": 4,
 "nbformat_minor": 5
}
