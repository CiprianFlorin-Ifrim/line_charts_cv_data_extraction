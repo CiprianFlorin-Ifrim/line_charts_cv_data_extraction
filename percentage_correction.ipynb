{
 "cells": [
  {
   "cell_type": "code",
   "execution_count": 17,
   "id": "61bed8ec",
   "metadata": {},
   "outputs": [
    {
     "name": "stdout",
     "output_type": "stream",
     "text": [
      "-43.4S\n",
      "-43.45\n",
      "-43.45\n"
     ]
    }
   ],
   "source": [
    "import re\n",
    "def extract_percentage(string):\n",
    "    # Find the percentage pattern in the string\n",
    "    match = re.search(r'([-+].+?)\\s*%', string)\n",
    "    if match:\n",
    "        return match.group(1)\n",
    "    return None\n",
    "\n",
    "\n",
    "def correct_misidentifications(text):\n",
    "    corrections = {\n",
    "        'O': '0',\n",
    "        'G': '6',\n",
    "        'B': '8',\n",
    "        'I': '1',\n",
    "        'S': '5',\n",
    "        'Z': '2',\n",
    "        'Q': '0',\n",
    "        'T': '7',\n",
    "        'L': '1',\n",
    "        'A': '4'\n",
    "    }\n",
    "    \n",
    "    corrected_text = text\n",
    "    for char, replacement in corrections.items():\n",
    "        corrected_text = corrected_text.replace(char, replacement)\n",
    "    \n",
    "    corrected_text = re.sub(r'[^\\d.%-]+', '', corrected_text)  # Keep only numeric characters, decimal points, '%' and '-'\n",
    "    return corrected_text\n",
    "\n",
    "def correct_decimal_point(value):\n",
    "    value_str = str(value)\n",
    "\n",
    "    # Check if the first digit is '0' and the second character is not '.'\n",
    "    if value_str[0] == '0' and (len(value_str) == 1 or value_str[1] != '.'):\n",
    "        value_str = '0.' + value_str[1:]\n",
    "\n",
    "    # If the original value was a number, return as a float; otherwise, return as a string\n",
    "    if isinstance(value, (int, float)):\n",
    "        return float(value_str)\n",
    "    return value_str\n",
    "\n",
    "def remove_last_if_not_digit(s):\n",
    "    if s and not s[-1].isdigit():\n",
    "        return s[:-1]\n",
    "    return s\n",
    "\n",
    "string = \"S0.04254 USD -43.4S%,(6M)\"\n",
    "string_corrected = extract_percentage(string)\n",
    "print(string_corrected)\n",
    "try:\n",
    "    string_corrected = correct_misidentifications(string_corrected)\n",
    "    print(string_corrected)\n",
    "except: \n",
    "    string_corrected = remove_last_if_not_digit(string_corrected)\n",
    "    print(string_corrected)\n",
    "\n",
    "string_corrected = correct_decimal_point(string_corrected)\n",
    "print(string_corrected)"
   ]
  },
  {
   "cell_type": "code",
   "execution_count": null,
   "id": "745e47ac",
   "metadata": {},
   "outputs": [],
   "source": []
  }
 ],
 "metadata": {
  "kernelspec": {
   "display_name": "pytorch-cude-env",
   "language": "python",
   "name": "pytorch-cude-env"
  },
  "language_info": {
   "codemirror_mode": {
    "name": "ipython",
    "version": 3
   },
   "file_extension": ".py",
   "mimetype": "text/x-python",
   "name": "python",
   "nbconvert_exporter": "python",
   "pygments_lexer": "ipython3",
   "version": "3.11.4"
  }
 },
 "nbformat": 4,
 "nbformat_minor": 5
}
