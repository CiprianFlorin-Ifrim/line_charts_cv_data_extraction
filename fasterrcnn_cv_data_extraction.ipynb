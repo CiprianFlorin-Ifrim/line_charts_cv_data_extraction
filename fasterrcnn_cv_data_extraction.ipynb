{
 "cells": [
  {
   "cell_type": "code",
   "execution_count": 1,
   "id": "fd710cc9",
   "metadata": {},
   "outputs": [
    {
     "name": "stderr",
     "output_type": "stream",
     "text": [
      "C:\\Users\\Ciprian-Florin Ifrim\\AppData\\Local\\Temp\\ipykernel_13628\\1770188872.py:50: DeprecationWarning: Importing display from IPython.core.display is deprecated since IPython 7.14, please import from IPython display\n",
      "  from IPython.core.display import display, HTML\n"
     ]
    },
    {
     "data": {
      "text/html": [
       "<style>.container { width:100% !important; }</style>"
      ],
      "text/plain": [
       "<IPython.core.display.HTML object>"
      ]
     },
     "metadata": {},
     "output_type": "display_data"
    }
   ],
   "source": [
    "#---------------------------------------------------------------------------------------------GENERAL-----------------------------------------------------------------------------------------------\n",
    "import torch\n",
    "import torchvision\n",
    "from torchvision.models.detection.faster_rcnn import FastRCNNPredictor\n",
    "from torchvision.datasets import VOCDetection\n",
    "from torchvision.transforms import ToTensor\n",
    "from torch.utils.data import DataLoader\n",
    "from tqdm import tqdm\n",
    "import matplotlib.pyplot as plt\n",
    "import seaborn as sns\n",
    "from torchvision.transforms import Compose, Resize, ToTensor\n",
    "from torch.utils.data import DataLoader\n",
    "from torch.nn.utils.rnn import pad_sequence\n",
    "import torch.multiprocessing as mp\n",
    "from torchvision.transforms import functional as F\n",
    "from torchvision.models.detection.faster_rcnn import FasterRCNN_ResNet50_FPN_Weights\n",
    "from torch.cuda.amp import autocast, GradScaler\n",
    "from sklearn.metrics import average_precision_score\n",
    "from sklearn.metrics import precision_recall_fscore_support\n",
    "from pycocotools.coco import COCO\n",
    "from pycocotools.cocoeval import COCOeval\n",
    "from typing import Dict\n",
    "import numpy as np\n",
    "from torch.utils.data import Dataset\n",
    "import os\n",
    "from PIL import Image\n",
    "import xml.etree.ElementTree as ET\n",
    "import collections\n",
    "from torchvision import transforms\n",
    "import pandas as pd\n",
    "import matplotlib.pyplot as plt\n",
    "import matplotlib.patches as patches\n",
    "import torch.nn as nn\n",
    "import torchviz\n",
    "from torchsummary import summary\n",
    "import pytesseract\n",
    "import re\n",
    "import cv2  \n",
    "import easyocr\n",
    "import keras_ocr\n",
    "import math\n",
    "from datetime import datetime\n",
    "from collections import defaultdict\n",
    "\n",
    "\n",
    "# Specify Tesseract path (example for Windows)\n",
    "pytesseract.pytesseract.tesseract_cmd = r'C:\\Program Files\\Tesseract-OCR\\tesseract.exe'\n",
    "\n",
    "#-------------------------------------------------------------------------------------JUPYTER NOTEBOOK SETTINGS-------------------------------------------------------------------------------------\n",
    "from IPython.core.display import display, HTML                                    \n",
    "display(HTML(\"<style>.container { width:100% !important; }</style>\"))     "
   ]
  },
  {
   "cell_type": "code",
   "execution_count": 2,
   "id": "02567068",
   "metadata": {},
   "outputs": [
    {
     "data": {
      "text/plain": [
       "FasterRCNN(\n",
       "  (transform): GeneralizedRCNNTransform(\n",
       "      Normalize(mean=[0.485, 0.456, 0.406], std=[0.229, 0.224, 0.225])\n",
       "      Resize(min_size=(800,), max_size=1333, mode='bilinear')\n",
       "  )\n",
       "  (backbone): BackboneWithFPN(\n",
       "    (body): IntermediateLayerGetter(\n",
       "      (conv1): Conv2d(3, 64, kernel_size=(7, 7), stride=(2, 2), padding=(3, 3), bias=False)\n",
       "      (bn1): FrozenBatchNorm2d(64, eps=0.0)\n",
       "      (relu): ReLU(inplace=True)\n",
       "      (maxpool): MaxPool2d(kernel_size=3, stride=2, padding=1, dilation=1, ceil_mode=False)\n",
       "      (layer1): Sequential(\n",
       "        (0): Bottleneck(\n",
       "          (conv1): Conv2d(64, 64, kernel_size=(1, 1), stride=(1, 1), bias=False)\n",
       "          (bn1): FrozenBatchNorm2d(64, eps=0.0)\n",
       "          (conv2): Conv2d(64, 64, kernel_size=(3, 3), stride=(1, 1), padding=(1, 1), bias=False)\n",
       "          (bn2): FrozenBatchNorm2d(64, eps=0.0)\n",
       "          (conv3): Conv2d(64, 256, kernel_size=(1, 1), stride=(1, 1), bias=False)\n",
       "          (bn3): FrozenBatchNorm2d(256, eps=0.0)\n",
       "          (relu): ReLU(inplace=True)\n",
       "          (downsample): Sequential(\n",
       "            (0): Conv2d(64, 256, kernel_size=(1, 1), stride=(1, 1), bias=False)\n",
       "            (1): FrozenBatchNorm2d(256, eps=0.0)\n",
       "          )\n",
       "        )\n",
       "        (1): Bottleneck(\n",
       "          (conv1): Conv2d(256, 64, kernel_size=(1, 1), stride=(1, 1), bias=False)\n",
       "          (bn1): FrozenBatchNorm2d(64, eps=0.0)\n",
       "          (conv2): Conv2d(64, 64, kernel_size=(3, 3), stride=(1, 1), padding=(1, 1), bias=False)\n",
       "          (bn2): FrozenBatchNorm2d(64, eps=0.0)\n",
       "          (conv3): Conv2d(64, 256, kernel_size=(1, 1), stride=(1, 1), bias=False)\n",
       "          (bn3): FrozenBatchNorm2d(256, eps=0.0)\n",
       "          (relu): ReLU(inplace=True)\n",
       "        )\n",
       "        (2): Bottleneck(\n",
       "          (conv1): Conv2d(256, 64, kernel_size=(1, 1), stride=(1, 1), bias=False)\n",
       "          (bn1): FrozenBatchNorm2d(64, eps=0.0)\n",
       "          (conv2): Conv2d(64, 64, kernel_size=(3, 3), stride=(1, 1), padding=(1, 1), bias=False)\n",
       "          (bn2): FrozenBatchNorm2d(64, eps=0.0)\n",
       "          (conv3): Conv2d(64, 256, kernel_size=(1, 1), stride=(1, 1), bias=False)\n",
       "          (bn3): FrozenBatchNorm2d(256, eps=0.0)\n",
       "          (relu): ReLU(inplace=True)\n",
       "        )\n",
       "      )\n",
       "      (layer2): Sequential(\n",
       "        (0): Bottleneck(\n",
       "          (conv1): Conv2d(256, 128, kernel_size=(1, 1), stride=(1, 1), bias=False)\n",
       "          (bn1): FrozenBatchNorm2d(128, eps=0.0)\n",
       "          (conv2): Conv2d(128, 128, kernel_size=(3, 3), stride=(2, 2), padding=(1, 1), bias=False)\n",
       "          (bn2): FrozenBatchNorm2d(128, eps=0.0)\n",
       "          (conv3): Conv2d(128, 512, kernel_size=(1, 1), stride=(1, 1), bias=False)\n",
       "          (bn3): FrozenBatchNorm2d(512, eps=0.0)\n",
       "          (relu): ReLU(inplace=True)\n",
       "          (downsample): Sequential(\n",
       "            (0): Conv2d(256, 512, kernel_size=(1, 1), stride=(2, 2), bias=False)\n",
       "            (1): FrozenBatchNorm2d(512, eps=0.0)\n",
       "          )\n",
       "        )\n",
       "        (1): Bottleneck(\n",
       "          (conv1): Conv2d(512, 128, kernel_size=(1, 1), stride=(1, 1), bias=False)\n",
       "          (bn1): FrozenBatchNorm2d(128, eps=0.0)\n",
       "          (conv2): Conv2d(128, 128, kernel_size=(3, 3), stride=(1, 1), padding=(1, 1), bias=False)\n",
       "          (bn2): FrozenBatchNorm2d(128, eps=0.0)\n",
       "          (conv3): Conv2d(128, 512, kernel_size=(1, 1), stride=(1, 1), bias=False)\n",
       "          (bn3): FrozenBatchNorm2d(512, eps=0.0)\n",
       "          (relu): ReLU(inplace=True)\n",
       "        )\n",
       "        (2): Bottleneck(\n",
       "          (conv1): Conv2d(512, 128, kernel_size=(1, 1), stride=(1, 1), bias=False)\n",
       "          (bn1): FrozenBatchNorm2d(128, eps=0.0)\n",
       "          (conv2): Conv2d(128, 128, kernel_size=(3, 3), stride=(1, 1), padding=(1, 1), bias=False)\n",
       "          (bn2): FrozenBatchNorm2d(128, eps=0.0)\n",
       "          (conv3): Conv2d(128, 512, kernel_size=(1, 1), stride=(1, 1), bias=False)\n",
       "          (bn3): FrozenBatchNorm2d(512, eps=0.0)\n",
       "          (relu): ReLU(inplace=True)\n",
       "        )\n",
       "        (3): Bottleneck(\n",
       "          (conv1): Conv2d(512, 128, kernel_size=(1, 1), stride=(1, 1), bias=False)\n",
       "          (bn1): FrozenBatchNorm2d(128, eps=0.0)\n",
       "          (conv2): Conv2d(128, 128, kernel_size=(3, 3), stride=(1, 1), padding=(1, 1), bias=False)\n",
       "          (bn2): FrozenBatchNorm2d(128, eps=0.0)\n",
       "          (conv3): Conv2d(128, 512, kernel_size=(1, 1), stride=(1, 1), bias=False)\n",
       "          (bn3): FrozenBatchNorm2d(512, eps=0.0)\n",
       "          (relu): ReLU(inplace=True)\n",
       "        )\n",
       "      )\n",
       "      (layer3): Sequential(\n",
       "        (0): Bottleneck(\n",
       "          (conv1): Conv2d(512, 256, kernel_size=(1, 1), stride=(1, 1), bias=False)\n",
       "          (bn1): FrozenBatchNorm2d(256, eps=0.0)\n",
       "          (conv2): Conv2d(256, 256, kernel_size=(3, 3), stride=(2, 2), padding=(1, 1), bias=False)\n",
       "          (bn2): FrozenBatchNorm2d(256, eps=0.0)\n",
       "          (conv3): Conv2d(256, 1024, kernel_size=(1, 1), stride=(1, 1), bias=False)\n",
       "          (bn3): FrozenBatchNorm2d(1024, eps=0.0)\n",
       "          (relu): ReLU(inplace=True)\n",
       "          (downsample): Sequential(\n",
       "            (0): Conv2d(512, 1024, kernel_size=(1, 1), stride=(2, 2), bias=False)\n",
       "            (1): FrozenBatchNorm2d(1024, eps=0.0)\n",
       "          )\n",
       "        )\n",
       "        (1): Bottleneck(\n",
       "          (conv1): Conv2d(1024, 256, kernel_size=(1, 1), stride=(1, 1), bias=False)\n",
       "          (bn1): FrozenBatchNorm2d(256, eps=0.0)\n",
       "          (conv2): Conv2d(256, 256, kernel_size=(3, 3), stride=(1, 1), padding=(1, 1), bias=False)\n",
       "          (bn2): FrozenBatchNorm2d(256, eps=0.0)\n",
       "          (conv3): Conv2d(256, 1024, kernel_size=(1, 1), stride=(1, 1), bias=False)\n",
       "          (bn3): FrozenBatchNorm2d(1024, eps=0.0)\n",
       "          (relu): ReLU(inplace=True)\n",
       "        )\n",
       "        (2): Bottleneck(\n",
       "          (conv1): Conv2d(1024, 256, kernel_size=(1, 1), stride=(1, 1), bias=False)\n",
       "          (bn1): FrozenBatchNorm2d(256, eps=0.0)\n",
       "          (conv2): Conv2d(256, 256, kernel_size=(3, 3), stride=(1, 1), padding=(1, 1), bias=False)\n",
       "          (bn2): FrozenBatchNorm2d(256, eps=0.0)\n",
       "          (conv3): Conv2d(256, 1024, kernel_size=(1, 1), stride=(1, 1), bias=False)\n",
       "          (bn3): FrozenBatchNorm2d(1024, eps=0.0)\n",
       "          (relu): ReLU(inplace=True)\n",
       "        )\n",
       "        (3): Bottleneck(\n",
       "          (conv1): Conv2d(1024, 256, kernel_size=(1, 1), stride=(1, 1), bias=False)\n",
       "          (bn1): FrozenBatchNorm2d(256, eps=0.0)\n",
       "          (conv2): Conv2d(256, 256, kernel_size=(3, 3), stride=(1, 1), padding=(1, 1), bias=False)\n",
       "          (bn2): FrozenBatchNorm2d(256, eps=0.0)\n",
       "          (conv3): Conv2d(256, 1024, kernel_size=(1, 1), stride=(1, 1), bias=False)\n",
       "          (bn3): FrozenBatchNorm2d(1024, eps=0.0)\n",
       "          (relu): ReLU(inplace=True)\n",
       "        )\n",
       "        (4): Bottleneck(\n",
       "          (conv1): Conv2d(1024, 256, kernel_size=(1, 1), stride=(1, 1), bias=False)\n",
       "          (bn1): FrozenBatchNorm2d(256, eps=0.0)\n",
       "          (conv2): Conv2d(256, 256, kernel_size=(3, 3), stride=(1, 1), padding=(1, 1), bias=False)\n",
       "          (bn2): FrozenBatchNorm2d(256, eps=0.0)\n",
       "          (conv3): Conv2d(256, 1024, kernel_size=(1, 1), stride=(1, 1), bias=False)\n",
       "          (bn3): FrozenBatchNorm2d(1024, eps=0.0)\n",
       "          (relu): ReLU(inplace=True)\n",
       "        )\n",
       "        (5): Bottleneck(\n",
       "          (conv1): Conv2d(1024, 256, kernel_size=(1, 1), stride=(1, 1), bias=False)\n",
       "          (bn1): FrozenBatchNorm2d(256, eps=0.0)\n",
       "          (conv2): Conv2d(256, 256, kernel_size=(3, 3), stride=(1, 1), padding=(1, 1), bias=False)\n",
       "          (bn2): FrozenBatchNorm2d(256, eps=0.0)\n",
       "          (conv3): Conv2d(256, 1024, kernel_size=(1, 1), stride=(1, 1), bias=False)\n",
       "          (bn3): FrozenBatchNorm2d(1024, eps=0.0)\n",
       "          (relu): ReLU(inplace=True)\n",
       "        )\n",
       "      )\n",
       "      (layer4): Sequential(\n",
       "        (0): Bottleneck(\n",
       "          (conv1): Conv2d(1024, 512, kernel_size=(1, 1), stride=(1, 1), bias=False)\n",
       "          (bn1): FrozenBatchNorm2d(512, eps=0.0)\n",
       "          (conv2): Conv2d(512, 512, kernel_size=(3, 3), stride=(2, 2), padding=(1, 1), bias=False)\n",
       "          (bn2): FrozenBatchNorm2d(512, eps=0.0)\n",
       "          (conv3): Conv2d(512, 2048, kernel_size=(1, 1), stride=(1, 1), bias=False)\n",
       "          (bn3): FrozenBatchNorm2d(2048, eps=0.0)\n",
       "          (relu): ReLU(inplace=True)\n",
       "          (downsample): Sequential(\n",
       "            (0): Conv2d(1024, 2048, kernel_size=(1, 1), stride=(2, 2), bias=False)\n",
       "            (1): FrozenBatchNorm2d(2048, eps=0.0)\n",
       "          )\n",
       "        )\n",
       "        (1): Bottleneck(\n",
       "          (conv1): Conv2d(2048, 512, kernel_size=(1, 1), stride=(1, 1), bias=False)\n",
       "          (bn1): FrozenBatchNorm2d(512, eps=0.0)\n",
       "          (conv2): Conv2d(512, 512, kernel_size=(3, 3), stride=(1, 1), padding=(1, 1), bias=False)\n",
       "          (bn2): FrozenBatchNorm2d(512, eps=0.0)\n",
       "          (conv3): Conv2d(512, 2048, kernel_size=(1, 1), stride=(1, 1), bias=False)\n",
       "          (bn3): FrozenBatchNorm2d(2048, eps=0.0)\n",
       "          (relu): ReLU(inplace=True)\n",
       "        )\n",
       "        (2): Bottleneck(\n",
       "          (conv1): Conv2d(2048, 512, kernel_size=(1, 1), stride=(1, 1), bias=False)\n",
       "          (bn1): FrozenBatchNorm2d(512, eps=0.0)\n",
       "          (conv2): Conv2d(512, 512, kernel_size=(3, 3), stride=(1, 1), padding=(1, 1), bias=False)\n",
       "          (bn2): FrozenBatchNorm2d(512, eps=0.0)\n",
       "          (conv3): Conv2d(512, 2048, kernel_size=(1, 1), stride=(1, 1), bias=False)\n",
       "          (bn3): FrozenBatchNorm2d(2048, eps=0.0)\n",
       "          (relu): ReLU(inplace=True)\n",
       "        )\n",
       "      )\n",
       "    )\n",
       "    (fpn): FeaturePyramidNetwork(\n",
       "      (inner_blocks): ModuleList(\n",
       "        (0): Conv2dNormActivation(\n",
       "          (0): Conv2d(256, 256, kernel_size=(1, 1), stride=(1, 1))\n",
       "        )\n",
       "        (1): Conv2dNormActivation(\n",
       "          (0): Conv2d(512, 256, kernel_size=(1, 1), stride=(1, 1))\n",
       "        )\n",
       "        (2): Conv2dNormActivation(\n",
       "          (0): Conv2d(1024, 256, kernel_size=(1, 1), stride=(1, 1))\n",
       "        )\n",
       "        (3): Conv2dNormActivation(\n",
       "          (0): Conv2d(2048, 256, kernel_size=(1, 1), stride=(1, 1))\n",
       "        )\n",
       "      )\n",
       "      (layer_blocks): ModuleList(\n",
       "        (0-3): 4 x Conv2dNormActivation(\n",
       "          (0): Conv2d(256, 256, kernel_size=(3, 3), stride=(1, 1), padding=(1, 1))\n",
       "        )\n",
       "      )\n",
       "      (extra_blocks): LastLevelMaxPool()\n",
       "    )\n",
       "  )\n",
       "  (rpn): RegionProposalNetwork(\n",
       "    (anchor_generator): AnchorGenerator()\n",
       "    (head): RPNHead(\n",
       "      (conv): Sequential(\n",
       "        (0): Conv2dNormActivation(\n",
       "          (0): Conv2d(256, 256, kernel_size=(3, 3), stride=(1, 1), padding=(1, 1))\n",
       "          (1): ReLU(inplace=True)\n",
       "        )\n",
       "      )\n",
       "      (cls_logits): Conv2d(256, 3, kernel_size=(1, 1), stride=(1, 1))\n",
       "      (bbox_pred): Conv2d(256, 12, kernel_size=(1, 1), stride=(1, 1))\n",
       "    )\n",
       "  )\n",
       "  (roi_heads): RoIHeads(\n",
       "    (box_roi_pool): MultiScaleRoIAlign(featmap_names=['0', '1', '2', '3'], output_size=(7, 7), sampling_ratio=2)\n",
       "    (box_head): TwoMLPHead(\n",
       "      (fc6): Linear(in_features=12544, out_features=1024, bias=True)\n",
       "      (fc7): Linear(in_features=1024, out_features=1024, bias=True)\n",
       "    )\n",
       "    (box_predictor): FastRCNNPredictor(\n",
       "      (cls_score): Linear(in_features=1024, out_features=6, bias=True)\n",
       "      (bbox_pred): Linear(in_features=1024, out_features=24, bias=True)\n",
       "    )\n",
       "  )\n",
       ")"
      ]
     },
     "execution_count": 2,
     "metadata": {},
     "output_type": "execute_result"
    }
   ],
   "source": [
    "# Load the pretrained model\n",
    "model = torchvision.models.detection.fasterrcnn_resnet50_fpn(weights=FasterRCNN_ResNet50_FPN_Weights.DEFAULT)\n",
    "\n",
    "# Replace the classifier with a new one\n",
    "num_classes = 6\n",
    "in_features = model.roi_heads.box_predictor.cls_score.in_features\n",
    "\n",
    "model.roi_heads.box_predictor = FastRCNNPredictor(in_features, num_classes)\n",
    "\n",
    "# Put model to device\n",
    "device = torch.device('cuda')\n",
    "model.to(device)\n",
    "\n",
    "# Load saved model\n",
    "model.load_state_dict(torch.load('pytorch_rcnn_models/FINAL-v2_rcnn_batch-16_epoch-40_full-enchanced-original_non-augmented.pt'))\n",
    "model.eval()"
   ]
  },
  {
   "cell_type": "code",
   "execution_count": 3,
   "id": "ebcac823",
   "metadata": {},
   "outputs": [],
   "source": [
    "# Data processing\n",
    "data_transforms = transforms.Compose([\n",
    "    transforms.Resize(512),                                            \n",
    "    transforms.ToTensor(), \n",
    "    transforms.Normalize(mean=[0.485, 0.456, 0.406], std=[0.229, 0.224, 0.225])\n",
    "])"
   ]
  },
  {
   "cell_type": "code",
   "execution_count": null,
   "id": "7bd33b62",
   "metadata": {},
   "outputs": [],
   "source": [
    "img_id = input(\"Please enter a number: \")\n",
    "image_path = 'pascal_voc_datasets/VOCdevkit/PlotsEnchanced_Original_NoAugmentation/JPEGImages/'\n",
    "img_name = 'image'+ img_id \n",
    "CUSTOM_CLASSES = {\"name\": 1, \"value\": 2, \"x-axis\": 3, \"y-axis\": 4, \"plot\":5}\n",
    "\n",
    "img = Image.open(image_path + img_name + '.jpg')\n",
    "orig_width, orig_height = img.size                                   # Store the original image dimensions\n",
    "\n",
    "# Process the image\n",
    "img_processed = data_transforms(img)\n",
    "\n",
    "# Calculate the scale ratios\n",
    "new_width, new_height = img_processed.shape[1], img_processed.shape[2]\n",
    "\n",
    "# Calculate the scale ratios\n",
    "if orig_width <= orig_height:\n",
    "    new_height = 512\n",
    "    new_width = int(orig_width * (new_height / orig_height))\n",
    "else:\n",
    "    new_width = 512\n",
    "    new_height = int(orig_height * (new_width / orig_width))\n",
    "    \n",
    "width_ratio = new_width / orig_width\n",
    "height_ratio = new_height / orig_height\n",
    "\n",
    "img_processed = img_processed.to(device)\n",
    "with torch.no_grad():\n",
    "    prediction = model([img_processed])\n",
    "\n",
    "# Scale bounding boxes back to original image size\n",
    "for box in prediction[0]['boxes']:\n",
    "    box[0] *= (1 / width_ratio)\n",
    "    box[2] *= (1 / width_ratio)\n",
    "    box[1] *= (1 / height_ratio)\n",
    "    box[3] *= (1 / height_ratio)\n",
    "\n",
    "# Debugging\n",
    "#print(prediction[0]['boxes'])\n",
    "print(prediction[0]['scores'])\n",
    "\n",
    "\n",
    "results = {}                                 # Dictionary to store the results\n",
    "yaxis_coordinates = []                       # Initialize a list to store the Y coordinates\n",
    "label5_image = None                          # Variable to store the cropped image for label 5\n",
    "y_axis_image = None\n",
    "\n",
    "reader = easyocr.Reader(lang_list=['en'])       # Create a reader to recognize the English language\n",
    "\n",
    "for box, label, score in zip(prediction[0]['boxes'], prediction[0]['labels'], prediction[0]['scores']):\n",
    "    if label >= 1 and label <= 4 and score > 0.6:                                                 # Check if the score is above 0.7 and label is between 1 and 4\n",
    "        xmin, ymin, xmax, ymax = [int(i) for i in box]                                            # Convert box coordinates to integers\n",
    "        cropped_image = img.crop((xmin, ymin, xmax, ymax))                                        # Crop the image          \n",
    "        bw_img = cropped_image.convert(\"L\")                                                       # Convert the cropped image to grayscale (black and white)\n",
    "        bw_img_array = np.array(bw_img)\n",
    "\n",
    "        # Resize the image (e.g., double the size)\n",
    "        resized_img = cv2.resize(bw_img_array, (0,0), fx=10, fy=10, interpolation = cv2.INTER_CUBIC)\n",
    "\n",
    "        # Contrast Enhancement\n",
    "        clahe = cv2.createCLAHE(clipLimit=4, tileGridSize=(16, 16))\n",
    "        enhanced_img = clahe.apply(resized_img)\n",
    "\n",
    "        # Apply Otsu's thresholding\n",
    "        _, thresh_img = cv2.threshold(enhanced_img, 0, 255, cv2.THRESH_BINARY + cv2.THRESH_OTSU)\n",
    "        \n",
    "        plt.figure(figsize=(10, 10))\n",
    "        plt.imshow(thresh_img, cmap='gray')\n",
    "        plt.title('thresh_img')\n",
    "        plt.axis('off')  # To turn off the axis\n",
    "        plt.show()\n",
    "        \n",
    "        if label == CUSTOM_CLASSES[\"y-axis\"]:\n",
    "            y_axis_image = cropped_image\n",
    "            \n",
    "            result = reader.readtext(thresh_img)\n",
    "            text_results = [item[1] for item in result]                            # Extract only the text\n",
    "            text_found = ','.join(text_results)\n",
    "            \n",
    "            for (bbox, text, prob) in result:\n",
    "                bottom_y1 = bbox[1][1]  # Get the y-coordinate of one of the bottom points\n",
    "                bottom_y2 = bbox[2][1]  # Get the y-coordinate of the other bottom point\n",
    "                #print(bottom_y1, bottom_y2)\n",
    "                average_y = (bottom_y1 + bottom_y2) / 2  # Calculate the average y-coordinate\n",
    "                quarter_y = (bottom_y2 + average_y) / 2\n",
    "                yaxis_coordinates.append(int(quarter_y / 10))  # Add the average y-coordinate for each text box available (divide by the upscale factor)\n",
    "        else:\n",
    "            result = reader.readtext(thresh_img, detail = 0)      \n",
    "            text_found = ','.join(result)\n",
    "            text_found = re.sub('\\n+', ',', text_found)                                           # Replace one or more consecutive newline characters with a single comma\n",
    "            \n",
    "                                                                  \n",
    "        label_name = [name for name, id in CUSTOM_CLASSES.items() if id == label][0]              # Find the label name using the CUSTOM_CLASSES dictionary\n",
    "        results[label_name] = text_found                                                          # Store the result in the dictionary\n",
    "        \n",
    "    elif label == 5 and score > 0.7:                                                              # Check if the label is 5 and the score is above 0.7\n",
    "        xmin, ymin, xmax, ymax = [int(i) for i in box]                                            # Convert box coordinates to integers\n",
    "        label5_image = img.crop((xmin, ymin, xmax, ymax))                                         # Crop the image for label 5\n",
    "\n",
    "# The results dictionary now contains the extracted text for labels 1 to 4\n",
    "print(results)\n",
    "\n",
    "#############################################################################################################################\n",
    "plt.imshow(label5_image)\n",
    "plt.title(\"original plot\")\n",
    "plt.axis('off')\n",
    "plt.show()\n",
    "    \n",
    "# Plot processing\n",
    "bw_label5_img = label5_image.convert(\"L\")                                                       # Convert the cropped image to grayscale (black and white)\n",
    "bw_label5_img_array = np.array(bw_label5_img)\n",
    "\n",
    "# Apply Gaussian blur to reduce noise and improve the result of Canny edge detection\n",
    "blurred_label5_img = cv2.GaussianBlur(bw_label5_img_array, (3, 3), 0)\n",
    "\n",
    "# First, apply a binary threshold on the image\n",
    "thresh_label5_img = cv2.adaptiveThreshold(blurred_label5_img, 255, cv2.ADAPTIVE_THRESH_MEAN_C, cv2.THRESH_BINARY, 11, 2)\n",
    "inverted_label5_img = cv2.bitwise_not(thresh_label5_img)\n",
    "\n",
    "# Define a kernel for the erosion (a 3x3 square is common)\n",
    "kernel = np.ones((2,2), np.uint8)\n",
    "closed_label5_img = cv2.morphologyEx(inverted_label5_img, cv2.MORPH_CLOSE, kernel)\n",
    "\n",
    "plt.imshow(closed_label5_img, cmap='gray')\n",
    "plt.title('Postprocessed Image')\n",
    "plt.axis('off')\n",
    "plt.show()\n",
    "\n",
    "######################################################################################################################\n",
    "def filter_coordinates(pixel_coordinates, threshold=100):\n",
    "    horizontal_lines = {}\n",
    "    vertical_lines = {}\n",
    "\n",
    "    # Check the shape of the input and reshape if needed\n",
    "    if pixel_coordinates.shape[1] == 1 and pixel_coordinates.shape[2] == 2:\n",
    "        pixel_coordinates = pixel_coordinates.reshape(-1, 2)\n",
    "\n",
    "    # Separate coordinates into horizontal and vertical lines\n",
    "    for coord in pixel_coordinates:\n",
    "        x, y = int(coord[0]), int(coord[1])\n",
    "        if y not in horizontal_lines:\n",
    "            horizontal_lines[y] = []\n",
    "        if x not in vertical_lines:\n",
    "            vertical_lines[x] = []\n",
    "        horizontal_lines[y].append(x)\n",
    "        vertical_lines[x].append(y)\n",
    "\n",
    "    # Filter horizontal lines longer than the threshold\n",
    "    for y, x_values in horizontal_lines.items():\n",
    "        if len(x_values) > threshold:\n",
    "            pixel_coordinates = pixel_coordinates[np.logical_not(np.isin(pixel_coordinates[:, 0], x_values)), :]\n",
    "\n",
    "    # Filter vertical lines longer than the threshold\n",
    "    for x, y_values in vertical_lines.items():\n",
    "        if len(y_values) > threshold:\n",
    "            pixel_coordinates = pixel_coordinates[np.logical_not(np.isin(pixel_coordinates[:, 1], y_values)), :]\n",
    "\n",
    "    return pixel_coordinates\n",
    "\n",
    "def remove_corner_pixels(coordinates, width, height):\n",
    "    # Define a function to count pixels near corners\n",
    "    def count_corner_pixels(coordinates, distance):\n",
    "        count = 0\n",
    "        for coord in coordinates:\n",
    "            x, y = coord[0], coord[1]\n",
    "            if ((x < distance or x >= width - distance) and (y < distance or y >= height - distance)):\n",
    "                count += 1\n",
    "        return count\n",
    "\n",
    "    # Start with an initial distance\n",
    "    distance = 10\n",
    "    corner_pixels_count = count_corner_pixels(coordinates, distance)\n",
    "\n",
    "    # Adjust the distance based on the count of pixels near corners\n",
    "    if corner_pixels_count != 0:\n",
    "        distance = 100 / corner_pixels_count\n",
    "\n",
    "    filtered_coords = []\n",
    "    for coord in coordinates:\n",
    "        x, y = coord[0], coord[1]\n",
    "        # Check if the pixel is in or within the calculated distance of the corners\n",
    "        if ((x < distance or x >= width - distance) and (y < distance or y >= height - distance)):\n",
    "            continue\n",
    "        filtered_coords.append(coord)\n",
    "        \n",
    "    return np.array(filtered_coords)\n",
    "\n",
    "def draw_pixels(image, coordinates, color=255, thickness=1):\n",
    "    for coord in coordinates:\n",
    "        x, y = int(coord[0]), int(coord[1])\n",
    "        image[max(y - thickness, 0):min(y + thickness + 1, image.shape[0]),\n",
    "              max(x - thickness, 0):min(x + thickness + 1, image.shape[1])] = color\n",
    "    return image\n",
    "\n",
    "# Find the contours\n",
    "contours, hierarchy = cv2.findContours(closed_label5_img, cv2.RETR_TREE, cv2.CHAIN_APPROX_SIMPLE)\n",
    "\n",
    "# Calculate the perimeter for each contour and find the index of the longest one\n",
    "max_length = 0\n",
    "longest_contour_index = 0\n",
    "for i, contour in enumerate(contours):\n",
    "    length = cv2.arcLength(contour, True) # The 'True' argument indicates that the contour is closed\n",
    "    if length > max_length:\n",
    "        max_length = length\n",
    "        longest_contour_index = i\n",
    "        \n",
    "# Extract the longest contour\n",
    "longest_contour = contours[longest_contour_index]\n",
    "        \n",
    "# Create a blank image to draw the longest contour\n",
    "output_image = np.zeros_like(closed_label5_img)\n",
    "\n",
    "# Draw the longest contour on the output image\n",
    "cv2.drawContours(output_image, [longest_contour], -1, (255, 255, 255), 2)\n",
    "\n",
    "# Show the image with the drawn contour using Matplotlib\n",
    "plt.imshow(output_image, cmap='gray')\n",
    "plt.title('Longest Contour')\n",
    "plt.axis('off')\n",
    "plt.show()\n",
    "\n",
    "output_image2 = np.zeros_like(closed_label5_img)\n",
    "height, width = output_image2.shape\n",
    "filtered_coordinates = filter_coordinates(longest_contour)\n",
    "filtered_coordinates = remove_corner_pixels(filtered_coordinates, width, height)\n",
    "\n",
    "output_image2 = draw_pixels(output_image2, filtered_coordinates)\n",
    "\n",
    "plt.imshow(output_image2, cmap='gray')\n",
    "plt.title('Longest Contour2')\n",
    "plt.axis('off')\n",
    "plt.show()\n",
    "\n",
    "# Finding the highest pixel (smallest y value)\n",
    "highest_pixel = filtered_coordinates[filtered_coordinates[:, 1].argmin()]\n",
    "\n",
    "# Finding the lowest pixel (largest y value)\n",
    "lowest_pixel = filtered_coordinates[filtered_coordinates[:, 1].argmax()]\n",
    "\n",
    "# Finding the rightmost pixel (largest x value), and among those, the one with the lowest y value\n",
    "right_most_pixels = filtered_coordinates[filtered_coordinates[:, 0] == filtered_coordinates[:, 0].max()]\n",
    "right_most_pixel = right_most_pixels[right_most_pixels[:, 1].argmin()]\n",
    "\n",
    "\n",
    "\n",
    "print(\"Highest pixel:\", highest_pixel)\n",
    "print(\"Lowest pixel:\", lowest_pixel)\n",
    "print(\"Rightmost pixel:\", right_most_pixel)\n",
    "\n",
    "new_pixels = [highest_pixel, lowest_pixel, right_most_pixel]\n",
    "output_image3 = np.zeros_like(closed_label5_img)\n",
    "output_image3 = draw_pixels(output_image3, new_pixels)\n",
    "\n",
    "plt.imshow(output_image3, cmap='gray')\n",
    "plt.title('Longest Contour2')\n",
    "plt.axis('off')\n",
    "plt.show()\n",
    "\n",
    "######################################################################################################################\n",
    "# this function finds the average difference between all the elements in a list, then adds a new element at the end\n",
    "# equal to the last element minus the average\n",
    "def calculate_new_list(lst):\n",
    "    # Calculate the differences between successive elements\n",
    "    differences = [lst[i] - lst[i + 1] for i in range(len(lst) - 1)]\n",
    "    \n",
    "    # Calculate the average difference\n",
    "    avg_difference = sum(differences) / len(differences)\n",
    "    \n",
    "    # Add a new element at the end of the list\n",
    "    new_element = lst[-1] - avg_difference \n",
    "    lst.append(new_element)\n",
    "\n",
    "    return lst\n",
    "\n",
    "def extract_currency(string):\n",
    "    # Dictionary to map symbols to currency names\n",
    "    currency_map = {\n",
    "        'US': 'USD',\n",
    "        '$': 'USD',\n",
    "        '€': 'EUR',\n",
    "        '£': 'GBP',\n",
    "        '¥': 'JPY',\n",
    "        'A$': 'AUD',\n",
    "        'C$': 'CAD',\n",
    "        'S': 'USD',   # Misidentification for $\n",
    "        'E': 'EUR',   # Misidentification for €\n",
    "        'L': 'GBP',   # Misidentification for £\n",
    "        'Y': 'JPY',   # Potential misidentification for ¥\n",
    "    }\n",
    "    \n",
    "    # Build a pattern that checks for each symbol followed by optional whitespace and a digit or a period\n",
    "    pattern_elements = [re.escape(symbol) + r'\\s*[0-9\\.]' for symbol in currency_map.keys()]\n",
    "    pattern_string = '|'.join(pattern_elements) + r'|USD|EUR|GBP|JPY|AUD|CAD'\n",
    "    pattern = re.compile(pattern_string)\n",
    "    \n",
    "    match = pattern.search(string)\n",
    "    \n",
    "    if match:\n",
    "        symbol = match.group()[:-1].strip()  # Exclude the trailing digit or period and any whitespace from the match\n",
    "        return currency_map.get(symbol, symbol).lower()\n",
    "    else:\n",
    "        return None\n",
    "\n",
    "def extract_percentage(string):\n",
    "    match = re.search(r'([-+]?\\d+(?:\\.\\d+)?)\\s*%', string)\n",
    "    if match:\n",
    "        raw_value = correct_decimal_point(match.group(1))\n",
    "        percentage = float(raw_value)\n",
    "        return percentage\n",
    "    return None\n",
    "\n",
    "def extract_bracketed_timeframe(string):\n",
    "    match = re.search(r'\\(([^)]+)\\)', string)\n",
    "    if match:\n",
    "        bracketed_string = match.group(1)\n",
    "        return bracketed_string.lower()\n",
    "    return None\n",
    "\n",
    "def extract_float_value(input_string):\n",
    "    numbers = re.findall(r'\\d+\\.\\d+', input_string)                                      # Find all the floating-point numbers in the string using a regular expression\n",
    "    return float(numbers[0])                                                             # Return the first floating-point number found, as a float\n",
    "    \n",
    "def correct_misidentifications(text):\n",
    "    corrections = {\n",
    "        'O': '0',\n",
    "        'G': '6',\n",
    "        'B': '8',\n",
    "        'I': '1',\n",
    "        'S': '5',\n",
    "        'Z': '2',\n",
    "        'Q': '0',\n",
    "        'T': '7',\n",
    "        'L': '1',\n",
    "        'A': '4'\n",
    "    }\n",
    "    \n",
    "    corrected_text = text\n",
    "    for char, replacement in corrections.items():\n",
    "        corrected_text = corrected_text.replace(char, replacement)\n",
    "    \n",
    "    corrected_text = re.sub(r'[^\\d.]+', '', corrected_text)  # Keep only numeric characters and decimal points\n",
    "    return corrected_text\n",
    "\n",
    "def correct_decimal_point(value):\n",
    "    value_str = str(value)\n",
    "\n",
    "    # Check if the first digit is '0' and the second character is not '.'\n",
    "    if value_str[0] == '0' and (len(value_str) == 1 or value_str[1] != '.'):\n",
    "        value_str = '0.' + value_str[1:]\n",
    "\n",
    "    # If the original value was a number, return as a float; otherwise, return as a string\n",
    "    if isinstance(value, (int, float)):\n",
    "        return float(value_str)\n",
    "    return value_str\n",
    "\n",
    "def process_ocr_string(y_axis):\n",
    "    values = y_axis.split(',')\n",
    "    corrected_values = []\n",
    "    removed_indices = []\n",
    "    \n",
    "    for index, value in enumerate(values):\n",
    "        # If the value contains a space not at the beginning or end, replace with a decimal point\n",
    "        value = re.sub(r'(?<=\\S) (?=\\S)', '.', value)\n",
    "        \n",
    "        # If the value contains both digits and characters\n",
    "        if re.search(r'\\d', value) and re.search(r'[a-zA-Z]', value):\n",
    "            corrected_value = correct_misidentifications(value)\n",
    "        else:\n",
    "            corrected_value = value\n",
    "\n",
    "        # If the corrected value is still a valid float, add it to the results\n",
    "        try:\n",
    "            corrected_values.append(float(correct_decimal_point(corrected_value)))\n",
    "        except ValueError:\n",
    "            removed_indices.append(index)  # Save the index of the value that was removed\n",
    "\n",
    "    return corrected_values, set(removed_indices)\n",
    "\n",
    "def time_mapping(input_string):\n",
    "    mapping = {\n",
    "        '1h': '1 hour',\n",
    "        '4h': '4 hours',\n",
    "        '24h': '1 day',\n",
    "        '1d': '1 day',\n",
    "        '7d': '7 days',\n",
    "        '1w': '7 days',\n",
    "        '1m': '1 month',\n",
    "        '3m': '3 months',\n",
    "        '6m': '6 months',\n",
    "        '1y': '1 year',\n",
    "        'ytd': 'year to date',\n",
    "        'all': 'year to date'\n",
    "    }\n",
    "    return mapping.get(input_string, 'N/A')\n",
    "\n",
    "def correct_value(text):\n",
    "    if text and text[0].isdigit() and text[0] in ['S', '5']:\n",
    "        return '$' + text[1:]\n",
    "    return text\n",
    "######################################################################################################################\n",
    "# DRAWING THE Y-AXIS DATA LOCATION ON THE IMAGE\n",
    "# Apply the function to both lists\n",
    "y_axis_str = results['y-axis']\n",
    "y_axis_values, y_axis_val_rem_idx = process_ocr_string(y_axis_str)\n",
    "yaxis_coordinates = [value for index, value in enumerate(yaxis_coordinates) if index not in y_axis_val_rem_idx]\n",
    "print(y_axis_values, len(y_axis_values))\n",
    "print(yaxis_coordinates, len(yaxis_coordinates))\n",
    "print(y_axis_val_rem_idx)\n",
    "y_axis_values_new = calculate_new_list(y_axis_values)\n",
    "yaxis_coordinates_new = calculate_new_list(yaxis_coordinates)\n",
    "yaxis_coordinates_new = list(map(round, yaxis_coordinates_new))\n",
    "\n",
    "print(\"New Y-axis values:\", y_axis_values_new)\n",
    "print(\"New Y coordinates:\", yaxis_coordinates_new)\n",
    "\n",
    "y_axis_image = np.array(y_axis_image)\n",
    "for i,item in enumerate(yaxis_coordinates_new):\n",
    "    # Draw the identified pixels\n",
    "    x, y = 50, int(item)\n",
    "    cv2.circle(y_axis_image, (x, y), radius=3, color=255, thickness=-1)\n",
    "\n",
    "# Show the image with the drawn pixels using Matplotlib\n",
    "plt.figure(figsize=(10, 10))\n",
    "plt.imshow(y_axis_image)\n",
    "plt.title('Identified Y')\n",
    "plt.axis('off')\n",
    "plt.show()\n",
    "\n",
    "######################################################################################################################\n",
    "# FIRST INTERPOLATION METHOD\n",
    "# Value interpolation from curve\n",
    "from scipy.interpolate import interp1d\n",
    "\n",
    "# Create a linear interpolation function\n",
    "f = interp1d(yaxis_coordinates_new, y_axis_values_new)\n",
    "\n",
    "# Example usage\n",
    "type1_interp_current_val = round(float(f(right_most_pixel[1])), 5)\n",
    "print(f\"The Y-axis value for the Y coordinate {right_most_pixel[1]} is {type1_interp_current_val}\")\n",
    "\n",
    "# value from plot\n",
    "value_str = correct_value(correct_decimal_point(results['value']))\n",
    "stock_value = extract_float_value(value_str)\n",
    "print(f\"The stock value from the plot is {stock_value}\")\n",
    "\n",
    "# value difference/accuracy\n",
    "type1_pct_diff = abs(round(((stock_value - type1_interp_current_val) / stock_value) * 100, 5))\n",
    "print(f\"The percentage difference is {type1_pct_diff:.2f}%\")\n",
    "\n",
    "######################################################################################################################\n",
    "# SECOND INTERPOLATION METHOD\n",
    "y_axis_val_diff = abs(y_axis_values[-1] - y_axis_values[0])\n",
    "y_axis_coord_dif = abs(yaxis_coordinates[-1] - yaxis_coordinates[0])\n",
    "y_axis_val_per_pixel = y_axis_val_diff/y_axis_coord_dif\n",
    "\n",
    "print(f\"The calculated value per pixel for the 2nd interpolation method is: {y_axis_val_per_pixel}\")\n",
    "\n",
    "plot_height = label5_image.height\n",
    "type2_interp_current_val = round((abs(plot_height - right_most_pixel[1])) * y_axis_val_per_pixel, 5)\n",
    "\n",
    "print(f\"Curve value based on secondaly calculation is {type2_interp_current_val}\")\n",
    "\n",
    "# value from plot\n",
    "type2_pct_diff = abs(round(((stock_value - type2_interp_current_val) / stock_value) * 100, 3))\n",
    "print(f\"The percentage difference is {type2_pct_diff:.3f}%\")\n",
    "######################################################################################################################\n",
    "# Compare the 2 methods and choose the one with the lowest percentage difference\n",
    "if type1_pct_diff < type2_pct_diff:\n",
    "    lowest_value  = round(float(f(lowest_pixel[1])), 5)\n",
    "    highest_value = round(float(f(highest_pixel[1])), 5)\n",
    "else:\n",
    "    lowest_value  = round((abs(plot_height - lowest_pixel[1])) * y_axis_val_per_pixel, 5)\n",
    "    highest_value = round((abs(plot_height - highest_pixel[1])) * y_axis_val_per_pixel, 5)\n",
    "\n",
    "print(f\"The lowest value is: {lowest_value}\")\n",
    "print(f\"The highest value is: {highest_value}\")\n",
    "######################################################################################################################\n",
    "# Extracting all the other values\n",
    "# Define the observations\n",
    "currency = extract_currency(results['value'])\n",
    "percentage_drop = extract_percentage(results['value'])\n",
    "print(f\"The raw OCR reading fro the currency is: {results['value']}, the corrected output is: {currency}\")\n",
    "print(f\"The raw OCR reading for the percentage drop is: {results['value']}, the corrected output is: {percentage_drop}\")\n",
    "data = {\n",
    "    'name': re.split(r',| Price', results['name'])[0].lower(),\n",
    "    'currency': currency,\n",
    "    'value.pct.drop': extract_percentage(results['value']),\n",
    "    'current.value': stock_value,\n",
    "    'type1.interp.current.value': type1_interp_current_val,\n",
    "    'type2.interp.current.value': type2_interp_current_val,\n",
    "    'type1.curr.val.pct.diff': type1_pct_diff,\n",
    "    'type2.curr.val.pct.diff': type2_pct_diff,\n",
    "    'lowest.value': lowest_value,\n",
    "    'highest.value': highest_value,\n",
    "    'timeframe': time_mapping(extract_bracketed_timeframe(results['value'])),\n",
    "    'date': datetime.now().date(),\n",
    "    'time': datetime.now().time().strftime('%H:%M:%S')                            # Format the time properly\n",
    "}\n",
    "\n",
    "# Create a DataFrame\n",
    "df = pd.DataFrame(data, index = [0])\n",
    "dataset_path = \"datasets/dataset.csv\"\n",
    "\n",
    "# Create the directory if it doesn't exist\n",
    "directory = os.path.dirname(dataset_path)\n",
    "if not os.path.exists(directory):\n",
    "    os.makedirs(directory)\n",
    "\n",
    "# Save the DataFrame to the CSV file\n",
    "df.to_csv(dataset_path, index=False)"
   ]
  },
  {
   "cell_type": "code",
   "execution_count": 19,
   "id": "076dccf1",
   "metadata": {},
   "outputs": [],
   "source": [
    "    def calculate_new_list(lst):\n",
    "        # Calculate the differences between successive elements\n",
    "        differences = [lst[i] - lst[i + 1] for i in range(len(lst) - 1)]\n",
    "\n",
    "        # Calculate the average difference\n",
    "        avg_difference = sum(differences) / len(differences)\n",
    "\n",
    "        # Add a new element at the end of the list\n",
    "        new_element = lst[-1] - avg_difference \n",
    "        lst.append(new_element)\n",
    "\n",
    "        return lst\n",
    "\n",
    "    def extract_currency(string):\n",
    "        # Dictionary to map symbols to currency names\n",
    "        currency_map = {\n",
    "            'US': 'USD',\n",
    "            '$': 'USD',\n",
    "            '€': 'EUR',\n",
    "            '£': 'GBP',\n",
    "            '¥': 'JPY',\n",
    "            'A$': 'AUD',\n",
    "            'C$': 'CAD',\n",
    "            'S': 'USD',   # Misidentification for $\n",
    "            'E': 'EUR',   # Misidentification for €\n",
    "            'L': 'GBP',   # Misidentification for £\n",
    "            'Y': 'JPY',   # Potential misidentification for ¥\n",
    "        }\n",
    "\n",
    "        # Build a pattern that checks for each symbol followed by optional whitespace and a digit or a period\n",
    "        pattern_elements = [re.escape(symbol) + r'\\s*[0-9\\.]' for symbol in currency_map.keys()]\n",
    "        pattern_string = '|'.join(pattern_elements) + r'|USD|EUR|GBP|JPY|AUD|CAD'\n",
    "        pattern = re.compile(pattern_string)\n",
    "\n",
    "        match = pattern.search(string)\n",
    "\n",
    "        if match:\n",
    "            symbol = match.group()[:-1].strip()  # Exclude the trailing digit or period and any whitespace from the match\n",
    "            return currency_map.get(symbol, symbol).lower()\n",
    "        else:\n",
    "            return None\n",
    "\n",
    "    def extract_percentage(string):\n",
    "        match = re.search(r'([-+]?\\d+(?:\\.\\d+)?)\\s*%', string)\n",
    "        if match:\n",
    "            raw_value = correct_decimal_point(match.group(1))\n",
    "            percentage = float(raw_value)\n",
    "            return percentage\n",
    "        return None\n",
    "\n",
    "    def extract_bracketed_timeframe(string):\n",
    "        match = re.search(r'\\(([^)]+)\\)', string)\n",
    "        if match:\n",
    "            bracketed_string = match.group(1)\n",
    "            return bracketed_string.lower()\n",
    "        return None\n",
    "\n",
    "    def extract_float_value(input_string):\n",
    "        numbers = re.findall(r'\\d+\\.\\d+', input_string)                                      # Find all the floating-point numbers in the string using a regular expression\n",
    "        return float(numbers[0])                                                             # Return the first floating-point number found, as a float\n",
    "\n",
    "    def correct_misidentifications(text):\n",
    "        corrections = {\n",
    "            'O': '0',\n",
    "            'G': '6',\n",
    "            'B': '8',\n",
    "            'I': '1',\n",
    "            'S': '5',\n",
    "            'Z': '2',\n",
    "            'Q': '0',\n",
    "            'T': '7',\n",
    "            'L': '1',\n",
    "            'A': '4'\n",
    "        }\n",
    "\n",
    "        corrected_text = text\n",
    "        for char, replacement in corrections.items():\n",
    "            corrected_text = corrected_text.replace(char, replacement)\n",
    "\n",
    "        corrected_text = re.sub(r'[^\\d.e-]+', '', corrected_text)  # Keep only numeric characters, decimal points, 'e', and '-'\n",
    "        return corrected_text\n",
    "\n",
    "    def process_ocr_string(y_axis):\n",
    "        values = y_axis.split(',')\n",
    "        corrected_values = []\n",
    "        removed_indices = []\n",
    "\n",
    "        for index, value in enumerate(values):\n",
    "            # If the value contains a space not at the beginning or end, replace with a decimal point\n",
    "            value = re.sub(r'(?<=\\S) (?=\\S)', '.', value)\n",
    "\n",
    "            # If the value contains both digits and characters\n",
    "            if re.search(r'\\d', value) and re.search(r'[a-zA-Z]', value):\n",
    "                corrected_value = correct_misidentifications(value)\n",
    "            else:\n",
    "                corrected_value = value\n",
    "\n",
    "            # If the corrected value is still a valid float, add it to the results\n",
    "            try:\n",
    "                corrected_values.append(float(correct_decimal_point(corrected_value)))\n",
    "            except ValueError:\n",
    "                removed_indices.append(index)  # Save the index of the value that was removed\n",
    "\n",
    "        return corrected_values, set(removed_indices)\n",
    "\n",
    "    def correct_decimal_point(value):\n",
    "        value_str = str(value)\n",
    "\n",
    "        # Check if the value is in scientific notation\n",
    "        if 'e' in value_str or 'E' in value_str:\n",
    "            return float(value_str)\n",
    "\n",
    "        # Check if the first digit is '0' and the second character is not '.'\n",
    "        if value_str[0] == '0' and (len(value_str) == 1 or value_str[1] != '.'):\n",
    "            value_str = '0.' + value_str[1:]\n",
    "\n",
    "        # If the original value was a number, return as a float; otherwise, return as a string\n",
    "        if isinstance(value, (int, float)):\n",
    "            return float(value_str)\n",
    "        return value_str\n",
    "\n",
    "    def time_mapping(input_string):\n",
    "        mapping = {\n",
    "            '1h': '1 hour',\n",
    "            '4h': '4 hours',\n",
    "            '24h': '1 day',\n",
    "            '1d': '1 day',\n",
    "            '7d': '7 days',\n",
    "            '1w': '7 days',\n",
    "            '1m': '1 month',\n",
    "            '3m': '3 months',\n",
    "            '6m': '6 months',\n",
    "            '1y': '1 year',\n",
    "            'ytd': 'year to date',\n",
    "            'all': 'year to date'\n",
    "        }\n",
    "        return mapping.get(input_string, 'N/A')\n",
    "\n",
    "    def correct_value(text):\n",
    "        if text and text[0].isdigit() and text[0] in ['S', '5']:\n",
    "            return '$' + text[1:]\n",
    "        return text\n",
    "    \n",
    "    ######################################################################################################################\n",
    "    def filter_coordinates(pixel_coordinates, threshold=100):\n",
    "        horizontal_lines = {}\n",
    "        vertical_lines = {}\n",
    "\n",
    "        # Check the shape of the input and reshape if needed\n",
    "        if pixel_coordinates.shape[1] == 1 and pixel_coordinates.shape[2] == 2:\n",
    "            pixel_coordinates = pixel_coordinates.reshape(-1, 2)\n",
    "\n",
    "        # Separate coordinates into horizontal and vertical lines\n",
    "        for coord in pixel_coordinates:\n",
    "            x, y = int(coord[0]), int(coord[1])\n",
    "            if y not in horizontal_lines:\n",
    "                horizontal_lines[y] = []\n",
    "            if x not in vertical_lines:\n",
    "                vertical_lines[x] = []\n",
    "            horizontal_lines[y].append(x)\n",
    "            vertical_lines[x].append(y)\n",
    "\n",
    "        # Filter horizontal lines longer than the threshold\n",
    "        for y, x_values in horizontal_lines.items():\n",
    "            if len(x_values) > threshold:\n",
    "                pixel_coordinates = pixel_coordinates[np.logical_not(np.isin(pixel_coordinates[:, 0], x_values)), :]\n",
    "\n",
    "        # Filter vertical lines longer than the threshold\n",
    "        for x, y_values in vertical_lines.items():\n",
    "            if len(y_values) > threshold:\n",
    "                pixel_coordinates = pixel_coordinates[np.logical_not(np.isin(pixel_coordinates[:, 1], y_values)), :]\n",
    "\n",
    "        return pixel_coordinates\n",
    "\n",
    "    def remove_corner_pixels(coordinates, width, height):\n",
    "        # Define a function to count pixels near corners\n",
    "        def count_corner_pixels(coordinates, distance):\n",
    "            count = 0\n",
    "            for coord in coordinates:\n",
    "                x, y = coord[0], coord[1]\n",
    "                if ((x < distance or x >= width - distance) and (y < distance or y >= height - distance)):\n",
    "                    count += 1\n",
    "            return count\n",
    "\n",
    "        # Start with an initial distance\n",
    "        distance = 10\n",
    "        corner_pixels_count = count_corner_pixels(coordinates, distance)\n",
    "\n",
    "        # Adjust the distance based on the count of pixels near corners\n",
    "        if corner_pixels_count != 0:\n",
    "            distance = 100 / corner_pixels_count\n",
    "\n",
    "        filtered_coords = []\n",
    "        for coord in coordinates:\n",
    "            x, y = coord[0], coord[1]\n",
    "            # Check if the pixel is in or within the calculated distance of the corners\n",
    "            if ((x < distance or x >= width - distance) and (y < distance or y >= height - distance)):\n",
    "                continue\n",
    "            filtered_coords.append(coord)\n",
    "\n",
    "        return np.array(filtered_coords)"
   ]
  },
  {
   "cell_type": "code",
   "execution_count": 41,
   "id": "0ce85e83",
   "metadata": {},
   "outputs": [
    {
     "name": "stderr",
     "output_type": "stream",
     "text": [
      "Processing files:   0%|                                                               | 1/1000 [00:01<28:28,  1.71s/it]"
     ]
    },
    {
     "name": "stdout",
     "output_type": "stream",
     "text": [
      "Y axis string value is: 0.0035,0.003,0.0025,0.002,0.0015,0.001\n",
      "I am in 1st try\n",
      "Y axis string corrected value is: [0.0035, 0.003, 0.0025, 0.002, 0.0015, 0.001]\n",
      "I am in try\n"
     ]
    },
    {
     "name": "stderr",
     "output_type": "stream",
     "text": [
      "\r",
      "Processing files:   0%|▏                                                              | 2/1000 [00:03<25:38,  1.54s/it]"
     ]
    },
    {
     "name": "stdout",
     "output_type": "stream",
     "text": [
      "Y axis string value is: \n",
      "I am in 1st try\n"
     ]
    },
    {
     "name": "stderr",
     "output_type": "stream",
     "text": [
      "\r",
      "Processing files:   0%|▏                                                              | 3/1000 [00:04<25:13,  1.52s/it]"
     ]
    },
    {
     "name": "stdout",
     "output_type": "stream",
     "text": [
      "Y axis string value is: 0.000084,0.000082,0.00080,0.00078,0.0000076,0.0000074,0.00072,0.0000070,0.000068,0.000066,0.0008054,0.0000052,0.00050,0.004058,0.000056,0.0QuC5S,0.000054,Copi\n",
      "I am in 1st try\n",
      "Y axis string corrected value is: [8.4e-05, 8.2e-05, 0.0008, 0.00078, 7.6e-06, 7.4e-06, 0.00072, 7e-06, 6.8e-05, 6.6e-05, 0.0008054, 5.2e-06, 0.0005, 0.004058, 5.6e-05, 0.0055, 5.4e-05]\n",
      "I am in try\n"
     ]
    },
    {
     "name": "stderr",
     "output_type": "stream",
     "text": [
      "\r",
      "Processing files:   0%|▎                                                              | 4/1000 [00:06<25:01,  1.51s/it]"
     ]
    },
    {
     "name": "stdout",
     "output_type": "stream",
     "text": [
      "Y axis string value is: 0.006,0.0051,0.004:,0.003,0.002\n",
      "I am in 1st try\n",
      "Y axis string corrected value is: [0.006, 0.0051, 0.003, 0.002]\n",
      "I am in try\n"
     ]
    },
    {
     "name": "stderr",
     "output_type": "stream",
     "text": [
      "\r",
      "Processing files:   0%|▎                                                              | 5/1000 [00:07<24:03,  1.45s/it]"
     ]
    },
    {
     "name": "stdout",
     "output_type": "stream",
     "text": [
      "Y axis string value is: \n",
      "I am in 1st try\n"
     ]
    },
    {
     "name": "stderr",
     "output_type": "stream",
     "text": [
      "\r",
      "Processing files:   1%|▍                                                              | 6/1000 [00:08<24:10,  1.46s/it]"
     ]
    },
    {
     "name": "stdout",
     "output_type": "stream",
     "text": [
      "Y axis string value is: 0.00000000070,0.0000004060,0.000000000050,0.0000000040,0.0000000030,0.000000.020,Cap\n",
      "I am in 1st try\n",
      "Y axis string corrected value is: [7e-10, 4.06e-07, 5e-11, 4e-09, 3e-09]\n",
      "I am in try\n"
     ]
    },
    {
     "name": "stderr",
     "output_type": "stream",
     "text": [
      "\r",
      "Processing files:   1%|▍                                                              | 7/1000 [00:10<24:26,  1.48s/it]"
     ]
    },
    {
     "name": "stdout",
     "output_type": "stream",
     "text": [
      "Y axis string value is: 0.1,0.O8,0.06,0.04:,0.02\n",
      "I am in 1st try\n",
      "Y axis string corrected value is: [0.1, 0.08, 0.06, 0.02]\n",
      "I am in try\n"
     ]
    },
    {
     "name": "stderr",
     "output_type": "stream",
     "text": [
      "\r",
      "Processing files:   1%|▌                                                              | 8/1000 [00:11<23:41,  1.43s/it]"
     ]
    },
    {
     "name": "stdout",
     "output_type": "stream",
     "text": [
      "Y axis string value is: \n",
      "I am in 1st try\n"
     ]
    },
    {
     "name": "stderr",
     "output_type": "stream",
     "text": [
      "\r",
      "Processing files:   1%|▌                                                              | 9/1000 [00:13<23:40,  1.43s/it]"
     ]
    },
    {
     "name": "stdout",
     "output_type": "stream",
     "text": [
      "Y axis string value is: 0.002,0.0018,0.0016,0.0014,0.0012,0.001\n",
      "I am in 1st try\n",
      "Y axis string corrected value is: [0.002, 0.0018, 0.0016, 0.0014, 0.0012, 0.001]\n",
      "I am in try\n"
     ]
    },
    {
     "name": "stderr",
     "output_type": "stream",
     "text": [
      "\r",
      "Processing files:   1%|▌                                                             | 10/1000 [00:14<24:09,  1.46s/it]"
     ]
    },
    {
     "name": "stdout",
     "output_type": "stream",
     "text": [
      "Y axis string value is: 0.00335,0.0033,0.00325,0.0032,0.00315,0.0031\n",
      "I am in 1st try\n",
      "Y axis string corrected value is: [0.00335, 0.0033, 0.00325, 0.0032, 0.00315, 0.0031]\n",
      "I am in try\n"
     ]
    },
    {
     "name": "stderr",
     "output_type": "stream",
     "text": [
      "\r",
      "Processing files:   1%|▋                                                             | 11/1000 [00:16<24:26,  1.48s/it]"
     ]
    },
    {
     "name": "stdout",
     "output_type": "stream",
     "text": [
      "Y axis string value is: 0.00062,0.0006,0.00058,0.00056,0.00054\n",
      "I am in 1st try\n",
      "Y axis string corrected value is: [0.00062, 0.0006, 0.00058, 0.00056, 0.00054]\n",
      "I am in try\n"
     ]
    },
    {
     "name": "stderr",
     "output_type": "stream",
     "text": [
      "\r",
      "Processing files:   1%|▋                                                             | 12/1000 [00:17<23:47,  1.44s/it]"
     ]
    },
    {
     "name": "stdout",
     "output_type": "stream",
     "text": [
      "Y axis string value is: \n",
      "I am in 1st try\n"
     ]
    },
    {
     "name": "stderr",
     "output_type": "stream",
     "text": [
      "\r",
      "Processing files:   1%|▊                                                             | 13/1000 [00:18<23:17,  1.42s/it]"
     ]
    },
    {
     "name": "stdout",
     "output_type": "stream",
     "text": [
      "Y axis string value is: \n",
      "I am in 1st try\n"
     ]
    },
    {
     "name": "stderr",
     "output_type": "stream",
     "text": [
      "\r",
      "Processing files:   1%|▊                                                             | 14/1000 [00:20<23:14,  1.41s/it]"
     ]
    },
    {
     "name": "stdout",
     "output_type": "stream",
     "text": [
      "Y axis string value is: 0.0002455,0.000245,0.0002445,0.000244,0.0002435,0.000243\n",
      "I am in 1st try\n",
      "Y axis string corrected value is: [0.0002455, 0.000245, 0.0002445, 0.000244, 0.0002435, 0.000243]\n",
      "I am in try\n"
     ]
    },
    {
     "name": "stderr",
     "output_type": "stream",
     "text": [
      "\r",
      "Processing files:   2%|▉                                                             | 15/1000 [00:21<23:29,  1.43s/it]"
     ]
    },
    {
     "name": "stdout",
     "output_type": "stream",
     "text": [
      "Y axis string value is: CJjuulJ :,OOOOOOO1,@J00001\n",
      "I am in 1st try\n",
      "Y axis string corrected value is: [1e-07, 0.0001]\n",
      "I am in try\n"
     ]
    },
    {
     "name": "stderr",
     "output_type": "stream",
     "text": [
      "\r",
      "Processing files:   2%|▉                                                             | 16/1000 [00:23<23:55,  1.46s/it]"
     ]
    },
    {
     "name": "stdout",
     "output_type": "stream",
     "text": [
      "Y axis string value is: 5.Se-8,Se-81,4.5e-8,4e-8,3.5e-8,3e-8\n",
      "I am in 1st try\n",
      "Y axis string corrected value is: [5.5e-08, 5e-81, 4.5e-08, 4e-08, 3.5e-08, 3e-08]\n",
      "I am in try\n"
     ]
    },
    {
     "name": "stderr",
     "output_type": "stream",
     "text": [
      "\r",
      "Processing files:   2%|█                                                             | 17/1000 [00:24<23:59,  1.46s/it]"
     ]
    },
    {
     "name": "stdout",
     "output_type": "stream",
     "text": [
      "Y axis string value is: 3.Se-10,3e-10,2.Se-10,2e-108,1.Se-10,Ie-10\n",
      "I am in 1st try\n",
      "Y axis string corrected value is: [3.5e-10, 3e-10, 2.5e-10, 2e-108, 1.5e-10, 1e-10]\n",
      "I am in try\n"
     ]
    },
    {
     "name": "stderr",
     "output_type": "stream",
     "text": [
      "\r",
      "Processing files:   2%|█                                                             | 18/1000 [00:26<23:40,  1.45s/it]"
     ]
    },
    {
     "name": "stdout",
     "output_type": "stream",
     "text": [
      "Y axis string value is: 0.0007,0.0006,0.0005,0.0004/,0.0003,0.0002\n",
      "I am in 1st try\n",
      "Y axis string corrected value is: [0.0007, 0.0006, 0.0005, 0.0003, 0.0002]\n",
      "I am in try\n"
     ]
    },
    {
     "name": "stderr",
     "output_type": "stream",
     "text": [
      "\r",
      "Processing files:   2%|█▏                                                            | 19/1000 [00:27<23:43,  1.45s/it]"
     ]
    },
    {
     "name": "stdout",
     "output_type": "stream",
     "text": [
      "Y axis string value is: 0.O00005,0.000004,0.000003,0.000002,O.o00001\n",
      "I am in 1st try\n",
      "Y axis string corrected value is: [5e-06, 4e-06, 3e-06, 2e-06, 1e-05]\n",
      "I am in try\n"
     ]
    },
    {
     "name": "stderr",
     "output_type": "stream",
     "text": [
      "\r",
      "Processing files:   2%|█▏                                                            | 20/1000 [00:29<23:21,  1.43s/it]"
     ]
    },
    {
     "name": "stdout",
     "output_type": "stream",
     "text": [
      "Y axis string value is: \n",
      "I am in 1st try\n"
     ]
    },
    {
     "name": "stderr",
     "output_type": "stream",
     "text": [
      "\r",
      "Processing files:   2%|█▎                                                            | 21/1000 [00:30<23:09,  1.42s/it]"
     ]
    },
    {
     "name": "stdout",
     "output_type": "stream",
     "text": [
      "Y axis string value is: 0.0016643\n",
      "I am in 1st try\n",
      "Y axis string corrected value is: [0.0016643]\n"
     ]
    },
    {
     "name": "stderr",
     "output_type": "stream",
     "text": [
      "\r",
      "Processing files:   2%|█▎                                                            | 22/1000 [00:31<23:10,  1.42s/it]"
     ]
    },
    {
     "name": "stdout",
     "output_type": "stream",
     "text": [
      "Y axis string value is: 0.0016,0.0015,0.0014,0.0013\n",
      "I am in 1st try\n",
      "Y axis string corrected value is: [0.0016, 0.0015, 0.0014, 0.0013]\n",
      "I am in try\n"
     ]
    },
    {
     "name": "stderr",
     "output_type": "stream",
     "text": [
      "\r",
      "Processing files:   2%|█▍                                                            | 23/1000 [00:33<23:26,  1.44s/it]"
     ]
    },
    {
     "name": "stdout",
     "output_type": "stream",
     "text": [
      "Y axis string value is: 0.14,0.12,0.1,0.08',0.06\n",
      "I am in 1st try\n",
      "Y axis string corrected value is: [0.14, 0.12, 0.1, 0.06]\n",
      "I am in try\n"
     ]
    },
    {
     "name": "stderr",
     "output_type": "stream",
     "text": [
      "\r",
      "Processing files:   2%|█▍                                                            | 24/1000 [00:34<22:58,  1.41s/it]"
     ]
    },
    {
     "name": "stdout",
     "output_type": "stream",
     "text": [
      "Y axis string value is: \n",
      "I am in 1st try\n"
     ]
    },
    {
     "name": "stderr",
     "output_type": "stream",
     "text": [
      "\r",
      "Processing files:   2%|█▌                                                            | 25/1000 [00:36<22:38,  1.39s/it]"
     ]
    },
    {
     "name": "stdout",
     "output_type": "stream",
     "text": [
      "Y axis string value is: \n",
      "I am in 1st try\n"
     ]
    },
    {
     "name": "stderr",
     "output_type": "stream",
     "text": [
      "\r",
      "Processing files:   3%|█▌                                                            | 26/1000 [00:37<22:27,  1.38s/it]"
     ]
    },
    {
     "name": "stdout",
     "output_type": "stream",
     "text": [
      "Y axis string value is: \n",
      "I am in 1st try\n"
     ]
    },
    {
     "name": "stderr",
     "output_type": "stream",
     "text": [
      "\r",
      "Processing files:   3%|█▋                                                            | 27/1000 [00:38<22:51,  1.41s/it]"
     ]
    },
    {
     "name": "stdout",
     "output_type": "stream",
     "text": [
      "Y axis string value is: 0.0048,0.0046,0.0044,0.0042,0.004,0.0038\n",
      "I am in 1st try\n",
      "Y axis string corrected value is: [0.0048, 0.0046, 0.0044, 0.0042, 0.004, 0.0038]\n",
      "I am in try\n"
     ]
    },
    {
     "name": "stderr",
     "output_type": "stream",
     "text": [
      "\r",
      "Processing files:   3%|█▋                                                            | 28/1000 [00:40<23:04,  1.42s/it]"
     ]
    },
    {
     "name": "stdout",
     "output_type": "stream",
     "text": [
      "Y axis string value is: 2.5032e-2,2.503e-2,2.5028e-2,2.5026e-2,2.5024e-2,2.5022e-2,2.502e-2\n",
      "I am in 1st try\n",
      "Y axis string corrected value is: [0.025032, 0.02503, 0.025028, 0.025026, 0.025024, 0.025022, 0.02502]\n",
      "I am in try\n"
     ]
    },
    {
     "name": "stderr",
     "output_type": "stream",
     "text": [
      "\r",
      "Processing files:   3%|█▊                                                            | 29/1000 [00:41<22:51,  1.41s/it]"
     ]
    },
    {
     "name": "stdout",
     "output_type": "stream",
     "text": [
      "Y axis string value is: \n",
      "I am in 1st try\n"
     ]
    },
    {
     "name": "stderr",
     "output_type": "stream",
     "text": [
      "\r",
      "Processing files:   3%|█▊                                                            | 30/1000 [00:43<22:52,  1.41s/it]"
     ]
    },
    {
     "name": "stdout",
     "output_type": "stream",
     "text": [
      "Y axis string value is: 8e-10_,6e-1,0,4e-10},2e-102\n",
      "I am in 1st try\n",
      "Y axis string corrected value is: [8e-10, 0.6, 0.0, 4e-10, 2e-102]\n"
     ]
    },
    {
     "name": "stderr",
     "output_type": "stream",
     "text": [
      "\r",
      "Processing files:   3%|█▉                                                            | 31/1000 [00:44<23:26,  1.45s/it]"
     ]
    },
    {
     "name": "stdout",
     "output_type": "stream",
     "text": [
      "Y axis string value is: Se-10 .,4e-10,3e-10,Ie-10,2e-10,\n",
      "I am in 1st try\n"
     ]
    },
    {
     "name": "stderr",
     "output_type": "stream",
     "text": [
      "Processing files:   3%|██                                                            | 33/1000 [00:47<23:17,  1.45s/it]"
     ]
    },
    {
     "name": "stdout",
     "output_type": "stream",
     "text": [
      "Y axis string value is: 0.080,0.075,0.070,0.065,0.060,0.055,0.050,0.045,0.040,0.035,0.030,0.025,0.020,0.014,Cap,00100\n",
      "I am in 1st try\n",
      "Y axis string corrected value is: [0.08, 0.075, 0.07, 0.065, 0.06, 0.055, 0.05, 0.045, 0.04, 0.035, 0.03, 0.025, 0.02, 0.014, 0.01]\n",
      "I am in try\n"
     ]
    },
    {
     "name": "stderr",
     "output_type": "stream",
     "text": [
      "\r",
      "Processing files:   3%|██                                                            | 34/1000 [00:49<23:26,  1.46s/it]"
     ]
    },
    {
     "name": "stdout",
     "output_type": "stream",
     "text": [
      "Y axis string value is: 0.0056,0.0055,0.0054,0.0053,0.0052,0.0051,0.005\n",
      "I am in 1st try\n",
      "Y axis string corrected value is: [0.0056, 0.0055, 0.0054, 0.0053, 0.0052, 0.0051, 0.005]\n",
      "I am in try\n"
     ]
    },
    {
     "name": "stderr",
     "output_type": "stream",
     "text": [
      "\r",
      "Processing files:   4%|██▏                                                           | 35/1000 [00:50<23:45,  1.48s/it]"
     ]
    },
    {
     "name": "stdout",
     "output_type": "stream",
     "text": [
      "Y axis string value is: 0.00039,0.00039,0.00038,0.00038,0.000037,0.00037,0.00036,0.00036,0.00035\n",
      "I am in 1st try\n",
      "Y axis string corrected value is: [0.00039, 0.00039, 0.00038, 0.00038, 3.7e-05, 0.00037, 0.00036, 0.00036, 0.00035]\n",
      "I am in try\n"
     ]
    },
    {
     "name": "stderr",
     "output_type": "stream",
     "text": [
      "\r",
      "Processing files:   4%|██▏                                                           | 36/1000 [00:52<23:44,  1.48s/it]"
     ]
    },
    {
     "name": "stdout",
     "output_type": "stream",
     "text": [
      "Y axis string value is: 0.00025,0.0002,0.0001 5,0.0001,0.0o005\n",
      "I am in 1st try\n",
      "Y axis string corrected value is: [0.00025, 0.0002, 0.0001, 0.0005]\n",
      "I am in try\n"
     ]
    },
    {
     "name": "stderr",
     "output_type": "stream",
     "text": [
      "\r",
      "Processing files:   4%|██▎                                                           | 37/1000 [00:53<23:38,  1.47s/it]"
     ]
    },
    {
     "name": "stdout",
     "output_type": "stream",
     "text": [
      "Y axis string value is: 2.5,2,1.5,0.5\n",
      "I am in 1st try\n",
      "Y axis string corrected value is: [2.5, 2.0, 1.5, 0.5]\n",
      "I am in try\n"
     ]
    },
    {
     "name": "stderr",
     "output_type": "stream",
     "text": [
      "\r",
      "Processing files:   4%|██▎                                                           | 38/1000 [00:55<23:51,  1.49s/it]"
     ]
    },
    {
     "name": "stdout",
     "output_type": "stream",
     "text": [
      "Y axis string value is: 0.000032,0.0000328,0.0000328,0.0000328,0.0000328,0.000032\n",
      "I am in 1st try\n",
      "Y axis string corrected value is: [3.2e-05, 3.28e-05, 3.28e-05, 3.28e-05, 3.28e-05, 3.2e-05]\n",
      "I am in try\n"
     ]
    },
    {
     "name": "stderr",
     "output_type": "stream",
     "text": [
      "\r",
      "Processing files:   4%|██▍                                                           | 39/1000 [00:56<23:41,  1.48s/it]"
     ]
    },
    {
     "name": "stdout",
     "output_type": "stream",
     "text": [
      "Y axis string value is: 0.1375,0.135,0.1325,0.134,0.1275,0.125,0.1225\n",
      "I am in 1st try\n",
      "Y axis string corrected value is: [0.1375, 0.135, 0.1325, 0.134, 0.1275, 0.125, 0.1225]\n",
      "I am in try\n"
     ]
    },
    {
     "name": "stderr",
     "output_type": "stream",
     "text": [
      "\r",
      "Processing files:   4%|██▍                                                           | 40/1000 [00:57<22:56,  1.43s/it]"
     ]
    },
    {
     "name": "stdout",
     "output_type": "stream",
     "text": [
      "Y axis string value is: \n",
      "I am in 1st try\n"
     ]
    },
    {
     "name": "stderr",
     "output_type": "stream",
     "text": [
      "\r",
      "Processing files:   4%|██▌                                                           | 41/1000 [00:59<22:33,  1.41s/it]"
     ]
    },
    {
     "name": "stdout",
     "output_type": "stream",
     "text": [
      "Y axis string value is: \n",
      "I am in 1st try\n"
     ]
    },
    {
     "name": "stderr",
     "output_type": "stream",
     "text": [
      "\r",
      "Processing files:   4%|██▌                                                           | 42/1000 [01:00<22:40,  1.42s/it]"
     ]
    },
    {
     "name": "stdout",
     "output_type": "stream",
     "text": [
      "Y axis string value is: 0.35,0.3,0.25,0.2,0.15\n",
      "I am in 1st try\n",
      "Y axis string corrected value is: [0.35, 0.3, 0.25, 0.2, 0.15]\n",
      "I am in try\n"
     ]
    },
    {
     "name": "stderr",
     "output_type": "stream",
     "text": [
      "\r",
      "Processing files:   4%|██▋                                                           | 43/1000 [01:02<22:24,  1.40s/it]"
     ]
    },
    {
     "name": "stdout",
     "output_type": "stream",
     "text": [
      "Y axis string value is: \n",
      "I am in 1st try\n"
     ]
    },
    {
     "name": "stderr",
     "output_type": "stream",
     "text": [
      "\r",
      "Processing files:   4%|██▋                                                           | 44/1000 [01:03<22:37,  1.42s/it]"
     ]
    },
    {
     "name": "stdout",
     "output_type": "stream",
     "text": [
      "Y axis string value is: 6e-12_,Se-1 2i,4e-12,3e-123,2e-12,1e-12\n",
      "I am in 1st try\n",
      "Y axis string corrected value is: [6e-12, 4e-12, 3e-123, 2e-12, 1e-12]\n",
      "I am in try\n"
     ]
    },
    {
     "name": "stderr",
     "output_type": "stream",
     "text": [
      "\r",
      "Processing files:   4%|██▊                                                           | 45/1000 [01:05<23:51,  1.50s/it]"
     ]
    },
    {
     "name": "stdout",
     "output_type": "stream",
     "text": [
      "Y axis string value is: \n",
      "I am in 1st try\n"
     ]
    },
    {
     "name": "stderr",
     "output_type": "stream",
     "text": [
      "\r",
      "Processing files:   5%|██▊                                                           | 46/1000 [01:06<23:03,  1.45s/it]"
     ]
    },
    {
     "name": "stdout",
     "output_type": "stream",
     "text": [
      "Y axis string value is: \n",
      "I am in 1st try\n"
     ]
    },
    {
     "name": "stderr",
     "output_type": "stream",
     "text": [
      "\r",
      "Processing files:   5%|██▉                                                           | 47/1000 [01:07<23:13,  1.46s/it]"
     ]
    },
    {
     "name": "stdout",
     "output_type": "stream",
     "text": [
      "Y axis string value is: 6.Se-11,6e-11,5.Se-11,Se-11,4.Se-If,4e-|1,3.Se-11,3e-11\n",
      "I am in 1st try\n",
      "Y axis string corrected value is: [6.5e-11, 6e-11, 5.5e-11, 5e-11, 0.45, 0.4, 3.5e-11, 3e-11]\n",
      "I am in try\n"
     ]
    },
    {
     "name": "stderr",
     "output_type": "stream",
     "text": [
      "\r",
      "Processing files:   5%|██▉                                                           | 48/1000 [01:09<23:31,  1.48s/it]"
     ]
    },
    {
     "name": "stdout",
     "output_type": "stream",
     "text": [
      "Y axis string value is: 0.00004S,0.00004,0.000035,0.00003,0.000025,0.00002,0.000015,0.00001\n",
      "I am in 1st try\n",
      "Y axis string corrected value is: [4.5e-05, 4e-05, 3.5e-05, 3e-05, 2.5e-05, 2e-05, 1.5e-05, 1e-05]\n",
      "I am in try\n"
     ]
    },
    {
     "name": "stderr",
     "output_type": "stream",
     "text": [
      "\r",
      "Processing files:   5%|███                                                           | 49/1000 [01:11<23:29,  1.48s/it]"
     ]
    },
    {
     "name": "stdout",
     "output_type": "stream",
     "text": [
      "Y axis string value is: 0.000128,0.000126,0.000124,0.000122,0.0001 2,0.000118\n",
      "I am in 1st try\n",
      "Y axis string corrected value is: [0.000128, 0.000126, 0.000124, 0.000122, 0.000118]\n",
      "I am in try\n"
     ]
    },
    {
     "name": "stderr",
     "output_type": "stream",
     "text": [
      "\r",
      "Processing files:   5%|███                                                           | 50/1000 [01:12<23:03,  1.46s/it]"
     ]
    },
    {
     "name": "stdout",
     "output_type": "stream",
     "text": [
      "Y axis string value is: 0.000003,0.0000029,0.0000028,0.0000027_,0.0000026\n",
      "I am in 1st try\n",
      "Y axis string corrected value is: [3e-06, 2.9e-06, 2.8e-06, 2.6e-06]\n",
      "I am in try\n"
     ]
    },
    {
     "name": "stderr",
     "output_type": "stream",
     "text": [
      "\r",
      "Processing files:   5%|███▏                                                          | 51/1000 [01:13<23:07,  1.46s/it]"
     ]
    },
    {
     "name": "stdout",
     "output_type": "stream",
     "text": [
      "Y axis string value is: 1.75,1.5,1.25,0.75,0.5,0.25\n",
      "I am in 1st try\n",
      "Y axis string corrected value is: [1.75, 1.5, 1.25, 0.75, 0.5, 0.25]\n",
      "I am in try\n"
     ]
    },
    {
     "name": "stderr",
     "output_type": "stream",
     "text": [
      "Processing files:   5%|███▎                                                          | 53/1000 [01:16<22:46,  1.44s/it]"
     ]
    },
    {
     "name": "stdout",
     "output_type": "stream",
     "text": [
      "Y axis string value is: 0.28,0.26,0.24,0.22,0.2,0.18\n",
      "I am in 1st try\n",
      "Y axis string corrected value is: [0.28, 0.26, 0.24, 0.22, 0.2, 0.18]\n",
      "I am in try\n"
     ]
    },
    {
     "name": "stderr",
     "output_type": "stream",
     "text": [
      "\r",
      "Processing files:   5%|███▎                                                          | 54/1000 [01:18<22:53,  1.45s/it]"
     ]
    },
    {
     "name": "stdout",
     "output_type": "stream",
     "text": [
      "Y axis string value is: 25,20,15,10\n",
      "I am in 1st try\n",
      "Y axis string corrected value is: [25.0, 20.0, 15.0, 10.0]\n",
      "I am in try\n"
     ]
    },
    {
     "name": "stderr",
     "output_type": "stream",
     "text": [
      "\r",
      "Processing files:   6%|███▍                                                          | 55/1000 [01:19<22:33,  1.43s/it]"
     ]
    },
    {
     "name": "stdout",
     "output_type": "stream",
     "text": [
      "Y axis string value is: \n",
      "I am in 1st try\n"
     ]
    },
    {
     "name": "stderr",
     "output_type": "stream",
     "text": [
      "\r",
      "Processing files:   6%|███▍                                                          | 56/1000 [01:21<22:38,  1.44s/it]"
     ]
    },
    {
     "name": "stdout",
     "output_type": "stream",
     "text": [
      "Y axis string value is: 0.8,0.775,0.75,0.725,0.7,0.675,0.65\n",
      "I am in 1st try\n",
      "Y axis string corrected value is: [0.8, 0.775, 0.75, 0.725, 0.7, 0.675, 0.65]\n",
      "I am in try\n"
     ]
    },
    {
     "name": "stderr",
     "output_type": "stream",
     "text": [
      "\r",
      "Processing files:   6%|███▌                                                          | 57/1000 [01:22<22:58,  1.46s/it]"
     ]
    },
    {
     "name": "stdout",
     "output_type": "stream",
     "text": [
      "Y axis string value is: 0.00026,0.00024,0.00022,0.0002 ,0.0001 8,0.00016\n",
      "I am in 1st try\n",
      "Y axis string corrected value is: [0.00026, 0.00024, 0.00022, 0.0002, 0.00016]\n",
      "I am in try\n"
     ]
    },
    {
     "name": "stderr",
     "output_type": "stream",
     "text": [
      "Processing files:   6%|███▋                                                          | 59/1000 [01:25<23:22,  1.49s/it]"
     ]
    },
    {
     "name": "stdout",
     "output_type": "stream",
     "text": [
      "Y axis string value is: 1.le-7,1e-7,9e-8,8e-8,7e-8,6e-8,Se-8,4e-8\n",
      "I am in 1st try\n",
      "Y axis string corrected value is: [1e-07, 1e-07, 9e-08, 8e-08, 7e-08, 6e-08, 5e-08, 4e-08]\n",
      "I am in try\n"
     ]
    },
    {
     "name": "stderr",
     "output_type": "stream",
     "text": [
      "\r",
      "Processing files:   6%|███▋                                                          | 60/1000 [01:26<22:56,  1.46s/it]"
     ]
    },
    {
     "name": "stdout",
     "output_type": "stream",
     "text": [
      "Y axis string value is: \n",
      "I am in 1st try\n"
     ]
    },
    {
     "name": "stderr",
     "output_type": "stream",
     "text": [
      "\r",
      "Processing files:   6%|███▊                                                          | 61/1000 [01:28<23:27,  1.50s/it]"
     ]
    },
    {
     "name": "stdout",
     "output_type": "stream",
     "text": [
      "Y axis string value is: 0.016,0.015,0.014,0.013,0.012,0.011,0.010,2,0.0090\n",
      "I am in 1st try\n",
      "Y axis string corrected value is: [0.016, 0.015, 0.014, 0.013, 0.012, 0.011, 0.01, 2.0, 0.009]\n"
     ]
    },
    {
     "name": "stderr",
     "output_type": "stream",
     "text": [
      "\r",
      "Processing files:   6%|███▊                                                          | 62/1000 [01:29<22:44,  1.45s/it]"
     ]
    },
    {
     "name": "stdout",
     "output_type": "stream",
     "text": [
      "Y axis string value is: \n",
      "I am in 1st try\n"
     ]
    },
    {
     "name": "stderr",
     "output_type": "stream",
     "text": [
      "\r",
      "Processing files:   6%|███▉                                                          | 63/1000 [01:31<23:07,  1.48s/it]"
     ]
    },
    {
     "name": "stdout",
     "output_type": "stream",
     "text": [
      "Y axis string value is: J.ULC,0.024,3.22-,0.020,0.017,o.016,0.014,3.jin,0.0100,3.JQ:-,0.0060\n",
      "I am in 1st try\n",
      "Y axis string corrected value is: [0.024, 0.02, 0.017, 0.016, 0.014, 3.0, 0.01, 0.006]\n",
      "I am in try\n"
     ]
    },
    {
     "name": "stderr",
     "output_type": "stream",
     "text": [
      "\r",
      "Processing files:   6%|███▉                                                          | 64/1000 [01:32<23:09,  1.48s/it]"
     ]
    },
    {
     "name": "stdout",
     "output_type": "stream",
     "text": [
      "Y axis string value is: 0.05,0.04,0.03,0.02:,0.01\n",
      "I am in 1st try\n",
      "Y axis string corrected value is: [0.05, 0.04, 0.03, 0.01]\n",
      "I am in try\n"
     ]
    },
    {
     "name": "stderr",
     "output_type": "stream",
     "text": [
      "\r",
      "Processing files:   6%|████                                                          | 65/1000 [01:34<22:30,  1.44s/it]"
     ]
    },
    {
     "name": "stdout",
     "output_type": "stream",
     "text": [
      "Y axis string value is: \n",
      "I am in 1st try\n"
     ]
    },
    {
     "name": "stderr",
     "output_type": "stream",
     "text": [
      "\r",
      "Processing files:   7%|████                                                          | 66/1000 [01:35<22:06,  1.42s/it]"
     ]
    },
    {
     "name": "stdout",
     "output_type": "stream",
     "text": [
      "Y axis string value is: \n",
      "I am in 1st try\n"
     ]
    },
    {
     "name": "stderr",
     "output_type": "stream",
     "text": [
      "\r",
      "Processing files:   7%|████▏                                                         | 67/1000 [01:37<22:15,  1.43s/it]"
     ]
    },
    {
     "name": "stdout",
     "output_type": "stream",
     "text": [
      "Y axis string value is: 4e-10,3.5e-10,3e-10,2.5e-10,2e-10,1.Se-10/,Ie-10,Se-11\n",
      "I am in 1st try\n",
      "Y axis string corrected value is: [4e-10, 3.5e-10, 3e-10, 2.5e-10, 2e-10, 1.5e-10, 1e-10, 5e-11]\n",
      "I am in try\n"
     ]
    },
    {
     "name": "stderr",
     "output_type": "stream",
     "text": [
      "\r",
      "Processing files:   7%|████▏                                                         | 68/1000 [01:38<22:32,  1.45s/it]"
     ]
    },
    {
     "name": "stdout",
     "output_type": "stream",
     "text": [
      "Y axis string value is: 01,0.09,0.08,0.07,0.06,005,0.04,aoQ\n",
      "I am in 1st try\n",
      "Y axis string corrected value is: [0.1, 0.09, 0.08, 0.07, 0.06, 0.05, 0.04]\n",
      "I am in try\n"
     ]
    },
    {
     "name": "stderr",
     "output_type": "stream",
     "text": [
      "\r",
      "Processing files:   7%|████▎                                                         | 69/1000 [01:40<23:29,  1.51s/it]"
     ]
    },
    {
     "name": "stdout",
     "output_type": "stream",
     "text": [
      "Y axis string value is: 0.1,0.08,0.06:,0.04:,0.02\n",
      "I am in 1st try\n",
      "Y axis string corrected value is: [0.1, 0.08, 0.02]\n",
      "I am in try\n"
     ]
    },
    {
     "name": "stderr",
     "output_type": "stream",
     "text": [
      "\r",
      "Processing files:   7%|████▎                                                         | 70/1000 [01:41<23:16,  1.50s/it]"
     ]
    },
    {
     "name": "stdout",
     "output_type": "stream",
     "text": [
      "Y axis string value is: 0.006,0.005,0.004,0.003,0.0021,0.001\n",
      "I am in 1st try\n",
      "Y axis string corrected value is: [0.006, 0.005, 0.004, 0.003, 0.0021, 0.001]\n",
      "I am in try\n"
     ]
    },
    {
     "name": "stderr",
     "output_type": "stream",
     "text": [
      "\r",
      "Processing files:   7%|████▍                                                         | 71/1000 [01:43<23:23,  1.51s/it]"
     ]
    },
    {
     "name": "stdout",
     "output_type": "stream",
     "text": [
      "Y axis string value is: 0.0475,0.045,0.04251,0.04.,0.0375,0.035,0.0325\n",
      "I am in 1st try\n",
      "Y axis string corrected value is: [0.0475, 0.045, 0.04251, 0.0375, 0.035, 0.0325]\n",
      "I am in try\n"
     ]
    },
    {
     "name": "stderr",
     "output_type": "stream",
     "text": [
      "\r",
      "Processing files:   7%|████▍                                                         | 72/1000 [01:44<22:35,  1.46s/it]"
     ]
    },
    {
     "name": "stdout",
     "output_type": "stream",
     "text": [
      "Y axis string value is: \n",
      "I am in 1st try\n"
     ]
    },
    {
     "name": "stderr",
     "output_type": "stream",
     "text": [
      "\r",
      "Processing files:   7%|████▌                                                         | 73/1000 [01:46<22:51,  1.48s/it]"
     ]
    },
    {
     "name": "stdout",
     "output_type": "stream",
     "text": [
      "Y axis string value is: 0.03090,0.00080,0.000070,0.0060,0.0004B,0.00040,0.02030,0.000020\n",
      "I am in 1st try\n",
      "Y axis string corrected value is: [0.0309, 0.0008, 7e-05, 0.006, 0.00048, 0.0004, 0.0203, 2e-05]\n",
      "I am in try\n"
     ]
    },
    {
     "name": "stderr",
     "output_type": "stream",
     "text": [
      "\r",
      "Processing files:   7%|████▌                                                         | 74/1000 [01:47<22:55,  1.49s/it]"
     ]
    },
    {
     "name": "stdout",
     "output_type": "stream",
     "text": [
      "Y axis string value is: 0.000007,0.000006,0.000005;,0.0000045,0.0000003:,0.000002,0.000001\n",
      "I am in 1st try\n",
      "Y axis string corrected value is: [7e-06, 6e-06, 4.5e-06, 2e-06, 1e-06]\n",
      "I am in try\n"
     ]
    },
    {
     "name": "stderr",
     "output_type": "stream",
     "text": [
      "\r",
      "Processing files:   8%|████▋                                                         | 75/1000 [01:49<22:34,  1.46s/it]"
     ]
    },
    {
     "name": "stdout",
     "output_type": "stream",
     "text": [
      "Y axis string value is: 1.25,1.22,1.15,1.1,1.05\n",
      "I am in 1st try\n",
      "Y axis string corrected value is: [1.25, 1.22, 1.15, 1.1, 1.05]\n",
      "I am in try\n"
     ]
    },
    {
     "name": "stderr",
     "output_type": "stream",
     "text": [
      "\r",
      "Processing files:   8%|████▋                                                         | 76/1000 [01:50<22:01,  1.43s/it]"
     ]
    },
    {
     "name": "stdout",
     "output_type": "stream",
     "text": [
      "Y axis string value is: \n",
      "I am in 1st try\n"
     ]
    },
    {
     "name": "stderr",
     "output_type": "stream",
     "text": [
      "\r",
      "Processing files:   8%|████▊                                                         | 77/1000 [01:51<22:08,  1.44s/it]"
     ]
    },
    {
     "name": "stdout",
     "output_type": "stream",
     "text": [
      "Y axis string value is: 0.06,0.05,0.04,0.03,0.02,0.01\n",
      "I am in 1st try\n",
      "Y axis string corrected value is: [0.06, 0.05, 0.04, 0.03, 0.02, 0.01]\n",
      "I am in try\n"
     ]
    },
    {
     "name": "stderr",
     "output_type": "stream",
     "text": [
      "\r",
      "Processing files:   8%|████▊                                                         | 78/1000 [01:53<22:26,  1.46s/it]"
     ]
    },
    {
     "name": "stdout",
     "output_type": "stream",
     "text": [
      "Y axis string value is: 0.000035,0.00003,0.000025,0.00002,0.00001 5,0.00001\n",
      "I am in 1st try\n",
      "Y axis string corrected value is: [3.5e-05, 3e-05, 2.5e-05, 2e-05, 1e-05]\n",
      "I am in try\n"
     ]
    },
    {
     "name": "stderr",
     "output_type": "stream",
     "text": [
      "\r",
      "Processing files:   8%|████▉                                                         | 79/1000 [01:54<22:22,  1.46s/it]"
     ]
    },
    {
     "name": "stdout",
     "output_type": "stream",
     "text": [
      "Y axis string value is: 0.0000215\n",
      "I am in 1st try\n",
      "Y axis string corrected value is: [2.15e-05]\n"
     ]
    },
    {
     "name": "stderr",
     "output_type": "stream",
     "text": [
      "\r",
      "Processing files:   8%|████▉                                                         | 80/1000 [01:56<22:28,  1.47s/it]"
     ]
    },
    {
     "name": "stdout",
     "output_type": "stream",
     "text": [
      "Y axis string value is: 0.035,0.03,0.025,0.02,0.015,0.01,0.005\n",
      "I am in 1st try\n",
      "Y axis string corrected value is: [0.035, 0.03, 0.025, 0.02, 0.015, 0.01, 0.005]\n",
      "I am in try\n"
     ]
    },
    {
     "name": "stderr",
     "output_type": "stream",
     "text": [
      "\r",
      "Processing files:   8%|█████                                                         | 81/1000 [01:57<23:00,  1.50s/it]"
     ]
    },
    {
     "name": "stdout",
     "output_type": "stream",
     "text": [
      "Y axis string value is: 0.0000092,0.00009,0.00008,0.00000086,O.000084,0.00000082,0.0000080,0.000000078,0.0000.076,0.000080074,0.00000072,0.0000070,0.0000068,0.0000006,0.003080005664,0.0000062,0.00800060,0.0000058,Cop\n",
      "I am in 1st try\n",
      "Y axis string corrected value is: [9.2e-06, 9e-05, 8e-05, 8.6e-07, 8.4e-05, 8.2e-07, 8e-06, 7.8e-08, 8.0074e-05, 7.2e-07, 7e-06, 6.8e-06, 6e-07, 0.003080005664, 6.2e-06, 0.0080006, 5.8e-06]\n",
      "I am in try\n"
     ]
    },
    {
     "name": "stderr",
     "output_type": "stream",
     "text": [
      "\r",
      "Processing files:   8%|█████                                                         | 82/1000 [01:59<22:13,  1.45s/it]"
     ]
    },
    {
     "name": "stdout",
     "output_type": "stream",
     "text": [
      "Y axis string value is: \n",
      "I am in 1st try\n"
     ]
    },
    {
     "name": "stderr",
     "output_type": "stream",
     "text": [
      "\r",
      "Processing files:   8%|█████▏                                                        | 83/1000 [02:00<22:01,  1.44s/it]"
     ]
    },
    {
     "name": "stdout",
     "output_type": "stream",
     "text": [
      "Y axis string value is: 4.425,4.4,4.375,4.35,4.325,4.3,4.275\n",
      "I am in 1st try\n",
      "Y axis string corrected value is: [4.425, 4.4, 4.375, 4.35, 4.325, 4.3, 4.275]\n",
      "I am in try\n"
     ]
    },
    {
     "name": "stderr",
     "output_type": "stream",
     "text": [
      "\r",
      "Processing files:   8%|█████▏                                                        | 84/1000 [02:02<22:12,  1.45s/it]"
     ]
    },
    {
     "name": "stdout",
     "output_type": "stream",
     "text": [
      "Y axis string value is: 60,50,40,30,20,10\n",
      "I am in 1st try\n",
      "Y axis string corrected value is: [60.0, 50.0, 40.0, 30.0, 20.0, 10.0]\n",
      "I am in try\n"
     ]
    },
    {
     "name": "stderr",
     "output_type": "stream",
     "text": [
      "\r",
      "Processing files:   8%|█████▎                                                        | 85/1000 [02:03<21:52,  1.43s/it]"
     ]
    },
    {
     "name": "stdout",
     "output_type": "stream",
     "text": [
      "Y axis string value is: \n",
      "I am in 1st try\n"
     ]
    },
    {
     "name": "stderr",
     "output_type": "stream",
     "text": [
      "\r",
      "Processing files:   9%|█████▎                                                        | 86/1000 [02:04<21:14,  1.39s/it]"
     ]
    },
    {
     "name": "stdout",
     "output_type": "stream",
     "text": [
      "Y axis string value is: \n",
      "I am in 1st try\n"
     ]
    },
    {
     "name": "stderr",
     "output_type": "stream",
     "text": [
      "\r",
      "Processing files:   9%|█████▍                                                        | 87/1000 [02:06<21:49,  1.43s/it]"
     ]
    },
    {
     "name": "stdout",
     "output_type": "stream",
     "text": [
      "Y axis string value is: 0.026,0024,0.022,0020,0018,0.016,0.014,0.012,0.0100,00080,0060,0.0040,0.0020,0.0013,Cap\n",
      "I am in 1st try\n",
      "Y axis string corrected value is: [0.026, 0.024, 0.022, 0.02, 0.018, 0.016, 0.014, 0.012, 0.01, 0.008, 0.06, 0.004, 0.002, 0.0013]\n",
      "I am in try\n"
     ]
    },
    {
     "name": "stderr",
     "output_type": "stream",
     "text": [
      "\r",
      "Processing files:   9%|█████▍                                                        | 88/1000 [02:07<21:36,  1.42s/it]"
     ]
    },
    {
     "name": "stdout",
     "output_type": "stream",
     "text": [
      "Y axis string value is: \n",
      "I am in 1st try\n"
     ]
    },
    {
     "name": "stderr",
     "output_type": "stream",
     "text": [
      "\r",
      "Processing files:   9%|█████▌                                                        | 89/1000 [02:09<21:29,  1.42s/it]"
     ]
    },
    {
     "name": "stdout",
     "output_type": "stream",
     "text": [
      "Y axis string value is: 0.00025,0.000021,0.00015,0.0001,0.000005\n",
      "I am in 1st try\n",
      "Y axis string corrected value is: [0.00025, 2.1e-05, 0.00015, 0.0001, 5e-06]\n",
      "I am in try\n"
     ]
    },
    {
     "name": "stderr",
     "output_type": "stream",
     "text": [
      "\r",
      "Processing files:   9%|█████▌                                                        | 90/1000 [02:10<21:20,  1.41s/it]"
     ]
    },
    {
     "name": "stdout",
     "output_type": "stream",
     "text": [
      "Y axis string value is: \n",
      "I am in 1st try\n"
     ]
    },
    {
     "name": "stderr",
     "output_type": "stream",
     "text": [
      "\r",
      "Processing files:   9%|█████▋                                                        | 91/1000 [02:11<21:34,  1.42s/it]"
     ]
    },
    {
     "name": "stdout",
     "output_type": "stream",
     "text": [
      "Y axis string value is: 0.0000192,0.0000191,0.000019,0.0000189,0.0000188,0.0000187,0.0000186,0.0000185\n",
      "I am in 1st try\n",
      "Y axis string corrected value is: [1.92e-05, 1.91e-05, 1.9e-05, 1.89e-05, 1.88e-05, 1.87e-05, 1.86e-05, 1.85e-05]\n",
      "I am in try\n"
     ]
    },
    {
     "name": "stderr",
     "output_type": "stream",
     "text": [
      "\r",
      "Processing files:   9%|█████▋                                                        | 92/1000 [02:13<21:22,  1.41s/it]"
     ]
    },
    {
     "name": "stdout",
     "output_type": "stream",
     "text": [
      "Y axis string value is: \n",
      "I am in 1st try\n"
     ]
    },
    {
     "name": "stderr",
     "output_type": "stream",
     "text": [
      "\r",
      "Processing files:   9%|█████▊                                                        | 93/1000 [02:14<21:23,  1.42s/it]"
     ]
    },
    {
     "name": "stdout",
     "output_type": "stream",
     "text": [
      "Y axis string value is: 0.0048725,0.00487,0.0048675,0.004865,0.0048625,0.00486,0.0048575\n",
      "I am in 1st try\n",
      "Y axis string corrected value is: [0.0048725, 0.00487, 0.0048675, 0.004865, 0.0048625, 0.00486, 0.0048575]\n",
      "I am in try\n"
     ]
    },
    {
     "name": "stderr",
     "output_type": "stream",
     "text": [
      "\r",
      "Processing files:   9%|█████▊                                                        | 94/1000 [02:16<21:43,  1.44s/it]"
     ]
    },
    {
     "name": "stdout",
     "output_type": "stream",
     "text": [
      "Y axis string value is: 0.0006,,0.0ooss},0.0005,0.00045;,0.00004',0.00035,0.0003\n",
      "I am in 1st try\n"
     ]
    },
    {
     "name": "stderr",
     "output_type": "stream",
     "text": [
      "\r",
      "Processing files:  10%|█████▉                                                        | 95/1000 [02:17<22:00,  1.46s/it]"
     ]
    },
    {
     "name": "stdout",
     "output_type": "stream",
     "text": [
      "Y axis string value is: 1.2Se-9,Ie-9,7.Se-10L,Se-10,2.Se-10\n",
      "I am in 1st try\n",
      "Y axis string corrected value is: [1.25e-09, 1e-09, 7.5e-101, 5e-10, 2.5e-10]\n",
      "I am in try\n"
     ]
    },
    {
     "name": "stderr",
     "output_type": "stream",
     "text": [
      "\r",
      "Processing files:  10%|█████▉                                                        | 96/1000 [02:19<22:50,  1.52s/it]"
     ]
    },
    {
     "name": "stdout",
     "output_type": "stream",
     "text": [
      "Y axis string value is: Ulunubi,0.00067,0.00066,0.00066,0.00066,0.00086,0.00065,0.0065,0.000,65,000065,0.00.065,0.000065,0.00064,0.00064,0.00064,0.00054,0.00064,0 0063,Cop,0.00063,0.00063\n",
      "I am in 1st try\n",
      "Y axis string corrected value is: [0.00067, 0.00066, 0.00066, 0.00066, 0.00086, 0.00065, 0.0065, 0.0, 65.0, 0.00065, 6.5e-05, 0.00064, 0.00064, 0.00064, 0.00054, 0.00064, 0.0063, 0.00063, 0.00063]\n"
     ]
    },
    {
     "name": "stderr",
     "output_type": "stream",
     "text": [
      "\r",
      "Processing files:  10%|██████                                                        | 97/1000 [02:20<22:50,  1.52s/it]"
     ]
    },
    {
     "name": "stdout",
     "output_type": "stream",
     "text": [
      "Y axis string value is: 0.175,0.15,0.125,0.,0.075,0.05\n",
      "I am in 1st try\n",
      "Y axis string corrected value is: [0.175, 0.15, 0.125, 0.0, 0.075, 0.05]\n",
      "I am in try\n"
     ]
    },
    {
     "name": "stderr",
     "output_type": "stream",
     "text": [
      "\r",
      "Processing files:  10%|██████                                                        | 98/1000 [02:22<22:19,  1.49s/it]"
     ]
    },
    {
     "name": "stdout",
     "output_type": "stream",
     "text": [
      "Y axis string value is: \n",
      "I am in 1st try\n"
     ]
    },
    {
     "name": "stderr",
     "output_type": "stream",
     "text": [
      "\r",
      "Processing files:  10%|██████▏                                                       | 99/1000 [02:23<21:24,  1.43s/it]"
     ]
    },
    {
     "name": "stdout",
     "output_type": "stream",
     "text": [
      "Y axis string value is: \n",
      "I am in 1st try\n"
     ]
    },
    {
     "name": "stderr",
     "output_type": "stream",
     "text": [
      "\r",
      "Processing files:  10%|██████                                                       | 100/1000 [02:25<21:50,  1.46s/it]"
     ]
    },
    {
     "name": "stdout",
     "output_type": "stream",
     "text": [
      "Y axis string value is: 0.0065,0.006,0.0055,0.005,0.0045,0.004,0.0035,0.003\n",
      "I am in 1st try\n",
      "Y axis string corrected value is: [0.0065, 0.006, 0.0055, 0.005, 0.0045, 0.004, 0.0035, 0.003]\n",
      "I am in try\n"
     ]
    },
    {
     "name": "stderr",
     "output_type": "stream",
     "text": [
      "\r",
      "Processing files:  10%|██████▏                                                      | 101/1000 [02:26<21:59,  1.47s/it]"
     ]
    },
    {
     "name": "stdout",
     "output_type": "stream",
     "text": [
      "Y axis string value is: 0.0125,0.01,0.0075,0.005,0.0025\n",
      "I am in 1st try\n",
      "Y axis string corrected value is: [0.0125, 0.01, 0.0075, 0.005, 0.0025]\n",
      "I am in try\n"
     ]
    },
    {
     "name": "stderr",
     "output_type": "stream",
     "text": [
      "\r",
      "Processing files:  10%|██████▏                                                      | 102/1000 [02:28<21:34,  1.44s/it]"
     ]
    },
    {
     "name": "stdout",
     "output_type": "stream",
     "text": [
      "Y axis string value is: \n",
      "I am in 1st try\n"
     ]
    },
    {
     "name": "stderr",
     "output_type": "stream",
     "text": [
      "\r",
      "Processing files:  10%|██████▎                                                      | 103/1000 [02:29<21:43,  1.45s/it]"
     ]
    },
    {
     "name": "stdout",
     "output_type": "stream",
     "text": [
      "Y axis string value is: 0.0002,0.000175,0.00015,0.000125,0.0001,0.000075\n",
      "I am in 1st try\n",
      "Y axis string corrected value is: [0.0002, 0.000175, 0.00015, 0.000125, 0.0001, 7.5e-05]\n",
      "I am in try\n"
     ]
    },
    {
     "name": "stderr",
     "output_type": "stream",
     "text": [
      "\r",
      "Processing files:  10%|██████▎                                                      | 104/1000 [02:31<21:44,  1.46s/it]"
     ]
    },
    {
     "name": "stdout",
     "output_type": "stream",
     "text": [
      "Y axis string value is: Se-10,4.Se-10,4e-10,3.Se-10,3e-101,2.Se-10,2e-10,1.Se-10,Ie-10\n",
      "I am in 1st try\n",
      "Y axis string corrected value is: [5e-10, 4.5e-10, 4e-10, 3.5e-10, 3e-101, 2.5e-10, 2e-10, 1.5e-10, 1e-10]\n",
      "I am in try\n"
     ]
    },
    {
     "name": "stderr",
     "output_type": "stream",
     "text": [
      "\r",
      "Processing files:  10%|██████▍                                                      | 105/1000 [02:32<21:18,  1.43s/it]"
     ]
    },
    {
     "name": "stdout",
     "output_type": "stream",
     "text": [
      "Y axis string value is: \n",
      "I am in 1st try\n"
     ]
    },
    {
     "name": "stderr",
     "output_type": "stream",
     "text": [
      "\r",
      "Processing files:  11%|██████▍                                                      | 106/1000 [02:33<21:21,  1.43s/it]"
     ]
    },
    {
     "name": "stdout",
     "output_type": "stream",
     "text": [
      "Y axis string value is: 0.1325,0.13,0.1275,0.125,0.1225,0.12\n",
      "I am in 1st try\n",
      "Y axis string corrected value is: [0.1325, 0.13, 0.1275, 0.125, 0.1225, 0.12]\n",
      "I am in try\n"
     ]
    },
    {
     "name": "stderr",
     "output_type": "stream",
     "text": [
      "\r",
      "Processing files:  11%|██████▌                                                      | 107/1000 [02:35<21:27,  1.44s/it]"
     ]
    },
    {
     "name": "stdout",
     "output_type": "stream",
     "text": [
      "Y axis string value is: 180,170,160,150,140\n",
      "I am in 1st try\n",
      "Y axis string corrected value is: [180.0, 170.0, 160.0, 150.0, 140.0]\n",
      "I am in try\n"
     ]
    },
    {
     "name": "stderr",
     "output_type": "stream",
     "text": [
      "\r",
      "Processing files:  11%|██████▌                                                      | 108/1000 [02:36<21:17,  1.43s/it]"
     ]
    },
    {
     "name": "stdout",
     "output_type": "stream",
     "text": [
      "Y axis string value is: 0.0024299\n",
      "I am in 1st try\n",
      "Y axis string corrected value is: [0.0024299]\n"
     ]
    },
    {
     "name": "stderr",
     "output_type": "stream",
     "text": [
      "\r",
      "Processing files:  11%|██████▋                                                      | 109/1000 [02:38<21:14,  1.43s/it]"
     ]
    },
    {
     "name": "stdout",
     "output_type": "stream",
     "text": [
      "Y axis string value is: 0.0000034\n",
      "I am in 1st try\n",
      "Y axis string corrected value is: [3.4e-06]\n"
     ]
    },
    {
     "name": "stderr",
     "output_type": "stream",
     "text": [
      "\r",
      "Processing files:  11%|██████▋                                                      | 110/1000 [02:39<21:27,  1.45s/it]"
     ]
    },
    {
     "name": "stdout",
     "output_type": "stream",
     "text": [
      "Y axis string value is: 9-14,8e-14:,7e-14,6e-14,Se-14\n",
      "I am in 1st try\n",
      "Y axis string corrected value is: [8e-14, 7e-14, 6e-14, 5e-14]\n",
      "I am in try\n"
     ]
    },
    {
     "name": "stderr",
     "output_type": "stream",
     "text": [
      "\r",
      "Processing files:  11%|██████▊                                                      | 111/1000 [02:41<21:36,  1.46s/it]"
     ]
    },
    {
     "name": "stdout",
     "output_type": "stream",
     "text": [
      "Y axis string value is: 0.35,0.35,0.25,0.15,0.1,0.05,0.27\n",
      "I am in 1st try\n",
      "Y axis string corrected value is: [0.35, 0.35, 0.25, 0.15, 0.1, 0.05, 0.27]\n",
      "I am in try\n"
     ]
    },
    {
     "name": "stderr",
     "output_type": "stream",
     "text": [
      "\r",
      "Processing files:  11%|██████▊                                                      | 112/1000 [02:42<21:51,  1.48s/it]"
     ]
    },
    {
     "name": "stdout",
     "output_type": "stream",
     "text": [
      "Y axis string value is: 0.0020,0.0018,0.0016,0.0014,0.0012,0.00100,0.000080,0.000060,0.00040,0.00020\n",
      "I am in 1st try\n",
      "Y axis string corrected value is: [0.002, 0.0018, 0.0016, 0.0014, 0.0012, 0.001, 8e-05, 6e-05, 0.0004, 0.0002]\n",
      "I am in try\n"
     ]
    },
    {
     "name": "stderr",
     "output_type": "stream",
     "text": [
      "\r",
      "Processing files:  11%|██████▉                                                      | 113/1000 [02:43<21:26,  1.45s/it]"
     ]
    },
    {
     "name": "stdout",
     "output_type": "stream",
     "text": [
      "Y axis string value is: \n",
      "I am in 1st try\n"
     ]
    },
    {
     "name": "stderr",
     "output_type": "stream",
     "text": [
      "\r",
      "Processing files:  11%|██████▉                                                      | 114/1000 [02:45<20:57,  1.42s/it]"
     ]
    },
    {
     "name": "stdout",
     "output_type": "stream",
     "text": [
      "Y axis string value is: \n",
      "I am in 1st try\n"
     ]
    },
    {
     "name": "stderr",
     "output_type": "stream",
     "text": [
      "\r",
      "Processing files:  12%|███████                                                      | 115/1000 [02:46<20:58,  1.42s/it]"
     ]
    },
    {
     "name": "stdout",
     "output_type": "stream",
     "text": [
      "Y axis string value is: 0.00175,0.0015,0.00125,0.001,0.00075,0.0005,0.00025\n",
      "I am in 1st try\n",
      "Y axis string corrected value is: [0.00175, 0.0015, 0.00125, 0.001, 0.00075, 0.0005, 0.00025]\n",
      "I am in try\n"
     ]
    },
    {
     "name": "stderr",
     "output_type": "stream",
     "text": [
      "\r",
      "Processing files:  12%|███████                                                      | 116/1000 [02:48<21:08,  1.44s/it]"
     ]
    },
    {
     "name": "stdout",
     "output_type": "stream",
     "text": [
      "Y axis string value is: 0.175,0.15,0.1251,0_,0.075,0.05,0.025\n",
      "I am in 1st try\n",
      "Y axis string corrected value is: [0.175, 0.15, 0.1251, 0.075, 0.05, 0.025]\n",
      "I am in try\n"
     ]
    },
    {
     "name": "stderr",
     "output_type": "stream",
     "text": [
      "\r",
      "Processing files:  12%|███████▏                                                     | 117/1000 [02:49<21:03,  1.43s/it]"
     ]
    },
    {
     "name": "stdout",
     "output_type": "stream",
     "text": [
      "Y axis string value is: 0.0032997\n",
      "I am in 1st try\n",
      "Y axis string corrected value is: [0.0032997]\n"
     ]
    },
    {
     "name": "stderr",
     "output_type": "stream",
     "text": [
      "\r",
      "Processing files:  12%|███████▏                                                     | 118/1000 [02:51<20:51,  1.42s/it]"
     ]
    },
    {
     "name": "stdout",
     "output_type": "stream",
     "text": [
      "Y axis string value is: 0.028,0.0275,0.027,0.0265,0.026,0.0255,0.025^\n",
      "I am in 1st try\n",
      "Y axis string corrected value is: [0.028, 0.0275, 0.027, 0.0265, 0.026, 0.0255]\n",
      "I am in try\n"
     ]
    },
    {
     "name": "stderr",
     "output_type": "stream",
     "text": [
      "\r",
      "Processing files:  12%|███████▎                                                     | 119/1000 [02:52<21:02,  1.43s/it]"
     ]
    },
    {
     "name": "stdout",
     "output_type": "stream",
     "text": [
      "Y axis string value is: Se-7,4e-7.,3e-7,2e-7,1e-7\n",
      "I am in 1st try\n",
      "Y axis string corrected value is: [5e-07, 3e-07, 2e-07, 1e-07]\n",
      "I am in try\n"
     ]
    },
    {
     "name": "stderr",
     "output_type": "stream",
     "text": [
      "\r",
      "Processing files:  12%|███████▎                                                     | 120/1000 [02:54<21:22,  1.46s/it]"
     ]
    },
    {
     "name": "stdout",
     "output_type": "stream",
     "text": [
      "Y axis string value is: 0.0000022600\n",
      "I am in 1st try\n",
      "Y axis string corrected value is: [2.26e-06]\n"
     ]
    },
    {
     "name": "stderr",
     "output_type": "stream",
     "text": [
      "\r",
      "Processing files:  12%|███████▍                                                     | 121/1000 [02:55<21:29,  1.47s/it]"
     ]
    },
    {
     "name": "stdout",
     "output_type": "stream",
     "text": [
      "Y axis string value is: 0.00001 75,0.00001 5,0.0000125,0.00001,0.0000075,0.000005\n",
      "I am in 1st try\n",
      "Y axis string corrected value is: [1.25e-05, 1e-05, 7.5e-06, 5e-06]\n",
      "I am in try\n"
     ]
    },
    {
     "name": "stderr",
     "output_type": "stream",
     "text": [
      "\r",
      "Processing files:  12%|███████▍                                                     | 122/1000 [02:57<21:38,  1.48s/it]"
     ]
    },
    {
     "name": "stdout",
     "output_type": "stream",
     "text": [
      "Y axis string value is: 0.0008085,0.000080,0.0000075,0.000070,0.00808085,0.0000050,0.0000055,0.000050,0.000045,0.0000040,0.0000035,0.0000030,0.000.025,0.0000020,0.0000015,0.0000010,0.0000050,0000008084,cap\n",
      "I am in 1st try\n",
      "Y axis string corrected value is: [0.0008085, 8e-05, 7.5e-06, 7e-05, 0.00808085, 5e-06, 5.5e-06, 5e-05, 4.5e-05, 4e-06, 3.5e-06, 3e-06, 2e-06, 1.5e-06, 1e-06, 5e-06, 8.084e-06]\n",
      "I am in try\n"
     ]
    },
    {
     "name": "stderr",
     "output_type": "stream",
     "text": [
      "\r",
      "Processing files:  12%|███████▌                                                     | 123/1000 [02:58<21:33,  1.48s/it]"
     ]
    },
    {
     "name": "stdout",
     "output_type": "stream",
     "text": [
      "Y axis string value is: '6,5,3\n",
      "I am in 1st try\n",
      "Y axis string corrected value is: [5.0, 3.0]\n",
      "I am in try\n"
     ]
    },
    {
     "name": "stderr",
     "output_type": "stream",
     "text": [
      "\r",
      "Processing files:  12%|███████▌                                                     | 124/1000 [02:59<21:37,  1.48s/it]"
     ]
    },
    {
     "name": "stdout",
     "output_type": "stream",
     "text": [
      "Y axis string value is: 0.12,0.1,0.08,0.06,0.04,0.02\n",
      "I am in 1st try\n",
      "Y axis string corrected value is: [0.12, 0.1, 0.08, 0.06, 0.04, 0.02]\n",
      "I am in try\n"
     ]
    },
    {
     "name": "stderr",
     "output_type": "stream",
     "text": [
      "\r",
      "Processing files:  12%|███████▋                                                     | 125/1000 [03:01<21:13,  1.45s/it]"
     ]
    },
    {
     "name": "stdout",
     "output_type": "stream",
     "text": [
      "Y axis string value is: \n",
      "I am in 1st try\n"
     ]
    },
    {
     "name": "stderr",
     "output_type": "stream",
     "text": [
      "\r",
      "Processing files:  13%|███████▋                                                     | 126/1000 [03:02<21:11,  1.45s/it]"
     ]
    },
    {
     "name": "stdout",
     "output_type": "stream",
     "text": [
      "Y axis string value is: 0.0035,0.003,0.0025,0.002,0.0015,0.001\n",
      "I am in 1st try\n",
      "Y axis string corrected value is: [0.0035, 0.003, 0.0025, 0.002, 0.0015, 0.001]\n",
      "I am in try\n"
     ]
    },
    {
     "name": "stderr",
     "output_type": "stream",
     "text": [
      "\r",
      "Processing files:  13%|███████▋                                                     | 127/1000 [03:04<21:29,  1.48s/it]"
     ]
    },
    {
     "name": "stdout",
     "output_type": "stream",
     "text": [
      "Y axis string value is: 0.025,0.0225,0.02,0.0175,0.015,0.0125\n",
      "I am in 1st try\n",
      "Y axis string corrected value is: [0.025, 0.0225, 0.02, 0.0175, 0.015, 0.0125]\n",
      "I am in try\n"
     ]
    },
    {
     "name": "stderr",
     "output_type": "stream",
     "text": [
      "\r",
      "Processing files:  13%|███████▊                                                     | 128/1000 [03:05<21:08,  1.45s/it]"
     ]
    },
    {
     "name": "stdout",
     "output_type": "stream",
     "text": [
      "Y axis string value is: \n",
      "I am in 1st try\n"
     ]
    },
    {
     "name": "stderr",
     "output_type": "stream",
     "text": [
      "\r",
      "Processing files:  13%|███████▊                                                     | 129/1000 [03:07<21:06,  1.45s/it]"
     ]
    },
    {
     "name": "stdout",
     "output_type": "stream",
     "text": [
      "Y axis string value is: 0.055,0.054,0.053,0.052,0.051\n",
      "I am in 1st try\n",
      "Y axis string corrected value is: [0.055, 0.054, 0.053, 0.052, 0.051]\n",
      "I am in try\n"
     ]
    },
    {
     "name": "stderr",
     "output_type": "stream",
     "text": [
      "\r",
      "Processing files:  13%|███████▉                                                     | 130/1000 [03:08<21:11,  1.46s/it]"
     ]
    },
    {
     "name": "stdout",
     "output_type": "stream",
     "text": [
      "Y axis string value is: 3.660,3.650,3.640,3.630,3.620,3.610,3.600,3.590,3.580,3.570,3.560,3.550,Cop\n",
      "I am in 1st try\n",
      "Y axis string corrected value is: [3.66, 3.65, 3.64, 3.63, 3.62, 3.61, 3.6, 3.59, 3.58, 3.57, 3.56, 3.55]\n",
      "I am in try\n"
     ]
    },
    {
     "name": "stderr",
     "output_type": "stream",
     "text": [
      "\r",
      "Processing files:  13%|███████▉                                                     | 131/1000 [03:10<21:24,  1.48s/it]"
     ]
    },
    {
     "name": "stdout",
     "output_type": "stream",
     "text": [
      "Y axis string value is: 3.425e-8,3.4e-8,3.375e-8,3.35e-8,3.325e-8,3.3e-8\n",
      "I am in 1st try\n",
      "Y axis string corrected value is: [3.425e-08, 3.4e-08, 3.375e-08, 3.35e-08, 3.325e-08, 3.3e-08]\n",
      "I am in try\n"
     ]
    },
    {
     "name": "stderr",
     "output_type": "stream",
     "text": [
      "\r",
      "Processing files:  13%|████████                                                     | 132/1000 [03:11<21:38,  1.50s/it]"
     ]
    },
    {
     "name": "stdout",
     "output_type": "stream",
     "text": [
      "Y axis string value is: 0.015,0.0125,0.01,0.0075,o.0051,0.0025\n",
      "I am in 1st try\n",
      "Y axis string corrected value is: [0.015, 0.0125, 0.01, 0.0075, 0.0051, 0.0025]\n",
      "I am in try\n"
     ]
    },
    {
     "name": "stderr",
     "output_type": "stream",
     "text": [
      "\r",
      "Processing files:  13%|████████                                                     | 133/1000 [03:13<21:32,  1.49s/it]"
     ]
    },
    {
     "name": "stdout",
     "output_type": "stream",
     "text": [
      "Y axis string value is: 1200,10001,800,600,,400,200\n",
      "I am in 1st try\n"
     ]
    },
    {
     "name": "stderr",
     "output_type": "stream",
     "text": [
      "\r",
      "Processing files:  13%|████████▏                                                    | 134/1000 [03:14<21:06,  1.46s/it]"
     ]
    },
    {
     "name": "stdout",
     "output_type": "stream",
     "text": [
      "Y axis string value is: \n",
      "I am in 1st try\n"
     ]
    },
    {
     "name": "stderr",
     "output_type": "stream",
     "text": [
      "\r",
      "Processing files:  14%|████████▏                                                    | 135/1000 [03:15<20:31,  1.42s/it]"
     ]
    },
    {
     "name": "stdout",
     "output_type": "stream",
     "text": [
      "Y axis string value is: \n",
      "I am in 1st try\n"
     ]
    },
    {
     "name": "stderr",
     "output_type": "stream",
     "text": [
      "\r",
      "Processing files:  14%|████████▎                                                    | 136/1000 [03:17<20:49,  1.45s/it]"
     ]
    },
    {
     "name": "stdout",
     "output_type": "stream",
     "text": [
      "Y axis string value is: 1.10,105,1.00,0.95,0.90,0.85,0.80,0.75,0.70,0.65,0.60,0.55,0.50,0.45,0.40,0.35,0.30,0.25,0.20,0.15,0.100,0.050,018,Lap\n",
      "I am in 1st try\n",
      "Y axis string corrected value is: [1.1, 105.0, 1.0, 0.95, 0.9, 0.85, 0.8, 0.75, 0.7, 0.65, 0.6, 0.55, 0.5, 0.45, 0.4, 0.35, 0.3, 0.25, 0.2, 0.15, 0.1, 0.05, 0.18]\n",
      "I am in try\n"
     ]
    },
    {
     "name": "stderr",
     "output_type": "stream",
     "text": [
      "\r",
      "Processing files:  14%|████████▎                                                    | 137/1000 [03:18<20:33,  1.43s/it]"
     ]
    },
    {
     "name": "stdout",
     "output_type": "stream",
     "text": [
      "Y axis string value is: \n",
      "I am in 1st try\n"
     ]
    },
    {
     "name": "stderr",
     "output_type": "stream",
     "text": [
      "Processing files:  14%|████████▍                                                    | 139/1000 [03:21<20:19,  1.42s/it]"
     ]
    },
    {
     "name": "stdout",
     "output_type": "stream",
     "text": [
      "Y axis string value is: 0.1124,0.1122,0.112,0.1118,0.1116\n",
      "I am in 1st try\n",
      "Y axis string corrected value is: [0.1124, 0.1122, 0.112, 0.1118, 0.1116]\n",
      "I am in try\n"
     ]
    },
    {
     "name": "stderr",
     "output_type": "stream",
     "text": [
      "\r",
      "Processing files:  14%|████████▌                                                    | 140/1000 [03:23<20:20,  1.42s/it]"
     ]
    },
    {
     "name": "stdout",
     "output_type": "stream",
     "text": [
      "Y axis string value is: 1.275,1.25,1.22251,1.2,1.175,1.15,1.125\n",
      "I am in 1st try\n",
      "Y axis string corrected value is: [1.275, 1.25, 1.22251, 1.2, 1.175, 1.15, 1.125]\n",
      "I am in try\n"
     ]
    },
    {
     "name": "stderr",
     "output_type": "stream",
     "text": [
      "\r",
      "Processing files:  14%|████████▌                                                    | 141/1000 [03:24<21:26,  1.50s/it]"
     ]
    },
    {
     "name": "stdout",
     "output_type": "stream",
     "text": [
      "Y axis string value is: 0.20,0.15,0.10,0.050,,0.00047\n",
      "I am in 1st try\n"
     ]
    },
    {
     "name": "stderr",
     "output_type": "stream",
     "text": [
      "\r",
      "Processing files:  14%|████████▋                                                    | 142/1000 [03:26<21:25,  1.50s/it]"
     ]
    },
    {
     "name": "stdout",
     "output_type": "stream",
     "text": [
      "Y axis string value is: 3e-11,2.Se-11,2e-11,1.Se-11,Ie-11,Se-12\n",
      "I am in 1st try\n",
      "Y axis string corrected value is: [3e-11, 2.5e-11, 2e-11, 1.5e-11, 1e-11, 5e-12]\n",
      "I am in try\n"
     ]
    },
    {
     "name": "stderr",
     "output_type": "stream",
     "text": [
      "\r",
      "Processing files:  14%|████████▋                                                    | 143/1000 [03:27<21:31,  1.51s/it]"
     ]
    },
    {
     "name": "stdout",
     "output_type": "stream",
     "text": [
      "Y axis string value is: 0.006,0.005,0.004,0.003,0.002\n",
      "I am in 1st try\n",
      "Y axis string corrected value is: [0.006, 0.005, 0.004, 0.003, 0.002]\n",
      "I am in try\n"
     ]
    },
    {
     "name": "stderr",
     "output_type": "stream",
     "text": [
      "\r",
      "Processing files:  14%|████████▊                                                    | 144/1000 [03:29<20:57,  1.47s/it]"
     ]
    },
    {
     "name": "stdout",
     "output_type": "stream",
     "text": [
      "Y axis string value is: \n",
      "I am in 1st try\n"
     ]
    },
    {
     "name": "stderr",
     "output_type": "stream",
     "text": [
      "\r",
      "Processing files:  14%|████████▊                                                    | 145/1000 [03:30<20:06,  1.41s/it]"
     ]
    },
    {
     "name": "stdout",
     "output_type": "stream",
     "text": [
      "Y axis string value is: \n",
      "I am in 1st try\n"
     ]
    },
    {
     "name": "stderr",
     "output_type": "stream",
     "text": [
      "\r",
      "Processing files:  15%|████████▉                                                    | 146/1000 [03:31<20:05,  1.41s/it]"
     ]
    },
    {
     "name": "stdout",
     "output_type": "stream",
     "text": [
      "Y axis string value is: 3.,2.5,,0.5;\n",
      "I am in 1st try\n"
     ]
    },
    {
     "name": "stderr",
     "output_type": "stream",
     "text": [
      "\r",
      "Processing files:  15%|████████▉                                                    | 147/1000 [03:33<20:38,  1.45s/it]"
     ]
    },
    {
     "name": "stdout",
     "output_type": "stream",
     "text": [
      "Y axis string value is: 1.4e-18,1.3e-18,1.2e-18,1.le-18,1e-18\n",
      "I am in 1st try\n",
      "Y axis string corrected value is: [1.4e-18, 1.3e-18, 1.2e-18, 1e-18, 1e-18]\n",
      "I am in try\n"
     ]
    },
    {
     "name": "stderr",
     "output_type": "stream",
     "text": [
      "\r",
      "Processing files:  15%|█████████                                                    | 148/1000 [03:34<20:19,  1.43s/it]"
     ]
    },
    {
     "name": "stdout",
     "output_type": "stream",
     "text": [
      "Y axis string value is: \n",
      "I am in 1st try\n"
     ]
    },
    {
     "name": "stderr",
     "output_type": "stream",
     "text": [
      "\r",
      "Processing files:  15%|█████████                                                    | 149/1000 [03:36<19:46,  1.39s/it]"
     ]
    },
    {
     "name": "stdout",
     "output_type": "stream",
     "text": [
      "Y axis string value is: \n",
      "I am in 1st try\n"
     ]
    },
    {
     "name": "stderr",
     "output_type": "stream",
     "text": [
      "\r",
      "Processing files:  15%|█████████▏                                                   | 150/1000 [03:37<19:54,  1.41s/it]"
     ]
    },
    {
     "name": "stdout",
     "output_type": "stream",
     "text": [
      "Y axis string value is: 0.8,0.7,0.6,0.5,0.4,0.3,0.2\n",
      "I am in 1st try\n",
      "Y axis string corrected value is: [0.8, 0.7, 0.6, 0.5, 0.4, 0.3, 0.2]\n",
      "I am in try\n"
     ]
    },
    {
     "name": "stderr",
     "output_type": "stream",
     "text": [
      "\r",
      "Processing files:  15%|█████████▏                                                   | 151/1000 [03:38<20:08,  1.42s/it]"
     ]
    },
    {
     "name": "stdout",
     "output_type": "stream",
     "text": [
      "Y axis string value is: 0.05,0.04,0.03,0.02:,0.01\n",
      "I am in 1st try\n",
      "Y axis string corrected value is: [0.05, 0.04, 0.03, 0.01]\n",
      "I am in try\n"
     ]
    },
    {
     "name": "stderr",
     "output_type": "stream",
     "text": [
      "\r",
      "Processing files:  15%|█████████▎                                                   | 152/1000 [03:40<20:47,  1.47s/it]"
     ]
    },
    {
     "name": "stdout",
     "output_type": "stream",
     "text": [
      "Y axis string value is: 0.0009,0.0008,0.0007,0.0006,0.00.05,0.0004,0.0003\n",
      "I am in 1st try\n",
      "Y axis string corrected value is: [0.0009, 0.0008, 0.0007, 0.0006, 0.0004, 0.0003]\n",
      "I am in try\n"
     ]
    },
    {
     "name": "stderr",
     "output_type": "stream",
     "text": [
      "\r",
      "Processing files:  15%|█████████▎                                                   | 153/1000 [03:42<20:59,  1.49s/it]"
     ]
    },
    {
     "name": "stdout",
     "output_type": "stream",
     "text": [
      "Y axis string value is: 0.009,0.0081,0.007,0.006,0.005,0.004,0.003\n",
      "I am in 1st try\n",
      "Y axis string corrected value is: [0.009, 0.0081, 0.007, 0.006, 0.005, 0.004, 0.003]\n",
      "I am in try\n"
     ]
    },
    {
     "name": "stderr",
     "output_type": "stream",
     "text": [
      "\r",
      "Processing files:  15%|█████████▍                                                   | 154/1000 [03:43<21:32,  1.53s/it]"
     ]
    },
    {
     "name": "stdout",
     "output_type": "stream",
     "text": [
      "Y axis string value is: 0836240\n",
      "I am in 1st try\n",
      "Y axis string corrected value is: [0.83624]\n"
     ]
    },
    {
     "name": "stderr",
     "output_type": "stream",
     "text": [
      "\r",
      "Processing files:  16%|█████████▍                                                   | 155/1000 [03:45<20:48,  1.48s/it]"
     ]
    },
    {
     "name": "stdout",
     "output_type": "stream",
     "text": [
      "Y axis string value is: \n",
      "I am in 1st try\n"
     ]
    },
    {
     "name": "stderr",
     "output_type": "stream",
     "text": [
      "\r",
      "Processing files:  16%|█████████▌                                                   | 156/1000 [03:46<20:33,  1.46s/it]"
     ]
    },
    {
     "name": "stdout",
     "output_type": "stream",
     "text": [
      "Y axis string value is: 0.36,0.34,0.32,0.3,0.28\n",
      "I am in 1st try\n",
      "Y axis string corrected value is: [0.36, 0.34, 0.32, 0.3, 0.28]\n",
      "I am in try\n"
     ]
    },
    {
     "name": "stderr",
     "output_type": "stream",
     "text": [
      "\r",
      "Processing files:  16%|█████████▌                                                   | 157/1000 [03:48<20:44,  1.48s/it]"
     ]
    },
    {
     "name": "stdout",
     "output_type": "stream",
     "text": [
      "Y axis string value is: 0.002165,0.00216,0.002155,0.00215,0.002145,0.00214,0.002135\n",
      "I am in 1st try\n",
      "Y axis string corrected value is: [0.002165, 0.00216, 0.002155, 0.00215, 0.002145, 0.00214, 0.002135]\n",
      "I am in try\n"
     ]
    },
    {
     "name": "stderr",
     "output_type": "stream",
     "text": [
      "\r",
      "Processing files:  16%|█████████▋                                                   | 158/1000 [03:49<21:00,  1.50s/it]"
     ]
    },
    {
     "name": "stdout",
     "output_type": "stream",
     "text": [
      "Y axis string value is: 1.9.,1.8,1.7,1.6,1.5,1.4-,1.3,\n",
      "I am in 1st try\n"
     ]
    },
    {
     "name": "stderr",
     "output_type": "stream",
     "text": [
      "\r",
      "Processing files:  16%|█████████▋                                                   | 159/1000 [03:51<20:57,  1.50s/it]"
     ]
    },
    {
     "name": "stdout",
     "output_type": "stream",
     "text": [
      "Y axis string value is: 0.6:,0.51,0.4',0.38,0.2,0.1\n",
      "I am in 1st try\n",
      "Y axis string corrected value is: [0.51, 0.38, 0.2, 0.1]\n",
      "I am in try\n"
     ]
    },
    {
     "name": "stderr",
     "output_type": "stream",
     "text": [
      "\r",
      "Processing files:  16%|█████████▊                                                   | 160/1000 [03:52<20:59,  1.50s/it]"
     ]
    },
    {
     "name": "stdout",
     "output_type": "stream",
     "text": [
      "Y axis string value is: 0.25,0.2,0.15,0.1,0.05\n",
      "I am in 1st try\n",
      "Y axis string corrected value is: [0.25, 0.2, 0.15, 0.1, 0.05]\n",
      "I am in try\n"
     ]
    },
    {
     "name": "stderr",
     "output_type": "stream",
     "text": [
      "\r",
      "Processing files:  16%|█████████▊                                                   | 161/1000 [03:54<20:51,  1.49s/it]"
     ]
    },
    {
     "name": "stdout",
     "output_type": "stream",
     "text": [
      "Y axis string value is: 0.26,0.24,0.22,0.2,0.18,0.16\n",
      "I am in 1st try\n",
      "Y axis string corrected value is: [0.26, 0.24, 0.22, 0.2, 0.18, 0.16]\n",
      "I am in try\n"
     ]
    },
    {
     "name": "stderr",
     "output_type": "stream",
     "text": [
      "\r",
      "Processing files:  16%|█████████▉                                                   | 162/1000 [03:55<20:12,  1.45s/it]"
     ]
    },
    {
     "name": "stdout",
     "output_type": "stream",
     "text": [
      "Y axis string value is: \n",
      "I am in 1st try\n"
     ]
    },
    {
     "name": "stderr",
     "output_type": "stream",
     "text": [
      "\r",
      "Processing files:  16%|█████████▉                                                   | 163/1000 [03:56<20:22,  1.46s/it]"
     ]
    },
    {
     "name": "stdout",
     "output_type": "stream",
     "text": [
      "Y axis string value is: 0.0000108_,0.0000107,O.0000106,0.0000105,0.0000104,0.0000103,0.0000102,0.0000101\n",
      "I am in 1st try\n",
      "Y axis string corrected value is: [1.07e-05, 1.06e-05, 1.05e-05, 1.04e-05, 1.03e-05, 1.02e-05, 1.01e-05]\n",
      "I am in try\n"
     ]
    },
    {
     "name": "stderr",
     "output_type": "stream",
     "text": [
      "\r",
      "Processing files:  16%|██████████                                                   | 164/1000 [03:58<20:33,  1.48s/it]"
     ]
    },
    {
     "name": "stdout",
     "output_type": "stream",
     "text": [
      "Y axis string value is: 6e-11,5.Se-11,Se-11,4.Se-11,4e-I1,3.Se-11\n",
      "I am in 1st try\n",
      "Y axis string corrected value is: [6e-11, 5.5e-11, 5e-11, 4.5e-11, 4e-11, 3.5e-11]\n",
      "I am in try\n"
     ]
    },
    {
     "name": "stderr",
     "output_type": "stream",
     "text": [
      "\r",
      "Processing files:  16%|██████████                                                   | 165/1000 [03:59<20:47,  1.49s/it]"
     ]
    },
    {
     "name": "stdout",
     "output_type": "stream",
     "text": [
      "Y axis string value is: 1.6e-10,1.Se-10;,1.4e-10:,1.3e-10.,1.2e-10,1.e-10\n",
      "I am in 1st try\n",
      "Y axis string corrected value is: [1.6e-10, 1.5e-10, 1.4e-10, 1.2e-10, 1e-10]\n",
      "I am in try\n"
     ]
    },
    {
     "name": "stderr",
     "output_type": "stream",
     "text": [
      "\r",
      "Processing files:  17%|██████████▏                                                  | 166/1000 [04:01<20:35,  1.48s/it]"
     ]
    },
    {
     "name": "stdout",
     "output_type": "stream",
     "text": [
      "Y axis string value is: 0.006,0.005,0.004,0.003,0.002\n",
      "I am in 1st try\n",
      "Y axis string corrected value is: [0.006, 0.005, 0.004, 0.003, 0.002]\n",
      "I am in try\n"
     ]
    },
    {
     "name": "stderr",
     "output_type": "stream",
     "text": [
      "\r",
      "Processing files:  17%|██████████▏                                                  | 167/1000 [04:02<19:57,  1.44s/it]"
     ]
    },
    {
     "name": "stdout",
     "output_type": "stream",
     "text": [
      "Y axis string value is: \n",
      "I am in 1st try\n"
     ]
    },
    {
     "name": "stderr",
     "output_type": "stream",
     "text": [
      "\r",
      "Processing files:  17%|██████████▏                                                  | 168/1000 [04:04<19:51,  1.43s/it]"
     ]
    },
    {
     "name": "stdout",
     "output_type": "stream",
     "text": [
      "Y axis string value is: 0),0.5.,0.4:,0.8\n",
      "I am in 1st try\n",
      "Y axis string corrected value is: [0.8]\n"
     ]
    },
    {
     "name": "stderr",
     "output_type": "stream",
     "text": [
      "\r",
      "Processing files:  17%|██████████▎                                                  | 169/1000 [04:05<20:10,  1.46s/it]"
     ]
    },
    {
     "name": "stdout",
     "output_type": "stream",
     "text": [
      "Y axis string value is: 0.0007435\n",
      "I am in 1st try\n",
      "Y axis string corrected value is: [0.0007435]\n"
     ]
    },
    {
     "name": "stderr",
     "output_type": "stream",
     "text": [
      "\r",
      "Processing files:  17%|██████████▎                                                  | 170/1000 [04:07<19:54,  1.44s/it]"
     ]
    },
    {
     "name": "stdout",
     "output_type": "stream",
     "text": [
      "Y axis string value is: \n",
      "I am in 1st try\n"
     ]
    },
    {
     "name": "stderr",
     "output_type": "stream",
     "text": [
      "\r",
      "Processing files:  17%|██████████▍                                                  | 171/1000 [04:08<19:25,  1.41s/it]"
     ]
    },
    {
     "name": "stdout",
     "output_type": "stream",
     "text": [
      "Y axis string value is: \n",
      "I am in 1st try\n"
     ]
    },
    {
     "name": "stderr",
     "output_type": "stream",
     "text": [
      "\r",
      "Processing files:  17%|██████████▍                                                  | 172/1000 [04:09<18:56,  1.37s/it]"
     ]
    },
    {
     "name": "stdout",
     "output_type": "stream",
     "text": [
      "Y axis string value is: \n",
      "I am in 1st try\n"
     ]
    },
    {
     "name": "stderr",
     "output_type": "stream",
     "text": [
      "\r",
      "Processing files:  17%|██████████▌                                                  | 173/1000 [04:11<19:30,  1.41s/it]"
     ]
    },
    {
     "name": "stdout",
     "output_type": "stream",
     "text": [
      "Y axis string value is: 0.0175,0.015,0.0125,0.01,0.0075,0.005\n",
      "I am in 1st try\n",
      "Y axis string corrected value is: [0.0175, 0.015, 0.0125, 0.01, 0.0075, 0.005]\n",
      "I am in try\n"
     ]
    },
    {
     "name": "stderr",
     "output_type": "stream",
     "text": [
      "\r",
      "Processing files:  17%|██████████▌                                                  | 174/1000 [04:12<20:06,  1.46s/it]"
     ]
    },
    {
     "name": "stdout",
     "output_type": "stream",
     "text": [
      "Y axis string value is: 0.13,L0u3,0.12,0.11,0.11,0.10,O.100,0.095,0.030,0.035,0.080\n",
      "I am in 1st try\n",
      "Y axis string corrected value is: [0.13, 103.0, 0.12, 0.11, 0.11, 0.1, 0.1, 0.095, 0.03, 0.035, 0.08]\n",
      "I am in try\n"
     ]
    },
    {
     "name": "stderr",
     "output_type": "stream",
     "text": [
      "\r",
      "Processing files:  18%|██████████▋                                                  | 175/1000 [04:14<20:18,  1.48s/it]"
     ]
    },
    {
     "name": "stdout",
     "output_type": "stream",
     "text": [
      "Y axis string value is: 0.35,0.3,0.25,0.2,0.15,0.1,0.05\n",
      "I am in 1st try\n",
      "Y axis string corrected value is: [0.35, 0.3, 0.25, 0.2, 0.15, 0.1, 0.05]\n",
      "I am in try\n"
     ]
    },
    {
     "name": "stderr",
     "output_type": "stream",
     "text": [
      "\r",
      "Processing files:  18%|██████████▋                                                  | 176/1000 [04:15<21:13,  1.55s/it]"
     ]
    },
    {
     "name": "stdout",
     "output_type": "stream",
     "text": [
      "Y axis string value is: 4e-8,3.5e-8,3e-8,2.Se-8,2e-8\n",
      "I am in 1st try\n",
      "Y axis string corrected value is: [4e-08, 3.5e-08, 3e-08, 2.5e-08, 2e-08]\n",
      "I am in try\n"
     ]
    },
    {
     "name": "stderr",
     "output_type": "stream",
     "text": [
      "\r",
      "Processing files:  18%|██████████▊                                                  | 177/1000 [04:17<20:19,  1.48s/it]"
     ]
    },
    {
     "name": "stdout",
     "output_type": "stream",
     "text": [
      "Y axis string value is: \n",
      "I am in 1st try\n"
     ]
    },
    {
     "name": "stderr",
     "output_type": "stream",
     "text": [
      "\r",
      "Processing files:  18%|██████████▊                                                  | 178/1000 [04:18<20:07,  1.47s/it]"
     ]
    },
    {
     "name": "stdout",
     "output_type": "stream",
     "text": [
      "Y axis string value is: 0.15,0.125,0.1,0.075,0.05,0.025\n",
      "I am in 1st try\n",
      "Y axis string corrected value is: [0.15, 0.125, 0.1, 0.075, 0.05, 0.025]\n",
      "I am in try\n"
     ]
    },
    {
     "name": "stderr",
     "output_type": "stream",
     "text": [
      "\r",
      "Processing files:  18%|██████████▉                                                  | 179/1000 [04:20<19:41,  1.44s/it]"
     ]
    },
    {
     "name": "stdout",
     "output_type": "stream",
     "text": [
      "Y axis string value is: \n",
      "I am in 1st try\n"
     ]
    },
    {
     "name": "stderr",
     "output_type": "stream",
     "text": [
      "\r",
      "Processing files:  18%|██████████▉                                                  | 180/1000 [04:21<19:51,  1.45s/it]"
     ]
    },
    {
     "name": "stdout",
     "output_type": "stream",
     "text": [
      "Y axis string value is: 0.06,0.05,0.04,0.03,0.02/,0.01\n",
      "I am in 1st try\n",
      "Y axis string corrected value is: [0.06, 0.05, 0.04, 0.03, 0.01]\n",
      "I am in try\n"
     ]
    },
    {
     "name": "stderr",
     "output_type": "stream",
     "text": [
      "\r",
      "Processing files:  18%|███████████                                                  | 181/1000 [04:23<20:15,  1.48s/it]"
     ]
    },
    {
     "name": "stdout",
     "output_type": "stream",
     "text": [
      "Y axis string value is: 0.0001 571,0.000157,0.0001 569,0.0001 568,0.0001 567,0.0001 566,0.0001 565,0.0001 564\n",
      "I am in 1st try\n",
      "Y axis string corrected value is: [0.000157]\n"
     ]
    },
    {
     "name": "stderr",
     "output_type": "stream",
     "text": [
      "\r",
      "Processing files:  18%|███████████                                                  | 182/1000 [04:24<20:09,  1.48s/it]"
     ]
    },
    {
     "name": "stdout",
     "output_type": "stream",
     "text": [
      "Y axis string value is: o.o00,O.O00,O.000,O.000,0.0,0.O00,0.O00\n",
      "I am in 1st try\n",
      "Y axis string corrected value is: [0.0, 0.0, 0.0, 0.0, 0.0, 0.0, 0.0]\n",
      "I am in try\n"
     ]
    },
    {
     "name": "stderr",
     "output_type": "stream",
     "text": [
      "\r",
      "Processing files:  18%|███████████▏                                                 | 183/1000 [04:26<20:09,  1.48s/it]"
     ]
    },
    {
     "name": "stdout",
     "output_type": "stream",
     "text": [
      "Y axis string value is: 0.15,0.125/,0.1,0.075,0.05,0.025\n",
      "I am in 1st try\n",
      "Y axis string corrected value is: [0.15, 0.1, 0.075, 0.05, 0.025]\n",
      "I am in try\n"
     ]
    },
    {
     "name": "stderr",
     "output_type": "stream",
     "text": [
      "\r",
      "Processing files:  18%|███████████▏                                                 | 184/1000 [04:27<20:12,  1.49s/it]"
     ]
    },
    {
     "name": "stdout",
     "output_type": "stream",
     "text": [
      "Y axis string value is: 70,60,50,40,30,20,10\n",
      "I am in 1st try\n",
      "Y axis string corrected value is: [70.0, 60.0, 50.0, 40.0, 30.0, 20.0, 10.0]\n",
      "I am in try\n"
     ]
    },
    {
     "name": "stderr",
     "output_type": "stream",
     "text": [
      "\r",
      "Processing files:  18%|███████████▎                                                 | 185/1000 [04:28<19:32,  1.44s/it]"
     ]
    },
    {
     "name": "stdout",
     "output_type": "stream",
     "text": [
      "Y axis string value is: \n",
      "I am in 1st try\n"
     ]
    },
    {
     "name": "stderr",
     "output_type": "stream",
     "text": [
      "\r",
      "Processing files:  19%|███████████▎                                                 | 186/1000 [04:30<19:24,  1.43s/it]"
     ]
    },
    {
     "name": "stdout",
     "output_type": "stream",
     "text": [
      "Y axis string value is: 3e-11,2.9-11,2.8e-11:,2.7e-11},2.6e-11:,2.Se-11,2.4e-11\n",
      "I am in 1st try\n",
      "Y axis string corrected value is: [3e-11, 2.8e-11, 2.7e-11, 2.6e-11, 2.5e-11, 2.4e-11]\n",
      "I am in try\n"
     ]
    },
    {
     "name": "stderr",
     "output_type": "stream",
     "text": [
      "\r",
      "Processing files:  19%|███████████▍                                                 | 187/1000 [04:31<19:19,  1.43s/it]"
     ]
    },
    {
     "name": "stdout",
     "output_type": "stream",
     "text": [
      "Y axis string value is: 0.0265,0.026,0.0255,0.025,0.0245\n",
      "I am in 1st try\n",
      "Y axis string corrected value is: [0.0265, 0.026, 0.0255, 0.025, 0.0245]\n",
      "I am in try\n"
     ]
    },
    {
     "name": "stderr",
     "output_type": "stream",
     "text": [
      "Processing files:  19%|███████████▌                                                 | 189/1000 [04:34<19:18,  1.43s/it]"
     ]
    },
    {
     "name": "stdout",
     "output_type": "stream",
     "text": [
      "Y axis string value is: 0.007,0.006,0.0051,0.004,0.003\n",
      "I am in 1st try\n",
      "Y axis string corrected value is: [0.007, 0.006, 0.0051, 0.004, 0.003]\n",
      "I am in try\n"
     ]
    },
    {
     "name": "stderr",
     "output_type": "stream",
     "text": [
      "\r",
      "Processing files:  19%|███████████▌                                                 | 190/1000 [04:36<19:36,  1.45s/it]"
     ]
    },
    {
     "name": "stdout",
     "output_type": "stream",
     "text": [
      "Y axis string value is: 0.00064,0.00063,0.00062,000061,CoQ81,0.00060,0.00059,0.00058,0.000057,0000056,0.00055,000054,0.00053,0.000052,0.000051,Cap,0.00050\n",
      "I am in 1st try\n",
      "Y axis string corrected value is: [0.00064, 0.00063, 0.00062, 0.00061, 0.81, 0.0006, 0.00059, 0.00058, 5.7e-05, 5.6e-05, 0.00055, 0.00054, 0.00053, 5.2e-05, 5.1e-05, 0.0005]\n",
      "I am in try\n"
     ]
    },
    {
     "name": "stderr",
     "output_type": "stream",
     "text": [
      "\r",
      "Processing files:  19%|███████████▋                                                 | 191/1000 [04:37<19:21,  1.44s/it]"
     ]
    },
    {
     "name": "stdout",
     "output_type": "stream",
     "text": [
      "Y axis string value is: \n",
      "I am in 1st try\n"
     ]
    },
    {
     "name": "stderr",
     "output_type": "stream",
     "text": [
      "\r",
      "Processing files:  19%|███████████▋                                                 | 192/1000 [04:38<19:23,  1.44s/it]"
     ]
    },
    {
     "name": "stdout",
     "output_type": "stream",
     "text": [
      "Y axis string value is: 0.02,0.015L,0.01,0.005\n",
      "I am in 1st try\n",
      "Y axis string corrected value is: [0.02, 0.0151, 0.01, 0.005]\n",
      "I am in try\n"
     ]
    },
    {
     "name": "stderr",
     "output_type": "stream",
     "text": [
      "\r",
      "Processing files:  19%|███████████▊                                                 | 193/1000 [04:40<19:02,  1.42s/it]"
     ]
    },
    {
     "name": "stdout",
     "output_type": "stream",
     "text": [
      "Y axis string value is: \n",
      "I am in 1st try\n"
     ]
    },
    {
     "name": "stderr",
     "output_type": "stream",
     "text": [
      "\r",
      "Processing files:  19%|███████████▊                                                 | 194/1000 [04:41<19:06,  1.42s/it]"
     ]
    },
    {
     "name": "stdout",
     "output_type": "stream",
     "text": [
      "Y axis string value is: 7e-11,6.Se-11,6e-11,5.Se-11,Se-11\n",
      "I am in 1st try\n",
      "Y axis string corrected value is: [7e-11, 6.5e-11, 6e-11, 5.5e-11, 5e-11]\n",
      "I am in try\n"
     ]
    },
    {
     "name": "stderr",
     "output_type": "stream",
     "text": [
      "\r",
      "Processing files:  20%|███████████▉                                                 | 195/1000 [04:43<19:26,  1.45s/it]"
     ]
    },
    {
     "name": "stdout",
     "output_type": "stream",
     "text": [
      "Y axis string value is: 2.75,2.5,2.258,.75;,1.5,1.25\n",
      "I am in 1st try\n",
      "Y axis string corrected value is: [2.75, 2.5, 2.258, 1.5, 1.25]\n",
      "I am in try\n"
     ]
    },
    {
     "name": "stderr",
     "output_type": "stream",
     "text": [
      "\r",
      "Processing files:  20%|███████████▉                                                 | 196/1000 [04:44<19:08,  1.43s/it]"
     ]
    },
    {
     "name": "stdout",
     "output_type": "stream",
     "text": [
      "Y axis string value is: \n",
      "I am in 1st try\n"
     ]
    },
    {
     "name": "stderr",
     "output_type": "stream",
     "text": [
      "\r",
      "Processing files:  20%|████████████                                                 | 197/1000 [04:46<18:52,  1.41s/it]"
     ]
    },
    {
     "name": "stdout",
     "output_type": "stream",
     "text": [
      "Y axis string value is: \n",
      "I am in 1st try\n"
     ]
    },
    {
     "name": "stderr",
     "output_type": "stream",
     "text": [
      "\r",
      "Processing files:  20%|████████████                                                 | 198/1000 [04:47<18:58,  1.42s/it]"
     ]
    },
    {
     "name": "stdout",
     "output_type": "stream",
     "text": [
      "Y axis string value is: 1.75 .,1.5,1.25,0.75;,05,,0.25\n",
      "I am in 1st try\n"
     ]
    },
    {
     "name": "stderr",
     "output_type": "stream",
     "text": [
      "\r",
      "Processing files:  20%|████████████▏                                                | 199/1000 [04:49<19:39,  1.47s/it]"
     ]
    },
    {
     "name": "stdout",
     "output_type": "stream",
     "text": [
      "Y axis string value is: QLOZZ,0.O002C,0.00001S,O.OOOO1C,0.00000S,0\n",
      "I am in 1st try\n",
      "Y axis string corrected value is: [0.0002, 1.5e-05, 1e-05, 5e-06, 0.0]\n"
     ]
    },
    {
     "name": "stderr",
     "output_type": "stream",
     "text": [
      "\r",
      "Processing files:  20%|████████████▏                                                | 200/1000 [04:50<19:08,  1.44s/it]"
     ]
    },
    {
     "name": "stdout",
     "output_type": "stream",
     "text": [
      "Y axis string value is: \n",
      "I am in 1st try\n"
     ]
    },
    {
     "name": "stderr",
     "output_type": "stream",
     "text": [
      "\r",
      "Processing files:  20%|████████████▎                                                | 201/1000 [04:51<19:01,  1.43s/it]"
     ]
    },
    {
     "name": "stdout",
     "output_type": "stream",
     "text": [
      "Y axis string value is: 0.0006373\n",
      "I am in 1st try\n",
      "Y axis string corrected value is: [0.0006373]\n"
     ]
    },
    {
     "name": "stderr",
     "output_type": "stream",
     "text": [
      "\r",
      "Processing files:  20%|████████████▎                                                | 202/1000 [04:53<18:45,  1.41s/it]"
     ]
    },
    {
     "name": "stdout",
     "output_type": "stream",
     "text": [
      "Y axis string value is: \n",
      "I am in 1st try\n"
     ]
    },
    {
     "name": "stderr",
     "output_type": "stream",
     "text": [
      "\r",
      "Processing files:  20%|████████████▍                                                | 203/1000 [04:54<18:41,  1.41s/it]"
     ]
    },
    {
     "name": "stdout",
     "output_type": "stream",
     "text": [
      "Y axis string value is: 0.011,0.011,0.011,0.011,0.01,0.010\n",
      "I am in 1st try\n",
      "Y axis string corrected value is: [0.011, 0.011, 0.011, 0.011, 0.01, 0.01]\n",
      "I am in try\n"
     ]
    },
    {
     "name": "stderr",
     "output_type": "stream",
     "text": [
      "\r",
      "Processing files:  20%|████████████▍                                                | 204/1000 [04:56<19:13,  1.45s/it]"
     ]
    },
    {
     "name": "stdout",
     "output_type": "stream",
     "text": [
      "Y axis string value is: 0.00035,0.0003,0.00025],0.0002,,0.00015,0.0001,0.00005\n",
      "I am in 1st try\n"
     ]
    },
    {
     "name": "stderr",
     "output_type": "stream",
     "text": [
      "\r",
      "Processing files:  20%|████████████▌                                                | 205/1000 [04:57<19:40,  1.49s/it]"
     ]
    },
    {
     "name": "stdout",
     "output_type": "stream",
     "text": [
      "Y axis string value is: 0.0015,0.0014,0.0013,0.0012,0.0011,0.00100,0.00090,0.00080,0.008070,0.0880850,0.004050,0.00040,0.00030,0.000020,0.0000100,0.0000000200,cop\n",
      "I am in 1st try\n",
      "Y axis string corrected value is: [0.0015, 0.0014, 0.0013, 0.0012, 0.0011, 0.001, 0.0009, 0.0008, 0.00807, 0.088085, 0.00405, 0.0004, 0.0003, 2e-05, 1e-05, 2e-08]\n",
      "I am in try\n"
     ]
    },
    {
     "name": "stderr",
     "output_type": "stream",
     "text": [
      "\r",
      "Processing files:  21%|████████████▌                                                | 206/1000 [04:59<19:41,  1.49s/it]"
     ]
    },
    {
     "name": "stdout",
     "output_type": "stream",
     "text": [
      "Y axis string value is: 0.13,0.12,0.11/,0.1,0.09.,0.08,0.07\n",
      "I am in 1st try\n",
      "Y axis string corrected value is: [0.13, 0.12, 0.1, 0.08, 0.07]\n",
      "I am in try\n"
     ]
    },
    {
     "name": "stderr",
     "output_type": "stream",
     "text": [
      "\r",
      "Processing files:  21%|████████████▋                                                | 207/1000 [05:00<19:55,  1.51s/it]"
     ]
    },
    {
     "name": "stdout",
     "output_type": "stream",
     "text": [
      "Y axis string value is: 0.00175,0.001 5,0.001251,0.001,0.00075,0.0005,0.00025\n",
      "I am in 1st try\n",
      "Y axis string corrected value is: [0.00175, 0.001251, 0.001, 0.00075, 0.0005, 0.00025]\n",
      "I am in try\n"
     ]
    },
    {
     "name": "stderr",
     "output_type": "stream",
     "text": [
      "\r",
      "Processing files:  21%|████████████▋                                                | 208/1000 [05:02<19:58,  1.51s/it]"
     ]
    },
    {
     "name": "stdout",
     "output_type": "stream",
     "text": [
      "Y axis string value is: 0.008050,0.00045,0.000040,0.00035,0.00030,0.00025,0.00020,0.00015,0.00100,0.003050,0.08Co3o,Copl\n",
      "I am in 1st try\n",
      "Y axis string corrected value is: [0.00805, 0.00045, 4e-05, 0.00035, 0.0003, 0.00025, 0.0002, 0.00015, 0.001, 0.00305, 0.083]\n",
      "I am in try\n"
     ]
    },
    {
     "name": "stderr",
     "output_type": "stream",
     "text": [
      "\r",
      "Processing files:  21%|████████████▋                                                | 209/1000 [05:03<19:50,  1.50s/it]"
     ]
    },
    {
     "name": "stdout",
     "output_type": "stream",
     "text": [
      "Y axis string value is: 0.2,0.1751,0.15,0.125},0.1,0.075,0.05,0.025\n",
      "I am in 1st try\n",
      "Y axis string corrected value is: [0.2, 0.1751, 0.15, 0.1, 0.075, 0.05, 0.025]\n",
      "I am in try\n"
     ]
    },
    {
     "name": "stderr",
     "output_type": "stream",
     "text": [
      "\r",
      "Processing files:  21%|████████████▊                                                | 210/1000 [05:05<20:09,  1.53s/it]"
     ]
    },
    {
     "name": "stdout",
     "output_type": "stream",
     "text": [
      "Y axis string value is: \n",
      "I am in 1st try\n"
     ]
    },
    {
     "name": "stderr",
     "output_type": "stream",
     "text": [
      "\r",
      "Processing files:  21%|████████████▊                                                | 211/1000 [05:06<20:07,  1.53s/it]"
     ]
    },
    {
     "name": "stdout",
     "output_type": "stream",
     "text": [
      "Y axis string value is: 0.003,0.0025,0.002,0.001 5,0.001,0.0005\n",
      "I am in 1st try\n",
      "Y axis string corrected value is: [0.003, 0.0025, 0.002, 0.001, 0.0005]\n",
      "I am in try\n"
     ]
    },
    {
     "name": "stderr",
     "output_type": "stream",
     "text": [
      "\r",
      "Processing files:  21%|████████████▉                                                | 212/1000 [05:08<19:59,  1.52s/it]"
     ]
    },
    {
     "name": "stdout",
     "output_type": "stream",
     "text": [
      "Y axis string value is: 0.06,0.05,0.043,0.03:,0.02\n",
      "I am in 1st try\n",
      "Y axis string corrected value is: [0.06, 0.05, 0.043, 0.02]\n",
      "I am in try\n"
     ]
    },
    {
     "name": "stderr",
     "output_type": "stream",
     "text": [
      "\r",
      "Processing files:  21%|████████████▉                                                | 213/1000 [05:09<19:57,  1.52s/it]"
     ]
    },
    {
     "name": "stdout",
     "output_type": "stream",
     "text": [
      "Y axis string value is: 2e-10,1.Se-10,Ie-10,Se-11\n",
      "I am in 1st try\n",
      "Y axis string corrected value is: [2e-10, 1.5e-10, 1e-10, 5e-11]\n",
      "I am in try\n"
     ]
    },
    {
     "name": "stderr",
     "output_type": "stream",
     "text": [
      "\r",
      "Processing files:  21%|█████████████                                                | 214/1000 [05:11<20:00,  1.53s/it]"
     ]
    },
    {
     "name": "stdout",
     "output_type": "stream",
     "text": [
      "Y axis string value is: 0.8,0.7,0.6,0.5,0.4,0.3,0.2,0.1\n",
      "I am in 1st try\n",
      "Y axis string corrected value is: [0.8, 0.7, 0.6, 0.5, 0.4, 0.3, 0.2, 0.1]\n",
      "I am in try\n"
     ]
    },
    {
     "name": "stderr",
     "output_type": "stream",
     "text": [
      "\r",
      "Processing files:  22%|█████████████                                                | 215/1000 [05:12<19:25,  1.48s/it]"
     ]
    },
    {
     "name": "stdout",
     "output_type": "stream",
     "text": [
      "Y axis string value is: \n",
      "I am in 1st try\n"
     ]
    },
    {
     "name": "stderr",
     "output_type": "stream",
     "text": [
      "\r",
      "Processing files:  22%|█████████████▏                                               | 216/1000 [05:14<19:26,  1.49s/it]"
     ]
    },
    {
     "name": "stdout",
     "output_type": "stream",
     "text": [
      "Y axis string value is: 7e-8 ,6e-8,Se-8,4e-8,3e-8\n",
      "I am in 1st try\n",
      "Y axis string corrected value is: [7e-08, 6e-08, 5e-08, 4e-08, 3e-08]\n",
      "I am in try\n"
     ]
    },
    {
     "name": "stderr",
     "output_type": "stream",
     "text": [
      "\r",
      "Processing files:  22%|█████████████▏                                               | 217/1000 [05:15<19:29,  1.49s/it]"
     ]
    },
    {
     "name": "stdout",
     "output_type": "stream",
     "text": [
      "Y axis string value is: 0.0007,0.0006,0.0005,0.0004,0.0003,0.0002,0.0001\n",
      "I am in 1st try\n",
      "Y axis string corrected value is: [0.0007, 0.0006, 0.0005, 0.0004, 0.0003, 0.0002, 0.0001]\n",
      "I am in try\n"
     ]
    },
    {
     "name": "stderr",
     "output_type": "stream",
     "text": [
      "\r",
      "Processing files:  22%|█████████████▎                                               | 218/1000 [05:17<19:06,  1.47s/it]"
     ]
    },
    {
     "name": "stdout",
     "output_type": "stream",
     "text": [
      "Y axis string value is: \n",
      "I am in 1st try\n"
     ]
    },
    {
     "name": "stderr",
     "output_type": "stream",
     "text": [
      "\r",
      "Processing files:  22%|█████████████▎                                               | 219/1000 [05:18<18:44,  1.44s/it]"
     ]
    },
    {
     "name": "stdout",
     "output_type": "stream",
     "text": [
      "Y axis string value is: 1,08,06,04,02\n",
      "I am in 1st try\n",
      "Y axis string corrected value is: [1.0, 0.8, 0.6, 0.4, 0.2]\n",
      "I am in try\n"
     ]
    },
    {
     "name": "stderr",
     "output_type": "stream",
     "text": [
      "\r",
      "Processing files:  22%|█████████████▍                                               | 220/1000 [05:20<18:54,  1.45s/it]"
     ]
    },
    {
     "name": "stdout",
     "output_type": "stream",
     "text": [
      "Y axis string value is: 2,1.75,1.5,1.25,M,0.75\n",
      "I am in 1st try\n",
      "Y axis string corrected value is: [2.0, 1.75, 1.5, 1.25, 0.75]\n",
      "I am in try\n"
     ]
    },
    {
     "name": "stderr",
     "output_type": "stream",
     "text": [
      "\r",
      "Processing files:  22%|█████████████▍                                               | 221/1000 [05:21<19:01,  1.46s/it]"
     ]
    },
    {
     "name": "stdout",
     "output_type": "stream",
     "text": [
      "Y axis string value is: 8.55e-13,8.Se-13,8.4Se-13,8.4e-| 31,8.35e-13;,8.3e-13\n",
      "I am in 1st try\n",
      "Y axis string corrected value is: [8.55e-13, 8.5e-13, 8.45e-13, 8.35e-13, 8.3e-13]\n",
      "I am in try\n"
     ]
    },
    {
     "name": "stderr",
     "output_type": "stream",
     "text": [
      "\r",
      "Processing files:  22%|█████████████▌                                               | 222/1000 [05:22<18:33,  1.43s/it]"
     ]
    },
    {
     "name": "stdout",
     "output_type": "stream",
     "text": [
      "Y axis string value is: 0.0000236\n",
      "I am in 1st try\n",
      "Y axis string corrected value is: [2.36e-05]\n"
     ]
    },
    {
     "name": "stderr",
     "output_type": "stream",
     "text": [
      "\r",
      "Processing files:  22%|█████████████▌                                               | 223/1000 [05:24<18:35,  1.44s/it]"
     ]
    },
    {
     "name": "stdout",
     "output_type": "stream",
     "text": [
      "Y axis string value is: 6,5,4,3,2\n",
      "I am in 1st try\n",
      "Y axis string corrected value is: [6.0, 5.0, 4.0, 3.0, 2.0]\n",
      "I am in try\n"
     ]
    },
    {
     "name": "stderr",
     "output_type": "stream",
     "text": [
      "\r",
      "Processing files:  22%|█████████████▋                                               | 224/1000 [05:25<18:47,  1.45s/it]"
     ]
    },
    {
     "name": "stdout",
     "output_type": "stream",
     "text": [
      "Y axis string value is: 0.04,0.035,0.03,0.025,0.02,0.015,0.01,0.005\n",
      "I am in 1st try\n",
      "Y axis string corrected value is: [0.04, 0.035, 0.03, 0.025, 0.02, 0.015, 0.01, 0.005]\n",
      "I am in try\n"
     ]
    },
    {
     "name": "stderr",
     "output_type": "stream",
     "text": [
      "\r",
      "Processing files:  22%|█████████████▋                                               | 225/1000 [05:27<18:54,  1.46s/it]"
     ]
    },
    {
     "name": "stdout",
     "output_type": "stream",
     "text": [
      "Y axis string value is: 0.2,0.175,0.15,0.1254,0_,0.075,0.05,0.025\n",
      "I am in 1st try\n",
      "Y axis string corrected value is: [0.2, 0.175, 0.15, 0.1254, 0.075, 0.05, 0.025]\n",
      "I am in try\n"
     ]
    },
    {
     "name": "stderr",
     "output_type": "stream",
     "text": [
      "\r",
      "Processing files:  23%|█████████████▊                                               | 226/1000 [05:28<18:54,  1.47s/it]"
     ]
    },
    {
     "name": "stdout",
     "output_type": "stream",
     "text": [
      "Y axis string value is: 180,170,160,150,140\n",
      "I am in 1st try\n",
      "Y axis string corrected value is: [180.0, 170.0, 160.0, 150.0, 140.0]\n",
      "I am in try\n"
     ]
    },
    {
     "name": "stderr",
     "output_type": "stream",
     "text": [
      "\r",
      "Processing files:  23%|█████████████▊                                               | 227/1000 [05:30<18:44,  1.45s/it]"
     ]
    },
    {
     "name": "stdout",
     "output_type": "stream",
     "text": [
      "Y axis string value is: 0.27,0.26,0.251,0.23,0.22,0.24;\n",
      "I am in 1st try\n",
      "Y axis string corrected value is: [0.27, 0.26, 0.251, 0.23, 0.22]\n",
      "I am in try\n"
     ]
    },
    {
     "name": "stderr",
     "output_type": "stream",
     "text": [
      "\r",
      "Processing files:  23%|█████████████▉                                               | 228/1000 [05:31<18:17,  1.42s/it]"
     ]
    },
    {
     "name": "stdout",
     "output_type": "stream",
     "text": [
      "Y axis string value is: \n",
      "I am in 1st try\n"
     ]
    },
    {
     "name": "stderr",
     "output_type": "stream",
     "text": [
      "\r",
      "Processing files:  23%|█████████████▉                                               | 229/1000 [05:33<18:33,  1.44s/it]"
     ]
    },
    {
     "name": "stdout",
     "output_type": "stream",
     "text": [
      "Y axis string value is: 0.0024,0.0022,0.002,0.0018,0.0016,0.0014\n",
      "I am in 1st try\n",
      "Y axis string corrected value is: [0.0024, 0.0022, 0.002, 0.0018, 0.0016, 0.0014]\n",
      "I am in try\n"
     ]
    },
    {
     "name": "stderr",
     "output_type": "stream",
     "text": [
      "\r",
      "Processing files:  23%|██████████████                                               | 230/1000 [05:34<18:18,  1.43s/it]"
     ]
    },
    {
     "name": "stdout",
     "output_type": "stream",
     "text": [
      "Y axis string value is: \n",
      "I am in 1st try\n"
     ]
    },
    {
     "name": "stderr",
     "output_type": "stream",
     "text": [
      "\r",
      "Processing files:  23%|██████████████                                               | 231/1000 [05:35<18:24,  1.44s/it]"
     ]
    },
    {
     "name": "stdout",
     "output_type": "stream",
     "text": [
      "Y axis string value is: 0.005,0.0045,0.004,0.0035,0.003,0.0025 _\n",
      "I am in 1st try\n",
      "Y axis string corrected value is: [0.005, 0.0045, 0.004, 0.0035, 0.003]\n",
      "I am in try\n"
     ]
    },
    {
     "name": "stderr",
     "output_type": "stream",
     "text": [
      "\r",
      "Processing files:  23%|██████████████▏                                              | 232/1000 [05:37<18:36,  1.45s/it]"
     ]
    },
    {
     "name": "stdout",
     "output_type": "stream",
     "text": [
      "Y axis string value is: 6,5,4,2\n",
      "I am in 1st try\n",
      "Y axis string corrected value is: [6.0, 5.0, 4.0, 2.0]\n",
      "I am in try\n"
     ]
    },
    {
     "name": "stderr",
     "output_type": "stream",
     "text": [
      "\r",
      "Processing files:  23%|██████████████▏                                              | 233/1000 [05:38<18:36,  1.46s/it]"
     ]
    },
    {
     "name": "stdout",
     "output_type": "stream",
     "text": [
      "Y axis string value is: 4,3,2\n",
      "I am in 1st try\n",
      "Y axis string corrected value is: [4.0, 3.0, 2.0]\n",
      "I am in try\n"
     ]
    },
    {
     "name": "stderr",
     "output_type": "stream",
     "text": [
      "\r",
      "Processing files:  23%|██████████████▎                                              | 234/1000 [05:40<19:01,  1.49s/it]"
     ]
    },
    {
     "name": "stdout",
     "output_type": "stream",
     "text": [
      "Y axis string value is: 0.001 1,0.001,0.0009,0.0008,0.0007,0.0006\n",
      "I am in 1st try\n",
      "Y axis string corrected value is: [0.001, 0.0009, 0.0008, 0.0007, 0.0006]\n",
      "I am in try\n"
     ]
    },
    {
     "name": "stderr",
     "output_type": "stream",
     "text": [
      "\r",
      "Processing files:  24%|██████████████▎                                              | 235/1000 [05:42<19:07,  1.50s/it]"
     ]
    },
    {
     "name": "stdout",
     "output_type": "stream",
     "text": [
      "Y axis string value is: 0.22,0.20,0.18,0.16,0.14,012,0.10,0.080,0.060,0040,0.020,0.0082,Cop\n",
      "I am in 1st try\n",
      "Y axis string corrected value is: [0.22, 0.2, 0.18, 0.16, 0.14, 0.12, 0.1, 0.08, 0.06, 0.04, 0.02, 0.0082]\n",
      "I am in try\n"
     ]
    },
    {
     "name": "stderr",
     "output_type": "stream",
     "text": [
      "\r",
      "Processing files:  24%|██████████████▍                                              | 236/1000 [05:43<19:08,  1.50s/it]"
     ]
    },
    {
     "name": "stdout",
     "output_type": "stream",
     "text": [
      "Y axis string value is: 32.Sk,30k,27.5k,25k,22.5k,Z0k\n",
      "I am in 1st try\n",
      "Y axis string corrected value is: [32.5, 30.0, 27.5, 25.0, 22.5, 20.0]\n",
      "I am in try\n"
     ]
    },
    {
     "name": "stderr",
     "output_type": "stream",
     "text": [
      "\r",
      "Processing files:  24%|██████████████▍                                              | 237/1000 [05:45<19:03,  1.50s/it]"
     ]
    },
    {
     "name": "stdout",
     "output_type": "stream",
     "text": [
      "Y axis string value is: 0.0003,0.00025,0.0002,0.00015,0.0001\n",
      "I am in 1st try\n",
      "Y axis string corrected value is: [0.0003, 0.00025, 0.0002, 0.00015, 0.0001]\n",
      "I am in try\n"
     ]
    },
    {
     "name": "stderr",
     "output_type": "stream",
     "text": [
      "\r",
      "Processing files:  24%|██████████████▌                                              | 238/1000 [05:46<18:46,  1.48s/it]"
     ]
    },
    {
     "name": "stdout",
     "output_type": "stream",
     "text": [
      "Y axis string value is: \n",
      "I am in 1st try\n"
     ]
    },
    {
     "name": "stderr",
     "output_type": "stream",
     "text": [
      "\r",
      "Processing files:  24%|██████████████▌                                              | 239/1000 [05:48<19:04,  1.50s/it]"
     ]
    },
    {
     "name": "stdout",
     "output_type": "stream",
     "text": [
      "Y axis string value is: 2300,2200,2100,2000},1900,1800\n",
      "I am in 1st try\n",
      "Y axis string corrected value is: [2300.0, 2200.0, 2100.0, 1900.0, 1800.0]\n",
      "I am in try\n"
     ]
    },
    {
     "name": "stderr",
     "output_type": "stream",
     "text": [
      "\r",
      "Processing files:  24%|██████████████▋                                              | 240/1000 [05:49<19:28,  1.54s/it]"
     ]
    },
    {
     "name": "stdout",
     "output_type": "stream",
     "text": [
      "Y axis string value is: 0.225,0.2,0.175,0.15,0.125,0.1,0.075,0.05\n",
      "I am in 1st try\n",
      "Y axis string corrected value is: [0.225, 0.2, 0.175, 0.15, 0.125, 0.1, 0.075, 0.05]\n",
      "I am in try\n"
     ]
    },
    {
     "name": "stderr",
     "output_type": "stream",
     "text": [
      "\r",
      "Processing files:  24%|██████████████▋                                              | 241/1000 [05:51<19:12,  1.52s/it]"
     ]
    },
    {
     "name": "stdout",
     "output_type": "stream",
     "text": [
      "Y axis string value is: \n",
      "I am in 1st try\n"
     ]
    },
    {
     "name": "stderr",
     "output_type": "stream",
     "text": [
      "\r",
      "Processing files:  24%|██████████████▊                                              | 242/1000 [05:52<19:27,  1.54s/it]"
     ]
    },
    {
     "name": "stdout",
     "output_type": "stream",
     "text": [
      "Y axis string value is: 0.00070,0.000,8,0.0066,0.00064,0.0062,0.00060,0.00058,0.0056,0.0054,0.0052\n",
      "I am in 1st try\n",
      "Y axis string corrected value is: [0.0007, 0.0, 8.0, 0.0066, 0.00064, 0.0062, 0.0006, 0.00058, 0.0056, 0.0054, 0.0052]\n"
     ]
    },
    {
     "name": "stderr",
     "output_type": "stream",
     "text": [
      "\r",
      "Processing files:  24%|██████████████▊                                              | 243/1000 [05:54<19:36,  1.55s/it]"
     ]
    },
    {
     "name": "stdout",
     "output_type": "stream",
     "text": [
      "Y axis string value is: 0.012,0.01,0.008',0.006,0.004,0.002\n",
      "I am in 1st try\n",
      "Y axis string corrected value is: [0.012, 0.01, 0.006, 0.004, 0.002]\n",
      "I am in try\n"
     ]
    },
    {
     "name": "stderr",
     "output_type": "stream",
     "text": [
      "\r",
      "Processing files:  24%|██████████████▉                                              | 244/1000 [05:55<19:32,  1.55s/it]"
     ]
    },
    {
     "name": "stdout",
     "output_type": "stream",
     "text": [
      "Y axis string value is: 0.00014,0.00012,0.0001,0.00008;,0.000006,0.00004\n",
      "I am in 1st try\n",
      "Y axis string corrected value is: [0.00014, 0.00012, 0.0001, 6e-06, 4e-05]\n",
      "I am in try\n"
     ]
    },
    {
     "name": "stderr",
     "output_type": "stream",
     "text": [
      "\r",
      "Processing files:  24%|██████████████▉                                              | 245/1000 [05:57<20:50,  1.66s/it]"
     ]
    },
    {
     "name": "stdout",
     "output_type": "stream",
     "text": [
      "Y axis string value is: 0.28,0.275,0.27,0.265,0.26\n",
      "I am in 1st try\n",
      "Y axis string corrected value is: [0.28, 0.275, 0.27, 0.265, 0.26]\n",
      "I am in try\n"
     ]
    },
    {
     "name": "stderr",
     "output_type": "stream",
     "text": [
      "\r",
      "Processing files:  25%|███████████████                                              | 246/1000 [05:59<22:23,  1.78s/it]"
     ]
    },
    {
     "name": "stdout",
     "output_type": "stream",
     "text": [
      "Y axis string value is: 0.022,0.0,0.017,0.01,0.012,0.0,0.007\n",
      "I am in 1st try\n",
      "Y axis string corrected value is: [0.022, 0.0, 0.017, 0.01, 0.012, 0.0, 0.007]\n",
      "I am in try\n"
     ]
    },
    {
     "name": "stderr",
     "output_type": "stream",
     "text": [
      "\r",
      "Processing files:  25%|███████████████                                              | 247/1000 [06:01<23:30,  1.87s/it]"
     ]
    },
    {
     "name": "stdout",
     "output_type": "stream",
     "text": [
      "Y axis string value is: \n",
      "I am in 1st try\n"
     ]
    },
    {
     "name": "stderr",
     "output_type": "stream",
     "text": [
      "\r",
      "Processing files:  25%|███████████████▏                                             | 248/1000 [06:04<24:49,  1.98s/it]"
     ]
    },
    {
     "name": "stdout",
     "output_type": "stream",
     "text": [
      "Y axis string value is: 0.0034,0.0032,0.0030,0.0028,0.0026,0.0024,0.0022,0.0020,0.0018,0.0016,0.0014,6.0013,0.0012,O.O010,0.00080,Cap\n",
      "I am in 1st try\n",
      "Y axis string corrected value is: [0.0034, 0.0032, 0.003, 0.0028, 0.0026, 0.0024, 0.0022, 0.002, 0.0018, 0.0016, 0.0014, 6.0013, 0.0012, 0.001, 0.0008]\n",
      "I am in try\n"
     ]
    },
    {
     "name": "stderr",
     "output_type": "stream",
     "text": [
      "\r",
      "Processing files:  25%|███████████████▏                                             | 249/1000 [06:06<24:47,  1.98s/it]"
     ]
    },
    {
     "name": "stdout",
     "output_type": "stream",
     "text": [
      "Y axis string value is: \n",
      "I am in 1st try\n"
     ]
    },
    {
     "name": "stderr",
     "output_type": "stream",
     "text": [
      "\r",
      "Processing files:  25%|███████████████▎                                             | 250/1000 [06:07<24:17,  1.94s/it]"
     ]
    },
    {
     "name": "stdout",
     "output_type": "stream",
     "text": [
      "Y axis string value is: \n",
      "I am in 1st try\n"
     ]
    },
    {
     "name": "stderr",
     "output_type": "stream",
     "text": [
      "\r",
      "Processing files:  25%|███████████████▎                                             | 251/1000 [06:10<24:53,  1.99s/it]"
     ]
    },
    {
     "name": "stdout",
     "output_type": "stream",
     "text": [
      "Y axis string value is: 0.00092,0.000915,0.00091,0.000905,0.0009,0.000895\n",
      "I am in 1st try\n",
      "Y axis string corrected value is: [0.00092, 0.000915, 0.00091, 0.000905, 0.0009, 0.000895]\n",
      "I am in try\n"
     ]
    },
    {
     "name": "stderr",
     "output_type": "stream",
     "text": [
      "\r",
      "Processing files:  25%|███████████████▎                                             | 252/1000 [06:12<25:58,  2.08s/it]"
     ]
    },
    {
     "name": "stdout",
     "output_type": "stream",
     "text": [
      "Y axis string value is: 26.0,240,220,20.0,18.0,16.0,140,120,10.0,8.0,6.1,4.0,Cap,20\n",
      "I am in 1st try\n",
      "Y axis string corrected value is: [26.0, 240.0, 220.0, 20.0, 18.0, 16.0, 140.0, 120.0, 10.0, 8.0, 6.1, 4.0, 20.0]\n",
      "I am in try\n"
     ]
    },
    {
     "name": "stderr",
     "output_type": "stream",
     "text": [
      "\r",
      "Processing files:  25%|███████████████▍                                             | 253/1000 [06:14<27:11,  2.18s/it]"
     ]
    },
    {
     "name": "stdout",
     "output_type": "stream",
     "text": [
      "Y axis string value is: 0.015,0.0125,0.01,0.0075,0.005,0.0025\n",
      "I am in 1st try\n",
      "Y axis string corrected value is: [0.015, 0.0125, 0.01, 0.0075, 0.005, 0.0025]\n",
      "I am in try\n"
     ]
    },
    {
     "name": "stderr",
     "output_type": "stream",
     "text": [
      "\r",
      "Processing files:  25%|███████████████▍                                             | 254/1000 [06:17<27:58,  2.25s/it]"
     ]
    },
    {
     "name": "stdout",
     "output_type": "stream",
     "text": [
      "Y axis string value is: 0.0045,0.004,0.0035,0.003,0.0025,0.002,0.0015\n",
      "I am in 1st try\n",
      "Y axis string corrected value is: [0.0045, 0.004, 0.0035, 0.003, 0.0025, 0.002, 0.0015]\n",
      "I am in try\n"
     ]
    },
    {
     "name": "stderr",
     "output_type": "stream",
     "text": [
      "\r",
      "Processing files:  26%|███████████████▌                                             | 255/1000 [06:19<28:12,  2.27s/it]"
     ]
    },
    {
     "name": "stdout",
     "output_type": "stream",
     "text": [
      "Y axis string value is: \n",
      "I am in 1st try\n"
     ]
    },
    {
     "name": "stderr",
     "output_type": "stream",
     "text": [
      "\r",
      "Processing files:  26%|███████████████▌                                             | 256/1000 [06:22<29:17,  2.36s/it]"
     ]
    },
    {
     "name": "stdout",
     "output_type": "stream",
     "text": [
      "Y axis string value is: \n",
      "I am in 1st try\n"
     ]
    },
    {
     "name": "stderr",
     "output_type": "stream",
     "text": [
      "\r",
      "Processing files:  26%|███████████████▋                                             | 257/1000 [06:24<29:23,  2.37s/it]"
     ]
    },
    {
     "name": "stdout",
     "output_type": "stream",
     "text": [
      "Y axis string value is: 0.0000096,O.008094,0.0000092,0.0000090,0.000088,0.0000086,0.000084,0.000082,0.00*080,0.0000078,0.000076,0.00000074,copl\n",
      "I am in 1st try\n",
      "Y axis string corrected value is: [9.6e-06, 0.008094, 9.2e-06, 9e-06, 8.8e-05, 8.6e-06, 8.4e-05, 8.2e-05, 7.8e-06, 7.6e-05, 7.4e-07]\n",
      "I am in try\n"
     ]
    },
    {
     "name": "stderr",
     "output_type": "stream",
     "text": [
      "\r",
      "Processing files:  26%|███████████████▋                                             | 258/1000 [06:26<27:31,  2.23s/it]"
     ]
    },
    {
     "name": "stdout",
     "output_type": "stream",
     "text": [
      "Y axis string value is: 0.025,0.02,0.015,0.01,0.005\n",
      "I am in 1st try\n",
      "Y axis string corrected value is: [0.025, 0.02, 0.015, 0.01, 0.005]\n",
      "I am in try\n"
     ]
    },
    {
     "name": "stderr",
     "output_type": "stream",
     "text": [
      "\r",
      "Processing files:  26%|███████████████▊                                             | 259/1000 [06:28<25:48,  2.09s/it]"
     ]
    },
    {
     "name": "stdout",
     "output_type": "stream",
     "text": [
      "Y axis string value is: 0.23,0.22,0.21,0.2,0.19,0.18,0.17\n",
      "I am in 1st try\n",
      "Y axis string corrected value is: [0.23, 0.22, 0.21, 0.2, 0.19, 0.18, 0.17]\n",
      "I am in try\n"
     ]
    },
    {
     "name": "stderr",
     "output_type": "stream",
     "text": [
      "\r",
      "Processing files:  26%|███████████████▊                                             | 260/1000 [06:29<24:44,  2.01s/it]"
     ]
    },
    {
     "name": "stdout",
     "output_type": "stream",
     "text": [
      "Y axis string value is: O_,0.375,0.35,0.325,0.3,0.275\n",
      "I am in 1st try\n",
      "Y axis string corrected value is: [0.375, 0.35, 0.325, 0.3, 0.275]\n",
      "I am in try\n"
     ]
    },
    {
     "name": "stderr",
     "output_type": "stream",
     "text": [
      "\r",
      "Processing files:  26%|███████████████▉                                             | 261/1000 [06:32<26:56,  2.19s/it]"
     ]
    },
    {
     "name": "stdout",
     "output_type": "stream",
     "text": [
      "Y axis string value is: 0.33,0.32,0.32,0.31,0.31,0.30,0.30,0.29,0.29,0.28,0.27,0.27,0.26,0.26,0.25,0.25,0.24,0.24,0.23,0.23,0.22,0.22,0.21,0.21,Cap\n",
      "I am in 1st try\n",
      "Y axis string corrected value is: [0.33, 0.32, 0.32, 0.31, 0.31, 0.3, 0.3, 0.29, 0.29, 0.28, 0.27, 0.27, 0.26, 0.26, 0.25, 0.25, 0.24, 0.24, 0.23, 0.23, 0.22, 0.22, 0.21, 0.21]\n",
      "I am in try\n"
     ]
    },
    {
     "name": "stderr",
     "output_type": "stream",
     "text": [
      "\r",
      "Processing files:  26%|███████████████▉                                             | 262/1000 [06:34<25:56,  2.11s/it]"
     ]
    },
    {
     "name": "stdout",
     "output_type": "stream",
     "text": [
      "Y axis string value is: 0.03861,0.0386,0.03859,0.03858,0.03857\n",
      "I am in 1st try\n",
      "Y axis string corrected value is: [0.03861, 0.0386, 0.03859, 0.03858, 0.03857]\n",
      "I am in try\n"
     ]
    },
    {
     "name": "stderr",
     "output_type": "stream",
     "text": [
      "\r",
      "Processing files:  26%|████████████████                                             | 263/1000 [06:36<25:52,  2.11s/it]"
     ]
    },
    {
     "name": "stdout",
     "output_type": "stream",
     "text": [
      "Y axis string value is: \n",
      "I am in 1st try\n"
     ]
    },
    {
     "name": "stderr",
     "output_type": "stream",
     "text": [
      "\r",
      "Processing files:  26%|████████████████                                             | 264/1000 [06:38<25:06,  2.05s/it]"
     ]
    },
    {
     "name": "stdout",
     "output_type": "stream",
     "text": [
      "Y axis string value is: \n",
      "I am in 1st try\n"
     ]
    },
    {
     "name": "stderr",
     "output_type": "stream",
     "text": [
      "\r",
      "Processing files:  26%|████████████████▏                                            | 265/1000 [06:40<23:24,  1.91s/it]"
     ]
    },
    {
     "name": "stdout",
     "output_type": "stream",
     "text": [
      "Y axis string value is: 0.175,0.15,0.125,0.1,0.075,0.05,0.025\n",
      "I am in 1st try\n",
      "Y axis string corrected value is: [0.175, 0.15, 0.125, 0.1, 0.075, 0.05, 0.025]\n",
      "I am in try\n"
     ]
    },
    {
     "name": "stderr",
     "output_type": "stream",
     "text": [
      "\r",
      "Processing files:  27%|████████████████▏                                            | 266/1000 [06:41<22:58,  1.88s/it]"
     ]
    },
    {
     "name": "stdout",
     "output_type": "stream",
     "text": [
      "Y axis string value is: 3\"y-\n",
      "I am in 1st try\n",
      "Y axis string corrected value is: []\n"
     ]
    },
    {
     "name": "stderr",
     "output_type": "stream",
     "text": [
      "\r",
      "Processing files:  27%|████████████████▎                                            | 267/1000 [06:43<23:01,  1.89s/it]"
     ]
    },
    {
     "name": "stdout",
     "output_type": "stream",
     "text": [
      "Y axis string value is: 0.0022,0.002,0.0018,0.0016,0.0014,0.0012\n",
      "I am in 1st try\n",
      "Y axis string corrected value is: [0.0022, 0.002, 0.0018, 0.0016, 0.0014, 0.0012]\n",
      "I am in try\n"
     ]
    },
    {
     "name": "stderr",
     "output_type": "stream",
     "text": [
      "\r",
      "Processing files:  27%|████████████████▎                                            | 268/1000 [06:45<23:05,  1.89s/it]"
     ]
    },
    {
     "name": "stdout",
     "output_type": "stream",
     "text": [
      "Y axis string value is: 0.03,0.025,0.02,0.015,0.01,0.005\n",
      "I am in 1st try\n",
      "Y axis string corrected value is: [0.03, 0.025, 0.02, 0.015, 0.01, 0.005]\n",
      "I am in try\n"
     ]
    },
    {
     "name": "stderr",
     "output_type": "stream",
     "text": [
      "\r",
      "Processing files:  27%|████████████████▍                                            | 269/1000 [06:47<23:42,  1.95s/it]"
     ]
    },
    {
     "name": "stdout",
     "output_type": "stream",
     "text": [
      "Y axis string value is: 0.0354,0.0352,0.0350,0.0348,0.0346,0.03444,0.0342,0.0340,0.0338,0.0336,0.0334,0.0332,0.0331,Cop,0.0330\n",
      "I am in 1st try\n",
      "Y axis string corrected value is: [0.0354, 0.0352, 0.035, 0.0348, 0.0346, 0.03444, 0.0342, 0.034, 0.0338, 0.0336, 0.0334, 0.0332, 0.0331, 0.033]\n",
      "I am in try\n"
     ]
    },
    {
     "name": "stderr",
     "output_type": "stream",
     "text": [
      "\r",
      "Processing files:  27%|████████████████▍                                            | 270/1000 [06:49<23:32,  1.93s/it]"
     ]
    },
    {
     "name": "stdout",
     "output_type": "stream",
     "text": [
      "Y axis string value is: \n",
      "I am in 1st try\n"
     ]
    },
    {
     "name": "stderr",
     "output_type": "stream",
     "text": [
      "\r",
      "Processing files:  27%|████████████████▌                                            | 271/1000 [06:51<22:52,  1.88s/it]"
     ]
    },
    {
     "name": "stdout",
     "output_type": "stream",
     "text": [
      "Y axis string value is: 6,5,4,3,2\n",
      "I am in 1st try\n",
      "Y axis string corrected value is: [6.0, 5.0, 4.0, 3.0, 2.0]\n",
      "I am in try\n"
     ]
    },
    {
     "name": "stderr",
     "output_type": "stream",
     "text": [
      "\r",
      "Processing files:  27%|████████████████▌                                            | 272/1000 [06:52<21:24,  1.76s/it]"
     ]
    },
    {
     "name": "stdout",
     "output_type": "stream",
     "text": [
      "Y axis string value is: \n",
      "I am in 1st try\n"
     ]
    },
    {
     "name": "stderr",
     "output_type": "stream",
     "text": [
      "\r",
      "Processing files:  27%|████████████████▋                                            | 273/1000 [06:54<20:54,  1.73s/it]"
     ]
    },
    {
     "name": "stdout",
     "output_type": "stream",
     "text": [
      "Y axis string value is: 1.015,1.01,1.005,0.995\n",
      "I am in 1st try\n",
      "Y axis string corrected value is: [1.015, 1.01, 1.005, 0.995]\n",
      "I am in try\n"
     ]
    },
    {
     "name": "stderr",
     "output_type": "stream",
     "text": [
      "\r",
      "Processing files:  27%|████████████████▋                                            | 274/1000 [06:56<20:36,  1.70s/it]"
     ]
    },
    {
     "name": "stdout",
     "output_type": "stream",
     "text": [
      "Y axis string value is: \n",
      "I am in 1st try\n"
     ]
    },
    {
     "name": "stderr",
     "output_type": "stream",
     "text": [
      "\r",
      "Processing files:  28%|████████████████▊                                            | 275/1000 [06:57<20:28,  1.69s/it]"
     ]
    },
    {
     "name": "stdout",
     "output_type": "stream",
     "text": [
      "Y axis string value is: 0.0018,0.0016;,0.0014,0.0012\n",
      "I am in 1st try\n",
      "Y axis string corrected value is: [0.0018, 0.0014, 0.0012]\n",
      "I am in try\n"
     ]
    },
    {
     "name": "stderr",
     "output_type": "stream",
     "text": [
      "\r",
      "Processing files:  28%|████████████████▊                                            | 276/1000 [06:59<20:32,  1.70s/it]"
     ]
    },
    {
     "name": "stdout",
     "output_type": "stream",
     "text": [
      "Y axis string value is: 0.025,0.0225,0.02,0.0175,0.015,0.0125,0.01\n",
      "I am in 1st try\n",
      "Y axis string corrected value is: [0.025, 0.0225, 0.02, 0.0175, 0.015, 0.0125, 0.01]\n",
      "I am in try\n"
     ]
    },
    {
     "name": "stderr",
     "output_type": "stream",
     "text": [
      "\r",
      "Processing files:  28%|████████████████▉                                            | 277/1000 [07:01<20:32,  1.71s/it]"
     ]
    },
    {
     "name": "stdout",
     "output_type": "stream",
     "text": [
      "Y axis string value is: 4,3,2,Arv\n",
      "I am in 1st try\n",
      "Y axis string corrected value is: [4.0, 3.0, 2.0]\n",
      "I am in try\n"
     ]
    },
    {
     "name": "stderr",
     "output_type": "stream",
     "text": [
      "\r",
      "Processing files:  28%|████████████████▉                                            | 278/1000 [07:02<20:06,  1.67s/it]"
     ]
    },
    {
     "name": "stdout",
     "output_type": "stream",
     "text": [
      "Y axis string value is: 125,120,115,110,105,100,95'\n",
      "I am in 1st try\n",
      "Y axis string corrected value is: [125.0, 120.0, 115.0, 110.0, 105.0, 100.0]\n",
      "I am in try\n"
     ]
    },
    {
     "name": "stderr",
     "output_type": "stream",
     "text": [
      "\r",
      "Processing files:  28%|█████████████████                                            | 279/1000 [07:04<20:11,  1.68s/it]"
     ]
    },
    {
     "name": "stdout",
     "output_type": "stream",
     "text": [
      "Y axis string value is: 0.0325,0.03,0.0275,0.025,0.0225,0.02,0.0175,0.015\n",
      "I am in 1st try\n",
      "Y axis string corrected value is: [0.0325, 0.03, 0.0275, 0.025, 0.0225, 0.02, 0.0175, 0.015]\n",
      "I am in try\n"
     ]
    },
    {
     "name": "stderr",
     "output_type": "stream",
     "text": [
      "\r",
      "Processing files:  28%|█████████████████                                            | 280/1000 [07:06<20:31,  1.71s/it]"
     ]
    },
    {
     "name": "stdout",
     "output_type": "stream",
     "text": [
      "Y axis string value is: 0.00050,0.000049,0.000048,0.000047,0.000046,0.00045,0.000044,0.00043,0.00042,0.00041,0.000040,0.000039,0.00028,0.000037,0.000036,ap\n",
      "I am in 1st try\n",
      "Y axis string corrected value is: [0.0005, 4.9e-05, 4.8e-05, 4.7e-05, 4.6e-05, 0.00045, 4.4e-05, 0.00043, 0.00042, 0.00041, 4e-05, 3.9e-05, 0.00028, 3.7e-05, 3.6e-05]\n",
      "I am in try\n"
     ]
    },
    {
     "name": "stderr",
     "output_type": "stream",
     "text": [
      "\r",
      "Processing files:  28%|█████████████████▏                                           | 281/1000 [07:08<20:12,  1.69s/it]"
     ]
    },
    {
     "name": "stdout",
     "output_type": "stream",
     "text": [
      "Y axis string value is: 0.00014,0.00012,0.0001,0.00008,0.00006,0.00004\n",
      "I am in 1st try\n",
      "Y axis string corrected value is: [0.00014, 0.00012, 0.0001, 8e-05, 6e-05, 4e-05]\n",
      "I am in try\n"
     ]
    },
    {
     "name": "stderr",
     "output_type": "stream",
     "text": [
      "\r",
      "Processing files:  28%|█████████████████▏                                           | 282/1000 [07:09<19:12,  1.60s/it]"
     ]
    },
    {
     "name": "stdout",
     "output_type": "stream",
     "text": [
      "Y axis string value is: \n",
      "I am in 1st try\n"
     ]
    },
    {
     "name": "stderr",
     "output_type": "stream",
     "text": [
      "\r",
      "Processing files:  28%|█████████████████▎                                           | 283/1000 [07:10<18:55,  1.58s/it]"
     ]
    },
    {
     "name": "stdout",
     "output_type": "stream",
     "text": [
      "Y axis string value is: 0.125,0.1,0.075,0.05,0.025\n",
      "I am in 1st try\n",
      "Y axis string corrected value is: [0.125, 0.1, 0.075, 0.05, 0.025]\n",
      "I am in try\n"
     ]
    },
    {
     "name": "stderr",
     "output_type": "stream",
     "text": [
      "\r",
      "Processing files:  28%|█████████████████▎                                           | 284/1000 [07:12<19:56,  1.67s/it]"
     ]
    },
    {
     "name": "stdout",
     "output_type": "stream",
     "text": [
      "Y axis string value is: 0.000425,0.0004,0.000375;,0.00035:,0.000325,0.0003\n",
      "I am in 1st try\n",
      "Y axis string corrected value is: [0.000425, 0.0004, 0.000325, 0.0003]\n",
      "I am in try\n"
     ]
    },
    {
     "name": "stderr",
     "output_type": "stream",
     "text": [
      "\r",
      "Processing files:  28%|█████████████████▍                                           | 285/1000 [07:14<20:24,  1.71s/it]"
     ]
    },
    {
     "name": "stdout",
     "output_type": "stream",
     "text": [
      "Y axis string value is: 70.0,69.0,68.0,67.0,66.0,65.0,64.0,630,62.5,62.0,61.0,60.0,59.0,58.0,57.0,56.0,55.0,54.0,53.0,52.0,510,50.0,490,48.0,Cap\n",
      "I am in 1st try\n",
      "Y axis string corrected value is: [70.0, 69.0, 68.0, 67.0, 66.0, 65.0, 64.0, 630.0, 62.5, 62.0, 61.0, 60.0, 59.0, 58.0, 57.0, 56.0, 55.0, 54.0, 53.0, 52.0, 510.0, 50.0, 490.0, 48.0]\n",
      "I am in try\n"
     ]
    },
    {
     "name": "stderr",
     "output_type": "stream",
     "text": [
      "\r",
      "Processing files:  29%|█████████████████▍                                           | 286/1000 [07:16<20:39,  1.74s/it]"
     ]
    },
    {
     "name": "stdout",
     "output_type": "stream",
     "text": [
      "Y axis string value is: 0.070,0.065,0.060,0.055,0.050,0.045,0.040,0.035,0.030,0.025,0.020,0.015,0.010,0.0050,0.00044,Cop\n",
      "I am in 1st try\n",
      "Y axis string corrected value is: [0.07, 0.065, 0.06, 0.055, 0.05, 0.045, 0.04, 0.035, 0.03, 0.025, 0.02, 0.015, 0.01, 0.005, 0.00044]\n",
      "I am in try\n"
     ]
    },
    {
     "name": "stderr",
     "output_type": "stream",
     "text": [
      "\r",
      "Processing files:  29%|█████████████████▌                                           | 287/1000 [07:18<20:22,  1.72s/it]"
     ]
    },
    {
     "name": "stdout",
     "output_type": "stream",
     "text": [
      "Y axis string value is: 0.000014,0.0000142,O.0oo01,0.0000137,0.000013,0.0000132,0.00001\n",
      "I am in 1st try\n",
      "Y axis string corrected value is: [1.4e-05, 1.42e-05, 0.001, 1.37e-05, 1.3e-05, 1.32e-05, 1e-05]\n",
      "I am in try\n"
     ]
    },
    {
     "name": "stderr",
     "output_type": "stream",
     "text": [
      "Processing files:  29%|█████████████████▋                                           | 289/1000 [07:21<19:34,  1.65s/it]"
     ]
    },
    {
     "name": "stdout",
     "output_type": "stream",
     "text": [
      "Y axis string value is: \n",
      "I am in 1st try\n"
     ]
    },
    {
     "name": "stderr",
     "output_type": "stream",
     "text": [
      "\r",
      "Processing files:  29%|█████████████████▋                                           | 290/1000 [07:22<18:46,  1.59s/it]"
     ]
    },
    {
     "name": "stdout",
     "output_type": "stream",
     "text": [
      "Y axis string value is: 0.58,0.56,0.54,0.52,0.5,0.48\n",
      "I am in 1st try\n",
      "Y axis string corrected value is: [0.58, 0.56, 0.54, 0.52, 0.5, 0.48]\n",
      "I am in try\n"
     ]
    },
    {
     "name": "stderr",
     "output_type": "stream",
     "text": [
      "\r",
      "Processing files:  29%|█████████████████▊                                           | 291/1000 [07:24<19:06,  1.62s/it]"
     ]
    },
    {
     "name": "stdout",
     "output_type": "stream",
     "text": [
      "Y axis string value is: 0.00071,0.0007,0.00069,0.00068,0.00067,0.00066,0.00065\n",
      "I am in 1st try\n",
      "Y axis string corrected value is: [0.00071, 0.0007, 0.00069, 0.00068, 0.00067, 0.00066, 0.00065]\n",
      "I am in try\n"
     ]
    },
    {
     "name": "stderr",
     "output_type": "stream",
     "text": [
      "\r",
      "Processing files:  29%|█████████████████▊                                           | 292/1000 [07:26<19:14,  1.63s/it]"
     ]
    },
    {
     "name": "stdout",
     "output_type": "stream",
     "text": [
      "Y axis string value is: 0.00035,0.0003,0.00025,0.0002,0.00015,0.0001,0.00005\n",
      "I am in 1st try\n",
      "Y axis string corrected value is: [0.00035, 0.0003, 0.00025, 0.0002, 0.00015, 0.0001, 5e-05]\n",
      "I am in try\n"
     ]
    },
    {
     "name": "stderr",
     "output_type": "stream",
     "text": [
      "\r",
      "Processing files:  29%|█████████████████▊                                           | 293/1000 [07:27<19:06,  1.62s/it]"
     ]
    },
    {
     "name": "stdout",
     "output_type": "stream",
     "text": [
      "Y axis string value is: \n",
      "I am in 1st try\n"
     ]
    },
    {
     "name": "stderr",
     "output_type": "stream",
     "text": [
      "Processing files:  30%|█████████████████▉                                           | 295/1000 [07:30<18:25,  1.57s/it]"
     ]
    },
    {
     "name": "stdout",
     "output_type": "stream",
     "text": [
      "Y axis string value is: \n",
      "I am in 1st try\n"
     ]
    },
    {
     "name": "stderr",
     "output_type": "stream",
     "text": [
      "\r",
      "Processing files:  30%|██████████████████                                           | 296/1000 [07:32<18:34,  1.58s/it]"
     ]
    },
    {
     "name": "stdout",
     "output_type": "stream",
     "text": [
      "Y axis string value is: 32k,31k,30k,29k,28k,27k\n",
      "I am in 1st try\n",
      "Y axis string corrected value is: [32.0, 31.0, 30.0, 29.0, 28.0, 27.0]\n",
      "I am in try\n"
     ]
    },
    {
     "name": "stderr",
     "output_type": "stream",
     "text": [
      "\r",
      "Processing files:  30%|██████████████████                                           | 297/1000 [07:33<18:44,  1.60s/it]"
     ]
    },
    {
     "name": "stdout",
     "output_type": "stream",
     "text": [
      "Y axis string value is: 0.01,0.009,0.008,0.007,0.006,0.005,0.004,0.003\n",
      "I am in 1st try\n",
      "Y axis string corrected value is: [0.01, 0.009, 0.008, 0.007, 0.006, 0.005, 0.004, 0.003]\n",
      "I am in try\n"
     ]
    },
    {
     "name": "stderr",
     "output_type": "stream",
     "text": [
      "\r",
      "Processing files:  30%|██████████████████▏                                          | 298/1000 [07:35<19:35,  1.67s/it]"
     ]
    },
    {
     "name": "stdout",
     "output_type": "stream",
     "text": [
      "Y axis string value is: 0.22,0.21975,0.2195,0.21925:,0.219,0.21875\n",
      "I am in 1st try\n",
      "Y axis string corrected value is: [0.22, 0.21975, 0.2195, 0.219, 0.21875]\n",
      "I am in try\n"
     ]
    },
    {
     "name": "stderr",
     "output_type": "stream",
     "text": [
      "\r",
      "Processing files:  30%|██████████████████▏                                          | 299/1000 [07:37<19:33,  1.67s/it]"
     ]
    },
    {
     "name": "stdout",
     "output_type": "stream",
     "text": [
      "Y axis string value is: 0.125,0.1225,0.12,0.1175,0.115,0.1125\n",
      "I am in 1st try\n",
      "Y axis string corrected value is: [0.125, 0.1225, 0.12, 0.1175, 0.115, 0.1125]\n",
      "I am in try\n"
     ]
    },
    {
     "name": "stderr",
     "output_type": "stream",
     "text": [
      "\r",
      "Processing files:  30%|██████████████████▎                                          | 300/1000 [07:39<19:24,  1.66s/it]"
     ]
    },
    {
     "name": "stdout",
     "output_type": "stream",
     "text": [
      "Y axis string value is: 0.0037,0.00365,0.0036,0.00355;,0.0035,0.00345,0.0034\n",
      "I am in 1st try\n",
      "Y axis string corrected value is: [0.0037, 0.00365, 0.0036, 0.0035, 0.00345, 0.0034]\n",
      "I am in try\n"
     ]
    },
    {
     "name": "stderr",
     "output_type": "stream",
     "text": [
      "\r",
      "Processing files:  30%|██████████████████▎                                          | 301/1000 [07:40<19:17,  1.66s/it]"
     ]
    },
    {
     "name": "stdout",
     "output_type": "stream",
     "text": [
      "Y axis string value is: 8e-10 ,7e-10,6e-10,Se-108,42-10}\n",
      "I am in 1st try\n",
      "Y axis string corrected value is: [8e-10, 7e-10, 6e-10, 5e-108]\n",
      "I am in try\n"
     ]
    },
    {
     "name": "stderr",
     "output_type": "stream",
     "text": [
      "\r",
      "Processing files:  30%|██████████████████▍                                          | 302/1000 [07:42<19:32,  1.68s/it]"
     ]
    },
    {
     "name": "stdout",
     "output_type": "stream",
     "text": [
      "Y axis string value is: 0,20.0,180,0,{,8.0,0,Cop\n",
      "I am in 1st try\n",
      "Y axis string corrected value is: [0.0, 20.0, 180.0, 0.0, 8.0, 0.0]\n",
      "I am in try\n"
     ]
    },
    {
     "name": "stderr",
     "output_type": "stream",
     "text": [
      "\r",
      "Processing files:  30%|██████████████████▍                                          | 303/1000 [07:44<19:39,  1.69s/it]"
     ]
    },
    {
     "name": "stdout",
     "output_type": "stream",
     "text": [
      "Y axis string value is: 0.00175,0.0015,0.00125,0.001,0.00075,0.0005,0.00025\n",
      "I am in 1st try\n",
      "Y axis string corrected value is: [0.00175, 0.0015, 0.00125, 0.001, 0.00075, 0.0005, 0.00025]\n",
      "I am in try\n"
     ]
    },
    {
     "name": "stderr",
     "output_type": "stream",
     "text": [
      "\r",
      "Processing files:  30%|██████████████████▌                                          | 304/1000 [07:45<18:52,  1.63s/it]"
     ]
    },
    {
     "name": "stdout",
     "output_type": "stream",
     "text": [
      "Y axis string value is: \n",
      "I am in 1st try\n"
     ]
    },
    {
     "name": "stderr",
     "output_type": "stream",
     "text": [
      "\r",
      "Processing files:  30%|██████████████████▌                                          | 305/1000 [07:47<19:14,  1.66s/it]"
     ]
    },
    {
     "name": "stdout",
     "output_type": "stream",
     "text": [
      "Y axis string value is: \n",
      "I am in 1st try\n"
     ]
    },
    {
     "name": "stderr",
     "output_type": "stream",
     "text": [
      "\r",
      "Processing files:  31%|██████████████████▋                                          | 306/1000 [07:48<18:46,  1.62s/it]"
     ]
    },
    {
     "name": "stdout",
     "output_type": "stream",
     "text": [
      "Y axis string value is: 0.0004325,0.00043,0.0004275,0.000425,0.0004225,0.00042\n",
      "I am in 1st try\n",
      "Y axis string corrected value is: [0.0004325, 0.00043, 0.0004275, 0.000425, 0.0004225, 0.00042]\n",
      "I am in try\n"
     ]
    },
    {
     "name": "stderr",
     "output_type": "stream",
     "text": [
      "\r",
      "Processing files:  31%|██████████████████▋                                          | 307/1000 [07:50<18:29,  1.60s/it]"
     ]
    },
    {
     "name": "stdout",
     "output_type": "stream",
     "text": [
      "Y axis string value is: 0.07,0.06,0.05,0.04,0.03,0.02_,0.01\n",
      "I am in 1st try\n",
      "Y axis string corrected value is: [0.07, 0.06, 0.05, 0.04, 0.03, 0.01]\n",
      "I am in try\n"
     ]
    },
    {
     "name": "stderr",
     "output_type": "stream",
     "text": [
      "\r",
      "Processing files:  31%|██████████████████▊                                          | 308/1000 [07:52<18:13,  1.58s/it]"
     ]
    },
    {
     "name": "stdout",
     "output_type": "stream",
     "text": [
      "Y axis string value is: 0.38,0.36,0.34,0.32,0.3,0.28\n",
      "I am in 1st try\n",
      "Y axis string corrected value is: [0.38, 0.36, 0.34, 0.32, 0.3, 0.28]\n",
      "I am in try\n"
     ]
    },
    {
     "name": "stderr",
     "output_type": "stream",
     "text": [
      "\r",
      "Processing files:  31%|██████████████████▊                                          | 309/1000 [07:53<17:29,  1.52s/it]"
     ]
    },
    {
     "name": "stdout",
     "output_type": "stream",
     "text": [
      "Y axis string value is: \n",
      "I am in 1st try\n"
     ]
    },
    {
     "name": "stderr",
     "output_type": "stream",
     "text": [
      "\r",
      "Processing files:  31%|██████████████████▉                                          | 310/1000 [07:55<17:56,  1.56s/it]"
     ]
    },
    {
     "name": "stdout",
     "output_type": "stream",
     "text": [
      "Y axis string value is: 1.o9e\"2,1.8e-2,1.7Se-2-,1.7e-2,1.65e-2,1.6e-2\n",
      "I am in 1st try\n",
      "Y axis string corrected value is: [190.0, 0.018, 0.017, 0.0165, 0.016]\n",
      "I am in try\n"
     ]
    },
    {
     "name": "stderr",
     "output_type": "stream",
     "text": [
      "\r",
      "Processing files:  31%|██████████████████▉                                          | 311/1000 [07:56<17:52,  1.56s/it]"
     ]
    },
    {
     "name": "stdout",
     "output_type": "stream",
     "text": [
      "Y axis string value is: 0.000275:,0.00025,0.000225;,0.000175,,0.0001 5,0.000125,0.0002;\n",
      "I am in 1st try\n"
     ]
    },
    {
     "name": "stderr",
     "output_type": "stream",
     "text": [
      "\r",
      "Processing files:  31%|███████████████████                                          | 312/1000 [07:58<17:29,  1.53s/it]"
     ]
    },
    {
     "name": "stdout",
     "output_type": "stream",
     "text": [
      "Y axis string value is: \n",
      "I am in 1st try\n"
     ]
    },
    {
     "name": "stderr",
     "output_type": "stream",
     "text": [
      "\r",
      "Processing files:  31%|███████████████████                                          | 313/1000 [07:59<16:44,  1.46s/it]"
     ]
    },
    {
     "name": "stdout",
     "output_type": "stream",
     "text": [
      "Y axis string value is: \n",
      "I am in 1st try\n"
     ]
    },
    {
     "name": "stderr",
     "output_type": "stream",
     "text": [
      "\r",
      "Processing files:  31%|███████████████████▏                                         | 314/1000 [08:00<16:21,  1.43s/it]"
     ]
    },
    {
     "name": "stdout",
     "output_type": "stream",
     "text": [
      "Y axis string value is: \n",
      "I am in 1st try\n"
     ]
    },
    {
     "name": "stderr",
     "output_type": "stream",
     "text": [
      "\r",
      "Processing files:  32%|███████████████████▏                                         | 315/1000 [08:02<16:36,  1.45s/it]"
     ]
    },
    {
     "name": "stdout",
     "output_type": "stream",
     "text": [
      "Y axis string value is: 0.02,0.0175,0.015,0.0125,0.01,0.0075,0.005,0.0025\n",
      "I am in 1st try\n",
      "Y axis string corrected value is: [0.02, 0.0175, 0.015, 0.0125, 0.01, 0.0075, 0.005, 0.0025]\n",
      "I am in try\n"
     ]
    },
    {
     "name": "stderr",
     "output_type": "stream",
     "text": [
      "\r",
      "Processing files:  32%|███████████████████▎                                         | 316/1000 [08:03<17:02,  1.49s/it]"
     ]
    },
    {
     "name": "stdout",
     "output_type": "stream",
     "text": [
      "Y axis string value is: 0.00034,0.00032,0.0003,0.00028,0.00026,0.00024\n",
      "I am in 1st try\n",
      "Y axis string corrected value is: [0.00034, 0.00032, 0.0003, 0.00028, 0.00026, 0.00024]\n",
      "I am in try\n"
     ]
    },
    {
     "name": "stderr",
     "output_type": "stream",
     "text": [
      "Processing files:  32%|███████████████████▍                                         | 318/1000 [08:06<17:12,  1.51s/it]"
     ]
    },
    {
     "name": "stdout",
     "output_type": "stream",
     "text": [
      "Y axis string value is: 0.40,0.38,0.36,0.34,0.32,0.30,0.28,0.26,0.24,0.22,0.20,0.18,0.16,0.14,0.12,0.100,0.080,0.070,0.060,0.040,Cap,0.020\n",
      "I am in 1st try\n",
      "Y axis string corrected value is: [0.4, 0.38, 0.36, 0.34, 0.32, 0.3, 0.28, 0.26, 0.24, 0.22, 0.2, 0.18, 0.16, 0.14, 0.12, 0.1, 0.08, 0.07, 0.06, 0.04, 0.02]\n",
      "I am in try\n"
     ]
    },
    {
     "name": "stderr",
     "output_type": "stream",
     "text": [
      "\r",
      "Processing files:  32%|███████████████████▍                                         | 319/1000 [08:08<16:58,  1.49s/it]"
     ]
    },
    {
     "name": "stdout",
     "output_type": "stream",
     "text": [
      "Y axis string value is: \n",
      "I am in 1st try\n"
     ]
    },
    {
     "name": "stderr",
     "output_type": "stream",
     "text": [
      "\r",
      "Processing files:  32%|███████████████████▌                                         | 320/1000 [08:09<16:34,  1.46s/it]"
     ]
    },
    {
     "name": "stdout",
     "output_type": "stream",
     "text": [
      "Y axis string value is: \n",
      "I am in 1st try\n"
     ]
    },
    {
     "name": "stderr",
     "output_type": "stream",
     "text": [
      "\r",
      "Processing files:  32%|███████████████████▌                                         | 321/1000 [08:11<16:43,  1.48s/it]"
     ]
    },
    {
     "name": "stdout",
     "output_type": "stream",
     "text": [
      "Y axis string value is: 0.00049,0.00048,0.00047,0.00046,0.00045\n",
      "I am in 1st try\n",
      "Y axis string corrected value is: [0.00049, 0.00048, 0.00047, 0.00046, 0.00045]\n",
      "I am in try\n"
     ]
    },
    {
     "name": "stderr",
     "output_type": "stream",
     "text": [
      "\r",
      "Processing files:  32%|███████████████████▋                                         | 322/1000 [08:12<17:01,  1.51s/it]"
     ]
    },
    {
     "name": "stdout",
     "output_type": "stream",
     "text": [
      "Y axis string value is: 0.036,0.03471,0.032,0.03,0.028\n",
      "I am in 1st try\n",
      "Y axis string corrected value is: [0.036, 0.03471, 0.032, 0.03, 0.028]\n",
      "I am in try\n"
     ]
    },
    {
     "name": "stderr",
     "output_type": "stream",
     "text": [
      "\r",
      "Processing files:  32%|███████████████████▋                                         | 323/1000 [08:14<16:46,  1.49s/it]"
     ]
    },
    {
     "name": "stdout",
     "output_type": "stream",
     "text": [
      "Y axis string value is: \n",
      "I am in 1st try\n"
     ]
    },
    {
     "name": "stderr",
     "output_type": "stream",
     "text": [
      "\r",
      "Processing files:  32%|███████████████████▊                                         | 324/1000 [08:15<16:48,  1.49s/it]"
     ]
    },
    {
     "name": "stdout",
     "output_type": "stream",
     "text": [
      "Y axis string value is: 17.0,16.0,15.0,14.0,13.0,12.0,11.7,11.0,10.0,9.0,8.0,7.0,6.0,5.0,ap\n",
      "I am in 1st try\n",
      "Y axis string corrected value is: [17.0, 16.0, 15.0, 14.0, 13.0, 12.0, 11.7, 11.0, 10.0, 9.0, 8.0, 7.0, 6.0, 5.0]\n",
      "I am in try\n"
     ]
    },
    {
     "name": "stderr",
     "output_type": "stream",
     "text": [
      "\r",
      "Processing files:  32%|███████████████████▊                                         | 325/1000 [08:17<17:11,  1.53s/it]"
     ]
    },
    {
     "name": "stdout",
     "output_type": "stream",
     "text": [
      "Y axis string value is: 0.012,0.010,O.0080,0.0057,0.0040,0.0020,0\n",
      "I am in 1st try\n",
      "Y axis string corrected value is: [0.012, 0.01, 0.008, 0.0057, 0.004, 0.002, 0.0]\n",
      "I am in try\n"
     ]
    },
    {
     "name": "stderr",
     "output_type": "stream",
     "text": [
      "\r",
      "Processing files:  33%|███████████████████▉                                         | 326/1000 [08:19<17:48,  1.58s/it]"
     ]
    },
    {
     "name": "stdout",
     "output_type": "stream",
     "text": [
      "Y axis string value is: 0.0009,O.008,O.O000T,0.081,0.0005,M,O.004\n",
      "I am in 1st try\n",
      "Y axis string corrected value is: [0.0009, 0.008, 7e-05, 0.081, 0.0005, 0.004]\n"
     ]
    },
    {
     "name": "stderr",
     "output_type": "stream",
     "text": [
      "\r",
      "Processing files:  33%|███████████████████▉                                         | 327/1000 [08:20<17:03,  1.52s/it]"
     ]
    },
    {
     "name": "stdout",
     "output_type": "stream",
     "text": [
      "Y axis string value is: \n",
      "I am in 1st try\n"
     ]
    },
    {
     "name": "stderr",
     "output_type": "stream",
     "text": [
      "\r",
      "Processing files:  33%|████████████████████                                         | 328/1000 [08:21<16:37,  1.48s/it]"
     ]
    },
    {
     "name": "stdout",
     "output_type": "stream",
     "text": [
      "Y axis string value is: 2.2e-,2e-,1.8e -,1.6e-,1.4e-\n",
      "I am in 1st try\n",
      "Y axis string corrected value is: []\n"
     ]
    },
    {
     "name": "stderr",
     "output_type": "stream",
     "text": [
      "\r",
      "Processing files:  33%|████████████████████                                         | 329/1000 [08:23<16:45,  1.50s/it]"
     ]
    },
    {
     "name": "stdout",
     "output_type": "stream",
     "text": [
      "Y axis string value is: 0.000895,0.00089,0.000885,0.00088,0.000875,0.00087\n",
      "I am in 1st try\n",
      "Y axis string corrected value is: [0.000895, 0.00089, 0.000885, 0.00088, 0.000875, 0.00087]\n",
      "I am in try\n"
     ]
    },
    {
     "name": "stderr",
     "output_type": "stream",
     "text": [
      "\r",
      "Processing files:  33%|████████████████████▏                                        | 330/1000 [08:24<17:00,  1.52s/it]"
     ]
    },
    {
     "name": "stdout",
     "output_type": "stream",
     "text": [
      "Y axis string value is: 1.767e-7,1.766e-7,1.765e-7,1.764e-7,1.763e-7,1.762e-7,1.761e-7\n",
      "I am in 1st try\n",
      "Y axis string corrected value is: [1.767e-07, 1.766e-07, 1.765e-07, 1.764e-07, 1.763e-07, 1.762e-07, 1.761e-07]\n",
      "I am in try\n"
     ]
    },
    {
     "name": "stderr",
     "output_type": "stream",
     "text": [
      "\r",
      "Processing files:  33%|████████████████████▏                                        | 331/1000 [08:26<17:03,  1.53s/it]"
     ]
    },
    {
     "name": "stdout",
     "output_type": "stream",
     "text": [
      "Y axis string value is: 0.0060,0.0058,0.0056,0.0054,0.0052,0.0050,0.00048,0.0046\n",
      "I am in 1st try\n",
      "Y axis string corrected value is: [0.006, 0.0058, 0.0056, 0.0054, 0.0052, 0.005, 0.00048, 0.0046]\n",
      "I am in try\n"
     ]
    },
    {
     "name": "stderr",
     "output_type": "stream",
     "text": [
      "\r",
      "Processing files:  33%|████████████████████▎                                        | 332/1000 [08:28<17:02,  1.53s/it]"
     ]
    },
    {
     "name": "stdout",
     "output_type": "stream",
     "text": [
      "Y axis string value is: 0.000,O.000,0.000,O.000,0.O00,0.000,0,O.000,O.000\n",
      "I am in 1st try\n",
      "Y axis string corrected value is: [0.0, 0.0, 0.0, 0.0, 0.0, 0.0, 0.0, 0.0, 0.0]\n",
      "I am in try\n"
     ]
    },
    {
     "name": "stderr",
     "output_type": "stream",
     "text": [
      "\r",
      "Processing files:  33%|████████████████████▎                                        | 333/1000 [08:29<16:38,  1.50s/it]"
     ]
    },
    {
     "name": "stdout",
     "output_type": "stream",
     "text": [
      "Y axis string value is: \n",
      "I am in 1st try\n"
     ]
    },
    {
     "name": "stderr",
     "output_type": "stream",
     "text": [
      "\r",
      "Processing files:  33%|████████████████████▎                                        | 334/1000 [08:30<16:19,  1.47s/it]"
     ]
    },
    {
     "name": "stdout",
     "output_type": "stream",
     "text": [
      "Y axis string value is: \n",
      "I am in 1st try\n"
     ]
    },
    {
     "name": "stderr",
     "output_type": "stream",
     "text": [
      "\r",
      "Processing files:  34%|████████████████████▍                                        | 335/1000 [08:32<15:46,  1.42s/it]"
     ]
    },
    {
     "name": "stdout",
     "output_type": "stream",
     "text": [
      "Y axis string value is: \n",
      "I am in 1st try\n"
     ]
    },
    {
     "name": "stderr",
     "output_type": "stream",
     "text": [
      "\r",
      "Processing files:  34%|████████████████████▍                                        | 336/1000 [08:33<16:13,  1.47s/it]"
     ]
    },
    {
     "name": "stdout",
     "output_type": "stream",
     "text": [
      "Y axis string value is: 0.0000042,O.O0OX040,0.00000038,0.000036,0.0000034,0.000000032,0.0000030,0.000000028,0.0000026,0000000024,0.000000022,0.000020,0.0000018,0.000800016,0.0000014,0.000012,O.OO100,0.O0O008000,@.Oc05000,O.OCOOOAOOO,000001218,cap\n",
      "I am in 1st try\n",
      "Y axis string corrected value is: [4.2e-06, 4e-05, 3.8e-07, 3.6e-05, 3.4e-06, 3.2e-08, 3e-06, 2.8e-08, 2.6e-06, 2.4e-08, 2.2e-08, 2e-05, 1.8e-06, 0.000800016, 1.4e-06, 1.2e-05, 0.001, 8e-06, 0.005, 1.218e-05]\n",
      "I am in try\n"
     ]
    },
    {
     "name": "stderr",
     "output_type": "stream",
     "text": [
      "\r",
      "Processing files:  34%|████████████████████▌                                        | 337/1000 [08:35<16:35,  1.50s/it]"
     ]
    },
    {
     "name": "stdout",
     "output_type": "stream",
     "text": [
      "Y axis string value is: 0.1,0.08;,0.062,0.04:,0.02\n",
      "I am in 1st try\n",
      "Y axis string corrected value is: [0.1, 0.062, 0.02]\n",
      "I am in try\n"
     ]
    },
    {
     "name": "stderr",
     "output_type": "stream",
     "text": [
      "\r",
      "Processing files:  34%|████████████████████▌                                        | 338/1000 [08:36<16:45,  1.52s/it]"
     ]
    },
    {
     "name": "stdout",
     "output_type": "stream",
     "text": [
      "Y axis string value is: 96.8,96.6,96.4:,96.2,96\n",
      "I am in 1st try\n",
      "Y axis string corrected value is: [96.8, 96.6, 96.2, 96.0]\n",
      "I am in try\n"
     ]
    },
    {
     "name": "stderr",
     "output_type": "stream",
     "text": [
      "\r",
      "Processing files:  34%|████████████████████▋                                        | 339/1000 [08:38<16:55,  1.54s/it]"
     ]
    },
    {
     "name": "stdout",
     "output_type": "stream",
     "text": [
      "Y axis string value is: 7e-8 ;,6e-8,Se-8,4e-8,3e-8,2e-8,1e-8\n",
      "I am in 1st try\n",
      "Y axis string corrected value is: [6e-08, 5e-08, 4e-08, 3e-08, 2e-08, 1e-08]\n",
      "I am in try\n"
     ]
    },
    {
     "name": "stderr",
     "output_type": "stream",
     "text": [
      "\r",
      "Processing files:  34%|████████████████████▋                                        | 340/1000 [08:39<16:33,  1.50s/it]"
     ]
    },
    {
     "name": "stdout",
     "output_type": "stream",
     "text": [
      "Y axis string value is: \n",
      "I am in 1st try\n"
     ]
    },
    {
     "name": "stderr",
     "output_type": "stream",
     "text": [
      "\r",
      "Processing files:  34%|████████████████████▊                                        | 341/1000 [08:41<16:36,  1.51s/it]"
     ]
    },
    {
     "name": "stdout",
     "output_type": "stream",
     "text": [
      "Y axis string value is: 0.00085,0.0008,0.00075,0.0007,,0.00065:,0.0006,0.0oos5,0.Ooos\n",
      "I am in 1st try\n"
     ]
    },
    {
     "name": "stderr",
     "output_type": "stream",
     "text": [
      "\r",
      "Processing files:  34%|████████████████████▊                                        | 342/1000 [08:42<16:29,  1.50s/it]"
     ]
    },
    {
     "name": "stdout",
     "output_type": "stream",
     "text": [
      "Y axis string value is: 0.000o01 2,0.000001,8e-7,6e-7,4e-7,2e-7\n",
      "I am in 1st try\n",
      "Y axis string corrected value is: [1e-06, 8e-07, 6e-07, 4e-07, 2e-07]\n",
      "I am in try\n"
     ]
    },
    {
     "name": "stderr",
     "output_type": "stream",
     "text": [
      "\r",
      "Processing files:  34%|████████████████████▉                                        | 343/1000 [08:44<15:49,  1.44s/it]"
     ]
    },
    {
     "name": "stdout",
     "output_type": "stream",
     "text": [
      "Y axis string value is: \n",
      "I am in 1st try\n"
     ]
    },
    {
     "name": "stderr",
     "output_type": "stream",
     "text": [
      "\r",
      "Processing files:  34%|████████████████████▉                                        | 344/1000 [08:45<15:41,  1.43s/it]"
     ]
    },
    {
     "name": "stdout",
     "output_type": "stream",
     "text": [
      "Y axis string value is: '10,8,6,2\n",
      "I am in 1st try\n",
      "Y axis string corrected value is: [8.0, 6.0, 2.0]\n",
      "I am in try\n"
     ]
    },
    {
     "name": "stderr",
     "output_type": "stream",
     "text": [
      "\r",
      "Processing files:  34%|█████████████████████                                        | 345/1000 [08:47<15:29,  1.42s/it]"
     ]
    },
    {
     "name": "stdout",
     "output_type": "stream",
     "text": [
      "Y axis string value is: \n",
      "I am in 1st try\n"
     ]
    },
    {
     "name": "stderr",
     "output_type": "stream",
     "text": [
      "\r",
      "Processing files:  35%|█████████████████████                                        | 346/1000 [08:48<15:39,  1.44s/it]"
     ]
    },
    {
     "name": "stdout",
     "output_type": "stream",
     "text": [
      "Y axis string value is: 0.013,0.012,0.011/,0.01,0.009,0.008,0.007\n",
      "I am in 1st try\n",
      "Y axis string corrected value is: [0.013, 0.012, 0.01, 0.009, 0.008, 0.007]\n",
      "I am in try\n"
     ]
    },
    {
     "name": "stderr",
     "output_type": "stream",
     "text": [
      "\r",
      "Processing files:  35%|█████████████████████▏                                       | 347/1000 [08:50<15:54,  1.46s/it]"
     ]
    },
    {
     "name": "stdout",
     "output_type": "stream",
     "text": [
      "Y axis string value is: 0.000186,0.000184,0.000182,0.00018:,0.0001 78\n",
      "I am in 1st try\n",
      "Y axis string corrected value is: [0.000186, 0.000184, 0.000182]\n",
      "I am in try\n"
     ]
    },
    {
     "name": "stderr",
     "output_type": "stream",
     "text": [
      "\r",
      "Processing files:  35%|█████████████████████▏                                       | 348/1000 [08:51<15:46,  1.45s/it]"
     ]
    },
    {
     "name": "stdout",
     "output_type": "stream",
     "text": [
      "Y axis string value is: \n",
      "I am in 1st try\n"
     ]
    },
    {
     "name": "stderr",
     "output_type": "stream",
     "text": [
      "\r",
      "Processing files:  35%|█████████████████████▎                                       | 349/1000 [08:53<16:05,  1.48s/it]"
     ]
    },
    {
     "name": "stdout",
     "output_type": "stream",
     "text": [
      "Y axis string value is: 0.000822,0.0000820,0.00.0818,0000816,0.0000814,0.0000812,0.000810,0.008808,0.0000806,0.000804,0.000802,O.O0800,0.000798,0.000796,0.000794,Cap]\n",
      "I am in 1st try\n",
      "Y axis string corrected value is: [0.000822, 8.2e-05, 0.000816, 8.14e-05, 8.12e-05, 0.00081, 0.008808, 8.06e-05, 0.000804, 0.000802, 0.008, 0.000798, 0.000796, 0.000794]\n",
      "I am in try\n"
     ]
    },
    {
     "name": "stderr",
     "output_type": "stream",
     "text": [
      "\r",
      "Processing files:  35%|█████████████████████▎                                       | 350/1000 [08:54<16:04,  1.48s/it]"
     ]
    },
    {
     "name": "stdout",
     "output_type": "stream",
     "text": [
      "Y axis string value is: 0.03,0.025,0.02,0.015,0.01,0.Oo5\n",
      "I am in 1st try\n",
      "Y axis string corrected value is: [0.03, 0.025, 0.02, 0.015, 0.01, 0.05]\n",
      "I am in try\n"
     ]
    },
    {
     "name": "stderr",
     "output_type": "stream",
     "text": [
      "\r",
      "Processing files:  35%|█████████████████████▍                                       | 351/1000 [08:56<16:10,  1.50s/it]"
     ]
    },
    {
     "name": "stdout",
     "output_type": "stream",
     "text": [
      "Y axis string value is: 1.475,1.45,1.425,1.4,1.375,1.35,1.325\n",
      "I am in 1st try\n",
      "Y axis string corrected value is: [1.475, 1.45, 1.425, 1.4, 1.375, 1.35, 1.325]\n",
      "I am in try\n"
     ]
    },
    {
     "name": "stderr",
     "output_type": "stream",
     "text": [
      "\r",
      "Processing files:  35%|█████████████████████▍                                       | 352/1000 [08:57<16:18,  1.51s/it]"
     ]
    },
    {
     "name": "stdout",
     "output_type": "stream",
     "text": [
      "Y axis string value is: 0.009,0.008,0.007,0.006,0.005,0.004\n",
      "I am in 1st try\n",
      "Y axis string corrected value is: [0.009, 0.008, 0.007, 0.006, 0.005, 0.004]\n",
      "I am in try\n"
     ]
    },
    {
     "name": "stderr",
     "output_type": "stream",
     "text": [
      "\r",
      "Processing files:  35%|█████████████████████▌                                       | 353/1000 [08:59<16:24,  1.52s/it]"
     ]
    },
    {
     "name": "stdout",
     "output_type": "stream",
     "text": [
      "Y axis string value is: 0.007,0.006,0.005,0.004,0.003,0.002\n",
      "I am in 1st try\n",
      "Y axis string corrected value is: [0.007, 0.006, 0.005, 0.004, 0.003, 0.002]\n",
      "I am in try\n"
     ]
    },
    {
     "name": "stderr",
     "output_type": "stream",
     "text": [
      "\r",
      "Processing files:  35%|█████████████████████▌                                       | 354/1000 [09:00<16:20,  1.52s/it]"
     ]
    },
    {
     "name": "stdout",
     "output_type": "stream",
     "text": [
      "Y axis string value is: 0.0001,0.000095,0.00009,0.000085},0.00008',0.000075\n",
      "I am in 1st try\n",
      "Y axis string corrected value is: [0.0001, 9.5e-05, 9e-05, 7.5e-05]\n",
      "I am in try\n"
     ]
    },
    {
     "name": "stderr",
     "output_type": "stream",
     "text": [
      "\r",
      "Processing files:  36%|█████████████████████▋                                       | 355/1000 [09:02<16:33,  1.54s/it]"
     ]
    },
    {
     "name": "stdout",
     "output_type": "stream",
     "text": [
      "Y axis string value is: 0.0007,0.0006,0.oo05,0.0004,0.0003,0.0002,0.0001\n",
      "I am in 1st try\n",
      "Y axis string corrected value is: [0.0007, 0.0006, 0.05, 0.0004, 0.0003, 0.0002, 0.0001]\n",
      "I am in try\n"
     ]
    },
    {
     "name": "stderr",
     "output_type": "stream",
     "text": [
      "\r",
      "Processing files:  36%|█████████████████████▋                                       | 356/1000 [09:03<16:04,  1.50s/it]"
     ]
    },
    {
     "name": "stdout",
     "output_type": "stream",
     "text": [
      "Y axis string value is: \n",
      "I am in 1st try\n"
     ]
    },
    {
     "name": "stderr",
     "output_type": "stream",
     "text": [
      "\r",
      "Processing files:  36%|█████████████████████▊                                       | 357/1000 [09:05<15:53,  1.48s/it]"
     ]
    },
    {
     "name": "stdout",
     "output_type": "stream",
     "text": [
      "Y axis string value is: 6.83,6.82,6.81,6.8,6.79\n",
      "I am in 1st try\n",
      "Y axis string corrected value is: [6.83, 6.82, 6.81, 6.8, 6.79]\n",
      "I am in try\n"
     ]
    },
    {
     "name": "stderr",
     "output_type": "stream",
     "text": [
      "\r",
      "Processing files:  36%|█████████████████████▊                                       | 358/1000 [09:06<15:32,  1.45s/it]"
     ]
    },
    {
     "name": "stdout",
     "output_type": "stream",
     "text": [
      "Y axis string value is: \n",
      "I am in 1st try\n"
     ]
    },
    {
     "name": "stderr",
     "output_type": "stream",
     "text": [
      "\r",
      "Processing files:  36%|█████████████████████▉                                       | 359/1000 [09:07<15:44,  1.47s/it]"
     ]
    },
    {
     "name": "stdout",
     "output_type": "stream",
     "text": [
      "Y axis string value is: O.OOOOOOOOO1\n",
      "I am in 1st try\n",
      "Y axis string corrected value is: [1e-10]\n"
     ]
    },
    {
     "name": "stderr",
     "output_type": "stream",
     "text": [
      "\r",
      "Processing files:  36%|█████████████████████▉                                       | 360/1000 [09:09<15:51,  1.49s/it]"
     ]
    },
    {
     "name": "stdout",
     "output_type": "stream",
     "text": [
      "Y axis string value is: 0.0525,0.05,0.0475,0.045,0.0425,0.04,0.0375\n",
      "I am in 1st try\n",
      "Y axis string corrected value is: [0.0525, 0.05, 0.0475, 0.045, 0.0425, 0.04, 0.0375]\n",
      "I am in try\n"
     ]
    },
    {
     "name": "stderr",
     "output_type": "stream",
     "text": [
      "\r",
      "Processing files:  36%|██████████████████████                                       | 361/1000 [09:10<15:40,  1.47s/it]"
     ]
    },
    {
     "name": "stdout",
     "output_type": "stream",
     "text": [
      "Y axis string value is: \n",
      "I am in 1st try\n"
     ]
    },
    {
     "name": "stderr",
     "output_type": "stream",
     "text": [
      "\r",
      "Processing files:  36%|██████████████████████                                       | 362/1000 [09:12<15:19,  1.44s/it]"
     ]
    },
    {
     "name": "stdout",
     "output_type": "stream",
     "text": [
      "Y axis string value is: \n",
      "I am in 1st try\n"
     ]
    },
    {
     "name": "stderr",
     "output_type": "stream",
     "text": [
      "\r",
      "Processing files:  36%|██████████████████████▏                                      | 363/1000 [09:13<15:20,  1.45s/it]"
     ]
    },
    {
     "name": "stdout",
     "output_type": "stream",
     "text": [
      "Y axis string value is: 0.007154,0.007152,0.00715,0.007148,0.007146,0.007144\n",
      "I am in 1st try\n",
      "Y axis string corrected value is: [0.007154, 0.007152, 0.00715, 0.007148, 0.007146, 0.007144]\n",
      "I am in try\n"
     ]
    },
    {
     "name": "stderr",
     "output_type": "stream",
     "text": [
      "\r",
      "Processing files:  36%|██████████████████████▏                                      | 364/1000 [09:15<15:39,  1.48s/it]"
     ]
    },
    {
     "name": "stdout",
     "output_type": "stream",
     "text": [
      "Y axis string value is: 0.001 3,0.00125,0.0012,0.001152,0.001 1!,0.00105,0.001\n",
      "I am in 1st try\n",
      "Y axis string corrected value is: [0.00125, 0.0012, 0.001152, 0.00105, 0.001]\n",
      "I am in try\n"
     ]
    },
    {
     "name": "stderr",
     "output_type": "stream",
     "text": [
      "\r",
      "Processing files:  36%|██████████████████████▎                                      | 365/1000 [09:16<16:16,  1.54s/it]"
     ]
    },
    {
     "name": "stdout",
     "output_type": "stream",
     "text": [
      "Y axis string value is: 0.0000078,0.00.0.0076,0.0000074,0.000.072,0.0000070,0.000068,0.000000666,0.00000064,0.000000062,0.00300,50,0.000004058,0.000.08056,0.0000054,0.000000052,0.0000050,O.O0*48,0.0000046,OOOOOOAA,0.00000042,0.OOOCC&0,0.0000038,0.00000036,0.0000034,Cop\n",
      "I am in 1st try\n",
      "Y axis string corrected value is: [7.8e-06, 7.4e-06, 7e-06, 6.8e-05, 6.66e-07, 6.4e-07, 6.2e-08, 0.003, 50.0, 4.058e-06, 5.4e-06, 5.2e-08, 5e-06, 0.0048, 4.6e-06, 4.2e-07, 0.0, 3.8e-06, 3.6e-07, 3.4e-06]\n",
      "I am in try\n"
     ]
    },
    {
     "name": "stderr",
     "output_type": "stream",
     "text": [
      "\r",
      "Processing files:  37%|██████████████████████▎                                      | 366/1000 [09:18<16:14,  1.54s/it]"
     ]
    },
    {
     "name": "stdout",
     "output_type": "stream",
     "text": [
      "Y axis string value is: 0.000001 3,0.0000012,0.000001 1,0.ooo001,9e-7,8e-7,7e-7,6e-7\n",
      "I am in 1st try\n",
      "Y axis string corrected value is: [1.2e-06, 0.001, 9e-07, 8e-07, 7e-07, 6e-07]\n",
      "I am in try\n"
     ]
    },
    {
     "name": "stderr",
     "output_type": "stream",
     "text": [
      "\r",
      "Processing files:  37%|██████████████████████▍                                      | 367/1000 [09:20<16:06,  1.53s/it]"
     ]
    },
    {
     "name": "stdout",
     "output_type": "stream",
     "text": [
      "Y axis string value is: 0.0780449\n",
      "I am in 1st try\n",
      "Y axis string corrected value is: [0.0780449]\n"
     ]
    },
    {
     "name": "stderr",
     "output_type": "stream",
     "text": [
      "\r",
      "Processing files:  37%|██████████████████████▍                                      | 368/1000 [09:21<16:22,  1.55s/it]"
     ]
    },
    {
     "name": "stdout",
     "output_type": "stream",
     "text": [
      "Y axis string value is: 6e-8 :,Se-8,4e-8,3e-8 ,,2e-8',1e-8\n",
      "I am in 1st try\n"
     ]
    },
    {
     "name": "stderr",
     "output_type": "stream",
     "text": [
      "\r",
      "Processing files:  37%|██████████████████████▌                                      | 369/1000 [09:23<16:17,  1.55s/it]"
     ]
    },
    {
     "name": "stdout",
     "output_type": "stream",
     "text": [
      "Y axis string value is: 0.025,0.024,0.023,0.022,0.021,0.02,0.019,0.018\n",
      "I am in 1st try\n",
      "Y axis string corrected value is: [0.025, 0.024, 0.023, 0.022, 0.021, 0.02, 0.019, 0.018]\n",
      "I am in try\n"
     ]
    },
    {
     "name": "stderr",
     "output_type": "stream",
     "text": [
      "\r",
      "Processing files:  37%|██████████████████████▌                                      | 370/1000 [09:24<15:40,  1.49s/it]"
     ]
    },
    {
     "name": "stdout",
     "output_type": "stream",
     "text": [
      "Y axis string value is: \n",
      "I am in 1st try\n"
     ]
    },
    {
     "name": "stderr",
     "output_type": "stream",
     "text": [
      "\r",
      "Processing files:  37%|██████████████████████▋                                      | 371/1000 [09:25<15:23,  1.47s/it]"
     ]
    },
    {
     "name": "stdout",
     "output_type": "stream",
     "text": [
      "Y axis string value is: \n",
      "I am in 1st try\n"
     ]
    },
    {
     "name": "stderr",
     "output_type": "stream",
     "text": [
      "\r",
      "Processing files:  37%|██████████████████████▋                                      | 372/1000 [09:27<15:38,  1.49s/it]"
     ]
    },
    {
     "name": "stdout",
     "output_type": "stream",
     "text": [
      "Y axis string value is: 0.012,0.01,0.006,0.004,0.002,0.008M\n",
      "I am in 1st try\n",
      "Y axis string corrected value is: [0.012, 0.01, 0.006, 0.004, 0.002, 0.008]\n",
      "I am in try\n"
     ]
    },
    {
     "name": "stderr",
     "output_type": "stream",
     "text": [
      "\r",
      "Processing files:  37%|██████████████████████▊                                      | 373/1000 [09:28<15:34,  1.49s/it]"
     ]
    },
    {
     "name": "stdout",
     "output_type": "stream",
     "text": [
      "Y axis string value is: 0.0008,0.00075,0.0007,0.00065,0.0006\n",
      "I am in 1st try\n",
      "Y axis string corrected value is: [0.0008, 0.00075, 0.0007, 0.00065, 0.0006]\n",
      "I am in try\n"
     ]
    },
    {
     "name": "stderr",
     "output_type": "stream",
     "text": [
      "\r",
      "Processing files:  37%|██████████████████████▊                                      | 374/1000 [09:30<15:33,  1.49s/it]"
     ]
    },
    {
     "name": "stdout",
     "output_type": "stream",
     "text": [
      "Y axis string value is: 4e-9,3.Se-9,3e-9,2.Se-9,Ze-9,1.Se-9,Ie-9\n",
      "I am in 1st try\n",
      "Y axis string corrected value is: [4e-09, 3.5e-09, 3e-09, 2.5e-09, 2e-09, 1.5e-09, 1e-09]\n",
      "I am in try\n"
     ]
    },
    {
     "name": "stderr",
     "output_type": "stream",
     "text": [
      "\r",
      "Processing files:  38%|██████████████████████▉                                      | 375/1000 [09:31<15:32,  1.49s/it]"
     ]
    },
    {
     "name": "stdout",
     "output_type": "stream",
     "text": [
      "Y axis string value is: 0.01451,0.0145,0.01449,0.01448,0.01447,0.01446,0.01445,0.01444\n",
      "I am in 1st try\n",
      "Y axis string corrected value is: [0.01451, 0.0145, 0.01449, 0.01448, 0.01447, 0.01446, 0.01445, 0.01444]\n",
      "I am in try\n"
     ]
    },
    {
     "name": "stderr",
     "output_type": "stream",
     "text": [
      "\r",
      "Processing files:  38%|██████████████████████▉                                      | 376/1000 [09:33<15:30,  1.49s/it]"
     ]
    },
    {
     "name": "stdout",
     "output_type": "stream",
     "text": [
      "Y axis string value is: 0.000,0.000,O.000,0.000,O.000,0.000,0.000\n",
      "I am in 1st try\n",
      "Y axis string corrected value is: [0.0, 0.0, 0.0, 0.0, 0.0, 0.0, 0.0]\n",
      "I am in try\n"
     ]
    },
    {
     "name": "stderr",
     "output_type": "stream",
     "text": [
      "\r",
      "Processing files:  38%|██████████████████████▉                                      | 377/1000 [09:34<15:26,  1.49s/it]"
     ]
    },
    {
     "name": "stdout",
     "output_type": "stream",
     "text": [
      "Y axis string value is: 0.00015,0.000125,0.0001,0.000075,0.0005,0.000025\n",
      "I am in 1st try\n",
      "Y axis string corrected value is: [0.00015, 0.000125, 0.0001, 7.5e-05, 0.0005, 2.5e-05]\n",
      "I am in try\n"
     ]
    },
    {
     "name": "stderr",
     "output_type": "stream",
     "text": [
      "\r",
      "Processing files:  38%|███████████████████████                                      | 378/1000 [09:36<15:57,  1.54s/it]"
     ]
    },
    {
     "name": "stdout",
     "output_type": "stream",
     "text": [
      "Y axis string value is: 3i'\n",
      "I am in 1st try\n",
      "Y axis string corrected value is: [3.0]\n"
     ]
    },
    {
     "name": "stderr",
     "output_type": "stream",
     "text": [
      "Processing files:  38%|███████████████████████▏                                     | 380/1000 [09:39<15:47,  1.53s/it]"
     ]
    },
    {
     "name": "stdout",
     "output_type": "stream",
     "text": [
      "Y axis string value is: 0.0012,0.001,0.0008,0.0006,0.0004,0.0002\n",
      "I am in 1st try\n",
      "Y axis string corrected value is: [0.0012, 0.001, 0.0008, 0.0006, 0.0004, 0.0002]\n",
      "I am in try\n"
     ]
    },
    {
     "name": "stderr",
     "output_type": "stream",
     "text": [
      "\r",
      "Processing files:  38%|███████████████████████▏                                     | 381/1000 [09:41<15:49,  1.53s/it]"
     ]
    },
    {
     "name": "stdout",
     "output_type": "stream",
     "text": [
      "Y axis string value is: 0.00065,0.00061,0.0oo55,0.00051,0.00045,0.0004,0.00035,0.0003\n",
      "I am in 1st try\n",
      "Y axis string corrected value is: [0.00065, 0.00061, 0.055, 0.00051, 0.00045, 0.0004, 0.00035, 0.0003]\n",
      "I am in try\n"
     ]
    },
    {
     "name": "stderr",
     "output_type": "stream",
     "text": [
      "\r",
      "Processing files:  38%|███████████████████████▎                                     | 382/1000 [09:42<15:25,  1.50s/it]"
     ]
    },
    {
     "name": "stdout",
     "output_type": "stream",
     "text": [
      "Y axis string value is: \n",
      "I am in 1st try\n"
     ]
    },
    {
     "name": "stderr",
     "output_type": "stream",
     "text": [
      "\r",
      "Processing files:  38%|███████████████████████▎                                     | 383/1000 [09:44<15:32,  1.51s/it]"
     ]
    },
    {
     "name": "stdout",
     "output_type": "stream",
     "text": [
      "Y axis string value is: 0.080,0.075,0.070,0.065,0.060,0.055,0.050,0.045,0.040,0.035,0.030,0.025,0.020,5,0.014,Cap,00100\n",
      "I am in 1st try\n",
      "Y axis string corrected value is: [0.08, 0.075, 0.07, 0.065, 0.06, 0.055, 0.05, 0.045, 0.04, 0.035, 0.03, 0.025, 0.02, 5.0, 0.014, 0.01]\n",
      "I am in try\n"
     ]
    },
    {
     "name": "stderr",
     "output_type": "stream",
     "text": [
      "\r",
      "Processing files:  38%|███████████████████████▍                                     | 384/1000 [09:45<15:25,  1.50s/it]"
     ]
    },
    {
     "name": "stdout",
     "output_type": "stream",
     "text": [
      "Y axis string value is: 0.03,0.025,0.02,0.01,0.01,0.005\n",
      "I am in 1st try\n",
      "Y axis string corrected value is: [0.03, 0.025, 0.02, 0.01, 0.01, 0.005]\n",
      "I am in try\n"
     ]
    },
    {
     "name": "stderr",
     "output_type": "stream",
     "text": [
      "\r",
      "Processing files:  38%|███████████████████████▍                                     | 385/1000 [09:47<15:15,  1.49s/it]"
     ]
    },
    {
     "name": "stdout",
     "output_type": "stream",
     "text": [
      "Y axis string value is: \n",
      "I am in 1st try\n"
     ]
    },
    {
     "name": "stderr",
     "output_type": "stream",
     "text": [
      "Processing files:  39%|███████████████████████▌                                     | 387/1000 [09:49<14:49,  1.45s/it]"
     ]
    },
    {
     "name": "stdout",
     "output_type": "stream",
     "text": [
      "Y axis string value is: 0.1875,0.185,0.1825,0.18,0.1775,0.175,0.1725\n",
      "I am in 1st try\n",
      "Y axis string corrected value is: [0.1875, 0.185, 0.1825, 0.18, 0.1775, 0.175, 0.1725]\n",
      "I am in try\n"
     ]
    },
    {
     "name": "stderr",
     "output_type": "stream",
     "text": [
      "\r",
      "Processing files:  39%|███████████████████████▋                                     | 388/1000 [09:51<14:57,  1.47s/it]"
     ]
    },
    {
     "name": "stdout",
     "output_type": "stream",
     "text": [
      "Y axis string value is: 0.79,0785,078,0.775,077,0.765,076\n",
      "I am in 1st try\n",
      "Y axis string corrected value is: [0.79, 0.785, 0.78, 0.775, 0.77, 0.765, 0.76]\n",
      "I am in try\n"
     ]
    },
    {
     "name": "stderr",
     "output_type": "stream",
     "text": [
      "\r",
      "Processing files:  39%|███████████████████████▋                                     | 389/1000 [09:53<15:22,  1.51s/it]"
     ]
    },
    {
     "name": "stdout",
     "output_type": "stream",
     "text": [
      "Y axis string value is: 0.0000097,0.000009,0.0000092,O.ooo00,0.0000087,0.000008,0.0000082\n",
      "I am in 1st try\n",
      "Y axis string corrected value is: [9.7e-06, 9e-06, 9.2e-06, 0.0, 8.7e-06, 8e-06, 8.2e-06]\n",
      "I am in try\n"
     ]
    },
    {
     "name": "stderr",
     "output_type": "stream",
     "text": [
      "\r",
      "Processing files:  39%|███████████████████████▊                                     | 390/1000 [09:54<15:24,  1.52s/it]"
     ]
    },
    {
     "name": "stdout",
     "output_type": "stream",
     "text": [
      "Y axis string value is: 1,.2 _,0.8,03,0.4;,0.2\n",
      "I am in 1st try\n",
      "Y axis string corrected value is: [1.0, 0.8, 0.3, 0.2]\n"
     ]
    },
    {
     "name": "stderr",
     "output_type": "stream",
     "text": [
      "\r",
      "Processing files:  39%|███████████████████████▊                                     | 391/1000 [09:56<15:34,  1.53s/it]"
     ]
    },
    {
     "name": "stdout",
     "output_type": "stream",
     "text": [
      "Y axis string value is: 1.8e-9,1.7e-9,1.6e-9,1.Se-9,1.4e-9\n",
      "I am in 1st try\n",
      "Y axis string corrected value is: [1.8e-09, 1.7e-09, 1.6e-09, 1.5e-09, 1.4e-09]\n",
      "I am in try\n"
     ]
    },
    {
     "name": "stderr",
     "output_type": "stream",
     "text": [
      "\r",
      "Processing files:  39%|███████████████████████▉                                     | 392/1000 [09:57<15:33,  1.54s/it]"
     ]
    },
    {
     "name": "stdout",
     "output_type": "stream",
     "text": [
      "Y axis string value is: 0.9,0.8,03,0.6:,0.5\n",
      "I am in 1st try\n",
      "Y axis string corrected value is: [0.9, 0.8, 0.3, 0.5]\n",
      "I am in try\n"
     ]
    },
    {
     "name": "stderr",
     "output_type": "stream",
     "text": [
      "\r",
      "Processing files:  39%|███████████████████████▉                                     | 393/1000 [09:59<15:16,  1.51s/it]"
     ]
    },
    {
     "name": "stdout",
     "output_type": "stream",
     "text": [
      "Y axis string value is: \n",
      "I am in 1st try\n"
     ]
    },
    {
     "name": "stderr",
     "output_type": "stream",
     "text": [
      "\r",
      "Processing files:  39%|████████████████████████                                     | 394/1000 [10:00<14:59,  1.48s/it]"
     ]
    },
    {
     "name": "stdout",
     "output_type": "stream",
     "text": [
      "Y axis string value is: 0.0002560\n",
      "I am in 1st try\n",
      "Y axis string corrected value is: [0.000256]\n"
     ]
    },
    {
     "name": "stderr",
     "output_type": "stream",
     "text": [
      "\r",
      "Processing files:  40%|████████████████████████                                     | 395/1000 [10:02<15:24,  1.53s/it]"
     ]
    },
    {
     "name": "stdout",
     "output_type": "stream",
     "text": [
      "Y axis string value is: 69,68,67,66_,65,64,63\n",
      "I am in 1st try\n",
      "Y axis string corrected value is: [69.0, 68.0, 67.0, 65.0, 64.0, 63.0]\n",
      "I am in try\n"
     ]
    },
    {
     "name": "stderr",
     "output_type": "stream",
     "text": [
      "\r",
      "Processing files:  40%|████████████████████████▏                                    | 396/1000 [10:03<15:30,  1.54s/it]"
     ]
    },
    {
     "name": "stdout",
     "output_type": "stream",
     "text": [
      "Y axis string value is: 0.012,0.01,0.008,0.006,0.0041,0.002\n",
      "I am in 1st try\n",
      "Y axis string corrected value is: [0.012, 0.01, 0.008, 0.006, 0.0041, 0.002]\n",
      "I am in try\n"
     ]
    },
    {
     "name": "stderr",
     "output_type": "stream",
     "text": [
      "\r",
      "Processing files:  40%|████████████████████████▏                                    | 397/1000 [10:05<15:35,  1.55s/it]"
     ]
    },
    {
     "name": "stdout",
     "output_type": "stream",
     "text": [
      "Y axis string value is: 6e-13.,Se-13,4e-131,3e-13,2e-13,1e-13\n",
      "I am in 1st try\n",
      "Y axis string corrected value is: [5e-13, 4e-131, 3e-13, 2e-13, 1e-13]\n",
      "I am in try\n"
     ]
    },
    {
     "name": "stderr",
     "output_type": "stream",
     "text": [
      "\r",
      "Processing files:  40%|████████████████████████▎                                    | 398/1000 [10:06<15:30,  1.55s/it]"
     ]
    },
    {
     "name": "stdout",
     "output_type": "stream",
     "text": [
      "Y axis string value is: 2.25,2,1.75,1.5,1.25,0.75,0.5\n",
      "I am in 1st try\n",
      "Y axis string corrected value is: [2.25, 2.0, 1.75, 1.5, 1.25, 0.75, 0.5]\n",
      "I am in try\n"
     ]
    },
    {
     "name": "stderr",
     "output_type": "stream",
     "text": [
      "\r",
      "Processing files:  40%|████████████████████████▎                                    | 399/1000 [10:08<15:28,  1.54s/it]"
     ]
    },
    {
     "name": "stdout",
     "output_type": "stream",
     "text": [
      "Y axis string value is: 0.001,0.00008,0.0006,0.0004,0.008002\n",
      "I am in 1st try\n",
      "Y axis string corrected value is: [0.001, 8e-05, 0.0006, 0.0004, 0.008002]\n",
      "I am in try\n"
     ]
    },
    {
     "name": "stderr",
     "output_type": "stream",
     "text": [
      "\r",
      "Processing files:  40%|████████████████████████▍                                    | 400/1000 [10:09<14:56,  1.49s/it]"
     ]
    },
    {
     "name": "stdout",
     "output_type": "stream",
     "text": [
      "Y axis string value is: \n",
      "I am in 1st try\n"
     ]
    },
    {
     "name": "stderr",
     "output_type": "stream",
     "text": [
      "\r",
      "Processing files:  40%|████████████████████████▍                                    | 401/1000 [10:11<14:37,  1.46s/it]"
     ]
    },
    {
     "name": "stdout",
     "output_type": "stream",
     "text": [
      "Y axis string value is: \n",
      "I am in 1st try\n"
     ]
    },
    {
     "name": "stderr",
     "output_type": "stream",
     "text": [
      "\r",
      "Processing files:  40%|████████████████████████▌                                    | 402/1000 [10:12<14:44,  1.48s/it]"
     ]
    },
    {
     "name": "stdout",
     "output_type": "stream",
     "text": [
      "Y axis string value is: 0.08,0.07,0.06,0.05,0.04,0.03,0.02,0.01\n",
      "I am in 1st try\n",
      "Y axis string corrected value is: [0.08, 0.07, 0.06, 0.05, 0.04, 0.03, 0.02, 0.01]\n",
      "I am in try\n"
     ]
    },
    {
     "name": "stderr",
     "output_type": "stream",
     "text": [
      "\r",
      "Processing files:  40%|████████████████████████▌                                    | 403/1000 [10:14<15:00,  1.51s/it]"
     ]
    },
    {
     "name": "stdout",
     "output_type": "stream",
     "text": [
      "Y axis string value is: 0.2,0.175,0.15,0.125,0.1,0.075,0.05\n",
      "I am in 1st try\n",
      "Y axis string corrected value is: [0.2, 0.175, 0.15, 0.125, 0.1, 0.075, 0.05]\n",
      "I am in try\n"
     ]
    },
    {
     "name": "stderr",
     "output_type": "stream",
     "text": [
      "\r",
      "Processing files:  40%|████████████████████████▋                                    | 404/1000 [10:15<15:14,  1.53s/it]"
     ]
    },
    {
     "name": "stdout",
     "output_type": "stream",
     "text": [
      "Y axis string value is: 0.16,0.14,0.12,0.10,0.080,0.060,0.046,U.u4U\n",
      "I am in 1st try\n",
      "Y axis string corrected value is: [0.16, 0.14, 0.12, 0.1, 0.08, 0.06, 0.046, 0.4]\n",
      "I am in try\n"
     ]
    },
    {
     "name": "stderr",
     "output_type": "stream",
     "text": [
      "\r",
      "Processing files:  40%|████████████████████████▋                                    | 405/1000 [10:17<15:06,  1.52s/it]"
     ]
    },
    {
     "name": "stdout",
     "output_type": "stream",
     "text": [
      "Y axis string value is: QQLIQ',Juicjui36\n",
      "I am in 1st try\n",
      "Y axis string corrected value is: [36.0]\n"
     ]
    },
    {
     "name": "stderr",
     "output_type": "stream",
     "text": [
      "\r",
      "Processing files:  41%|████████████████████████▊                                    | 406/1000 [10:18<14:57,  1.51s/it]"
     ]
    },
    {
     "name": "stdout",
     "output_type": "stream",
     "text": [
      "Y axis string value is: Se-13_,4e-131,3e-13,2e-131,Ie-13\n",
      "I am in 1st try\n",
      "Y axis string corrected value is: [5e-13, 4e-131, 3e-13, 2e-131, 1e-13]\n",
      "I am in try\n"
     ]
    },
    {
     "name": "stderr",
     "output_type": "stream",
     "text": [
      "\r",
      "Processing files:  41%|████████████████████████▊                                    | 407/1000 [10:20<14:51,  1.50s/it]"
     ]
    },
    {
     "name": "stdout",
     "output_type": "stream",
     "text": [
      "Y axis string value is: 9,8,6:,5\n",
      "I am in 1st try\n",
      "Y axis string corrected value is: [9.0, 8.0, 5.0]\n",
      "I am in try\n"
     ]
    },
    {
     "name": "stderr",
     "output_type": "stream",
     "text": [
      "\r",
      "Processing files:  41%|████████████████████████▉                                    | 408/1000 [10:21<14:55,  1.51s/it]"
     ]
    },
    {
     "name": "stdout",
     "output_type": "stream",
     "text": [
      "Y axis string value is: 0.55,0.5,0.45,0.4,0.35,0.3,0.25\n",
      "I am in 1st try\n",
      "Y axis string corrected value is: [0.55, 0.5, 0.45, 0.4, 0.35, 0.3, 0.25]\n",
      "I am in try\n"
     ]
    },
    {
     "name": "stderr",
     "output_type": "stream",
     "text": [
      "\r",
      "Processing files:  41%|████████████████████████▉                                    | 409/1000 [10:23<14:54,  1.51s/it]"
     ]
    },
    {
     "name": "stdout",
     "output_type": "stream",
     "text": [
      "Y axis string value is: 0.005,0.0041,0.003,0.002,0.001\n",
      "I am in 1st try\n",
      "Y axis string corrected value is: [0.005, 0.0041, 0.003, 0.002, 0.001]\n",
      "I am in try\n"
     ]
    },
    {
     "name": "stderr",
     "output_type": "stream",
     "text": [
      "\r",
      "Processing files:  41%|█████████████████████████                                    | 410/1000 [10:24<15:03,  1.53s/it]"
     ]
    },
    {
     "name": "stdout",
     "output_type": "stream",
     "text": [
      "Y axis string value is: 0.096,0.095,0.094,0.093,0.092,0.091,0.090,0.089,0.088,0.087,0.086,0.085,0.084,0.083,0.082,0.081,0.080,0.079,0.078,0.077,0.076,0.075,Cap\n",
      "I am in 1st try\n",
      "Y axis string corrected value is: [0.096, 0.095, 0.094, 0.093, 0.092, 0.091, 0.09, 0.089, 0.088, 0.087, 0.086, 0.085, 0.084, 0.083, 0.082, 0.081, 0.08, 0.079, 0.078, 0.077, 0.076, 0.075]\n",
      "I am in try\n"
     ]
    },
    {
     "name": "stderr",
     "output_type": "stream",
     "text": [
      "\r",
      "Processing files:  41%|█████████████████████████                                    | 411/1000 [10:26<14:54,  1.52s/it]"
     ]
    },
    {
     "name": "stdout",
     "output_type": "stream",
     "text": [
      "Y axis string value is: 0.012,0.011,0.01,0.009,0.008,0.007\n",
      "I am in 1st try\n",
      "Y axis string corrected value is: [0.012, 0.011, 0.01, 0.009, 0.008, 0.007]\n",
      "I am in try\n"
     ]
    },
    {
     "name": "stderr",
     "output_type": "stream",
     "text": [
      "\r",
      "Processing files:  41%|█████████████████████████▏                                   | 412/1000 [10:27<15:04,  1.54s/it]"
     ]
    },
    {
     "name": "stdout",
     "output_type": "stream",
     "text": [
      "Y axis string value is: 0.00065,0.0006,0.0oo5s,0.0005,0.00045,0.0004\n",
      "I am in 1st try\n",
      "Y axis string corrected value is: [0.00065, 0.0006, 0.05, 0.0005, 0.00045, 0.0004]\n",
      "I am in try\n"
     ]
    },
    {
     "name": "stderr",
     "output_type": "stream",
     "text": [
      "\r",
      "Processing files:  41%|█████████████████████████▏                                   | 413/1000 [10:29<15:13,  1.56s/it]"
     ]
    },
    {
     "name": "stdout",
     "output_type": "stream",
     "text": [
      "Y axis string value is: 2.3e-7,2.2e-7,2.1e-7,2e-7,1.9e-7,1.8e-7,1.7e-7\n",
      "I am in 1st try\n",
      "Y axis string corrected value is: [2.3e-07, 2.2e-07, 2.1e-07, 2e-07, 1.9e-07, 1.8e-07, 1.7e-07]\n",
      "I am in try\n"
     ]
    },
    {
     "name": "stderr",
     "output_type": "stream",
     "text": [
      "\r",
      "Processing files:  41%|█████████████████████████▎                                   | 414/1000 [10:31<16:09,  1.65s/it]"
     ]
    },
    {
     "name": "stdout",
     "output_type": "stream",
     "text": [
      "Y axis string value is: 0.00028,0.00027,0.00026,0.00025,0.00024,0.00023,0.00022,0.00021,0.00020,0.00019,0.00018,0.00017,0.00016,0.00015,0.00014,0.00013,0.00012,0.00011,0000100,Q.U8U93,0.O0080,Copl\n",
      "I am in 1st try\n",
      "Y axis string corrected value is: [0.00028, 0.00027, 0.00026, 0.00025, 0.00024, 0.00023, 0.00022, 0.00021, 0.0002, 0.00019, 0.00018, 0.00017, 0.00016, 0.00015, 0.00014, 0.00013, 0.00012, 0.00011, 0.0001, 0.893, 0.0008]\n",
      "I am in try\n"
     ]
    },
    {
     "name": "stderr",
     "output_type": "stream",
     "text": [
      "\r",
      "Processing files:  42%|█████████████████████████▎                                   | 415/1000 [10:32<15:21,  1.58s/it]"
     ]
    },
    {
     "name": "stdout",
     "output_type": "stream",
     "text": [
      "Y axis string value is: \n",
      "I am in 1st try\n"
     ]
    },
    {
     "name": "stderr",
     "output_type": "stream",
     "text": [
      "\r",
      "Processing files:  42%|█████████████████████████▍                                   | 416/1000 [10:34<14:46,  1.52s/it]"
     ]
    },
    {
     "name": "stdout",
     "output_type": "stream",
     "text": [
      "Y axis string value is: \n",
      "I am in 1st try\n"
     ]
    },
    {
     "name": "stderr",
     "output_type": "stream",
     "text": [
      "\r",
      "Processing files:  42%|█████████████████████████▍                                   | 417/1000 [10:35<14:46,  1.52s/it]"
     ]
    },
    {
     "name": "stdout",
     "output_type": "stream",
     "text": [
      "Y axis string value is: 0.0001 75,0.00015,0.000125,0.0001,0.000075,0.Oooos\n",
      "I am in 1st try\n",
      "Y axis string corrected value is: [0.00015, 0.000125, 0.0001, 7.5e-05, 0.0]\n",
      "I am in try\n"
     ]
    },
    {
     "name": "stderr",
     "output_type": "stream",
     "text": [
      "\r",
      "Processing files:  42%|█████████████████████████▍                                   | 418/1000 [10:37<14:20,  1.48s/it]"
     ]
    },
    {
     "name": "stdout",
     "output_type": "stream",
     "text": [
      "Y axis string value is: \n",
      "I am in 1st try\n"
     ]
    },
    {
     "name": "stderr",
     "output_type": "stream",
     "text": [
      "\r",
      "Processing files:  42%|█████████████████████████▌                                   | 419/1000 [10:38<14:20,  1.48s/it]"
     ]
    },
    {
     "name": "stdout",
     "output_type": "stream",
     "text": [
      "Y axis string value is: 0.18,0.17,0.16,0.15,0.14,0.13,0.12,0.11,0.100,0.091,0.080,0.070,0.060,0.050,0.040,0.030,Cap,0.020\n",
      "I am in 1st try\n",
      "Y axis string corrected value is: [0.18, 0.17, 0.16, 0.15, 0.14, 0.13, 0.12, 0.11, 0.1, 0.091, 0.08, 0.07, 0.06, 0.05, 0.04, 0.03, 0.02]\n",
      "I am in try\n"
     ]
    },
    {
     "name": "stderr",
     "output_type": "stream",
     "text": [
      "\r",
      "Processing files:  42%|█████████████████████████▌                                   | 420/1000 [10:40<14:32,  1.50s/it]"
     ]
    },
    {
     "name": "stdout",
     "output_type": "stream",
     "text": [
      "Y axis string value is: 0.009,0.008,0.007,0.006\n",
      "I am in 1st try\n",
      "Y axis string corrected value is: [0.009, 0.008, 0.007, 0.006]\n",
      "I am in try\n"
     ]
    },
    {
     "name": "stderr",
     "output_type": "stream",
     "text": [
      "\r",
      "Processing files:  42%|█████████████████████████▋                                   | 421/1000 [10:41<14:44,  1.53s/it]"
     ]
    },
    {
     "name": "stdout",
     "output_type": "stream",
     "text": [
      "Y axis string value is: 0.60,0.55,0.50,0.45,0.40,0.38,0.35,0.30,0.25,0.20\n",
      "I am in 1st try\n",
      "Y axis string corrected value is: [0.6, 0.55, 0.5, 0.45, 0.4, 0.38, 0.35, 0.3, 0.25, 0.2]\n",
      "I am in try\n"
     ]
    },
    {
     "name": "stderr",
     "output_type": "stream",
     "text": [
      "\r",
      "Processing files:  42%|█████████████████████████▋                                   | 422/1000 [10:43<14:51,  1.54s/it]"
     ]
    },
    {
     "name": "stdout",
     "output_type": "stream",
     "text": [
      "Y axis string value is: 0.008,0.007,0.006,0.005,0.004,0.003^,0.002,0.001\n",
      "I am in 1st try\n",
      "Y axis string corrected value is: [0.008, 0.007, 0.006, 0.005, 0.004, 0.002, 0.001]\n",
      "I am in try\n"
     ]
    },
    {
     "name": "stderr",
     "output_type": "stream",
     "text": [
      "\r",
      "Processing files:  42%|█████████████████████████▊                                   | 423/1000 [10:44<14:49,  1.54s/it]"
     ]
    },
    {
     "name": "stdout",
     "output_type": "stream",
     "text": [
      "Y axis string value is: 0.75,070,0.65,0.60,0.55,0.50,0.45,0.40,0.35,0.30,025,0.20,0.15,Q1000,0.050,0081,Cap\n",
      "I am in 1st try\n",
      "Y axis string corrected value is: [0.75, 0.7, 0.65, 0.6, 0.55, 0.5, 0.45, 0.4, 0.35, 0.3, 0.25, 0.2, 0.15, 0.1, 0.05, 0.081]\n",
      "I am in try\n"
     ]
    },
    {
     "name": "stderr",
     "output_type": "stream",
     "text": [
      "\r",
      "Processing files:  42%|█████████████████████████▊                                   | 424/1000 [10:46<14:40,  1.53s/it]"
     ]
    },
    {
     "name": "stdout",
     "output_type": "stream",
     "text": [
      "Y axis string value is: 0.4,0.3,0.2,0.1\n",
      "I am in 1st try\n",
      "Y axis string corrected value is: [0.4, 0.3, 0.2, 0.1]\n",
      "I am in try\n"
     ]
    },
    {
     "name": "stderr",
     "output_type": "stream",
     "text": [
      "\r",
      "Processing files:  42%|█████████████████████████▉                                   | 425/1000 [10:47<14:24,  1.50s/it]"
     ]
    },
    {
     "name": "stdout",
     "output_type": "stream",
     "text": [
      "Y axis string value is: \n",
      "I am in 1st try\n"
     ]
    },
    {
     "name": "stderr",
     "output_type": "stream",
     "text": [
      "\r",
      "Processing files:  43%|█████████████████████████▉                                   | 426/1000 [10:49<14:10,  1.48s/it]"
     ]
    },
    {
     "name": "stdout",
     "output_type": "stream",
     "text": [
      "Y axis string value is: 3.6:,3.5,3.4.,3.3,3.2/\n",
      "I am in 1st try\n",
      "Y axis string corrected value is: [3.5, 3.3]\n",
      "I am in try\n"
     ]
    },
    {
     "name": "stderr",
     "output_type": "stream",
     "text": [
      "\r",
      "Processing files:  43%|██████████████████████████                                   | 427/1000 [10:50<13:51,  1.45s/it]"
     ]
    },
    {
     "name": "stdout",
     "output_type": "stream",
     "text": [
      "Y axis string value is: 1.Se-9,1.25e-9,Ie-9,7.Se-10,Se-10\n",
      "I am in 1st try\n",
      "Y axis string corrected value is: [1.5e-09, 1.25e-09, 1e-09, 7.5e-10, 5e-10]\n",
      "I am in try\n"
     ]
    },
    {
     "name": "stderr",
     "output_type": "stream",
     "text": [
      "\r",
      "Processing files:  43%|██████████████████████████                                   | 428/1000 [10:52<13:59,  1.47s/it]"
     ]
    },
    {
     "name": "stdout",
     "output_type": "stream",
     "text": [
      "Y axis string value is: 0.0000175,0.00001 7,0.0000165,0.000016,0.0000155,0.00001 5,0.0000145\n",
      "I am in 1st try\n",
      "Y axis string corrected value is: [1.75e-05, 1.65e-05, 1.6e-05, 1.55e-05, 1.45e-05]\n",
      "I am in try\n"
     ]
    },
    {
     "name": "stderr",
     "output_type": "stream",
     "text": [
      "\r",
      "Processing files:  43%|██████████████████████████▏                                  | 429/1000 [10:53<14:28,  1.52s/it]"
     ]
    },
    {
     "name": "stdout",
     "output_type": "stream",
     "text": [
      "Y axis string value is: 0.00.000168,0.0000167,0.0000166,0.0000165,0.0000164,0.0000163,0.0000162,0.0000161,0.0000160,0.0000159,0000158,0.0000157,00000156,0.0000155,0.0080.0154,0.0000153,0.00000152,0.00800151,0 Cooo15c,0.00000149,Cap,0.000148\n",
      "I am in 1st try\n",
      "Y axis string corrected value is: [1.67e-05, 1.66e-05, 1.65e-05, 1.64e-05, 1.63e-05, 1.62e-05, 1.61e-05, 1.6e-05, 1.59e-05, 0.000158, 1.57e-05, 1.56e-05, 1.55e-05, 1.53e-05, 1.52e-06, 0.00800151, 0.15, 1.49e-06, 0.000148]\n",
      "I am in try\n"
     ]
    },
    {
     "name": "stderr",
     "output_type": "stream",
     "text": [
      "\r",
      "Processing files:  43%|██████████████████████████▏                                  | 430/1000 [10:55<14:32,  1.53s/it]"
     ]
    },
    {
     "name": "stdout",
     "output_type": "stream",
     "text": [
      "Y axis string value is: 5,3,2\n",
      "I am in 1st try\n",
      "Y axis string corrected value is: [5.0, 3.0, 2.0]\n",
      "I am in try\n"
     ]
    },
    {
     "name": "stderr",
     "output_type": "stream",
     "text": [
      "\r",
      "Processing files:  43%|██████████████████████████▎                                  | 431/1000 [10:56<14:20,  1.51s/it]"
     ]
    },
    {
     "name": "stdout",
     "output_type": "stream",
     "text": [
      "Y axis string value is: 0.177,0.1769,0.1768,0.1767,0.1766,0.1765\n",
      "I am in 1st try\n",
      "Y axis string corrected value is: [0.177, 0.1769, 0.1768, 0.1767, 0.1766, 0.1765]\n",
      "I am in try\n"
     ]
    },
    {
     "name": "stderr",
     "output_type": "stream",
     "text": [
      "\r",
      "Processing files:  43%|██████████████████████████▎                                  | 432/1000 [10:58<14:02,  1.48s/it]"
     ]
    },
    {
     "name": "stdout",
     "output_type": "stream",
     "text": [
      "Y axis string value is: \n",
      "I am in 1st try\n"
     ]
    },
    {
     "name": "stderr",
     "output_type": "stream",
     "text": [
      "\r",
      "Processing files:  43%|██████████████████████████▍                                  | 433/1000 [10:59<14:03,  1.49s/it]"
     ]
    },
    {
     "name": "stdout",
     "output_type": "stream",
     "text": [
      "Y axis string value is: I.le-7,Ie-7,9e-8,8e-8,7e-8,6e-8,Se-8,4e-8\n",
      "I am in 1st try\n",
      "Y axis string corrected value is: [1e-07, 1e-07, 9e-08, 8e-08, 7e-08, 6e-08, 5e-08, 4e-08]\n",
      "I am in try\n"
     ]
    },
    {
     "name": "stderr",
     "output_type": "stream",
     "text": [
      "\r",
      "Processing files:  43%|██████████████████████████▍                                  | 434/1000 [11:01<13:59,  1.48s/it]"
     ]
    },
    {
     "name": "stdout",
     "output_type": "stream",
     "text": [
      "Y axis string value is: 0.025,0.02,0.0151,0.01,0.005\n",
      "I am in 1st try\n",
      "Y axis string corrected value is: [0.025, 0.02, 0.0151, 0.01, 0.005]\n",
      "I am in try\n"
     ]
    },
    {
     "name": "stderr",
     "output_type": "stream",
     "text": [
      "\r",
      "Processing files:  44%|██████████████████████████▌                                  | 435/1000 [11:02<14:24,  1.53s/it]"
     ]
    },
    {
     "name": "stdout",
     "output_type": "stream",
     "text": [
      "Y axis string value is: 00044,0.0043,0.0042,0.0041,0.0040,0.0039,0.0038,0.0037,0.0026,0.0035,0.0034,0.0033,0.0032,0.0031,0.0030,0.0029,0.0028,0.0027,0.0026,0.0025,0.0024,Cop,0.0023,0.0022\n",
      "I am in 1st try\n",
      "Y axis string corrected value is: [0.0044, 0.0043, 0.0042, 0.0041, 0.004, 0.0039, 0.0038, 0.0037, 0.0026, 0.0035, 0.0034, 0.0033, 0.0032, 0.0031, 0.003, 0.0029, 0.0028, 0.0027, 0.0026, 0.0025, 0.0024, 0.0023, 0.0022]\n",
      "I am in try\n"
     ]
    },
    {
     "name": "stderr",
     "output_type": "stream",
     "text": [
      "\r",
      "Processing files:  44%|██████████████████████████▌                                  | 436/1000 [11:04<14:35,  1.55s/it]"
     ]
    },
    {
     "name": "stdout",
     "output_type": "stream",
     "text": [
      "Y axis string value is: 0.70,0.69,0.69,0.69,0.69,0.69,0.68,0.68,0.68,0.68,0.68,0.67,0.67,0.67,0.67,0.67,0.66,0.66,0.66,0.66,0.66,0.65,0.65,Cop\n",
      "I am in 1st try\n",
      "Y axis string corrected value is: [0.7, 0.69, 0.69, 0.69, 0.69, 0.69, 0.68, 0.68, 0.68, 0.68, 0.68, 0.67, 0.67, 0.67, 0.67, 0.67, 0.66, 0.66, 0.66, 0.66, 0.66, 0.65, 0.65]\n",
      "I am in try\n"
     ]
    },
    {
     "name": "stderr",
     "output_type": "stream",
     "text": [
      "\r",
      "Processing files:  44%|██████████████████████████▋                                  | 437/1000 [11:06<14:37,  1.56s/it]"
     ]
    },
    {
     "name": "stdout",
     "output_type": "stream",
     "text": [
      "Y axis string value is: 2.5,2.25,2,1.775,1.25',0.75,1.4\n",
      "I am in 1st try\n",
      "Y axis string corrected value is: [2.5, 2.25, 2.0, 1.775, 0.75, 1.4]\n",
      "I am in try\n"
     ]
    },
    {
     "name": "stderr",
     "output_type": "stream",
     "text": [
      "\r",
      "Processing files:  44%|██████████████████████████▋                                  | 438/1000 [11:07<14:28,  1.55s/it]"
     ]
    },
    {
     "name": "stdout",
     "output_type": "stream",
     "text": [
      "Y axis string value is: 0.0019,0.001 8,0.0017,0.0016,0.0015,0.0014,0.0013\n",
      "I am in 1st try\n",
      "Y axis string corrected value is: [0.0019, 0.0017, 0.0016, 0.0015, 0.0014, 0.0013]\n",
      "I am in try\n"
     ]
    },
    {
     "name": "stderr",
     "output_type": "stream",
     "text": [
      "\r",
      "Processing files:  44%|██████████████████████████▊                                  | 439/1000 [11:09<14:21,  1.54s/it]"
     ]
    },
    {
     "name": "stdout",
     "output_type": "stream",
     "text": [
      "Y axis string value is: 350,300,250},,200,,1502,100,50\n",
      "I am in 1st try\n"
     ]
    },
    {
     "name": "stderr",
     "output_type": "stream",
     "text": [
      "\r",
      "Processing files:  44%|██████████████████████████▊                                  | 440/1000 [11:10<14:20,  1.54s/it]"
     ]
    },
    {
     "name": "stdout",
     "output_type": "stream",
     "text": [
      "Y axis string value is: 0.29,0.28,0.27,0.26,0.25\n",
      "I am in 1st try\n",
      "Y axis string corrected value is: [0.29, 0.28, 0.27, 0.26, 0.25]\n",
      "I am in try\n"
     ]
    },
    {
     "name": "stderr",
     "output_type": "stream",
     "text": [
      "\r",
      "Processing files:  44%|██████████████████████████▉                                  | 441/1000 [11:12<14:06,  1.51s/it]"
     ]
    },
    {
     "name": "stdout",
     "output_type": "stream",
     "text": [
      "Y axis string value is: \n",
      "I am in 1st try\n"
     ]
    },
    {
     "name": "stderr",
     "output_type": "stream",
     "text": [
      "\r",
      "Processing files:  44%|██████████████████████████▉                                  | 442/1000 [11:13<13:54,  1.49s/it]"
     ]
    },
    {
     "name": "stdout",
     "output_type": "stream",
     "text": [
      "Y axis string value is: Se-9,4e-9,3e-9:,2e-9\",1e-9\n",
      "I am in 1st try\n",
      "Y axis string corrected value is: [5e-09, 4e-09, 3e-09, 2e-09, 1e-09]\n",
      "I am in try\n"
     ]
    },
    {
     "name": "stderr",
     "output_type": "stream",
     "text": [
      "\r",
      "Processing files:  44%|███████████████████████████                                  | 443/1000 [11:14<13:31,  1.46s/it]"
     ]
    },
    {
     "name": "stdout",
     "output_type": "stream",
     "text": [
      "Y axis string value is: \n",
      "I am in 1st try\n"
     ]
    },
    {
     "name": "stderr",
     "output_type": "stream",
     "text": [
      "\r",
      "Processing files:  44%|███████████████████████████                                  | 444/1000 [11:16<13:50,  1.49s/it]"
     ]
    },
    {
     "name": "stdout",
     "output_type": "stream",
     "text": [
      "Y axis string value is: 0.0005,0.00045,0.0004,0.00035,0.0003\n",
      "I am in 1st try\n",
      "Y axis string corrected value is: [0.0005, 0.00045, 0.0004, 0.00035, 0.0003]\n",
      "I am in try\n"
     ]
    },
    {
     "name": "stderr",
     "output_type": "stream",
     "text": [
      "\r",
      "Processing files:  44%|███████████████████████████▏                                 | 445/1000 [11:18<13:56,  1.51s/it]"
     ]
    },
    {
     "name": "stdout",
     "output_type": "stream",
     "text": [
      "Y axis string value is: 1.291,1.29,1.2891,1.2288,1.287,1.286,1.285,1.284\n",
      "I am in 1st try\n",
      "Y axis string corrected value is: [1.291, 1.29, 1.2891, 1.2288, 1.287, 1.286, 1.285, 1.284]\n",
      "I am in try\n"
     ]
    },
    {
     "name": "stderr",
     "output_type": "stream",
     "text": [
      "\r",
      "Processing files:  45%|███████████████████████████▏                                 | 446/1000 [11:19<14:02,  1.52s/it]"
     ]
    },
    {
     "name": "stdout",
     "output_type": "stream",
     "text": [
      "Y axis string value is: 3.36e-9,3.35Se-9,3.35e-9,3.345e-9\n",
      "I am in 1st try\n",
      "Y axis string corrected value is: [3.36e-09, 3.355e-09, 3.35e-09, 3.345e-09]\n",
      "I am in try\n"
     ]
    },
    {
     "name": "stderr",
     "output_type": "stream",
     "text": [
      "\r",
      "Processing files:  45%|███████████████████████████▎                                 | 447/1000 [11:21<13:49,  1.50s/it]"
     ]
    },
    {
     "name": "stdout",
     "output_type": "stream",
     "text": [
      "Y axis string value is: 0.012,0.011,0.01,0.009,0.008,0.007\n",
      "I am in 1st try\n",
      "Y axis string corrected value is: [0.012, 0.011, 0.01, 0.009, 0.008, 0.007]\n",
      "I am in try\n"
     ]
    },
    {
     "name": "stderr",
     "output_type": "stream",
     "text": [
      "\r",
      "Processing files:  45%|███████████████████████████▎                                 | 448/1000 [11:22<13:29,  1.47s/it]"
     ]
    },
    {
     "name": "stdout",
     "output_type": "stream",
     "text": [
      "Y axis string value is: \n",
      "I am in 1st try\n"
     ]
    },
    {
     "name": "stderr",
     "output_type": "stream",
     "text": [
      "\r",
      "Processing files:  45%|███████████████████████████▍                                 | 449/1000 [11:23<13:28,  1.47s/it]"
     ]
    },
    {
     "name": "stdout",
     "output_type": "stream",
     "text": [
      "Y axis string value is: 0.01,0.008,0.006,0.004,0.002\n",
      "I am in 1st try\n",
      "Y axis string corrected value is: [0.01, 0.008, 0.006, 0.004, 0.002]\n",
      "I am in try\n"
     ]
    },
    {
     "name": "stderr",
     "output_type": "stream",
     "text": [
      "\r",
      "Processing files:  45%|███████████████████████████▍                                 | 450/1000 [11:25<13:30,  1.47s/it]"
     ]
    },
    {
     "name": "stdout",
     "output_type": "stream",
     "text": [
      "Y axis string value is: 0.00007,0.00006,0.Oooo5],0.00004,0.00003\n",
      "I am in 1st try\n",
      "Y axis string corrected value is: [7e-05, 6e-05, 0.05, 4e-05, 3e-05]\n",
      "I am in try\n"
     ]
    },
    {
     "name": "stderr",
     "output_type": "stream",
     "text": [
      "\r",
      "Processing files:  45%|███████████████████████████▌                                 | 451/1000 [11:27<14:25,  1.58s/it]"
     ]
    },
    {
     "name": "stdout",
     "output_type": "stream",
     "text": [
      "Y axis string value is: O.0OO,0.00,U,usu,0,030,0OO,0.000,O.000,M,0.OO\n",
      "I am in 1st try\n",
      "Y axis string corrected value is: [0.0, 0.0, 0.0, 0.3, 0.0, 0.0, 0.0, 0.0]\n"
     ]
    },
    {
     "name": "stderr",
     "output_type": "stream",
     "text": [
      "\r",
      "Processing files:  45%|███████████████████████████▌                                 | 452/1000 [11:28<14:14,  1.56s/it]"
     ]
    },
    {
     "name": "stdout",
     "output_type": "stream",
     "text": [
      "Y axis string value is: Oo Ooo,0.084,0.083,0.082,0.081,0.080,0.079,0.078,0.077,0.076,0.075,0.074,Cap\n",
      "I am in 1st try\n",
      "Y axis string corrected value is: [0.084, 0.083, 0.082, 0.081, 0.08, 0.079, 0.078, 0.077, 0.076, 0.075, 0.074]\n",
      "I am in try\n"
     ]
    },
    {
     "name": "stderr",
     "output_type": "stream",
     "text": [
      "\r",
      "Processing files:  45%|███████████████████████████▋                                 | 453/1000 [11:30<13:50,  1.52s/it]"
     ]
    },
    {
     "name": "stdout",
     "output_type": "stream",
     "text": [
      "Y axis string value is: \n",
      "I am in 1st try\n"
     ]
    },
    {
     "name": "stderr",
     "output_type": "stream",
     "text": [
      "\r",
      "Processing files:  45%|███████████████████████████▋                                 | 454/1000 [11:31<13:53,  1.53s/it]"
     ]
    },
    {
     "name": "stdout",
     "output_type": "stream",
     "text": [
      "Y axis string value is: 0.20,0.20,0.19,0.19,0.18,0.18,0.17,0.16,0.16,0.16,0.15,0.14,0.14,0.13,0.13,0.12,0.12,0.11,0.11,0.10,0.100,0.095,0.090,Cap\n",
      "I am in 1st try\n",
      "Y axis string corrected value is: [0.2, 0.2, 0.19, 0.19, 0.18, 0.18, 0.17, 0.16, 0.16, 0.16, 0.15, 0.14, 0.14, 0.13, 0.13, 0.12, 0.12, 0.11, 0.11, 0.1, 0.1, 0.095, 0.09]\n",
      "I am in try\n"
     ]
    },
    {
     "name": "stderr",
     "output_type": "stream",
     "text": [
      "\r",
      "Processing files:  46%|███████████████████████████▊                                 | 455/1000 [11:33<13:37,  1.50s/it]"
     ]
    },
    {
     "name": "stdout",
     "output_type": "stream",
     "text": [
      "Y axis string value is: \n",
      "I am in 1st try\n"
     ]
    },
    {
     "name": "stderr",
     "output_type": "stream",
     "text": [
      "\r",
      "Processing files:  46%|███████████████████████████▊                                 | 456/1000 [11:34<13:14,  1.46s/it]"
     ]
    },
    {
     "name": "stdout",
     "output_type": "stream",
     "text": [
      "Y axis string value is: \n",
      "I am in 1st try\n"
     ]
    },
    {
     "name": "stderr",
     "output_type": "stream",
     "text": [
      "\r",
      "Processing files:  46%|███████████████████████████▉                                 | 457/1000 [11:35<13:15,  1.46s/it]"
     ]
    },
    {
     "name": "stdout",
     "output_type": "stream",
     "text": [
      "Y axis string value is: 2.8,2.6,2.47,2,2.2\n",
      "I am in 1st try\n",
      "Y axis string corrected value is: [2.8, 2.6, 2.47, 2.0, 2.2]\n",
      "I am in try\n"
     ]
    },
    {
     "name": "stderr",
     "output_type": "stream",
     "text": [
      "\r",
      "Processing files:  46%|███████████████████████████▉                                 | 458/1000 [11:37<13:29,  1.49s/it]"
     ]
    },
    {
     "name": "stdout",
     "output_type": "stream",
     "text": [
      "Y axis string value is: 2.Se-7,2.25e-7,2e-7,1.75e-7J,1.5e-7,1.25e-7,1e-7\n",
      "I am in 1st try\n",
      "Y axis string corrected value is: [2.5e-07, 2.25e-07, 2e-07, 1.75e-07, 1.5e-07, 1.25e-07, 1e-07]\n",
      "I am in try\n"
     ]
    },
    {
     "name": "stderr",
     "output_type": "stream",
     "text": [
      "\r",
      "Processing files:  46%|███████████████████████████▉                                 | 459/1000 [11:39<13:43,  1.52s/it]"
     ]
    },
    {
     "name": "stdout",
     "output_type": "stream",
     "text": [
      "Y axis string value is: 21130,2.1120,2.1108,211000,21090,2.1080,2.1070,2.1060,2.1050,2.1040,2.1030,2.1020,21010,2100,20990,2.0980,Cap,2.0970\n",
      "I am in 1st try\n",
      "Y axis string corrected value is: [21130.0, 2.112, 2.1108, 211000.0, 21090.0, 2.108, 2.107, 2.106, 2.105, 2.104, 2.103, 2.102, 21010.0, 2100.0, 20990.0, 2.098, 2.097]\n",
      "I am in try\n"
     ]
    },
    {
     "name": "stderr",
     "output_type": "stream",
     "text": [
      "\r",
      "Processing files:  46%|████████████████████████████                                 | 460/1000 [11:40<13:51,  1.54s/it]"
     ]
    },
    {
     "name": "stdout",
     "output_type": "stream",
     "text": [
      "Y axis string value is: 0.000014,0.000012,0.00001,0.0000o8,0.000006,0.0000041,0.000002\n",
      "I am in 1st try\n",
      "Y axis string corrected value is: [1.4e-05, 1.2e-05, 1e-05, 8e-05, 6e-06, 4.1e-06, 2e-06]\n",
      "I am in try\n"
     ]
    },
    {
     "name": "stderr",
     "output_type": "stream",
     "text": [
      "\r",
      "Processing files:  46%|████████████████████████████                                 | 461/1000 [11:42<13:44,  1.53s/it]"
     ]
    },
    {
     "name": "stdout",
     "output_type": "stream",
     "text": [
      "Y axis string value is: '4,3,2\n",
      "I am in 1st try\n",
      "Y axis string corrected value is: [3.0, 2.0]\n",
      "I am in try\n"
     ]
    },
    {
     "name": "stderr",
     "output_type": "stream",
     "text": [
      "\r",
      "Processing files:  46%|████████████████████████████▏                                | 462/1000 [11:43<13:40,  1.53s/it]"
     ]
    },
    {
     "name": "stdout",
     "output_type": "stream",
     "text": [
      "Y axis string value is: 6e-8:,Se-8,4e-8,3e-8=,2e-8,1e-8\n",
      "I am in 1st try\n",
      "Y axis string corrected value is: [6e-08, 5e-08, 4e-08, 3e-08, 2e-08, 1e-08]\n",
      "I am in try\n"
     ]
    },
    {
     "name": "stderr",
     "output_type": "stream",
     "text": [
      "\r",
      "Processing files:  46%|████████████████████████████▏                                | 463/1000 [11:45<13:40,  1.53s/it]"
     ]
    },
    {
     "name": "stdout",
     "output_type": "stream",
     "text": [
      "Y axis string value is: 0.0000048,0.0000048,0.0000048,0.0000048,0.0000048,O.Oo000,0.0000047\n",
      "I am in 1st try\n",
      "Y axis string corrected value is: [4.8e-06, 4.8e-06, 4.8e-06, 4.8e-06, 4.8e-06, 0.0, 4.7e-06]\n",
      "I am in try\n"
     ]
    },
    {
     "name": "stderr",
     "output_type": "stream",
     "text": [
      "\r",
      "Processing files:  46%|████████████████████████████▎                                | 464/1000 [11:46<13:47,  1.54s/it]"
     ]
    },
    {
     "name": "stdout",
     "output_type": "stream",
     "text": [
      "Y axis string value is: 0.076,0.074,0.072,0.07,0.068',0.066\n",
      "I am in 1st try\n",
      "Y axis string corrected value is: [0.076, 0.074, 0.072, 0.07, 0.066]\n",
      "I am in try\n"
     ]
    },
    {
     "name": "stderr",
     "output_type": "stream",
     "text": [
      "\r",
      "Processing files:  46%|████████████████████████████▎                                | 465/1000 [11:48<13:28,  1.51s/it]"
     ]
    },
    {
     "name": "stdout",
     "output_type": "stream",
     "text": [
      "Y axis string value is: \n",
      "I am in 1st try\n"
     ]
    },
    {
     "name": "stderr",
     "output_type": "stream",
     "text": [
      "\r",
      "Processing files:  47%|████████████████████████████▍                                | 466/1000 [11:49<13:18,  1.50s/it]"
     ]
    },
    {
     "name": "stdout",
     "output_type": "stream",
     "text": [
      "Y axis string value is: 0.2,0.175,0.15,0.125,03,0.075\n",
      "I am in 1st try\n",
      "Y axis string corrected value is: [0.2, 0.175, 0.15, 0.125, 0.3, 0.075]\n",
      "I am in try\n"
     ]
    },
    {
     "name": "stderr",
     "output_type": "stream",
     "text": [
      "\r",
      "Processing files:  47%|████████████████████████████▍                                | 467/1000 [11:51<13:28,  1.52s/it]"
     ]
    },
    {
     "name": "stdout",
     "output_type": "stream",
     "text": [
      "Y axis string value is: 0.03,0.025,0.02,0.015,0.01,0.0o5\n",
      "I am in 1st try\n",
      "Y axis string corrected value is: [0.03, 0.025, 0.02, 0.015, 0.01, 0.05]\n",
      "I am in try\n"
     ]
    },
    {
     "name": "stderr",
     "output_type": "stream",
     "text": [
      "\r",
      "Processing files:  47%|████████████████████████████▌                                | 468/1000 [11:52<13:34,  1.53s/it]"
     ]
    },
    {
     "name": "stdout",
     "output_type": "stream",
     "text": [
      "Y axis string value is: 0.01,0.008,0.006,0.004,0.002\n",
      "I am in 1st try\n",
      "Y axis string corrected value is: [0.01, 0.008, 0.006, 0.004, 0.002]\n",
      "I am in try\n"
     ]
    },
    {
     "name": "stderr",
     "output_type": "stream",
     "text": [
      "\r",
      "Processing files:  47%|████████████████████████████▌                                | 469/1000 [11:54<13:35,  1.54s/it]"
     ]
    },
    {
     "name": "stdout",
     "output_type": "stream",
     "text": [
      "Y axis string value is: 0.14,0.12,0.1,0.08,0.06,0.04\n",
      "I am in 1st try\n",
      "Y axis string corrected value is: [0.14, 0.12, 0.1, 0.08, 0.06, 0.04]\n",
      "I am in try\n"
     ]
    },
    {
     "name": "stderr",
     "output_type": "stream",
     "text": [
      "\r",
      "Processing files:  47%|████████████████████████████▋                                | 470/1000 [11:55<13:31,  1.53s/it]"
     ]
    },
    {
     "name": "stdout",
     "output_type": "stream",
     "text": [
      "Y axis string value is: 0.015,0.0125,0.01,0.0075,o.OosN\n",
      "I am in 1st try\n",
      "Y axis string corrected value is: [0.015, 0.0125, 0.01, 0.0075]\n",
      "I am in try\n"
     ]
    },
    {
     "name": "stderr",
     "output_type": "stream",
     "text": [
      "\r",
      "Processing files:  47%|████████████████████████████▋                                | 471/1000 [11:57<13:28,  1.53s/it]"
     ]
    },
    {
     "name": "stdout",
     "output_type": "stream",
     "text": [
      "Y axis string value is: 0.65,0.6,0.55,0.5,0.45\n",
      "I am in 1st try\n",
      "Y axis string corrected value is: [0.65, 0.6, 0.55, 0.5, 0.45]\n",
      "I am in try\n"
     ]
    },
    {
     "name": "stderr",
     "output_type": "stream",
     "text": [
      "\r",
      "Processing files:  47%|████████████████████████████▊                                | 472/1000 [11:58<13:29,  1.53s/it]"
     ]
    },
    {
     "name": "stdout",
     "output_type": "stream",
     "text": [
      "Y axis string value is: 0.01 75,0.017,0.0165,0.016,0.0155,0.015\n",
      "I am in 1st try\n",
      "Y axis string corrected value is: [0.017, 0.0165, 0.016, 0.0155, 0.015]\n",
      "I am in try\n"
     ]
    },
    {
     "name": "stderr",
     "output_type": "stream",
     "text": [
      "\r",
      "Processing files:  47%|████████████████████████████▊                                | 473/1000 [12:00<13:34,  1.55s/it]"
     ]
    },
    {
     "name": "stdout",
     "output_type": "stream",
     "text": [
      "Y axis string value is: 0L1 1Kl,0.0033,0.0032,0.00030,0.0028,0.0026,0.0024,0.0022,0.0020,0.00018,0.0016\n",
      "I am in 1st try\n",
      "Y axis string corrected value is: [0.0033, 0.0032, 0.0003, 0.0028, 0.0026, 0.0024, 0.0022, 0.002, 0.00018, 0.0016]\n",
      "I am in try\n"
     ]
    },
    {
     "name": "stderr",
     "output_type": "stream",
     "text": [
      "\r",
      "Processing files:  47%|████████████████████████████▉                                | 474/1000 [12:01<13:12,  1.51s/it]"
     ]
    },
    {
     "name": "stdout",
     "output_type": "stream",
     "text": [
      "Y axis string value is: \n",
      "I am in 1st try\n"
     ]
    },
    {
     "name": "stderr",
     "output_type": "stream",
     "text": [
      "\r",
      "Processing files:  48%|████████████████████████████▉                                | 475/1000 [12:03<12:42,  1.45s/it]"
     ]
    },
    {
     "name": "stdout",
     "output_type": "stream",
     "text": [
      "Y axis string value is: \n",
      "I am in 1st try\n"
     ]
    },
    {
     "name": "stderr",
     "output_type": "stream",
     "text": [
      "\r",
      "Processing files:  48%|█████████████████████████████                                | 476/1000 [12:04<12:44,  1.46s/it]"
     ]
    },
    {
     "name": "stdout",
     "output_type": "stream",
     "text": [
      "Y axis string value is: 10.74,10.73,10.72,10.71,10.69,10.68,10.67,10.74A\n",
      "I am in 1st try\n",
      "Y axis string corrected value is: [10.74, 10.73, 10.72, 10.71, 10.69, 10.68, 10.67, 10.744]\n",
      "I am in try\n"
     ]
    },
    {
     "name": "stderr",
     "output_type": "stream",
     "text": [
      "\r",
      "Processing files:  48%|█████████████████████████████                                | 477/1000 [12:06<12:56,  1.49s/it]"
     ]
    },
    {
     "name": "stdout",
     "output_type": "stream",
     "text": [
      "Y axis string value is: 0.0000197,0.000019,0.0000192,0.00001,0.00001 87,0.000018\n",
      "I am in 1st try\n",
      "Y axis string corrected value is: [1.97e-05, 1.9e-05, 1.92e-05, 1e-05, 1.8e-05]\n",
      "I am in try\n"
     ]
    },
    {
     "name": "stderr",
     "output_type": "stream",
     "text": [
      "\r",
      "Processing files:  48%|█████████████████████████████▏                               | 478/1000 [12:07<12:43,  1.46s/it]"
     ]
    },
    {
     "name": "stdout",
     "output_type": "stream",
     "text": [
      "Y axis string value is: \n",
      "I am in 1st try\n"
     ]
    },
    {
     "name": "stderr",
     "output_type": "stream",
     "text": [
      "\r",
      "Processing files:  48%|█████████████████████████████▏                               | 479/1000 [12:09<12:33,  1.45s/it]"
     ]
    },
    {
     "name": "stdout",
     "output_type": "stream",
     "text": [
      "Y axis string value is: \n",
      "I am in 1st try\n"
     ]
    },
    {
     "name": "stderr",
     "output_type": "stream",
     "text": [
      "\r",
      "Processing files:  48%|█████████████████████████████▎                               | 480/1000 [12:10<12:38,  1.46s/it]"
     ]
    },
    {
     "name": "stdout",
     "output_type": "stream",
     "text": [
      "Y axis string value is: 4.281e-8,4.28e-8,4.279e-8,4.278e-8},4.277e-8,4.276e-8\n",
      "I am in 1st try\n",
      "Y axis string corrected value is: [4.281e-08, 4.28e-08, 4.279e-08, 4.278e-08, 4.277e-08, 4.276e-08]\n",
      "I am in try\n"
     ]
    },
    {
     "name": "stderr",
     "output_type": "stream",
     "text": [
      "\r",
      "Processing files:  48%|█████████████████████████████▎                               | 481/1000 [12:12<12:32,  1.45s/it]"
     ]
    },
    {
     "name": "stdout",
     "output_type": "stream",
     "text": [
      "Y axis string value is: \n",
      "I am in 1st try\n"
     ]
    },
    {
     "name": "stderr",
     "output_type": "stream",
     "text": [
      "\r",
      "Processing files:  48%|█████████████████████████████▍                               | 482/1000 [12:13<12:17,  1.42s/it]"
     ]
    },
    {
     "name": "stdout",
     "output_type": "stream",
     "text": [
      "Y axis string value is: \n",
      "I am in 1st try\n"
     ]
    },
    {
     "name": "stderr",
     "output_type": "stream",
     "text": [
      "\r",
      "Processing files:  48%|█████████████████████████████▍                               | 483/1000 [12:14<12:19,  1.43s/it]"
     ]
    },
    {
     "name": "stdout",
     "output_type": "stream",
     "text": [
      "Y axis string value is: 0.12,0.1,0.08,0.06,0.04,0.02,1\n",
      "I am in 1st try\n",
      "Y axis string corrected value is: [0.12, 0.1, 0.08, 0.06, 0.04, 0.02, 1.0]\n",
      "I am in try\n"
     ]
    },
    {
     "name": "stderr",
     "output_type": "stream",
     "text": [
      "\r",
      "Processing files:  48%|█████████████████████████████▌                               | 484/1000 [12:16<12:08,  1.41s/it]"
     ]
    },
    {
     "name": "stdout",
     "output_type": "stream",
     "text": [
      "Y axis string value is: \n",
      "I am in 1st try\n"
     ]
    },
    {
     "name": "stderr",
     "output_type": "stream",
     "text": [
      "\r",
      "Processing files:  48%|█████████████████████████████▌                               | 485/1000 [12:17<12:21,  1.44s/it]"
     ]
    },
    {
     "name": "stdout",
     "output_type": "stream",
     "text": [
      "Y axis string value is: 0.068,0.065,0.060,0.055,0.050,0.045,0.040,0.035\n",
      "I am in 1st try\n",
      "Y axis string corrected value is: [0.068, 0.065, 0.06, 0.055, 0.05, 0.045, 0.04, 0.035]\n",
      "I am in try\n"
     ]
    },
    {
     "name": "stderr",
     "output_type": "stream",
     "text": [
      "\r",
      "Processing files:  49%|█████████████████████████████▋                               | 486/1000 [12:19<12:35,  1.47s/it]"
     ]
    },
    {
     "name": "stdout",
     "output_type": "stream",
     "text": [
      "Y axis string value is: 0.04,0.035,0.03N ,0.025,0.02,0.015,0.01,0.005\n",
      "I am in 1st try\n",
      "Y axis string corrected value is: [0.04, 0.035, 0.03, 0.025, 0.02, 0.015, 0.01, 0.005]\n",
      "I am in try\n"
     ]
    },
    {
     "name": "stderr",
     "output_type": "stream",
     "text": [
      "\r",
      "Processing files:  49%|█████████████████████████████▋                               | 487/1000 [12:20<12:48,  1.50s/it]"
     ]
    },
    {
     "name": "stdout",
     "output_type": "stream",
     "text": [
      "Y axis string value is: 6,3\n",
      "I am in 1st try\n",
      "Y axis string corrected value is: [6.0, 3.0]\n",
      "I am in try\n"
     ]
    },
    {
     "name": "stderr",
     "output_type": "stream",
     "text": [
      "\r",
      "Processing files:  49%|█████████████████████████████▊                               | 488/1000 [12:22<12:55,  1.51s/it]"
     ]
    },
    {
     "name": "stdout",
     "output_type": "stream",
     "text": [
      "Y axis string value is: 0.001,0.0008,0.0006,0.0004,0.0002\n",
      "I am in 1st try\n",
      "Y axis string corrected value is: [0.001, 0.0008, 0.0006, 0.0004, 0.0002]\n",
      "I am in try\n"
     ]
    },
    {
     "name": "stderr",
     "output_type": "stream",
     "text": [
      "\r",
      "Processing files:  49%|█████████████████████████████▊                               | 489/1000 [12:23<13:07,  1.54s/it]"
     ]
    },
    {
     "name": "stdout",
     "output_type": "stream",
     "text": [
      "Y axis string value is: M0,420,40.0,380,360,30,320,30.0,20,26.0,240,220,200,180,160,140,120,10.0,80,6.0,40,20,0.043,Fap\n",
      "I am in 1st try\n",
      "Y axis string corrected value is: [0.0, 420.0, 40.0, 380.0, 360.0, 30.0, 320.0, 30.0, 20.0, 26.0, 240.0, 220.0, 200.0, 180.0, 160.0, 140.0, 120.0, 10.0, 80.0, 6.0, 40.0, 20.0, 0.043]\n",
      "I am in try\n"
     ]
    },
    {
     "name": "stderr",
     "output_type": "stream",
     "text": [
      "\r",
      "Processing files:  49%|█████████████████████████████▉                               | 490/1000 [12:25<12:38,  1.49s/it]"
     ]
    },
    {
     "name": "stdout",
     "output_type": "stream",
     "text": [
      "Y axis string value is: \n",
      "I am in 1st try\n"
     ]
    },
    {
     "name": "stderr",
     "output_type": "stream",
     "text": [
      "\r",
      "Processing files:  49%|█████████████████████████████▉                               | 491/1000 [12:26<12:37,  1.49s/it]"
     ]
    },
    {
     "name": "stdout",
     "output_type": "stream",
     "text": [
      "Y axis string value is: 2100,2050,2000,1950,1900,1850,1800,1750\n",
      "I am in 1st try\n",
      "Y axis string corrected value is: [2100.0, 2050.0, 2000.0, 1950.0, 1900.0, 1850.0, 1800.0, 1750.0]\n",
      "I am in try\n"
     ]
    },
    {
     "name": "stderr",
     "output_type": "stream",
     "text": [
      "\r",
      "Processing files:  49%|██████████████████████████████                               | 492/1000 [12:28<12:24,  1.47s/it]"
     ]
    },
    {
     "name": "stdout",
     "output_type": "stream",
     "text": [
      "Y axis string value is: \n",
      "I am in 1st try\n"
     ]
    },
    {
     "name": "stderr",
     "output_type": "stream",
     "text": [
      "\r",
      "Processing files:  49%|██████████████████████████████                               | 493/1000 [12:29<12:11,  1.44s/it]"
     ]
    },
    {
     "name": "stdout",
     "output_type": "stream",
     "text": [
      "Y axis string value is: \n",
      "I am in 1st try\n"
     ]
    },
    {
     "name": "stderr",
     "output_type": "stream",
     "text": [
      "\r",
      "Processing files:  49%|██████████████████████████████▏                              | 494/1000 [12:31<12:16,  1.46s/it]"
     ]
    },
    {
     "name": "stdout",
     "output_type": "stream",
     "text": [
      "Y axis string value is: Se-7,4.9e-7,4.8e-7,,4.7e-7,4.6e-7\n",
      "I am in 1st try\n"
     ]
    },
    {
     "name": "stderr",
     "output_type": "stream",
     "text": [
      "\r",
      "Processing files:  50%|██████████████████████████████▏                              | 495/1000 [12:32<12:32,  1.49s/it]"
     ]
    },
    {
     "name": "stdout",
     "output_type": "stream",
     "text": [
      "Y axis string value is: 0.04,0.0375,0.035,0.0325,0.03,0.0275,0.025,0.0225\n",
      "I am in 1st try\n",
      "Y axis string corrected value is: [0.04, 0.0375, 0.035, 0.0325, 0.03, 0.0275, 0.025, 0.0225]\n",
      "I am in try\n"
     ]
    },
    {
     "name": "stderr",
     "output_type": "stream",
     "text": [
      "\r",
      "Processing files:  50%|██████████████████████████████▎                              | 496/1000 [12:34<12:46,  1.52s/it]"
     ]
    },
    {
     "name": "stdout",
     "output_type": "stream",
     "text": [
      "Y axis string value is: 0.0008,0.0007,0.0006,0.0005,0.0004,0.0003\n",
      "I am in 1st try\n",
      "Y axis string corrected value is: [0.0008, 0.0007, 0.0006, 0.0005, 0.0004, 0.0003]\n",
      "I am in try\n"
     ]
    },
    {
     "name": "stderr",
     "output_type": "stream",
     "text": [
      "\r",
      "Processing files:  50%|██████████████████████████████▎                              | 497/1000 [12:35<12:32,  1.50s/it]"
     ]
    },
    {
     "name": "stdout",
     "output_type": "stream",
     "text": [
      "Y axis string value is: \n",
      "I am in 1st try\n"
     ]
    },
    {
     "name": "stderr",
     "output_type": "stream",
     "text": [
      "\r",
      "Processing files:  50%|██████████████████████████████▍                              | 498/1000 [12:37<12:35,  1.51s/it]"
     ]
    },
    {
     "name": "stdout",
     "output_type": "stream",
     "text": [
      "Y axis string value is: 0.000023,0.0000233,0.000023,0.0000232,0.000023,0.0000231,0.000023\n",
      "I am in 1st try\n",
      "Y axis string corrected value is: [2.3e-05, 2.33e-05, 2.3e-05, 2.32e-05, 2.3e-05, 2.31e-05, 2.3e-05]\n",
      "I am in try\n"
     ]
    },
    {
     "name": "stderr",
     "output_type": "stream",
     "text": [
      "Processing files:  50%|██████████████████████████████▌                              | 500/1000 [12:40<12:13,  1.47s/it]"
     ]
    },
    {
     "name": "stdout",
     "output_type": "stream",
     "text": [
      "Y axis string value is: 0.004,0.003,0.002,0.001\n",
      "I am in 1st try\n",
      "Y axis string corrected value is: [0.004, 0.003, 0.002, 0.001]\n",
      "I am in try\n"
     ]
    },
    {
     "name": "stderr",
     "output_type": "stream",
     "text": [
      "\r",
      "Processing files:  50%|██████████████████████████████▌                              | 501/1000 [12:41<12:09,  1.46s/it]"
     ]
    },
    {
     "name": "stdout",
     "output_type": "stream",
     "text": [
      "Y axis string value is: 7600,7500,7400,7300,7200},7100:,7000,6900\n",
      "I am in 1st try\n",
      "Y axis string corrected value is: [7600.0, 7500.0, 7400.0, 7300.0, 7000.0, 6900.0]\n",
      "I am in try\n"
     ]
    },
    {
     "name": "stderr",
     "output_type": "stream",
     "text": [
      "\r",
      "Processing files:  50%|██████████████████████████████▌                              | 502/1000 [12:43<12:13,  1.47s/it]"
     ]
    },
    {
     "name": "stdout",
     "output_type": "stream",
     "text": [
      "Y axis string value is: 0.0000071,0.000007,0.0000069,0.0000068,0.0000067\n",
      "I am in 1st try\n",
      "Y axis string corrected value is: [7.1e-06, 7e-06, 6.9e-06, 6.8e-06, 6.7e-06]\n",
      "I am in try\n"
     ]
    },
    {
     "name": "stderr",
     "output_type": "stream",
     "text": [
      "\r",
      "Processing files:  50%|██████████████████████████████▋                              | 503/1000 [12:44<12:12,  1.47s/it]"
     ]
    },
    {
     "name": "stdout",
     "output_type": "stream",
     "text": [
      "Y axis string value is: 0.0030641\n",
      "I am in 1st try\n",
      "Y axis string corrected value is: [0.0030641]\n"
     ]
    },
    {
     "name": "stderr",
     "output_type": "stream",
     "text": [
      "\r",
      "Processing files:  50%|██████████████████████████████▋                              | 504/1000 [12:46<12:51,  1.56s/it]"
     ]
    },
    {
     "name": "stdout",
     "output_type": "stream",
     "text": [
      "Y axis string value is: 0.9985,0.998,0.9975,0.997,0.9965-,0.996,0.9955,0.995\n",
      "I am in 1st try\n",
      "Y axis string corrected value is: [0.9985, 0.998, 0.9975, 0.997, 0.996, 0.9955, 0.995]\n",
      "I am in try\n"
     ]
    },
    {
     "name": "stderr",
     "output_type": "stream",
     "text": [
      "\r",
      "Processing files:  50%|██████████████████████████████▊                              | 505/1000 [12:47<12:43,  1.54s/it]"
     ]
    },
    {
     "name": "stdout",
     "output_type": "stream",
     "text": [
      "Y axis string value is: 0.018,0.016,0.014,0.012,0.01,0.008\n",
      "I am in 1st try\n",
      "Y axis string corrected value is: [0.018, 0.016, 0.014, 0.012, 0.01, 0.008]\n",
      "I am in try\n"
     ]
    },
    {
     "name": "stderr",
     "output_type": "stream",
     "text": [
      "\r",
      "Processing files:  51%|██████████████████████████████▊                              | 506/1000 [12:49<12:49,  1.56s/it]"
     ]
    },
    {
     "name": "stdout",
     "output_type": "stream",
     "text": [
      "Y axis string value is: 2.75e-7,2.5e-7,2.25e-7,2e-7,1.75e-7\n",
      "I am in 1st try\n",
      "Y axis string corrected value is: [2.75e-07, 2.5e-07, 2.25e-07, 2e-07, 1.75e-07]\n",
      "I am in try\n"
     ]
    },
    {
     "name": "stderr",
     "output_type": "stream",
     "text": [
      "\r",
      "Processing files:  51%|██████████████████████████████▉                              | 507/1000 [12:50<12:27,  1.52s/it]"
     ]
    },
    {
     "name": "stdout",
     "output_type": "stream",
     "text": [
      "Y axis string value is: \n",
      "I am in 1st try\n"
     ]
    },
    {
     "name": "stderr",
     "output_type": "stream",
     "text": [
      "\r",
      "Processing files:  51%|██████████████████████████████▉                              | 508/1000 [12:52<12:23,  1.51s/it]"
     ]
    },
    {
     "name": "stdout",
     "output_type": "stream",
     "text": [
      "Y axis string value is: 0.0006,,0.Ooo55,O.o005;,0.00045;,,0.0004,0.00035\n",
      "I am in 1st try\n"
     ]
    },
    {
     "name": "stderr",
     "output_type": "stream",
     "text": [
      "\r",
      "Processing files:  51%|███████████████████████████████                              | 509/1000 [12:53<12:29,  1.53s/it]"
     ]
    },
    {
     "name": "stdout",
     "output_type": "stream",
     "text": [
      "Y axis string value is: 0.007,0.0065,0.006,0.Ooss,0.005\n",
      "I am in 1st try\n",
      "Y axis string corrected value is: [0.007, 0.0065, 0.006, 0.0, 0.005]\n",
      "I am in try\n"
     ]
    },
    {
     "name": "stderr",
     "output_type": "stream",
     "text": [
      "\r",
      "Processing files:  51%|███████████████████████████████                              | 510/1000 [12:55<12:45,  1.56s/it]"
     ]
    },
    {
     "name": "stdout",
     "output_type": "stream",
     "text": [
      "Y axis string value is: 0.0000049,0.00000048,0.008000848,0.00000047,0.0000046,0.0030046,0.0080045,0.00.000045,0oooC45,O.008044,0.00880043,0.0000043,0.0000042,0.0080042,Cap\n",
      "I am in 1st try\n",
      "Y axis string corrected value is: [4.9e-06, 4.8e-07, 0.008000848, 4.7e-07, 4.6e-06, 0.0030046, 0.0080045, 0.45, 0.008044, 0.00880043, 4.3e-06, 4.2e-06, 0.0080042]\n",
      "I am in try\n"
     ]
    },
    {
     "name": "stderr",
     "output_type": "stream",
     "text": [
      "\r",
      "Processing files:  51%|███████████████████████████████▏                             | 511/1000 [12:56<12:25,  1.52s/it]"
     ]
    },
    {
     "name": "stdout",
     "output_type": "stream",
     "text": [
      "Y axis string value is: \n",
      "I am in 1st try\n"
     ]
    },
    {
     "name": "stderr",
     "output_type": "stream",
     "text": [
      "\r",
      "Processing files:  51%|███████████████████████████████▏                             | 512/1000 [12:58<12:19,  1.52s/it]"
     ]
    },
    {
     "name": "stdout",
     "output_type": "stream",
     "text": [
      "Y axis string value is: O.ooo0000050,0.0000000040,0.0000000030,0.0000000020,O.OOOOO00013,0.0000000010,cip\n",
      "I am in 1st try\n",
      "Y axis string corrected value is: [5e-06, 4e-09, 3e-09, 2e-09, 1.3e-09, 1e-09]\n",
      "I am in try\n"
     ]
    },
    {
     "name": "stderr",
     "output_type": "stream",
     "text": [
      "\r",
      "Processing files:  51%|███████████████████████████████▎                             | 513/1000 [12:59<12:20,  1.52s/it]"
     ]
    },
    {
     "name": "stdout",
     "output_type": "stream",
     "text": [
      "Y axis string value is: 0.006,0.005,0.0041,0.003,0.002,0.001\n",
      "I am in 1st try\n",
      "Y axis string corrected value is: [0.006, 0.005, 0.0041, 0.003, 0.002, 0.001]\n",
      "I am in try\n"
     ]
    },
    {
     "name": "stderr",
     "output_type": "stream",
     "text": [
      "\r",
      "Processing files:  51%|███████████████████████████████▎                             | 514/1000 [13:01<12:18,  1.52s/it]"
     ]
    },
    {
     "name": "stdout",
     "output_type": "stream",
     "text": [
      "Y axis string value is: 0.0004,0.0003,0.0002,0.0001\n",
      "I am in 1st try\n",
      "Y axis string corrected value is: [0.0004, 0.0003, 0.0002, 0.0001]\n",
      "I am in try\n"
     ]
    },
    {
     "name": "stderr",
     "output_type": "stream",
     "text": [
      "\r",
      "Processing files:  52%|███████████████████████████████▍                             | 515/1000 [13:02<12:02,  1.49s/it]"
     ]
    },
    {
     "name": "stdout",
     "output_type": "stream",
     "text": [
      "Y axis string value is: \n",
      "I am in 1st try\n"
     ]
    },
    {
     "name": "stderr",
     "output_type": "stream",
     "text": [
      "\r",
      "Processing files:  52%|███████████████████████████████▍                             | 516/1000 [13:04<11:43,  1.45s/it]"
     ]
    },
    {
     "name": "stdout",
     "output_type": "stream",
     "text": [
      "Y axis string value is: \n",
      "I am in 1st try\n"
     ]
    },
    {
     "name": "stderr",
     "output_type": "stream",
     "text": [
      "\r",
      "Processing files:  52%|███████████████████████████████▌                             | 517/1000 [13:05<11:25,  1.42s/it]"
     ]
    },
    {
     "name": "stdout",
     "output_type": "stream",
     "text": [
      "Y axis string value is: \n",
      "I am in 1st try\n"
     ]
    },
    {
     "name": "stderr",
     "output_type": "stream",
     "text": [
      "\r",
      "Processing files:  52%|███████████████████████████████▌                             | 518/1000 [13:07<11:31,  1.43s/it]"
     ]
    },
    {
     "name": "stdout",
     "output_type": "stream",
     "text": [
      "Y axis string value is: 0.00026,0.00024,0.00022=,0.0002,0.0001 8\n",
      "I am in 1st try\n",
      "Y axis string corrected value is: [0.00026, 0.00024, 0.0002]\n",
      "I am in try\n"
     ]
    },
    {
     "name": "stderr",
     "output_type": "stream",
     "text": [
      "\r",
      "Processing files:  52%|███████████████████████████████▋                             | 519/1000 [13:08<11:47,  1.47s/it]"
     ]
    },
    {
     "name": "stdout",
     "output_type": "stream",
     "text": [
      "Y axis string value is: 0.0004,0.00035,0.0003,0.00025,0.0002\n",
      "I am in 1st try\n",
      "Y axis string corrected value is: [0.0004, 0.00035, 0.0003, 0.00025, 0.0002]\n",
      "I am in try\n"
     ]
    },
    {
     "name": "stderr",
     "output_type": "stream",
     "text": [
      "\r",
      "Processing files:  52%|███████████████████████████████▋                             | 520/1000 [13:10<12:08,  1.52s/it]"
     ]
    },
    {
     "name": "stdout",
     "output_type": "stream",
     "text": [
      "Y axis string value is: 0.00000027,00000026,0.0000026,0.0000.025,0.0C0.24,0.0000023,0.080000022,0.0000021,0.00000020,0.0000019,0.00000018,0.000800017,0.0000.016,0.000015,0.00800014,o0013,0.000012,0.000800011,0.0000010,O.000009000,Cebooooosooo\n",
      "I am in 1st try\n",
      "Y axis string corrected value is: [2.7e-07, 2.6e-06, 2.6e-06, 2.3e-06, 0.080000022, 2.1e-06, 2e-07, 1.9e-06, 1.8e-07, 0.000800017, 1.5e-05, 0.00800014, 0.013, 1.2e-05, 0.000800011, 1e-06, 9e-06]\n",
      "I am in try\n"
     ]
    },
    {
     "name": "stderr",
     "output_type": "stream",
     "text": [
      "\r",
      "Processing files:  52%|███████████████████████████████▊                             | 521/1000 [13:11<12:08,  1.52s/it]"
     ]
    },
    {
     "name": "stdout",
     "output_type": "stream",
     "text": [
      "Y axis string value is: 0.0000032,0.0000031,0.000003,0.0000029,0.0000028,0.0000027,0.0000026\n",
      "I am in 1st try\n",
      "Y axis string corrected value is: [3.2e-06, 3.1e-06, 3e-06, 2.9e-06, 2.8e-06, 2.7e-06, 2.6e-06]\n",
      "I am in try\n"
     ]
    },
    {
     "name": "stderr",
     "output_type": "stream",
     "text": [
      "\r",
      "Processing files:  52%|███████████████████████████████▊                             | 522/1000 [13:13<12:11,  1.53s/it]"
     ]
    },
    {
     "name": "stdout",
     "output_type": "stream",
     "text": [
      "Y axis string value is: 0.55,0.5,0.4S3,0.35;,0.3,0.25,0.2,0.45\n",
      "I am in 1st try\n",
      "Y axis string corrected value is: [0.55, 0.5, 0.453, 0.3, 0.25, 0.2, 0.45]\n",
      "I am in try\n"
     ]
    },
    {
     "name": "stderr",
     "output_type": "stream",
     "text": [
      "\r",
      "Processing files:  52%|███████████████████████████████▉                             | 523/1000 [13:14<12:08,  1.53s/it]"
     ]
    },
    {
     "name": "stdout",
     "output_type": "stream",
     "text": [
      "Y axis string value is: 0.0022,0.0021,0.0020,U.OzO,0.0019,0.00018,0.00017,0.0016,0.0015,0.0014,0.0013\n",
      "I am in 1st try\n",
      "Y axis string corrected value is: [0.0022, 0.0021, 0.002, 0.0019, 0.00018, 0.00017, 0.0016, 0.0015, 0.0014, 0.0013]\n",
      "I am in try\n"
     ]
    },
    {
     "name": "stderr",
     "output_type": "stream",
     "text": [
      "\r",
      "Processing files:  52%|███████████████████████████████▉                             | 524/1000 [13:16<12:06,  1.53s/it]"
     ]
    },
    {
     "name": "stdout",
     "output_type": "stream",
     "text": [
      "Y axis string value is: 0.01045,0.0104,0.01035,0.0103,0.01025,0.0102\n",
      "I am in 1st try\n",
      "Y axis string corrected value is: [0.01045, 0.0104, 0.01035, 0.0103, 0.01025, 0.0102]\n",
      "I am in try\n"
     ]
    },
    {
     "name": "stderr",
     "output_type": "stream",
     "text": [
      "\r",
      "Processing files:  52%|████████████████████████████████                             | 525/1000 [13:17<12:06,  1.53s/it]"
     ]
    },
    {
     "name": "stdout",
     "output_type": "stream",
     "text": [
      "Y axis string value is: 0.8,0.6,0.4.,0.2\n",
      "I am in 1st try\n",
      "Y axis string corrected value is: [0.8, 0.6, 0.2]\n",
      "I am in try\n"
     ]
    },
    {
     "name": "stderr",
     "output_type": "stream",
     "text": [
      "\r",
      "Processing files:  53%|████████████████████████████████                             | 526/1000 [13:19<12:06,  1.53s/it]"
     ]
    },
    {
     "name": "stdout",
     "output_type": "stream",
     "text": [
      "Y axis string value is: 7e-10.,6e-10 .,Se-10,4e-IO;,3e-10},2e-10:,Ie-10\n",
      "I am in 1st try\n",
      "Y axis string corrected value is: [5e-10, 4e-10, 3e-10, 2e-10, 1e-10]\n",
      "I am in try\n"
     ]
    },
    {
     "name": "stderr",
     "output_type": "stream",
     "text": [
      "\r",
      "Processing files:  53%|████████████████████████████████▏                            | 527/1000 [13:20<11:45,  1.49s/it]"
     ]
    },
    {
     "name": "stdout",
     "output_type": "stream",
     "text": [
      "Y axis string value is: \n",
      "I am in 1st try\n"
     ]
    },
    {
     "name": "stderr",
     "output_type": "stream",
     "text": [
      "\r",
      "Processing files:  53%|████████████████████████████████▏                            | 528/1000 [13:22<11:24,  1.45s/it]"
     ]
    },
    {
     "name": "stdout",
     "output_type": "stream",
     "text": [
      "Y axis string value is: \n",
      "I am in 1st try\n"
     ]
    },
    {
     "name": "stderr",
     "output_type": "stream",
     "text": [
      "\r",
      "Processing files:  53%|████████████████████████████████▎                            | 529/1000 [13:23<11:26,  1.46s/it]"
     ]
    },
    {
     "name": "stdout",
     "output_type": "stream",
     "text": [
      "Y axis string value is: 0.00,0.003,0.00,0.002,0.00,0.001\n",
      "I am in 1st try\n",
      "Y axis string corrected value is: [0.0, 0.003, 0.0, 0.002, 0.0, 0.001]\n",
      "I am in try\n"
     ]
    },
    {
     "name": "stderr",
     "output_type": "stream",
     "text": [
      "\r",
      "Processing files:  53%|████████████████████████████████▎                            | 530/1000 [13:25<11:20,  1.45s/it]"
     ]
    },
    {
     "name": "stdout",
     "output_type": "stream",
     "text": [
      "Y axis string value is: \n",
      "I am in 1st try\n"
     ]
    },
    {
     "name": "stderr",
     "output_type": "stream",
     "text": [
      "\r",
      "Processing files:  53%|████████████████████████████████▍                            | 531/1000 [13:26<11:25,  1.46s/it]"
     ]
    },
    {
     "name": "stdout",
     "output_type": "stream",
     "text": [
      "Y axis string value is: 0.14,0.135,0.13,0.125,0.12,0.115,0.11\n",
      "I am in 1st try\n",
      "Y axis string corrected value is: [0.14, 0.135, 0.13, 0.125, 0.12, 0.115, 0.11]\n",
      "I am in try\n"
     ]
    },
    {
     "name": "stderr",
     "output_type": "stream",
     "text": [
      "\r",
      "Processing files:  53%|████████████████████████████████▍                            | 532/1000 [13:28<11:34,  1.48s/it]"
     ]
    },
    {
     "name": "stdout",
     "output_type": "stream",
     "text": [
      "Y axis string value is: 0.0125,0.01,0.0075,0.005,0.0025\n",
      "I am in 1st try\n",
      "Y axis string corrected value is: [0.0125, 0.01, 0.0075, 0.005, 0.0025]\n",
      "I am in try\n"
     ]
    },
    {
     "name": "stderr",
     "output_type": "stream",
     "text": [
      "\r",
      "Processing files:  53%|████████████████████████████████▌                            | 533/1000 [13:29<11:16,  1.45s/it]"
     ]
    },
    {
     "name": "stdout",
     "output_type": "stream",
     "text": [
      "Y axis string value is: \n",
      "I am in 1st try\n"
     ]
    },
    {
     "name": "stderr",
     "output_type": "stream",
     "text": [
      "\r",
      "Processing files:  53%|████████████████████████████████▌                            | 534/1000 [13:31<11:30,  1.48s/it]"
     ]
    },
    {
     "name": "stdout",
     "output_type": "stream",
     "text": [
      "Y axis string value is: 0.004,0.00375,0.0035,0.00325,0.003,0.00275\n",
      "I am in 1st try\n",
      "Y axis string corrected value is: [0.004, 0.00375, 0.0035, 0.00325, 0.003, 0.00275]\n",
      "I am in try\n"
     ]
    },
    {
     "name": "stderr",
     "output_type": "stream",
     "text": [
      "\r",
      "Processing files:  54%|████████████████████████████████▋                            | 535/1000 [13:32<11:20,  1.46s/it]"
     ]
    },
    {
     "name": "stdout",
     "output_type": "stream",
     "text": [
      "Y axis string value is: \n",
      "I am in 1st try\n"
     ]
    },
    {
     "name": "stderr",
     "output_type": "stream",
     "text": [
      "\r",
      "Processing files:  54%|████████████████████████████████▋                            | 536/1000 [13:33<11:16,  1.46s/it]"
     ]
    },
    {
     "name": "stdout",
     "output_type": "stream",
     "text": [
      "Y axis string value is: 25,20,15,10,5 `\n",
      "I am in 1st try\n",
      "Y axis string corrected value is: [25.0, 20.0, 15.0, 10.0]\n",
      "I am in try\n"
     ]
    },
    {
     "name": "stderr",
     "output_type": "stream",
     "text": [
      "\r",
      "Processing files:  54%|████████████████████████████████▊                            | 537/1000 [13:35<11:31,  1.49s/it]"
     ]
    },
    {
     "name": "stdout",
     "output_type": "stream",
     "text": [
      "Y axis string value is: 0.00275,0.0027,0.00265,0.0026,0.00255,0.0025,0.00245,0.0024\n",
      "I am in 1st try\n",
      "Y axis string corrected value is: [0.00275, 0.0027, 0.00265, 0.0026, 0.00255, 0.0025, 0.00245, 0.0024]\n",
      "I am in try\n"
     ]
    },
    {
     "name": "stderr",
     "output_type": "stream",
     "text": [
      "\r",
      "Processing files:  54%|████████████████████████████████▊                            | 538/1000 [13:36<11:20,  1.47s/it]"
     ]
    },
    {
     "name": "stdout",
     "output_type": "stream",
     "text": [
      "Y axis string value is: \n",
      "I am in 1st try\n"
     ]
    },
    {
     "name": "stderr",
     "output_type": "stream",
     "text": [
      "\r",
      "Processing files:  54%|████████████████████████████████▉                            | 539/1000 [13:38<11:15,  1.46s/it]"
     ]
    },
    {
     "name": "stdout",
     "output_type": "stream",
     "text": [
      "Y axis string value is: 0.225,0.2,0.175,0.15,0.125,0_\n",
      "I am in 1st try\n",
      "Y axis string corrected value is: [0.225, 0.2, 0.175, 0.15, 0.125]\n",
      "I am in try\n"
     ]
    },
    {
     "name": "stderr",
     "output_type": "stream",
     "text": [
      "\r",
      "Processing files:  54%|████████████████████████████████▉                            | 540/1000 [13:39<11:23,  1.49s/it]"
     ]
    },
    {
     "name": "stdout",
     "output_type": "stream",
     "text": [
      "Y axis string value is: 0.01,0.0099,0.0098,0.0097,0.0096\n",
      "I am in 1st try\n",
      "Y axis string corrected value is: [0.01, 0.0099, 0.0098, 0.0097, 0.0096]\n",
      "I am in try\n"
     ]
    },
    {
     "name": "stderr",
     "output_type": "stream",
     "text": [
      "\r",
      "Processing files:  54%|█████████████████████████████████                            | 541/1000 [13:41<11:15,  1.47s/it]"
     ]
    },
    {
     "name": "stdout",
     "output_type": "stream",
     "text": [
      "Y axis string value is: \n",
      "I am in 1st try\n"
     ]
    },
    {
     "name": "stderr",
     "output_type": "stream",
     "text": [
      "\r",
      "Processing files:  54%|█████████████████████████████████                            | 542/1000 [13:42<11:12,  1.47s/it]"
     ]
    },
    {
     "name": "stdout",
     "output_type": "stream",
     "text": [
      "Y axis string value is: 0.002,0.0018,0.0016,0.0014,0.0012\n",
      "I am in 1st try\n",
      "Y axis string corrected value is: [0.002, 0.0018, 0.0016, 0.0014, 0.0012]\n",
      "I am in try\n"
     ]
    },
    {
     "name": "stderr",
     "output_type": "stream",
     "text": [
      "\r",
      "Processing files:  54%|█████████████████████████████████                            | 543/1000 [13:44<11:23,  1.50s/it]"
     ]
    },
    {
     "name": "stdout",
     "output_type": "stream",
     "text": [
      "Y axis string value is: 0.000005,0.000004,0.000003,0.000002,0.000001\n",
      "I am in 1st try\n",
      "Y axis string corrected value is: [5e-06, 4e-06, 3e-06, 2e-06, 1e-06]\n",
      "I am in try\n"
     ]
    },
    {
     "name": "stderr",
     "output_type": "stream",
     "text": [
      "\r",
      "Processing files:  54%|█████████████████████████████████▏                           | 544/1000 [13:45<11:30,  1.51s/it]"
     ]
    },
    {
     "name": "stdout",
     "output_type": "stream",
     "text": [
      "Y axis string value is: 0.004,0.0035,0.003,0.0025,0.002,0.0015\n",
      "I am in 1st try\n",
      "Y axis string corrected value is: [0.004, 0.0035, 0.003, 0.0025, 0.002, 0.0015]\n",
      "I am in try\n"
     ]
    },
    {
     "name": "stderr",
     "output_type": "stream",
     "text": [
      "\r",
      "Processing files:  55%|█████████████████████████████████▏                           | 545/1000 [13:47<11:22,  1.50s/it]"
     ]
    },
    {
     "name": "stdout",
     "output_type": "stream",
     "text": [
      "Y axis string value is: 0.02,0.015,0.01,0.005\n",
      "I am in 1st try\n",
      "Y axis string corrected value is: [0.02, 0.015, 0.01, 0.005]\n",
      "I am in try\n"
     ]
    },
    {
     "name": "stderr",
     "output_type": "stream",
     "text": [
      "\r",
      "Processing files:  55%|█████████████████████████████████▎                           | 546/1000 [13:48<11:10,  1.48s/it]"
     ]
    },
    {
     "name": "stdout",
     "output_type": "stream",
     "text": [
      "Y axis string value is: \n",
      "I am in 1st try\n"
     ]
    },
    {
     "name": "stderr",
     "output_type": "stream",
     "text": [
      "\r",
      "Processing files:  55%|█████████████████████████████████▎                           | 547/1000 [13:50<10:55,  1.45s/it]"
     ]
    },
    {
     "name": "stdout",
     "output_type": "stream",
     "text": [
      "Y axis string value is: \n",
      "I am in 1st try\n"
     ]
    },
    {
     "name": "stderr",
     "output_type": "stream",
     "text": [
      "\r",
      "Processing files:  55%|█████████████████████████████████▍                           | 548/1000 [13:51<11:00,  1.46s/it]"
     ]
    },
    {
     "name": "stdout",
     "output_type": "stream",
     "text": [
      "Y axis string value is: 0.025,0.0225,0.02,0.0175,0.015,0.0125,0.01\n",
      "I am in 1st try\n",
      "Y axis string corrected value is: [0.025, 0.0225, 0.02, 0.0175, 0.015, 0.0125, 0.01]\n",
      "I am in try\n"
     ]
    },
    {
     "name": "stderr",
     "output_type": "stream",
     "text": [
      "\r",
      "Processing files:  55%|█████████████████████████████████▍                           | 549/1000 [13:53<11:12,  1.49s/it]"
     ]
    },
    {
     "name": "stdout",
     "output_type": "stream",
     "text": [
      "Y axis string value is: 0.6:,0.5,0.4,0.33,0.2 -,0.1\n",
      "I am in 1st try\n",
      "Y axis string corrected value is: [0.5, 0.4, 0.33, 0.1]\n",
      "I am in try\n"
     ]
    },
    {
     "name": "stderr",
     "output_type": "stream",
     "text": [
      "\r",
      "Processing files:  55%|█████████████████████████████████▌                           | 550/1000 [13:54<11:08,  1.49s/it]"
     ]
    },
    {
     "name": "stdout",
     "output_type": "stream",
     "text": [
      "Y axis string value is: 0.0000227\n",
      "I am in 1st try\n",
      "Y axis string corrected value is: [2.27e-05]\n"
     ]
    },
    {
     "name": "stderr",
     "output_type": "stream",
     "text": [
      "\r",
      "Processing files:  55%|█████████████████████████████████▌                           | 551/1000 [13:56<11:18,  1.51s/it]"
     ]
    },
    {
     "name": "stdout",
     "output_type": "stream",
     "text": [
      "Y axis string value is: 0.069,0.068,0.067,0.066,0.065,0.064,0.063,M\n",
      "I am in 1st try\n",
      "Y axis string corrected value is: [0.069, 0.068, 0.067, 0.066, 0.065, 0.064, 0.063]\n",
      "I am in try\n"
     ]
    },
    {
     "name": "stderr",
     "output_type": "stream",
     "text": [
      "\r",
      "Processing files:  55%|█████████████████████████████████▋                           | 552/1000 [13:57<11:10,  1.50s/it]"
     ]
    },
    {
     "name": "stdout",
     "output_type": "stream",
     "text": [
      "Y axis string value is: 100k,80k,60k,40k,20k\n",
      "I am in 1st try\n",
      "Y axis string corrected value is: [100.0, 80.0, 60.0, 40.0, 20.0]\n",
      "I am in try\n"
     ]
    },
    {
     "name": "stderr",
     "output_type": "stream",
     "text": [
      "\r",
      "Processing files:  55%|█████████████████████████████████▋                           | 553/1000 [13:59<11:15,  1.51s/it]"
     ]
    },
    {
     "name": "stdout",
     "output_type": "stream",
     "text": [
      "Y axis string value is: 0.007,0.006,0.005,0.004,0.003,0.002,0.001\n",
      "I am in 1st try\n",
      "Y axis string corrected value is: [0.007, 0.006, 0.005, 0.004, 0.003, 0.002, 0.001]\n",
      "I am in try\n"
     ]
    },
    {
     "name": "stderr",
     "output_type": "stream",
     "text": [
      "\r",
      "Processing files:  55%|█████████████████████████████████▊                           | 554/1000 [14:00<11:00,  1.48s/it]"
     ]
    },
    {
     "name": "stdout",
     "output_type": "stream",
     "text": [
      "Y axis string value is: \n",
      "I am in 1st try\n"
     ]
    },
    {
     "name": "stderr",
     "output_type": "stream",
     "text": [
      "\r",
      "Processing files:  56%|█████████████████████████████████▊                           | 555/1000 [14:02<11:02,  1.49s/it]"
     ]
    },
    {
     "name": "stdout",
     "output_type": "stream",
     "text": [
      "Y axis string value is: 0.75,0,0.65,0.6,0.55, ,,0.5,0.45\n",
      "I am in 1st try\n"
     ]
    },
    {
     "name": "stderr",
     "output_type": "stream",
     "text": [
      "\r",
      "Processing files:  56%|█████████████████████████████████▉                           | 556/1000 [14:03<11:08,  1.51s/it]"
     ]
    },
    {
     "name": "stdout",
     "output_type": "stream",
     "text": [
      "Y axis string value is: 0.12,0.1,0.082,0.06:,0.04\n",
      "I am in 1st try\n",
      "Y axis string corrected value is: [0.12, 0.1, 0.082, 0.04]\n",
      "I am in try\n"
     ]
    },
    {
     "name": "stderr",
     "output_type": "stream",
     "text": [
      "\r",
      "Processing files:  56%|█████████████████████████████████▉                           | 557/1000 [14:05<10:57,  1.49s/it]"
     ]
    },
    {
     "name": "stdout",
     "output_type": "stream",
     "text": [
      "Y axis string value is: \n",
      "I am in 1st try\n"
     ]
    },
    {
     "name": "stderr",
     "output_type": "stream",
     "text": [
      "\r",
      "Processing files:  56%|██████████████████████████████████                           | 558/1000 [14:06<11:00,  1.49s/it]"
     ]
    },
    {
     "name": "stdout",
     "output_type": "stream",
     "text": [
      "Y axis string value is: 0.00001,0.000009,0.000008,0.000007,0.0000061,0.Ooooos,0.000004,0.000003\n",
      "I am in 1st try\n",
      "Y axis string corrected value is: [1e-05, 9e-06, 8e-06, 7e-06, 6.1e-06, 0.0, 4e-06, 3e-06]\n",
      "I am in try\n"
     ]
    },
    {
     "name": "stderr",
     "output_type": "stream",
     "text": [
      "\r",
      "Processing files:  56%|██████████████████████████████████                           | 559/1000 [14:08<10:59,  1.50s/it]"
     ]
    },
    {
     "name": "stdout",
     "output_type": "stream",
     "text": [
      "Y axis string value is: 3.5e-7,3e-7,2.5e-7,2e-7,1.Se-7,1e-7\n",
      "I am in 1st try\n",
      "Y axis string corrected value is: [3.5e-07, 3e-07, 2.5e-07, 2e-07, 1.5e-07, 1e-07]\n",
      "I am in try\n"
     ]
    },
    {
     "name": "stderr",
     "output_type": "stream",
     "text": [
      "\r",
      "Processing files:  56%|██████████████████████████████████▏                          | 560/1000 [14:09<11:01,  1.50s/it]"
     ]
    },
    {
     "name": "stdout",
     "output_type": "stream",
     "text": [
      "Y axis string value is: 0.051,0.05,0.049,0.048,0.047,0.046\n",
      "I am in 1st try\n",
      "Y axis string corrected value is: [0.051, 0.05, 0.049, 0.048, 0.047, 0.046]\n",
      "I am in try\n"
     ]
    },
    {
     "name": "stderr",
     "output_type": "stream",
     "text": [
      "\r",
      "Processing files:  56%|██████████████████████████████████▏                          | 561/1000 [14:11<10:51,  1.48s/it]"
     ]
    },
    {
     "name": "stdout",
     "output_type": "stream",
     "text": [
      "Y axis string value is: \n",
      "I am in 1st try\n"
     ]
    },
    {
     "name": "stderr",
     "output_type": "stream",
     "text": [
      "\r",
      "Processing files:  56%|██████████████████████████████████▎                          | 562/1000 [14:12<10:32,  1.44s/it]"
     ]
    },
    {
     "name": "stdout",
     "output_type": "stream",
     "text": [
      "Y axis string value is: \n",
      "I am in 1st try\n"
     ]
    },
    {
     "name": "stderr",
     "output_type": "stream",
     "text": [
      "\r",
      "Processing files:  56%|██████████████████████████████████▎                          | 563/1000 [14:14<10:43,  1.47s/it]"
     ]
    },
    {
     "name": "stdout",
     "output_type": "stream",
     "text": [
      "Y axis string value is: 0.01,0.009,0.008;,0.007,0.006,0.005,0.004\n",
      "I am in 1st try\n",
      "Y axis string corrected value is: [0.01, 0.009, 0.007, 0.006, 0.005, 0.004]\n",
      "I am in try\n"
     ]
    },
    {
     "name": "stderr",
     "output_type": "stream",
     "text": [
      "\r",
      "Processing files:  56%|██████████████████████████████████▍                          | 564/1000 [14:15<10:57,  1.51s/it]"
     ]
    },
    {
     "name": "stdout",
     "output_type": "stream",
     "text": [
      "Y axis string value is: 0.002,0.0018,0.0016,0.001*4,0.0012\n",
      "I am in 1st try\n",
      "Y axis string corrected value is: [0.002, 0.0018, 0.0016, 0.0012]\n",
      "I am in try\n"
     ]
    },
    {
     "name": "stderr",
     "output_type": "stream",
     "text": [
      "\r",
      "Processing files:  56%|██████████████████████████████████▍                          | 565/1000 [14:17<10:49,  1.49s/it]"
     ]
    },
    {
     "name": "stdout",
     "output_type": "stream",
     "text": [
      "Y axis string value is: 0.0106,0.0104,0.0102,0.01,0.0098,0.0096\n",
      "I am in 1st try\n",
      "Y axis string corrected value is: [0.0106, 0.0104, 0.0102, 0.01, 0.0098, 0.0096]\n",
      "I am in try\n"
     ]
    },
    {
     "name": "stderr",
     "output_type": "stream",
     "text": [
      "\r",
      "Processing files:  57%|██████████████████████████████████▌                          | 566/1000 [14:18<10:32,  1.46s/it]"
     ]
    },
    {
     "name": "stdout",
     "output_type": "stream",
     "text": [
      "Y axis string value is: \n",
      "I am in 1st try\n"
     ]
    },
    {
     "name": "stderr",
     "output_type": "stream",
     "text": [
      "\r",
      "Processing files:  57%|██████████████████████████████████▌                          | 567/1000 [14:19<10:20,  1.43s/it]"
     ]
    },
    {
     "name": "stdout",
     "output_type": "stream",
     "text": [
      "Y axis string value is: \n",
      "I am in 1st try\n"
     ]
    },
    {
     "name": "stderr",
     "output_type": "stream",
     "text": [
      "\r",
      "Processing files:  57%|██████████████████████████████████▋                          | 568/1000 [14:21<10:23,  1.44s/it]"
     ]
    },
    {
     "name": "stdout",
     "output_type": "stream",
     "text": [
      "Y axis string value is: 2.005e-8,2e-8,1.995e-8,1.99e-8,1.985e-8,1.98e-8\n",
      "I am in 1st try\n",
      "Y axis string corrected value is: [2.005e-08, 2e-08, 1.995e-08, 1.99e-08, 1.985e-08, 1.98e-08]\n",
      "I am in try\n"
     ]
    },
    {
     "name": "stderr",
     "output_type": "stream",
     "text": [
      "\r",
      "Processing files:  57%|██████████████████████████████████▋                          | 569/1000 [14:22<10:33,  1.47s/it]"
     ]
    },
    {
     "name": "stdout",
     "output_type": "stream",
     "text": [
      "Y axis string value is: 0.000209,0.000208,0.000207,0.000206,0.000205\n",
      "I am in 1st try\n",
      "Y axis string corrected value is: [0.000209, 0.000208, 0.000207, 0.000206, 0.000205]\n",
      "I am in try\n"
     ]
    },
    {
     "name": "stderr",
     "output_type": "stream",
     "text": [
      "\r",
      "Processing files:  57%|██████████████████████████████████▊                          | 570/1000 [14:24<10:42,  1.49s/it]"
     ]
    },
    {
     "name": "stdout",
     "output_type": "stream",
     "text": [
      "Y axis string value is: 0.007,0.006,0.005,0.004,0.003,0.002,0.001\n",
      "I am in 1st try\n",
      "Y axis string corrected value is: [0.007, 0.006, 0.005, 0.004, 0.003, 0.002, 0.001]\n",
      "I am in try\n"
     ]
    },
    {
     "name": "stderr",
     "output_type": "stream",
     "text": [
      "\r",
      "Processing files:  57%|██████████████████████████████████▊                          | 571/1000 [14:26<10:53,  1.52s/it]"
     ]
    },
    {
     "name": "stdout",
     "output_type": "stream",
     "text": [
      "Y axis string value is: 0.000775,0.00075,0.000725,0.0007,0.000675:,0.00065,0.000625\n",
      "I am in 1st try\n",
      "Y axis string corrected value is: [0.000775, 0.00075, 0.000725, 0.0007, 0.00065, 0.000625]\n",
      "I am in try\n"
     ]
    },
    {
     "name": "stderr",
     "output_type": "stream",
     "text": [
      "\r",
      "Processing files:  57%|██████████████████████████████████▉                          | 572/1000 [14:27<10:40,  1.50s/it]"
     ]
    },
    {
     "name": "stdout",
     "output_type": "stream",
     "text": [
      "Y axis string value is: \n",
      "I am in 1st try\n"
     ]
    },
    {
     "name": "stderr",
     "output_type": "stream",
     "text": [
      "\r",
      "Processing files:  57%|██████████████████████████████████▉                          | 573/1000 [14:28<10:34,  1.49s/it]"
     ]
    },
    {
     "name": "stdout",
     "output_type": "stream",
     "text": [
      "Y axis string value is: 2,1.75,1.5,1.25,0.751,0.5\n",
      "I am in 1st try\n",
      "Y axis string corrected value is: [2.0, 1.75, 1.5, 1.25, 0.751, 0.5]\n",
      "I am in try\n"
     ]
    },
    {
     "name": "stderr",
     "output_type": "stream",
     "text": [
      "\r",
      "Processing files:  57%|███████████████████████████████████                          | 574/1000 [14:30<10:42,  1.51s/it]"
     ]
    },
    {
     "name": "stdout",
     "output_type": "stream",
     "text": [
      "Y axis string value is: 3.5e-7,3e-7,2.5e-7,2e-7,1.Se-7,1e-7,Se-8\n",
      "I am in 1st try\n",
      "Y axis string corrected value is: [3.5e-07, 3e-07, 2.5e-07, 2e-07, 1.5e-07, 1e-07, 5e-08]\n",
      "I am in try\n"
     ]
    },
    {
     "name": "stderr",
     "output_type": "stream",
     "text": [
      "\r",
      "Processing files:  57%|███████████████████████████████████                          | 575/1000 [14:31<10:28,  1.48s/it]"
     ]
    },
    {
     "name": "stdout",
     "output_type": "stream",
     "text": [
      "Y axis string value is: \n",
      "I am in 1st try\n"
     ]
    },
    {
     "name": "stderr",
     "output_type": "stream",
     "text": [
      "\r",
      "Processing files:  58%|███████████████████████████████████▏                         | 576/1000 [14:33<10:29,  1.48s/it]"
     ]
    },
    {
     "name": "stdout",
     "output_type": "stream",
     "text": [
      "Y axis string value is: 0.175,0.15,0.125,0.1,0.075,0.05,0.0251\n",
      "I am in 1st try\n",
      "Y axis string corrected value is: [0.175, 0.15, 0.125, 0.1, 0.075, 0.05, 0.0251]\n",
      "I am in try\n"
     ]
    },
    {
     "name": "stderr",
     "output_type": "stream",
     "text": [
      "\r",
      "Processing files:  58%|███████████████████████████████████▏                         | 577/1000 [14:34<10:37,  1.51s/it]"
     ]
    },
    {
     "name": "stdout",
     "output_type": "stream",
     "text": [
      "Y axis string value is: 0.00093,0.000929,0.000928,0.000927:,0.000926:,0.000925,0.000924\n",
      "I am in 1st try\n",
      "Y axis string corrected value is: [0.00093, 0.000929, 0.000928, 0.000925, 0.000924]\n",
      "I am in try\n"
     ]
    },
    {
     "name": "stderr",
     "output_type": "stream",
     "text": [
      "\r",
      "Processing files:  58%|███████████████████████████████████▎                         | 578/1000 [14:36<10:43,  1.53s/it]"
     ]
    },
    {
     "name": "stdout",
     "output_type": "stream",
     "text": [
      "Y axis string value is: 0.0035,0.003,0.0025,0.002,0.0015,0.001,0.0005\n",
      "I am in 1st try\n",
      "Y axis string corrected value is: [0.0035, 0.003, 0.0025, 0.002, 0.0015, 0.001, 0.0005]\n",
      "I am in try\n"
     ]
    },
    {
     "name": "stderr",
     "output_type": "stream",
     "text": [
      "\r",
      "Processing files:  58%|███████████████████████████████████▎                         | 579/1000 [14:37<10:24,  1.48s/it]"
     ]
    },
    {
     "name": "stdout",
     "output_type": "stream",
     "text": [
      "Y axis string value is: \n",
      "I am in 1st try\n"
     ]
    },
    {
     "name": "stderr",
     "output_type": "stream",
     "text": [
      "\r",
      "Processing files:  58%|███████████████████████████████████▍                         | 580/1000 [14:39<10:29,  1.50s/it]"
     ]
    },
    {
     "name": "stdout",
     "output_type": "stream",
     "text": [
      "Y axis string value is: 0.000022,0.008021,0.000020,0.000019,0.0000019,0.000018,0.00017,0.0000016,0.000015,0.00014,000013,0.000012,O.000011,cap\n",
      "I am in 1st try\n",
      "Y axis string corrected value is: [2.2e-05, 0.008021, 2e-05, 1.9e-05, 1.9e-06, 1.8e-05, 0.00017, 1.6e-06, 1.5e-05, 0.00014, 0.00013, 1.2e-05, 1.1e-05]\n",
      "I am in try\n"
     ]
    },
    {
     "name": "stderr",
     "output_type": "stream",
     "text": [
      "\r",
      "Processing files:  58%|███████████████████████████████████▍                         | 581/1000 [14:40<10:31,  1.51s/it]"
     ]
    },
    {
     "name": "stdout",
     "output_type": "stream",
     "text": [
      "Y axis string value is: 0.0025,0.002,0.0015,0.001,0.0005\n",
      "I am in 1st try\n",
      "Y axis string corrected value is: [0.0025, 0.002, 0.0015, 0.001, 0.0005]\n",
      "I am in try\n"
     ]
    },
    {
     "name": "stderr",
     "output_type": "stream",
     "text": [
      "\r",
      "Processing files:  58%|███████████████████████████████████▌                         | 582/1000 [14:42<10:27,  1.50s/it]"
     ]
    },
    {
     "name": "stdout",
     "output_type": "stream",
     "text": [
      "Y axis string value is: 0.1,0.08,0.06,0.04:,0.02\n",
      "I am in 1st try\n",
      "Y axis string corrected value is: [0.1, 0.08, 0.06, 0.02]\n",
      "I am in try\n"
     ]
    },
    {
     "name": "stderr",
     "output_type": "stream",
     "text": [
      "\r",
      "Processing files:  58%|███████████████████████████████████▌                         | 583/1000 [14:43<10:29,  1.51s/it]"
     ]
    },
    {
     "name": "stdout",
     "output_type": "stream",
     "text": [
      "Y axis string value is: 1.6e=,1.Se-,1.4e-,1.3e -,1.2e-,1.e-,1e-,9e-1\n",
      "I am in 1st try\n",
      "Y axis string corrected value is: [0.9]\n"
     ]
    },
    {
     "name": "stderr",
     "output_type": "stream",
     "text": [
      "\r",
      "Processing files:  58%|███████████████████████████████████▌                         | 584/1000 [14:45<10:39,  1.54s/it]"
     ]
    },
    {
     "name": "stdout",
     "output_type": "stream",
     "text": [
      "Y axis string value is: 0.025,0.0225,0.02,0.0175,0.015,0.0125\",0.01,0.0075\n",
      "I am in 1st try\n",
      "Y axis string corrected value is: [0.025, 0.0225, 0.02, 0.0175, 0.015, 0.01, 0.0075]\n",
      "I am in try\n"
     ]
    },
    {
     "name": "stderr",
     "output_type": "stream",
     "text": [
      "\r",
      "Processing files:  58%|███████████████████████████████████▋                         | 585/1000 [14:47<10:33,  1.53s/it]"
     ]
    },
    {
     "name": "stdout",
     "output_type": "stream",
     "text": [
      "Y axis string value is: 0.02,0.026,0.02,0.026,0.02,0.026,0.02\n",
      "I am in 1st try\n",
      "Y axis string corrected value is: [0.02, 0.026, 0.02, 0.026, 0.02, 0.026, 0.02]\n",
      "I am in try\n"
     ]
    },
    {
     "name": "stderr",
     "output_type": "stream",
     "text": [
      "\r",
      "Processing files:  59%|███████████████████████████████████▋                         | 586/1000 [14:48<10:36,  1.54s/it]"
     ]
    },
    {
     "name": "stdout",
     "output_type": "stream",
     "text": [
      "Y axis string value is: 3.5e-7,3e-7,2.5e-7,2e-7,1.5e-7,1e-7,Se-8\n",
      "I am in 1st try\n",
      "Y axis string corrected value is: [3.5e-07, 3e-07, 2.5e-07, 2e-07, 1.5e-07, 1e-07, 5e-08]\n",
      "I am in try\n"
     ]
    },
    {
     "name": "stderr",
     "output_type": "stream",
     "text": [
      "\r",
      "Processing files:  59%|███████████████████████████████████▊                         | 587/1000 [14:50<10:40,  1.55s/it]"
     ]
    },
    {
     "name": "stdout",
     "output_type": "stream",
     "text": [
      "Y axis string value is: 0.01 798,0.01797,0.01796;,0.017951,0.01794,0.01 793,0.01792\n",
      "I am in 1st try\n",
      "Y axis string corrected value is: [0.01797, 0.017951, 0.01794, 0.01792]\n",
      "I am in try\n"
     ]
    },
    {
     "name": "stderr",
     "output_type": "stream",
     "text": [
      "\r",
      "Processing files:  59%|███████████████████████████████████▊                         | 588/1000 [14:51<10:48,  1.58s/it]"
     ]
    },
    {
     "name": "stdout",
     "output_type": "stream",
     "text": [
      "Y axis string value is: 0.66,085,0.64,0.63,062,0.61,0.60,059,0.58,0.57,0.56,0.55,0.54,0.5?,Cap\n",
      "I am in 1st try\n",
      "Y axis string corrected value is: [0.66, 0.85, 0.64, 0.63, 0.62, 0.61, 0.6, 0.59, 0.58, 0.57, 0.56, 0.55, 0.54]\n",
      "I am in try\n"
     ]
    },
    {
     "name": "stderr",
     "output_type": "stream",
     "text": [
      "\r",
      "Processing files:  59%|███████████████████████████████████▉                         | 589/1000 [14:53<10:45,  1.57s/it]"
     ]
    },
    {
     "name": "stdout",
     "output_type": "stream",
     "text": [
      "Y axis string value is: <O000001,c_\n",
      "I am in 1st try\n",
      "Y axis string corrected value is: [1e-06]\n"
     ]
    },
    {
     "name": "stderr",
     "output_type": "stream",
     "text": [
      "\r",
      "Processing files:  59%|███████████████████████████████████▉                         | 590/1000 [14:54<10:37,  1.55s/it]"
     ]
    },
    {
     "name": "stdout",
     "output_type": "stream",
     "text": [
      "Y axis string value is: 0.212,0.21,0.208,0.206,0.204,0.202,0.2\n",
      "I am in 1st try\n",
      "Y axis string corrected value is: [0.212, 0.21, 0.208, 0.206, 0.204, 0.202, 0.2]\n",
      "I am in try\n"
     ]
    },
    {
     "name": "stderr",
     "output_type": "stream",
     "text": [
      "\r",
      "Processing files:  59%|████████████████████████████████████                         | 591/1000 [14:56<10:29,  1.54s/it]"
     ]
    },
    {
     "name": "stdout",
     "output_type": "stream",
     "text": [
      "Y axis string value is: 0.00075,0.0007,0.00065,0.0006,0.Ooo55,0.0005\n",
      "I am in 1st try\n",
      "Y axis string corrected value is: [0.00075, 0.0007, 0.00065, 0.0006, 0.055, 0.0005]\n",
      "I am in try\n"
     ]
    },
    {
     "name": "stderr",
     "output_type": "stream",
     "text": [
      "\r",
      "Processing files:  59%|████████████████████████████████████                         | 592/1000 [14:57<10:19,  1.52s/it]"
     ]
    },
    {
     "name": "stdout",
     "output_type": "stream",
     "text": [
      "Y axis string value is: 0.0000062,0.0000062,0.0000062,0.000006,0.0000061\n",
      "I am in 1st try\n",
      "Y axis string corrected value is: [6.2e-06, 6.2e-06, 6.2e-06, 6e-06, 6.1e-06]\n",
      "I am in try\n"
     ]
    },
    {
     "name": "stderr",
     "output_type": "stream",
     "text": [
      "\r",
      "Processing files:  59%|████████████████████████████████████▏                        | 593/1000 [14:59<10:24,  1.53s/it]"
     ]
    },
    {
     "name": "stdout",
     "output_type": "stream",
     "text": [
      "Y axis string value is: 7.9e-14,7.8e-14,7.7e-14,7.6e-14,7.5e-14,7.4e-14,7.3e-14,7.2e-147\n",
      "I am in 1st try\n",
      "Y axis string corrected value is: [7.9e-14, 7.8e-14, 7.7e-14, 7.6e-14, 7.5e-14, 7.4e-14, 7.3e-14, 7.2e-147]\n",
      "I am in try\n"
     ]
    },
    {
     "name": "stderr",
     "output_type": "stream",
     "text": [
      "\r",
      "Processing files:  59%|████████████████████████████████████▏                        | 594/1000 [15:00<10:12,  1.51s/it]"
     ]
    },
    {
     "name": "stdout",
     "output_type": "stream",
     "text": [
      "Y axis string value is: \n",
      "I am in 1st try\n"
     ]
    },
    {
     "name": "stderr",
     "output_type": "stream",
     "text": [
      "\r",
      "Processing files:  60%|████████████████████████████████████▎                        | 595/1000 [15:02<10:06,  1.50s/it]"
     ]
    },
    {
     "name": "stdout",
     "output_type": "stream",
     "text": [
      "Y axis string value is: 0.0016015,0.001601,0.0016005,0.0016,0.001 5995\n",
      "I am in 1st try\n",
      "Y axis string corrected value is: [0.0016015, 0.001601, 0.0016005, 0.0016]\n",
      "I am in try\n"
     ]
    },
    {
     "name": "stderr",
     "output_type": "stream",
     "text": [
      "\r",
      "Processing files:  60%|████████████████████████████████████▎                        | 596/1000 [15:03<10:01,  1.49s/it]"
     ]
    },
    {
     "name": "stdout",
     "output_type": "stream",
     "text": [
      "Y axis string value is: 0.175,0.15,0.125,0_,0.075,0.05,0.025\n",
      "I am in 1st try\n",
      "Y axis string corrected value is: [0.175, 0.15, 0.125, 0.075, 0.05, 0.025]\n",
      "I am in try\n"
     ]
    },
    {
     "name": "stderr",
     "output_type": "stream",
     "text": [
      "\r",
      "Processing files:  60%|████████████████████████████████████▍                        | 597/1000 [15:05<10:07,  1.51s/it]"
     ]
    },
    {
     "name": "stdout",
     "output_type": "stream",
     "text": [
      "Y axis string value is: 0.07,0.06,0.05,0.04,0.03;,0.02,0.01\n",
      "I am in 1st try\n",
      "Y axis string corrected value is: [0.07, 0.06, 0.05, 0.04, 0.02, 0.01]\n",
      "I am in try\n"
     ]
    },
    {
     "name": "stderr",
     "output_type": "stream",
     "text": [
      "\r",
      "Processing files:  60%|████████████████████████████████████▍                        | 598/1000 [15:07<10:20,  1.54s/it]"
     ]
    },
    {
     "name": "stdout",
     "output_type": "stream",
     "text": [
      "Y axis string value is: 0.000001 1,0.0o0001,0.0000010,O.oo000,9.Se-,9e -,8.Se-,8e -\n",
      "I am in 1st try\n",
      "Y axis string corrected value is: [1e-05, 1e-06, 0.0]\n",
      "I am in try\n"
     ]
    },
    {
     "name": "stderr",
     "output_type": "stream",
     "text": [
      "\r",
      "Processing files:  60%|████████████████████████████████████▌                        | 599/1000 [15:08<10:21,  1.55s/it]"
     ]
    },
    {
     "name": "stdout",
     "output_type": "stream",
     "text": [
      "Y axis string value is: 0.0046,0.0044,0.0042,0.0040,0.0028,0.0036,0.0034,0.0032,0.0030,0.0028,0.0026,0025,0.0024,0.0022,0.0020,0.0018,0.0016,Cap,0.0014\n",
      "I am in 1st try\n",
      "Y axis string corrected value is: [0.0046, 0.0044, 0.0042, 0.004, 0.0028, 0.0036, 0.0034, 0.0032, 0.003, 0.0028, 0.0026, 0.025, 0.0024, 0.0022, 0.002, 0.0018, 0.0016, 0.0014]\n",
      "I am in try\n"
     ]
    },
    {
     "name": "stderr",
     "output_type": "stream",
     "text": [
      "\r",
      "Processing files:  60%|████████████████████████████████████▌                        | 600/1000 [15:10<10:26,  1.57s/it]"
     ]
    },
    {
     "name": "stdout",
     "output_type": "stream",
     "text": [
      "Y axis string value is: 0.0075,0.0070,0.0035,00050,0.0055,0.0050,0.0045,0.0040,0.0035,0.0030,0.0025,0.0020,0.0015,0.00100,0.000050,0.00017,Cap\n",
      "I am in 1st try\n",
      "Y axis string corrected value is: [0.0075, 0.007, 0.0035, 0.005, 0.0055, 0.005, 0.0045, 0.004, 0.0035, 0.003, 0.0025, 0.002, 0.0015, 0.001, 5e-05, 0.00017]\n",
      "I am in try\n"
     ]
    },
    {
     "name": "stderr",
     "output_type": "stream",
     "text": [
      "\r",
      "Processing files:  60%|████████████████████████████████████▋                        | 601/1000 [15:11<10:19,  1.55s/it]"
     ]
    },
    {
     "name": "stdout",
     "output_type": "stream",
     "text": [
      "Y axis string value is: 0.07,0.06,0.05,,0.04:,0.03\n",
      "I am in 1st try\n"
     ]
    },
    {
     "name": "stderr",
     "output_type": "stream",
     "text": [
      "\r",
      "Processing files:  60%|████████████████████████████████████▋                        | 602/1000 [15:13<09:54,  1.49s/it]"
     ]
    },
    {
     "name": "stdout",
     "output_type": "stream",
     "text": [
      "Y axis string value is: \n",
      "I am in 1st try\n"
     ]
    },
    {
     "name": "stderr",
     "output_type": "stream",
     "text": [
      "\r",
      "Processing files:  60%|████████████████████████████████████▊                        | 603/1000 [15:14<09:48,  1.48s/it]"
     ]
    },
    {
     "name": "stdout",
     "output_type": "stream",
     "text": [
      "Y axis string value is: 1250,1000,750,500,250 \n",
      "I am in 1st try\n",
      "Y axis string corrected value is: [1250.0, 1000.0, 750.0, 500.0, 250.0]\n",
      "I am in try\n"
     ]
    },
    {
     "name": "stderr",
     "output_type": "stream",
     "text": [
      "\r",
      "Processing files:  60%|████████████████████████████████████▊                        | 604/1000 [15:16<09:53,  1.50s/it]"
     ]
    },
    {
     "name": "stdout",
     "output_type": "stream",
     "text": [
      "Y axis string value is: 0.009,0.008,0.007,0.006,0.005,0.004,0.003,0.002\n",
      "I am in 1st try\n",
      "Y axis string corrected value is: [0.009, 0.008, 0.007, 0.006, 0.005, 0.004, 0.003, 0.002]\n",
      "I am in try\n"
     ]
    },
    {
     "name": "stderr",
     "output_type": "stream",
     "text": [
      "\r",
      "Processing files:  60%|████████████████████████████████████▉                        | 605/1000 [15:17<10:04,  1.53s/it]"
     ]
    },
    {
     "name": "stdout",
     "output_type": "stream",
     "text": [
      "Y axis string value is: 0.007,0.006,0.005,0.004,0.003,0.002,0.001\n",
      "I am in 1st try\n",
      "Y axis string corrected value is: [0.007, 0.006, 0.005, 0.004, 0.003, 0.002, 0.001]\n",
      "I am in try\n"
     ]
    },
    {
     "name": "stderr",
     "output_type": "stream",
     "text": [
      "\r",
      "Processing files:  61%|████████████████████████████████████▉                        | 606/1000 [15:19<10:03,  1.53s/it]"
     ]
    },
    {
     "name": "stdout",
     "output_type": "stream",
     "text": [
      "Y axis string value is: 3.0277292\n",
      "I am in 1st try\n",
      "Y axis string corrected value is: [3.0277292]\n"
     ]
    },
    {
     "name": "stderr",
     "output_type": "stream",
     "text": [
      "\r",
      "Processing files:  61%|█████████████████████████████████████                        | 607/1000 [15:20<09:50,  1.50s/it]"
     ]
    },
    {
     "name": "stdout",
     "output_type": "stream",
     "text": [
      "Y axis string value is: \n",
      "I am in 1st try\n"
     ]
    },
    {
     "name": "stderr",
     "output_type": "stream",
     "text": [
      "\r",
      "Processing files:  61%|█████████████████████████████████████                        | 608/1000 [15:22<09:48,  1.50s/it]"
     ]
    },
    {
     "name": "stdout",
     "output_type": "stream",
     "text": [
      "Y axis string value is: 0.8,0.6,0_,0.2\n",
      "I am in 1st try\n",
      "Y axis string corrected value is: [0.8, 0.6, 0.2]\n",
      "I am in try\n"
     ]
    },
    {
     "name": "stderr",
     "output_type": "stream",
     "text": [
      "\r",
      "Processing files:  61%|█████████████████████████████████████▏                       | 609/1000 [15:23<09:51,  1.51s/it]"
     ]
    },
    {
     "name": "stdout",
     "output_type": "stream",
     "text": [
      "Y axis string value is: 0.00045,0.000440,0.0035,0.00030,0.005,0.000024\n",
      "I am in 1st try\n",
      "Y axis string corrected value is: [0.00045, 0.00044, 0.0035, 0.0003, 0.005, 2.4e-05]\n",
      "I am in try\n"
     ]
    },
    {
     "name": "stderr",
     "output_type": "stream",
     "text": [
      "\r",
      "Processing files:  61%|█████████████████████████████████████▏                       | 610/1000 [15:25<09:39,  1.49s/it]"
     ]
    },
    {
     "name": "stdout",
     "output_type": "stream",
     "text": [
      "Y axis string value is: \n",
      "I am in 1st try\n"
     ]
    },
    {
     "name": "stderr",
     "output_type": "stream",
     "text": [
      "\r",
      "Processing files:  61%|█████████████████████████████████████▎                       | 611/1000 [15:26<09:19,  1.44s/it]"
     ]
    },
    {
     "name": "stdout",
     "output_type": "stream",
     "text": [
      "Y axis string value is: \n",
      "I am in 1st try\n"
     ]
    },
    {
     "name": "stderr",
     "output_type": "stream",
     "text": [
      "\r",
      "Processing files:  61%|█████████████████████████████████████▎                       | 612/1000 [15:28<09:42,  1.50s/it]"
     ]
    },
    {
     "name": "stdout",
     "output_type": "stream",
     "text": [
      "Y axis string value is: [oo16 ]\n",
      "I am in 1st try\n",
      "Y axis string corrected value is: [16.0]\n"
     ]
    },
    {
     "name": "stderr",
     "output_type": "stream",
     "text": [
      "\r",
      "Processing files:  61%|█████████████████████████████████████▍                       | 613/1000 [15:29<09:48,  1.52s/it]"
     ]
    },
    {
     "name": "stdout",
     "output_type": "stream",
     "text": [
      "Y axis string value is: 0.03,0.025,0.02,0.015,0.01,0.005\n",
      "I am in 1st try\n",
      "Y axis string corrected value is: [0.03, 0.025, 0.02, 0.015, 0.01, 0.005]\n",
      "I am in try\n"
     ]
    },
    {
     "name": "stderr",
     "output_type": "stream",
     "text": [
      "\r",
      "Processing files:  61%|█████████████████████████████████████▍                       | 614/1000 [15:31<09:56,  1.55s/it]"
     ]
    },
    {
     "name": "stdout",
     "output_type": "stream",
     "text": [
      "Y axis string value is: 0.00004,0.000035,0.00003,,0.000025;,0.00002;,,0.0o0o1 5,0.00001,0.Ooooos\n",
      "I am in 1st try\n"
     ]
    },
    {
     "name": "stderr",
     "output_type": "stream",
     "text": [
      "\r",
      "Processing files:  62%|█████████████████████████████████████▌                       | 615/1000 [15:32<09:59,  1.56s/it]"
     ]
    },
    {
     "name": "stdout",
     "output_type": "stream",
     "text": [
      "Y axis string value is: 0.00175,0.001 51,0.00125',o.oo1/,0.00075,0.0005,0.00025\n",
      "I am in 1st try\n",
      "Y axis string corrected value is: [0.00175, 0.1, 0.00075, 0.0005, 0.00025]\n",
      "I am in try\n",
      "Y axis string value is: 0.006,0.005,0.004:,0.003,0.002,0.001\n",
      "I am in 1st try\n",
      "Y axis string corrected value is: [0.006, 0.005, 0.003, 0.002, 0.001]\n"
     ]
    },
    {
     "name": "stderr",
     "output_type": "stream",
     "text": [
      "\r",
      "Processing files:  62%|█████████████████████████████████████▌                       | 616/1000 [15:34<10:25,  1.63s/it]"
     ]
    },
    {
     "name": "stdout",
     "output_type": "stream",
     "text": [
      "I am in try\n"
     ]
    },
    {
     "name": "stderr",
     "output_type": "stream",
     "text": [
      "\r",
      "Processing files:  62%|█████████████████████████████████████▋                       | 617/1000 [15:36<10:12,  1.60s/it]"
     ]
    },
    {
     "name": "stdout",
     "output_type": "stream",
     "text": [
      "Y axis string value is: 0.0000023,0.0000022,0.0000021,0.0ooooz,0.0000019,0.000001 8,0.000001 7\n",
      "I am in 1st try\n",
      "Y axis string corrected value is: [2.3e-06, 2.2e-06, 2.1e-06, 0.0, 1.9e-06]\n",
      "I am in try\n"
     ]
    },
    {
     "name": "stderr",
     "output_type": "stream",
     "text": [
      "\r",
      "Processing files:  62%|█████████████████████████████████████▋                       | 618/1000 [15:37<09:51,  1.55s/it]"
     ]
    },
    {
     "name": "stdout",
     "output_type": "stream",
     "text": [
      "Y axis string value is: \n",
      "I am in 1st try\n"
     ]
    },
    {
     "name": "stderr",
     "output_type": "stream",
     "text": [
      "\r",
      "Processing files:  62%|█████████████████████████████████████▊                       | 619/1000 [15:38<09:31,  1.50s/it]"
     ]
    },
    {
     "name": "stdout",
     "output_type": "stream",
     "text": [
      "Y axis string value is: \n",
      "I am in 1st try\n"
     ]
    },
    {
     "name": "stderr",
     "output_type": "stream",
     "text": [
      "\r",
      "Processing files:  62%|█████████████████████████████████████▊                       | 620/1000 [15:40<09:33,  1.51s/it]"
     ]
    },
    {
     "name": "stdout",
     "output_type": "stream",
     "text": [
      "Y axis string value is: 9e-10 ,8e-1,7e-10X,6e-10:,Se-10`\n",
      "I am in 1st try\n",
      "Y axis string corrected value is: [9e-10, 0.8, 7e-10, 6e-10, 5e-10]\n",
      "I am in try\n"
     ]
    },
    {
     "name": "stderr",
     "output_type": "stream",
     "text": [
      "\r",
      "Processing files:  62%|█████████████████████████████████████▉                       | 621/1000 [15:41<09:21,  1.48s/it]"
     ]
    },
    {
     "name": "stdout",
     "output_type": "stream",
     "text": [
      "Y axis string value is: \n",
      "I am in 1st try\n"
     ]
    },
    {
     "name": "stderr",
     "output_type": "stream",
     "text": [
      "\r",
      "Processing files:  62%|█████████████████████████████████████▉                       | 622/1000 [15:43<09:15,  1.47s/it]"
     ]
    },
    {
     "name": "stdout",
     "output_type": "stream",
     "text": [
      "Y axis string value is: 2.5,2,1.5,0.5\n",
      "I am in 1st try\n",
      "Y axis string corrected value is: [2.5, 2.0, 1.5, 0.5]\n",
      "I am in try\n"
     ]
    },
    {
     "name": "stderr",
     "output_type": "stream",
     "text": [
      "\r",
      "Processing files:  62%|██████████████████████████████████████                       | 623/1000 [15:44<09:21,  1.49s/it]"
     ]
    },
    {
     "name": "stdout",
     "output_type": "stream",
     "text": [
      "Y axis string value is: 0.045,0.04,0.035',0.03,0.025,0.02,0.015,0.01,0.005\n",
      "I am in 1st try\n",
      "Y axis string corrected value is: [0.045, 0.04, 0.03, 0.025, 0.02, 0.015, 0.01, 0.005]\n",
      "I am in try\n"
     ]
    },
    {
     "name": "stderr",
     "output_type": "stream",
     "text": [
      "\r",
      "Processing files:  62%|██████████████████████████████████████                       | 624/1000 [15:46<09:14,  1.47s/it]"
     ]
    },
    {
     "name": "stdout",
     "output_type": "stream",
     "text": [
      "Y axis string value is: \n",
      "I am in 1st try\n"
     ]
    },
    {
     "name": "stderr",
     "output_type": "stream",
     "text": [
      "\r",
      "Processing files:  62%|██████████████████████████████████████▏                      | 625/1000 [15:47<09:13,  1.48s/it]"
     ]
    },
    {
     "name": "stdout",
     "output_type": "stream",
     "text": [
      "Y axis string value is: 0.0000316,0.0000316,0.0000316,0.0000316,0.0000316,0.0000316,0.0000316\n",
      "I am in 1st try\n",
      "Y axis string corrected value is: [3.16e-05, 3.16e-05, 3.16e-05, 3.16e-05, 3.16e-05, 3.16e-05, 3.16e-05]\n",
      "I am in try\n"
     ]
    },
    {
     "name": "stderr",
     "output_type": "stream",
     "text": [
      "\r",
      "Processing files:  63%|██████████████████████████████████████▏                      | 626/1000 [15:49<09:22,  1.50s/it]"
     ]
    },
    {
     "name": "stdout",
     "output_type": "stream",
     "text": [
      "Y axis string value is: 0.000001 7,O.oo0001,0.oo0001 2,O.ooo00,7.Se-,Se-,2.5e-\n",
      "I am in 1st try\n",
      "Y axis string corrected value is: [0.0001, 0.0]\n",
      "I am in try\n"
     ]
    },
    {
     "name": "stderr",
     "output_type": "stream",
     "text": [
      "\r",
      "Processing files:  63%|██████████████████████████████████████▏                      | 627/1000 [15:50<09:20,  1.50s/it]"
     ]
    },
    {
     "name": "stdout",
     "output_type": "stream",
     "text": [
      "Y axis string value is: 3.2451198\n",
      "I am in 1st try\n",
      "Y axis string corrected value is: [3.2451198]\n"
     ]
    },
    {
     "name": "stderr",
     "output_type": "stream",
     "text": [
      "\r",
      "Processing files:  63%|██████████████████████████████████████▎                      | 628/1000 [15:52<09:13,  1.49s/it]"
     ]
    },
    {
     "name": "stdout",
     "output_type": "stream",
     "text": [
      "Y axis string value is: \n",
      "I am in 1st try\n"
     ]
    },
    {
     "name": "stderr",
     "output_type": "stream",
     "text": [
      "\r",
      "Processing files:  63%|██████████████████████████████████████▎                      | 629/1000 [15:53<09:17,  1.50s/it]"
     ]
    },
    {
     "name": "stdout",
     "output_type": "stream",
     "text": [
      "Y axis string value is: 0.00015,0.000125,0.0001,0.000075:,0.00005,0.000025\n",
      "I am in 1st try\n",
      "Y axis string corrected value is: [0.00015, 0.000125, 0.0001, 5e-05, 2.5e-05]\n",
      "I am in try\n"
     ]
    },
    {
     "name": "stderr",
     "output_type": "stream",
     "text": [
      "\r",
      "Processing files:  63%|██████████████████████████████████████▍                      | 630/1000 [15:55<09:23,  1.52s/it]"
     ]
    },
    {
     "name": "stdout",
     "output_type": "stream",
     "text": [
      "Y axis string value is: 0.035,0.03,0.025,0.02,0.015,0.01,0.005\n",
      "I am in 1st try\n",
      "Y axis string corrected value is: [0.035, 0.03, 0.025, 0.02, 0.015, 0.01, 0.005]\n",
      "I am in try\n"
     ]
    },
    {
     "name": "stderr",
     "output_type": "stream",
     "text": [
      "\r",
      "Processing files:  63%|██████████████████████████████████████▍                      | 631/1000 [15:56<09:17,  1.51s/it]"
     ]
    },
    {
     "name": "stdout",
     "output_type": "stream",
     "text": [
      "Y axis string value is: 0.004,0.00,0.003,0.003,0.003,0.003,0.003,0.003\n",
      "I am in 1st try\n",
      "Y axis string corrected value is: [0.004, 0.0, 0.003, 0.003, 0.003, 0.003, 0.003, 0.003]\n",
      "I am in try\n"
     ]
    },
    {
     "name": "stderr",
     "output_type": "stream",
     "text": [
      "\r",
      "Processing files:  63%|██████████████████████████████████████▌                      | 632/1000 [15:58<09:20,  1.52s/it]"
     ]
    },
    {
     "name": "stdout",
     "output_type": "stream",
     "text": [
      "Y axis string value is: 0.02,0.0175,0.015,0.0125,0.01\n",
      "I am in 1st try\n",
      "Y axis string corrected value is: [0.02, 0.0175, 0.015, 0.0125, 0.01]\n",
      "I am in try\n"
     ]
    },
    {
     "name": "stderr",
     "output_type": "stream",
     "text": [
      "\r",
      "Processing files:  63%|██████████████████████████████████████▌                      | 633/1000 [16:00<09:19,  1.52s/it]"
     ]
    },
    {
     "name": "stdout",
     "output_type": "stream",
     "text": [
      "Y axis string value is: 0.0025,0.002,0.001 5L,0.001,0.0005\n",
      "I am in 1st try\n",
      "Y axis string corrected value is: [0.0025, 0.002, 0.001, 0.0005]\n",
      "I am in try\n"
     ]
    },
    {
     "name": "stderr",
     "output_type": "stream",
     "text": [
      "\r",
      "Processing files:  63%|██████████████████████████████████████▋                      | 634/1000 [16:01<09:02,  1.48s/it]"
     ]
    },
    {
     "name": "stdout",
     "output_type": "stream",
     "text": [
      "Y axis string value is: \n",
      "I am in 1st try\n"
     ]
    },
    {
     "name": "stderr",
     "output_type": "stream",
     "text": [
      "\r",
      "Processing files:  64%|██████████████████████████████████████▋                      | 635/1000 [16:02<09:10,  1.51s/it]"
     ]
    },
    {
     "name": "stdout",
     "output_type": "stream",
     "text": [
      "Y axis string value is: 0.0005,0.0004',0.0003,0.0002,0.0001\n",
      "I am in 1st try\n",
      "Y axis string corrected value is: [0.0005, 0.0003, 0.0002, 0.0001]\n",
      "I am in try\n"
     ]
    },
    {
     "name": "stderr",
     "output_type": "stream",
     "text": [
      "\r",
      "Processing files:  64%|██████████████████████████████████████▊                      | 636/1000 [16:04<08:59,  1.48s/it]"
     ]
    },
    {
     "name": "stdout",
     "output_type": "stream",
     "text": [
      "Y axis string value is: \n",
      "I am in 1st try\n"
     ]
    },
    {
     "name": "stderr",
     "output_type": "stream",
     "text": [
      "\r",
      "Processing files:  64%|██████████████████████████████████████▊                      | 637/1000 [16:05<08:57,  1.48s/it]"
     ]
    },
    {
     "name": "stdout",
     "output_type": "stream",
     "text": [
      "Y axis string value is: 7.817,7.81,7.812,7.8,7.807,7.80,7.802\n",
      "I am in 1st try\n",
      "Y axis string corrected value is: [7.817, 7.81, 7.812, 7.8, 7.807, 7.8, 7.802]\n",
      "I am in try\n"
     ]
    },
    {
     "name": "stderr",
     "output_type": "stream",
     "text": [
      "\r",
      "Processing files:  64%|██████████████████████████████████████▉                      | 638/1000 [16:07<09:25,  1.56s/it]"
     ]
    },
    {
     "name": "stdout",
     "output_type": "stream",
     "text": [
      "Y axis string value is: \n",
      "I am in 1st try\n"
     ]
    },
    {
     "name": "stderr",
     "output_type": "stream",
     "text": [
      "\r",
      "Processing files:  64%|██████████████████████████████████████▉                      | 639/1000 [16:09<09:14,  1.54s/it]"
     ]
    },
    {
     "name": "stdout",
     "output_type": "stream",
     "text": [
      "Y axis string value is: \n",
      "I am in 1st try\n"
     ]
    },
    {
     "name": "stderr",
     "output_type": "stream",
     "text": [
      "\r",
      "Processing files:  64%|███████████████████████████████████████                      | 640/1000 [16:10<09:09,  1.53s/it]"
     ]
    },
    {
     "name": "stdout",
     "output_type": "stream",
     "text": [
      "Y axis string value is: 0.0175,0.015,0.01251,0.01,0.0075,0.005\n",
      "I am in 1st try\n",
      "Y axis string corrected value is: [0.0175, 0.015, 0.01251, 0.01, 0.0075, 0.005]\n",
      "I am in try\n"
     ]
    },
    {
     "name": "stderr",
     "output_type": "stream",
     "text": [
      "\r",
      "Processing files:  64%|███████████████████████████████████████                      | 641/1000 [16:12<09:17,  1.55s/it]"
     ]
    },
    {
     "name": "stdout",
     "output_type": "stream",
     "text": [
      "Y axis string value is: 0.00001,0.000008,0.000006,0.000004,0.000002\n",
      "I am in 1st try\n",
      "Y axis string corrected value is: [1e-05, 8e-06, 6e-06, 4e-06, 2e-06]\n",
      "I am in try\n"
     ]
    },
    {
     "name": "stderr",
     "output_type": "stream",
     "text": [
      "\r",
      "Processing files:  64%|███████████████████████████████████████▏                     | 642/1000 [16:13<09:17,  1.56s/it]"
     ]
    },
    {
     "name": "stdout",
     "output_type": "stream",
     "text": [
      "Y axis string value is: 0.3,0.25,0.2,0.15,0.1,0.05\n",
      "I am in 1st try\n",
      "Y axis string corrected value is: [0.3, 0.25, 0.2, 0.15, 0.1, 0.05]\n",
      "I am in try\n"
     ]
    },
    {
     "name": "stderr",
     "output_type": "stream",
     "text": [
      "\r",
      "Processing files:  64%|███████████████████████████████████████▏                     | 643/1000 [16:15<09:01,  1.52s/it]"
     ]
    },
    {
     "name": "stdout",
     "output_type": "stream",
     "text": [
      "Y axis string value is: \n",
      "I am in 1st try\n"
     ]
    },
    {
     "name": "stderr",
     "output_type": "stream",
     "text": [
      "\r",
      "Processing files:  64%|███████████████████████████████████████▎                     | 644/1000 [16:16<08:57,  1.51s/it]"
     ]
    },
    {
     "name": "stdout",
     "output_type": "stream",
     "text": [
      "Y axis string value is: 0.00195,0.0019,0.00185,0.0018,0.00175,0.001,0.00165,0.0016\n",
      "I am in 1st try\n",
      "Y axis string corrected value is: [0.00195, 0.0019, 0.00185, 0.0018, 0.00175, 0.001, 0.00165, 0.0016]\n",
      "I am in try\n"
     ]
    },
    {
     "name": "stderr",
     "output_type": "stream",
     "text": [
      "\r",
      "Processing files:  64%|███████████████████████████████████████▎                     | 645/1000 [16:18<08:57,  1.51s/it]"
     ]
    },
    {
     "name": "stdout",
     "output_type": "stream",
     "text": [
      "Y axis string value is: 0.000325,0.0003,0.000275,0.00025:,0.000225,0.0002\n",
      "I am in 1st try\n",
      "Y axis string corrected value is: [0.000325, 0.0003, 0.000275, 0.000225, 0.0002]\n",
      "I am in try\n"
     ]
    },
    {
     "name": "stderr",
     "output_type": "stream",
     "text": [
      "\r",
      "Processing files:  65%|███████████████████████████████████████▍                     | 646/1000 [16:19<08:52,  1.50s/it]"
     ]
    },
    {
     "name": "stdout",
     "output_type": "stream",
     "text": [
      "Y axis string value is: 29.478788\n",
      "I am in 1st try\n",
      "Y axis string corrected value is: [29.478788]\n"
     ]
    },
    {
     "name": "stderr",
     "output_type": "stream",
     "text": [
      "\r",
      "Processing files:  65%|███████████████████████████████████████▍                     | 647/1000 [16:21<08:53,  1.51s/it]"
     ]
    },
    {
     "name": "stdout",
     "output_type": "stream",
     "text": [
      "Y axis string value is: 0.0045,0.004,0.0035,0.003,0.0025,0.002,0.0015\n",
      "I am in 1st try\n",
      "Y axis string corrected value is: [0.0045, 0.004, 0.0035, 0.003, 0.0025, 0.002, 0.0015]\n",
      "I am in try\n"
     ]
    },
    {
     "name": "stderr",
     "output_type": "stream",
     "text": [
      "\r",
      "Processing files:  65%|███████████████████████████████████████▌                     | 648/1000 [16:22<08:37,  1.47s/it]"
     ]
    },
    {
     "name": "stdout",
     "output_type": "stream",
     "text": [
      "Y axis string value is: \n",
      "I am in 1st try\n"
     ]
    },
    {
     "name": "stderr",
     "output_type": "stream",
     "text": [
      "\r",
      "Processing files:  65%|███████████████████████████████████████▌                     | 649/1000 [16:24<08:42,  1.49s/it]"
     ]
    },
    {
     "name": "stdout",
     "output_type": "stream",
     "text": [
      "Y axis string value is: 700,600,500/,400L,|,300:,200,100\n",
      "I am in 1st try\n",
      "Y axis string corrected value is: [700.0, 600.0, 4001.0, 200.0, 100.0]\n"
     ]
    },
    {
     "name": "stderr",
     "output_type": "stream",
     "text": [
      "\r",
      "Processing files:  65%|███████████████████████████████████████▋                     | 650/1000 [16:25<08:35,  1.47s/it]"
     ]
    },
    {
     "name": "stdout",
     "output_type": "stream",
     "text": [
      "Y axis string value is: \n",
      "I am in 1st try\n"
     ]
    },
    {
     "name": "stderr",
     "output_type": "stream",
     "text": [
      "\r",
      "Processing files:  65%|███████████████████████████████████████▋                     | 651/1000 [16:26<08:28,  1.46s/it]"
     ]
    },
    {
     "name": "stdout",
     "output_type": "stream",
     "text": [
      "Y axis string value is: \n",
      "I am in 1st try\n"
     ]
    },
    {
     "name": "stderr",
     "output_type": "stream",
     "text": [
      "\r",
      "Processing files:  65%|███████████████████████████████████████▊                     | 652/1000 [16:28<08:23,  1.45s/it]"
     ]
    },
    {
     "name": "stdout",
     "output_type": "stream",
     "text": [
      "Y axis string value is: OOOOOO1\n",
      "I am in 1st try\n",
      "Y axis string corrected value is: [1e-06]\n"
     ]
    },
    {
     "name": "stderr",
     "output_type": "stream",
     "text": [
      "\r",
      "Processing files:  65%|███████████████████████████████████████▊                     | 653/1000 [16:29<08:17,  1.43s/it]"
     ]
    },
    {
     "name": "stdout",
     "output_type": "stream",
     "text": [
      "Y axis string value is: \n",
      "I am in 1st try\n"
     ]
    },
    {
     "name": "stderr",
     "output_type": "stream",
     "text": [
      "\r",
      "Processing files:  65%|███████████████████████████████████████▉                     | 654/1000 [16:31<08:14,  1.43s/it]"
     ]
    },
    {
     "name": "stdout",
     "output_type": "stream",
     "text": [
      "Y axis string value is: \n",
      "I am in 1st try\n"
     ]
    },
    {
     "name": "stderr",
     "output_type": "stream",
     "text": [
      "\r",
      "Processing files:  66%|███████████████████████████████████████▉                     | 655/1000 [16:32<08:22,  1.46s/it]"
     ]
    },
    {
     "name": "stdout",
     "output_type": "stream",
     "text": [
      "Y axis string value is: 0.0000026,0.0000026,0.000002,0.0000025,0.0000025,0.0000o25,0.0000025,0.0000025\n",
      "I am in 1st try\n",
      "Y axis string corrected value is: [2.6e-06, 2.6e-06, 2e-06, 2.5e-06, 2.5e-06, 2.5e-05, 2.5e-06, 2.5e-06]\n",
      "I am in try\n"
     ]
    },
    {
     "name": "stderr",
     "output_type": "stream",
     "text": [
      "\r",
      "Processing files:  66%|████████████████████████████████████████                     | 656/1000 [16:34<08:28,  1.48s/it]"
     ]
    },
    {
     "name": "stdout",
     "output_type": "stream",
     "text": [
      "Y axis string value is: 0.5,0.4.,0.3,0.2,0.1\n",
      "I am in 1st try\n",
      "Y axis string corrected value is: [0.5, 0.3, 0.2, 0.1]\n",
      "I am in try\n"
     ]
    },
    {
     "name": "stderr",
     "output_type": "stream",
     "text": [
      "\r",
      "Processing files:  66%|████████████████████████████████████████                     | 657/1000 [16:35<08:22,  1.47s/it]"
     ]
    },
    {
     "name": "stdout",
     "output_type": "stream",
     "text": [
      "Y axis string value is: \n",
      "I am in 1st try\n"
     ]
    },
    {
     "name": "stderr",
     "output_type": "stream",
     "text": [
      "Processing files:  66%|████████████████████████████████████████▏                    | 659/1000 [16:38<08:15,  1.45s/it]"
     ]
    },
    {
     "name": "stdout",
     "output_type": "stream",
     "text": [
      "Y axis string value is: 03,0.3,0.5_,0.2:\n",
      "I am in 1st try\n",
      "Y axis string corrected value is: [0.3, 0.3]\n",
      "I am in try\n"
     ]
    },
    {
     "name": "stderr",
     "output_type": "stream",
     "text": [
      "\r",
      "Processing files:  66%|████████████████████████████████████████▎                    | 660/1000 [16:40<08:27,  1.49s/it]"
     ]
    },
    {
     "name": "stdout",
     "output_type": "stream",
     "text": [
      "Y axis string value is: 7.8e-11,7.6e-11,7.4e-11,7.2e-11,7e-11,6.8e-11\n",
      "I am in 1st try\n",
      "Y axis string corrected value is: [7.8e-11, 7.6e-11, 7.4e-11, 7.2e-11, 7e-11, 6.8e-11]\n",
      "I am in try\n"
     ]
    },
    {
     "name": "stderr",
     "output_type": "stream",
     "text": [
      "\r",
      "Processing files:  66%|████████████████████████████████████████▎                    | 661/1000 [16:41<08:29,  1.50s/it]"
     ]
    },
    {
     "name": "stdout",
     "output_type": "stream",
     "text": [
      "Y axis string value is: 0.1239,0.1238,0.1237,0.1236,0.1235,0.1234\n",
      "I am in 1st try\n",
      "Y axis string corrected value is: [0.1239, 0.1238, 0.1237, 0.1236, 0.1235, 0.1234]\n",
      "I am in try\n"
     ]
    },
    {
     "name": "stderr",
     "output_type": "stream",
     "text": [
      "\r",
      "Processing files:  66%|████████████████████████████████████████▍                    | 662/1000 [16:43<08:19,  1.48s/it]"
     ]
    },
    {
     "name": "stdout",
     "output_type": "stream",
     "text": [
      "Y axis string value is: \n",
      "I am in 1st try\n"
     ]
    },
    {
     "name": "stderr",
     "output_type": "stream",
     "text": [
      "\r",
      "Processing files:  66%|████████████████████████████████████████▍                    | 663/1000 [16:44<08:13,  1.46s/it]"
     ]
    },
    {
     "name": "stdout",
     "output_type": "stream",
     "text": [
      "Y axis string value is: 0.00002,O.oo001 5,0.00001,0.000005\n",
      "I am in 1st try\n",
      "Y axis string corrected value is: [2e-05, 1e-05, 5e-06]\n",
      "I am in try\n"
     ]
    },
    {
     "name": "stderr",
     "output_type": "stream",
     "text": [
      "\r",
      "Processing files:  66%|████████████████████████████████████████▌                    | 664/1000 [16:46<08:19,  1.49s/it]"
     ]
    },
    {
     "name": "stdout",
     "output_type": "stream",
     "text": [
      "Y axis string value is: 0.30,0.28,0.26,024,022,0.20,0.18,0.16,0.14,0.12,0.10,0.080,6.0i1,Cap,0.060\n",
      "I am in 1st try\n",
      "Y axis string corrected value is: [0.3, 0.28, 0.26, 0.24, 0.22, 0.2, 0.18, 0.16, 0.14, 0.12, 0.1, 0.08, 6.01, 0.06]\n",
      "I am in try\n"
     ]
    },
    {
     "name": "stderr",
     "output_type": "stream",
     "text": [
      "\r",
      "Processing files:  66%|████████████████████████████████████████▌                    | 665/1000 [16:47<08:11,  1.47s/it]"
     ]
    },
    {
     "name": "stdout",
     "output_type": "stream",
     "text": [
      "Y axis string value is: \n",
      "I am in 1st try\n"
     ]
    },
    {
     "name": "stderr",
     "output_type": "stream",
     "text": [
      "\r",
      "Processing files:  67%|████████████████████████████████████████▋                    | 666/1000 [16:48<08:11,  1.47s/it]"
     ]
    },
    {
     "name": "stdout",
     "output_type": "stream",
     "text": [
      "Y axis string value is: 0.8,0.E,0,0.2\n",
      "I am in 1st try\n",
      "Y axis string corrected value is: [0.8, 0.0, 0.0, 0.2]\n",
      "I am in try\n"
     ]
    },
    {
     "name": "stderr",
     "output_type": "stream",
     "text": [
      "\r",
      "Processing files:  67%|████████████████████████████████████████▋                    | 667/1000 [16:50<08:11,  1.48s/it]"
     ]
    },
    {
     "name": "stdout",
     "output_type": "stream",
     "text": [
      "Y axis string value is: 0.025,0.02/,0.015,0.01,0.005\n",
      "I am in 1st try\n",
      "Y axis string corrected value is: [0.025, 0.015, 0.01, 0.005]\n",
      "I am in try\n"
     ]
    },
    {
     "name": "stderr",
     "output_type": "stream",
     "text": [
      "\r",
      "Processing files:  67%|████████████████████████████████████████▋                    | 668/1000 [16:52<08:20,  1.51s/it]"
     ]
    },
    {
     "name": "stdout",
     "output_type": "stream",
     "text": [
      "Y axis string value is: 2,1.8,1.6,1.4.,1.2\n",
      "I am in 1st try\n",
      "Y axis string corrected value is: [2.0, 1.8, 1.6, 1.2]\n",
      "I am in try\n"
     ]
    },
    {
     "name": "stderr",
     "output_type": "stream",
     "text": [
      "\r",
      "Processing files:  67%|████████████████████████████████████████▊                    | 669/1000 [16:53<08:18,  1.51s/it]"
     ]
    },
    {
     "name": "stdout",
     "output_type": "stream",
     "text": [
      "Y axis string value is: 0.O0005,0.00004,0.00003,0.00002;,0.oo001\n",
      "I am in 1st try\n",
      "Y axis string corrected value is: [5e-05, 4e-05, 3e-05, 0.001]\n",
      "I am in try\n"
     ]
    },
    {
     "name": "stderr",
     "output_type": "stream",
     "text": [
      "\r",
      "Processing files:  67%|████████████████████████████████████████▊                    | 670/1000 [16:55<08:18,  1.51s/it]"
     ]
    },
    {
     "name": "stdout",
     "output_type": "stream",
     "text": [
      "Y axis string value is: 0.25,0.2,0.15,0.1,0.05\n",
      "I am in 1st try\n",
      "Y axis string corrected value is: [0.25, 0.2, 0.15, 0.1, 0.05]\n",
      "I am in try\n"
     ]
    },
    {
     "name": "stderr",
     "output_type": "stream",
     "text": [
      "\r",
      "Processing files:  67%|████████████████████████████████████████▉                    | 671/1000 [16:56<08:03,  1.47s/it]"
     ]
    },
    {
     "name": "stdout",
     "output_type": "stream",
     "text": [
      "Y axis string value is: \n",
      "I am in 1st try\n"
     ]
    },
    {
     "name": "stderr",
     "output_type": "stream",
     "text": [
      "\r",
      "Processing files:  67%|████████████████████████████████████████▉                    | 672/1000 [16:58<08:14,  1.51s/it]"
     ]
    },
    {
     "name": "stdout",
     "output_type": "stream",
     "text": [
      "Y axis string value is: 0.39,0.38,0.38,0.37,0.37,0.36,0.36,0.35,0.35,3v,0.34,0.33,0.33,0.32,0.32,0.31,Cap\n",
      "I am in 1st try\n",
      "Y axis string corrected value is: [0.39, 0.38, 0.38, 0.37, 0.37, 0.36, 0.36, 0.35, 0.35, 3.0, 0.34, 0.33, 0.33, 0.32, 0.32, 0.31]\n",
      "I am in try\n"
     ]
    },
    {
     "name": "stderr",
     "output_type": "stream",
     "text": [
      "\r",
      "Processing files:  67%|█████████████████████████████████████████                    | 673/1000 [16:59<08:08,  1.49s/it]"
     ]
    },
    {
     "name": "stdout",
     "output_type": "stream",
     "text": [
      "Y axis string value is: \n",
      "I am in 1st try\n"
     ]
    },
    {
     "name": "stderr",
     "output_type": "stream",
     "text": [
      "\r",
      "Processing files:  67%|█████████████████████████████████████████                    | 674/1000 [17:00<07:58,  1.47s/it]"
     ]
    },
    {
     "name": "stdout",
     "output_type": "stream",
     "text": [
      "Y axis string value is: \n",
      "I am in 1st try\n"
     ]
    },
    {
     "name": "stderr",
     "output_type": "stream",
     "text": [
      "\r",
      "Processing files:  68%|█████████████████████████████████████████▏                   | 675/1000 [17:02<07:58,  1.47s/it]"
     ]
    },
    {
     "name": "stdout",
     "output_type": "stream",
     "text": [
      "Y axis string value is: 0.015,0.0125,0.01,0.0075,0.005,0.0025\n",
      "I am in 1st try\n",
      "Y axis string corrected value is: [0.015, 0.0125, 0.01, 0.0075, 0.005, 0.0025]\n",
      "I am in try\n"
     ]
    },
    {
     "name": "stderr",
     "output_type": "stream",
     "text": [
      "\r",
      "Processing files:  68%|█████████████████████████████████████████▏                   | 676/1000 [17:03<08:05,  1.50s/it]"
     ]
    },
    {
     "name": "stdout",
     "output_type": "stream",
     "text": [
      "Y axis string value is: 1.8e-7,1.6e-7,1.4e-7,1.2e-76,Ie-7,8e-8\n",
      "I am in 1st try\n",
      "Y axis string corrected value is: [1.8e-07, 1.6e-07, 1.4e-07, 1.2e-76, 1e-07, 8e-08]\n",
      "I am in try\n"
     ]
    },
    {
     "name": "stderr",
     "output_type": "stream",
     "text": [
      "\r",
      "Processing files:  68%|█████████████████████████████████████████▎                   | 677/1000 [17:05<08:03,  1.50s/it]"
     ]
    },
    {
     "name": "stdout",
     "output_type": "stream",
     "text": [
      "Y axis string value is: 125,100,75,50,25\n",
      "I am in 1st try\n",
      "Y axis string corrected value is: [125.0, 100.0, 75.0, 50.0, 25.0]\n",
      "I am in try\n"
     ]
    },
    {
     "name": "stderr",
     "output_type": "stream",
     "text": [
      "\r",
      "Processing files:  68%|█████████████████████████████████████████▎                   | 678/1000 [17:06<07:55,  1.48s/it]"
     ]
    },
    {
     "name": "stdout",
     "output_type": "stream",
     "text": [
      "Y axis string value is: \n",
      "I am in 1st try\n"
     ]
    },
    {
     "name": "stderr",
     "output_type": "stream",
     "text": [
      "\r",
      "Processing files:  68%|█████████████████████████████████████████▍                   | 679/1000 [17:08<07:53,  1.48s/it]"
     ]
    },
    {
     "name": "stdout",
     "output_type": "stream",
     "text": [
      "Y axis string value is: 120,11.5,11.0,10.5,10.0,9.5,9.0,8.5,8.0,7.5\n",
      "I am in 1st try\n",
      "Y axis string corrected value is: [120.0, 11.5, 11.0, 10.5, 10.0, 9.5, 9.0, 8.5, 8.0, 7.5]\n",
      "I am in try\n"
     ]
    },
    {
     "name": "stderr",
     "output_type": "stream",
     "text": [
      "\r",
      "Processing files:  68%|█████████████████████████████████████████▍                   | 680/1000 [17:09<07:59,  1.50s/it]"
     ]
    },
    {
     "name": "stdout",
     "output_type": "stream",
     "text": [
      "Y axis string value is: 0.0000311,0.000031,0.0000310,0.00003,0.0000309\n",
      "I am in 1st try\n",
      "Y axis string corrected value is: [3.11e-05, 3.1e-05, 3.1e-05, 3e-05, 3.09e-05]\n",
      "I am in try\n"
     ]
    },
    {
     "name": "stderr",
     "output_type": "stream",
     "text": [
      "\r",
      "Processing files:  68%|█████████████████████████████████████████▌                   | 681/1000 [17:11<08:05,  1.52s/it]"
     ]
    },
    {
     "name": "stdout",
     "output_type": "stream",
     "text": [
      "Y axis string value is: 0.038,0.036,0.034,0.032,0.03,0.028\n",
      "I am in 1st try\n",
      "Y axis string corrected value is: [0.038, 0.036, 0.034, 0.032, 0.03, 0.028]\n",
      "I am in try\n"
     ]
    },
    {
     "name": "stderr",
     "output_type": "stream",
     "text": [
      "\r",
      "Processing files:  68%|█████████████████████████████████████████▌                   | 682/1000 [17:12<07:50,  1.48s/it]"
     ]
    },
    {
     "name": "stdout",
     "output_type": "stream",
     "text": [
      "Y axis string value is: \n",
      "I am in 1st try\n"
     ]
    },
    {
     "name": "stderr",
     "output_type": "stream",
     "text": [
      "\r",
      "Processing files:  68%|█████████████████████████████████████████▋                   | 683/1000 [17:14<07:45,  1.47s/it]"
     ]
    },
    {
     "name": "stdout",
     "output_type": "stream",
     "text": [
      "Y axis string value is: 1.8,1.6,1.4,1.2,0.8:,0.6\n",
      "I am in 1st try\n",
      "Y axis string corrected value is: [1.8, 1.6, 1.4, 1.2, 0.6]\n",
      "I am in try\n"
     ]
    },
    {
     "name": "stderr",
     "output_type": "stream",
     "text": [
      "\r",
      "Processing files:  68%|█████████████████████████████████████████▋                   | 684/1000 [17:15<07:43,  1.47s/it]"
     ]
    },
    {
     "name": "stdout",
     "output_type": "stream",
     "text": [
      "Y axis string value is: 0.4,0.35,0.3,0.22,0.15,0.1,0.254\n",
      "I am in 1st try\n",
      "Y axis string corrected value is: [0.4, 0.35, 0.3, 0.22, 0.15, 0.1, 0.254]\n",
      "I am in try\n"
     ]
    },
    {
     "name": "stderr",
     "output_type": "stream",
     "text": [
      "\r",
      "Processing files:  68%|█████████████████████████████████████████▊                   | 685/1000 [17:17<07:40,  1.46s/it]"
     ]
    },
    {
     "name": "stdout",
     "output_type": "stream",
     "text": [
      "Y axis string value is: \n",
      "I am in 1st try\n"
     ]
    },
    {
     "name": "stderr",
     "output_type": "stream",
     "text": [
      "\r",
      "Processing files:  69%|█████████████████████████████████████████▊                   | 686/1000 [17:18<07:42,  1.47s/it]"
     ]
    },
    {
     "name": "stdout",
     "output_type": "stream",
     "text": [
      "Y axis string value is: 0.4,035,0.3,0.25,0.2,0.15,0.1,0.05\n",
      "I am in 1st try\n",
      "Y axis string corrected value is: [0.4, 0.35, 0.3, 0.25, 0.2, 0.15, 0.1, 0.05]\n",
      "I am in try\n"
     ]
    },
    {
     "name": "stderr",
     "output_type": "stream",
     "text": [
      "\r",
      "Processing files:  69%|█████████████████████████████████████████▉                   | 687/1000 [17:20<07:49,  1.50s/it]"
     ]
    },
    {
     "name": "stdout",
     "output_type": "stream",
     "text": [
      "Y axis string value is: 2.75e-9,2.5e-9,2.25e-9:,2e-9,1.75e-9,1.Se-9\n",
      "I am in 1st try\n",
      "Y axis string corrected value is: [2.75e-09, 2.5e-09, 2.25e-09, 2e-09, 1.75e-09, 1.5e-09]\n",
      "I am in try\n"
     ]
    },
    {
     "name": "stderr",
     "output_type": "stream",
     "text": [
      "\r",
      "Processing files:  69%|█████████████████████████████████████████▉                   | 688/1000 [17:21<07:50,  1.51s/it]"
     ]
    },
    {
     "name": "stdout",
     "output_type": "stream",
     "text": [
      "Y axis string value is: 0.9,0.8,,0.7,0.6\n",
      "I am in 1st try\n"
     ]
    },
    {
     "name": "stderr",
     "output_type": "stream",
     "text": [
      "\r",
      "Processing files:  69%|██████████████████████████████████████████                   | 689/1000 [17:23<07:41,  1.48s/it]"
     ]
    },
    {
     "name": "stdout",
     "output_type": "stream",
     "text": [
      "Y axis string value is: \n",
      "I am in 1st try\n"
     ]
    },
    {
     "name": "stderr",
     "output_type": "stream",
     "text": [
      "\r",
      "Processing files:  69%|██████████████████████████████████████████                   | 690/1000 [17:24<07:41,  1.49s/it]"
     ]
    },
    {
     "name": "stdout",
     "output_type": "stream",
     "text": [
      "Y axis string value is: 4.2,4.15,4.1,4.052,4 .,3.95\n",
      "I am in 1st try\n",
      "Y axis string corrected value is: [4.2, 4.15, 4.1, 4.052, 3.95]\n",
      "I am in try\n"
     ]
    },
    {
     "name": "stderr",
     "output_type": "stream",
     "text": [
      "\r",
      "Processing files:  69%|██████████████████████████████████████████▏                  | 691/1000 [17:26<07:36,  1.48s/it]"
     ]
    },
    {
     "name": "stdout",
     "output_type": "stream",
     "text": [
      "Y axis string value is: \n",
      "I am in 1st try\n"
     ]
    },
    {
     "name": "stderr",
     "output_type": "stream",
     "text": [
      "\r",
      "Processing files:  69%|██████████████████████████████████████████▏                  | 692/1000 [17:27<07:38,  1.49s/it]"
     ]
    },
    {
     "name": "stdout",
     "output_type": "stream",
     "text": [
      "Y axis string value is: 1.0007,1.0006,1.0005,1.0004,10003,1OOO?,10001\n",
      "I am in 1st try\n",
      "Y axis string corrected value is: [1.0007, 1.0006, 1.0005, 1.0004, 10003.0, 1000.0, 10001.0]\n",
      "I am in try\n"
     ]
    },
    {
     "name": "stderr",
     "output_type": "stream",
     "text": [
      "\r",
      "Processing files:  69%|██████████████████████████████████████████▎                  | 693/1000 [17:29<07:39,  1.50s/it]"
     ]
    },
    {
     "name": "stdout",
     "output_type": "stream",
     "text": [
      "Y axis string value is: 0.325,0.3,0.275,0.25,0.225,0.2,0.175,0.15\n",
      "I am in 1st try\n",
      "Y axis string corrected value is: [0.325, 0.3, 0.275, 0.25, 0.225, 0.2, 0.175, 0.15]\n",
      "I am in try\n"
     ]
    },
    {
     "name": "stderr",
     "output_type": "stream",
     "text": [
      "\r",
      "Processing files:  69%|██████████████████████████████████████████▎                  | 694/1000 [17:30<07:34,  1.49s/it]"
     ]
    },
    {
     "name": "stdout",
     "output_type": "stream",
     "text": [
      "Y axis string value is: \n",
      "I am in 1st try\n"
     ]
    },
    {
     "name": "stderr",
     "output_type": "stream",
     "text": [
      "\r",
      "Processing files:  70%|██████████████████████████████████████████▍                  | 695/1000 [17:32<07:41,  1.51s/it]"
     ]
    },
    {
     "name": "stdout",
     "output_type": "stream",
     "text": [
      "Y axis string value is: 0.00065,0.000625,0.0006,0.000575,0.00055;,0.000525,0.00o5\n",
      "I am in 1st try\n",
      "Y axis string corrected value is: [0.00065, 0.000625, 0.0006, 0.000575, 0.000525, 0.005]\n",
      "I am in try\n"
     ]
    },
    {
     "name": "stderr",
     "output_type": "stream",
     "text": [
      "\r",
      "Processing files:  70%|██████████████████████████████████████████▍                  | 696/1000 [17:33<07:33,  1.49s/it]"
     ]
    },
    {
     "name": "stdout",
     "output_type": "stream",
     "text": [
      "Y axis string value is: \n",
      "I am in 1st try\n"
     ]
    },
    {
     "name": "stderr",
     "output_type": "stream",
     "text": [
      "\r",
      "Processing files:  70%|██████████████████████████████████████████▌                  | 697/1000 [17:35<07:30,  1.49s/it]"
     ]
    },
    {
     "name": "stdout",
     "output_type": "stream",
     "text": [
      "Y axis string value is: 5.75e-9,5.5e-9,5.25e-9,Se-9,4.75e-9,4.Se-9,4.25e-9\n",
      "I am in 1st try\n",
      "Y axis string corrected value is: [5.75e-09, 5.5e-09, 5.25e-09, 5e-09, 4.75e-09, 4.5e-09, 4.25e-09]\n",
      "I am in try\n"
     ]
    },
    {
     "name": "stderr",
     "output_type": "stream",
     "text": [
      "\r",
      "Processing files:  70%|██████████████████████████████████████████▌                  | 698/1000 [17:36<07:27,  1.48s/it]"
     ]
    },
    {
     "name": "stdout",
     "output_type": "stream",
     "text": [
      "Y axis string value is: \n",
      "I am in 1st try\n"
     ]
    },
    {
     "name": "stderr",
     "output_type": "stream",
     "text": [
      "\r",
      "Processing files:  70%|██████████████████████████████████████████▋                  | 699/1000 [17:38<07:36,  1.52s/it]"
     ]
    },
    {
     "name": "stdout",
     "output_type": "stream",
     "text": [
      "Y axis string value is: 0.Oo5s,0.005,0.0045,0.004,0.0035,0.003,0.0025,0.002\n",
      "I am in 1st try\n",
      "Y axis string corrected value is: [0.05, 0.005, 0.0045, 0.004, 0.0035, 0.003, 0.0025, 0.002]\n",
      "I am in try\n"
     ]
    },
    {
     "name": "stderr",
     "output_type": "stream",
     "text": [
      "\r",
      "Processing files:  70%|██████████████████████████████████████████▋                  | 700/1000 [17:39<07:37,  1.52s/it]"
     ]
    },
    {
     "name": "stdout",
     "output_type": "stream",
     "text": [
      "Y axis string value is: 35,30,25,20,15,10,5\n",
      "I am in 1st try\n",
      "Y axis string corrected value is: [35.0, 30.0, 25.0, 20.0, 15.0, 10.0, 5.0]\n",
      "I am in try\n"
     ]
    },
    {
     "name": "stderr",
     "output_type": "stream",
     "text": [
      "\r",
      "Processing files:  70%|██████████████████████████████████████████▊                  | 701/1000 [17:41<07:42,  1.55s/it]"
     ]
    },
    {
     "name": "stdout",
     "output_type": "stream",
     "text": [
      "Y axis string value is: 0.004,0.0035,0.003,0.0025,0.002\n",
      "I am in 1st try\n",
      "Y axis string corrected value is: [0.004, 0.0035, 0.003, 0.0025, 0.002]\n",
      "I am in try\n"
     ]
    },
    {
     "name": "stderr",
     "output_type": "stream",
     "text": [
      "\r",
      "Processing files:  70%|██████████████████████████████████████████▊                  | 702/1000 [17:42<07:35,  1.53s/it]"
     ]
    },
    {
     "name": "stdout",
     "output_type": "stream",
     "text": [
      "Y axis string value is: \n",
      "I am in 1st try\n"
     ]
    },
    {
     "name": "stderr",
     "output_type": "stream",
     "text": [
      "\r",
      "Processing files:  70%|██████████████████████████████████████████▉                  | 703/1000 [17:44<07:36,  1.54s/it]"
     ]
    },
    {
     "name": "stdout",
     "output_type": "stream",
     "text": [
      "Y axis string value is: 0.00003,0.000025,0.00002,0.000015,0.00001,0.Oooos\n",
      "I am in 1st try\n",
      "Y axis string corrected value is: [3e-05, 2.5e-05, 2e-05, 1.5e-05, 1e-05, 0.0]\n",
      "I am in try\n"
     ]
    },
    {
     "name": "stderr",
     "output_type": "stream",
     "text": [
      "\r",
      "Processing files:  70%|██████████████████████████████████████████▉                  | 704/1000 [17:45<07:31,  1.53s/it]"
     ]
    },
    {
     "name": "stdout",
     "output_type": "stream",
     "text": [
      "Y axis string value is: 0.075,0.0725,0.07,0.0675,0.065,0.0625\n",
      "I am in 1st try\n",
      "Y axis string corrected value is: [0.075, 0.0725, 0.07, 0.0675, 0.065, 0.0625]\n",
      "I am in try\n"
     ]
    },
    {
     "name": "stderr",
     "output_type": "stream",
     "text": [
      "\r",
      "Processing files:  70%|███████████████████████████████████████████                  | 705/1000 [17:47<07:24,  1.51s/it]"
     ]
    },
    {
     "name": "stdout",
     "output_type": "stream",
     "text": [
      "Y axis string value is: 2,1.5,0.5\n",
      "I am in 1st try\n",
      "Y axis string corrected value is: [2.0, 1.5, 0.5]\n",
      "I am in try\n"
     ]
    },
    {
     "name": "stderr",
     "output_type": "stream",
     "text": [
      "\r",
      "Processing files:  71%|███████████████████████████████████████████                  | 706/1000 [17:48<07:19,  1.49s/it]"
     ]
    },
    {
     "name": "stdout",
     "output_type": "stream",
     "text": [
      "Y axis string value is: O.Oo0000,0.0000077,0.000007,0.0000072,0.o0000,0.0000067\n",
      "I am in 1st try\n",
      "Y axis string corrected value is: [0.0, 7.7e-06, 7e-06, 7.2e-06, 0.0, 6.7e-06]\n",
      "I am in try\n"
     ]
    },
    {
     "name": "stderr",
     "output_type": "stream",
     "text": [
      "\r",
      "Processing files:  71%|███████████████████████████████████████████▏                 | 707/1000 [17:50<07:15,  1.49s/it]"
     ]
    },
    {
     "name": "stdout",
     "output_type": "stream",
     "text": [
      "Y axis string value is: \n",
      "I am in 1st try\n"
     ]
    },
    {
     "name": "stderr",
     "output_type": "stream",
     "text": [
      "\r",
      "Processing files:  71%|███████████████████████████████████████████▏                 | 708/1000 [17:51<07:06,  1.46s/it]"
     ]
    },
    {
     "name": "stdout",
     "output_type": "stream",
     "text": [
      "Y axis string value is: 1.2e-12,1e-12,8e-13,6e-13,4e-13,2e-13\n",
      "I am in 1st try\n",
      "Y axis string corrected value is: [1.2e-12, 1e-12, 8e-13, 6e-13, 4e-13, 2e-13]\n",
      "I am in try\n"
     ]
    },
    {
     "name": "stderr",
     "output_type": "stream",
     "text": [
      "\r",
      "Processing files:  71%|███████████████████████████████████████████▏                 | 709/1000 [17:53<06:59,  1.44s/it]"
     ]
    },
    {
     "name": "stdout",
     "output_type": "stream",
     "text": [
      "Y axis string value is: \n",
      "I am in 1st try\n"
     ]
    },
    {
     "name": "stderr",
     "output_type": "stream",
     "text": [
      "\r",
      "Processing files:  71%|███████████████████████████████████████████▎                 | 710/1000 [17:54<06:55,  1.43s/it]"
     ]
    },
    {
     "name": "stdout",
     "output_type": "stream",
     "text": [
      "Y axis string value is: 0.000,O.00,0.000,0.000,0.000,0.000,0.00\n",
      "I am in 1st try\n",
      "Y axis string corrected value is: [0.0, 0.0, 0.0, 0.0, 0.0, 0.0, 0.0]\n",
      "I am in try\n"
     ]
    },
    {
     "name": "stderr",
     "output_type": "stream",
     "text": [
      "\r",
      "Processing files:  71%|███████████████████████████████████████████▎                 | 711/1000 [17:56<06:59,  1.45s/it]"
     ]
    },
    {
     "name": "stdout",
     "output_type": "stream",
     "text": [
      "Y axis string value is: \n",
      "I am in 1st try\n"
     ]
    },
    {
     "name": "stderr",
     "output_type": "stream",
     "text": [
      "\r",
      "Processing files:  71%|███████████████████████████████████████████▍                 | 712/1000 [17:57<07:02,  1.47s/it]"
     ]
    },
    {
     "name": "stdout",
     "output_type": "stream",
     "text": [
      "Y axis string value is: 0.0228,0.0226,0.0224,0.0222,0.022\n",
      "I am in 1st try\n",
      "Y axis string corrected value is: [0.0228, 0.0226, 0.0224, 0.0222, 0.022]\n",
      "I am in try\n"
     ]
    },
    {
     "name": "stderr",
     "output_type": "stream",
     "text": [
      "\r",
      "Processing files:  71%|███████████████████████████████████████████▍                 | 713/1000 [17:59<07:09,  1.50s/it]"
     ]
    },
    {
     "name": "stdout",
     "output_type": "stream",
     "text": [
      "Y axis string value is: 1.2Se-9,Ie-9,7.Se-10,Se-10;\",2.Se-10\n",
      "I am in 1st try\n",
      "Y axis string corrected value is: [1.25e-09, 1e-09, 7.5e-10, 5e-10, 2.5e-10]\n",
      "I am in try\n"
     ]
    },
    {
     "name": "stderr",
     "output_type": "stream",
     "text": [
      "\r",
      "Processing files:  71%|███████████████████████████████████████████▌                 | 714/1000 [18:00<07:14,  1.52s/it]"
     ]
    },
    {
     "name": "stdout",
     "output_type": "stream",
     "text": [
      "Y axis string value is: 1.66e-10,1.64e-10,1.62e-10,1.6e-10,1.58e-10,1.56e-10\n",
      "I am in 1st try\n",
      "Y axis string corrected value is: [1.66e-10, 1.64e-10, 1.62e-10, 1.6e-10, 1.58e-10, 1.56e-10]\n",
      "I am in try\n"
     ]
    },
    {
     "name": "stderr",
     "output_type": "stream",
     "text": [
      "\r",
      "Processing files:  72%|███████████████████████████████████████████▌                 | 715/1000 [18:02<07:18,  1.54s/it]"
     ]
    },
    {
     "name": "stdout",
     "output_type": "stream",
     "text": [
      "Y axis string value is: 0.031,0.03,0.029,0.028,0.027,0.026,0.025\n",
      "I am in 1st try\n",
      "Y axis string corrected value is: [0.031, 0.03, 0.029, 0.028, 0.027, 0.026, 0.025]\n",
      "I am in try\n"
     ]
    },
    {
     "name": "stderr",
     "output_type": "stream",
     "text": [
      "\r",
      "Processing files:  72%|███████████████████████████████████████████▋                 | 716/1000 [18:03<07:06,  1.50s/it]"
     ]
    },
    {
     "name": "stdout",
     "output_type": "stream",
     "text": [
      "Y axis string value is: \n",
      "I am in 1st try\n"
     ]
    },
    {
     "name": "stderr",
     "output_type": "stream",
     "text": [
      "\r",
      "Processing files:  72%|███████████████████████████████████████████▋                 | 717/1000 [18:05<07:11,  1.52s/it]"
     ]
    },
    {
     "name": "stdout",
     "output_type": "stream",
     "text": [
      "Y axis string value is: 367,366,365,364,363,362,361,360,359,358,357,356,355,354,353,352,351,350,349,Cap,348\n",
      "I am in 1st try\n",
      "Y axis string corrected value is: [367.0, 366.0, 365.0, 364.0, 363.0, 362.0, 361.0, 360.0, 359.0, 358.0, 357.0, 356.0, 355.0, 354.0, 353.0, 352.0, 351.0, 350.0, 349.0, 348.0]\n",
      "I am in try\n"
     ]
    },
    {
     "name": "stderr",
     "output_type": "stream",
     "text": [
      "\r",
      "Processing files:  72%|███████████████████████████████████████████▊                 | 718/1000 [18:06<07:16,  1.55s/it]"
     ]
    },
    {
     "name": "stdout",
     "output_type": "stream",
     "text": [
      "Y axis string value is: 190,180,170,1.60,150,Lao,130,120,110,100,0.90,0.80,0.70,0.60,0.50,0.40,030,020,Q1000,0{;C/3,Cop\n",
      "I am in 1st try\n",
      "Y axis string corrected value is: [190.0, 180.0, 170.0, 1.6, 150.0, 130.0, 120.0, 110.0, 100.0, 0.9, 0.8, 0.7, 0.6, 0.5, 0.4, 0.3, 0.2, 0.1, 0.3]\n",
      "I am in try\n"
     ]
    },
    {
     "name": "stderr",
     "output_type": "stream",
     "text": [
      "\r",
      "Processing files:  72%|███████████████████████████████████████████▊                 | 719/1000 [18:08<07:16,  1.55s/it]"
     ]
    },
    {
     "name": "stdout",
     "output_type": "stream",
     "text": [
      "Y axis string value is: 0.371,0.370,0.369,0.368,0.367,0.366,0.365,0.364,0.363,0.362,0.361,0.360,0.359,0.358,0.357,0.356,0.355,0.354,Lap\n",
      "I am in 1st try\n",
      "Y axis string corrected value is: [0.371, 0.37, 0.369, 0.368, 0.367, 0.366, 0.365, 0.364, 0.363, 0.362, 0.361, 0.36, 0.359, 0.358, 0.357, 0.356, 0.355, 0.354]\n",
      "I am in try\n"
     ]
    },
    {
     "name": "stderr",
     "output_type": "stream",
     "text": [
      "\r",
      "Processing files:  72%|███████████████████████████████████████████▉                 | 720/1000 [18:09<07:17,  1.56s/it]"
     ]
    },
    {
     "name": "stdout",
     "output_type": "stream",
     "text": [
      "Y axis string value is: 6e-10 ,,Se-10:,4e-1Ox,3e-102,2e-10`,1e-10\n",
      "I am in 1st try\n"
     ]
    },
    {
     "name": "stderr",
     "output_type": "stream",
     "text": [
      "\r",
      "Processing files:  72%|███████████████████████████████████████████▉                 | 721/1000 [18:11<07:09,  1.54s/it]"
     ]
    },
    {
     "name": "stdout",
     "output_type": "stream",
     "text": [
      "Y axis string value is: 0.38,0.37,0.36,0.35,,0.34\n",
      "I am in 1st try\n"
     ]
    },
    {
     "name": "stderr",
     "output_type": "stream",
     "text": [
      "\r",
      "Processing files:  72%|████████████████████████████████████████████                 | 722/1000 [18:12<06:59,  1.51s/it]"
     ]
    },
    {
     "name": "stdout",
     "output_type": "stream",
     "text": [
      "Y axis string value is: \n",
      "I am in 1st try\n"
     ]
    },
    {
     "name": "stderr",
     "output_type": "stream",
     "text": [
      "\r",
      "Processing files:  72%|████████████████████████████████████████████                 | 723/1000 [18:14<06:48,  1.48s/it]"
     ]
    },
    {
     "name": "stdout",
     "output_type": "stream",
     "text": [
      "Y axis string value is: 0.0000068\n",
      "I am in 1st try\n",
      "Y axis string corrected value is: [6.8e-06]\n"
     ]
    },
    {
     "name": "stderr",
     "output_type": "stream",
     "text": [
      "\r",
      "Processing files:  72%|████████████████████████████████████████████▏                | 724/1000 [18:15<06:43,  1.46s/it]"
     ]
    },
    {
     "name": "stdout",
     "output_type": "stream",
     "text": [
      "Y axis string value is: 0.012,0.01,0.008,0.006,0.004,0.002\n",
      "I am in 1st try\n",
      "Y axis string corrected value is: [0.012, 0.01, 0.008, 0.006, 0.004, 0.002]\n",
      "I am in try\n"
     ]
    },
    {
     "name": "stderr",
     "output_type": "stream",
     "text": [
      "\r",
      "Processing files:  72%|████████████████████████████████████████████▏                | 725/1000 [18:17<06:35,  1.44s/it]"
     ]
    },
    {
     "name": "stdout",
     "output_type": "stream",
     "text": [
      "Y axis string value is: \n",
      "I am in 1st try\n"
     ]
    },
    {
     "name": "stderr",
     "output_type": "stream",
     "text": [
      "\r",
      "Processing files:  73%|████████████████████████████████████████████▎                | 726/1000 [18:18<06:39,  1.46s/it]"
     ]
    },
    {
     "name": "stdout",
     "output_type": "stream",
     "text": [
      "Y axis string value is: 0.000105:,0.0001,0.000095;,0.00009,0.000085,0.00008\n",
      "I am in 1st try\n",
      "Y axis string corrected value is: [0.0001, 9e-05, 8.5e-05, 8e-05]\n",
      "I am in try\n"
     ]
    },
    {
     "name": "stderr",
     "output_type": "stream",
     "text": [
      "\r",
      "Processing files:  73%|████████████████████████████████████████████▎                | 727/1000 [18:20<06:47,  1.49s/it]"
     ]
    },
    {
     "name": "stdout",
     "output_type": "stream",
     "text": [
      "Y axis string value is: 0.0525,0.052,0.0515,0051,0.0505,Oov\n",
      "I am in 1st try\n",
      "Y axis string corrected value is: [0.0525, 0.052, 0.0515, 0.051, 0.0505]\n",
      "I am in try\n"
     ]
    },
    {
     "name": "stderr",
     "output_type": "stream",
     "text": [
      "\r",
      "Processing files:  73%|████████████████████████████████████████████▍                | 728/1000 [18:21<06:58,  1.54s/it]"
     ]
    },
    {
     "name": "stdout",
     "output_type": "stream",
     "text": [
      "Y axis string value is: \n",
      "I am in 1st try\n"
     ]
    },
    {
     "name": "stderr",
     "output_type": "stream",
     "text": [
      "\r",
      "Processing files:  73%|████████████████████████████████████████████▍                | 729/1000 [18:23<06:56,  1.54s/it]"
     ]
    },
    {
     "name": "stdout",
     "output_type": "stream",
     "text": [
      "Y axis string value is: 0.0275,0.025,0.0225,0.02,0.0175\n",
      "I am in 1st try\n",
      "Y axis string corrected value is: [0.0275, 0.025, 0.0225, 0.02, 0.0175]\n",
      "I am in try\n"
     ]
    },
    {
     "name": "stderr",
     "output_type": "stream",
     "text": [
      "\r",
      "Processing files:  73%|████████████████████████████████████████████▌                | 730/1000 [18:25<07:04,  1.57s/it]"
     ]
    },
    {
     "name": "stdout",
     "output_type": "stream",
     "text": [
      "Y axis string value is: 0.00160,0.00160,0.00160,0.00159,0.00159,0.00159,0.00159,0.00159,0.00158,0.00158,0.00158,0.00158,0.00158,0.00157,0.00157,0.00157,0.00157,0.00157,0.00156,0.00156\n",
      "I am in 1st try\n",
      "Y axis string corrected value is: [0.0016, 0.0016, 0.0016, 0.00159, 0.00159, 0.00159, 0.00159, 0.00159, 0.00158, 0.00158, 0.00158, 0.00158, 0.00158, 0.00157, 0.00157, 0.00157, 0.00157, 0.00157, 0.00156, 0.00156]\n",
      "I am in try\n"
     ]
    },
    {
     "name": "stderr",
     "output_type": "stream",
     "text": [
      "\r",
      "Processing files:  73%|████████████████████████████████████████████▌                | 731/1000 [18:26<06:51,  1.53s/it]"
     ]
    },
    {
     "name": "stdout",
     "output_type": "stream",
     "text": [
      "Y axis string value is: \n",
      "I am in 1st try\n"
     ]
    },
    {
     "name": "stderr",
     "output_type": "stream",
     "text": [
      "\r",
      "Processing files:  73%|████████████████████████████████████████████▋                | 732/1000 [18:27<06:35,  1.47s/it]"
     ]
    },
    {
     "name": "stdout",
     "output_type": "stream",
     "text": [
      "Y axis string value is: \n",
      "I am in 1st try\n"
     ]
    },
    {
     "name": "stderr",
     "output_type": "stream",
     "text": [
      "\r",
      "Processing files:  73%|████████████████████████████████████████████▋                | 733/1000 [18:29<06:21,  1.43s/it]"
     ]
    },
    {
     "name": "stdout",
     "output_type": "stream",
     "text": [
      "Y axis string value is: \n",
      "I am in 1st try\n"
     ]
    },
    {
     "name": "stderr",
     "output_type": "stream",
     "text": [
      "\r",
      "Processing files:  73%|████████████████████████████████████████████▊                | 734/1000 [18:30<06:19,  1.43s/it]"
     ]
    },
    {
     "name": "stdout",
     "output_type": "stream",
     "text": [
      "Y axis string value is: \n",
      "I am in 1st try\n"
     ]
    },
    {
     "name": "stderr",
     "output_type": "stream",
     "text": [
      "\r",
      "Processing files:  74%|████████████████████████████████████████████▊                | 735/1000 [18:32<06:23,  1.45s/it]"
     ]
    },
    {
     "name": "stdout",
     "output_type": "stream",
     "text": [
      "Y axis string value is: 12,10,8,6\n",
      "I am in 1st try\n",
      "Y axis string corrected value is: [12.0, 10.0, 8.0, 6.0]\n",
      "I am in try\n"
     ]
    },
    {
     "name": "stderr",
     "output_type": "stream",
     "text": [
      "\r",
      "Processing files:  74%|████████████████████████████████████████████▉                | 736/1000 [18:33<06:20,  1.44s/it]"
     ]
    },
    {
     "name": "stdout",
     "output_type": "stream",
     "text": [
      "Y axis string value is: \n",
      "I am in 1st try\n"
     ]
    },
    {
     "name": "stderr",
     "output_type": "stream",
     "text": [
      "\r",
      "Processing files:  74%|████████████████████████████████████████████▉                | 737/1000 [18:34<06:20,  1.45s/it]"
     ]
    },
    {
     "name": "stdout",
     "output_type": "stream",
     "text": [
      "Y axis string value is: 0.000253,0.000252,0.000251,0.00025,0.000249,0.000248.,0.000247\n",
      "I am in 1st try\n",
      "Y axis string corrected value is: [0.000253, 0.000252, 0.000251, 0.00025, 0.000249, 0.000247]\n",
      "I am in try\n"
     ]
    },
    {
     "name": "stderr",
     "output_type": "stream",
     "text": [
      "\r",
      "Processing files:  74%|█████████████████████████████████████████████                | 738/1000 [18:36<06:28,  1.48s/it]"
     ]
    },
    {
     "name": "stdout",
     "output_type": "stream",
     "text": [
      "Y axis string value is: 0.0000000590,0.0000000580,0.0000000570,0.0000000560,0.0000000550,0.0000000540,0.0000000530,0.0000000520,0.0000000510,0.O00000500\n",
      "I am in 1st try\n",
      "Y axis string corrected value is: [5.9e-08, 5.8e-08, 5.7e-08, 5.6e-08, 5.5e-08, 5.4e-08, 5.3e-08, 5.2e-08, 5.1e-08, 5e-07]\n",
      "I am in try\n"
     ]
    },
    {
     "name": "stderr",
     "output_type": "stream",
     "text": [
      "\r",
      "Processing files:  74%|█████████████████████████████████████████████                | 739/1000 [18:38<06:47,  1.56s/it]"
     ]
    },
    {
     "name": "stdout",
     "output_type": "stream",
     "text": [
      "Y axis string value is: 0.000052,0.0005,0.00804=,0.000004,0.000035,0.008003,0.0080025,@,0.0000020\n",
      "I am in 1st try\n",
      "Y axis string corrected value is: [5.2e-05, 0.0005, 4e-06, 3.5e-05, 0.008003, 0.0080025, 2e-06]\n"
     ]
    },
    {
     "name": "stderr",
     "output_type": "stream",
     "text": [
      "\r",
      "Processing files:  74%|█████████████████████████████████████████████▏               | 740/1000 [18:39<06:31,  1.50s/it]"
     ]
    },
    {
     "name": "stdout",
     "output_type": "stream",
     "text": [
      "Y axis string value is: \n",
      "I am in 1st try\n"
     ]
    },
    {
     "name": "stderr",
     "output_type": "stream",
     "text": [
      "\r",
      "Processing files:  74%|█████████████████████████████████████████████▏               | 741/1000 [18:41<06:27,  1.50s/it]"
     ]
    },
    {
     "name": "stdout",
     "output_type": "stream",
     "text": [
      "Y axis string value is: 0.Ooooo5o\n",
      "I am in 1st try\n",
      "Y axis string corrected value is: [0.05]\n"
     ]
    },
    {
     "name": "stderr",
     "output_type": "stream",
     "text": [
      "Processing files:  74%|█████████████████████████████████████████████▎               | 743/1000 [18:44<06:27,  1.51s/it]"
     ]
    },
    {
     "name": "stdout",
     "output_type": "stream",
     "text": [
      "Y axis string value is: 0.00,0.006,0.00,0.005,0.00,0.004,0.00,0.003\n",
      "I am in 1st try\n",
      "Y axis string corrected value is: [0.0, 0.006, 0.0, 0.005, 0.0, 0.004, 0.0, 0.003]\n",
      "I am in try\n"
     ]
    },
    {
     "name": "stderr",
     "output_type": "stream",
     "text": [
      "\r",
      "Processing files:  74%|█████████████████████████████████████████████▍               | 744/1000 [18:45<06:19,  1.48s/it]"
     ]
    },
    {
     "name": "stdout",
     "output_type": "stream",
     "text": [
      "Y axis string value is: \n",
      "I am in 1st try\n"
     ]
    },
    {
     "name": "stderr",
     "output_type": "stream",
     "text": [
      "\r",
      "Processing files:  74%|█████████████████████████████████████████████▍               | 745/1000 [18:47<06:21,  1.49s/it]"
     ]
    },
    {
     "name": "stdout",
     "output_type": "stream",
     "text": [
      "Y axis string value is: 7e-10.,6e-10,Se-10,4e-10,3e-10\",2e-10\n",
      "I am in 1st try\n",
      "Y axis string corrected value is: [6e-10, 5e-10, 4e-10, 3e-10, 2e-10]\n",
      "I am in try\n"
     ]
    },
    {
     "name": "stderr",
     "output_type": "stream",
     "text": [
      "\r",
      "Processing files:  75%|█████████████████████████████████████████████▌               | 746/1000 [18:48<06:23,  1.51s/it]"
     ]
    },
    {
     "name": "stdout",
     "output_type": "stream",
     "text": [
      "Y axis string value is: 0.0012,0.001,0.0008,0.0006,0.0004,0.0002\n",
      "I am in 1st try\n",
      "Y axis string corrected value is: [0.0012, 0.001, 0.0008, 0.0006, 0.0004, 0.0002]\n",
      "I am in try\n"
     ]
    },
    {
     "name": "stderr",
     "output_type": "stream",
     "text": [
      "\r",
      "Processing files:  75%|█████████████████████████████████████████████▌               | 747/1000 [18:50<06:19,  1.50s/it]"
     ]
    },
    {
     "name": "stdout",
     "output_type": "stream",
     "text": [
      "Y axis string value is: 5k,4k,3k,2K_,1k\n",
      "I am in 1st try\n",
      "Y axis string corrected value is: [5.0, 4.0, 3.0, 2.0, 1.0]\n",
      "I am in try\n"
     ]
    },
    {
     "name": "stderr",
     "output_type": "stream",
     "text": [
      "\r",
      "Processing files:  75%|█████████████████████████████████████████████▋               | 748/1000 [18:51<06:15,  1.49s/it]"
     ]
    },
    {
     "name": "stdout",
     "output_type": "stream",
     "text": [
      "Y axis string value is: 52,50,48,46,44,42,40\n",
      "I am in 1st try\n",
      "Y axis string corrected value is: [52.0, 50.0, 48.0, 46.0, 44.0, 42.0, 40.0]\n",
      "I am in try\n"
     ]
    },
    {
     "name": "stderr",
     "output_type": "stream",
     "text": [
      "\r",
      "Processing files:  75%|█████████████████████████████████████████████▋               | 749/1000 [18:53<06:11,  1.48s/it]"
     ]
    },
    {
     "name": "stdout",
     "output_type": "stream",
     "text": [
      "Y axis string value is: \n",
      "I am in 1st try\n"
     ]
    },
    {
     "name": "stderr",
     "output_type": "stream",
     "text": [
      "\r",
      "Processing files:  75%|█████████████████████████████████████████████▊               | 750/1000 [18:54<06:00,  1.44s/it]"
     ]
    },
    {
     "name": "stdout",
     "output_type": "stream",
     "text": [
      "Y axis string value is: \n",
      "I am in 1st try\n"
     ]
    },
    {
     "name": "stderr",
     "output_type": "stream",
     "text": [
      "\r",
      "Processing files:  75%|█████████████████████████████████████████████▊               | 751/1000 [18:55<06:02,  1.46s/it]"
     ]
    },
    {
     "name": "stdout",
     "output_type": "stream",
     "text": [
      "Y axis string value is: 0.007275:,0.00725,0.007225,0.0072,0.007175,0.007151,0.007125\n",
      "I am in 1st try\n",
      "Y axis string corrected value is: [0.00725, 0.007225, 0.0072, 0.007175, 0.007151, 0.007125]\n",
      "I am in try\n"
     ]
    },
    {
     "name": "stderr",
     "output_type": "stream",
     "text": [
      "\r",
      "Processing files:  75%|█████████████████████████████████████████████▊               | 752/1000 [18:57<06:01,  1.46s/it]"
     ]
    },
    {
     "name": "stdout",
     "output_type": "stream",
     "text": [
      "Y axis string value is: 6,4,3\n",
      "I am in 1st try\n",
      "Y axis string corrected value is: [6.0, 4.0, 3.0]\n",
      "I am in try\n"
     ]
    },
    {
     "name": "stderr",
     "output_type": "stream",
     "text": [
      "\r",
      "Processing files:  75%|█████████████████████████████████████████████▉               | 753/1000 [18:58<06:08,  1.49s/it]"
     ]
    },
    {
     "name": "stdout",
     "output_type": "stream",
     "text": [
      "Y axis string value is: 0.0275,0.025,0.0225,0.02,0.0175,0.015\n",
      "I am in 1st try\n",
      "Y axis string corrected value is: [0.0275, 0.025, 0.0225, 0.02, 0.0175, 0.015]\n",
      "I am in try\n"
     ]
    },
    {
     "name": "stderr",
     "output_type": "stream",
     "text": [
      "\r",
      "Processing files:  75%|█████████████████████████████████████████████▉               | 754/1000 [19:00<06:10,  1.51s/it]"
     ]
    },
    {
     "name": "stdout",
     "output_type": "stream",
     "text": [
      "Y axis string value is: 0.0001635,0.000163,0.0001625,0.000162,0.0001615,0.000161,0.0001 605,0.00016\n",
      "I am in 1st try\n",
      "Y axis string corrected value is: [0.0001635, 0.000163, 0.0001625, 0.000162, 0.0001615, 0.000161, 0.00016]\n",
      "I am in try\n"
     ]
    },
    {
     "name": "stderr",
     "output_type": "stream",
     "text": [
      "\r",
      "Processing files:  76%|██████████████████████████████████████████████               | 755/1000 [19:01<06:01,  1.47s/it]"
     ]
    },
    {
     "name": "stdout",
     "output_type": "stream",
     "text": [
      "Y axis string value is: \n",
      "I am in 1st try\n"
     ]
    },
    {
     "name": "stderr",
     "output_type": "stream",
     "text": [
      "\r",
      "Processing files:  76%|██████████████████████████████████████████████               | 756/1000 [19:03<05:47,  1.43s/it]"
     ]
    },
    {
     "name": "stdout",
     "output_type": "stream",
     "text": [
      "Y axis string value is: \n",
      "I am in 1st try\n"
     ]
    },
    {
     "name": "stderr",
     "output_type": "stream",
     "text": [
      "\r",
      "Processing files:  76%|██████████████████████████████████████████████▏              | 757/1000 [19:04<05:41,  1.40s/it]"
     ]
    },
    {
     "name": "stdout",
     "output_type": "stream",
     "text": [
      "Y axis string value is: \n",
      "I am in 1st try\n"
     ]
    },
    {
     "name": "stderr",
     "output_type": "stream",
     "text": [
      "\r",
      "Processing files:  76%|██████████████████████████████████████████████▏              | 758/1000 [19:05<05:39,  1.40s/it]"
     ]
    },
    {
     "name": "stdout",
     "output_type": "stream",
     "text": [
      "Y axis string value is: \n",
      "I am in 1st try\n"
     ]
    },
    {
     "name": "stderr",
     "output_type": "stream",
     "text": [
      "\r",
      "Processing files:  76%|██████████████████████████████████████████████▎              | 759/1000 [19:07<05:39,  1.41s/it]"
     ]
    },
    {
     "name": "stdout",
     "output_type": "stream",
     "text": [
      "Y axis string value is: 0.016,0.015,0.014,0.013,0.012\n",
      "I am in 1st try\n",
      "Y axis string corrected value is: [0.016, 0.015, 0.014, 0.013, 0.012]\n",
      "I am in try\n"
     ]
    },
    {
     "name": "stderr",
     "output_type": "stream",
     "text": [
      "\r",
      "Processing files:  76%|██████████████████████████████████████████████▎              | 760/1000 [19:08<05:29,  1.37s/it]"
     ]
    },
    {
     "name": "stdout",
     "output_type": "stream",
     "text": [
      "Y axis string value is: \n",
      "I am in 1st try\n"
     ]
    },
    {
     "name": "stderr",
     "output_type": "stream",
     "text": [
      "\r",
      "Processing files:  76%|██████████████████████████████████████████████▍              | 761/1000 [19:10<05:41,  1.43s/it]"
     ]
    },
    {
     "name": "stdout",
     "output_type": "stream",
     "text": [
      "Y axis string value is: 0.000035.,0.000003,0.000025,0.00002,,0.00001 5,0.00001,0.Ooooos\n",
      "I am in 1st try\n"
     ]
    },
    {
     "name": "stderr",
     "output_type": "stream",
     "text": [
      "\r",
      "Processing files:  76%|██████████████████████████████████████████████▍              | 762/1000 [19:11<05:39,  1.43s/it]"
     ]
    },
    {
     "name": "stdout",
     "output_type": "stream",
     "text": [
      "Y axis string value is: \n",
      "I am in 1st try\n"
     ]
    },
    {
     "name": "stderr",
     "output_type": "stream",
     "text": [
      "\r",
      "Processing files:  76%|██████████████████████████████████████████████▌              | 763/1000 [19:12<05:35,  1.42s/it]"
     ]
    },
    {
     "name": "stdout",
     "output_type": "stream",
     "text": [
      "Y axis string value is: \n",
      "I am in 1st try\n"
     ]
    },
    {
     "name": "stderr",
     "output_type": "stream",
     "text": [
      "\r",
      "Processing files:  76%|██████████████████████████████████████████████▌              | 764/1000 [19:14<05:41,  1.45s/it]"
     ]
    },
    {
     "name": "stdout",
     "output_type": "stream",
     "text": [
      "Y axis string value is: 0.55,0.50,0.45,0.40,0.35,0.30,0.25,0.20,0.15,0.10,0.050,030,Cap\n",
      "I am in 1st try\n",
      "Y axis string corrected value is: [0.55, 0.5, 0.45, 0.4, 0.35, 0.3, 0.25, 0.2, 0.15, 0.1, 0.05, 0.3]\n",
      "I am in try\n"
     ]
    },
    {
     "name": "stderr",
     "output_type": "stream",
     "text": [
      "\r",
      "Processing files:  76%|██████████████████████████████████████████████▋              | 765/1000 [19:16<05:49,  1.49s/it]"
     ]
    },
    {
     "name": "stdout",
     "output_type": "stream",
     "text": [
      "Y axis string value is: 0.026,0.024,0.022,0.020,0.018,0.016,0.014,0.012,0.0100,0.0080,0.0060,0.0051,0.0040,0.0020,Cap\n",
      "I am in 1st try\n",
      "Y axis string corrected value is: [0.026, 0.024, 0.022, 0.02, 0.018, 0.016, 0.014, 0.012, 0.01, 0.008, 0.006, 0.0051, 0.004, 0.002]\n",
      "I am in try\n"
     ]
    },
    {
     "name": "stderr",
     "output_type": "stream",
     "text": [
      "\r",
      "Processing files:  77%|██████████████████████████████████████████████▋              | 766/1000 [19:17<05:48,  1.49s/it]"
     ]
    },
    {
     "name": "stdout",
     "output_type": "stream",
     "text": [
      "Y axis string value is: 0.O0005,0.000025,Market Cap,NIA\n",
      "I am in 1st try\n",
      "Y axis string corrected value is: [5e-05, 2.5e-05]\n",
      "I am in try\n"
     ]
    },
    {
     "name": "stderr",
     "output_type": "stream",
     "text": [
      "\r",
      "Processing files:  77%|██████████████████████████████████████████████▊              | 767/1000 [19:19<05:48,  1.49s/it]"
     ]
    },
    {
     "name": "stdout",
     "output_type": "stream",
     "text": [
      "Y axis string value is: 0.01134,0.01132,0.0113,0.01 128,0.01126\n",
      "I am in 1st try\n",
      "Y axis string corrected value is: [0.01134, 0.01132, 0.0113, 0.01126]\n",
      "I am in try\n"
     ]
    },
    {
     "name": "stderr",
     "output_type": "stream",
     "text": [
      "\r",
      "Processing files:  77%|██████████████████████████████████████████████▊              | 768/1000 [19:20<05:45,  1.49s/it]"
     ]
    },
    {
     "name": "stdout",
     "output_type": "stream",
     "text": [
      "Y axis string value is: 0.0799107\n",
      "I am in 1st try\n",
      "Y axis string corrected value is: [0.0799107]\n"
     ]
    },
    {
     "name": "stderr",
     "output_type": "stream",
     "text": [
      "\r",
      "Processing files:  77%|██████████████████████████████████████████████▉              | 769/1000 [19:22<05:50,  1.52s/it]"
     ]
    },
    {
     "name": "stdout",
     "output_type": "stream",
     "text": [
      "Y axis string value is: 0.1,0.08,0.06,0.04,0.02\n",
      "I am in 1st try\n",
      "Y axis string corrected value is: [0.1, 0.08, 0.06, 0.04, 0.02]\n",
      "I am in try\n"
     ]
    },
    {
     "name": "stderr",
     "output_type": "stream",
     "text": [
      "\r",
      "Processing files:  77%|██████████████████████████████████████████████▉              | 770/1000 [19:23<05:47,  1.51s/it]"
     ]
    },
    {
     "name": "stdout",
     "output_type": "stream",
     "text": [
      "Y axis string value is: \n",
      "I am in 1st try\n"
     ]
    },
    {
     "name": "stderr",
     "output_type": "stream",
     "text": [
      "\r",
      "Processing files:  77%|███████████████████████████████████████████████              | 771/1000 [19:25<05:44,  1.50s/it]"
     ]
    },
    {
     "name": "stdout",
     "output_type": "stream",
     "text": [
      "Y axis string value is: 0.036,0.0351,0.034',0.033,0.032,0.031\n",
      "I am in 1st try\n",
      "Y axis string corrected value is: [0.036, 0.0351, 0.033, 0.032, 0.031]\n",
      "I am in try\n"
     ]
    },
    {
     "name": "stderr",
     "output_type": "stream",
     "text": [
      "\r",
      "Processing files:  77%|███████████████████████████████████████████████              | 772/1000 [19:26<05:44,  1.51s/it]"
     ]
    },
    {
     "name": "stdout",
     "output_type": "stream",
     "text": [
      "Y axis string value is: 6e-10,Se-10f,4.Se-I0:,4e-I0:,3.Se-10,3e-10,5.Se-1M\n",
      "I am in 1st try\n",
      "Y axis string corrected value is: [6e-10, 5e-10, 4.5e-10, 4e-10, 3.5e-10, 3e-10, 0.55]\n",
      "I am in try\n"
     ]
    },
    {
     "name": "stderr",
     "output_type": "stream",
     "text": [
      "\r",
      "Processing files:  77%|███████████████████████████████████████████████▏             | 773/1000 [19:28<05:36,  1.48s/it]"
     ]
    },
    {
     "name": "stdout",
     "output_type": "stream",
     "text": [
      "Y axis string value is: \n",
      "I am in 1st try\n"
     ]
    },
    {
     "name": "stderr",
     "output_type": "stream",
     "text": [
      "\r",
      "Processing files:  77%|███████████████████████████████████████████████▏             | 774/1000 [19:29<05:29,  1.46s/it]"
     ]
    },
    {
     "name": "stdout",
     "output_type": "stream",
     "text": [
      "Y axis string value is: 3.8750037\n",
      "I am in 1st try\n",
      "Y axis string corrected value is: [3.8750037]\n"
     ]
    },
    {
     "name": "stderr",
     "output_type": "stream",
     "text": [
      "\r",
      "Processing files:  78%|███████████████████████████████████████████████▎             | 775/1000 [19:31<05:34,  1.49s/it]"
     ]
    },
    {
     "name": "stdout",
     "output_type": "stream",
     "text": [
      "Y axis string value is: 0.85,0.825,0.8,0.775,0.75,0.725,0.7,0.675\n",
      "I am in 1st try\n",
      "Y axis string corrected value is: [0.85, 0.825, 0.8, 0.775, 0.75, 0.725, 0.7, 0.675]\n",
      "I am in try\n"
     ]
    },
    {
     "name": "stderr",
     "output_type": "stream",
     "text": [
      "\r",
      "Processing files:  78%|███████████████████████████████████████████████▎             | 776/1000 [19:32<05:35,  1.50s/it]"
     ]
    },
    {
     "name": "stdout",
     "output_type": "stream",
     "text": [
      "Y axis string value is: 0.0000195,0.0000194,0.00001931,0.0000192,0.0000191\n",
      "I am in 1st try\n",
      "Y axis string corrected value is: [1.95e-05, 1.94e-05, 1.931e-05, 1.92e-05, 1.91e-05]\n",
      "I am in try\n"
     ]
    },
    {
     "name": "stderr",
     "output_type": "stream",
     "text": [
      "\r",
      "Processing files:  78%|███████████████████████████████████████████████▍             | 777/1000 [19:34<05:36,  1.51s/it]"
     ]
    },
    {
     "name": "stdout",
     "output_type": "stream",
     "text": [
      "Y axis string value is: 1.25e-7,1.2e-7,1.15e-7,1.e-7,1.05e-7 1,1e-7\n",
      "I am in 1st try\n",
      "Y axis string corrected value is: [1.25e-07, 1.2e-07, 1.15e-07, 1e-07, 1e-07]\n",
      "I am in try\n"
     ]
    },
    {
     "name": "stderr",
     "output_type": "stream",
     "text": [
      "\r",
      "Processing files:  78%|███████████████████████████████████████████████▍             | 778/1000 [19:35<05:25,  1.47s/it]"
     ]
    },
    {
     "name": "stdout",
     "output_type": "stream",
     "text": [
      "Y axis string value is: \n",
      "I am in 1st try\n"
     ]
    },
    {
     "name": "stderr",
     "output_type": "stream",
     "text": [
      "\r",
      "Processing files:  78%|███████████████████████████████████████████████▌             | 779/1000 [19:36<05:17,  1.44s/it]"
     ]
    },
    {
     "name": "stdout",
     "output_type": "stream",
     "text": [
      "Y axis string value is: \n",
      "I am in 1st try\n"
     ]
    },
    {
     "name": "stderr",
     "output_type": "stream",
     "text": [
      "\r",
      "Processing files:  78%|███████████████████████████████████████████████▌             | 780/1000 [19:38<05:12,  1.42s/it]"
     ]
    },
    {
     "name": "stdout",
     "output_type": "stream",
     "text": [
      "Y axis string value is: \n",
      "I am in 1st try\n"
     ]
    },
    {
     "name": "stderr",
     "output_type": "stream",
     "text": [
      "\r",
      "Processing files:  78%|███████████████████████████████████████████████▋             | 781/1000 [19:39<05:18,  1.45s/it]"
     ]
    },
    {
     "name": "stdout",
     "output_type": "stream",
     "text": [
      "Y axis string value is: 2.3e-11,2.2e-11,2.le-11,2e-11,1.9e-II,1.8e-11,1.7e-11,1.6e-11\n",
      "I am in 1st try\n",
      "Y axis string corrected value is: [2.3e-11, 2.2e-11, 2e-11, 2e-11, 1.9e-11, 1.8e-11, 1.7e-11, 1.6e-11]\n",
      "I am in try\n"
     ]
    },
    {
     "name": "stderr",
     "output_type": "stream",
     "text": [
      "\r",
      "Processing files:  78%|███████████████████████████████████████████████▋             | 782/1000 [19:41<05:39,  1.56s/it]"
     ]
    },
    {
     "name": "stdout",
     "output_type": "stream",
     "text": [
      "Y axis string value is: 0.00000055,O.0000k50,0.0000045,0.00000040,0.0000035,0.008000030,0.00000025,0.00000020,7icooo1s,0.OOOO.1OO,0.000OXOOSO\n",
      "I am in 1st try\n",
      "Y axis string corrected value is: [5.5e-07, 5e-05, 4.5e-06, 4e-07, 3.5e-06, 0.00800003, 2.5e-07, 2e-07, 71.0, 5e-07]\n"
     ]
    },
    {
     "name": "stderr",
     "output_type": "stream",
     "text": [
      "\r",
      "Processing files:  78%|███████████████████████████████████████████████▊             | 783/1000 [19:43<05:37,  1.56s/it]"
     ]
    },
    {
     "name": "stdout",
     "output_type": "stream",
     "text": [
      "Y axis string value is: 1.75e-9,1.Se-9,1.25e-94,Ie-9,7.Se-10;,Se-10,2.Se-10\n",
      "I am in 1st try\n",
      "Y axis string corrected value is: [1.75e-09, 1.5e-09, 1.25e-94, 1e-09, 7.5e-10, 5e-10, 2.5e-10]\n",
      "I am in try\n"
     ]
    },
    {
     "name": "stderr",
     "output_type": "stream",
     "text": [
      "\r",
      "Processing files:  78%|███████████████████████████████████████████████▊             | 784/1000 [19:44<05:30,  1.53s/it]"
     ]
    },
    {
     "name": "stdout",
     "output_type": "stream",
     "text": [
      "Y axis string value is: 0.0023745\n",
      "I am in 1st try\n",
      "Y axis string corrected value is: [0.0023745]\n"
     ]
    },
    {
     "name": "stderr",
     "output_type": "stream",
     "text": [
      "\r",
      "Processing files:  78%|███████████████████████████████████████████████▉             | 785/1000 [19:46<05:27,  1.52s/it]"
     ]
    },
    {
     "name": "stdout",
     "output_type": "stream",
     "text": [
      "Y axis string value is: 1.Se-7,1.25e-=,1e-7,7.Se-8,Se-8,2.Se-8\n",
      "I am in 1st try\n",
      "Y axis string corrected value is: [1.5e-07, 1e-07, 7.5e-08, 5e-08, 2.5e-08]\n",
      "I am in try\n"
     ]
    },
    {
     "name": "stderr",
     "output_type": "stream",
     "text": [
      "\r",
      "Processing files:  79%|███████████████████████████████████████████████▉             | 786/1000 [19:47<05:24,  1.51s/it]"
     ]
    },
    {
     "name": "stdout",
     "output_type": "stream",
     "text": [
      "Y axis string value is: 0.00014,0.00013,0.00012,0.0001 1,0.0001,0.00009,0.00008,0.00007\n",
      "I am in 1st try\n",
      "Y axis string corrected value is: [0.00014, 0.00013, 0.00012, 0.0001, 9e-05, 8e-05, 7e-05]\n",
      "I am in try\n"
     ]
    },
    {
     "name": "stderr",
     "output_type": "stream",
     "text": [
      "\r",
      "Processing files:  79%|████████████████████████████████████████████████             | 787/1000 [19:49<05:25,  1.53s/it]"
     ]
    },
    {
     "name": "stdout",
     "output_type": "stream",
     "text": [
      "Y axis string value is: 0.0325,0.03,0.0275,0.025,0.0225\n",
      "I am in 1st try\n",
      "Y axis string corrected value is: [0.0325, 0.03, 0.0275, 0.025, 0.0225]\n",
      "I am in try\n"
     ]
    },
    {
     "name": "stderr",
     "output_type": "stream",
     "text": [
      "\r",
      "Processing files:  79%|████████████████████████████████████████████████             | 788/1000 [19:50<05:21,  1.52s/it]"
     ]
    },
    {
     "name": "stdout",
     "output_type": "stream",
     "text": [
      "Y axis string value is: 0.0621886\n",
      "I am in 1st try\n",
      "Y axis string corrected value is: [0.0621886]\n"
     ]
    },
    {
     "name": "stderr",
     "output_type": "stream",
     "text": [
      "\r",
      "Processing files:  79%|████████████████████████████████████████████████▏            | 789/1000 [19:52<05:21,  1.52s/it]"
     ]
    },
    {
     "name": "stdout",
     "output_type": "stream",
     "text": [
      "Y axis string value is: 0.02,0.015,0.01,0.005\n",
      "I am in 1st try\n",
      "Y axis string corrected value is: [0.02, 0.015, 0.01, 0.005]\n",
      "I am in try\n"
     ]
    },
    {
     "name": "stderr",
     "output_type": "stream",
     "text": [
      "\r",
      "Processing files:  79%|████████████████████████████████████████████████▏            | 790/1000 [19:53<05:20,  1.53s/it]"
     ]
    },
    {
     "name": "stdout",
     "output_type": "stream",
     "text": [
      "Y axis string value is: 0.16,0.14,0.12,0.10,0.080,0.00,0.040,0.020\n",
      "I am in 1st try\n",
      "Y axis string corrected value is: [0.16, 0.14, 0.12, 0.1, 0.08, 0.0, 0.04, 0.02]\n",
      "I am in try\n"
     ]
    },
    {
     "name": "stderr",
     "output_type": "stream",
     "text": [
      "\r",
      "Processing files:  79%|████████████████████████████████████████████████▎            | 791/1000 [19:55<05:12,  1.50s/it]"
     ]
    },
    {
     "name": "stdout",
     "output_type": "stream",
     "text": [
      "Y axis string value is: \n",
      "I am in 1st try\n"
     ]
    },
    {
     "name": "stderr",
     "output_type": "stream",
     "text": [
      "\r",
      "Processing files:  79%|████████████████████████████████████████████████▎            | 792/1000 [19:56<05:09,  1.49s/it]"
     ]
    },
    {
     "name": "stdout",
     "output_type": "stream",
     "text": [
      "Y axis string value is: 0.00435,0.0043,0.00425,0.0042,0.00415.,0.0041,0.00405,0.004\n",
      "I am in 1st try\n",
      "Y axis string corrected value is: [0.00435, 0.0043, 0.00425, 0.0042, 0.0041, 0.00405, 0.004]\n",
      "I am in try\n"
     ]
    },
    {
     "name": "stderr",
     "output_type": "stream",
     "text": [
      "\r",
      "Processing files:  79%|████████████████████████████████████████████████▎            | 793/1000 [19:58<05:05,  1.48s/it]"
     ]
    },
    {
     "name": "stdout",
     "output_type": "stream",
     "text": [
      "Y axis string value is: 0.0000156,0.0000154,0.0000152,0.000015\n",
      "I am in 1st try\n",
      "Y axis string corrected value is: [1.56e-05, 1.54e-05, 1.52e-05, 1.5e-05]\n",
      "I am in try\n"
     ]
    },
    {
     "name": "stderr",
     "output_type": "stream",
     "text": [
      "\r",
      "Processing files:  79%|████████████████████████████████████████████████▍            | 794/1000 [19:59<04:58,  1.45s/it]"
     ]
    },
    {
     "name": "stdout",
     "output_type": "stream",
     "text": [
      "Y axis string value is: \n",
      "I am in 1st try\n"
     ]
    },
    {
     "name": "stderr",
     "output_type": "stream",
     "text": [
      "\r",
      "Processing files:  80%|████████████████████████████████████████████████▍            | 795/1000 [20:00<04:57,  1.45s/it]"
     ]
    },
    {
     "name": "stdout",
     "output_type": "stream",
     "text": [
      "Y axis string value is: 0.012,0.0,0.007,0.00,0.002\n",
      "I am in 1st try\n",
      "Y axis string corrected value is: [0.012, 0.0, 0.007, 0.0, 0.002]\n",
      "I am in try\n"
     ]
    },
    {
     "name": "stderr",
     "output_type": "stream",
     "text": [
      "\r",
      "Processing files:  80%|████████████████████████████████████████████████▌            | 796/1000 [20:02<05:00,  1.47s/it]"
     ]
    },
    {
     "name": "stdout",
     "output_type": "stream",
     "text": [
      "Y axis string value is: 0.3,0.25,0.2,0.15,0.1,0.05\n",
      "I am in 1st try\n",
      "Y axis string corrected value is: [0.3, 0.25, 0.2, 0.15, 0.1, 0.05]\n",
      "I am in try\n"
     ]
    },
    {
     "name": "stderr",
     "output_type": "stream",
     "text": [
      "\r",
      "Processing files:  80%|████████████████████████████████████████████████▌            | 797/1000 [20:03<04:56,  1.46s/it]"
     ]
    },
    {
     "name": "stdout",
     "output_type": "stream",
     "text": [
      "Y axis string value is: \n",
      "I am in 1st try\n"
     ]
    },
    {
     "name": "stderr",
     "output_type": "stream",
     "text": [
      "\r",
      "Processing files:  80%|████████████████████████████████████████████████▋            | 798/1000 [20:05<04:58,  1.48s/it]"
     ]
    },
    {
     "name": "stdout",
     "output_type": "stream",
     "text": [
      "Y axis string value is: 0.00104,0.00103,0.00102,0.001013,0.001:,0.00099,0.00098,0.00097\n",
      "I am in 1st try\n",
      "Y axis string corrected value is: [0.00104, 0.00103, 0.00102, 0.001013, 0.00099, 0.00098, 0.00097]\n",
      "I am in try\n"
     ]
    },
    {
     "name": "stderr",
     "output_type": "stream",
     "text": [
      "\r",
      "Processing files:  80%|████████████████████████████████████████████████▋            | 799/1000 [20:06<05:03,  1.51s/it]"
     ]
    },
    {
     "name": "stdout",
     "output_type": "stream",
     "text": [
      "Y axis string value is: 5,4,3,2\n",
      "I am in 1st try\n",
      "Y axis string corrected value is: [5.0, 4.0, 3.0, 2.0]\n",
      "I am in try\n"
     ]
    },
    {
     "name": "stderr",
     "output_type": "stream",
     "text": [
      "\r",
      "Processing files:  80%|████████████████████████████████████████████████▊            | 800/1000 [20:08<04:56,  1.48s/it]"
     ]
    },
    {
     "name": "stdout",
     "output_type": "stream",
     "text": [
      "Y axis string value is: \n",
      "I am in 1st try\n"
     ]
    },
    {
     "name": "stderr",
     "output_type": "stream",
     "text": [
      "\r",
      "Processing files:  80%|████████████████████████████████████████████████▊            | 801/1000 [20:09<04:47,  1.45s/it]"
     ]
    },
    {
     "name": "stdout",
     "output_type": "stream",
     "text": [
      "Y axis string value is: \n",
      "I am in 1st try\n"
     ]
    },
    {
     "name": "stderr",
     "output_type": "stream",
     "text": [
      "\r",
      "Processing files:  80%|████████████████████████████████████████████████▉            | 802/1000 [20:11<04:48,  1.46s/it]"
     ]
    },
    {
     "name": "stdout",
     "output_type": "stream",
     "text": [
      "Y axis string value is: 0.0031,0.003,0.0029,0.0028,0.0027,0.0026\n",
      "I am in 1st try\n",
      "Y axis string corrected value is: [0.0031, 0.003, 0.0029, 0.0028, 0.0027, 0.0026]\n",
      "I am in try\n"
     ]
    },
    {
     "name": "stderr",
     "output_type": "stream",
     "text": [
      "\r",
      "Processing files:  80%|████████████████████████████████████████████████▉            | 803/1000 [20:12<04:48,  1.47s/it]"
     ]
    },
    {
     "name": "stdout",
     "output_type": "stream",
     "text": [
      "Y axis string value is: 4,3,2\n",
      "I am in 1st try\n",
      "Y axis string corrected value is: [4.0, 3.0, 2.0]\n",
      "I am in try\n"
     ]
    },
    {
     "name": "stderr",
     "output_type": "stream",
     "text": [
      "\r",
      "Processing files:  80%|█████████████████████████████████████████████████            | 804/1000 [20:14<04:56,  1.51s/it]"
     ]
    },
    {
     "name": "stdout",
     "output_type": "stream",
     "text": [
      "Y axis string value is: 0.0070,0.0065,00060,0.0055,0.0050,0.0045,0.0040,00025,0.0030,0.0025,Q0020,0.0015,Q00100,0.00046,Cop\n",
      "I am in 1st try\n",
      "Y axis string corrected value is: [0.007, 0.0065, 0.006, 0.0055, 0.005, 0.0045, 0.004, 0.0025, 0.003, 0.0025, 0.002, 0.0015, 0.001, 0.00046]\n",
      "I am in try\n"
     ]
    },
    {
     "name": "stderr",
     "output_type": "stream",
     "text": [
      "\r",
      "Processing files:  80%|█████████████████████████████████████████████████            | 805/1000 [20:15<04:55,  1.51s/it]"
     ]
    },
    {
     "name": "stdout",
     "output_type": "stream",
     "text": [
      "Y axis string value is: 0.000143,0.000142,0.000141,0.00014,0.000139\n",
      "I am in 1st try\n",
      "Y axis string corrected value is: [0.000143, 0.000142, 0.000141, 0.00014, 0.000139]\n",
      "I am in try\n"
     ]
    },
    {
     "name": "stderr",
     "output_type": "stream",
     "text": [
      "\r",
      "Processing files:  81%|█████████████████████████████████████████████████▏           | 806/1000 [20:17<04:46,  1.48s/it]"
     ]
    },
    {
     "name": "stdout",
     "output_type": "stream",
     "text": [
      "Y axis string value is: \n",
      "I am in 1st try\n"
     ]
    },
    {
     "name": "stderr",
     "output_type": "stream",
     "text": [
      "\r",
      "Processing files:  81%|█████████████████████████████████████████████████▏           | 807/1000 [20:18<04:47,  1.49s/it]"
     ]
    },
    {
     "name": "stdout",
     "output_type": "stream",
     "text": [
      "Y axis string value is: 0.006,0.0051,0.004',0.003,0.002,0.001\n",
      "I am in 1st try\n",
      "Y axis string corrected value is: [0.006, 0.0051, 0.003, 0.002, 0.001]\n",
      "I am in try\n"
     ]
    },
    {
     "name": "stderr",
     "output_type": "stream",
     "text": [
      "\r",
      "Processing files:  81%|█████████████████████████████████████████████████▎           | 808/1000 [20:20<04:51,  1.52s/it]"
     ]
    },
    {
     "name": "stdout",
     "output_type": "stream",
     "text": [
      "Y axis string value is: 0.006,0.005,0.004,0.003,0.002,0.001\n",
      "I am in 1st try\n",
      "Y axis string corrected value is: [0.006, 0.005, 0.004, 0.003, 0.002, 0.001]\n",
      "I am in try\n"
     ]
    },
    {
     "name": "stderr",
     "output_type": "stream",
     "text": [
      "\r",
      "Processing files:  81%|█████████████████████████████████████████████████▎           | 809/1000 [20:21<04:44,  1.49s/it]"
     ]
    },
    {
     "name": "stdout",
     "output_type": "stream",
     "text": [
      "Y axis string value is: \n",
      "I am in 1st try\n"
     ]
    },
    {
     "name": "stderr",
     "output_type": "stream",
     "text": [
      "\r",
      "Processing files:  81%|█████████████████████████████████████████████████▍           | 810/1000 [20:23<04:37,  1.46s/it]"
     ]
    },
    {
     "name": "stdout",
     "output_type": "stream",
     "text": [
      "Y axis string value is: \n",
      "I am in 1st try\n"
     ]
    },
    {
     "name": "stderr",
     "output_type": "stream",
     "text": [
      "\r",
      "Processing files:  81%|█████████████████████████████████████████████████▍           | 811/1000 [20:24<04:36,  1.46s/it]"
     ]
    },
    {
     "name": "stdout",
     "output_type": "stream",
     "text": [
      "Y axis string value is: 31,30.5,30,29.53,29,28.5\n",
      "I am in 1st try\n",
      "Y axis string corrected value is: [31.0, 30.5, 30.0, 29.53, 29.0, 28.5]\n",
      "I am in try\n"
     ]
    },
    {
     "name": "stderr",
     "output_type": "stream",
     "text": [
      "\r",
      "Processing files:  81%|█████████████████████████████████████████████████▌           | 812/1000 [20:26<04:34,  1.46s/it]"
     ]
    },
    {
     "name": "stdout",
     "output_type": "stream",
     "text": [
      "Y axis string value is: \n",
      "I am in 1st try\n"
     ]
    },
    {
     "name": "stderr",
     "output_type": "stream",
     "text": [
      "\r",
      "Processing files:  81%|█████████████████████████████████████████████████▌           | 813/1000 [20:27<04:31,  1.45s/it]"
     ]
    },
    {
     "name": "stdout",
     "output_type": "stream",
     "text": [
      "Y axis string value is: 1.09,1.08,1.07,1.06,1.05,1.04\n",
      "I am in 1st try\n",
      "Y axis string corrected value is: [1.09, 1.08, 1.07, 1.06, 1.05, 1.04]\n",
      "I am in try\n"
     ]
    },
    {
     "name": "stderr",
     "output_type": "stream",
     "text": [
      "\r",
      "Processing files:  81%|█████████████████████████████████████████████████▋           | 814/1000 [20:28<04:33,  1.47s/it]"
     ]
    },
    {
     "name": "stdout",
     "output_type": "stream",
     "text": [
      "Y axis string value is: 0.00007,0.00006,0.oo005:,0.00004,0.00003\n",
      "I am in 1st try\n",
      "Y axis string corrected value is: [7e-05, 6e-05, 0.005, 4e-05, 3e-05]\n",
      "I am in try\n"
     ]
    },
    {
     "name": "stderr",
     "output_type": "stream",
     "text": [
      "\r",
      "Processing files:  82%|█████████████████████████████████████████████████▋           | 815/1000 [20:30<04:34,  1.48s/it]"
     ]
    },
    {
     "name": "stdout",
     "output_type": "stream",
     "text": [
      "Y axis string value is: 500_,7,40,30,z00,'ioo\n",
      "I am in 1st try\n",
      "Y axis string corrected value is: [7.0, 40.0, 30.0, 0.0]\n",
      "I am in try\n"
     ]
    },
    {
     "name": "stderr",
     "output_type": "stream",
     "text": [
      "\r",
      "Processing files:  82%|█████████████████████████████████████████████████▊           | 816/1000 [20:31<04:29,  1.47s/it]"
     ]
    },
    {
     "name": "stdout",
     "output_type": "stream",
     "text": [
      "Y axis string value is: \n",
      "I am in 1st try\n"
     ]
    },
    {
     "name": "stderr",
     "output_type": "stream",
     "text": [
      "\r",
      "Processing files:  82%|█████████████████████████████████████████████████▊           | 817/1000 [20:33<04:29,  1.47s/it]"
     ]
    },
    {
     "name": "stdout",
     "output_type": "stream",
     "text": [
      "Y axis string value is: 0.002,0.002,0.00,0.001,0.001,0.001,0.001\n",
      "I am in 1st try\n",
      "Y axis string corrected value is: [0.002, 0.002, 0.0, 0.001, 0.001, 0.001, 0.001]\n",
      "I am in try\n"
     ]
    },
    {
     "name": "stderr",
     "output_type": "stream",
     "text": [
      "\r",
      "Processing files:  82%|█████████████████████████████████████████████████▉           | 818/1000 [20:34<04:24,  1.45s/it]"
     ]
    },
    {
     "name": "stdout",
     "output_type": "stream",
     "text": [
      "Y axis string value is: \n",
      "I am in 1st try\n"
     ]
    },
    {
     "name": "stderr",
     "output_type": "stream",
     "text": [
      "\r",
      "Processing files:  82%|█████████████████████████████████████████████████▉           | 819/1000 [20:36<04:22,  1.45s/it]"
     ]
    },
    {
     "name": "stdout",
     "output_type": "stream",
     "text": [
      "Y axis string value is: Se-7,4e-7:,3e- ,2e-7,1e-7\n",
      "I am in 1st try\n",
      "Y axis string corrected value is: [5e-07, 4e-07, 2e-07, 1e-07]\n",
      "I am in try\n"
     ]
    },
    {
     "name": "stderr",
     "output_type": "stream",
     "text": [
      "\r",
      "Processing files:  82%|██████████████████████████████████████████████████           | 820/1000 [20:37<04:29,  1.50s/it]"
     ]
    },
    {
     "name": "stdout",
     "output_type": "stream",
     "text": [
      "Y axis string value is: 0.026,0025,0024,0.023,0.022,0.021,0.020,0.019,0.018,0.017,0.016,0.015,0.014,0.013,0.012,0.011,0.0100,0.0090,0085,0.0080,Cap,00070,Tvao\n",
      "I am in 1st try\n",
      "Y axis string corrected value is: [0.026, 0.025, 0.024, 0.023, 0.022, 0.021, 0.02, 0.019, 0.018, 0.017, 0.016, 0.015, 0.014, 0.013, 0.012, 0.011, 0.01, 0.009, 0.085, 0.008, 0.007]\n",
      "I am in try\n"
     ]
    },
    {
     "name": "stderr",
     "output_type": "stream",
     "text": [
      "\r",
      "Processing files:  82%|██████████████████████████████████████████████████           | 821/1000 [20:39<04:29,  1.50s/it]"
     ]
    },
    {
     "name": "stdout",
     "output_type": "stream",
     "text": [
      "Y axis string value is: 0.01,0.008,0.006,0.004,0.002\n",
      "I am in 1st try\n",
      "Y axis string corrected value is: [0.01, 0.008, 0.006, 0.004, 0.002]\n",
      "I am in try\n"
     ]
    },
    {
     "name": "stderr",
     "output_type": "stream",
     "text": [
      "\r",
      "Processing files:  82%|██████████████████████████████████████████████████▏          | 822/1000 [20:40<04:27,  1.50s/it]"
     ]
    },
    {
     "name": "stdout",
     "output_type": "stream",
     "text": [
      "Y axis string value is: 6e-11,Se-11,4e-11,3e-11,2e-11,Ie-11\n",
      "I am in 1st try\n",
      "Y axis string corrected value is: [6e-11, 5e-11, 4e-11, 3e-11, 2e-11, 1e-11]\n",
      "I am in try\n"
     ]
    },
    {
     "name": "stderr",
     "output_type": "stream",
     "text": [
      "\r",
      "Processing files:  82%|██████████████████████████████████████████████████▏          | 823/1000 [20:42<04:26,  1.51s/it]"
     ]
    },
    {
     "name": "stdout",
     "output_type": "stream",
     "text": [
      "Y axis string value is: 0.0017128\n",
      "I am in 1st try\n",
      "Y axis string corrected value is: [0.0017128]\n"
     ]
    },
    {
     "name": "stderr",
     "output_type": "stream",
     "text": [
      "\r",
      "Processing files:  82%|██████████████████████████████████████████████████▎          | 824/1000 [20:43<04:25,  1.51s/it]"
     ]
    },
    {
     "name": "stdout",
     "output_type": "stream",
     "text": [
      "Y axis string value is: 0.5566,0.5565,0.5564,0.5563,0.5562,0.5561,0.556,0.5559\n",
      "I am in 1st try\n",
      "Y axis string corrected value is: [0.5566, 0.5565, 0.5564, 0.5563, 0.5562, 0.5561, 0.556, 0.5559]\n",
      "I am in try\n"
     ]
    },
    {
     "name": "stderr",
     "output_type": "stream",
     "text": [
      "\r",
      "Processing files:  82%|██████████████████████████████████████████████████▎          | 825/1000 [20:45<04:18,  1.47s/it]"
     ]
    },
    {
     "name": "stdout",
     "output_type": "stream",
     "text": [
      "Y axis string value is: \n",
      "I am in 1st try\n"
     ]
    },
    {
     "name": "stderr",
     "output_type": "stream",
     "text": [
      "\r",
      "Processing files:  83%|██████████████████████████████████████████████████▍          | 826/1000 [20:46<04:21,  1.50s/it]"
     ]
    },
    {
     "name": "stdout",
     "output_type": "stream",
     "text": [
      "Y axis string value is: 0.048,0046,004,0042,0.040,0.038,0.036,0.034,0.032,0.030,0028,0.026,0.024,0.022,0.020,0.018,0016,O.01,0.012,0.0100,019,Cap,0.0060\n",
      "I am in 1st try\n",
      "Y axis string corrected value is: [0.048, 0.046, 0.04, 0.042, 0.04, 0.038, 0.036, 0.034, 0.032, 0.03, 0.028, 0.026, 0.024, 0.022, 0.02, 0.018, 0.016, 0.01, 0.012, 0.01, 0.19, 0.006]\n",
      "I am in try\n"
     ]
    },
    {
     "name": "stderr",
     "output_type": "stream",
     "text": [
      "\r",
      "Processing files:  83%|██████████████████████████████████████████████████▍          | 827/1000 [20:48<04:20,  1.51s/it]"
     ]
    },
    {
     "name": "stdout",
     "output_type": "stream",
     "text": [
      "Y axis string value is: 0.07,0.06,0.05,0.04;,0.03,0.02\n",
      "I am in 1st try\n",
      "Y axis string corrected value is: [0.07, 0.06, 0.05, 0.03, 0.02]\n",
      "I am in try\n"
     ]
    },
    {
     "name": "stderr",
     "output_type": "stream",
     "text": [
      "\r",
      "Processing files:  83%|██████████████████████████████████████████████████▌          | 828/1000 [20:49<04:12,  1.47s/it]"
     ]
    },
    {
     "name": "stdout",
     "output_type": "stream",
     "text": [
      "Y axis string value is: \n",
      "I am in 1st try\n"
     ]
    },
    {
     "name": "stderr",
     "output_type": "stream",
     "text": [
      "\r",
      "Processing files:  83%|██████████████████████████████████████████████████▌          | 829/1000 [20:51<04:11,  1.47s/it]"
     ]
    },
    {
     "name": "stdout",
     "output_type": "stream",
     "text": [
      "Y axis string value is: 17,1:6,1.3\n",
      "I am in 1st try\n",
      "Y axis string corrected value is: [17.0, 1.3]\n",
      "I am in try\n"
     ]
    },
    {
     "name": "stderr",
     "output_type": "stream",
     "text": [
      "\r",
      "Processing files:  83%|██████████████████████████████████████████████████▋          | 830/1000 [20:52<04:14,  1.50s/it]"
     ]
    },
    {
     "name": "stdout",
     "output_type": "stream",
     "text": [
      "Y axis string value is: 0.009925:,0.0099,0.009875=,0.00985:,0.009825,0.0098\n",
      "I am in 1st try\n",
      "Y axis string corrected value is: [0.0099, 0.009825, 0.0098]\n",
      "I am in try\n"
     ]
    },
    {
     "name": "stderr",
     "output_type": "stream",
     "text": [
      "\r",
      "Processing files:  83%|██████████████████████████████████████████████████▋          | 831/1000 [20:54<04:14,  1.51s/it]"
     ]
    },
    {
     "name": "stdout",
     "output_type": "stream",
     "text": [
      "Y axis string value is: 1.7e-7,1.6e-7,1.Se-7:,1.4e-7,1.3e-7,1.2e-7\n",
      "I am in 1st try\n",
      "Y axis string corrected value is: [1.7e-07, 1.6e-07, 1.5e-07, 1.4e-07, 1.3e-07, 1.2e-07]\n",
      "I am in try\n"
     ]
    },
    {
     "name": "stderr",
     "output_type": "stream",
     "text": [
      "\r",
      "Processing files:  83%|██████████████████████████████████████████████████▊          | 832/1000 [20:55<04:08,  1.48s/it]"
     ]
    },
    {
     "name": "stdout",
     "output_type": "stream",
     "text": [
      "Y axis string value is: \n",
      "I am in 1st try\n"
     ]
    },
    {
     "name": "stderr",
     "output_type": "stream",
     "text": [
      "\r",
      "Processing files:  83%|██████████████████████████████████████████████████▊          | 833/1000 [20:57<04:07,  1.48s/it]"
     ]
    },
    {
     "name": "stdout",
     "output_type": "stream",
     "text": [
      "Y axis string value is: 0.19,0.18,,0.17,0.16 ,,0.15,0.14,0.13,0.12,0.11,0.099,0.090,0.080,0.070,0.060,0050,Cap\n",
      "I am in 1st try\n"
     ]
    },
    {
     "name": "stderr",
     "output_type": "stream",
     "text": [
      "\r",
      "Processing files:  83%|██████████████████████████████████████████████████▊          | 834/1000 [20:58<04:15,  1.54s/it]"
     ]
    },
    {
     "name": "stdout",
     "output_type": "stream",
     "text": [
      "Y axis string value is: \n",
      "I am in 1st try\n"
     ]
    },
    {
     "name": "stderr",
     "output_type": "stream",
     "text": [
      "\r",
      "Processing files:  84%|██████████████████████████████████████████████████▉          | 835/1000 [21:00<04:14,  1.54s/it]"
     ]
    },
    {
     "name": "stdout",
     "output_type": "stream",
     "text": [
      "Y axis string value is: 0.0000325,0.00003,0.0000275,0.000025,0.0000225,0.00002,0.0000175,0.000015\n",
      "I am in 1st try\n",
      "Y axis string corrected value is: [3.25e-05, 3e-05, 2.75e-05, 2.5e-05, 2.25e-05, 2e-05, 1.75e-05, 1.5e-05]\n",
      "I am in try\n"
     ]
    },
    {
     "name": "stderr",
     "output_type": "stream",
     "text": [
      "\r",
      "Processing files:  84%|██████████████████████████████████████████████████▉          | 836/1000 [21:01<04:06,  1.50s/it]"
     ]
    },
    {
     "name": "stdout",
     "output_type": "stream",
     "text": [
      "Y axis string value is: \n",
      "I am in 1st try\n"
     ]
    },
    {
     "name": "stderr",
     "output_type": "stream",
     "text": [
      "\r",
      "Processing files:  84%|███████████████████████████████████████████████████          | 837/1000 [21:03<03:55,  1.45s/it]"
     ]
    },
    {
     "name": "stdout",
     "output_type": "stream",
     "text": [
      "Y axis string value is: \n",
      "I am in 1st try\n"
     ]
    },
    {
     "name": "stderr",
     "output_type": "stream",
     "text": [
      "\r",
      "Processing files:  84%|███████████████████████████████████████████████████          | 838/1000 [21:04<03:56,  1.46s/it]"
     ]
    },
    {
     "name": "stdout",
     "output_type": "stream",
     "text": [
      "Y axis string value is: 0.009,0.008,0.007,0.006,0.005,0.004,0.003\n",
      "I am in 1st try\n",
      "Y axis string corrected value is: [0.009, 0.008, 0.007, 0.006, 0.005, 0.004, 0.003]\n",
      "I am in try\n"
     ]
    },
    {
     "name": "stderr",
     "output_type": "stream",
     "text": [
      "\r",
      "Processing files:  84%|███████████████████████████████████████████████████▏         | 839/1000 [21:06<04:01,  1.50s/it]"
     ]
    },
    {
     "name": "stdout",
     "output_type": "stream",
     "text": [
      "Y axis string value is: 0.36,034,0.32,0.30,0.28,0.26,024,0.22,0.20,18,0.18,0.16,014,0.12,cop\n",
      "I am in 1st try\n",
      "Y axis string corrected value is: [0.36, 0.34, 0.32, 0.3, 0.28, 0.26, 0.24, 0.22, 0.2, 18.0, 0.18, 0.16, 0.14, 0.12]\n",
      "I am in try\n"
     ]
    },
    {
     "name": "stderr",
     "output_type": "stream",
     "text": [
      "\r",
      "Processing files:  84%|███████████████████████████████████████████████████▏         | 840/1000 [21:07<04:05,  1.54s/it]"
     ]
    },
    {
     "name": "stdout",
     "output_type": "stream",
     "text": [
      "Y axis string value is: 0.0000475,0.000045,0.0000425,0.00004,0.0000375,0.000035,0.0000325\n",
      "I am in 1st try\n",
      "Y axis string corrected value is: [4.75e-05, 4.5e-05, 4.25e-05, 4e-05, 3.75e-05, 3.5e-05, 3.25e-05]\n",
      "I am in try\n"
     ]
    },
    {
     "name": "stderr",
     "output_type": "stream",
     "text": [
      "\r",
      "Processing files:  84%|███████████████████████████████████████████████████▎         | 841/1000 [21:09<04:04,  1.54s/it]"
     ]
    },
    {
     "name": "stdout",
     "output_type": "stream",
     "text": [
      "Y axis string value is: 0.005,0.0045,0.004,0.0035,0.003,0.0025\n",
      "I am in 1st try\n",
      "Y axis string corrected value is: [0.005, 0.0045, 0.004, 0.0035, 0.003, 0.0025]\n",
      "I am in try\n"
     ]
    },
    {
     "name": "stderr",
     "output_type": "stream",
     "text": [
      "\r",
      "Processing files:  84%|███████████████████████████████████████████████████▎         | 842/1000 [21:10<04:04,  1.54s/it]"
     ]
    },
    {
     "name": "stdout",
     "output_type": "stream",
     "text": [
      "Y axis string value is: 0.05,0.045,0.04,0.035,0.03,0.025\n",
      "I am in 1st try\n",
      "Y axis string corrected value is: [0.05, 0.045, 0.04, 0.035, 0.03, 0.025]\n",
      "I am in try\n"
     ]
    },
    {
     "name": "stderr",
     "output_type": "stream",
     "text": [
      "\r",
      "Processing files:  84%|███████████████████████████████████████████████████▍         | 843/1000 [21:12<03:59,  1.53s/it]"
     ]
    },
    {
     "name": "stdout",
     "output_type": "stream",
     "text": [
      "Y axis string value is: 0.0055,0.0oss,0.0045,0.004,0.0035,0.003,0.0025\n",
      "I am in 1st try\n",
      "Y axis string corrected value is: [0.0055, 0.0, 0.0045, 0.004, 0.0035, 0.003, 0.0025]\n",
      "I am in try\n"
     ]
    },
    {
     "name": "stderr",
     "output_type": "stream",
     "text": [
      "\r",
      "Processing files:  84%|███████████████████████████████████████████████████▍         | 844/1000 [21:14<04:00,  1.54s/it]"
     ]
    },
    {
     "name": "stdout",
     "output_type": "stream",
     "text": [
      "Y axis string value is: 0.4,0.39,0.38,0.37,0.36,0.351,0.34L,0.331\n",
      "I am in 1st try\n",
      "Y axis string corrected value is: [0.4, 0.39, 0.38, 0.37, 0.36, 0.351, 0.341, 0.331]\n",
      "I am in try\n"
     ]
    },
    {
     "name": "stderr",
     "output_type": "stream",
     "text": [
      "\r",
      "Processing files:  84%|███████████████████████████████████████████████████▌         | 845/1000 [21:15<03:54,  1.51s/it]"
     ]
    },
    {
     "name": "stdout",
     "output_type": "stream",
     "text": [
      "Y axis string value is: \n",
      "I am in 1st try\n"
     ]
    },
    {
     "name": "stderr",
     "output_type": "stream",
     "text": [
      "\r",
      "Processing files:  85%|███████████████████████████████████████████████████▌         | 846/1000 [21:17<03:52,  1.51s/it]"
     ]
    },
    {
     "name": "stdout",
     "output_type": "stream",
     "text": [
      "Y axis string value is: 0.000006,0.Ooooos,0.000004,0.000003,,0.000002,0.000001\n",
      "I am in 1st try\n"
     ]
    },
    {
     "name": "stderr",
     "output_type": "stream",
     "text": [
      "\r",
      "Processing files:  85%|███████████████████████████████████████████████████▋         | 847/1000 [21:18<03:51,  1.51s/it]"
     ]
    },
    {
     "name": "stdout",
     "output_type": "stream",
     "text": [
      "Y axis string value is: 0.004,0.0035,0.003,0.0025,0.002,0.0015,0.001,0.0005\n",
      "I am in 1st try\n",
      "Y axis string corrected value is: [0.004, 0.0035, 0.003, 0.0025, 0.002, 0.0015, 0.001, 0.0005]\n",
      "I am in try\n"
     ]
    },
    {
     "name": "stderr",
     "output_type": "stream",
     "text": [
      "\r",
      "Processing files:  85%|███████████████████████████████████████████████████▋         | 848/1000 [21:20<03:52,  1.53s/it]"
     ]
    },
    {
     "name": "stdout",
     "output_type": "stream",
     "text": [
      "Y axis string value is: 0.0003,0.000275,0.00025,0.000225,0.0002,0.0001 75,0.00015\n",
      "I am in 1st try\n",
      "Y axis string corrected value is: [0.0003, 0.000275, 0.00025, 0.000225, 0.0002, 0.00015]\n",
      "I am in try\n"
     ]
    },
    {
     "name": "stderr",
     "output_type": "stream",
     "text": [
      "\r",
      "Processing files:  85%|███████████████████████████████████████████████████▊         | 849/1000 [21:21<03:48,  1.52s/it]"
     ]
    },
    {
     "name": "stdout",
     "output_type": "stream",
     "text": [
      "Y axis string value is: 05285,0.528,0.5275,0.527,05265,0.526,05255,0525,0p0a \n",
      "I am in 1st try\n",
      "Y axis string corrected value is: [0.5285, 0.528, 0.5275, 0.527, 0.5265, 0.526, 0.5255, 0.525, 0.0]\n",
      "I am in try\n"
     ]
    },
    {
     "name": "stderr",
     "output_type": "stream",
     "text": [
      "\r",
      "Processing files:  85%|███████████████████████████████████████████████████▊         | 850/1000 [21:23<03:49,  1.53s/it]"
     ]
    },
    {
     "name": "stdout",
     "output_type": "stream",
     "text": [
      "Y axis string value is: 0.02335,0.0233,0.02325,0.0232,0.02315|,0.0231,0.02305\n",
      "I am in 1st try\n",
      "Y axis string corrected value is: [0.02335, 0.0233, 0.02325, 0.0232, 0.0231, 0.02305]\n",
      "I am in try\n"
     ]
    },
    {
     "name": "stderr",
     "output_type": "stream",
     "text": [
      "\r",
      "Processing files:  85%|███████████████████████████████████████████████████▉         | 851/1000 [21:24<03:40,  1.48s/it]"
     ]
    },
    {
     "name": "stdout",
     "output_type": "stream",
     "text": [
      "Y axis string value is: \n",
      "I am in 1st try\n"
     ]
    },
    {
     "name": "stderr",
     "output_type": "stream",
     "text": [
      "\r",
      "Processing files:  85%|███████████████████████████████████████████████████▉         | 852/1000 [21:26<03:42,  1.50s/it]"
     ]
    },
    {
     "name": "stdout",
     "output_type": "stream",
     "text": [
      "Y axis string value is: 2.2e-7,2e-7,1.8e-7,1.6e-7,1.4e-7,1.2e-7\n",
      "I am in 1st try\n",
      "Y axis string corrected value is: [2.2e-07, 2e-07, 1.8e-07, 1.6e-07, 1.4e-07, 1.2e-07]\n",
      "I am in try\n"
     ]
    },
    {
     "name": "stderr",
     "output_type": "stream",
     "text": [
      "\r",
      "Processing files:  85%|████████████████████████████████████████████████████         | 853/1000 [21:27<03:42,  1.51s/it]"
     ]
    },
    {
     "name": "stdout",
     "output_type": "stream",
     "text": [
      "Y axis string value is: 0.04,0.0351,0.03,0.025,0.02\n",
      "I am in 1st try\n",
      "Y axis string corrected value is: [0.04, 0.0351, 0.03, 0.025, 0.02]\n",
      "I am in try\n"
     ]
    },
    {
     "name": "stderr",
     "output_type": "stream",
     "text": [
      "\r",
      "Processing files:  85%|████████████████████████████████████████████████████         | 854/1000 [21:28<03:35,  1.47s/it]"
     ]
    },
    {
     "name": "stdout",
     "output_type": "stream",
     "text": [
      "Y axis string value is: \n",
      "I am in 1st try\n"
     ]
    },
    {
     "name": "stderr",
     "output_type": "stream",
     "text": [
      "\r",
      "Processing files:  86%|████████████████████████████████████████████████████▏        | 855/1000 [21:30<03:33,  1.47s/it]"
     ]
    },
    {
     "name": "stdout",
     "output_type": "stream",
     "text": [
      "Y axis string value is: 7.5e-7,7e-7,6.Se-7,6e-7,5.5e-7\n",
      "I am in 1st try\n",
      "Y axis string corrected value is: [7.5e-07, 7e-07, 6.5e-07, 6e-07, 5.5e-07]\n",
      "I am in try\n"
     ]
    },
    {
     "name": "stderr",
     "output_type": "stream",
     "text": [
      "\r",
      "Processing files:  86%|████████████████████████████████████████████████████▏        | 856/1000 [21:32<03:36,  1.50s/it]"
     ]
    },
    {
     "name": "stdout",
     "output_type": "stream",
     "text": [
      "Y axis string value is: 0.001,0.0008,0.0006,0.0004,0.00002\n",
      "I am in 1st try\n",
      "Y axis string corrected value is: [0.001, 0.0008, 0.0006, 0.0004, 2e-05]\n",
      "I am in try\n"
     ]
    },
    {
     "name": "stderr",
     "output_type": "stream",
     "text": [
      "Processing files:  86%|████████████████████████████████████████████████████▎        | 858/1000 [21:35<03:34,  1.51s/it]"
     ]
    },
    {
     "name": "stdout",
     "output_type": "stream",
     "text": [
      "Y axis string value is: \n",
      "I am in 1st try\n"
     ]
    },
    {
     "name": "stderr",
     "output_type": "stream",
     "text": [
      "\r",
      "Processing files:  86%|████████████████████████████████████████████████████▍        | 859/1000 [21:36<03:25,  1.45s/it]"
     ]
    },
    {
     "name": "stdout",
     "output_type": "stream",
     "text": [
      "Y axis string value is: \n",
      "I am in 1st try\n"
     ]
    },
    {
     "name": "stderr",
     "output_type": "stream",
     "text": [
      "\r",
      "Processing files:  86%|████████████████████████████████████████████████████▍        | 860/1000 [21:37<03:21,  1.44s/it]"
     ]
    },
    {
     "name": "stdout",
     "output_type": "stream",
     "text": [
      "Y axis string value is: \n",
      "I am in 1st try\n"
     ]
    },
    {
     "name": "stderr",
     "output_type": "stream",
     "text": [
      "\r",
      "Processing files:  86%|████████████████████████████████████████████████████▌        | 861/1000 [21:39<03:19,  1.43s/it]"
     ]
    },
    {
     "name": "stdout",
     "output_type": "stream",
     "text": [
      "Y axis string value is: \n",
      "I am in 1st try\n"
     ]
    },
    {
     "name": "stderr",
     "output_type": "stream",
     "text": [
      "\r",
      "Processing files:  86%|████████████████████████████████████████████████████▌        | 862/1000 [21:40<03:19,  1.45s/it]"
     ]
    },
    {
     "name": "stdout",
     "output_type": "stream",
     "text": [
      "Y axis string value is: 0.005,0.004,0.003,0.002,0.001\n",
      "I am in 1st try\n",
      "Y axis string corrected value is: [0.005, 0.004, 0.003, 0.002, 0.001]\n",
      "I am in try\n"
     ]
    },
    {
     "name": "stderr",
     "output_type": "stream",
     "text": [
      "\r",
      "Processing files:  86%|████████████████████████████████████████████████████▋        | 863/1000 [21:42<03:22,  1.47s/it]"
     ]
    },
    {
     "name": "stdout",
     "output_type": "stream",
     "text": [
      "Y axis string value is: 0.035,0.03/,0.025,0.02\n",
      "I am in 1st try\n",
      "Y axis string corrected value is: [0.035, 0.025, 0.02]\n",
      "I am in try\n"
     ]
    },
    {
     "name": "stderr",
     "output_type": "stream",
     "text": [
      "\r",
      "Processing files:  86%|████████████████████████████████████████████████████▋        | 864/1000 [21:43<03:22,  1.49s/it]"
     ]
    },
    {
     "name": "stdout",
     "output_type": "stream",
     "text": [
      "Y axis string value is: 3.25e-8,3.2e-8,3.1Se-8,3.1e-8,3.05e-8,3e-8,2.95e-8,2.9e-8\n",
      "I am in 1st try\n",
      "Y axis string corrected value is: [3.25e-08, 3.2e-08, 3.15e-08, 3.1e-08, 3.05e-08, 3e-08, 2.95e-08, 2.9e-08]\n",
      "I am in try\n"
     ]
    },
    {
     "name": "stderr",
     "output_type": "stream",
     "text": [
      "\r",
      "Processing files:  86%|████████████████████████████████████████████████████▊        | 865/1000 [21:45<03:23,  1.51s/it]"
     ]
    },
    {
     "name": "stdout",
     "output_type": "stream",
     "text": [
      "Y axis string value is: 1.2000,1.150,1.1000,1.050,0.99,0.95,0.90,0.85,0.80,0.75\n",
      "I am in 1st try\n",
      "Y axis string corrected value is: [1.2, 1.15, 1.1, 1.05, 0.99, 0.95, 0.9, 0.85, 0.8, 0.75]\n",
      "I am in try\n"
     ]
    },
    {
     "name": "stderr",
     "output_type": "stream",
     "text": [
      "\r",
      "Processing files:  87%|████████████████████████████████████████████████████▊        | 866/1000 [21:46<03:19,  1.49s/it]"
     ]
    },
    {
     "name": "stdout",
     "output_type": "stream",
     "text": [
      "Y axis string value is: 10.,9.8,9.6,9.4,9.2\n",
      "I am in 1st try\n",
      "Y axis string corrected value is: [10.0, 9.8, 9.6, 9.4, 9.2]\n",
      "I am in try\n"
     ]
    },
    {
     "name": "stderr",
     "output_type": "stream",
     "text": [
      "\r",
      "Processing files:  87%|████████████████████████████████████████████████████▉        | 867/1000 [21:48<03:17,  1.49s/it]"
     ]
    },
    {
     "name": "stdout",
     "output_type": "stream",
     "text": [
      "Y axis string value is: 0.26,0.24,0.228,,0.2,0.18,0.16\n",
      "I am in 1st try\n"
     ]
    },
    {
     "name": "stderr",
     "output_type": "stream",
     "text": [
      "\r",
      "Processing files:  87%|████████████████████████████████████████████████████▉        | 868/1000 [21:49<03:19,  1.51s/it]"
     ]
    },
    {
     "name": "stdout",
     "output_type": "stream",
     "text": [
      "Y axis string value is: 3.Se-7,3e-7,2.Se-7,2e-7,1.Se-7,Ie-7,Se-8\n",
      "I am in 1st try\n",
      "Y axis string corrected value is: [3.5e-07, 3e-07, 2.5e-07, 2e-07, 1.5e-07, 1e-07, 5e-08]\n",
      "I am in try\n"
     ]
    },
    {
     "name": "stderr",
     "output_type": "stream",
     "text": [
      "\r",
      "Processing files:  87%|█████████████████████████████████████████████████████        | 869/1000 [21:51<03:13,  1.48s/it]"
     ]
    },
    {
     "name": "stdout",
     "output_type": "stream",
     "text": [
      "Y axis string value is: \n",
      "I am in 1st try\n"
     ]
    },
    {
     "name": "stderr",
     "output_type": "stream",
     "text": [
      "\r",
      "Processing files:  87%|█████████████████████████████████████████████████████        | 870/1000 [21:52<03:09,  1.46s/it]"
     ]
    },
    {
     "name": "stdout",
     "output_type": "stream",
     "text": [
      "Y axis string value is: 0.25,0.2,0.15S,0.1,0.05\n",
      "I am in 1st try\n",
      "Y axis string corrected value is: [0.25, 0.2, 0.155, 0.1, 0.05]\n",
      "I am in try\n"
     ]
    },
    {
     "name": "stderr",
     "output_type": "stream",
     "text": [
      "\r",
      "Processing files:  87%|█████████████████████████████████████████████████████▏       | 871/1000 [21:54<03:13,  1.50s/it]"
     ]
    },
    {
     "name": "stdout",
     "output_type": "stream",
     "text": [
      "Y axis string value is: 1100,1001,900,8o0,700,600,500\n",
      "I am in 1st try\n",
      "Y axis string corrected value is: [1100.0, 1001.0, 900.0, 80.0, 700.0, 600.0, 500.0]\n",
      "I am in try\n"
     ]
    },
    {
     "name": "stderr",
     "output_type": "stream",
     "text": [
      "\r",
      "Processing files:  87%|█████████████████████████████████████████████████████▏       | 872/1000 [21:55<03:13,  1.51s/it]"
     ]
    },
    {
     "name": "stdout",
     "output_type": "stream",
     "text": [
      "Y axis string value is: 80,70,60,50,40,30,20,10\n",
      "I am in 1st try\n",
      "Y axis string corrected value is: [80.0, 70.0, 60.0, 50.0, 40.0, 30.0, 20.0, 10.0]\n",
      "I am in try\n"
     ]
    },
    {
     "name": "stderr",
     "output_type": "stream",
     "text": [
      "\r",
      "Processing files:  87%|█████████████████████████████████████████████████████▎       | 873/1000 [21:57<03:11,  1.51s/it]"
     ]
    },
    {
     "name": "stdout",
     "output_type": "stream",
     "text": [
      "Y axis string value is: 65,60,55,50,45,40,35,30\n",
      "I am in 1st try\n",
      "Y axis string corrected value is: [65.0, 60.0, 55.0, 50.0, 45.0, 40.0, 35.0, 30.0]\n",
      "I am in try\n"
     ]
    },
    {
     "name": "stderr",
     "output_type": "stream",
     "text": [
      "\r",
      "Processing files:  87%|█████████████████████████████████████████████████████▎       | 874/1000 [21:58<03:09,  1.50s/it]"
     ]
    },
    {
     "name": "stdout",
     "output_type": "stream",
     "text": [
      "Y axis string value is: 0.004,0.00,0.003,0.00,0.002\n",
      "I am in 1st try\n",
      "Y axis string corrected value is: [0.004, 0.0, 0.003, 0.0, 0.002]\n",
      "I am in try\n"
     ]
    },
    {
     "name": "stderr",
     "output_type": "stream",
     "text": [
      "\r",
      "Processing files:  88%|█████████████████████████████████████████████████████▍       | 875/1000 [22:00<03:08,  1.51s/it]"
     ]
    },
    {
     "name": "stdout",
     "output_type": "stream",
     "text": [
      "Y axis string value is: 3.4770555\n",
      "I am in 1st try\n",
      "Y axis string corrected value is: [3.4770555]\n"
     ]
    },
    {
     "name": "stderr",
     "output_type": "stream",
     "text": [
      "\r",
      "Processing files:  88%|█████████████████████████████████████████████████████▍       | 876/1000 [22:01<03:03,  1.48s/it]"
     ]
    },
    {
     "name": "stdout",
     "output_type": "stream",
     "text": [
      "Y axis string value is: \n",
      "I am in 1st try\n"
     ]
    },
    {
     "name": "stderr",
     "output_type": "stream",
     "text": [
      "\r",
      "Processing files:  88%|█████████████████████████████████████████████████████▍       | 877/1000 [22:03<03:05,  1.51s/it]"
     ]
    },
    {
     "name": "stdout",
     "output_type": "stream",
     "text": [
      "Y axis string value is: 7e-10_,6e-10,Se-10,4e-10,3e-10,2e-10,Ie-10,\n",
      "I am in 1st try\n"
     ]
    },
    {
     "name": "stderr",
     "output_type": "stream",
     "text": [
      "\r",
      "Processing files:  88%|█████████████████████████████████████████████████████▌       | 878/1000 [22:04<03:02,  1.49s/it]"
     ]
    },
    {
     "name": "stdout",
     "output_type": "stream",
     "text": [
      "Y axis string value is: \n",
      "I am in 1st try\n"
     ]
    },
    {
     "name": "stderr",
     "output_type": "stream",
     "text": [
      "\r",
      "Processing files:  88%|█████████████████████████████████████████████████████▌       | 879/1000 [22:06<02:56,  1.46s/it]"
     ]
    },
    {
     "name": "stdout",
     "output_type": "stream",
     "text": [
      "Y axis string value is: \n",
      "I am in 1st try\n"
     ]
    },
    {
     "name": "stderr",
     "output_type": "stream",
     "text": [
      "\r",
      "Processing files:  88%|█████████████████████████████████████████████████████▋       | 880/1000 [22:07<02:54,  1.45s/it]"
     ]
    },
    {
     "name": "stdout",
     "output_type": "stream",
     "text": [
      "Y axis string value is: 9790.7030\n",
      "I am in 1st try\n",
      "Y axis string corrected value is: [9790.703]\n"
     ]
    },
    {
     "name": "stderr",
     "output_type": "stream",
     "text": [
      "\r",
      "Processing files:  88%|█████████████████████████████████████████████████████▋       | 881/1000 [22:09<02:55,  1.48s/it]"
     ]
    },
    {
     "name": "stdout",
     "output_type": "stream",
     "text": [
      "Y axis string value is: 0.026205,0.0262,0.026195,0.02619,0.026185\n",
      "I am in 1st try\n",
      "Y axis string corrected value is: [0.026205, 0.0262, 0.026195, 0.02619, 0.026185]\n",
      "I am in try\n"
     ]
    },
    {
     "name": "stderr",
     "output_type": "stream",
     "text": [
      "\r",
      "Processing files:  88%|█████████████████████████████████████████████████████▊       | 882/1000 [22:10<02:58,  1.51s/it]"
     ]
    },
    {
     "name": "stdout",
     "output_type": "stream",
     "text": [
      "Y axis string value is: 9e-8 ;,8e-81,7e-8,6e-8,Se-8,4e-8;,3e-8\n",
      "I am in 1st try\n",
      "Y axis string corrected value is: [8e-81, 7e-08, 6e-08, 5e-08, 4e-08, 3e-08]\n",
      "I am in try\n"
     ]
    },
    {
     "name": "stderr",
     "output_type": "stream",
     "text": [
      "\r",
      "Processing files:  88%|█████████████████████████████████████████████████████▊       | 883/1000 [22:12<02:55,  1.50s/it]"
     ]
    },
    {
     "name": "stdout",
     "output_type": "stream",
     "text": [
      "Y axis string value is: \n",
      "I am in 1st try\n"
     ]
    },
    {
     "name": "stderr",
     "output_type": "stream",
     "text": [
      "\r",
      "Processing files:  88%|█████████████████████████████████████████████████████▉       | 884/1000 [22:13<02:51,  1.48s/it]"
     ]
    },
    {
     "name": "stdout",
     "output_type": "stream",
     "text": [
      "Y axis string value is: \n",
      "I am in 1st try\n"
     ]
    },
    {
     "name": "stderr",
     "output_type": "stream",
     "text": [
      "\r",
      "Processing files:  88%|█████████████████████████████████████████████████████▉       | 885/1000 [22:15<02:52,  1.50s/it]"
     ]
    },
    {
     "name": "stdout",
     "output_type": "stream",
     "text": [
      "Y axis string value is: 0.02,0.0175,0.015,0.0125,0.01,0.0075,0.005,0.0025\n",
      "I am in 1st try\n",
      "Y axis string corrected value is: [0.02, 0.0175, 0.015, 0.0125, 0.01, 0.0075, 0.005, 0.0025]\n",
      "I am in try\n"
     ]
    },
    {
     "name": "stderr",
     "output_type": "stream",
     "text": [
      "\r",
      "Processing files:  89%|██████████████████████████████████████████████████████       | 886/1000 [22:16<02:49,  1.49s/it]"
     ]
    },
    {
     "name": "stdout",
     "output_type": "stream",
     "text": [
      "Y axis string value is: 0.57,0.56,0.55,0.54,0.53,0.52M^,0.51\n",
      "I am in 1st try\n",
      "Y axis string corrected value is: [0.57, 0.56, 0.55, 0.54, 0.53, 0.52, 0.51]\n",
      "I am in try\n"
     ]
    },
    {
     "name": "stderr",
     "output_type": "stream",
     "text": [
      "\r",
      "Processing files:  89%|██████████████████████████████████████████████████████       | 887/1000 [22:17<02:43,  1.45s/it]"
     ]
    },
    {
     "name": "stdout",
     "output_type": "stream",
     "text": [
      "Y axis string value is: \n",
      "I am in 1st try\n"
     ]
    },
    {
     "name": "stderr",
     "output_type": "stream",
     "text": [
      "\r",
      "Processing files:  89%|██████████████████████████████████████████████████████▏      | 888/1000 [22:19<02:44,  1.47s/it]"
     ]
    },
    {
     "name": "stdout",
     "output_type": "stream",
     "text": [
      "Y axis string value is: 0.018,0.016,0.014,0.012,0.01,0.008\n",
      "I am in 1st try\n",
      "Y axis string corrected value is: [0.018, 0.016, 0.014, 0.012, 0.01, 0.008]\n",
      "I am in try\n"
     ]
    },
    {
     "name": "stderr",
     "output_type": "stream",
     "text": [
      "\r",
      "Processing files:  89%|██████████████████████████████████████████████████████▏      | 889/1000 [22:21<02:46,  1.50s/it]"
     ]
    },
    {
     "name": "stdout",
     "output_type": "stream",
     "text": [
      "Y axis string value is: 0.085,0.08,0.0758,0.07,0.065,0.06,0.055\n",
      "I am in 1st try\n",
      "Y axis string corrected value is: [0.085, 0.08, 0.0758, 0.07, 0.065, 0.06, 0.055]\n",
      "I am in try\n"
     ]
    },
    {
     "name": "stderr",
     "output_type": "stream",
     "text": [
      "\r",
      "Processing files:  89%|██████████████████████████████████████████████████████▎      | 890/1000 [22:22<02:44,  1.49s/it]"
     ]
    },
    {
     "name": "stdout",
     "output_type": "stream",
     "text": [
      "Y axis string value is: 5.8165221\n",
      "I am in 1st try\n",
      "Y axis string corrected value is: [5.8165221]\n"
     ]
    },
    {
     "name": "stderr",
     "output_type": "stream",
     "text": [
      "\r",
      "Processing files:  89%|██████████████████████████████████████████████████████▎      | 891/1000 [22:24<02:45,  1.51s/it]"
     ]
    },
    {
     "name": "stdout",
     "output_type": "stream",
     "text": [
      "Y axis string value is: 0.02,0.0175,0.015,0.0125,0.01,0.0075,0.005,0.0025\n",
      "I am in 1st try\n",
      "Y axis string corrected value is: [0.02, 0.0175, 0.015, 0.0125, 0.01, 0.0075, 0.005, 0.0025]\n",
      "I am in try\n"
     ]
    },
    {
     "name": "stderr",
     "output_type": "stream",
     "text": [
      "\r",
      "Processing files:  89%|██████████████████████████████████████████████████████▍      | 892/1000 [22:25<02:45,  1.53s/it]"
     ]
    },
    {
     "name": "stdout",
     "output_type": "stream",
     "text": [
      "Y axis string value is: 0.04575,0.04551,0.045251,0.0451,0.04475:,0.0445,0.04425,0.044\n",
      "I am in 1st try\n",
      "Y axis string corrected value is: [0.04575, 0.04551, 0.045251, 0.0451, 0.0445, 0.04425, 0.044]\n",
      "I am in try\n"
     ]
    },
    {
     "name": "stderr",
     "output_type": "stream",
     "text": [
      "\r",
      "Processing files:  89%|██████████████████████████████████████████████████████▍      | 893/1000 [22:27<02:45,  1.55s/it]"
     ]
    },
    {
     "name": "stdout",
     "output_type": "stream",
     "text": [
      "Y axis string value is: 0.25,0.2,0.15,0.1,0.05\n",
      "I am in 1st try\n",
      "Y axis string corrected value is: [0.25, 0.2, 0.15, 0.1, 0.05]\n",
      "I am in try\n"
     ]
    },
    {
     "name": "stderr",
     "output_type": "stream",
     "text": [
      "\r",
      "Processing files:  89%|██████████████████████████████████████████████████████▌      | 894/1000 [22:28<02:45,  1.56s/it]"
     ]
    },
    {
     "name": "stdout",
     "output_type": "stream",
     "text": [
      "Y axis string value is: 0.000045,0.00004,0.000035,0.00003,0.000025,0.00002|,0.000015,0.00001\n",
      "I am in 1st try\n",
      "Y axis string corrected value is: [4.5e-05, 4e-05, 3.5e-05, 3e-05, 2.5e-05, 1.5e-05, 1e-05]\n",
      "I am in try\n"
     ]
    },
    {
     "name": "stderr",
     "output_type": "stream",
     "text": [
      "\r",
      "Processing files:  90%|██████████████████████████████████████████████████████▌      | 895/1000 [22:30<02:43,  1.56s/it]"
     ]
    },
    {
     "name": "stdout",
     "output_type": "stream",
     "text": [
      "Y axis string value is: 0.1,0.08,0.06;,0.04 -,0.02\n",
      "I am in 1st try\n",
      "Y axis string corrected value is: [0.1, 0.08, 0.02]\n",
      "I am in try\n"
     ]
    },
    {
     "name": "stderr",
     "output_type": "stream",
     "text": [
      "\r",
      "Processing files:  90%|██████████████████████████████████████████████████████▋      | 896/1000 [22:31<02:37,  1.52s/it]"
     ]
    },
    {
     "name": "stdout",
     "output_type": "stream",
     "text": [
      "Y axis string value is: \n",
      "I am in 1st try\n"
     ]
    },
    {
     "name": "stderr",
     "output_type": "stream",
     "text": [
      "\r",
      "Processing files:  90%|██████████████████████████████████████████████████████▋      | 897/1000 [22:33<02:32,  1.48s/it]"
     ]
    },
    {
     "name": "stdout",
     "output_type": "stream",
     "text": [
      "Y axis string value is: \n",
      "I am in 1st try\n"
     ]
    },
    {
     "name": "stderr",
     "output_type": "stream",
     "text": [
      "\r",
      "Processing files:  90%|██████████████████████████████████████████████████████▊      | 898/1000 [22:34<02:32,  1.49s/it]"
     ]
    },
    {
     "name": "stdout",
     "output_type": "stream",
     "text": [
      "Y axis string value is: 2.3897420\n",
      "I am in 1st try\n",
      "Y axis string corrected value is: [2.389742]\n"
     ]
    },
    {
     "name": "stderr",
     "output_type": "stream",
     "text": [
      "\r",
      "Processing files:  90%|██████████████████████████████████████████████████████▊      | 899/1000 [22:36<02:38,  1.57s/it]"
     ]
    },
    {
     "name": "stdout",
     "output_type": "stream",
     "text": [
      "Y axis string value is: \n",
      "I am in 1st try\n"
     ]
    },
    {
     "name": "stderr",
     "output_type": "stream",
     "text": [
      "\r",
      "Processing files:  90%|██████████████████████████████████████████████████████▉      | 900/1000 [22:38<02:39,  1.60s/it]"
     ]
    },
    {
     "name": "stdout",
     "output_type": "stream",
     "text": [
      "Y axis string value is: 0.00053,0.00052,0.000051,Moeo,0.00050,0.00049,0.00048,0.000047,0.000046,0.000445,0.00044\n",
      "I am in 1st try\n",
      "Y axis string corrected value is: [0.00053, 0.00052, 5.1e-05, 0.0005, 0.00049, 0.00048, 4.7e-05, 4.6e-05, 0.000445, 0.00044]\n",
      "I am in try\n"
     ]
    },
    {
     "name": "stderr",
     "output_type": "stream",
     "text": [
      "\r",
      "Processing files:  90%|██████████████████████████████████████████████████████▉      | 901/1000 [22:39<02:34,  1.56s/it]"
     ]
    },
    {
     "name": "stdout",
     "output_type": "stream",
     "text": [
      "Y axis string value is: \n",
      "I am in 1st try\n"
     ]
    },
    {
     "name": "stderr",
     "output_type": "stream",
     "text": [
      "\r",
      "Processing files:  90%|███████████████████████████████████████████████████████      | 902/1000 [22:41<02:30,  1.54s/it]"
     ]
    },
    {
     "name": "stdout",
     "output_type": "stream",
     "text": [
      "Y axis string value is: 0.0812312\n",
      "I am in 1st try\n",
      "Y axis string corrected value is: [0.0812312]\n"
     ]
    },
    {
     "name": "stderr",
     "output_type": "stream",
     "text": [
      "\r",
      "Processing files:  90%|███████████████████████████████████████████████████████      | 903/1000 [22:42<02:25,  1.50s/it]"
     ]
    },
    {
     "name": "stdout",
     "output_type": "stream",
     "text": [
      "Y axis string value is: 0.04,0.03,0.02,0.01\n",
      "I am in 1st try\n",
      "Y axis string corrected value is: [0.04, 0.03, 0.02, 0.01]\n",
      "I am in try\n"
     ]
    },
    {
     "name": "stderr",
     "output_type": "stream",
     "text": [
      "\r",
      "Processing files:  90%|███████████████████████████████████████████████████████▏     | 904/1000 [22:43<02:20,  1.46s/it]"
     ]
    },
    {
     "name": "stdout",
     "output_type": "stream",
     "text": [
      "Y axis string value is: \n",
      "I am in 1st try\n"
     ]
    },
    {
     "name": "stderr",
     "output_type": "stream",
     "text": [
      "\r",
      "Processing files:  90%|███████████████████████████████████████████████████████▏     | 905/1000 [22:45<02:20,  1.48s/it]"
     ]
    },
    {
     "name": "stdout",
     "output_type": "stream",
     "text": [
      "Y axis string value is: 0.000024,0.000023,0.000022,0.000021,0.oooozM\n",
      "I am in 1st try\n",
      "Y axis string corrected value is: [2.4e-05, 2.3e-05, 2.2e-05, 2.1e-05, 0.0]\n",
      "I am in try\n"
     ]
    },
    {
     "name": "stderr",
     "output_type": "stream",
     "text": [
      "\r",
      "Processing files:  91%|███████████████████████████████████████████████████████▎     | 906/1000 [22:47<02:25,  1.55s/it]"
     ]
    },
    {
     "name": "stdout",
     "output_type": "stream",
     "text": [
      "Y axis string value is: 0.0044,0.0042,0.0040,0.0038,0.0036,0.0034,0.0032,0.0030,0.0028,0.0026,0.0024,0.0022,0.0020,0.0018,0.0016,0.0014,0.0012,0.00100,0.00073,0.00060,0.00040,0.000020,op\n",
      "I am in 1st try\n",
      "Y axis string corrected value is: [0.0044, 0.0042, 0.004, 0.0038, 0.0036, 0.0034, 0.0032, 0.003, 0.0028, 0.0026, 0.0024, 0.0022, 0.002, 0.0018, 0.0016, 0.0014, 0.0012, 0.001, 0.00073, 0.0006, 0.0004, 2e-05]\n",
      "I am in try\n"
     ]
    },
    {
     "name": "stderr",
     "output_type": "stream",
     "text": [
      "\r",
      "Processing files:  91%|███████████████████████████████████████████████████████▎     | 907/1000 [22:48<02:19,  1.50s/it]"
     ]
    },
    {
     "name": "stdout",
     "output_type": "stream",
     "text": [
      "Y axis string value is: \n",
      "I am in 1st try\n"
     ]
    },
    {
     "name": "stderr",
     "output_type": "stream",
     "text": [
      "\r",
      "Processing files:  91%|███████████████████████████████████████████████████████▍     | 908/1000 [22:49<02:17,  1.50s/it]"
     ]
    },
    {
     "name": "stdout",
     "output_type": "stream",
     "text": [
      "Y axis string value is: \n",
      "I am in 1st try\n"
     ]
    },
    {
     "name": "stderr",
     "output_type": "stream",
     "text": [
      "\r",
      "Processing files:  91%|███████████████████████████████████████████████████████▍     | 909/1000 [22:51<02:17,  1.51s/it]"
     ]
    },
    {
     "name": "stdout",
     "output_type": "stream",
     "text": [
      "Y axis string value is: 0.02,0.0175,0.015,0.0125,0.01,0.0075,0.005,0.0025\n",
      "I am in 1st try\n",
      "Y axis string corrected value is: [0.02, 0.0175, 0.015, 0.0125, 0.01, 0.0075, 0.005, 0.0025]\n",
      "I am in try\n"
     ]
    },
    {
     "name": "stderr",
     "output_type": "stream",
     "text": [
      "\r",
      "Processing files:  91%|███████████████████████████████████████████████████████▌     | 910/1000 [22:53<02:17,  1.52s/it]"
     ]
    },
    {
     "name": "stdout",
     "output_type": "stream",
     "text": [
      "Y axis string value is: 0.05,0.04,0.03,0.024,0.01\n",
      "I am in 1st try\n",
      "Y axis string corrected value is: [0.05, 0.04, 0.03, 0.024, 0.01]\n",
      "I am in try\n"
     ]
    },
    {
     "name": "stderr",
     "output_type": "stream",
     "text": [
      "\r",
      "Processing files:  91%|███████████████████████████████████████████████████████▌     | 911/1000 [22:54<02:13,  1.50s/it]"
     ]
    },
    {
     "name": "stdout",
     "output_type": "stream",
     "text": [
      "Y axis string value is: \n",
      "I am in 1st try\n"
     ]
    },
    {
     "name": "stderr",
     "output_type": "stream",
     "text": [
      "\r",
      "Processing files:  91%|███████████████████████████████████████████████████████▋     | 912/1000 [22:56<02:14,  1.53s/it]"
     ]
    },
    {
     "name": "stdout",
     "output_type": "stream",
     "text": [
      "Y axis string value is: 0.0075,0.007,0.0065,0.006,0.0055\n",
      "I am in 1st try\n",
      "Y axis string corrected value is: [0.0075, 0.007, 0.0065, 0.006, 0.0055]\n",
      "I am in try\n"
     ]
    },
    {
     "name": "stderr",
     "output_type": "stream",
     "text": [
      "\r",
      "Processing files:  91%|███████████████████████████████████████████████████████▋     | 913/1000 [22:57<02:14,  1.55s/it]"
     ]
    },
    {
     "name": "stdout",
     "output_type": "stream",
     "text": [
      "Y axis string value is: 0.00275,0.0025,0.00225;,0.002,0.00175,0.0015\n",
      "I am in 1st try\n",
      "Y axis string corrected value is: [0.00275, 0.0025, 0.002, 0.00175, 0.0015]\n",
      "I am in try\n"
     ]
    },
    {
     "name": "stderr",
     "output_type": "stream",
     "text": [
      "\r",
      "Processing files:  91%|███████████████████████████████████████████████████████▊     | 914/1000 [22:59<02:14,  1.56s/it]"
     ]
    },
    {
     "name": "stdout",
     "output_type": "stream",
     "text": [
      "Y axis string value is: 6.10g-11,\n",
      "I am in 1st try\n"
     ]
    },
    {
     "name": "stderr",
     "output_type": "stream",
     "text": [
      "\r",
      "Processing files:  92%|███████████████████████████████████████████████████████▊     | 915/1000 [23:00<02:11,  1.55s/it]"
     ]
    },
    {
     "name": "stdout",
     "output_type": "stream",
     "text": [
      "Y axis string value is: 0.22 .,0.21,0.2,0.19,0.18,0.17\n",
      "I am in 1st try\n",
      "Y axis string corrected value is: [0.21, 0.2, 0.19, 0.18, 0.17]\n",
      "I am in try\n"
     ]
    },
    {
     "name": "stderr",
     "output_type": "stream",
     "text": [
      "\r",
      "Processing files:  92%|███████████████████████████████████████████████████████▉     | 916/1000 [23:02<02:14,  1.60s/it]"
     ]
    },
    {
     "name": "stdout",
     "output_type": "stream",
     "text": [
      "Y axis string value is: 0.0000056,0.00k080054,0.00000052,0.000,0,050,0.00800048,0.0000046,0.00080044,0.0000042,O.0000040,0.008080038,0.0000036,0.000000034,0.00000032,0.0000030,0.0000028,0.00000026,0.0000024,0.0800022,0.0000020,0.000818,0.00000016,Capoooo1a,Oda0io\n",
      "I am in 1st try\n",
      "Y axis string corrected value is: [5.6e-06, 0.00080054, 5.2e-07, 0.0, 0.0, 0.5, 0.00800048, 4.6e-06, 0.00080044, 4.2e-06, 4e-06, 0.008080038, 3.6e-06, 3.4e-08, 3.2e-07, 3e-06, 2.8e-06, 2.6e-07, 2.4e-06, 0.0800022, 2e-06, 0.000818, 1.6e-07, 1.0, 0.0]\n"
     ]
    },
    {
     "name": "stderr",
     "output_type": "stream",
     "text": [
      "\r",
      "Processing files:  92%|███████████████████████████████████████████████████████▉     | 917/1000 [23:04<02:12,  1.59s/it]"
     ]
    },
    {
     "name": "stdout",
     "output_type": "stream",
     "text": [
      "Y axis string value is: 0.00175,0.0015,0.00125,0.001:,0.00075,0.0005\n",
      "I am in 1st try\n",
      "Y axis string corrected value is: [0.00175, 0.0015, 0.00125, 0.00075, 0.0005]\n",
      "I am in try\n"
     ]
    },
    {
     "name": "stderr",
     "output_type": "stream",
     "text": [
      "\r",
      "Processing files:  92%|███████████████████████████████████████████████████████▉     | 918/1000 [23:05<02:09,  1.58s/it]"
     ]
    },
    {
     "name": "stdout",
     "output_type": "stream",
     "text": [
      "Y axis string value is: 0.000166,0.000165,0.000164,0.000163,0.000162,0.000161,0.00016\n",
      "I am in 1st try\n",
      "Y axis string corrected value is: [0.000166, 0.000165, 0.000164, 0.000163, 0.000162, 0.000161, 0.00016]\n",
      "I am in try\n"
     ]
    },
    {
     "name": "stderr",
     "output_type": "stream",
     "text": [
      "\r",
      "Processing files:  92%|████████████████████████████████████████████████████████     | 919/1000 [23:07<02:03,  1.52s/it]"
     ]
    },
    {
     "name": "stdout",
     "output_type": "stream",
     "text": [
      "Y axis string value is: \n",
      "I am in 1st try\n"
     ]
    },
    {
     "name": "stderr",
     "output_type": "stream",
     "text": [
      "\r",
      "Processing files:  92%|████████████████████████████████████████████████████████     | 920/1000 [23:08<02:01,  1.52s/it]"
     ]
    },
    {
     "name": "stdout",
     "output_type": "stream",
     "text": [
      "Y axis string value is: 0.35,0.325,0.3,0.275,0.25,0.225,0.2,0.175\n",
      "I am in 1st try\n",
      "Y axis string corrected value is: [0.35, 0.325, 0.3, 0.275, 0.25, 0.225, 0.2, 0.175]\n",
      "I am in try\n"
     ]
    },
    {
     "name": "stderr",
     "output_type": "stream",
     "text": [
      "\r",
      "Processing files:  92%|████████████████████████████████████████████████████████▏    | 921/1000 [23:10<01:57,  1.49s/it]"
     ]
    },
    {
     "name": "stdout",
     "output_type": "stream",
     "text": [
      "Y axis string value is: \n",
      "I am in 1st try\n"
     ]
    },
    {
     "name": "stderr",
     "output_type": "stream",
     "text": [
      "\r",
      "Processing files:  92%|████████████████████████████████████████████████████████▏    | 922/1000 [23:11<01:56,  1.50s/it]"
     ]
    },
    {
     "name": "stdout",
     "output_type": "stream",
     "text": [
      "Y axis string value is: Q00094,0000092,0.000090,0.000088,0.00086,0.00084,0.00082,0.00.080,0.00078,0.00076,0.00074,0.0072,0.008070,0.000858,0.000066,0.0000154,0.000062,0061,Cap,0.000058\n",
      "I am in 1st try\n",
      "Y axis string corrected value is: [0.00094, 9.2e-05, 9e-05, 8.8e-05, 0.00086, 0.00084, 0.00082, 0.00078, 0.00076, 0.00074, 0.0072, 0.00807, 0.000858, 6.6e-05, 1.54e-05, 6.2e-05, 0.061, 5.8e-05]\n",
      "I am in try\n"
     ]
    },
    {
     "name": "stderr",
     "output_type": "stream",
     "text": [
      "\r",
      "Processing files:  92%|████████████████████████████████████████████████████████▎    | 923/1000 [23:13<01:58,  1.54s/it]"
     ]
    },
    {
     "name": "stdout",
     "output_type": "stream",
     "text": [
      "Y axis string value is: 0.00024,0.00023,0.00023,0.00022,0.00021,0.000021,0.00020,0.000020,0.00019,0.00019,0.000018,0.00018,0.00017,00017,0.000016,0.000016,0.00015,Cop,0.00015\n",
      "I am in 1st try\n",
      "Y axis string corrected value is: [0.00024, 0.00023, 0.00023, 0.00022, 0.00021, 2.1e-05, 0.0002, 2e-05, 0.00019, 0.00019, 1.8e-05, 0.00018, 0.00017, 0.0017, 1.6e-05, 1.6e-05, 0.00015, 0.00015]\n",
      "I am in try\n"
     ]
    },
    {
     "name": "stderr",
     "output_type": "stream",
     "text": [
      "\r",
      "Processing files:  92%|████████████████████████████████████████████████████████▎    | 924/1000 [23:14<02:01,  1.60s/it]"
     ]
    },
    {
     "name": "stdout",
     "output_type": "stream",
     "text": [
      "Y axis string value is: O.000,O.000,0.000,O.00000,0.00,MM,0.000\n",
      "I am in 1st try\n",
      "Y axis string corrected value is: [0.0, 0.0, 0.0, 0.0, 0.0, 0.0]\n"
     ]
    },
    {
     "name": "stderr",
     "output_type": "stream",
     "text": [
      "\r",
      "Processing files:  92%|████████████████████████████████████████████████████████▍    | 925/1000 [23:16<01:57,  1.57s/it]"
     ]
    },
    {
     "name": "stdout",
     "output_type": "stream",
     "text": [
      "Y axis string value is: 0.00,0.006,0.00,0.005,0.00,0.004,0.00\n",
      "I am in 1st try\n",
      "Y axis string corrected value is: [0.0, 0.006, 0.0, 0.005, 0.0, 0.004, 0.0]\n",
      "I am in try\n"
     ]
    },
    {
     "name": "stderr",
     "output_type": "stream",
     "text": [
      "\r",
      "Processing files:  93%|████████████████████████████████████████████████████████▍    | 926/1000 [23:17<01:53,  1.54s/it]"
     ]
    },
    {
     "name": "stdout",
     "output_type": "stream",
     "text": [
      "Y axis string value is: \n",
      "I am in 1st try\n"
     ]
    },
    {
     "name": "stderr",
     "output_type": "stream",
     "text": [
      "\r",
      "Processing files:  93%|████████████████████████████████████████████████████████▌    | 927/1000 [23:19<01:51,  1.53s/it]"
     ]
    },
    {
     "name": "stdout",
     "output_type": "stream",
     "text": [
      "Y axis string value is: 0.01,0.0095,0.009,0.0085,0.008,0.0075\n",
      "I am in 1st try\n",
      "Y axis string corrected value is: [0.01, 0.0095, 0.009, 0.0085, 0.008, 0.0075]\n",
      "I am in try\n"
     ]
    },
    {
     "name": "stderr",
     "output_type": "stream",
     "text": [
      "\r",
      "Processing files:  93%|████████████████████████████████████████████████████████▌    | 928/1000 [23:20<01:50,  1.53s/it]"
     ]
    },
    {
     "name": "stdout",
     "output_type": "stream",
     "text": [
      "Y axis string value is: 2.5e-12,2e-12,1.Se-12,1e-12,Se-13\n",
      "I am in 1st try\n",
      "Y axis string corrected value is: [2.5e-12, 2e-12, 1.5e-12, 1e-12, 5e-13]\n",
      "I am in try\n"
     ]
    },
    {
     "name": "stderr",
     "output_type": "stream",
     "text": [
      "Processing files:  93%|████████████████████████████████████████████████████████▊    | 931/1000 [23:25<01:42,  1.48s/it]"
     ]
    },
    {
     "name": "stdout",
     "output_type": "stream",
     "text": [
      "Y axis string value is: 0.001,0.0008,0.0006,0.0004,0.0002\n",
      "I am in 1st try\n",
      "Y axis string corrected value is: [0.001, 0.0008, 0.0006, 0.0004, 0.0002]\n",
      "I am in try\n"
     ]
    },
    {
     "name": "stderr",
     "output_type": "stream",
     "text": [
      "\r",
      "Processing files:  93%|████████████████████████████████████████████████████████▊    | 932/1000 [23:26<01:40,  1.48s/it]"
     ]
    },
    {
     "name": "stdout",
     "output_type": "stream",
     "text": [
      "Y axis string value is: 0.0184648\n",
      "I am in 1st try\n",
      "Y axis string corrected value is: [0.0184648]\n"
     ]
    },
    {
     "name": "stderr",
     "output_type": "stream",
     "text": [
      "\r",
      "Processing files:  93%|████████████████████████████████████████████████████████▉    | 933/1000 [23:28<01:39,  1.48s/it]"
     ]
    },
    {
     "name": "stdout",
     "output_type": "stream",
     "text": [
      "Y axis string value is: 4.Se-9,4.25e-9,4e-9:,3.75e-9,3.Se-9,3.25e-9\n",
      "I am in 1st try\n",
      "Y axis string corrected value is: [4.5e-09, 4.25e-09, 4e-09, 3.75e-09, 3.5e-09, 3.25e-09]\n",
      "I am in try\n"
     ]
    },
    {
     "name": "stderr",
     "output_type": "stream",
     "text": [
      "\r",
      "Processing files:  93%|████████████████████████████████████████████████████████▉    | 934/1000 [23:29<01:39,  1.50s/it]"
     ]
    },
    {
     "name": "stdout",
     "output_type": "stream",
     "text": [
      "Y axis string value is: 3.704e-12,3.703e-12,3.702e-12,3.701e-12,3.7e-12,3.699e-12\n",
      "I am in 1st try\n",
      "Y axis string corrected value is: [3.704e-12, 3.703e-12, 3.702e-12, 3.701e-12, 3.7e-12, 3.699e-12]\n",
      "I am in try\n"
     ]
    },
    {
     "name": "stderr",
     "output_type": "stream",
     "text": [
      "\r",
      "Processing files:  94%|█████████████████████████████████████████████████████████    | 935/1000 [23:31<01:39,  1.53s/it]"
     ]
    },
    {
     "name": "stdout",
     "output_type": "stream",
     "text": [
      "Y axis string value is: 0.00032,0.00032,0.00031,00031,0 00030,0.00030,0.00029,0.00029,0.00028,0.00028,0.00027,0000027,0.00026,0.00026,0.000025,0.00025,Cap\n",
      "I am in 1st try\n",
      "Y axis string corrected value is: [0.00032, 0.00032, 0.00031, 0.0031, 0.0003, 0.0003, 0.00029, 0.00029, 0.00028, 0.00028, 0.00027, 2.7e-05, 0.00026, 0.00026, 2.5e-05, 0.00025]\n",
      "I am in try\n"
     ]
    },
    {
     "name": "stderr",
     "output_type": "stream",
     "text": [
      "\r",
      "Processing files:  94%|█████████████████████████████████████████████████████████    | 936/1000 [23:32<01:38,  1.53s/it]"
     ]
    },
    {
     "name": "stdout",
     "output_type": "stream",
     "text": [
      "Y axis string value is: 0.0000142,0.oo001,0.0000137,0.000013,0.0000132,o.ooo01\n",
      "I am in 1st try\n",
      "Y axis string corrected value is: [1.42e-05, 0.001, 1.37e-05, 1.3e-05, 1.32e-05, 0.01]\n",
      "I am in try\n"
     ]
    },
    {
     "name": "stderr",
     "output_type": "stream",
     "text": [
      "\r",
      "Processing files:  94%|█████████████████████████████████████████████████████████▏   | 937/1000 [23:34<01:36,  1.53s/it]"
     ]
    },
    {
     "name": "stdout",
     "output_type": "stream",
     "text": [
      "Y axis string value is: 0.044,0.0438,0.0436,0.0434,0.0432,0.043\n",
      "I am in 1st try\n",
      "Y axis string corrected value is: [0.044, 0.0438, 0.0436, 0.0434, 0.0432, 0.043]\n",
      "I am in try\n"
     ]
    },
    {
     "name": "stderr",
     "output_type": "stream",
     "text": [
      "\r",
      "Processing files:  94%|█████████████████████████████████████████████████████████▏   | 938/1000 [23:35<01:35,  1.55s/it]"
     ]
    },
    {
     "name": "stdout",
     "output_type": "stream",
     "text": [
      "Y axis string value is: 0.031,0.031,0.030,0.030,0029,0.028,0.028,0.02,0.027,0.026,0.026,0.025,0.025,0.024,0.024,0.023,0.023,Cap,0.022\n",
      "I am in 1st try\n",
      "Y axis string corrected value is: [0.031, 0.031, 0.03, 0.03, 0.029, 0.028, 0.028, 0.02, 0.027, 0.026, 0.026, 0.025, 0.025, 0.024, 0.024, 0.023, 0.023, 0.022]\n",
      "I am in try\n"
     ]
    },
    {
     "name": "stderr",
     "output_type": "stream",
     "text": [
      "\r",
      "Processing files:  94%|█████████████████████████████████████████████████████████▎   | 939/1000 [23:37<01:34,  1.56s/it]"
     ]
    },
    {
     "name": "stdout",
     "output_type": "stream",
     "text": [
      "Y axis string value is: 0.021,0.02,0.019,0.018,0.017,0.016,0.015,0.014\n",
      "I am in 1st try\n",
      "Y axis string corrected value is: [0.021, 0.02, 0.019, 0.018, 0.017, 0.016, 0.015, 0.014]\n",
      "I am in try\n"
     ]
    },
    {
     "name": "stderr",
     "output_type": "stream",
     "text": [
      "\r",
      "Processing files:  94%|█████████████████████████████████████████████████████████▎   | 940/1000 [23:39<01:33,  1.55s/it]"
     ]
    },
    {
     "name": "stdout",
     "output_type": "stream",
     "text": [
      "Y axis string value is: 0.6:,0.5,0.4,0.3,0.2,0.1\n",
      "I am in 1st try\n",
      "Y axis string corrected value is: [0.5, 0.4, 0.3, 0.2, 0.1]\n",
      "I am in try\n"
     ]
    },
    {
     "name": "stderr",
     "output_type": "stream",
     "text": [
      "\r",
      "Processing files:  94%|█████████████████████████████████████████████████████████▍   | 941/1000 [23:40<01:31,  1.55s/it]"
     ]
    },
    {
     "name": "stdout",
     "output_type": "stream",
     "text": [
      "Y axis string value is: 0.5,0.4:,0.3,0.2,0.1\n",
      "I am in 1st try\n",
      "Y axis string corrected value is: [0.5, 0.3, 0.2, 0.1]\n",
      "I am in try\n"
     ]
    },
    {
     "name": "stderr",
     "output_type": "stream",
     "text": [
      "\r",
      "Processing files:  94%|█████████████████████████████████████████████████████████▍   | 942/1000 [23:42<01:28,  1.52s/it]"
     ]
    },
    {
     "name": "stdout",
     "output_type": "stream",
     "text": [
      "Y axis string value is: \n",
      "I am in 1st try\n"
     ]
    },
    {
     "name": "stderr",
     "output_type": "stream",
     "text": [
      "\r",
      "Processing files:  94%|█████████████████████████████████████████████████████████▌   | 943/1000 [23:43<01:24,  1.49s/it]"
     ]
    },
    {
     "name": "stdout",
     "output_type": "stream",
     "text": [
      "Y axis string value is: \n",
      "I am in 1st try\n"
     ]
    },
    {
     "name": "stderr",
     "output_type": "stream",
     "text": [
      "\r",
      "Processing files:  94%|█████████████████████████████████████████████████████████▌   | 944/1000 [23:45<01:25,  1.52s/it]"
     ]
    },
    {
     "name": "stdout",
     "output_type": "stream",
     "text": [
      "Y axis string value is: \n",
      "I am in 1st try\n"
     ]
    },
    {
     "name": "stderr",
     "output_type": "stream",
     "text": [
      "\r",
      "Processing files:  94%|█████████████████████████████████████████████████████████▋   | 945/1000 [23:46<01:24,  1.54s/it]"
     ]
    },
    {
     "name": "stdout",
     "output_type": "stream",
     "text": [
      "Y axis string value is: 100.,9.5,90,85,8.0,75,70,65,60,55,5.0,45,40,3.5,30,25,20,15,1,0.50,0';;3@,Cop\n",
      "I am in 1st try\n",
      "Y axis string corrected value is: [100.0, 9.5, 90.0, 85.0, 8.0, 75.0, 70.0, 65.0, 60.0, 55.0, 5.0, 45.0, 40.0, 3.5, 30.0, 25.0, 20.0, 15.0, 1.0, 0.5]\n",
      "I am in try\n"
     ]
    },
    {
     "name": "stderr",
     "output_type": "stream",
     "text": [
      "\r",
      "Processing files:  95%|█████████████████████████████████████████████████████████▋   | 946/1000 [23:48<01:23,  1.54s/it]"
     ]
    },
    {
     "name": "stdout",
     "output_type": "stream",
     "text": [
      "Y axis string value is: 1.2,0.8,0.6,0.4,0.2\n",
      "I am in 1st try\n",
      "Y axis string corrected value is: [1.2, 0.8, 0.6, 0.4, 0.2]\n",
      "I am in try\n"
     ]
    },
    {
     "name": "stderr",
     "output_type": "stream",
     "text": [
      "\r",
      "Processing files:  95%|█████████████████████████████████████████████████████████▊   | 947/1000 [23:49<01:20,  1.51s/it]"
     ]
    },
    {
     "name": "stdout",
     "output_type": "stream",
     "text": [
      "Y axis string value is: \n",
      "I am in 1st try\n"
     ]
    },
    {
     "name": "stderr",
     "output_type": "stream",
     "text": [
      "\r",
      "Processing files:  95%|█████████████████████████████████████████████████████████▊   | 948/1000 [23:51<01:17,  1.50s/it]"
     ]
    },
    {
     "name": "stdout",
     "output_type": "stream",
     "text": [
      "Y axis string value is: 0.012,0.012,0.012,0.012,0.012,0.012,0.012,0.012,0.012\n",
      "I am in 1st try\n",
      "Y axis string corrected value is: [0.012, 0.012, 0.012, 0.012, 0.012, 0.012, 0.012, 0.012, 0.012]\n",
      "I am in try\n"
     ]
    },
    {
     "name": "stderr",
     "output_type": "stream",
     "text": [
      "\r",
      "Processing files:  95%|█████████████████████████████████████████████████████████▉   | 949/1000 [23:52<01:14,  1.46s/it]"
     ]
    },
    {
     "name": "stdout",
     "output_type": "stream",
     "text": [
      "Y axis string value is: \n",
      "I am in 1st try\n"
     ]
    },
    {
     "name": "stderr",
     "output_type": "stream",
     "text": [
      "\r",
      "Processing files:  95%|█████████████████████████████████████████████████████████▉   | 950/1000 [23:54<01:13,  1.48s/it]"
     ]
    },
    {
     "name": "stdout",
     "output_type": "stream",
     "text": [
      "Y axis string value is: 0.2,0.175,0.15,0.125,03,0.075,0.05\n",
      "I am in 1st try\n",
      "Y axis string corrected value is: [0.2, 0.175, 0.15, 0.125, 0.3, 0.075, 0.05]\n",
      "I am in try\n"
     ]
    },
    {
     "name": "stderr",
     "output_type": "stream",
     "text": [
      "\r",
      "Processing files:  95%|██████████████████████████████████████████████████████████   | 951/1000 [23:55<01:14,  1.51s/it]"
     ]
    },
    {
     "name": "stdout",
     "output_type": "stream",
     "text": [
      "Y axis string value is: 0.0210,0.0208,0.0206,0.0204,0.0202,0.0200,0.0198,0.0196,0.0194,0.0192,0.0190,0.0188,0.0186,0.0184,Cop,Oo\n",
      "I am in 1st try\n",
      "Y axis string corrected value is: [0.021, 0.0208, 0.0206, 0.0204, 0.0202, 0.02, 0.0198, 0.0196, 0.0194, 0.0192, 0.019, 0.0188, 0.0186, 0.0184]\n",
      "I am in try\n"
     ]
    },
    {
     "name": "stderr",
     "output_type": "stream",
     "text": [
      "\r",
      "Processing files:  95%|██████████████████████████████████████████████████████████   | 952/1000 [23:57<01:14,  1.54s/it]"
     ]
    },
    {
     "name": "stdout",
     "output_type": "stream",
     "text": [
      "Y axis string value is: 0.00075,0.0007,0.00065,0.00006;,0.00o55,0.0005\n",
      "I am in 1st try\n",
      "Y axis string corrected value is: [0.00075, 0.0007, 0.00065, 0.0055, 0.0005]\n",
      "I am in try\n"
     ]
    },
    {
     "name": "stderr",
     "output_type": "stream",
     "text": [
      "\r",
      "Processing files:  95%|██████████████████████████████████████████████████████████▏  | 953/1000 [23:58<01:14,  1.57s/it]"
     ]
    },
    {
     "name": "stdout",
     "output_type": "stream",
     "text": [
      "Y axis string value is: 15351\n",
      "I am in 1st try\n",
      "Y axis string corrected value is: [15351.0]\n"
     ]
    },
    {
     "name": "stderr",
     "output_type": "stream",
     "text": [
      "\r",
      "Processing files:  95%|██████████████████████████████████████████████████████████▏  | 954/1000 [24:00<01:12,  1.57s/it]"
     ]
    },
    {
     "name": "stdout",
     "output_type": "stream",
     "text": [
      "Y axis string value is: 0.0009225,0.00092,0.0009175,0.000915,0.0009125,0.00091,0.0009075\n",
      "I am in 1st try\n",
      "Y axis string corrected value is: [0.0009225, 0.00092, 0.0009175, 0.000915, 0.0009125, 0.00091, 0.0009075]\n",
      "I am in try\n"
     ]
    },
    {
     "name": "stderr",
     "output_type": "stream",
     "text": [
      "\r",
      "Processing files:  96%|██████████████████████████████████████████████████████████▎  | 955/1000 [24:01<01:09,  1.55s/it]"
     ]
    },
    {
     "name": "stdout",
     "output_type": "stream",
     "text": [
      "Y axis string value is: 0.015,0.01,0.015,0.0,0.01,0.01,0.014,0.0\n",
      "I am in 1st try\n",
      "Y axis string corrected value is: [0.015, 0.01, 0.015, 0.0, 0.01, 0.01, 0.014, 0.0]\n",
      "I am in try\n"
     ]
    },
    {
     "name": "stderr",
     "output_type": "stream",
     "text": [
      "\r",
      "Processing files:  96%|██████████████████████████████████████████████████████████▎  | 956/1000 [24:03<01:06,  1.51s/it]"
     ]
    },
    {
     "name": "stdout",
     "output_type": "stream",
     "text": [
      "Y axis string value is: \n",
      "I am in 1st try\n"
     ]
    },
    {
     "name": "stderr",
     "output_type": "stream",
     "text": [
      "\r",
      "Processing files:  96%|██████████████████████████████████████████████████████████▍  | 957/1000 [24:04<01:04,  1.50s/it]"
     ]
    },
    {
     "name": "stdout",
     "output_type": "stream",
     "text": [
      "Y axis string value is: 0.0575,0.057,0.0565,0.056,0.0555,0.055,0.0545\n",
      "I am in 1st try\n",
      "Y axis string corrected value is: [0.0575, 0.057, 0.0565, 0.056, 0.0555, 0.055, 0.0545]\n",
      "I am in try\n"
     ]
    },
    {
     "name": "stderr",
     "output_type": "stream",
     "text": [
      "\r",
      "Processing files:  96%|██████████████████████████████████████████████████████████▍  | 958/1000 [24:06<01:01,  1.46s/it]"
     ]
    },
    {
     "name": "stdout",
     "output_type": "stream",
     "text": [
      "Y axis string value is: \n",
      "I am in 1st try\n"
     ]
    },
    {
     "name": "stderr",
     "output_type": "stream",
     "text": [
      "\r",
      "Processing files:  96%|██████████████████████████████████████████████████████████▍  | 959/1000 [24:07<01:00,  1.47s/it]"
     ]
    },
    {
     "name": "stdout",
     "output_type": "stream",
     "text": [
      "Y axis string value is: 4,2\n",
      "I am in 1st try\n",
      "Y axis string corrected value is: [4.0, 2.0]\n",
      "I am in try\n"
     ]
    },
    {
     "name": "stderr",
     "output_type": "stream",
     "text": [
      "\r",
      "Processing files:  96%|██████████████████████████████████████████████████████████▌  | 960/1000 [24:09<01:00,  1.50s/it]"
     ]
    },
    {
     "name": "stdout",
     "output_type": "stream",
     "text": [
      "Y axis string value is: 0.000737,0.000736,0.000735:,0.000734;,0.000733,0.000732\n",
      "I am in 1st try\n",
      "Y axis string corrected value is: [0.000737, 0.000736, 0.000733, 0.000732]\n",
      "I am in try\n"
     ]
    },
    {
     "name": "stderr",
     "output_type": "stream",
     "text": [
      "\r",
      "Processing files:  96%|██████████████████████████████████████████████████████████▌  | 961/1000 [24:10<00:59,  1.52s/it]"
     ]
    },
    {
     "name": "stdout",
     "output_type": "stream",
     "text": [
      "Y axis string value is: 0000000100',O.O00000090,000000080,0.0080880070,0.00*000060,Q0000000050,O.oo00008040,Q0oo0c030,0.000.000020,Cop\n",
      "I am in 1st try\n",
      "Y axis string corrected value is: [9e-08, 8e-07, 0.008088007, 5e-09, 8.04e-05, 0.0003]\n",
      "I am in try\n"
     ]
    },
    {
     "name": "stderr",
     "output_type": "stream",
     "text": [
      "\r",
      "Processing files:  96%|██████████████████████████████████████████████████████████▋  | 962/1000 [24:12<00:56,  1.49s/it]"
     ]
    },
    {
     "name": "stdout",
     "output_type": "stream",
     "text": [
      "Y axis string value is: \n",
      "I am in 1st try\n"
     ]
    },
    {
     "name": "stderr",
     "output_type": "stream",
     "text": [
      "\r",
      "Processing files:  96%|██████████████████████████████████████████████████████████▋  | 963/1000 [24:13<00:54,  1.48s/it]"
     ]
    },
    {
     "name": "stdout",
     "output_type": "stream",
     "text": [
      "Y axis string value is: 0.0055,0.005,0.0045,0.004,0.0035\n",
      "I am in 1st try\n",
      "Y axis string corrected value is: [0.0055, 0.005, 0.0045, 0.004, 0.0035]\n",
      "I am in try\n"
     ]
    },
    {
     "name": "stderr",
     "output_type": "stream",
     "text": [
      "\r",
      "Processing files:  96%|██████████████████████████████████████████████████████████▊  | 964/1000 [24:15<00:54,  1.51s/it]"
     ]
    },
    {
     "name": "stdout",
     "output_type": "stream",
     "text": [
      "Y axis string value is: 0.015,0.0125,0.01,0.0075:,0.005,0.0025\n",
      "I am in 1st try\n",
      "Y axis string corrected value is: [0.015, 0.0125, 0.01, 0.005, 0.0025]\n",
      "I am in try\n"
     ]
    },
    {
     "name": "stderr",
     "output_type": "stream",
     "text": [
      "\r",
      "Processing files:  96%|██████████████████████████████████████████████████████████▊  | 965/1000 [24:16<00:53,  1.54s/it]"
     ]
    },
    {
     "name": "stdout",
     "output_type": "stream",
     "text": [
      "Y axis string value is: 0.05,0.04,0.03,0.02,0.01,L,N\n",
      "I am in 1st try\n",
      "Y axis string corrected value is: [0.05, 0.04, 0.03, 0.02, 0.01]\n",
      "I am in try\n"
     ]
    },
    {
     "name": "stderr",
     "output_type": "stream",
     "text": [
      "\r",
      "Processing files:  97%|██████████████████████████████████████████████████████████▉  | 966/1000 [24:18<00:51,  1.52s/it]"
     ]
    },
    {
     "name": "stdout",
     "output_type": "stream",
     "text": [
      "Y axis string value is: '100_,80,6C,'40,20;\n",
      "I am in 1st try\n",
      "Y axis string corrected value is: [80.0, 6.0]\n",
      "I am in try\n"
     ]
    },
    {
     "name": "stderr",
     "output_type": "stream",
     "text": [
      "\r",
      "Processing files:  97%|██████████████████████████████████████████████████████████▉  | 967/1000 [24:19<00:50,  1.52s/it]"
     ]
    },
    {
     "name": "stdout",
     "output_type": "stream",
     "text": [
      "Y axis string value is: 0.7,0.65,0.6,0.55},0.5\n",
      "I am in 1st try\n",
      "Y axis string corrected value is: [0.7, 0.65, 0.6, 0.5]\n",
      "I am in try\n"
     ]
    },
    {
     "name": "stderr",
     "output_type": "stream",
     "text": [
      "\r",
      "Processing files:  97%|███████████████████████████████████████████████████████████  | 968/1000 [24:21<00:48,  1.51s/it]"
     ]
    },
    {
     "name": "stdout",
     "output_type": "stream",
     "text": [
      "Y axis string value is: 0.00047,0.0004675,0.000465,0.0004625,0.00046\n",
      "I am in 1st try\n",
      "Y axis string corrected value is: [0.00047, 0.0004675, 0.000465, 0.0004625, 0.00046]\n",
      "I am in try\n"
     ]
    },
    {
     "name": "stderr",
     "output_type": "stream",
     "text": [
      "\r",
      "Processing files:  97%|███████████████████████████████████████████████████████████  | 969/1000 [24:22<00:47,  1.54s/it]"
     ]
    },
    {
     "name": "stdout",
     "output_type": "stream",
     "text": [
      "Y axis string value is: 0.67,066,0.65,064,0.63,062,061,06\n",
      "I am in 1st try\n",
      "Y axis string corrected value is: [0.67, 0.66, 0.65, 0.64, 0.63, 0.62, 0.61, 0.6]\n",
      "I am in try\n"
     ]
    },
    {
     "name": "stderr",
     "output_type": "stream",
     "text": [
      "\r",
      "Processing files:  97%|███████████████████████████████████████████████████████████▏ | 970/1000 [24:24<00:45,  1.53s/it]"
     ]
    },
    {
     "name": "stdout",
     "output_type": "stream",
     "text": [
      "Y axis string value is: 0.008,0.007,0.006,0.0o5,0.004\n",
      "I am in 1st try\n",
      "Y axis string corrected value is: [0.008, 0.007, 0.006, 0.05, 0.004]\n",
      "I am in try\n"
     ]
    },
    {
     "name": "stderr",
     "output_type": "stream",
     "text": [
      "\r",
      "Processing files:  97%|███████████████████████████████████████████████████████████▏ | 971/1000 [24:26<00:44,  1.53s/it]"
     ]
    },
    {
     "name": "stdout",
     "output_type": "stream",
     "text": [
      "Y axis string value is: 0.82,0.8,0.78,0_,0.74:,0.72,1.762,\n",
      "I am in 1st try\n"
     ]
    },
    {
     "name": "stderr",
     "output_type": "stream",
     "text": [
      "\r",
      "Processing files:  97%|███████████████████████████████████████████████████████████▎ | 972/1000 [24:27<00:43,  1.54s/it]"
     ]
    },
    {
     "name": "stdout",
     "output_type": "stream",
     "text": [
      "Y axis string value is: 6e-8;,Se-8,4e-8,3e-81,2e-8:,1e-8\n",
      "I am in 1st try\n",
      "Y axis string corrected value is: [6e-08, 5e-08, 4e-08, 3e-81, 2e-08, 1e-08]\n",
      "I am in try\n"
     ]
    },
    {
     "name": "stderr",
     "output_type": "stream",
     "text": [
      "\r",
      "Processing files:  97%|███████████████████████████████████████████████████████████▎ | 973/1000 [24:29<00:41,  1.55s/it]"
     ]
    },
    {
     "name": "stdout",
     "output_type": "stream",
     "text": [
      "Y axis string value is: 0.008,0.007,0.006,0.005,0.004,0.003\n",
      "I am in 1st try\n",
      "Y axis string corrected value is: [0.008, 0.007, 0.006, 0.005, 0.004, 0.003]\n",
      "I am in try\n"
     ]
    },
    {
     "name": "stderr",
     "output_type": "stream",
     "text": [
      "\r",
      "Processing files:  97%|███████████████████████████████████████████████████████████▍ | 974/1000 [24:30<00:39,  1.51s/it]"
     ]
    },
    {
     "name": "stdout",
     "output_type": "stream",
     "text": [
      "Y axis string value is: \n",
      "I am in 1st try\n"
     ]
    },
    {
     "name": "stderr",
     "output_type": "stream",
     "text": [
      "\r",
      "Processing files:  98%|███████████████████████████████████████████████████████████▍ | 975/1000 [24:32<00:38,  1.53s/it]"
     ]
    },
    {
     "name": "stdout",
     "output_type": "stream",
     "text": [
      "Y axis string value is: 0.000014,0.0000142,0.00001,0.0000137,0.000013,0.0000132,O.o0001,0.0000127\n",
      "I am in 1st try\n",
      "Y axis string corrected value is: [1.4e-05, 1.42e-05, 1e-05, 1.37e-05, 1.3e-05, 1.32e-05, 0.0001, 1.27e-05]\n",
      "I am in try\n"
     ]
    },
    {
     "name": "stderr",
     "output_type": "stream",
     "text": [
      "\r",
      "Processing files:  98%|███████████████████████████████████████████████████████████▌ | 976/1000 [24:33<00:37,  1.57s/it]"
     ]
    },
    {
     "name": "stdout",
     "output_type": "stream",
     "text": [
      "Y axis string value is: 0.012,0.01,0.008;,0.006,0.004,0.002\n",
      "I am in 1st try\n",
      "Y axis string corrected value is: [0.012, 0.01, 0.006, 0.004, 0.002]\n",
      "I am in try\n"
     ]
    },
    {
     "name": "stderr",
     "output_type": "stream",
     "text": [
      "\r",
      "Processing files:  98%|███████████████████████████████████████████████████████████▌ | 977/1000 [24:35<00:36,  1.58s/it]"
     ]
    },
    {
     "name": "stdout",
     "output_type": "stream",
     "text": [
      "Y axis string value is: 0.0027,0.0026,0.0025,0.0024,0.0023,0.0022,0.0021\n",
      "I am in 1st try\n",
      "Y axis string corrected value is: [0.0027, 0.0026, 0.0025, 0.0024, 0.0023, 0.0022, 0.0021]\n",
      "I am in try\n"
     ]
    },
    {
     "name": "stderr",
     "output_type": "stream",
     "text": [
      "\r",
      "Processing files:  98%|███████████████████████████████████████████████████████████▋ | 978/1000 [24:36<00:34,  1.56s/it]"
     ]
    },
    {
     "name": "stdout",
     "output_type": "stream",
     "text": [
      "Y axis string value is: \n",
      "I am in 1st try\n"
     ]
    },
    {
     "name": "stderr",
     "output_type": "stream",
     "text": [
      "\r",
      "Processing files:  98%|███████████████████████████████████████████████████████████▋ | 979/1000 [24:38<00:32,  1.56s/it]"
     ]
    },
    {
     "name": "stdout",
     "output_type": "stream",
     "text": [
      "Y axis string value is: Se-10,4e-10,3e-10,2e-10,Ie-10\n",
      "I am in 1st try\n",
      "Y axis string corrected value is: [5e-10, 4e-10, 3e-10, 2e-10, 1e-10]\n",
      "I am in try\n"
     ]
    },
    {
     "name": "stderr",
     "output_type": "stream",
     "text": [
      "\r",
      "Processing files:  98%|███████████████████████████████████████████████████████████▊ | 980/1000 [24:40<00:31,  1.58s/it]"
     ]
    },
    {
     "name": "stdout",
     "output_type": "stream",
     "text": [
      "Y axis string value is: 0.0060,0.0059,0.0058,0.0057,0.0056,0.0055,0.0054,0.0053,0.0052,00051,0.0050,0.0049,00048,0.0047,Cap,00046\n",
      "I am in 1st try\n",
      "Y axis string corrected value is: [0.006, 0.0059, 0.0058, 0.0057, 0.0056, 0.0055, 0.0054, 0.0053, 0.0052, 0.0051, 0.005, 0.0049, 0.0048, 0.0047, 0.0046]\n",
      "I am in try\n"
     ]
    },
    {
     "name": "stderr",
     "output_type": "stream",
     "text": [
      "\r",
      "Processing files:  98%|███████████████████████████████████████████████████████████▊ | 981/1000 [24:41<00:30,  1.58s/it]"
     ]
    },
    {
     "name": "stdout",
     "output_type": "stream",
     "text": [
      "Y axis string value is: 0.00146,0.00144,0.00142,0.00141,0.00138,0.00136,0.00134\n",
      "I am in 1st try\n",
      "Y axis string corrected value is: [0.00146, 0.00144, 0.00142, 0.00141, 0.00138, 0.00136, 0.00134]\n",
      "I am in try\n"
     ]
    },
    {
     "name": "stderr",
     "output_type": "stream",
     "text": [
      "\r",
      "Processing files:  98%|███████████████████████████████████████████████████████████▉ | 982/1000 [24:43<00:28,  1.58s/it]"
     ]
    },
    {
     "name": "stdout",
     "output_type": "stream",
     "text": [
      "Y axis string value is: 0.00003,0.000025,0.00002,0.000015:,0.00001,0.0o0005\n",
      "I am in 1st try\n",
      "Y axis string corrected value is: [3e-05, 2.5e-05, 2e-05, 1e-05, 5e-05]\n",
      "I am in try\n"
     ]
    },
    {
     "name": "stderr",
     "output_type": "stream",
     "text": [
      "\r",
      "Processing files:  98%|███████████████████████████████████████████████████████████▉ | 983/1000 [24:44<00:27,  1.59s/it]"
     ]
    },
    {
     "name": "stdout",
     "output_type": "stream",
     "text": [
      "Y axis string value is: 0.011,0.01,0.009,0.008,0.007,0.006,0.005,0.004\n",
      "I am in 1st try\n",
      "Y axis string corrected value is: [0.011, 0.01, 0.009, 0.008, 0.007, 0.006, 0.005, 0.004]\n",
      "I am in try\n"
     ]
    },
    {
     "name": "stderr",
     "output_type": "stream",
     "text": [
      "\r",
      "Processing files:  98%|████████████████████████████████████████████████████████████ | 984/1000 [24:46<00:25,  1.60s/it]"
     ]
    },
    {
     "name": "stdout",
     "output_type": "stream",
     "text": [
      "Y axis string value is: 0.00125,0.001,0.00075,0.0005',0.00025\n",
      "I am in 1st try\n",
      "Y axis string corrected value is: [0.00125, 0.001, 0.00075, 0.00025]\n",
      "I am in try\n"
     ]
    },
    {
     "name": "stderr",
     "output_type": "stream",
     "text": [
      "\r",
      "Processing files:  98%|████████████████████████████████████████████████████████████ | 985/1000 [24:47<00:23,  1.56s/it]"
     ]
    },
    {
     "name": "stdout",
     "output_type": "stream",
     "text": [
      "Y axis string value is: \n",
      "I am in 1st try\n"
     ]
    },
    {
     "name": "stderr",
     "output_type": "stream",
     "text": [
      "\r",
      "Processing files:  99%|████████████████████████████████████████████████████████████▏| 986/1000 [24:49<00:21,  1.50s/it]"
     ]
    },
    {
     "name": "stdout",
     "output_type": "stream",
     "text": [
      "Y axis string value is: 1.0792018\n",
      "I am in 1st try\n",
      "Y axis string corrected value is: [1.0792018]\n"
     ]
    },
    {
     "name": "stderr",
     "output_type": "stream",
     "text": [
      "\r",
      "Processing files:  99%|████████████████████████████████████████████████████████████▏| 987/1000 [24:50<00:19,  1.47s/it]"
     ]
    },
    {
     "name": "stdout",
     "output_type": "stream",
     "text": [
      "Y axis string value is: \n",
      "I am in 1st try\n"
     ]
    },
    {
     "name": "stderr",
     "output_type": "stream",
     "text": [
      "\r",
      "Processing files:  99%|████████████████████████████████████████████████████████████▎| 988/1000 [24:52<00:17,  1.47s/it]"
     ]
    },
    {
     "name": "stdout",
     "output_type": "stream",
     "text": [
      "Y axis string value is: 8.9822C\n",
      "I am in 1st try\n",
      "Y axis string corrected value is: [8.9822]\n"
     ]
    },
    {
     "name": "stderr",
     "output_type": "stream",
     "text": [
      "\r",
      "Processing files:  99%|████████████████████████████████████████████████████████████▎| 989/1000 [24:53<00:16,  1.46s/it]"
     ]
    },
    {
     "name": "stdout",
     "output_type": "stream",
     "text": [
      "Y axis string value is: Se-10.,4e-10,3e-10,2e-10:,Ie-10\n",
      "I am in 1st try\n",
      "Y axis string corrected value is: [4e-10, 3e-10, 2e-10, 1e-10]\n",
      "I am in try\n"
     ]
    },
    {
     "name": "stderr",
     "output_type": "stream",
     "text": [
      "\r",
      "Processing files:  99%|████████████████████████████████████████████████████████████▍| 990/1000 [24:55<00:14,  1.48s/it]"
     ]
    },
    {
     "name": "stdout",
     "output_type": "stream",
     "text": [
      "Y axis string value is: 0.0015615,0.0015614,0.0015613,0.0015612,0.001 5611,0.001561\n",
      "I am in 1st try\n",
      "Y axis string corrected value is: [0.0015615, 0.0015614, 0.0015613, 0.0015612, 0.001561]\n",
      "I am in try\n"
     ]
    },
    {
     "name": "stderr",
     "output_type": "stream",
     "text": [
      "\r",
      "Processing files:  99%|████████████████████████████████████████████████████████████▍| 991/1000 [24:56<00:13,  1.50s/it]"
     ]
    },
    {
     "name": "stdout",
     "output_type": "stream",
     "text": [
      "Y axis string value is: <O.OOO0D001,Cilt-\n",
      "I am in 1st try\n",
      "Y axis string corrected value is: [1e-07]\n"
     ]
    },
    {
     "name": "stderr",
     "output_type": "stream",
     "text": [
      "\r",
      "Processing files:  99%|████████████████████████████████████████████████████████████▌| 992/1000 [24:58<00:12,  1.53s/it]"
     ]
    },
    {
     "name": "stdout",
     "output_type": "stream",
     "text": [
      "Y axis string value is: 0.1,0.08,0.06,0.04,0.02\n",
      "I am in 1st try\n",
      "Y axis string corrected value is: [0.1, 0.08, 0.06, 0.04, 0.02]\n",
      "I am in try\n"
     ]
    },
    {
     "name": "stderr",
     "output_type": "stream",
     "text": [
      "\r",
      "Processing files:  99%|████████████████████████████████████████████████████████████▌| 993/1000 [24:59<00:10,  1.53s/it]"
     ]
    },
    {
     "name": "stdout",
     "output_type": "stream",
     "text": [
      "Y axis string value is: 0.3,0.25,0.2,0.15,0.1,0.05\n",
      "I am in 1st try\n",
      "Y axis string corrected value is: [0.3, 0.25, 0.2, 0.15, 0.1, 0.05]\n",
      "I am in try\n"
     ]
    },
    {
     "name": "stderr",
     "output_type": "stream",
     "text": [
      "\r",
      "Processing files:  99%|████████████████████████████████████████████████████████████▋| 994/1000 [25:01<00:09,  1.56s/it]"
     ]
    },
    {
     "name": "stdout",
     "output_type": "stream",
     "text": [
      "Y axis string value is: 0.035,0.0325,0.03,0.0275,0.025,0.0225,0.02,0.0175\n",
      "I am in 1st try\n",
      "Y axis string corrected value is: [0.035, 0.0325, 0.03, 0.0275, 0.025, 0.0225, 0.02, 0.0175]\n",
      "I am in try\n"
     ]
    },
    {
     "name": "stderr",
     "output_type": "stream",
     "text": [
      "\r",
      "Processing files: 100%|████████████████████████████████████████████████████████████▋| 995/1000 [25:03<00:07,  1.57s/it]"
     ]
    },
    {
     "name": "stdout",
     "output_type": "stream",
     "text": [
      "Y axis string value is: 0.00083,0.0008251,0.00082,0.000815:,0.00081,0.000805\n",
      "I am in 1st try\n",
      "Y axis string corrected value is: [0.00083, 0.0008251, 0.00082, 0.00081, 0.000805]\n",
      "I am in try\n"
     ]
    },
    {
     "name": "stderr",
     "output_type": "stream",
     "text": [
      "\r",
      "Processing files: 100%|████████████████████████████████████████████████████████████▊| 996/1000 [25:04<00:06,  1.56s/it]"
     ]
    },
    {
     "name": "stdout",
     "output_type": "stream",
     "text": [
      "Y axis string value is: 0.0000136,0.0000135,0.0000134,0.0000133,0.0000132,0.0000131,0.00001 3\n",
      "I am in 1st try\n",
      "Y axis string corrected value is: [1.36e-05, 1.35e-05, 1.34e-05, 1.33e-05, 1.32e-05, 1.31e-05]\n",
      "I am in try\n"
     ]
    },
    {
     "name": "stderr",
     "output_type": "stream",
     "text": [
      "\r",
      "Processing files: 100%|████████████████████████████████████████████████████████████▊| 997/1000 [25:06<00:04,  1.55s/it]"
     ]
    },
    {
     "name": "stdout",
     "output_type": "stream",
     "text": [
      "Y axis string value is: 1.22,0.8,0.6:,0.4\n",
      "I am in 1st try\n",
      "Y axis string corrected value is: [1.22, 0.8, 0.4]\n",
      "I am in try\n"
     ]
    },
    {
     "name": "stderr",
     "output_type": "stream",
     "text": [
      "\r",
      "Processing files: 100%|████████████████████████████████████████████████████████████▉| 998/1000 [25:07<00:03,  1.52s/it]"
     ]
    },
    {
     "name": "stdout",
     "output_type": "stream",
     "text": [
      "Y axis string value is: \n",
      "I am in 1st try\n"
     ]
    },
    {
     "name": "stderr",
     "output_type": "stream",
     "text": [
      "Processing files: 100%|████████████████████████████████████████████████████████████| 1000/1000 [25:10<00:00,  1.51s/it]"
     ]
    },
    {
     "name": "stdout",
     "output_type": "stream",
     "text": [
      "Y axis string value is: \n",
      "I am in 1st try\n",
      "[0.07047, 180.33241, 131.56089, 1.70512, 0.22314, 3.68648, 1.2752, 100.0, 100.0, 7.69231, 3.29218, 163.73699, 0.22222, 37.45, 0.11503, 3926.35432, 1415.87629, 8.75912, 2.94842, 30.94137, 100.0, 100.0, 497.63932, 0.57995, 100.0, 152.18182, 19.47734, 9.09089, 0.14302, 99.99217, 100.0, 0.02966, 3955.66325, 100.0, 79.49616, 7.09645, 99.89973, 5.13241, 5707.08661, 1394.32158, 0.21518, 613.86575, 26.00806, 60.2122, 24.96876, 0.17009, 65983.07238, 7.00539, 191.26214, 7.58472, 0.04114, 100.0, 3.41262, 0.12323, 2374253127.98227, 4.5967, 100.0, 0.30398, 0.01657, 100.0, 9.2233, 0.0, 3.57513, 0.03968, 100.0, 100.0, 4.0024, 166.5618, 4.88492, 4.7619, 0.09773, 0.48492, 100.0, 497.8706, 325.94444, 0.03587, 0.08167, 100.0, 0.80429, 100.0, 2.71146, 1104.26065, 4.91939, 1.40845, 0.28948, 0.14038, 510.02045, 445.1762, 1.86301, 1.76817, 100.0, 100.0, 3.47263, 22.81579, 2.59707, 100.0, 100.0, 70.66943, 68.076, 100.0, 74.53311, 922442.84362, 100.0, 5.04463, 0.67797, 3.94324, 8.04067, 100.0, 67.50977, 8.8423, 1.63809, 26.20192, 8174.89481, 24.68639, 67650.05722, 11.7476, 100.0, 13.33852, 100.0, 76.05634, 99.15406, 0.61408, 100.0, 14.00757, 3.36557, 0.47329, 1.40459, 0.38525, 0.98419, 4.26996, 0.17142, 44.35651, 88.11865, 124.61815, 3318.5217, 5.57357, 179195.62433, 0.43522, 0.36046, 96.98324, 323291.27106, 0.49129, 830.45115, 1116.0, 6.3655, 9644.84789, 0.25357, 0.46554, 12.68781, 0.0, 72.89238, 2.15589, 20.03929, 0.30211, 0.10716, 0.61183, 1.39752, 0.9037, 0.83933, 2.14352, 1.30002, 4.10495, 1.83661, 34.54911, 79.44736, 30.26499, 0.41352, 0.52751, 679863927.19456, 96.74696, 81.26273, 0.03183, 0.16071, 0.02785, 100.0, 6.73817, 0.18639, 111.12347, 0.09138, 8.565e+19, 2960.29106, 1.41988, 8.05627, 1.0327, 2.06366, 2.82776, 76.07692, 0.66599, 100.0, 9.52289, 100.0, 176.10506, 0.00633, 100.0, 100.0, 526.72234, 1.37312, 715.12183, 1021.40391, 0.40211, 0.99426, 2.21602, 23.5307, 16.1777, 0.02739, 0.58798, 0.0, 0.66007, 100.0, 100.0, 14.90649, 0.85866, 100.0, 0.0, 4.7619, 2.20126, 13757.1736, 29.27864, 0.16609, 0.86566, 8.96807, 100.0, 0.07564, 0.12603, 100.0, 7.24277, 164.97175, 9.9956, 7.27447, 30.85903, 100.0, 16.61646, 76.38473, 16.89751, 1.86563, 0.12987, 16.97111, 100.0, 100.0, 0.05523, 0.52212, 6.40408, 10.14493, 706.52363, 84.45591, 0.3045, 100.0, 30.03901, 11256.04542, 0.01133, 100.0, 27.05976, 6.09952, 2.72443, 0.9009, 0.03864, 100.0, 1.41713, 3.24031, 100.0, 1.54585, 75.02271, 11438.46154, 3.19023, 16.18311, 100.0, 3870929.05545, 99.8002, 4.7223, 100.0, 100.0, 0.8218, 175.26215, 8044.44444, 3510.24845, 0.07669, 126.8304, 0.33064, 1.97682, 0.76336, 0.01273, 47.0339, 100.0, 3.34036, 15.01115, 17502.92442, 4.29043, 0.29982, 110.44005, 25.62442, 7.34613, 13.86736, 443.23223, 640.06487, 43.26648, 0.00802, 3.18408, 100.0, 0.14925, 8416174.37794, 3.19917, 17.28701, 1.2752, 22.91052, 100.0, 100.0, 2.58299, 34.74208, 1.96271, 2.25472, 100.0, 85.03401, 0.14948, 7.01914, 0.2187, 0.27811, 0.56945, 6.30631, 16.02564, 5.89655, 3.7037, 35894.83204, 0.02936, 72.31686, 1.97926, 8.74269, 55.42431, 100.0, 0.19293, 2.60417, 64.22018, 0.0, 100.0, 2.15264, 359.77011, 0.6251, 1.03282, 100.0, 8.40125, 0.46522, 18910.66925, 263.07054, 25169.80784, 7.97498, 0.48415, 19.42879, 100.0, 0.0, 1.2808, 0.09833, 0.53807, 60.51364, 100.0, 0.0, 4.12637, 2.51688, 100.0, 34.6463, 12.58741, 6286.73005, 1.911, 25.00646, 324.67882, 7.17822, 19.70803, 100.0, 692908.84956, 7.78328, 5.21327, 27.0073, 2983.22412, 91.47228, 3.93107, 876.85283, 494.03588, 0.1251, 2.63103, 230.36009, 43574.26515, 12.63409, 2.78392, 1.38889, 682.1666, 38260.30664, 100.0, 0.04049, 24637.16759, 321.48831, 22.49075, 7.15119, 0.90915, 351448.90359, 4.4451, 8.94632, 100.0, 80941.78404, 15.83171, 3.44384, 0.71014, 152.76094, 1.67516, 12.10343, 100.0, 0.3423, 0.06, 0.05348, 15.83745, 100.0, 0.44313, 27.00052, 3625.31976, 0.24982, 11.62682, 100.0, 100.0, 100.0, 0.04421, 100.0, 0.03438, 1.46313, 2569358.28775, 0.67975, 30.14177, 1.86119, 0.80483, 0.25413, 1.09179, 14.0603, 100.0, 53.84615, 256.04678, 2.05255, 0.81278, 2.31103, 0.72707, 0.18715, 22.2807, 861.81273, 4.4089, 0.0, 23.45114, 0.72398, 100.0, 0.17194, 4.8218, 100.0, 100.0, 100.0, 100.0, 0.69713, 1.34197, 7.69231, 86.13409, 0.65299, 31.66557, 122.92827, 22241.81818, 0.27347, 2.41809, 0.55249, 13.01891, 0.35587, 63.42021, 0.12512, 0.18095, 2.02482, 98.2576, 36.55984, 100.0, 15.66972, 100.0, 0.01259, 2291.44116, 3.49819, 187.85072, 0.01022, 100.0, 17.21854, 1.42418, 4.73474, 10.68069, 3.35479, 38.84262, 87.60744, 0.42902, 3.46535, 1.14633, 0.11926, 0.04316, 100.0, 1.5625, 100.0, 382.29824, 35.60258, 0.89612, 100.0, 0.39221, 0.25207, 100.0, 64.78836, 0.36744, 3.0979, 67.75204, 0.0, 100.0, 4.14166, 0.00191, 8.03905, 6.58964, 1.94401, 0.90765, 13.96161, 21.99688, 40.9189, 53.30897, 11.87244, 8.92532, 48.10752, 606.75453, 8741.53429, 0.22848, 6.15092, 0.40969, 3.84615, 3.0303, 2.08911, 96.69858, 515.38462, 86.58377, 1.82417, 100.0, 2585.24813, 100.0, 100.0, 5.5061, 26.14476, 0.0, 0.03332, 0.42135, 3.2882, 2.76819, 56.60904, 2.75527, 122.4675, 0.3003, 0.16992, 0.54645, 24.38017, 0.08941, 196023.91739, 0.50429, 0.92109, 15.00729, 40.59081, 1.92516, 1.11876, 6.84443, 1.97109, 100.0, 1.85121, 212.5, 7.11928, 6.56518, 0.07252, 5.89113, 1247.34573, 3.26321, 11041.0602, 100.0, 0.06406, 27.65382, 15.35762, 1.84935, 0.20775, 26.14476, 0.61541]\n",
      "[33.051, 119.391, 117.839, 81.946, 97.45, 90.037, 100.0, 100.0, 100.0, 61.538, 85.597, 77.109, 80.0, 100.0, 94.057, 46.413, 191.546, 100.0, 91.848, 50.223, 100.0, 100.0, 348.229, 100.0, 100.0, 55.0, 54.061, 64.151, 81.395, 99.999, 100.0, 26.785, 4044.281, 100.0, 18.756, 2.499, 99.785, 86.486, 2842.913, 100.0, 84.346, 629.054, 100.0, 8.488, 100.0, 97.163, 66889.29, 51.655, 288.35, 100.0, 99.794, 100.0, 44.405, 75.354, 2412796199.865, 39.289, 100.0, 91.154, 78.701, 100.0, 385.437, 4.878, 0.052, 97.143, 100.0, 100.0, 55.549, 169.82, 60.075, 67.048, 97.557, 98.399, 100.0, 502.785, 712.778, 99.937, 91.542, 100.0, 52.815, 100.0, 20.808, 1144.361, 46.259, 69.366, 74.551, 99.532, 592.706, 465.396, 65.365, 100.0, 100.0, 100.0, 58.211, 65.875, 62.916, 85.43, 100.0, 17.322, 148.46, 100.0, 43.973, 937345.795, 100.0, 98.137, 67.797, 78.551, 0.647, 100.0, 6.946, 96.901, 77.451, 32.212, 22929.453, 21.16, 68336.713, 22.041, 100.0, 8.327, 100.0, 164.085, 99.337, 76.901, 100.0, 5.084, 2.273, 91.095, 93.913, 65.327, 58.545, 42.212, 50.59, 193.924, 94.924, 79.695, 527.806, 50.649, 179729.242, 66.522, 94.281, 44.134, 47.167, 98.883, 2.538, 1146.0, 46.201, 9713.543, 73.25, 90.325, 73.376, 99.948, 20.9, 83.416, 13.163, 99.124, 99.024, 67.369, 59.627, 86.918, 72.842, 53.402, 32.467, 34.998, 87.334, 73.413, 1386.641, 100.0, 82.819, 96.986, 699859927.994, 99.569, 15.75, 99.382, 98.214, 93.038, 100.0, 16.577, 97.67, 25.844, 79.144, 6.5589715e+23, 2972.765, 87.83, 12.887, 93.546, 92.865, 30.924, 61.844, 97.742, 100.0, 85.555, 100.0, 171.621, 99.602, 100.0, 100.0, 1.044, 79.931, 98.744, 807.94, 92.016, 41.885, 16.783, 100.0, 2.207, 99.822, 76.611, 99.86, 76.898, 100.0, 100.0, 78.218, 74.104, 100.0, 99.931, 4.762, 60.692, 58.752, 5.587, 97.446, 96.638, 100.0, 100.0, 96.474, 0.966, 100.0, 21.19, 85.311, 7.221, 36.827, 132.599, 100.0, 72.669, 6.36, 6.187, 80.589, 76.753, 75.091, 100.0, 23.562, 14.912, 68.673, 43.3, 3.382, 682.711, 87.439, 93.185, 100.0, 100.0, 100.401, 99.87, 100.0, 96.546, 92.376, 92.748, 67.905, 92.411, 100.0, 50.709, 99.631, 100.0, 90.395, 47.775, 58.604, 91.887, 71.283, 100.0, 842061.601, 0.1, 1.306, 100.0, 100.0, 91.22, 52.736, 6477.778, 3976.087, 35.449, 70.528, 95.107, 96.66, 74.555, 99.982, 100.0, 100.0, 63.625, 56.167, 18142.879, 0.99, 92.412, 77.98, 65.68, 73.527, 100.0, 714.848, 90.262, 100.0, 99.682, 60.398, 100.0, 66.567, 81271.89, 8.932, 17.287, 67.092, 50.836, 292.003, 100.0, 76.926, 72.654, 97.645, 107.922, 100.0, 84.58, 78.318, 3.008, 68.289, 93.246, 95.932, 81.982, 45.513, 0.92, 59.436, 34353.058, 90.869, 71.162, 1.791, 61.023, 100.0, 100.0, 96.57, 74.219, 26.606, 93.806, 100.0, 100.0, 404.47, 96.794, 16.862, 100.0, 2.382, 100.0, 19201.649, 48.133, 25959.489, 4.926, 20.995, 100.0, 100.0, 99.944, 95.823, 97.384, 73.912, 100.0, 100.0, 100.0, 1.032, 0.307, 1926.342, 21.222, 296.27, 6059.644, 14.072, 6.905, 35.345, 0.99, 5.109, 100.0, 705344.248, 3.884, 100.0, 27.007, 3143.775, 74.918, 75.552, 961.797, 494.036, 99.9, 51.523, 230.36, 44384.103, 79.142, 77.905, 28.056, 100.0, 41582.283, 100.0, 99.879, 24637.168, 247.215, 11.924, 1.817, 70.728, 79955.691, 86.045, 3.777, 100.0, 100145.618, 753.134, 100.0, 83.957, 89.226, 35.025, 13.346, 100.0, 95.669, 1016566.596, 59.397, 181.048, 100.0, 546.233, 48.89, 4867.093, 88.126, 32.193, 100.0, 100.0, 100.0, 96.375, 100.0, 82.434, 97.734, 2809407.932, 96.756, 9.595, 95.972, 74.145, 100.0, 100.0, 86.757, 100.0, 156.41, 269.839, 75.533, 98.622, 74.387, 68.848, 100.0, 73.86, 5.765, 0.273, 99.469, 15.009, 89.744, 192620169551.272, 93.945, 100.0, 100.0, 100.0, 100.0, 100.0, 45.778, 92.966, 161.538, 96.518, 92.771, 100.0, 86.702, 22396.364, 96.961, 0.457, 92.634, 49.967, 100.0, 35.985, 96.121, 97.83, 67.342, 97.663, 90.19, 100.0, 81.468, 100.0, 99.914, 62.366, 45.275, 400.257, 99.898, 100.0, 58.609, 29.768, 70.491, 72.33, 63.402, 80.568, 40.636, 83.796, 0.66, 86.514, 7.913, 99.223, 100.0, 83.761, 100.0, 16.24, 21.803, 50.216, 100.0, 72.056, 97.586, 100.0, 4.998, 6.481, 83.228, 63.369, 99.962, 100.0, 5.342, 95.715, 79.872, 77.407, 0.467, 98.366, 8.412, 21.997, 38.805, 95.94, 4.934, 8.925, 83.763, 613.756, 7594.692, 95.43, 84.781, 91.91, 47.388, 93.939, 74.767, 71.938, 82.249, 100.0, 89.992, 100.0, 2619.239, 100.0, 100.0, 80.218, 46798.08, 99.235, 72.509, 89.677, 34.71, 1.597, 52.287, 100.0, 25.112, 91.291, 95.752, 100.0, 56.887, 96.423, 197520.919, 100.0, 74.857, 23.847, 55.361, 82.565, 97.849, 90.276, 79.501, 100.0, 70.311, 100.0, 2.405, 87.631, 81.69, 92.543, 100.0, 52.129, 11130.907, 100.0, 100.0, 19.743, 1.323, 68.336, 97.556, 100.0, 25.994]\n",
      "Initial Average for 1st Algo: 1.486979166720004e+17\n",
      "The number of processed images after outlier removal for 1st algo is: [0.07047, 180.33241, 131.56089, 1.70512, 0.22314, 3.68648, 1.2752, 100.0, 100.0, 7.69231, 3.29218, 163.73699, 0.22222, 37.45, 0.11503, 8.75912, 2.94842, 30.94137, 100.0, 100.0, 0.57995, 100.0, 152.18182, 19.47734, 9.09089, 0.14302, 99.99217, 100.0, 0.02966, 100.0, 79.49616, 7.09645, 99.89973, 5.13241, 0.21518, 26.00806, 60.2122, 24.96876, 0.17009, 7.00539, 191.26214, 7.58472, 0.04114, 100.0, 3.41262, 0.12323, 4.5967, 100.0, 0.30398, 0.01657, 100.0, 9.2233, 0.0, 3.57513, 0.03968, 100.0, 100.0, 4.0024, 166.5618, 4.88492, 4.7619, 0.09773, 0.48492, 100.0, 0.03587, 0.08167, 100.0, 0.80429, 100.0, 2.71146, 4.91939, 1.40845, 0.28948, 0.14038, 1.86301, 1.76817, 100.0, 100.0, 3.47263, 22.81579, 2.59707, 100.0, 100.0, 70.66943, 68.076, 100.0, 74.53311, 100.0, 5.04463, 0.67797, 3.94324, 8.04067, 100.0, 67.50977, 8.8423, 1.63809, 26.20192, 24.68639, 11.7476, 100.0, 13.33852, 100.0, 76.05634, 99.15406, 0.61408, 100.0, 14.00757, 3.36557, 0.47329, 1.40459, 0.38525, 0.98419, 4.26996, 0.17142, 44.35651, 88.11865, 124.61815, 5.57357, 0.43522, 0.36046, 96.98324, 0.49129, 6.3655, 0.25357, 0.46554, 12.68781, 0.0, 72.89238, 2.15589, 20.03929, 0.30211, 0.10716, 0.61183, 1.39752, 0.9037, 0.83933, 2.14352, 1.30002, 4.10495, 1.83661, 34.54911, 79.44736, 30.26499, 0.41352, 0.52751, 96.74696, 81.26273, 0.03183, 0.16071, 0.02785, 100.0, 6.73817, 0.18639, 111.12347, 0.09138, 1.41988, 8.05627, 1.0327, 2.06366, 2.82776, 76.07692, 0.66599, 100.0, 9.52289, 100.0, 176.10506, 0.00633, 100.0, 100.0, 1.37312, 0.40211, 0.99426, 2.21602, 23.5307, 16.1777, 0.02739, 0.58798, 0.0, 0.66007, 100.0, 100.0, 14.90649, 0.85866, 100.0, 0.0, 4.7619, 2.20126, 29.27864, 0.16609, 0.86566, 8.96807, 100.0, 0.07564, 0.12603, 100.0, 7.24277, 164.97175, 9.9956, 7.27447, 30.85903, 100.0, 16.61646, 76.38473, 16.89751, 1.86563, 0.12987, 16.97111, 100.0, 100.0, 0.05523, 0.52212, 6.40408, 10.14493, 84.45591, 0.3045, 100.0, 30.03901, 0.01133, 100.0, 27.05976, 6.09952, 2.72443, 0.9009, 0.03864, 100.0, 1.41713, 3.24031, 100.0, 1.54585, 75.02271, 3.19023, 16.18311, 100.0, 99.8002, 4.7223, 100.0, 100.0, 0.8218, 175.26215, 0.07669, 126.8304, 0.33064, 1.97682, 0.76336, 0.01273, 47.0339, 100.0, 3.34036, 15.01115, 4.29043, 0.29982, 110.44005, 25.62442, 7.34613, 13.86736, 43.26648, 0.00802, 3.18408, 100.0, 0.14925, 3.19917, 17.28701, 1.2752, 22.91052, 100.0, 100.0, 2.58299, 34.74208, 1.96271, 2.25472, 100.0, 85.03401, 0.14948, 7.01914, 0.2187, 0.27811, 0.56945, 6.30631, 16.02564, 5.89655, 3.7037, 0.02936, 72.31686, 1.97926, 8.74269, 55.42431, 100.0, 0.19293, 2.60417, 64.22018, 0.0, 100.0, 2.15264, 0.6251, 1.03282, 100.0, 8.40125, 0.46522, 7.97498, 0.48415, 19.42879, 100.0, 0.0, 1.2808, 0.09833, 0.53807, 60.51364, 100.0, 0.0, 4.12637, 2.51688, 100.0, 34.6463, 12.58741, 1.911, 25.00646, 7.17822, 19.70803, 100.0, 7.78328, 5.21327, 27.0073, 91.47228, 3.93107, 0.1251, 2.63103, 230.36009, 12.63409, 2.78392, 1.38889, 100.0, 0.04049, 22.49075, 7.15119, 0.90915, 4.4451, 8.94632, 100.0, 15.83171, 3.44384, 0.71014, 152.76094, 1.67516, 12.10343, 100.0, 0.3423, 0.06, 0.05348, 15.83745, 100.0, 0.44313, 27.00052, 0.24982, 11.62682, 100.0, 100.0, 100.0, 0.04421, 100.0, 0.03438, 1.46313, 0.67975, 30.14177, 1.86119, 0.80483, 0.25413, 1.09179, 14.0603, 100.0, 53.84615, 2.05255, 0.81278, 2.31103, 0.72707, 0.18715, 22.2807, 4.4089, 0.0, 23.45114, 0.72398, 100.0, 0.17194, 4.8218, 100.0, 100.0, 100.0, 100.0, 0.69713, 1.34197, 7.69231, 86.13409, 0.65299, 31.66557, 122.92827, 0.27347, 2.41809, 0.55249, 13.01891, 0.35587, 63.42021, 0.12512, 0.18095, 2.02482, 98.2576, 36.55984, 100.0, 15.66972, 100.0, 0.01259, 3.49819, 187.85072, 0.01022, 100.0, 17.21854, 1.42418, 4.73474, 10.68069, 3.35479, 38.84262, 87.60744, 0.42902, 3.46535, 1.14633, 0.11926, 0.04316, 100.0, 1.5625, 100.0, 35.60258, 0.89612, 100.0, 0.39221, 0.25207, 100.0, 64.78836, 0.36744, 3.0979, 67.75204, 0.0, 100.0, 4.14166, 0.00191, 8.03905, 6.58964, 1.94401, 0.90765, 13.96161, 21.99688, 40.9189, 53.30897, 11.87244, 8.92532, 48.10752, 0.22848, 6.15092, 0.40969, 3.84615, 3.0303, 2.08911, 96.69858, 86.58377, 1.82417, 100.0, 100.0, 100.0, 5.5061, 26.14476, 0.0, 0.03332, 0.42135, 3.2882, 2.76819, 56.60904, 2.75527, 122.4675, 0.3003, 0.16992, 0.54645, 24.38017, 0.08941, 0.50429, 0.92109, 15.00729, 40.59081, 1.92516, 1.11876, 6.84443, 1.97109, 100.0, 1.85121, 212.5, 7.11928, 6.56518, 0.07252, 5.89113, 3.26321, 100.0, 0.06406, 27.65382, 15.35762, 1.84935, 0.20775, 26.14476, 0.61541]\n",
      "Average after removing outliers for 1st Algo: 33.22385555555556\n",
      "Initial Average for 2nd Algo: 1.1387103298614509e+21\n",
      "The number of processed images after outlier removal for 2nd algo is: [33.051, 119.391, 117.839, 81.946, 97.45, 90.037, 100.0, 100.0, 100.0, 61.538, 85.597, 77.109, 80.0, 100.0, 94.057, 46.413, 100.0, 91.848, 50.223, 100.0, 100.0, 100.0, 100.0, 55.0, 54.061, 64.151, 81.395, 99.999, 100.0, 26.785, 100.0, 18.756, 2.499, 99.785, 86.486, 100.0, 84.346, 100.0, 8.488, 100.0, 97.163, 51.655, 100.0, 99.794, 100.0, 44.405, 75.354, 39.289, 100.0, 91.154, 78.701, 100.0, 4.878, 0.052, 97.143, 100.0, 100.0, 55.549, 60.075, 67.048, 97.557, 98.399, 100.0, 99.937, 91.542, 100.0, 52.815, 100.0, 20.808, 46.259, 69.366, 74.551, 99.532, 65.365, 100.0, 100.0, 100.0, 58.211, 65.875, 62.916, 85.43, 100.0, 17.322, 148.46, 100.0, 43.973, 100.0, 98.137, 67.797, 78.551, 0.647, 100.0, 6.946, 96.901, 77.451, 32.212, 21.16, 22.041, 100.0, 8.327, 100.0, 99.337, 76.901, 100.0, 5.084, 2.273, 91.095, 93.913, 65.327, 58.545, 42.212, 50.59, 94.924, 79.695, 50.649, 66.522, 94.281, 44.134, 47.167, 98.883, 2.538, 46.201, 73.25, 90.325, 73.376, 99.948, 20.9, 83.416, 13.163, 99.124, 99.024, 67.369, 59.627, 86.918, 72.842, 53.402, 32.467, 34.998, 87.334, 73.413, 100.0, 82.819, 96.986, 99.569, 15.75, 99.382, 98.214, 93.038, 100.0, 16.577, 97.67, 25.844, 79.144, 87.83, 12.887, 93.546, 92.865, 30.924, 61.844, 97.742, 100.0, 85.555, 100.0, 99.602, 100.0, 100.0, 1.044, 79.931, 98.744, 92.016, 41.885, 16.783, 100.0, 2.207, 99.822, 76.611, 99.86, 76.898, 100.0, 100.0, 78.218, 74.104, 100.0, 99.931, 4.762, 60.692, 58.752, 5.587, 97.446, 96.638, 100.0, 100.0, 96.474, 0.966, 100.0, 21.19, 85.311, 7.221, 36.827, 132.599, 100.0, 72.669, 6.36, 6.187, 80.589, 76.753, 75.091, 100.0, 23.562, 14.912, 68.673, 43.3, 3.382, 87.439, 93.185, 100.0, 100.0, 100.401, 99.87, 100.0, 96.546, 92.376, 92.748, 67.905, 92.411, 100.0, 50.709, 99.631, 100.0, 90.395, 47.775, 58.604, 91.887, 71.283, 100.0, 0.1, 1.306, 100.0, 100.0, 91.22, 52.736, 35.449, 70.528, 95.107, 96.66, 74.555, 99.982, 100.0, 100.0, 63.625, 56.167, 0.99, 92.412, 77.98, 65.68, 73.527, 100.0, 90.262, 100.0, 99.682, 60.398, 100.0, 66.567, 8.932, 17.287, 67.092, 50.836, 100.0, 76.926, 72.654, 97.645, 107.922, 100.0, 84.58, 78.318, 3.008, 68.289, 93.246, 95.932, 81.982, 45.513, 0.92, 59.436, 90.869, 71.162, 1.791, 61.023, 100.0, 100.0, 96.57, 74.219, 26.606, 93.806, 100.0, 100.0, 96.794, 16.862, 100.0, 2.382, 100.0, 48.133, 4.926, 20.995, 100.0, 100.0, 99.944, 95.823, 97.384, 73.912, 100.0, 100.0, 100.0, 1.032, 0.307, 21.222, 14.072, 6.905, 35.345, 0.99, 5.109, 100.0, 3.884, 100.0, 27.007, 74.918, 75.552, 99.9, 51.523, 79.142, 77.905, 28.056, 100.0, 100.0, 99.879, 11.924, 1.817, 70.728, 86.045, 3.777, 100.0, 100.0, 83.957, 89.226, 35.025, 13.346, 100.0, 95.669, 59.397, 100.0, 48.89, 88.126, 32.193, 100.0, 100.0, 100.0, 96.375, 100.0, 82.434, 97.734, 96.756, 9.595, 95.972, 74.145, 100.0, 100.0, 86.757, 100.0, 156.41, 75.533, 98.622, 74.387, 68.848, 100.0, 73.86, 5.765, 0.273, 99.469, 15.009, 89.744, 93.945, 100.0, 100.0, 100.0, 100.0, 100.0, 45.778, 92.966, 96.518, 92.771, 100.0, 86.702, 96.961, 0.457, 92.634, 49.967, 100.0, 35.985, 96.121, 97.83, 67.342, 97.663, 90.19, 100.0, 81.468, 100.0, 99.914, 62.366, 45.275, 99.898, 100.0, 58.609, 29.768, 70.491, 72.33, 63.402, 80.568, 40.636, 83.796, 0.66, 86.514, 7.913, 99.223, 100.0, 83.761, 100.0, 16.24, 21.803, 50.216, 100.0, 72.056, 97.586, 100.0, 4.998, 6.481, 83.228, 63.369, 99.962, 100.0, 5.342, 95.715, 79.872, 77.407, 0.467, 98.366, 8.412, 21.997, 38.805, 95.94, 4.934, 8.925, 83.763, 95.43, 84.781, 91.91, 47.388, 93.939, 74.767, 71.938, 82.249, 100.0, 89.992, 100.0, 100.0, 100.0, 80.218, 99.235, 72.509, 89.677, 34.71, 1.597, 52.287, 100.0, 25.112, 91.291, 95.752, 100.0, 56.887, 96.423, 100.0, 74.857, 23.847, 55.361, 82.565, 97.849, 90.276, 79.501, 100.0, 70.311, 100.0, 2.405, 87.631, 81.69, 92.543, 100.0, 52.129, 100.0, 100.0, 19.743, 1.323, 68.336, 97.556, 100.0, 25.994]\n",
      "Average after removing outliers for 2nd Algo: 71.89391252485093\n"
     ]
    },
    {
     "name": "stderr",
     "output_type": "stream",
     "text": [
      "\n"
     ]
    }
   ],
   "source": [
    "import os\n",
    "import random\n",
    "\n",
    "# Specify the directory path\n",
    "directory_path = 'pascal_voc_datasets/VOCdevkit/PlotsEnchanced_Original_NoAugmentation/JPEGImages/'\n",
    "\n",
    "# Get all filenames from the directory\n",
    "filenames = [f for f in os.listdir(directory_path) if os.path.isfile(os.path.join(directory_path, f))]\n",
    "\n",
    "# Shuffle the filenames\n",
    "random.shuffle(filenames)\n",
    "\n",
    "first_algo_diff = []\n",
    "second_algo_diff = []\n",
    "for i in tqdm(range(0, 1000), desc=\"Processing files\"):\n",
    "    img_name = filenames[i]\n",
    "    CUSTOM_CLASSES = {\"name\": 1, \"value\": 2, \"x-axis\": 3, \"y-axis\": 4, \"plot\":5}\n",
    "\n",
    "    img = Image.open(directory_path + img_name)\n",
    "    orig_width, orig_height = img.size                                   # Store the original image dimensions\n",
    "\n",
    "    # Process the image\n",
    "    img_processed = data_transforms(img)\n",
    "\n",
    "    # Calculate the scale ratios\n",
    "    new_width, new_height = img_processed.shape[1], img_processed.shape[2]\n",
    "\n",
    "    # Calculate the scale ratios\n",
    "    if orig_width <= orig_height:\n",
    "        new_height = 512\n",
    "        new_width = int(orig_width * (new_height / orig_height))\n",
    "    else:\n",
    "        new_width = 512\n",
    "        new_height = int(orig_height * (new_width / orig_width))\n",
    "\n",
    "    width_ratio = new_width / orig_width\n",
    "    height_ratio = new_height / orig_height\n",
    "    \n",
    "    img_processed = img_processed.to(device)\n",
    "    with torch.no_grad():\n",
    "        prediction = model([img_processed])\n",
    "\n",
    "    # Scale bounding boxes back to original image size\n",
    "    for box in prediction[0]['boxes']:\n",
    "        box[0] *= (1 / width_ratio)\n",
    "        box[2] *= (1 / width_ratio)\n",
    "        box[1] *= (1 / height_ratio)\n",
    "        box[3] *= (1 / height_ratio)\n",
    "\n",
    "\n",
    "    results = {}                                 # Dictionary to store the results\n",
    "    yaxis_coordinates = []                       # Initialize a list to store the Y coordinates\n",
    "    label5_image = None                          # Variable to store the cropped image for label 5\n",
    "    y_axis_image = None\n",
    "\n",
    "    reader = easyocr.Reader(lang_list=['en'])       # Create a reader to recognize the English language\n",
    "\n",
    "    for box, label, score in zip(prediction[0]['boxes'], prediction[0]['labels'], prediction[0]['scores']):\n",
    "        if label >= 1 and label <= 4 and score > 0.6:                                                 # Check if the score is above 0.7 and label is between 1 and 4\n",
    "            xmin, ymin, xmax, ymax = [int(i) for i in box]                                            # Convert box coordinates to integers\n",
    "            cropped_image = img.crop((xmin, ymin, xmax, ymax))                                        # Crop the image          \n",
    "            bw_img = cropped_image.convert(\"L\")                                                       # Convert the cropped image to grayscale (black and white)\n",
    "            bw_img_array = np.array(bw_img)\n",
    "\n",
    "            # Resize the image (e.g., double the size)\n",
    "            resized_img = cv2.resize(bw_img_array, (0,0), fx=10, fy=10, interpolation = cv2.INTER_CUBIC)\n",
    "\n",
    "            # Contrast Enhancement\n",
    "            clahe = cv2.createCLAHE(clipLimit=4, tileGridSize=(16, 16))\n",
    "            enhanced_img = clahe.apply(resized_img)\n",
    "\n",
    "            # Apply Otsu's thresholding\n",
    "            _, thresh_img = cv2.threshold(enhanced_img, 0, 255, cv2.THRESH_BINARY + cv2.THRESH_OTSU)\n",
    "\n",
    "            if label == CUSTOM_CLASSES[\"y-axis\"]:\n",
    "                y_axis_image = cropped_image\n",
    "\n",
    "                result = reader.readtext(thresh_img)\n",
    "                text_results = [item[1] for item in result]                            # Extract only the text\n",
    "                text_found = ','.join(text_results)\n",
    "\n",
    "                for (bbox, text, prob) in result:\n",
    "                    bottom_y1 = bbox[1][1]  # Get the y-coordinate of one of the bottom points\n",
    "                    bottom_y2 = bbox[2][1]  # Get the y-coordinate of the other bottom point\n",
    "                    #print(bottom_y1, bottom_y2)\n",
    "                    average_y = (bottom_y1 + bottom_y2) / 2  # Calculate the average y-coordinate\n",
    "                    quarter_y = (bottom_y2 + average_y) / 2\n",
    "                    yaxis_coordinates.append(int(quarter_y / 10))  # Add the average y-coordinate for each text box available (divide by the upscale factor)\n",
    "            else:\n",
    "                result = reader.readtext(thresh_img, detail = 0)      \n",
    "                text_found = ','.join(result)\n",
    "                text_found = re.sub('\\n+', ',', text_found)                                           # Replace one or more consecutive newline characters with a single comma\n",
    "\n",
    "\n",
    "            label_name = [name for name, id in CUSTOM_CLASSES.items() if id == label][0]              # Find the label name using the CUSTOM_CLASSES dictionary\n",
    "            results[label_name] = text_found                                                          # Store the result in the dictionary\n",
    "\n",
    "        elif label == 5 and score > 0.7:                                                              # Check if the label is 5 and the score is above 0.7\n",
    "            xmin, ymin, xmax, ymax = [int(i) for i in box]                                            # Convert box coordinates to integers\n",
    "            label5_image = img.crop((xmin, ymin, xmax, ymax))                                         # Crop the image for label 5\n",
    "\n",
    "    # The results dictionary now contains the extracted text for labels 1 to 4\n",
    "    #print(results)\n",
    "\n",
    "    #############################################################################################################################\n",
    "    # Apply the function to both lists\n",
    "    try:\n",
    "        y_axis_str = results['y-axis']\n",
    "        print(f\"Y axis string value is: {y_axis_str}\")\n",
    "        print(\"I am in 1st try\")\n",
    "        y_axis_values, y_axis_val_rem_idx = process_ocr_string(y_axis_str)\n",
    "        print(f\"Y axis string corrected value is: {y_axis_values}\")\n",
    "\n",
    "        yaxis_coordinates = [value for index, value in enumerate(yaxis_coordinates) if index not in y_axis_val_rem_idx]\n",
    "        y_axis_values_new = calculate_new_list(y_axis_values)\n",
    "        yaxis_coordinates_new = calculate_new_list(yaxis_coordinates)\n",
    "        yaxis_coordinates_new = list(map(round, yaxis_coordinates_new))\n",
    "\n",
    "        ######################################################################################################################\n",
    "        # FIRST INTERPOLATION METHOD\n",
    "        # Value interpolation from curve\n",
    "        from scipy.interpolate import interp1d\n",
    "\n",
    "        # Create a linear interpolation function\n",
    "        f = interp1d(yaxis_coordinates_new, y_axis_values_new)\n",
    "\n",
    "        ######################################################################################################################\n",
    "        # SECOND INTERPOLATION METHOD\n",
    "        y_axis_val_diff = abs(y_axis_values[-1] - y_axis_values[0])\n",
    "        y_axis_coord_dif = abs(yaxis_coordinates[-1] - yaxis_coordinates[0])\n",
    "        y_axis_val_per_pixel = y_axis_val_diff/y_axis_coord_dif\n",
    "        \n",
    "    except:\n",
    "        continue\n",
    "   #############################################################################################################################  \n",
    "    \n",
    "    # Plot processing\n",
    "    bw_label5_img = label5_image.convert(\"L\")                                                       # Convert the cropped image to grayscale (black and white)\n",
    "    bw_label5_img_array = np.array(bw_label5_img)\n",
    "\n",
    "    # Apply Gaussian blur to reduce noise and improve the result of Canny edge detection\n",
    "    blurred_label5_img = cv2.GaussianBlur(bw_label5_img_array, (3, 3), 0)\n",
    "\n",
    "    # First, apply a binary threshold on the image\n",
    "    thresh_label5_img = cv2.adaptiveThreshold(blurred_label5_img, 255, cv2.ADAPTIVE_THRESH_MEAN_C, cv2.THRESH_BINARY, 11, 2)\n",
    "    inverted_label5_img = cv2.bitwise_not(thresh_label5_img)\n",
    "\n",
    "    # Define a kernel for the erosion (a 3x3 square is common)\n",
    "    kernel = np.ones((2,2), np.uint8)\n",
    "    closed_label5_img = cv2.morphologyEx(inverted_label5_img, cv2.MORPH_CLOSE, kernel)\n",
    "\n",
    "    # Find the contours\n",
    "    contours, hierarchy = cv2.findContours(closed_label5_img, cv2.RETR_TREE, cv2.CHAIN_APPROX_SIMPLE)\n",
    "\n",
    "    # Calculate the perimeter for each contour and find the index of the longest one\n",
    "    max_length = 0\n",
    "    longest_contour_index = 0\n",
    "    for i, contour in enumerate(contours):\n",
    "        length = cv2.arcLength(contour, True) # The 'True' argument indicates that the contour is closed\n",
    "        if length > max_length:\n",
    "            max_length = length\n",
    "            longest_contour_index = i\n",
    "\n",
    "    # Extract the longest contour\n",
    "    longest_contour = contours[longest_contour_index]\n",
    "\n",
    "    output_image2 = np.zeros_like(closed_label5_img)\n",
    "    height, width = output_image2.shape\n",
    "    filtered_coordinates = filter_coordinates(longest_contour)\n",
    "    filtered_coordinates = remove_corner_pixels(filtered_coordinates, width, height)\n",
    "\n",
    "    # Finding the highest pixel (smallest y value)\n",
    "    highest_pixel = filtered_coordinates[filtered_coordinates[:, 1].argmin()]\n",
    "\n",
    "    # Finding the lowest pixel (largest y value)\n",
    "    lowest_pixel = filtered_coordinates[filtered_coordinates[:, 1].argmax()]\n",
    "\n",
    "    # Finding the rightmost pixel (largest x value), and among those, the one with the lowest y value\n",
    "    right_most_pixels = filtered_coordinates[filtered_coordinates[:, 0] == filtered_coordinates[:, 0].max()]\n",
    "    right_most_pixel = right_most_pixels[right_most_pixels[:, 1].argmin()]\n",
    "\n",
    "\n",
    "    ######################################################################################################################\n",
    "    # this function finds the average difference between all the elements in a list, then adds a new element at the end\n",
    "    # equal to the last element minus the average\n",
    "\n",
    "    ######################################################################################################################\n",
    "    try:\n",
    "        print(\"I am in try\")\n",
    "        type1_interp_current_val = round(float(f(right_most_pixel[1])), 5)\n",
    "        #print(f\"The Y-axis value for the Y coordinate {right_most_pixel[1]} is {type1_interp_current_val}\")\n",
    "\n",
    "        # value from plot\n",
    "        value_str = correct_value(correct_decimal_point(results['value']))\n",
    "        stock_value = extract_float_value(value_str)\n",
    "        #print(f\"The stock value from the plot is {stock_value}\")\n",
    "\n",
    "        # value difference/accuracy\n",
    "        type1_pct_diff = abs(round(((stock_value - type1_interp_current_val) / stock_value) * 100, 5))\n",
    "        #print(f\"The percentage difference is {type1_pct_diff:.2f}%\")\n",
    "\n",
    "        ######################################################################################################################\n",
    "        # SECOND INTERPOLATION METHOD\n",
    "\n",
    "        plot_height = label5_image.height\n",
    "        type2_interp_current_val = round((abs(plot_height - right_most_pixel[1])) * y_axis_val_per_pixel, 5)\n",
    "\n",
    "        #print(f\"Curve value based on secondaly calculation is {type2_interp_current_val}\")\n",
    "\n",
    "        # value from plot\n",
    "        type2_pct_diff = abs(round(((stock_value - type2_interp_current_val) / stock_value) * 100, 3))\n",
    "        #print(f\"The percentage difference is {type2_pct_diff:.3f}%\")\n",
    "\n",
    "        ######################################################################################################################\n",
    "        first_algo_diff.append(type1_pct_diff)\n",
    "        second_algo_diff.append(type2_pct_diff)\n",
    "        \n",
    "    except:\n",
    "        continue\n",
    "######################################################################################################################\n",
    "def calculate_average(values):\n",
    "    return sum(values) / len(values)\n",
    "\n",
    "def remove_outliers(values):\n",
    "    # Calculate Q1 and Q3\n",
    "    Q1 = sorted(values)[int(len(values) * 0.25)]\n",
    "    Q3 = sorted(values)[int(len(values) * 0.75)]\n",
    "    \n",
    "    # Calculate IQR\n",
    "    IQR = Q3 - Q1\n",
    "    \n",
    "    # Define bounds for outliers\n",
    "    lower_bound = Q1 - 1.5 * IQR\n",
    "    upper_bound = Q3 + 1.5 * IQR\n",
    "    \n",
    "    # Remove outliers\n",
    "    return [value for value in values if lower_bound <= value <= upper_bound]\n",
    "######################################################################################################################\n",
    "print(first_algo_diff)\n",
    "print(second_algo_diff)\n",
    "\n",
    "# Calculate initial average\n",
    "initial_avg_first_algo = calculate_average(first_algo_diff)\n",
    "print(f\"Initial Average for 1st Algo: {initial_avg_first_algo}\")\n",
    "\n",
    "# Remove outliers\n",
    "filtered_values_first_algo = remove_outliers(first_algo_diff)\n",
    "print(f\"The number of processed images after outlier removal for 1st algo is: {filtered_values_first_algo}\")\n",
    "\n",
    "# Calculate average again\n",
    "final_avg_first_algo_diff = calculate_average(filtered_values_first_algo)\n",
    "print(f\"Average after removing outliers for 1st Algo: {final_avg_first_algo_diff}\")\n",
    "\n",
    "######################################################################################################################\n",
    "# Calculate initial average\n",
    "initial_avg_second_algo = calculate_average(second_algo_diff)\n",
    "print(f\"Initial Average for 2nd Algo: {initial_avg_second_algo}\")\n",
    "\n",
    "# Remove outliers\n",
    "filtered_values_second_algo = remove_outliers(second_algo_diff)\n",
    "print(f\"The number of processed images after outlier removal for 2nd algo is: {filtered_values_second_algo}\")\n",
    "\n",
    "# Calculate average again\n",
    "final_avg_second_algo_diff = calculate_average(filtered_values_second_algo)\n",
    "print(f\"Average after removing outliers for 2nd Algo: {final_avg_second_algo_diff}\")"
   ]
  },
  {
   "cell_type": "code",
   "execution_count": 39,
   "id": "11bd59f2",
   "metadata": {},
   "outputs": [
    {
     "name": "stdout",
     "output_type": "stream",
     "text": [
      "Processing chunk with 144889 filenames.\n",
      "Y axis string value is: 0.0047,0.0047,0.0046,0.0046,0.0045,0.0045,0.0044,0.0044,0.0043,0.0043,0.0042,00042,0.0041,\",0.0041,0.0040,0.0040,0.0039,0.0039,0.0038,0.0038,0.0037,0.0037,Cop\n",
      "I am in 1st try\n",
      "Y axis string corrected value is: [0.0047, 0.0047, 0.0046, 0.0046, 0.0045, 0.0045, 0.0044, 0.0044, 0.0043, 0.0043, 0.0042, 0.0042, 0.0041, 0.0041, 0.004, 0.004, 0.0039, 0.0039, 0.0038, 0.0038, 0.0037, 0.0037]\n",
      "I am in try\n",
      "([], [])\n"
     ]
    }
   ],
   "source": [
    "from joblib import Parallel, delayed\n",
    "import os\n",
    "import random\n",
    "\n",
    "# Specify the directory path\n",
    "directory_path = 'pascal_voc_datasets/VOCdevkit/PlotsEnchanced_Original_NoAugmentation/JPEGImages/'\n",
    "\n",
    "# Get all filenames from the directory\n",
    "filenames = [f for f in os.listdir(directory_path) if os.path.isfile(os.path.join(directory_path, f))]\n",
    "\n",
    "# Shuffle the filenames\n",
    "random.shuffle(filenames)\n",
    "#filenames = filenames[0:5]\n",
    "\n",
    "def process_chunk(filenames_chunk):\n",
    "    print(f\"Processing chunk with {len(filenames_chunk)} filenames.\")\n",
    "    first_algo_diff_chunk = []\n",
    "    second_algo_diff_chunk = []\n",
    "    for img_name in filenames_chunk:\n",
    "            CUSTOM_CLASSES = {\"name\": 1, \"value\": 2, \"x-axis\": 3, \"y-axis\": 4, \"plot\":5}\n",
    "\n",
    "            img = Image.open(directory_path + img_name)\n",
    "            orig_width, orig_height = img.size                                   # Store the original image dimensions\n",
    "\n",
    "            # Process the image\n",
    "            img_processed = data_transforms(img)\n",
    "\n",
    "            # Calculate the scale ratios\n",
    "            new_width, new_height = img_processed.shape[1], img_processed.shape[2]\n",
    "\n",
    "            # Calculate the scale ratios\n",
    "            if orig_width <= orig_height:\n",
    "                new_height = 512\n",
    "                new_width = int(orig_width * (new_height / orig_height))\n",
    "            else:\n",
    "                new_width = 512\n",
    "                new_height = int(orig_height * (new_width / orig_width))\n",
    "\n",
    "            width_ratio = new_width / orig_width\n",
    "            height_ratio = new_height / orig_height\n",
    "\n",
    "            img_processed = img_processed.to(device)\n",
    "            with torch.no_grad():\n",
    "                prediction = model([img_processed])\n",
    "\n",
    "            # Scale bounding boxes back to original image size\n",
    "            for box in prediction[0]['boxes']:\n",
    "                box[0] *= (1 / width_ratio)\n",
    "                box[2] *= (1 / width_ratio)\n",
    "                box[1] *= (1 / height_ratio)\n",
    "                box[3] *= (1 / height_ratio)\n",
    "\n",
    "\n",
    "            results = {}                                 # Dictionary to store the results\n",
    "            yaxis_coordinates = []                       # Initialize a list to store the Y coordinates\n",
    "            label5_image = None                          # Variable to store the cropped image for label 5\n",
    "            y_axis_image = None\n",
    "\n",
    "            reader = easyocr.Reader(lang_list=['en'])       # Create a reader to recognize the English language\n",
    "\n",
    "            for box, label, score in zip(prediction[0]['boxes'], prediction[0]['labels'], prediction[0]['scores']):\n",
    "                if label >= 1 and label <= 4 and score > 0.6:                                                 # Check if the score is above 0.7 and label is between 1 and 4\n",
    "                    xmin, ymin, xmax, ymax = [int(i) for i in box]                                            # Convert box coordinates to integers\n",
    "                    cropped_image = img.crop((xmin, ymin, xmax, ymax))                                        # Crop the image          \n",
    "                    bw_img = cropped_image.convert(\"L\")                                                       # Convert the cropped image to grayscale (black and white)\n",
    "                    bw_img_array = np.array(bw_img)\n",
    "\n",
    "                    # Resize the image (e.g., double the size)\n",
    "                    resized_img = cv2.resize(bw_img_array, (0,0), fx=10, fy=10, interpolation = cv2.INTER_CUBIC)\n",
    "\n",
    "                    # Contrast Enhancement\n",
    "                    clahe = cv2.createCLAHE(clipLimit=4, tileGridSize=(16, 16))\n",
    "                    enhanced_img = clahe.apply(resized_img)\n",
    "\n",
    "                    # Apply Otsu's thresholding\n",
    "                    _, thresh_img = cv2.threshold(enhanced_img, 0, 255, cv2.THRESH_BINARY + cv2.THRESH_OTSU)\n",
    "\n",
    "                    if label == CUSTOM_CLASSES[\"y-axis\"]:\n",
    "                        y_axis_image = cropped_image\n",
    "\n",
    "                        result = reader.readtext(thresh_img)\n",
    "                        text_results = [item[1] for item in result]                            # Extract only the text\n",
    "                        text_found = ','.join(text_results)\n",
    "\n",
    "                        for (bbox, text, prob) in result:\n",
    "                            bottom_y1 = bbox[1][1]  # Get the y-coordinate of one of the bottom points\n",
    "                            bottom_y2 = bbox[2][1]  # Get the y-coordinate of the other bottom point\n",
    "                            #print(bottom_y1, bottom_y2)\n",
    "                            average_y = (bottom_y1 + bottom_y2) / 2  # Calculate the average y-coordinate\n",
    "                            quarter_y = (bottom_y2 + average_y) / 2\n",
    "                            yaxis_coordinates.append(int(quarter_y / 10))  # Add the average y-coordinate for each text box available (divide by the upscale factor)\n",
    "                    else:\n",
    "                        result = reader.readtext(thresh_img, detail = 0)      \n",
    "                        text_found = ','.join(result)\n",
    "                        text_found = re.sub('\\n+', ',', text_found)                                           # Replace one or more consecutive newline characters with a single comma\n",
    "\n",
    "\n",
    "                    label_name = [name for name, id in CUSTOM_CLASSES.items() if id == label][0]              # Find the label name using the CUSTOM_CLASSES dictionary\n",
    "                    results[label_name] = text_found                                                          # Store the result in the dictionary\n",
    "\n",
    "                elif label == 5 and score > 0.7:                                                              # Check if the label is 5 and the score is above 0.7\n",
    "                    xmin, ymin, xmax, ymax = [int(i) for i in box]                                            # Convert box coordinates to integers\n",
    "                    label5_image = img.crop((xmin, ymin, xmax, ymax))                                         # Crop the image for label 5\n",
    "\n",
    "            # The results dictionary now contains the extracted text for labels 1 to 4\n",
    "            #print(results)\n",
    "\n",
    "            #############################################################################################################################\n",
    "            # Apply the function to both lists\n",
    "            try:\n",
    "                y_axis_str = results['y-axis']\n",
    "                print(f\"Y axis string value is: {y_axis_str}\")\n",
    "                print(\"I am in 1st try\")\n",
    "                y_axis_values, y_axis_val_rem_idx = process_ocr_string(y_axis_str)\n",
    "                print(f\"Y axis string corrected value is: {y_axis_values}\")\n",
    "\n",
    "                yaxis_coordinates = [value for index, value in enumerate(yaxis_coordinates) if index not in y_axis_val_rem_idx]\n",
    "                y_axis_values_new = calculate_new_list(y_axis_values)\n",
    "                yaxis_coordinates_new = calculate_new_list(yaxis_coordinates)\n",
    "                yaxis_coordinates_new = list(map(round, yaxis_coordinates_new))\n",
    "\n",
    "                ######################################################################################################################\n",
    "                # FIRST INTERPOLATION METHOD\n",
    "                # Value interpolation from curve\n",
    "                from scipy.interpolate import interp1d\n",
    "\n",
    "                # Create a linear interpolation function\n",
    "                f = interp1d(yaxis_coordinates_new, y_axis_values_new)\n",
    "\n",
    "                ######################################################################################################################\n",
    "                # SECOND INTERPOLATION METHOD\n",
    "                y_axis_val_diff = abs(y_axis_values[-1] - y_axis_values[0])\n",
    "                y_axis_coord_dif = abs(yaxis_coordinates[-1] - yaxis_coordinates[0])\n",
    "                y_axis_val_per_pixel = y_axis_val_diff/y_axis_coord_dif\n",
    "\n",
    "            except:\n",
    "                continue\n",
    "           #############################################################################################################################  \n",
    "\n",
    "            # Plot processing\n",
    "            bw_label5_img = label5_image.convert(\"L\")                                                       # Convert the cropped image to grayscale (black and white)\n",
    "            bw_label5_img_array = np.array(bw_label5_img)\n",
    "\n",
    "            # Apply Gaussian blur to reduce noise and improve the result of Canny edge detection\n",
    "            blurred_label5_img = cv2.GaussianBlur(bw_label5_img_array, (3, 3), 0)\n",
    "\n",
    "            # First, apply a binary threshold on the image\n",
    "            thresh_label5_img = cv2.adaptiveThreshold(blurred_label5_img, 255, cv2.ADAPTIVE_THRESH_MEAN_C, cv2.THRESH_BINARY, 11, 2)\n",
    "            inverted_label5_img = cv2.bitwise_not(thresh_label5_img)\n",
    "\n",
    "            # Define a kernel for the erosion (a 3x3 square is common)\n",
    "            kernel = np.ones((2,2), np.uint8)\n",
    "            closed_label5_img = cv2.morphologyEx(inverted_label5_img, cv2.MORPH_CLOSE, kernel)\n",
    "\n",
    "            # Find the contours\n",
    "            contours, hierarchy = cv2.findContours(closed_label5_img, cv2.RETR_TREE, cv2.CHAIN_APPROX_SIMPLE)\n",
    "\n",
    "            # Calculate the perimeter for each contour and find the index of the longest one\n",
    "            max_length = 0\n",
    "            longest_contour_index = 0\n",
    "            for i, contour in enumerate(contours):\n",
    "                length = cv2.arcLength(contour, True) # The 'True' argument indicates that the contour is closed\n",
    "                if length > max_length:\n",
    "                    max_length = length\n",
    "                    longest_contour_index = i\n",
    "\n",
    "            # Extract the longest contour\n",
    "            longest_contour = contours[longest_contour_index]\n",
    "\n",
    "            output_image2 = np.zeros_like(closed_label5_img)\n",
    "            height, width = output_image2.shape\n",
    "            filtered_coordinates = filter_coordinates(longest_contour)\n",
    "            filtered_coordinates = remove_corner_pixels(filtered_coordinates, width, height)\n",
    "\n",
    "            # Finding the highest pixel (smallest y value)\n",
    "            highest_pixel = filtered_coordinates[filtered_coordinates[:, 1].argmin()]\n",
    "\n",
    "            # Finding the lowest pixel (largest y value)\n",
    "            lowest_pixel = filtered_coordinates[filtered_coordinates[:, 1].argmax()]\n",
    "\n",
    "            # Finding the rightmost pixel (largest x value), and among those, the one with the lowest y value\n",
    "            right_most_pixels = filtered_coordinates[filtered_coordinates[:, 0] == filtered_coordinates[:, 0].max()]\n",
    "            right_most_pixel = right_most_pixels[right_most_pixels[:, 1].argmin()]\n",
    "\n",
    "\n",
    "            ######################################################################################################################\n",
    "            # this function finds the average difference between all the elements in a list, then adds a new element at the end\n",
    "            # equal to the last element minus the average\n",
    "\n",
    "            ######################################################################################################################\n",
    "            try:\n",
    "                print(\"I am in try\")\n",
    "                type1_interp_current_val = round(float(f(right_most_pixel[1])), 5)\n",
    "                #print(f\"The Y-axis value for the Y coordinate {right_most_pixel[1]} is {type1_interp_current_val}\")\n",
    "\n",
    "                # value from plot\n",
    "                value_str = correct_value(correct_decimal_point(results['value']))\n",
    "                stock_value = extract_float_value(value_str)\n",
    "                #print(f\"The stock value from the plot is {stock_value}\")\n",
    "\n",
    "                # value difference/accuracy\n",
    "                type1_pct_diff = abs(round(((stock_value - type1_interp_current_val) / stock_value) * 100, 5))\n",
    "                #print(f\"The percentage difference is {type1_pct_diff:.2f}%\")\n",
    "\n",
    "                ######################################################################################################################\n",
    "                # SECOND INTERPOLATION METHOD\n",
    "\n",
    "                plot_height = label5_image.height\n",
    "                type2_interp_current_val = round((abs(plot_height - right_most_pixel[1])) * y_axis_val_per_pixel, 5)\n",
    "\n",
    "                #print(f\"Curve value based on secondaly calculation is {type2_interp_current_val}\")\n",
    "\n",
    "                # value from plot\n",
    "                type2_pct_diff = abs(round(((stock_value - type2_interp_current_val) / stock_value) * 100, 3))\n",
    "                #print(f\"The percentage difference is {type2_pct_diff:.3f}%\")\n",
    "\n",
    "                ######################################################################################################################\n",
    "                return first_algo_diff_chunk, second_algo_diff_chunk\n",
    "\n",
    "            except:\n",
    "                continue\n",
    "\n",
    "                \n",
    "                                \n",
    "# Split the filenames into chunks\n",
    "n_jobs = -1  # Use all available CPUs\n",
    "chunk_size = len(filenames) // abs(n_jobs)\n",
    "filenames_chunks = [filenames[i:i + chunk_size] for i in range(0, len(filenames), chunk_size)]\n",
    "\n",
    "first_chunk_results = process_chunk(filenames_chunks[0])\n",
    "print(first_chunk_results)                \n",
    "\n",
    "\n",
    "# # Use joblib to process the chunks in parallel and tqdm to show progress\n",
    "# results = Parallel(n_jobs=n_jobs)(delayed(process_chunk)(chunk) for chunk in tqdm(filenames_chunks, desc=\"Processing files\"))\n",
    "\n",
    "# # Combine the results from all chunks\n",
    "# first_algo_diff = [item for sublist in [res[0] for res in results] for item in sublist]\n",
    "# second_algo_diff = [item for sublist in [res[1] for res in results] for item in sublist]\n",
    "\n",
    "\n",
    "\n",
    "# ######################################################################################################################\n",
    "# def calculate_average(values):\n",
    "#     return sum(values) / len(values)\n",
    "\n",
    "# def remove_outliers(values):\n",
    "#     # Calculate Q1 and Q3\n",
    "#     Q1 = sorted(values)[int(len(values) * 0.25)]\n",
    "#     Q3 = sorted(values)[int(len(values) * 0.75)]\n",
    "    \n",
    "#     # Calculate IQR\n",
    "#     IQR = Q3 - Q1\n",
    "    \n",
    "#     # Define bounds for outliers\n",
    "#     lower_bound = Q1 - 1.5 * IQR\n",
    "#     upper_bound = Q3 + 1.5 * IQR\n",
    "    \n",
    "#     # Remove outliers\n",
    "#     return [value for value in values if lower_bound <= value <= upper_bound]\n",
    "# ######################################################################################################################\n",
    "# try:\n",
    "#     print(first_algo_diff)\n",
    "#     print(second_algo_diff)\n",
    "\n",
    "#     # Calculate initial average\n",
    "#     initial_avg_first_algo = calculate_average(first_algo_diff)\n",
    "#     print(f\"Initial Average for 1st Algo: {initial_avg_first_algo}\")\n",
    "\n",
    "#     # Remove outliers\n",
    "#     filtered_values_first_algo = remove_outliers(first_algo_diff)\n",
    "#     print(f\"The number of processed images after outlier removal for 1st algo is: {filtered_values_first_algo}\")\n",
    "\n",
    "#     # Calculate average again\n",
    "#     final_avg_first_algo_diff = calculate_average(filtered_values_first_algo)\n",
    "#     print(f\"Average after removing outliers for 1st Algo: {final_avg_first_algo_diff}\")\n",
    "\n",
    "#     ######################################################################################################################\n",
    "#     # Calculate initial average\n",
    "#     initial_avg_second_algo = calculate_average(second_algo_diff)\n",
    "#     print(f\"Initial Average for 2nd Algo: {initial_avg_second_algo}\")\n",
    "\n",
    "#     # Remove outliers\n",
    "#     filtered_values_second_algo = remove_outliers(second_algo_diff)\n",
    "#     print(f\"The number of processed images after outlier removal for 2nd algo is: {filtered_values_second_algo}\")\n",
    "\n",
    "#     # Calculate average again\n",
    "#     final_avg_second_algo_diff = calculate_average(filtered_values_second_algo)\n",
    "#     print(f\"Average after removing outliers for 2nd Algo: {final_avg_second_algo_diff}\")\n",
    "# except:\n",
    "#     pass"
   ]
  },
  {
   "cell_type": "code",
   "execution_count": null,
   "id": "4ee8e72a",
   "metadata": {},
   "outputs": [],
   "source": [
    "# KERAS-OCR TEST \n",
    "image_path = 'pascal_voc_datasets/VOCdevkit/PlotsEnchanced_Original_NoAugmentation/JPEGImages/'\n",
    "img_name = 'image117687'\n",
    "CUSTOM_CLASSES = {\"name\": 1, \"value\": 2, \"x-axis\": 3, \"y-axis\": 4, \"plot\":5}\n",
    "\n",
    "img = Image.open(image_path + img_name + '.jpg')\n",
    "orig_width, orig_height = img.size                                   # Store the original image dimensions\n",
    "\n",
    "# Process the image\n",
    "img_processed = data_transforms(img)\n",
    "\n",
    "# Calculate the scale ratios\n",
    "new_width, new_height = img_processed.shape[1], img_processed.shape[2]\n",
    "\n",
    "# Calculate the scale ratios\n",
    "if orig_width <= orig_height:\n",
    "    new_height = 512\n",
    "    new_width = int(orig_width * (new_height / orig_height))\n",
    "else:\n",
    "    new_width = 512\n",
    "    new_height = int(orig_height * (new_width / orig_width))\n",
    "    \n",
    "width_ratio = new_width / orig_width\n",
    "height_ratio = new_height / orig_height\n",
    "\n",
    "with torch.no_grad():\n",
    "    prediction = model([img_processed])\n",
    "\n",
    "# Scale bounding boxes back to original image size\n",
    "for box in prediction[0]['boxes']:\n",
    "    box[0] *= (1 / width_ratio)\n",
    "    box[2] *= (1 / width_ratio)\n",
    "    box[1] *= (1 / height_ratio)\n",
    "    box[3] *= (1 / height_ratio)\n",
    "\n",
    "# Debugging\n",
    "#print(prediction[0]['boxes'])\n",
    "print(prediction[0]['scores'])\n",
    "\n",
    "\n",
    "# Create a recognition pipeline\n",
    "pipeline = keras_ocr.pipeline.Pipeline()\n",
    "\n",
    "results = {}                                 # Dictionary to store the results\n",
    "label5_image = None                          # Variable to store the cropped image for label 5\n",
    "\n",
    "for box, label, score in zip(prediction[0]['boxes'], prediction[0]['labels'], prediction[0]['scores']):\n",
    "    if label >= 1 and label <= 4 and score > 0.7:\n",
    "        xmin, ymin, xmax, ymax = [int(i) for i in box]\n",
    "        cropped_image = img.crop((xmin, ymin, xmax, ymax))\n",
    "        cropped_image_array = np.array(cropped_image)\n",
    "\n",
    "        plt.figure(figsize=(10, 10))\n",
    "        plt.imshow(thresh_img, cmap='gray')\n",
    "        plt.title('Image')\n",
    "        plt.axis('off')\n",
    "        plt.show()\n",
    "\n",
    "        result = pipeline.recognize([cropped_image_array])[0]\n",
    "        text = ','.join([word[0] for word in result])\n",
    "        text = re.sub('\\n+', ',', text)\n",
    "        label_name = [name for name, id in CUSTOM_CLASSES.items() if id == label][0]\n",
    "        results[label_name] = text\n",
    "        \n",
    "    elif label == 5 and score > 0.8:\n",
    "        xmin, ymin, xmax, ymax = [int(i) for i in box]\n",
    "        label5_image = img.crop((xmin, ymin, xmax, ymax))\n",
    "\n",
    "print(results)"
   ]
  },
  {
   "cell_type": "code",
   "execution_count": null,
   "id": "9c0d0f88",
   "metadata": {},
   "outputs": [],
   "source": [
    "# PYTESSERACT OCR TESTING\n",
    "image_path = 'pascal_voc_datasets/VOCdevkit/PlotsEnchanced_Original_NoAugmentation/JPEGImages/'\n",
    "img_name = 'image1'\n",
    "CUSTOM_CLASSES = {\"name\": 1, \"value\": 2, \"x-axis\": 3, \"y-axis\": 4, \"plot\":5}\n",
    "\n",
    "img = Image.open(image_path + img_name + '.jpg')\n",
    "orig_width, orig_height = img.size                                   # Store the original image dimensions\n",
    "\n",
    "# Process the image\n",
    "img_processed = data_transforms(img)\n",
    "\n",
    "# Calculate the scale ratios\n",
    "new_width, new_height = img_processed.shape[1], img_processed.shape[2]\n",
    "\n",
    "# Calculate the scale ratios\n",
    "if orig_width <= orig_height:\n",
    "    new_height = 512\n",
    "    new_width = int(orig_width * (new_height / orig_height))\n",
    "else:\n",
    "    new_width = 512\n",
    "    new_height = int(orig_height * (new_width / orig_width))\n",
    "    \n",
    "width_ratio = new_width / orig_width\n",
    "height_ratio = new_height / orig_height\n",
    "\n",
    "with torch.no_grad():\n",
    "    prediction = model([img_processed])\n",
    "\n",
    "# Scale bounding boxes back to original image size\n",
    "for box in prediction[0]['boxes']:\n",
    "    box[0] *= (1 / width_ratio)\n",
    "    box[2] *= (1 / width_ratio)\n",
    "    box[1] *= (1 / height_ratio)\n",
    "    box[3] *= (1 / height_ratio)\n",
    "\n",
    "# Debugging\n",
    "#print(prediction[0]['boxes'])\n",
    "print(prediction[0]['scores'])\n",
    "\n",
    "\n",
    "results = {}                                 # Dictionary to store the results\n",
    "label5_image = None                          # Variable to store the cropped image for label 5\n",
    "\n",
    "for box, label, score in zip(prediction[0]['boxes'], prediction[0]['labels'], prediction[0]['scores']):\n",
    "    if label >= 1 and label <= 4 and score > 0.7:                                                 # Check if the score is above 0.7 and label is between 1 and 4\n",
    "        xmin, ymin, xmax, ymax = [int(i) for i in box]                                            # Convert box coordinates to integers\n",
    "        cropped_image = img.crop((xmin, ymin, xmax, ymax))                                        # Crop the image\n",
    "        bw_img = cropped_image.convert(\"L\")                                                       # Convert the cropped image to grayscale (black and white)\n",
    "        bw_img_array = np.array(bw_img)\n",
    "\n",
    "        # Resize the image (e.g., double the size)\n",
    "        resized_img = cv2.resize(bw_img_array, (0,0), fx=2, fy=2, interpolation = cv2.INTER_CUBIC)\n",
    "\n",
    "        # Contrast Enhancement\n",
    "        clahe = cv2.createCLAHE(clipLimit=1.5, tileGridSize=(32, 32))\n",
    "        enhanced_img = clahe.apply(resized_img)\n",
    "\n",
    "        # Apply Otsu's thresholding\n",
    "        _, thresh_img = cv2.threshold(enhanced_img, 200, 30, cv2.THRESH_BINARY + cv2.THRESH_OTSU)\n",
    "        \n",
    "        # Assuming resized_img has been defined as in your snippet\n",
    "        plt.figure(figsize=(10, 10))\n",
    "        plt.imshow(thresh_img, cmap='gray')\n",
    "        plt.title('Image')\n",
    "        plt.axis('off')  # To turn off the axis\n",
    "        plt.show()\n",
    "\n",
    "\n",
    "        \n",
    "        # Determine the whitelist of characters based on the label\n",
    "        if label == CUSTOM_CLASSES['y-axis']:\n",
    "            config = r\"--oem 1 --psm 3 -c tessedit_char_whitelist=0123456789.e-\"\n",
    "        else:\n",
    "            config = '--oem 1'\n",
    "            \n",
    "        text = pytesseract.image_to_string(thresh_img, config=config)                             # Process the cropped image with Pytesseract\n",
    "        text = re.sub('\\n+', ',', text)                                                           # Replace one or more consecutive newline characters with a single comma\n",
    "        label_name = [name for name, id in CUSTOM_CLASSES.items() if id == label][0]              # Find the label name using the CUSTOM_CLASSES dictionary\n",
    "        results[label_name] = text                                                                # Store the result in the dictionary\n",
    "        \n",
    "    elif label == 5 and score > 0.8:                                                              # Check if the label is 5 and the score is above 0.7\n",
    "        xmin, ymin, xmax, ymax = [int(i) for i in box]                                            # Convert box coordinates to integers\n",
    "        label5_image = img.crop((xmin, ymin, xmax, ymax))                                         # Crop the image for label 5\n",
    "\n",
    "# The results dictionary now contains the extracted text for labels 1 to 4\n",
    "print(results)\n",
    "\n"
   ]
  },
  {
   "cell_type": "code",
   "execution_count": null,
   "id": "3bad1627",
   "metadata": {},
   "outputs": [],
   "source": [
    "# Draw the bounding boxes on the image\n",
    "fig, ax = plt.subplots(1, figsize=(17, 15))  # Adjust the size as needed. Here, the figure size is 12x12 inches.\n",
    "ax.imshow(img)\n",
    "\n",
    "colors = ['r', 'g', 'b', 'y', 'm']\n",
    "\n",
    "# We will draw all the boxes with a score above 0.7\n",
    "for box, label, score in zip(prediction[0]['boxes'], prediction[0]['labels'], prediction[0]['scores']):\n",
    "    if score > 0.7:  # Check if the score is above 0.9\n",
    "        xmin, ymin, xmax, ymax = box.numpy()  # Move the box coordinates to the CPU\n",
    "        rect = patches.Rectangle((xmin, ymin), (xmax-xmin), (ymax-ymin), edgecolor=colors[label%4], facecolor='none')\n",
    "        ax.add_patch(rect)\n",
    "\n",
    "plt.show()"
   ]
  },
  {
   "cell_type": "code",
   "execution_count": null,
   "id": "c9526ed8",
   "metadata": {},
   "outputs": [],
   "source": [
    "from sklearn.linear_model import LinearRegression\n",
    "\n",
    "# Create a linear regression model and fit it to the data\n",
    "yaxis_coordinates_new_array = np.array(yaxis_coordinates_new).reshape(-1, 1)\n",
    "y_axis_values_new_array = np.array(y_axis_values_new)\n",
    "\n",
    "lr_model = LinearRegression()\n",
    "lr_model.fit(yaxis_coordinates_new_array, y_axis_values_new_array)\n",
    "\n",
    "# Define a function to get the Y-axis value for a given Y coordinate\n",
    "def get_y_axis_value(y_coord):\n",
    "    return lr_model.predict([[y_coord]])[0]\n",
    "\n",
    "new_y_coord = 348\n",
    "print(f\"The Y-axis value for the Y coordinate {new_y_coord} is {get_y_axis_value(new_y_coord)}\")"
   ]
  }
 ],
 "metadata": {
  "kernelspec": {
   "display_name": "pytorch-cude-env",
   "language": "python",
   "name": "pytorch-cude-env"
  },
  "language_info": {
   "codemirror_mode": {
    "name": "ipython",
    "version": 3
   },
   "file_extension": ".py",
   "mimetype": "text/x-python",
   "name": "python",
   "nbconvert_exporter": "python",
   "pygments_lexer": "ipython3",
   "version": "3.11.4"
  }
 },
 "nbformat": 4,
 "nbformat_minor": 5
}
