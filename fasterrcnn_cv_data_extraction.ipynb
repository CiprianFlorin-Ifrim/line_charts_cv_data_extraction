{
 "cells": [
  {
   "cell_type": "code",
   "execution_count": 1,
   "id": "fd710cc9",
   "metadata": {},
   "outputs": [
    {
     "name": "stderr",
     "output_type": "stream",
     "text": [
      "C:\\Users\\Ciprian-Florin Ifrim\\AppData\\Local\\Temp\\ipykernel_17188\\2786350239.py:47: DeprecationWarning: Importing display from IPython.core.display is deprecated since IPython 7.14, please import from IPython display\n",
      "  from IPython.core.display import display, HTML\n"
     ]
    },
    {
     "data": {
      "text/html": [
       "<style>.container { width:100% !important; }</style>"
      ],
      "text/plain": [
       "<IPython.core.display.HTML object>"
      ]
     },
     "metadata": {},
     "output_type": "display_data"
    }
   ],
   "source": [
    "#---------------------------------------------------------------------------------------------GENERAL-----------------------------------------------------------------------------------------------\n",
    "import torch\n",
    "import torchvision\n",
    "from torchvision.models.detection.faster_rcnn import FastRCNNPredictor\n",
    "from torchvision.datasets import VOCDetection\n",
    "from torchvision.transforms import ToTensor\n",
    "from torch.utils.data import DataLoader\n",
    "from tqdm import tqdm\n",
    "import matplotlib.pyplot as plt\n",
    "import seaborn as sns\n",
    "from torchvision.transforms import Compose, Resize, ToTensor\n",
    "from torch.utils.data import DataLoader\n",
    "from torch.nn.utils.rnn import pad_sequence\n",
    "import torch.multiprocessing as mp\n",
    "from torchvision.transforms import functional as F\n",
    "from torchvision.models.detection.faster_rcnn import FasterRCNN_ResNet50_FPN_Weights\n",
    "from torch.cuda.amp import autocast, GradScaler\n",
    "from sklearn.metrics import average_precision_score\n",
    "from sklearn.metrics import precision_recall_fscore_support\n",
    "from pycocotools.coco import COCO\n",
    "from pycocotools.cocoeval import COCOeval\n",
    "from typing import Dict\n",
    "import numpy as np\n",
    "from torch.utils.data import Dataset\n",
    "import os\n",
    "from PIL import Image\n",
    "import xml.etree.ElementTree as ET\n",
    "import collections\n",
    "from torchvision import transforms\n",
    "import pandas as pd\n",
    "import matplotlib.pyplot as plt\n",
    "import matplotlib.patches as patches\n",
    "import torch.nn as nn\n",
    "import torchviz\n",
    "from torchsummary import summary\n",
    "import pytesseract\n",
    "import re\n",
    "import cv2  \n",
    "import easyocr\n",
    "import keras_ocr\n",
    "\n",
    "\n",
    "# Specify Tesseract path (example for Windows)\n",
    "pytesseract.pytesseract.tesseract_cmd = r'C:\\Program Files\\Tesseract-OCR\\tesseract.exe'\n",
    "\n",
    "#-------------------------------------------------------------------------------------JUPYTER NOTEBOOK SETTINGS-------------------------------------------------------------------------------------\n",
    "from IPython.core.display import display, HTML                                    \n",
    "display(HTML(\"<style>.container { width:100% !important; }</style>\"))     "
   ]
  },
  {
   "cell_type": "code",
   "execution_count": 2,
   "id": "02567068",
   "metadata": {},
   "outputs": [
    {
     "data": {
      "text/plain": [
       "FasterRCNN(\n",
       "  (transform): GeneralizedRCNNTransform(\n",
       "      Normalize(mean=[0.485, 0.456, 0.406], std=[0.229, 0.224, 0.225])\n",
       "      Resize(min_size=(800,), max_size=1333, mode='bilinear')\n",
       "  )\n",
       "  (backbone): BackboneWithFPN(\n",
       "    (body): IntermediateLayerGetter(\n",
       "      (conv1): Conv2d(3, 64, kernel_size=(7, 7), stride=(2, 2), padding=(3, 3), bias=False)\n",
       "      (bn1): FrozenBatchNorm2d(64, eps=0.0)\n",
       "      (relu): ReLU(inplace=True)\n",
       "      (maxpool): MaxPool2d(kernel_size=3, stride=2, padding=1, dilation=1, ceil_mode=False)\n",
       "      (layer1): Sequential(\n",
       "        (0): Bottleneck(\n",
       "          (conv1): Conv2d(64, 64, kernel_size=(1, 1), stride=(1, 1), bias=False)\n",
       "          (bn1): FrozenBatchNorm2d(64, eps=0.0)\n",
       "          (conv2): Conv2d(64, 64, kernel_size=(3, 3), stride=(1, 1), padding=(1, 1), bias=False)\n",
       "          (bn2): FrozenBatchNorm2d(64, eps=0.0)\n",
       "          (conv3): Conv2d(64, 256, kernel_size=(1, 1), stride=(1, 1), bias=False)\n",
       "          (bn3): FrozenBatchNorm2d(256, eps=0.0)\n",
       "          (relu): ReLU(inplace=True)\n",
       "          (downsample): Sequential(\n",
       "            (0): Conv2d(64, 256, kernel_size=(1, 1), stride=(1, 1), bias=False)\n",
       "            (1): FrozenBatchNorm2d(256, eps=0.0)\n",
       "          )\n",
       "        )\n",
       "        (1): Bottleneck(\n",
       "          (conv1): Conv2d(256, 64, kernel_size=(1, 1), stride=(1, 1), bias=False)\n",
       "          (bn1): FrozenBatchNorm2d(64, eps=0.0)\n",
       "          (conv2): Conv2d(64, 64, kernel_size=(3, 3), stride=(1, 1), padding=(1, 1), bias=False)\n",
       "          (bn2): FrozenBatchNorm2d(64, eps=0.0)\n",
       "          (conv3): Conv2d(64, 256, kernel_size=(1, 1), stride=(1, 1), bias=False)\n",
       "          (bn3): FrozenBatchNorm2d(256, eps=0.0)\n",
       "          (relu): ReLU(inplace=True)\n",
       "        )\n",
       "        (2): Bottleneck(\n",
       "          (conv1): Conv2d(256, 64, kernel_size=(1, 1), stride=(1, 1), bias=False)\n",
       "          (bn1): FrozenBatchNorm2d(64, eps=0.0)\n",
       "          (conv2): Conv2d(64, 64, kernel_size=(3, 3), stride=(1, 1), padding=(1, 1), bias=False)\n",
       "          (bn2): FrozenBatchNorm2d(64, eps=0.0)\n",
       "          (conv3): Conv2d(64, 256, kernel_size=(1, 1), stride=(1, 1), bias=False)\n",
       "          (bn3): FrozenBatchNorm2d(256, eps=0.0)\n",
       "          (relu): ReLU(inplace=True)\n",
       "        )\n",
       "      )\n",
       "      (layer2): Sequential(\n",
       "        (0): Bottleneck(\n",
       "          (conv1): Conv2d(256, 128, kernel_size=(1, 1), stride=(1, 1), bias=False)\n",
       "          (bn1): FrozenBatchNorm2d(128, eps=0.0)\n",
       "          (conv2): Conv2d(128, 128, kernel_size=(3, 3), stride=(2, 2), padding=(1, 1), bias=False)\n",
       "          (bn2): FrozenBatchNorm2d(128, eps=0.0)\n",
       "          (conv3): Conv2d(128, 512, kernel_size=(1, 1), stride=(1, 1), bias=False)\n",
       "          (bn3): FrozenBatchNorm2d(512, eps=0.0)\n",
       "          (relu): ReLU(inplace=True)\n",
       "          (downsample): Sequential(\n",
       "            (0): Conv2d(256, 512, kernel_size=(1, 1), stride=(2, 2), bias=False)\n",
       "            (1): FrozenBatchNorm2d(512, eps=0.0)\n",
       "          )\n",
       "        )\n",
       "        (1): Bottleneck(\n",
       "          (conv1): Conv2d(512, 128, kernel_size=(1, 1), stride=(1, 1), bias=False)\n",
       "          (bn1): FrozenBatchNorm2d(128, eps=0.0)\n",
       "          (conv2): Conv2d(128, 128, kernel_size=(3, 3), stride=(1, 1), padding=(1, 1), bias=False)\n",
       "          (bn2): FrozenBatchNorm2d(128, eps=0.0)\n",
       "          (conv3): Conv2d(128, 512, kernel_size=(1, 1), stride=(1, 1), bias=False)\n",
       "          (bn3): FrozenBatchNorm2d(512, eps=0.0)\n",
       "          (relu): ReLU(inplace=True)\n",
       "        )\n",
       "        (2): Bottleneck(\n",
       "          (conv1): Conv2d(512, 128, kernel_size=(1, 1), stride=(1, 1), bias=False)\n",
       "          (bn1): FrozenBatchNorm2d(128, eps=0.0)\n",
       "          (conv2): Conv2d(128, 128, kernel_size=(3, 3), stride=(1, 1), padding=(1, 1), bias=False)\n",
       "          (bn2): FrozenBatchNorm2d(128, eps=0.0)\n",
       "          (conv3): Conv2d(128, 512, kernel_size=(1, 1), stride=(1, 1), bias=False)\n",
       "          (bn3): FrozenBatchNorm2d(512, eps=0.0)\n",
       "          (relu): ReLU(inplace=True)\n",
       "        )\n",
       "        (3): Bottleneck(\n",
       "          (conv1): Conv2d(512, 128, kernel_size=(1, 1), stride=(1, 1), bias=False)\n",
       "          (bn1): FrozenBatchNorm2d(128, eps=0.0)\n",
       "          (conv2): Conv2d(128, 128, kernel_size=(3, 3), stride=(1, 1), padding=(1, 1), bias=False)\n",
       "          (bn2): FrozenBatchNorm2d(128, eps=0.0)\n",
       "          (conv3): Conv2d(128, 512, kernel_size=(1, 1), stride=(1, 1), bias=False)\n",
       "          (bn3): FrozenBatchNorm2d(512, eps=0.0)\n",
       "          (relu): ReLU(inplace=True)\n",
       "        )\n",
       "      )\n",
       "      (layer3): Sequential(\n",
       "        (0): Bottleneck(\n",
       "          (conv1): Conv2d(512, 256, kernel_size=(1, 1), stride=(1, 1), bias=False)\n",
       "          (bn1): FrozenBatchNorm2d(256, eps=0.0)\n",
       "          (conv2): Conv2d(256, 256, kernel_size=(3, 3), stride=(2, 2), padding=(1, 1), bias=False)\n",
       "          (bn2): FrozenBatchNorm2d(256, eps=0.0)\n",
       "          (conv3): Conv2d(256, 1024, kernel_size=(1, 1), stride=(1, 1), bias=False)\n",
       "          (bn3): FrozenBatchNorm2d(1024, eps=0.0)\n",
       "          (relu): ReLU(inplace=True)\n",
       "          (downsample): Sequential(\n",
       "            (0): Conv2d(512, 1024, kernel_size=(1, 1), stride=(2, 2), bias=False)\n",
       "            (1): FrozenBatchNorm2d(1024, eps=0.0)\n",
       "          )\n",
       "        )\n",
       "        (1): Bottleneck(\n",
       "          (conv1): Conv2d(1024, 256, kernel_size=(1, 1), stride=(1, 1), bias=False)\n",
       "          (bn1): FrozenBatchNorm2d(256, eps=0.0)\n",
       "          (conv2): Conv2d(256, 256, kernel_size=(3, 3), stride=(1, 1), padding=(1, 1), bias=False)\n",
       "          (bn2): FrozenBatchNorm2d(256, eps=0.0)\n",
       "          (conv3): Conv2d(256, 1024, kernel_size=(1, 1), stride=(1, 1), bias=False)\n",
       "          (bn3): FrozenBatchNorm2d(1024, eps=0.0)\n",
       "          (relu): ReLU(inplace=True)\n",
       "        )\n",
       "        (2): Bottleneck(\n",
       "          (conv1): Conv2d(1024, 256, kernel_size=(1, 1), stride=(1, 1), bias=False)\n",
       "          (bn1): FrozenBatchNorm2d(256, eps=0.0)\n",
       "          (conv2): Conv2d(256, 256, kernel_size=(3, 3), stride=(1, 1), padding=(1, 1), bias=False)\n",
       "          (bn2): FrozenBatchNorm2d(256, eps=0.0)\n",
       "          (conv3): Conv2d(256, 1024, kernel_size=(1, 1), stride=(1, 1), bias=False)\n",
       "          (bn3): FrozenBatchNorm2d(1024, eps=0.0)\n",
       "          (relu): ReLU(inplace=True)\n",
       "        )\n",
       "        (3): Bottleneck(\n",
       "          (conv1): Conv2d(1024, 256, kernel_size=(1, 1), stride=(1, 1), bias=False)\n",
       "          (bn1): FrozenBatchNorm2d(256, eps=0.0)\n",
       "          (conv2): Conv2d(256, 256, kernel_size=(3, 3), stride=(1, 1), padding=(1, 1), bias=False)\n",
       "          (bn2): FrozenBatchNorm2d(256, eps=0.0)\n",
       "          (conv3): Conv2d(256, 1024, kernel_size=(1, 1), stride=(1, 1), bias=False)\n",
       "          (bn3): FrozenBatchNorm2d(1024, eps=0.0)\n",
       "          (relu): ReLU(inplace=True)\n",
       "        )\n",
       "        (4): Bottleneck(\n",
       "          (conv1): Conv2d(1024, 256, kernel_size=(1, 1), stride=(1, 1), bias=False)\n",
       "          (bn1): FrozenBatchNorm2d(256, eps=0.0)\n",
       "          (conv2): Conv2d(256, 256, kernel_size=(3, 3), stride=(1, 1), padding=(1, 1), bias=False)\n",
       "          (bn2): FrozenBatchNorm2d(256, eps=0.0)\n",
       "          (conv3): Conv2d(256, 1024, kernel_size=(1, 1), stride=(1, 1), bias=False)\n",
       "          (bn3): FrozenBatchNorm2d(1024, eps=0.0)\n",
       "          (relu): ReLU(inplace=True)\n",
       "        )\n",
       "        (5): Bottleneck(\n",
       "          (conv1): Conv2d(1024, 256, kernel_size=(1, 1), stride=(1, 1), bias=False)\n",
       "          (bn1): FrozenBatchNorm2d(256, eps=0.0)\n",
       "          (conv2): Conv2d(256, 256, kernel_size=(3, 3), stride=(1, 1), padding=(1, 1), bias=False)\n",
       "          (bn2): FrozenBatchNorm2d(256, eps=0.0)\n",
       "          (conv3): Conv2d(256, 1024, kernel_size=(1, 1), stride=(1, 1), bias=False)\n",
       "          (bn3): FrozenBatchNorm2d(1024, eps=0.0)\n",
       "          (relu): ReLU(inplace=True)\n",
       "        )\n",
       "      )\n",
       "      (layer4): Sequential(\n",
       "        (0): Bottleneck(\n",
       "          (conv1): Conv2d(1024, 512, kernel_size=(1, 1), stride=(1, 1), bias=False)\n",
       "          (bn1): FrozenBatchNorm2d(512, eps=0.0)\n",
       "          (conv2): Conv2d(512, 512, kernel_size=(3, 3), stride=(2, 2), padding=(1, 1), bias=False)\n",
       "          (bn2): FrozenBatchNorm2d(512, eps=0.0)\n",
       "          (conv3): Conv2d(512, 2048, kernel_size=(1, 1), stride=(1, 1), bias=False)\n",
       "          (bn3): FrozenBatchNorm2d(2048, eps=0.0)\n",
       "          (relu): ReLU(inplace=True)\n",
       "          (downsample): Sequential(\n",
       "            (0): Conv2d(1024, 2048, kernel_size=(1, 1), stride=(2, 2), bias=False)\n",
       "            (1): FrozenBatchNorm2d(2048, eps=0.0)\n",
       "          )\n",
       "        )\n",
       "        (1): Bottleneck(\n",
       "          (conv1): Conv2d(2048, 512, kernel_size=(1, 1), stride=(1, 1), bias=False)\n",
       "          (bn1): FrozenBatchNorm2d(512, eps=0.0)\n",
       "          (conv2): Conv2d(512, 512, kernel_size=(3, 3), stride=(1, 1), padding=(1, 1), bias=False)\n",
       "          (bn2): FrozenBatchNorm2d(512, eps=0.0)\n",
       "          (conv3): Conv2d(512, 2048, kernel_size=(1, 1), stride=(1, 1), bias=False)\n",
       "          (bn3): FrozenBatchNorm2d(2048, eps=0.0)\n",
       "          (relu): ReLU(inplace=True)\n",
       "        )\n",
       "        (2): Bottleneck(\n",
       "          (conv1): Conv2d(2048, 512, kernel_size=(1, 1), stride=(1, 1), bias=False)\n",
       "          (bn1): FrozenBatchNorm2d(512, eps=0.0)\n",
       "          (conv2): Conv2d(512, 512, kernel_size=(3, 3), stride=(1, 1), padding=(1, 1), bias=False)\n",
       "          (bn2): FrozenBatchNorm2d(512, eps=0.0)\n",
       "          (conv3): Conv2d(512, 2048, kernel_size=(1, 1), stride=(1, 1), bias=False)\n",
       "          (bn3): FrozenBatchNorm2d(2048, eps=0.0)\n",
       "          (relu): ReLU(inplace=True)\n",
       "        )\n",
       "      )\n",
       "    )\n",
       "    (fpn): FeaturePyramidNetwork(\n",
       "      (inner_blocks): ModuleList(\n",
       "        (0): Conv2dNormActivation(\n",
       "          (0): Conv2d(256, 256, kernel_size=(1, 1), stride=(1, 1))\n",
       "        )\n",
       "        (1): Conv2dNormActivation(\n",
       "          (0): Conv2d(512, 256, kernel_size=(1, 1), stride=(1, 1))\n",
       "        )\n",
       "        (2): Conv2dNormActivation(\n",
       "          (0): Conv2d(1024, 256, kernel_size=(1, 1), stride=(1, 1))\n",
       "        )\n",
       "        (3): Conv2dNormActivation(\n",
       "          (0): Conv2d(2048, 256, kernel_size=(1, 1), stride=(1, 1))\n",
       "        )\n",
       "      )\n",
       "      (layer_blocks): ModuleList(\n",
       "        (0-3): 4 x Conv2dNormActivation(\n",
       "          (0): Conv2d(256, 256, kernel_size=(3, 3), stride=(1, 1), padding=(1, 1))\n",
       "        )\n",
       "      )\n",
       "      (extra_blocks): LastLevelMaxPool()\n",
       "    )\n",
       "  )\n",
       "  (rpn): RegionProposalNetwork(\n",
       "    (anchor_generator): AnchorGenerator()\n",
       "    (head): RPNHead(\n",
       "      (conv): Sequential(\n",
       "        (0): Conv2dNormActivation(\n",
       "          (0): Conv2d(256, 256, kernel_size=(3, 3), stride=(1, 1), padding=(1, 1))\n",
       "          (1): ReLU(inplace=True)\n",
       "        )\n",
       "      )\n",
       "      (cls_logits): Conv2d(256, 3, kernel_size=(1, 1), stride=(1, 1))\n",
       "      (bbox_pred): Conv2d(256, 12, kernel_size=(1, 1), stride=(1, 1))\n",
       "    )\n",
       "  )\n",
       "  (roi_heads): RoIHeads(\n",
       "    (box_roi_pool): MultiScaleRoIAlign(featmap_names=['0', '1', '2', '3'], output_size=(7, 7), sampling_ratio=2)\n",
       "    (box_head): TwoMLPHead(\n",
       "      (fc6): Linear(in_features=12544, out_features=1024, bias=True)\n",
       "      (fc7): Linear(in_features=1024, out_features=1024, bias=True)\n",
       "    )\n",
       "    (box_predictor): FastRCNNPredictor(\n",
       "      (cls_score): Linear(in_features=1024, out_features=6, bias=True)\n",
       "      (bbox_pred): Linear(in_features=1024, out_features=24, bias=True)\n",
       "    )\n",
       "  )\n",
       ")"
      ]
     },
     "execution_count": 2,
     "metadata": {},
     "output_type": "execute_result"
    }
   ],
   "source": [
    "# Load the pretrained model\n",
    "model = torchvision.models.detection.fasterrcnn_resnet50_fpn(weights=FasterRCNN_ResNet50_FPN_Weights.DEFAULT)\n",
    "\n",
    "# Replace the classifier with a new one\n",
    "num_classes = 6\n",
    "in_features = model.roi_heads.box_predictor.cls_score.in_features\n",
    "\n",
    "model.roi_heads.box_predictor = FastRCNNPredictor(in_features, num_classes)\n",
    "\n",
    "# Put model to device\n",
    "device = torch.device('cpu')\n",
    "model.to(device)\n",
    "\n",
    "# Load saved model\n",
    "model.load_state_dict(torch.load('pytorch_rcnn_models/FINAL-v2_rcnn_batch-16_epoch-40_full-enchanced-original_non-augmented.pt'))\n",
    "model.eval()"
   ]
  },
  {
   "cell_type": "code",
   "execution_count": 3,
   "id": "ebcac823",
   "metadata": {},
   "outputs": [],
   "source": [
    "# Data processing\n",
    "data_transforms = transforms.Compose([\n",
    "    transforms.Resize(512),                                            \n",
    "    transforms.ToTensor(), \n",
    "    transforms.Normalize(mean=[0.485, 0.456, 0.406], std=[0.229, 0.224, 0.225])\n",
    "])"
   ]
  },
  {
   "cell_type": "code",
   "execution_count": null,
   "id": "283e3ee2",
   "metadata": {},
   "outputs": [],
   "source": [
    "image_path = 'pascal_voc_datasets/VOCdevkit/PlotsEnchanced_Original_NoAugmentation/JPEGImages/'\n",
    "img_name = 'image1'\n",
    "CUSTOM_CLASSES = {\"name\": 1, \"value\": 2, \"x-axis\": 3, \"y-axis\": 4, \"plot\":5}\n",
    "\n",
    "img = Image.open(image_path + img_name + '.jpg')\n",
    "orig_width, orig_height = img.size                                   # Store the original image dimensions\n",
    "\n",
    "# Process the image\n",
    "img_processed = data_transforms(img)\n",
    "\n",
    "# Calculate the scale ratios\n",
    "new_width, new_height = img_processed.shape[1], img_processed.shape[2]\n",
    "\n",
    "# Calculate the scale ratios\n",
    "if orig_width <= orig_height:\n",
    "    new_height = 512\n",
    "    new_width = int(orig_width * (new_height / orig_height))\n",
    "else:\n",
    "    new_width = 512\n",
    "    new_height = int(orig_height * (new_width / orig_width))\n",
    "    \n",
    "width_ratio = new_width / orig_width\n",
    "height_ratio = new_height / orig_height\n",
    "\n",
    "with torch.no_grad():\n",
    "    prediction = model([img_processed])\n",
    "\n",
    "# Scale bounding boxes back to original image size\n",
    "for box in prediction[0]['boxes']:\n",
    "    box[0] *= (1 / width_ratio)\n",
    "    box[2] *= (1 / width_ratio)\n",
    "    box[1] *= (1 / height_ratio)\n",
    "    box[3] *= (1 / height_ratio)\n",
    "\n",
    "# Debugging\n",
    "#print(prediction[0]['boxes'])\n",
    "print(prediction[0]['scores'])\n",
    "\n",
    "\n",
    "results = {}                                 # Dictionary to store the results\n",
    "label5_image = None                          # Variable to store the cropped image for label 5\n",
    "\n",
    "for box, label, score in zip(prediction[0]['boxes'], prediction[0]['labels'], prediction[0]['scores']):\n",
    "    if label >= 1 and label <= 4 and score > 0.7:                                                 # Check if the score is above 0.7 and label is between 1 and 4\n",
    "        xmin, ymin, xmax, ymax = [int(i) for i in box]                                            # Convert box coordinates to integers\n",
    "        cropped_image = img.crop((xmin, ymin, xmax, ymax))                                        # Crop the image\n",
    "        bw_img = cropped_image.convert(\"L\")                                                       # Convert the cropped image to grayscale (black and white)\n",
    "        bw_img_array = np.array(bw_img)\n",
    "\n",
    "        # Resize the image (e.g., double the size)\n",
    "        resized_img = cv2.resize(bw_img_array, (0,0), fx=2, fy=2, interpolation = cv2.INTER_CUBIC)\n",
    "\n",
    "        # Contrast Enhancement\n",
    "        clahe = cv2.createCLAHE(clipLimit=1.5, tileGridSize=(32, 32))\n",
    "        enhanced_img = clahe.apply(resized_img)\n",
    "\n",
    "        # Apply Otsu's thresholding\n",
    "        _, thresh_img = cv2.threshold(enhanced_img, 200, 30, cv2.THRESH_BINARY + cv2.THRESH_OTSU)\n",
    "        \n",
    "        # Assuming resized_img has been defined as in your snippet\n",
    "        plt.figure(figsize=(10, 10))\n",
    "        plt.imshow(thresh_img, cmap='gray')\n",
    "        plt.title('Image')\n",
    "        plt.axis('off')  # To turn off the axis\n",
    "        plt.show()\n",
    "\n",
    "\n",
    "        \n",
    "        # Determine the whitelist of characters based on the label\n",
    "        if label == CUSTOM_CLASSES['y-axis']:\n",
    "            config = r\"--oem 1 --psm 3 -c tessedit_char_whitelist=0123456789.e-\"\n",
    "        else:\n",
    "            config = '--oem 1'\n",
    "            \n",
    "        text = pytesseract.image_to_string(thresh_img, config=config)                              # Now you can process the cropped image with Pytesseract\n",
    "        text = re.sub('\\n+', ',', text)                                                           # Replace one or more consecutive newline characters with a single comma\n",
    "        label_name = [name for name, id in CUSTOM_CLASSES.items() if id == label][0]              # Find the label name using the CUSTOM_CLASSES dictionary\n",
    "        results[label_name] = text                                                                # Store the result in the dictionary\n",
    "        \n",
    "    elif label == 5 and score > 0.8:                                                              # Check if the label is 5 and the score is above 0.7\n",
    "        xmin, ymin, xmax, ymax = [int(i) for i in box]                                            # Convert box coordinates to integers\n",
    "        label5_image = img.crop((xmin, ymin, xmax, ymax))                                         # Crop the image for label 5\n",
    "\n",
    "# The results dictionary now contains the extracted text for labels 1 to 4\n",
    "print(results)"
   ]
  },
  {
   "cell_type": "code",
   "execution_count": 92,
   "id": "7bd33b62",
   "metadata": {},
   "outputs": [
    {
     "name": "stdout",
     "output_type": "stream",
     "text": [
      "tensor([1.0000, 1.0000, 1.0000, 1.0000, 1.0000])\n"
     ]
    },
    {
     "data": {
      "image/png": "[encoded data removed]",
      "text/plain": [
       "<Figure size 720x720 with 1 Axes>"
      ]
     },
     "metadata": {
      "needs_background": "light"
     },
     "output_type": "display_data"
    },
    {
     "data": {
      "image/png": "[encoded data removed]",
      "text/plain": [
       "<Figure size 720x720 with 1 Axes>"
      ]
     },
     "metadata": {
      "needs_background": "light"
     },
     "output_type": "display_data"
    },
    {
     "data": {
      "image/png": "[encoded data removed]",
      "text/plain": [
       "<Figure size 720x720 with 1 Axes>"
      ]
     },
     "metadata": {
      "needs_background": "light"
     },
     "output_type": "display_data"
    },
    {
     "data": {
      "image/png": "[encoded data removed]",
      "text/plain": [
       "<Figure size 720x720 with 1 Axes>"
      ]
     },
     "metadata": {
      "needs_background": "light"
     },
     "output_type": "display_data"
    },
    {
     "name": "stdout",
     "output_type": "stream",
     "text": [
      "{'y-axis': '0.04,0.035,0.03,0.025,0.02,0.015,0.01,0.005', 'value': '$0.006313 USD -73.10%,(ALL)', 'x-axis': \"Dec '22,Jan '23,Feb '23,Mar '23,Apr '23,'23,Jun '23,Jul '23,May\", 'name': 'LunaOne Price Chart (USD)'}\n"
     ]
    },
    {
     "data": {
      "image/png": "[encoded data removed]",
      "text/plain": [
       "<Figure size 432x288 with 1 Axes>"
      ]
     },
     "metadata": {
      "needs_background": "light"
     },
     "output_type": "display_data"
    },
    {
     "data": {
      "image/png": "[encoded data removed]",
      "text/plain": [
       "<Figure size 432x288 with 1 Axes>"
      ]
     },
     "metadata": {
      "needs_background": "light"
     },
     "output_type": "display_data"
    },
    {
     "data": {
      "image/png": "[encoded data removed]",
      "text/plain": [
       "<Figure size 432x288 with 1 Axes>"
      ]
     },
     "metadata": {
      "needs_background": "light"
     },
     "output_type": "display_data"
    },
    {
     "name": "stdout",
     "output_type": "stream",
     "text": [
      "Lowest Pixel (y axis): (182, 321)\n",
      "Highest Pixel (y axis): (346, 40)\n",
      "Right-Most Pixel (highest x coordinate): (832, 310)\n"
     ]
    },
    {
     "data": {
      "image/png": "[encoded data removed]",
      "text/plain": [
       "<Figure size 432x288 with 1 Axes>"
      ]
     },
     "metadata": {
      "needs_background": "light"
     },
     "output_type": "display_data"
    }
   ],
   "source": [
    "image_path = 'pascal_voc_datasets/VOCdevkit/PlotsEnchanced_Original_NoAugmentation/JPEGImages/'\n",
    "img_name = 'image121387'\n",
    "CUSTOM_CLASSES = {\"name\": 1, \"value\": 2, \"x-axis\": 3, \"y-axis\": 4, \"plot\":5}\n",
    "\n",
    "img = Image.open(image_path + img_name + '.jpg')\n",
    "orig_width, orig_height = img.size                                   # Store the original image dimensions\n",
    "\n",
    "# Process the image\n",
    "img_processed = data_transforms(img)\n",
    "\n",
    "# Calculate the scale ratios\n",
    "new_width, new_height = img_processed.shape[1], img_processed.shape[2]\n",
    "\n",
    "# Calculate the scale ratios\n",
    "if orig_width <= orig_height:\n",
    "    new_height = 512\n",
    "    new_width = int(orig_width * (new_height / orig_height))\n",
    "else:\n",
    "    new_width = 512\n",
    "    new_height = int(orig_height * (new_width / orig_width))\n",
    "    \n",
    "width_ratio = new_width / orig_width\n",
    "height_ratio = new_height / orig_height\n",
    "\n",
    "with torch.no_grad():\n",
    "    prediction = model([img_processed])\n",
    "\n",
    "# Scale bounding boxes back to original image size\n",
    "for box in prediction[0]['boxes']:\n",
    "    box[0] *= (1 / width_ratio)\n",
    "    box[2] *= (1 / width_ratio)\n",
    "    box[1] *= (1 / height_ratio)\n",
    "    box[3] *= (1 / height_ratio)\n",
    "\n",
    "# Debugging\n",
    "#print(prediction[0]['boxes'])\n",
    "print(prediction[0]['scores'])\n",
    "\n",
    "\n",
    "results = {}                                 # Dictionary to store the results\n",
    "label5_image = None                          # Variable to store the cropped image for label 5\n",
    "\n",
    "reader = easyocr.Reader(lang_list=['en'])       # Create a reader to recognize the English language\n",
    "\n",
    "for box, label, score in zip(prediction[0]['boxes'], prediction[0]['labels'], prediction[0]['scores']):\n",
    "    if label >= 1 and label <= 4 and score > 0.7:                                                 # Check if the score is above 0.7 and label is between 1 and 4\n",
    "        xmin, ymin, xmax, ymax = [int(i) for i in box]                                            # Convert box coordinates to integers\n",
    "        cropped_image = img.crop((xmin, ymin, xmax, ymax))                                        # Crop the image\n",
    "        bw_img = cropped_image.convert(\"L\")                                                       # Convert the cropped image to grayscale (black and white)\n",
    "        bw_img_array = np.array(bw_img)\n",
    "\n",
    "        # Resize the image (e.g., double the size)\n",
    "        resized_img = cv2.resize(bw_img_array, (0,0), fx=2, fy=2, interpolation = cv2.INTER_CUBIC)\n",
    "\n",
    "        # Contrast Enhancement\n",
    "        clahe = cv2.createCLAHE(clipLimit=1.5, tileGridSize=(32, 32))\n",
    "        enhanced_img = clahe.apply(resized_img)\n",
    "\n",
    "        # Apply Otsu's thresholding\n",
    "        _, thresh_img = cv2.threshold(enhanced_img, 20, 50, cv2.THRESH_BINARY + cv2.THRESH_OTSU)\n",
    "        \n",
    "        # Assuming resized_img has been defined as in your snippet\n",
    "        plt.figure(figsize=(10, 10))\n",
    "        plt.imshow(thresh_img, cmap='gray')\n",
    "        plt.title('Image')\n",
    "        plt.axis('off')  # To turn off the axis\n",
    "        plt.show()\n",
    "\n",
    "        result = reader.readtext(thresh_img, detail = 0)\n",
    "        text = ','.join(result)\n",
    "        text = re.sub('\\n+', ',', text)                                                           # Replace one or more consecutive newline characters with a single comma\n",
    "        label_name = [name for name, id in CUSTOM_CLASSES.items() if id == label][0]              # Find the label name using the CUSTOM_CLASSES dictionary\n",
    "        results[label_name] = text                                                                # Store the result in the dictionary\n",
    "        \n",
    "    elif label == 5 and score > 0.8:                                                              # Check if the label is 5 and the score is above 0.7\n",
    "        xmin, ymin, xmax, ymax = [int(i) for i in box]                                            # Convert box coordinates to integers\n",
    "        label5_image = img.crop((xmin, ymin, xmax, ymax))                                         # Crop the image for label 5\n",
    "\n",
    "# The results dictionary now contains the extracted text for labels 1 to 4\n",
    "print(results)\n",
    "\n",
    "#############################################################################################################################\n",
    "plt.imshow(label5_image)\n",
    "plt.title(\"original plot\")\n",
    "plt.axis('off')\n",
    "plt.show()\n",
    "    \n",
    "# Plot processing\n",
    "bw_label5_img = label5_image.convert(\"L\")                                                       # Convert the cropped image to grayscale (black and white)\n",
    "bw_label5_img_array = np.array(bw_label5_img)\n",
    "\n",
    "# Apply Gaussian blur to reduce noise and improve the result of Canny edge detection\n",
    "blurred_label5_img = cv2.GaussianBlur(bw_label5_img_array, (3, 3), 0)\n",
    "\n",
    "# First, apply a binary threshold on the image\n",
    "_, thresh_label5_img = cv2.threshold(blurred_label5_img, 0, 255, cv2.THRESH_BINARY + cv2.THRESH_OTSU)\n",
    "\n",
    "inverted_label5_img = cv2.bitwise_not(thresh_label5_img)\n",
    "\n",
    "# Define a kernel for the erosion (a 3x3 square is common)\n",
    "kernel = np.ones((2,2), np.uint8)\n",
    "eroded_label5_img = cv2.erode(inverted_label5_img, kernel, iterations = 1)                  # Apply the erosion\n",
    "closed_label5_img = cv2.morphologyEx(eroded_label5_img, cv2.MORPH_CLOSE, kernel)\n",
    "\n",
    "plt.imshow(closed_label5_img, cmap='gray')\n",
    "plt.title('Postprocessed Image')\n",
    "plt.axis('off')\n",
    "plt.show()\n",
    "\n",
    "######################################################################################################################\n",
    "# Find the contours\n",
    "contours, hierarchy = cv2.findContours(closed_label5_img, cv2.RETR_TREE, cv2.CHAIN_APPROX_SIMPLE)\n",
    "\n",
    "# Calculate the perimeter for each contour and find the index of the longest one\n",
    "max_length = 0\n",
    "longest_contour_index = 0\n",
    "for i, contour in enumerate(contours):\n",
    "    length = cv2.arcLength(contour, True) # The 'True' argument indicates that the contour is closed\n",
    "    if length > max_length:\n",
    "        max_length = length\n",
    "        longest_contour_index = i\n",
    "        \n",
    "# Extract the longest contour\n",
    "longest_contour = contours[longest_contour_index]\n",
    "\n",
    "# Create a blank image to draw the longest contour\n",
    "output_image = np.zeros_like(closed_label5_img)\n",
    "\n",
    "# Draw the longest contour on the output image\n",
    "cv2.drawContours(output_image, [longest_contour], -1, (255, 255, 255), 2)\n",
    "\n",
    "# Show the image with the drawn contour using Matplotlib\n",
    "plt.imshow(output_image, cmap='gray')\n",
    "plt.title('Longest Contour')\n",
    "plt.axis('off')\n",
    "plt.show()\n",
    "\n",
    "\n",
    "######################################################################################################################\n",
    "# Find the lowest, highest, and right-most pixels\n",
    "lowest_pixel = tuple(longest_contour[longest_contour[:, :, 1].argmax()][0])\n",
    "highest_pixel = tuple(longest_contour[longest_contour[:, :, 1].argmin()][0])\n",
    "right_most_pixel = tuple(longest_contour[longest_contour[:, :, 0].argmax()][0])\n",
    "\n",
    "# Print the coordinates\n",
    "print(\"Lowest Pixel (y axis):\", lowest_pixel)\n",
    "print(\"Highest Pixel (y axis):\", highest_pixel)\n",
    "print(\"Right-Most Pixel (highest x coordinate):\", right_most_pixel)\n",
    "\n",
    "# Create a blank image to draw the identified pixels\n",
    "pixel_image = np.zeros_like(closed_label5_img)\n",
    "\n",
    "# Draw the identified pixels on the blank image using a white color (255)\n",
    "cv2.circle(pixel_image, lowest_pixel, radius=1, color=255, thickness=-1)\n",
    "cv2.circle(pixel_image, highest_pixel, radius=1, color=255, thickness=-1)\n",
    "cv2.circle(pixel_image, right_most_pixel, radius=1, color=255, thickness=-1)\n",
    "\n",
    "# Show the image with the drawn pixels using Matplotlib\n",
    "plt.imshow(pixel_image, cmap='gray')\n",
    "plt.title('Identified Pixels')\n",
    "plt.axis('off')\n",
    "plt.show()"
   ]
  },
  {
   "cell_type": "code",
   "execution_count": 9,
   "id": "4ee8e72a",
   "metadata": {},
   "outputs": [
    {
     "name": "stdout",
     "output_type": "stream",
     "text": [
      "tensor([1.0000, 1.0000, 1.0000, 1.0000, 1.0000])\n",
      "Looking for C:\\Users\\Ciprian-Florin Ifrim\\.keras-ocr\\craft_mlt_25k.h5\n",
      "Looking for C:\\Users\\Ciprian-Florin Ifrim\\.keras-ocr\\crnn_kurapan.h5\n"
     ]
    },
    {
     "data": {
      "image/png": "[encoded data removed]",
      "text/plain": [
       "<Figure size 720x720 with 1 Axes>"
      ]
     },
     "metadata": {
      "needs_background": "light"
     },
     "output_type": "display_data"
    },
    {
     "name": "stdout",
     "output_type": "stream",
     "text": [
      "1/1 [==============================] - 0s 386ms/step\n",
      "WARNING:tensorflow:5 out of the last 10 calls to <function Model.make_predict_function.<locals>.predict_function at 0x0000021900F5E0C0> triggered tf.function retracing. Tracing is expensive and the excessive number of tracings could be due to (1) creating @tf.function repeatedly in a loop, (2) passing tensors with different shapes, (3) passing Python objects instead of tensors. For (1), please define your @tf.function outside of the loop. For (2), @tf.function has reduce_retracing=True option that can avoid unnecessary retracing. For (3), please refer to https://www.tensorflow.org/guide/function#controlling_retracing and https://www.tensorflow.org/api_docs/python/tf/function for  more details.\n",
      "1/1 [==============================] - 1s 920ms/step\n"
     ]
    },
    {
     "data": {
      "image/png": "[encoded data removed]",
      "text/plain": [
       "<Figure size 720x720 with 1 Axes>"
      ]
     },
     "metadata": {
      "needs_background": "light"
     },
     "output_type": "display_data"
    },
    {
     "name": "stdout",
     "output_type": "stream",
     "text": [
      "WARNING:tensorflow:6 out of the last 11 calls to <function Model.make_predict_function.<locals>.predict_function at 0x0000021900F5D120> triggered tf.function retracing. Tracing is expensive and the excessive number of tracings could be due to (1) creating @tf.function repeatedly in a loop, (2) passing tensors with different shapes, (3) passing Python objects instead of tensors. For (1), please define your @tf.function outside of the loop. For (2), @tf.function has reduce_retracing=True option that can avoid unnecessary retracing. For (3), please refer to https://www.tensorflow.org/guide/function#controlling_retracing and https://www.tensorflow.org/api_docs/python/tf/function for  more details.\n",
      "1/1 [==============================] - 0s 449ms/step\n",
      "1/1 [==============================] - 0s 88ms/step\n"
     ]
    },
    {
     "data": {
      "image/png": "[encoded data removed]",
      "text/plain": [
       "<Figure size 720x720 with 1 Axes>"
      ]
     },
     "metadata": {
      "needs_background": "light"
     },
     "output_type": "display_data"
    },
    {
     "name": "stdout",
     "output_type": "stream",
     "text": [
      "1/1 [==============================] - 0s 167ms/step\n",
      "1/1 [==============================] - 0s 244ms/step\n"
     ]
    },
    {
     "data": {
      "image/png": "[encoded data removed]",
      "text/plain": [
       "<Figure size 720x720 with 1 Axes>"
      ]
     },
     "metadata": {
      "needs_background": "light"
     },
     "output_type": "display_data"
    },
    {
     "name": "stdout",
     "output_type": "stream",
     "text": [
      "1/1 [==============================] - 0s 164ms/step\n",
      "1/1 [==============================] - 0s 102ms/step\n",
      "{'y-axis': 'ts,125,o75,o,5,o,25', 'value': 's01217,usd,t2481700,all', 'x-axis': '22,sep,2z,nov,2z,25,mar,22,may,22,jul,jan,25,mar,z5,may,jul,25', 'name': 'erzurumspor,token,price,chart,usdy'}\n"
     ]
    }
   ],
   "source": [
    "image_path = 'pascal_voc_datasets/VOCdevkit/PlotsEnchanced_Original_NoAugmentation/JPEGImages/'\n",
    "img_name = 'image117687'\n",
    "CUSTOM_CLASSES = {\"name\": 1, \"value\": 2, \"x-axis\": 3, \"y-axis\": 4, \"plot\":5}\n",
    "\n",
    "img = Image.open(image_path + img_name + '.jpg')\n",
    "orig_width, orig_height = img.size                                   # Store the original image dimensions\n",
    "\n",
    "# Process the image\n",
    "img_processed = data_transforms(img)\n",
    "\n",
    "# Calculate the scale ratios\n",
    "new_width, new_height = img_processed.shape[1], img_processed.shape[2]\n",
    "\n",
    "# Calculate the scale ratios\n",
    "if orig_width <= orig_height:\n",
    "    new_height = 512\n",
    "    new_width = int(orig_width * (new_height / orig_height))\n",
    "else:\n",
    "    new_width = 512\n",
    "    new_height = int(orig_height * (new_width / orig_width))\n",
    "    \n",
    "width_ratio = new_width / orig_width\n",
    "height_ratio = new_height / orig_height\n",
    "\n",
    "with torch.no_grad():\n",
    "    prediction = model([img_processed])\n",
    "\n",
    "# Scale bounding boxes back to original image size\n",
    "for box in prediction[0]['boxes']:\n",
    "    box[0] *= (1 / width_ratio)\n",
    "    box[2] *= (1 / width_ratio)\n",
    "    box[1] *= (1 / height_ratio)\n",
    "    box[3] *= (1 / height_ratio)\n",
    "\n",
    "# Debugging\n",
    "#print(prediction[0]['boxes'])\n",
    "print(prediction[0]['scores'])\n",
    "\n",
    "\n",
    "# Create a recognition pipeline\n",
    "pipeline = keras_ocr.pipeline.Pipeline()\n",
    "\n",
    "results = {}                                 # Dictionary to store the results\n",
    "label5_image = None                          # Variable to store the cropped image for label 5\n",
    "\n",
    "for box, label, score in zip(prediction[0]['boxes'], prediction[0]['labels'], prediction[0]['scores']):\n",
    "    if label >= 1 and label <= 4 and score > 0.7:\n",
    "        xmin, ymin, xmax, ymax = [int(i) for i in box]\n",
    "        cropped_image = img.crop((xmin, ymin, xmax, ymax))\n",
    "        cropped_image_array = np.array(cropped_image)\n",
    "\n",
    "        plt.figure(figsize=(10, 10))\n",
    "        plt.imshow(thresh_img, cmap='gray')\n",
    "        plt.title('Image')\n",
    "        plt.axis('off')\n",
    "        plt.show()\n",
    "\n",
    "        result = pipeline.recognize([cropped_image_array])[0]\n",
    "        text = ','.join([word[0] for word in result])\n",
    "        text = re.sub('\\n+', ',', text)\n",
    "        label_name = [name for name, id in CUSTOM_CLASSES.items() if id == label][0]\n",
    "        results[label_name] = text\n",
    "        \n",
    "    elif label == 5 and score > 0.8:\n",
    "        xmin, ymin, xmax, ymax = [int(i) for i in box]\n",
    "        label5_image = img.crop((xmin, ymin, xmax, ymax))\n",
    "\n",
    "print(results)"
   ]
  },
  {
   "cell_type": "code",
   "execution_count": null,
   "id": "3bad1627",
   "metadata": {},
   "outputs": [],
   "source": [
    "# Draw the bounding boxes on the image\n",
    "fig, ax = plt.subplots(1, figsize=(17, 15))  # Adjust the size as needed. Here, the figure size is 12x12 inches.\n",
    "ax.imshow(img)\n",
    "\n",
    "colors = ['r', 'g', 'b', 'y', 'm']\n",
    "\n",
    "# We will draw all the boxes with a score above 0.7\n",
    "for box, label, score in zip(prediction[0]['boxes'], prediction[0]['labels'], prediction[0]['scores']):\n",
    "    if score > 0.7:  # Check if the score is above 0.9\n",
    "        xmin, ymin, xmax, ymax = box.numpy()  # Move the box coordinates to the CPU\n",
    "        rect = patches.Rectangle((xmin, ymin), (xmax-xmin), (ymax-ymin), edgecolor=colors[label%4], facecolor='none')\n",
    "        ax.add_patch(rect)\n",
    "\n",
    "plt.show()"
   ]
  }
 ],
 "metadata": {
  "kernelspec": {
   "display_name": "pytorch-cude-env",
   "language": "python",
   "name": "pytorch-cude-env"
  },
  "language_info": {
   "codemirror_mode": {
    "name": "ipython",
    "version": 3
   },
   "file_extension": ".py",
   "mimetype": "text/x-python",
   "name": "python",
   "nbconvert_exporter": "python",
   "pygments_lexer": "ipython3",
   "version": "3.11.4"
  }
 },
 "nbformat": 4,
 "nbformat_minor": 5
}
