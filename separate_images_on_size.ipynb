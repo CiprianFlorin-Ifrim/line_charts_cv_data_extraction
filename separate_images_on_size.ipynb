{
 "cells": [
  {
   "cell_type": "code",
   "execution_count": 2,
   "id": "9f197992",
   "metadata": {},
   "outputs": [
    {
     "name": "stderr",
     "output_type": "stream",
     "text": [
      "C:\\Users\\Ciprian-Florin Ifrim\\AppData\\Local\\Temp\\ipykernel_11676\\1647789217.py:8: DeprecationWarning: Importing display from IPython.core.display is deprecated since IPython 7.14, please import from IPython display\n",
      "  from IPython.core.display import display, HTML\n"
     ]
    },
    {
     "data": {
      "text/html": [
       "<style>.container { width:100% !important; }</style>"
      ],
      "text/plain": [
       "<IPython.core.display.HTML object>"
      ]
     },
     "metadata": {},
     "output_type": "display_data"
    }
   ],
   "source": [
    "import os\n",
    "from PIL import Image\n",
    "from collections import defaultdict\n",
    "import shutil\n",
    "from tqdm import tqdm\n",
    "\n",
    "#-------------------------------------------------------------------------------------JUPYTER NOTEBOOK SETTINGS-------------------------------------------------------------------------------------\n",
    "from IPython.core.display import display, HTML                                    \n",
    "display(HTML(\"<style>.container { width:100% !important; }</style>\"))     "
   ]
  },
  {
   "cell_type": "code",
   "execution_count": 4,
   "id": "6a4887e4",
   "metadata": {},
   "outputs": [
    {
     "name": "stderr",
     "output_type": "stream",
     "text": [
      "Processing images: 100%|██████████████████████████████████████████████████████████████████| 8905/8905 [00:16<00:00, 525.79image/s]\n"
     ]
    },
    {
     "name": "stdout",
     "output_type": "stream",
     "text": [
      "Size: (783, 575), Count: 7300\n",
      "Size: (783, 599), Count: 1450\n",
      "Size: (783, 675), Count: 60\n",
      "Size: (783, 651), Count: 35\n",
      "Size: (783, 603), Count: 20\n",
      "Size: (783, 627), Count: 35\n",
      "Size: (783, 596), Count: 5\n"
     ]
    },
    {
     "name": "stderr",
     "output_type": "stream",
     "text": [
      "Copying 783x575 images: 100%|████████████████████████████████████████████████████████████| 8905/8905 [00:02<00:00, 3507.60image/s]\n",
      "Copying 783x599 images: 100%|███████████████████████████████████████████████████████████| 8905/8905 [00:00<00:00, 10378.35image/s]\n",
      "Copying 783x675 images: 100%|███████████████████████████████████████████████████████████| 8905/8905 [00:00<00:00, 21606.12image/s]\n",
      "Copying 783x651 images: 100%|███████████████████████████████████████████████████████████| 8905/8905 [00:00<00:00, 21686.40image/s]\n",
      "Copying 783x603 images: 100%|███████████████████████████████████████████████████████████| 8905/8905 [00:00<00:00, 21859.60image/s]\n",
      "Copying 783x627 images: 100%|███████████████████████████████████████████████████████████| 8905/8905 [00:00<00:00, 22569.81image/s]\n",
      "Copying 783x596 images: 100%|███████████████████████████████████████████████████████████| 8905/8905 [00:00<00:00, 22630.43image/s]\n"
     ]
    }
   ],
   "source": [
    "image_dir = 'pascal_voc_datasets/VOCdevkit/PlotsEnchanced_NoAugmentation/listing_warning' \n",
    "\n",
    "# Get a list of all image file paths\n",
    "image_files = [os.path.join(image_dir, file) for file in os.listdir(image_dir) if file.endswith(('.png', '.jpg', '.jpeg'))]\n",
    "\n",
    "# Initialize a dictionary to hold counts\n",
    "size_counts = defaultdict(int)\n",
    "\n",
    "# Go through all image files and get the resolutions\n",
    "for image_file in tqdm(image_files, desc='Processing images', unit='image'):\n",
    "    # Open the image file\n",
    "    img = Image.open(image_file)\n",
    "    # Get the resolution of the image\n",
    "    resolution = img.size\n",
    "    # Increase the count for this size\n",
    "    size_counts[resolution] += 1\n",
    "    # Close the image file after processing\n",
    "    img.close()\n",
    "\n",
    "# Print the results\n",
    "for size, count in size_counts.items():\n",
    "    print(f'Size: {size}, Count: {count}')\n",
    "\n",
    "# Create folders and move images to appropriate folders\n",
    "for resolution, count in size_counts.items():\n",
    "    folder_name = f'{resolution[0]}x{resolution[1]}'\n",
    "    folder_path = os.path.join(image_dir, folder_name)\n",
    "    os.makedirs(folder_path, exist_ok=True)\n",
    "\n",
    "    # Move images with this resolution to the appropriate folder\n",
    "    for image_file in tqdm(image_files, desc=f'Copying {folder_name} images', unit='image'):\n",
    "        with Image.open(image_file) as img:\n",
    "            if img.size == resolution:\n",
    "                image_name = os.path.basename(image_file)\n",
    "                new_image_path = os.path.join(folder_path, image_name)\n",
    "                shutil.copy(image_file, new_image_path)\n",
    "                #os.unlink(image_file)  # After copying, remove the original file"
   ]
  }
 ],
 "metadata": {
  "kernelspec": {
   "display_name": "pytorch-cude-env",
   "language": "python",
   "name": "pytorch-cude-env"
  },
  "language_info": {
   "codemirror_mode": {
    "name": "ipython",
    "version": 3
   },
   "file_extension": ".py",
   "mimetype": "text/x-python",
   "name": "python",
   "nbconvert_exporter": "python",
   "pygments_lexer": "ipython3",
   "version": "3.11.4"
  }
 },
 "nbformat": 4,
 "nbformat_minor": 5
}
