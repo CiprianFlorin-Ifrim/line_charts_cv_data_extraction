{
 "cells": [
  {
   "cell_type": "code",
   "execution_count": 7,
   "id": "a2579b8b",
   "metadata": {},
   "outputs": [],
   "source": [
    "import pandas as pd\n",
    "\n",
    "def dict_to_csv(data_dict, file_name):\n",
    "    \"\"\"\n",
    "    Function to convert dictionary to a CSV file following the Tidy Data principles.\n",
    "\n",
    "    :param data_dict: A dictionary containing the data to be written to CSV.\n",
    "    :param file_name: The name of the CSV file to be created.\n",
    "    \"\"\"\n",
    "\n",
    "    # Convert dictionary to DataFrame\n",
    "    df = pd.DataFrame(data_dict)\n",
    "\n",
    "    # Apply Tidy Data principles\n",
    "    # Each variable must have its own column.\n",
    "    # Each observation must have its own row.\n",
    "    # Each type of observational unit forms a table.\n",
    "    # In most cases, data in a dictionary are already in a tidy form\n",
    "    #df = df.melt(id_vars=[], value_vars=df.columns)\n",
    "\n",
    "    # Write DataFrame to CSV\n",
    "    df.to_csv(file_name, index=False)\n",
    "\n",
    "    \n",
    "if __name__ == \"__main__\":\n",
    "    # example dictionary used for testing\n",
    "    data_dict = {\n",
    "        'name': ['John', 'Anna', 'Peter', 'Linda'],\n",
    "        'age': [28, 22, 34, 41],\n",
    "        'city': ['New York', 'Los Angeles', 'Chicago', 'San Francisco']\n",
    "    }\n",
    "\n",
    "    dict_to_csv(data_dict, 'tidy_data.csv')"
   ]
  }
 ],
 "metadata": {
  "kernelspec": {
   "display_name": "Python 3 (ipykernel)",
   "language": "python",
   "name": "python3"
  },
  "language_info": {
   "codemirror_mode": {
    "name": "ipython",
    "version": 3
   },
   "file_extension": ".py",
   "mimetype": "text/x-python",
   "name": "python",
   "nbconvert_exporter": "python",
   "pygments_lexer": "ipython3",
   "version": "3.10.9"
  }
 },
 "nbformat": 4,
 "nbformat_minor": 5
}
