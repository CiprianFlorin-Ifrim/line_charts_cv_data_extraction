{
 "cells": [
  {
   "cell_type": "code",
   "execution_count": 2,
   "id": "76601e6a",
   "metadata": {},
   "outputs": [
    {
     "name": "stderr",
     "output_type": "stream",
     "text": [
      "C:\\Users\\Ciprian-Florin Ifrim\\AppData\\Local\\Temp\\ipykernel_4516\\1904069843.py:49: DeprecationWarning: Importing display from IPython.core.display is deprecated since IPython 7.14, please import from IPython display\n",
      "  from IPython.core.display import display, HTML\n"
     ]
    },
    {
     "data": {
      "text/html": [
       "<style>.container { width:100% !important; }</style>"
      ],
      "text/plain": [
       "<IPython.core.display.HTML object>"
      ]
     },
     "metadata": {},
     "output_type": "display_data"
    }
   ],
   "source": [
    "#---------------------------------------------------------------------------------------------------------------------------------------------------------------------------------------------------\n",
    "#---------------------------------------------------------------------------------------------LIBRARIES---------------------------------------------------------------------------------------------\n",
    "#---------------------------------------------------------------------------------------------------------------------------------------------------------------------------------------------------\n",
    "import tensorflow as tf\n",
    "from tensorflow.keras.datasets            import mnist\n",
    "from tensorflow.keras.utils               import to_categorical\n",
    "from tensorflow.keras.models              import Sequential\n",
    "from tensorflow.keras.layers              import Conv2D, MaxPooling2D, Dense, Flatten, BatchNormalization, Dropout\n",
    "from tensorflow.keras.optimizers          import SGD\n",
    "from tensorflow.keras.preprocessing.image import ImageDataGenerator\n",
    "\n",
    "#----------------------------------------------------------------------------------------------METRICS----------------------------------------------------------------------------------------------\n",
    "from sklearn.model_selection import KFold\n",
    "from sklearn.metrics         import accuracy_score\n",
    "from sklearn.metrics         import precision_score\n",
    "from sklearn.metrics         import recall_score\n",
    "from sklearn.metrics         import f1_score\n",
    "from sklearn.metrics         import cohen_kappa_score\n",
    "from sklearn.metrics         import roc_auc_score\n",
    "from sklearn.metrics         import confusion_matrix, ConfusionMatrixDisplay\n",
    "\n",
    "#------------------------------------------------------------------------------------------COMPUTER VISION------------------------------------------------------------------------------------------\n",
    "import glob                                                                                                        #finds all the pathnames matching a specified pattern according to unix shell\n",
    "import cv2  \n",
    "from PIL import Image                                                                                              #import pillow library to use OpenCV images with tkinter\n",
    "from PIL import ImageTk                                                                                            \n",
    "from scipy import ndimage \n",
    "\n",
    "\n",
    "#---------------------------------------------------------------------------------------CUDA RESOURCE CONTROL---------------------------------------------------------------------------------------\n",
    "#from numba import cuda\n",
    "\n",
    "#---------------------------------------------------------------------------------------STATISTICS & PLOTTING---------------------------------------------------------------------------------------\n",
    "import statistics\n",
    "from matplotlib import pyplot as plt\n",
    "\n",
    "#---------------------------------------------------------------------------------------------GENERAL-----------------------------------------------------------------------------------------------\n",
    "import pandas as pd   \n",
    "import numpy as np\n",
    "from numpy import mean\n",
    "from numpy import std\n",
    "import os\n",
    "import time                                                                                                        #provides various time-related functions\n",
    "import math                                                                                                        #provides access to the mathematical functions defined by the C standard\n",
    "import operator                                                                                                    #additional efficient python fucntions \n",
    "import csv  \n",
    "\n",
    "#-------------------------------------------------------------------------------------JUPYTER NOTEBOOK SETTINGS-------------------------------------------------------------------------------------\n",
    "from IPython.core.display import display, HTML                                    \n",
    "display(HTML(\"<style>.container { width:100% !important; }</style>\"))     "
   ]
  },
  {
   "cell_type": "code",
   "execution_count": 3,
   "id": "3220e54d",
   "metadata": {},
   "outputs": [
    {
     "name": "stdout",
     "output_type": "stream",
     "text": [
      "[name: \"/device:CPU:0\"\n",
      "device_type: \"CPU\"\n",
      "memory_limit: 268435456\n",
      "locality {\n",
      "}\n",
      "incarnation: 5430266669142073437\n",
      "xla_global_id: -1\n",
      ", name: \"/device:GPU:0\"\n",
      "device_type: \"GPU\"\n",
      "memory_limit: 22385000448\n",
      "locality {\n",
      "  bus_id: 1\n",
      "  links {\n",
      "  }\n",
      "}\n",
      "incarnation: 1354809133094524340\n",
      "physical_device_desc: \"device: 0, name: NVIDIA GeForce RTX 4090, pci bus id: 0000:01:00.0, compute capability: 8.9\"\n",
      "xla_global_id: 416903419\n",
      "]\n",
      "INFO:tensorflow:Mixed precision compatibility check (mixed_float16): OK\n",
      "Your GPU will likely run quickly with dtype policy mixed_float16 as it has compute capability of at least 7.0. Your GPU: NVIDIA GeForce RTX 4090, compute capability 8.9\n",
      "Compute dtype: float16\n",
      "Variable dtype: float32\n"
     ]
    }
   ],
   "source": [
    "#---------------------------------------------------------------------------------------------------------------------------------------------------------------------------------------------------\n",
    "#-----------------------------------------------------------------------------------------DEVICE MANAGEMENT-----------------------------------------------------------------------------------------\n",
    "#---------------------------------------------------------------------------------------------------------------------------------------------------------------------------------------------------\n",
    "\n",
    "#---------------------------------------------------------------------------------------------LIBRARIES---------------------------------------------------------------------------------------------\n",
    "from tensorflow.python.client import device_lib\n",
    "from tensorflow.keras import mixed_precision\n",
    "\n",
    "# list available devices\n",
    "print(device_lib.list_local_devices())\n",
    "\n",
    "#------------------------------------------------------------------------------TENSOR CORES - FLOAT PRECISION CONTROL-------------------------------------------------------------------------------\n",
    "# GPU performance optimisations - only works with XLA devices on non-windows machines\n",
    "tf.function(jit_compile=True)                                   \n",
    "\n",
    "# makes use of the tensor cores available on RTX cards\n",
    "policy = mixed_precision.Policy('mixed_float16')\n",
    "mixed_precision.set_global_policy(policy)\n",
    "\n",
    "# print compute and variable precision \n",
    "print('Compute dtype: %s' % policy.compute_dtype)\n",
    "print('Variable dtype: %s' % policy.variable_dtype)"
   ]
  },
  {
   "cell_type": "code",
   "execution_count": null,
   "id": "2e73d165",
   "metadata": {},
   "outputs": [],
   "source": []
  }
 ],
 "metadata": {
  "kernelspec": {
   "display_name": "cuda-env",
   "language": "python",
   "name": "cuda-env"
  },
  "language_info": {
   "codemirror_mode": {
    "name": "ipython",
    "version": 3
   },
   "file_extension": ".py",
   "mimetype": "text/x-python",
   "name": "python",
   "nbconvert_exporter": "python",
   "pygments_lexer": "ipython3",
   "version": "3.9.17"
  }
 },
 "nbformat": 4,
 "nbformat_minor": 5
}
